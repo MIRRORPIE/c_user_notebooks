{
 "cells": [
  {
   "cell_type": "code",
   "execution_count": null,
   "metadata": {},
   "outputs": [],
   "source": []
  },
  {
   "cell_type": "code",
   "execution_count": null,
   "metadata": {},
   "outputs": [],
   "source": []
  },
  {
   "cell_type": "code",
   "execution_count": null,
   "metadata": {},
   "outputs": [],
   "source": [
    "import requests, sys, os\n",
    "from urllib import request\n",
    "from bs4 import BeautifulSoup\n",
    "def down(url,sl): \n",
    "    file_name = url.split('?')[1].split('&')[2].split('=')[1]+'_'+url.split('?')[1].split('&')[1].split('=')[1]\n",
    "    if sl==5:\n",
    "        file_name = 'lec'+url.split('?')[1].split('&')[2].split('=')[1]+'.pdf'\n",
    "    with open(file_name, \"wb\") as f:\n",
    "            print(\"Downloading %s\" % file_name)\n",
    "            res = requests.get(url , stream=True)\n",
    "            l = res.headers.get('content-length')\n",
    "            if l is None:\n",
    "                print(\"downloading...\")\n",
    "                f.write(res.content)\n",
    "            else:\n",
    "                dl = 0\n",
    "                l = int(l)\n",
    "                for data in res.iter_content(chunk_size=10240):\n",
    "                    dl += len(data)\n",
    "                    f.write(data)\n",
    "                    done=int(50*dl/l)\n",
    "                    sys.stdout.write(\"\\r[%s%s] %s%%\" % ('█' * done, ' ' * (50-done),(done*2)) )    \n",
    "                    sys.stdout.flush()\n",
    "link =\" https://nptel.ac.in/courses/nptel_download.php?subjectid=106106182\"\n",
    "link = str(input(\"Please enter NPTEL download_page URL : \")) \n",
    "print(\"Fetching URL...\")\n",
    "r = request.urlopen(link)\n",
    "bytecode = r.read()\n",
    "htmlstr = bytecode.decode()\n",
    "soup = BeautifulSoup(htmlstr, \"html.parser\")\n",
    "mp4=[] \n",
    "flv=[]\n",
    "f3gp=[]\n",
    "pdf=[]\n",
    "mp3=[]\n",
    "urls = soup.find_all('a', href=True)\n",
    "print(\"done.\") \n",
    "i=0 \n",
    "while i<len(urls):\n",
    "    if urls[i].text=='MP4 Download':\n",
    "        mp4.append(urls[i]['href'])\n",
    "    elif urls[i].text=='FLV Download':\n",
    "        flv.append(urls[i]['href'])\n",
    "    elif urls[i].text=='3GP Download':\n",
    "        f3gp.append(urls[i]['href'])\n",
    "    elif urls[i].text=='Download MP3':\n",
    "        mp3.append(urls[i]['href'])\n",
    "    elif urls[i].text=='English(PDF)':\n",
    "        pdf.append(urls[i]['href'])\n",
    "    else:\n",
    "        pass\n",
    "    i+=1\n",
    "print('[1]MP4 : %s files available \\n[2]FLV : %s files available \\n[3]3GP : %s files available \\n[4]MP3: %s files available \\n[5]PDF : %s files available' % (len(mp4), len(flv), len(f3gp),len(mp3),len(pdf)))\n",
    "sl=int(input('\\nplease choose file type(1/2/3/4/5) : '))\n",
    "path_loc=str(input(\"Enter Path : \"))\n",
    "if not os.path.exists(path_loc):\n",
    "    os.makedirs(path_loc)\n",
    "os.chdir(path_loc)\n",
    "lis=[mp4,flv,f3gp,mp3,pdf]\n",
    "for url in lis[sl-1]:\n",
    "    if sl!=5:\n",
    "        url=\"https://nptel.ac.in\"+url\n",
    "    down(url,sl)\n",
    "    print('file downloaded')\n",
    "\n",
    "\n",
    "\n"
   ]
  },
  {
   "cell_type": "code",
   "execution_count": null,
   "metadata": {},
   "outputs": [],
   "source": []
  },
  {
   "cell_type": "code",
   "execution_count": null,
   "metadata": {},
   "outputs": [],
   "source": []
  },
  {
   "cell_type": "code",
   "execution_count": null,
   "metadata": {},
   "outputs": [],
   "source": []
  },
  {
   "cell_type": "code",
   "execution_count": null,
   "metadata": {},
   "outputs": [],
   "source": []
  },
  {
   "cell_type": "code",
   "execution_count": null,
   "metadata": {},
   "outputs": [],
   "source": []
  },
  {
   "cell_type": "code",
   "execution_count": null,
   "metadata": {},
   "outputs": [],
   "source": []
  },
  {
   "cell_type": "markdown",
   "metadata": {},
   "source": [
    "# Mywork----------------------------->"
   ]
  },
  {
   "cell_type": "code",
   "execution_count": 2,
   "metadata": {},
   "outputs": [
    {
     "name": "stdout",
     "output_type": "stream",
     "text": [
      "Please enter NPTEL download_page URL : https://nptel.ac.in/courses/nptel_download.php?subjectid=106106182\n",
      "Fetching URL...\n",
      "Done.\n",
      "[1]MP4 : 1 files available \n",
      "[2]FLV : 1 files available \n",
      "[3]3GP : 1 files available \n",
      "[4]MP3 : 0 files available \n",
      "[5]PDF : 0 files available\n",
      "\n",
      "Please choose file type(1/2/3/4/5) : 6\n",
      "Enter Path : 5\n"
     ]
    },
    {
     "ename": "IndexError",
     "evalue": "list index out of range",
     "output_type": "error",
     "traceback": [
      "\u001b[1;31m---------------------------------------------------------------------------\u001b[0m",
      "\u001b[1;31mIndexError\u001b[0m                                Traceback (most recent call last)",
      "\u001b[1;32m<ipython-input-2-b54042a943a8>\u001b[0m in \u001b[0;36m<module>\u001b[1;34m\u001b[0m\n\u001b[0;32m     74\u001b[0m \u001b[1;33m\u001b[0m\u001b[0m\n\u001b[0;32m     75\u001b[0m \u001b[0mlis\u001b[0m\u001b[1;33m=\u001b[0m\u001b[1;33m[\u001b[0m\u001b[0mmp4\u001b[0m\u001b[1;33m,\u001b[0m\u001b[0mflv\u001b[0m\u001b[1;33m,\u001b[0m\u001b[0mf3gp\u001b[0m\u001b[1;33m,\u001b[0m\u001b[0mmp3\u001b[0m\u001b[1;33m,\u001b[0m\u001b[0mpdf\u001b[0m\u001b[1;33m]\u001b[0m\u001b[1;33m\u001b[0m\u001b[1;33m\u001b[0m\u001b[0m\n\u001b[1;32m---> 76\u001b[1;33m \u001b[1;32mfor\u001b[0m \u001b[0murl\u001b[0m \u001b[1;32min\u001b[0m \u001b[0mlis\u001b[0m\u001b[1;33m[\u001b[0m\u001b[0msl\u001b[0m\u001b[1;33m-\u001b[0m\u001b[1;36m1\u001b[0m\u001b[1;33m]\u001b[0m\u001b[1;33m:\u001b[0m\u001b[1;33m\u001b[0m\u001b[1;33m\u001b[0m\u001b[0m\n\u001b[0m\u001b[0;32m     77\u001b[0m     \u001b[1;32mif\u001b[0m \u001b[0msl\u001b[0m\u001b[1;33m!=\u001b[0m\u001b[1;36m5\u001b[0m\u001b[1;33m:\u001b[0m\u001b[1;33m\u001b[0m\u001b[1;33m\u001b[0m\u001b[0m\n\u001b[0;32m     78\u001b[0m         \u001b[0murl\u001b[0m\u001b[1;33m=\u001b[0m\u001b[1;34m\"https://nptel.ac.in\"\u001b[0m\u001b[1;33m+\u001b[0m\u001b[0murl\u001b[0m\u001b[1;33m\u001b[0m\u001b[1;33m\u001b[0m\u001b[0m\n",
      "\u001b[1;31mIndexError\u001b[0m: list index out of range"
     ]
    }
   ],
   "source": [
    "\"\"\"\n",
    "Do this before running this:\n",
    "[1] : pip install requests\n",
    "[2] : pip install bs4\n",
    "[3] : pip install urllib\n",
    "\n",
    "Run this in console.\n",
    "\"\"\"\n",
    "\n",
    "import requests, sys, os\n",
    "from urllib.request import urlopen\n",
    "from bs4 import BeautifulSoup\n",
    "\n",
    "\n",
    "def down(url,sl): \n",
    "    if(sl != 5):\n",
    "        file_name = url.split('?')[1].split('&')[1].split('=')[1].split('.')[0] + \"_\" + url.split('?')[1].split('&')[2].split('=')[1] + \".\" + url.split('?')[1].split('&')[1].split('=')[1].split('.')[1]\n",
    "    else:\n",
    "        file_name = 'Lec'+url.split('?')[1].split('&')[2].split('=')[1]+'.pdf'\n",
    "    \n",
    "    with open(file_name, \"wb\") as f:\n",
    "            print(\"Downloading %s\" % file_name)\n",
    "            res = requests.get(url , stream=True)\n",
    "            l = res.headers.get('content-length')\n",
    "            if l is None:\n",
    "                print(\"Downloading...\")\n",
    "                f.write(res.content)\n",
    "            else:\n",
    "                dl = 0\n",
    "                l = int(l)\n",
    "                for data in res.iter_content(chunk_size=10240):\n",
    "                    dl += len(data)\n",
    "                    f.write(data)\n",
    "                    done=int(50*dl/l)\n",
    "                    sys.stdout.write(\"\\r[%s%s] %s%%\" % ('█' * done, ' ' * (50-done),(done*2)) )    \n",
    "                    sys.stdout.flush()\n",
    "\n",
    "#link = \"https://nptel.ac.in/courses/nptel_download.php?subjectid=106106182\"\n",
    "link = str(input(\"Please enter NPTEL download_page URL : \")) \n",
    "print(\"Fetching URL...\")\n",
    "page = urlopen(link)\n",
    "soup = BeautifulSoup(page.read(),features=\"html.parser\")\n",
    "urls = soup.find_all('a', href=True)\n",
    "print(\"Done.\")\n",
    "\n",
    "mp4=[] \n",
    "flv=[]\n",
    "f3gp=[]\n",
    "pdf=[]\n",
    "mp3=[]\n",
    "i=0 \n",
    "while(i<len(urls)):\n",
    "    if(urls[i].text=='MP4 Download'):\n",
    "        mp4.append(urls[i]['href'])\n",
    "    elif(urls[i].text=='FLV Download'):\n",
    "        flv.append(urls[i]['href'])\n",
    "    elif(urls[i].text=='3GP Download'):\n",
    "        f3gp.append(urls[i]['href'])\n",
    "    elif(urls[i].text=='Download MP3'):\n",
    "        mp3.append(urls[i]['href'])\n",
    "    elif(urls[i].text=='English(PDF)'):\n",
    "        pdf.append(urls[i]['href'])\n",
    "    else:\n",
    "        pass\n",
    "    i+=1\n",
    "    \n",
    "print('[1]MP4 : %s files available \\n[2]FLV : %s files available \\n[3]3GP : %s files available \\n[4]MP3 : %s files available \\n[5]PDF : %s files available' % (len(mp4), len(flv), len(f3gp),len(mp3),len(pdf)))\n",
    "sl = int(input('\\nPlease choose file type(1/2/3/4/5) : '))\n",
    "path_loc = str(input(\"Enter Path : \"))\n",
    "\n",
    "if not os.path.exists(path_loc):\n",
    "    os.makedirs(path_loc)\n",
    "os.chdir(path_loc)\n",
    "\n",
    "lis=[mp4,flv,f3gp,mp3,pdf]\n",
    "for url in lis[sl-1]:\n",
    "    if sl!=5:\n",
    "        url=\"https://nptel.ac.in\"+url\n",
    "    down(url,sl)\n",
    "    print(' File downloaded')\n",
    "else:\n",
    "    print('█'*15, \"All files downloaded\", '█'*14)"
   ]
  },
  {
   "cell_type": "code",
   "execution_count": null,
   "metadata": {},
   "outputs": [],
   "source": []
  },
  {
   "cell_type": "code",
   "execution_count": null,
   "metadata": {},
   "outputs": [
    {
     "name": "stdout",
     "output_type": "stream",
     "text": [
      "Please enter NPTEL download_page URL : https://nptel.ac.in/courses/106/105/106105151/\n",
      "Fetching URL...\n",
      "Done.\n",
      "[1]MP4 : 56 files available \n",
      "[2]FLV : 0 files available \n",
      "[3]3GP : 0 files available \n",
      "[4]MP3 : 0 files available \n",
      "[5]PDF : 56 files available\n",
      "\n",
      "Please choose file type(1/2/3/4/5) : 1\n",
      "Enter Path : F:\\NPTEL Lectures\\Programming\n",
      "Downloading lec-1\n"
     ]
    },
    {
     "name": "stderr",
     "output_type": "stream",
     "text": [
      "100%|██████████████████████████████████████████████████████████████▊| 16683/16744.65185546875 [00:34<00:00, 653.67KB/s]c:\\users\\raushan\\appdata\\local\\programs\\python\\python36\\lib\\site-packages\\tqdm\\std.py:484: TqdmWarning: clamping frac to range [0, 1]\n",
      "  charset=Bar.ASCII if ascii is True else ascii or Bar.UTF)\n",
      "100%|███████████████████████████████████████████████████████████████| 16745/16744.65185546875 [00:34<00:00, 486.34KB/s]\n"
     ]
    },
    {
     "name": "stdout",
     "output_type": "stream",
     "text": [
      " File downloaded\n",
      "Downloading lec-1\n"
     ]
    },
    {
     "name": "stderr",
     "output_type": "stream",
     "text": [
      "26488KB [00:46, 572.72KB/s]                                                                                            \n"
     ]
    },
    {
     "name": "stdout",
     "output_type": "stream",
     "text": [
      " File downloaded\n",
      "Downloading lec-1\n"
     ]
    },
    {
     "name": "stderr",
     "output_type": "stream",
     "text": [
      " 32%|████████████████████▍                                           | 8750/27390.31259765625 [00:14<00:28, 652.68KB/s]"
     ]
    }
   ],
   "source": [
    "\"\"\"\n",
    "Do this before running this:\n",
    "[1] : pip install requests\n",
    "[2] : pip install bs4\n",
    "[3] : pip install urllib\n",
    "[4] : pip install tqdm\n",
    "Run this in console.\n",
    "\"\"\"\n",
    "\n",
    "import requests, sys, os\n",
    "from urllib.request import urlopen\n",
    "from bs4 import BeautifulSoup\n",
    "from tqdm import tqdm\n",
    "\n",
    "def down(url,sl): \n",
    "    if(sl != 5):\n",
    "        file_name = url.split('?')[1].split('&')[1].split('=')[1].split('.')[0] + \"_\" + url.split('?')[1].split('&')[2].split('=')[1] + \".\" + url.split('?')[1].split('&')[1].split('=')[1].split('.')[1]\n",
    "    else:\n",
    "        file_name = 'Lec'+url.split('?')[1].split('&')[2].split('=')[1]+'.pdf'\n",
    "    \n",
    "    with open(file_name, \"wb\") as f:\n",
    "            print(\"Downloading %s\" % file_name)\n",
    "            res = requests.get(url , stream=True)\n",
    "            total_size = int(res.headers['content-length'])\n",
    "            if total_size is None:\n",
    "                print(\"Downloading...\")\n",
    "                f.write(res.content)\n",
    "            else:\n",
    "                for data in tqdm(iterable = res.iter_content(chunk_size = 10240), total = total_size/10240, unit = 'KB'):\n",
    "                    f.write(data)\n",
    "\n",
    "#link = \"https://nptel.ac.in/courses/nptel_download.php?subjectid=106106182\"\n",
    "link = str(input(\"Please enter NPTEL download_page URL : \")) \n",
    "print(\"Fetching URL...\")\n",
    "page = urlopen(link)\n",
    "soup = BeautifulSoup(page.read(),features=\"html.parser\")\n",
    "urls = soup.find_all('a', href=True)\n",
    "print(\"Done.\")\n",
    "\n",
    "mp4=[] \n",
    "flv=[]\n",
    "f3gp=[]\n",
    "pdf=[]\n",
    "mp3=[]\n",
    "i=0 \n",
    "while(i<len(urls)):\n",
    "    if(urls[i].text=='MP4 Download'):\n",
    "        mp4.append(urls[i]['href'])\n",
    "    elif(urls[i].text=='FLV Download'):\n",
    "        flv.append(urls[i]['href'])\n",
    "    elif(urls[i].text=='3GP Download'):\n",
    "        f3gp.append(urls[i]['href'])\n",
    "    elif(urls[i].text=='Download MP3'):\n",
    "        mp3.append(urls[i]['href'])\n",
    "    elif(urls[i].text=='English(PDF)'):\n",
    "        pdf.append(urls[i]['href'])\n",
    "    else:\n",
    "        pass\n",
    "    i+=1\n",
    "    \n",
    "print('[1]MP4 : %s files available \\n[2]FLV : %s files available \\n[3]3GP : %s files available \\n[4]MP3 : %s files available \\n[5]PDF : %s files available' % (len(mp4), len(flv), len(f3gp),len(mp3),len(pdf)))\n",
    "sl = int(input('\\nPlease choose file type(1/2/3/4/5) : '))\n",
    "path_loc = str(input(\"Enter Path : \"))\n",
    "\n",
    "if not os.path.exists(path_loc):\n",
    "    os.makedirs(path_loc)\n",
    "os.chdir(path_loc)\n",
    "\n",
    "lis=[mp4,flv,f3gp,mp3,pdf]\n",
    "for url in lis[sl-1]:\n",
    "    if sl!=5:\n",
    "        url=\"https://nptel.ac.in\"+url\n",
    "    down(url,sl)\n",
    "    print(' File downloaded')\n",
    "else:\n",
    "    print('█'*15, \"All files downloaded\", '█'*14)"
   ]
  },
  {
   "cell_type": "code",
   "execution_count": 4,
   "metadata": {},
   "outputs": [
    {
     "data": {
      "text/plain": [
       "'https://nptel.ac.in/content/storage/MP4/new/106105151/mod01lec01.mp4'"
      ]
     },
     "execution_count": 4,
     "metadata": {},
     "output_type": "execute_result"
    }
   ],
   "source": [
    "url"
   ]
  },
  {
   "cell_type": "code",
   "execution_count": null,
   "metadata": {},
   "outputs": [],
   "source": []
  },
  {
   "cell_type": "markdown",
   "metadata": {},
   "source": [
    "## Date:-03/08/2019"
   ]
  },
  {
   "cell_type": "code",
   "execution_count": 1,
   "metadata": {
    "scrolled": false
   },
   "outputs": [
    {
     "name": "stdout",
     "output_type": "stream",
     "text": [
      "Enter the url:https://venkatraman.dev/\n",
      "<bound method Tag.prettify of <!DOCTYPE html>\n",
      "\n",
      "<html>\n",
      "<head>\n",
      "<title>Venkatraman Srikanth</title>\n",
      "<meta content=\"width=device-width, initial-scale=1\" name=\"viewport\"/>\n",
      "<meta content=\"text/html; charset=utf-8\" http-equiv=\"Content-Type\">\n",
      "<link href=\"https://maxcdn.bootstrapcdn.com/font-awesome/4.7.0/css/font-awesome.min.css\" rel=\"stylesheet\"/>\n",
      "<link href=\"animate.css\" rel=\"stylesheet\" type=\"text/css\"/>\n",
      "<style>\n",
      "@import url('https://fonts.googleapis.com/css?family=Open+Sans+Condensed:300|Raleway');\n",
      "\n",
      "* { margin: 0; padding: 0; }\n",
      "html {\n",
      "    height: 100%;\n",
      "}\n",
      "body {\n",
      "    font-size: 16px;\n",
      "    background: url(images/space.jpg) no-repeat center center fixed;\n",
      "    color: gray;\n",
      "    text-align: center;\n",
      "    height: 100%;\n",
      "}\n",
      "\n",
      "#block-container {\n",
      "    top: 50vh;\n",
      "    transform: translateY(-50%);\n",
      "    display: block;\n",
      "    margin: 0 auto;\n",
      "    width: 400px;\n",
      "    position: relative;\n",
      "    background-color: #f4f4f4;\n",
      "    border-radius: 7px;\n",
      "    padding:  5px 20px;\n",
      "    opacity: 0.92;\n",
      "    -webkit-animation-duration: 2 s;\n",
      "            animation-duration: 2 s;\n",
      "    -webkit-box-shadow: 18px 11px 135px -25px black;\n",
      "            box-shadow: 18px 11px 135px -25px black;\n",
      "    -webkit-transform-style: preserve-3d;\n",
      "            transform-style: preserve-3d;\n",
      "    -webkit-transition: 0.5s;\n",
      "            transition: 0.5s;\n",
      "    -webkit-perspective: 1500px;\n",
      "            perspective: 1500px;\n",
      "}\n",
      "\n",
      "@media screen and (max-width: 500px) {\n",
      "    #block-container {\n",
      "        width: 80%;\n",
      "    }\n",
      "}\n",
      "\n",
      "#profile-image {\n",
      "    display: inline-block;\n",
      "    margin-top: 20px;\n",
      "    width: 200px;\n",
      "    height: 200px;\n",
      "    border-radius: 100px;\n",
      "    transition: all 0.3s ease-in-out;\n",
      "}\n",
      "\n",
      "@media screen and (max-width: 500px) {\n",
      "    #profile-image {\n",
      "        width: 120px;\n",
      "        height: 120px;\n",
      "    }\n",
      "}\n",
      "\n",
      "#profile-image:hover {\n",
      "    filter: none;\n",
      "    transform: scale(1.05);\n",
      "}\n",
      "\n",
      "\n",
      "#text-container {\n",
      "    font-family: 'Raleway', sans-serif;\n",
      "    display: inline-block;\n",
      "    margin-top: 20px;\n",
      "    margin-bottom: 0;\n",
      "}\n",
      "\n",
      ".link {\n",
      "    text-decoration: none;\n",
      "    font-size: 26px;\n",
      "    color: gray;\n",
      "}\n",
      "\n",
      "footer {\n",
      "    opacity: 0.2;\n",
      "    font-family: 'Raleway', sans-serif;\n",
      "    transition: all 0.5s ease-in-out;\n",
      "    margin: 5px auto;\n",
      "    position: absolute;\n",
      "    text-align: center;\n",
      "    bottom: 0;\n",
      "    right: 0;\n",
      "    left: 0;\n",
      "    color: white;\n",
      "}\n",
      "\n",
      "@media screen and (max-width: 500px) {\n",
      "    footer {\n",
      "        display: none;\n",
      "    }\n",
      "}\n",
      "\n",
      "footer:hover {\n",
      "    opacity: 0.9;\n",
      "}\n",
      "\n",
      ".footer-text {\n",
      "    font-size: 12px;\n",
      "}\n",
      "\n",
      ".footer-text a {\n",
      "    text-decoration: none;\n",
      "    color: white;\n",
      "}\n",
      "\n",
      ".small-link {\n",
      "    font-size: 16px;\n",
      "}\n",
      "\n",
      ".highlight {\n",
      "    color: #8b2f5f;\n",
      "}\n",
      "\n",
      "h1 {\n",
      "    font-family: 'Open Sans Condensed', sans-serif;\n",
      "}\n",
      "@media screen and (max-width: 500px) {\n",
      "    h1 {\n",
      "        font-size: 28px;\n",
      "    }\n",
      "}\n",
      "</style>\n",
      "</meta></head>\n",
      "<body>\n",
      "<div class=\"animated fadeIn\" id=\"block-container\">\n",
      "<div class=\"face front\">\n",
      "<img id=\"profile-image\" src=\"images/profile-img2.jpg\"/>\n",
      "<div id=\"text-container\">\n",
      "<h1 class=\"name-tag\">VENKATRAMAN SRIKANTH</h1>\n",
      "<br/><hr/><br/>\n",
      "            My name is Venkatraman, or Venkat for short. I'm a programmer, with an interest in low level systems and web development. <br/><br/>\n",
      "            I completed my undergrad in Computer Science and Engineering at <a class=\"link small-link highlight\" href=\"http://nitt.edu\">NIT Trichy</a>, one of India's top universities.<br/><br/>\n",
      "\n",
      "            Check out my <a class=\"link small-link highlight\" href=\"https://medium.com/@venkat24\">Blog</a>, or my <a class=\"link small-link highlight\" href=\"Venkatraman_Resume.pdf\">Resumé</a>!\n",
      "            <br/><br/>\n",
      "<div id=\"links-container\">\n",
      "<span class=\"github\">\n",
      "<a class=\"link\" href=\"/Venkatraman_Resume.pdf\">\n",
      "<i class=\"fa fa-lg fa-file-text\"></i>\n",
      "</a>\n",
      "</span>\n",
      "<span class=\"github\">\n",
      "<a class=\"link\" href=\"https://github.com/venkat24\">\n",
      "<i class=\"fa fa-lg fa-github\"></i>\n",
      "</a>\n",
      "</span>\n",
      "<span class=\"github\">\n",
      "<a class=\"link\" href=\"https://www.linkedin.com/in/venkatraman-srikanth-178405131\">\n",
      "<i class=\"fa fa-lg fa-linkedin\"></i>\n",
      "</a>\n",
      "</span>\n",
      "<span class=\"facebook\">\n",
      "<a class=\"link\" href=\"mailto:venkat24@outlook.com\">\n",
      "<i class=\"fa fa-lg fa-envelope\"></i>\n",
      "</a>\n",
      "</span>\n",
      "<span class=\"facebook\">\n",
      "<a class=\"link\" href=\"https://www.facebook.com/acelect24\">\n",
      "<i class=\"fa fa-lg fa-facebook\"></i>\n",
      "</a>\n",
      "</span>\n",
      "</div>\n",
      "<br/>\n",
      "</div>\n",
      "</div>\n",
      "</div>\n",
      "<footer>\n",
      "<div class=\"footer-text\">\n",
      "        Made with <a class=\"footer-link\" href=\"https://github.com/sirxemic/jquery.ripples\" target=\"_blank\">jQuery.ripples</a>, <a class=\"footer-link\" href=\"http://fontawesome.io\" target=\"_blank\">FontAwesome</a> and loads of ❤\n",
      "    </div>\n",
      "</footer>\n",
      "<script src=\"https://cdnjs.cloudflare.com/ajax/libs/jquery/3.1.1/jquery.min.js\"></script>\n",
      "<script src=\"jquery.ripples.js\"></script>\n",
      "<script>\n",
      "$(document).ready(function() {\n",
      "    try {\n",
      "        $('body').ripples({\n",
      "            resolution: 512,\n",
      "            dropRadius: 10,\n",
      "            perturbance: 0.05,\n",
      "        });\n",
      "    }\n",
      "    catch (e) {\n",
      "        $('.error').show().text(e);\n",
      "    }\n",
      "\n",
      "    $('.js-ripples-disable').on('click', function() {\n",
      "        $('body, main').ripples('destroy');\n",
      "        $(this).hide();\n",
      "    });\n",
      "\n",
      "    $('.js-ripples-play').on('click', function() {\n",
      "        $('body, main').ripples('play');\n",
      "    });\n",
      "\n",
      "    $('.js-ripples-pause').on('click', function() {\n",
      "        $('body, main').ripples('pause');\n",
      "    });\n",
      "\n",
      "    // Automatic drops\n",
      "    setInterval(function() {\n",
      "        var $el = $('main');\n",
      "        var x = Math.random() * $el.outerWidth();\n",
      "        var y = Math.random() * $el.outerHeight();\n",
      "        var dropRadius = 20;\n",
      "        var strength = 0.04 + Math.random() * 0.04;\n",
      "\n",
      "        $el.ripples('drop', x, y, dropRadius, strength);\n",
      "    }, 400);\n",
      "});\n",
      "</script>\n",
      "</body>\n",
      "</html>\n",
      ">\n"
     ]
    }
   ],
   "source": [
    "from urllib.request import urlopen\n",
    "from bs4 import BeautifulSoup\n",
    "\n",
    "url = input(\"Enter the url:\")\n",
    "html = urlopen(url)\n",
    "bsobj=BeautifulSoup(html.read(),features=\"html.parser\")\n",
    "print(bsobj.prettify)"
   ]
  },
  {
   "cell_type": "code",
   "execution_count": null,
   "metadata": {},
   "outputs": [],
   "source": []
  },
  {
   "cell_type": "code",
   "execution_count": 1,
   "metadata": {},
   "outputs": [
    {
     "name": "stdout",
     "output_type": "stream",
     "text": [
      "Enter the url:http://gauthamkumar.com/\n",
      "<bound method Tag.prettify of <!DOCTYPE doctype html>\n",
      "<html lang=\"en\"><head><meta charset=\"utf-8\"/><link href=\"/favicon.ico\" rel=\"shortcut icon\"/><link href=\"https://fonts.googleapis.com/css?family=Roboto\" rel=\"stylesheet\"/><link href=\"https://fonts.googleapis.com/css?family=Open+Sans:300\" rel=\"stylesheet\"/><link href=\"https://use.fontawesome.com/releases/v5.0.8/css/all.css\" rel=\"stylesheet\"/><meta content=\"width=device-width,initial-scale=1,shrink-to-fit=no\" name=\"viewport\"/><meta content=\"#000000\" name=\"theme-color\"/><link href=\"/manifest.json\" rel=\"manifest\"><title>Gautham Kumar</title><script type=\"text/javascript\">!function(i){if(i.search){var l={};i.search.slice(1).split(\"&\").forEach(function(i){var a=i.split(\"=\");l[a[0]]=a.slice(1).join(\"=\").replace(/~and~/g,\"&\")}),void 0!==l.p&&window.history.replaceState(null,null,i.pathname.slice(0,-1)+(l.p||\"\")+(l.q?\"?\"+l.q:\"\")+i.hash)}}(window.location)</script><link href=\"/static/css/main.d5619eb3.chunk.css\" rel=\"stylesheet\"/></link></head><body><div id=\"landing\"><canvas id=\"c\"></canvas><div id=\"root\"></div></div><script src=\"/scripts/kzymdn.js\"></script><script src=\"/scripts/vectors.js\"></script><script>!function(l){function e(e){for(var r,t,n=e[0],o=e[1],u=e[2],f=0,i=[];f<n.length;f++)t=n[f],p[t]&&i.push(p[t][0]),p[t]=0;for(r in o)Object.prototype.hasOwnProperty.call(o,r)&&(l[r]=o[r]);for(s&&s(e);i.length;)i.shift()();return c.push.apply(c,u||[]),a()}function a(){for(var e,r=0;r<c.length;r++){for(var t=c[r],n=!0,o=1;o<t.length;o++){var u=t[o];0!==p[u]&&(n=!1)}n&&(c.splice(r--,1),e=f(f.s=t[0]))}return e}var t={},p={1:0},c=[];function f(e){if(t[e])return t[e].exports;var r=t[e]={i:e,l:!1,exports:{}};return l[e].call(r.exports,r,r.exports,f),r.l=!0,r.exports}f.m=l,f.c=t,f.d=function(e,r,t){f.o(e,r)||Object.defineProperty(e,r,{enumerable:!0,get:t})},f.r=function(e){\"undefined\"!=typeof Symbol&&Symbol.toStringTag&&Object.defineProperty(e,Symbol.toStringTag,{value:\"Module\"}),Object.defineProperty(e,\"__esModule\",{value:!0})},f.t=function(r,e){if(1&e&&(r=f(r)),8&e)return r;if(4&e&&\"object\"==typeof r&&r&&r.__esModule)return r;var t=Object.create(null);if(f.r(t),Object.defineProperty(t,\"default\",{enumerable:!0,value:r}),2&e&&\"string\"!=typeof r)for(var n in r)f.d(t,n,function(e){return r[e]}.bind(null,n));return t},f.n=function(e){var r=e&&e.__esModule?function(){return e.default}:function(){return e};return f.d(r,\"a\",r),r},f.o=function(e,r){return Object.prototype.hasOwnProperty.call(e,r)},f.p=\"/\";var r=window.webpackJsonp=window.webpackJsonp||[],n=r.push.bind(r);r.push=e,r=r.slice();for(var o=0;o<r.length;o++)e(r[o]);var s=n;a()}([])</script><script src=\"/static/js/2.5115d145.chunk.js\"></script><script src=\"/static/js/main.437e6b76.chunk.js\"></script></body></html>>\n"
     ]
    }
   ],
   "source": [
    "from urllib.request import urlopen\n",
    "from bs4 import BeautifulSoup\n",
    "\n",
    "url = input(\"Enter the url:\")\n",
    "html = urlopen(url)\n",
    "bsobj=BeautifulSoup(html.read(),features=\"html.parser\")\n",
    "print(bsobj.prettify)"
   ]
  },
  {
   "cell_type": "code",
   "execution_count": null,
   "metadata": {},
   "outputs": [],
   "source": []
  },
  {
   "cell_type": "code",
   "execution_count": 3,
   "metadata": {
    "scrolled": false
   },
   "outputs": [
    {
     "name": "stdout",
     "output_type": "stream",
     "text": [
      "Enter the url:http://nimishagarwal76.me/\n",
      "<bound method Tag.prettify of \n",
      "<!DOCTYPE html>\n",
      "\n",
      "<html>\n",
      "<head>\n",
      "<title>Nimish Agrawal</title>\n",
      "<meta content=\"width=device-width, initial-scale=1\" name=\"viewport\"/>\n",
      "<meta content=\"text/html; charset=utf-8\" http-equiv=\"Content-Type\">\n",
      "<link href=\"https://maxcdn.bootstrapcdn.com/font-awesome/4.7.0/css/font-awesome.min.css\" rel=\"stylesheet\"/>\n",
      "<style>\n",
      "@import url('https://fonts.googleapis.com/css?family=Open+Sans+Condensed:300|Raleway');\n",
      "\n",
      "* { margin: 0; padding: 0; }\n",
      "html {\n",
      "    height: 100%;\n",
      "}\n",
      "body {\n",
      "    font-size: 16px;\n",
      "    background: url(images/space.jpg) no-repeat center center fixed;\n",
      "    color: gray;\n",
      "    text-align: center;\n",
      "    height: 100%;\n",
      "    background-image: url(\"image1.jpg\");\n",
      "}\n",
      "\n",
      "#block-container {\n",
      "    top: 50vh;\n",
      "    transform: translateY(-50%);\n",
      "    display: block;\n",
      "    margin: 0 auto;\n",
      "    width: 400px;\n",
      "    position: relative;\n",
      "    background-color: #f4f4f4;\n",
      "    border-radius: 7px;\n",
      "    padding:  5px 20px;\n",
      "    opacity: 0.92;\n",
      "    -webkit-animation-duration: 2 s;\n",
      "            animation-duration: 2 s;\n",
      "    -webkit-box-shadow: 18px 11px 135px -25px black;\n",
      "            box-shadow: 18px 11px 135px -25px black;\n",
      "    -webkit-transform-style: preserve-3d;\n",
      "            transform-style: preserve-3d;\n",
      "    -webkit-transition: 0.5s;\n",
      "            transition: 0.5s;\n",
      "    -webkit-perspective: 1500px;\n",
      "            perspective: 1500px;\n",
      "}\n",
      "\n",
      "@media screen and (max-width: 500px) {\n",
      "    #block-container {\n",
      "        width: 80%;\n",
      "    }\n",
      "}\n",
      "\n",
      "#profile-image {\n",
      "    display: inline-block;\n",
      "    margin-top: 20px;\n",
      "    width: 200px;\n",
      "    height: 200px;\n",
      "    border-radius: 100px;\n",
      "    transition: all 0.3s ease-in-out;\n",
      "}\n",
      "\n",
      "@media screen and (max-width: 500px) {\n",
      "    #profile-image {\n",
      "        width: 120px;\n",
      "        height: 120px;\n",
      "    }\n",
      "}\n",
      "\n",
      "#profile-image:hover {\n",
      "    filter: none;\n",
      "    transform: scale(1.05);\n",
      "}\n",
      "\n",
      "\n",
      "#text-container {\n",
      "    font-family: 'Raleway', sans-serif;\n",
      "    display: inline-block;\n",
      "    margin-top: 20px;\n",
      "    margin-bottom: 0;\n",
      "}\n",
      "\n",
      ".link {\n",
      "    text-decoration: none;\n",
      "    font-size: 26px;\n",
      "    color: gray;\n",
      "}\n",
      "\n",
      "footer {\n",
      "    opacity: 0.2;\n",
      "    font-family: 'Raleway', sans-serif;\n",
      "    transition: all 0.5s ease-in-out;\n",
      "    margin: 5px auto;\n",
      "    position: absolute;\n",
      "    text-align: center;\n",
      "    bottom: 0;\n",
      "    right: 0;\n",
      "    left: 0;\n",
      "    color: white;\n",
      "}\n",
      "\n",
      "@media screen and (max-width: 500px) {\n",
      "    footer {\n",
      "        display: none;\n",
      "    }\n",
      "}\n",
      "\n",
      "footer:hover {\n",
      "    opacity: 0.9;\n",
      "}\n",
      "\n",
      ".footer-text {\n",
      "    font-size: 12px;\n",
      "}\n",
      "\n",
      ".footer-text a {\n",
      "    text-decoration: none;\n",
      "    color: white;\n",
      "}\n",
      "\n",
      ".small-link {\n",
      "    font-size: 16px;\n",
      "}\n",
      "\n",
      ".highlight {\n",
      "    color: #8b2f5f;\n",
      "}\n",
      "\n",
      "h1 {\n",
      "    font-family: 'Open Sans Condensed', sans-serif;\n",
      "}\n",
      "@media screen and (max-width: 500px) {\n",
      "    h1 {\n",
      "        font-size: 28px;\n",
      "    }\n",
      "}\n",
      "</style>\n",
      "</meta></head>\n",
      "<body>\n",
      "<div class=\"animated fadeIn\" id=\"block-container\">\n",
      "<div class=\"face front\">\n",
      "<img id=\"profile-image\" src=\"Nimish.jpeg\"/>\n",
      "<div id=\"text-container\">\n",
      "<h1 class=\"name-tag\">NIMISH AGRAWAL</h1>\n",
      "<br/><hr/><br/>\n",
      "            My name is Nimish Agrawal. I'm a programmer, with an interest in web development. <br/><br/>\n",
      "            I am currently in my second year of Computer Science and Engineering at <a class=\"link small-link highlight\" href=\"http://nitt.edu\">NIT Trichy</a>, one of India's top universities.<br/><br/>\n",
      "\n",
      "            Check out my <a class=\"link small-link highlight\" href=\"Nimish_Resume.pdf\">Resumé</a> for my work!\n",
      "            <br/><br/>\n",
      "<div id=\"links-container\">\n",
      "<span class=\"github\">\n",
      "<a class=\"link\" href=\"Nimish_Resume.pdf\">\n",
      "<i class=\"fa fa-lg fa-file-text\"></i>\n",
      "</a>\n",
      "</span>\n",
      "<span class=\"github\">\n",
      "<a class=\"link\" href=\"https://github.com/nimishagarwal76\">\n",
      "<i class=\"fa fa-lg fa-github\"></i>\n",
      "</a>\n",
      "</span>\n",
      "<span class=\"github\">\n",
      "<a class=\"link\" href=\"https://www.linkedin.com/in/nimish-agrawal-23279a148/\">\n",
      "<i class=\"fa fa-lg fa-linkedin\"></i>\n",
      "</a>\n",
      "</span>\n",
      "<span class=\"facebook\">\n",
      "<a class=\"link\" href=\"mailto:nimishagarwal76@gmail.com\">\n",
      "<i class=\"fa fa-lg fa-envelope\"></i>\n",
      "</a>\n",
      "</span>\n",
      "<span class=\"facebook\">\n",
      "<a class=\"link\" href=\"https://www.facebook.com/nimish.agarwal.76\">\n",
      "<i class=\"fa fa-lg fa-facebook\"></i>\n",
      "</a>\n",
      "</span>\n",
      "</div>\n",
      "<br/>\n",
      "</div>\n",
      "</div>\n",
      "</div>\n",
      "</body>\n",
      "</html>\n",
      ">\n"
     ]
    }
   ],
   "source": [
    "from urllib.request import urlopen\n",
    "from bs4 import BeautifulSoup\n",
    "\n",
    "url = input(\"Enter the url:\")\n",
    "html = urlopen(url)\n",
    "bsobj=BeautifulSoup(html.read(),features=\"html.parser\")\n",
    "print(bsobj.prettify)"
   ]
  },
  {
   "cell_type": "code",
   "execution_count": null,
   "metadata": {},
   "outputs": [],
   "source": []
  },
  {
   "cell_type": "code",
   "execution_count": 4,
   "metadata": {},
   "outputs": [
    {
     "name": "stdout",
     "output_type": "stream",
     "text": [
      "Enter the url:http://subasharavindan.me/\n",
      "<bound method Tag.prettify of <!DOCTYPE html>\n",
      "\n",
      "<html lang=\"en\">\n",
      "<head>\n",
      "<!-- Global site tag (gtag.js) - Google Analytics -->\n",
      "<script async=\"\" src=\"https://www.googletagmanager.com/gtag/js?id=UA-52534102-2\"></script>\n",
      "<script>\n",
      "    window.dataLayer = window.dataLayer || [];\n",
      "    function gtag(){dataLayer.push(arguments);}\n",
      "    gtag('js', new Date());\n",
      "\n",
      "    gtag('config', 'UA-52534102-2');\n",
      "  </script>\n",
      "<meta charset=\"utf-8\"/>\n",
      "<meta content=\"#020202\" name=\"theme-color\">\n",
      "<link crossorigin=\"anonymous\" href=\"https://use.fontawesome.com/releases/v5.8.1/css/all.css\" integrity=\"sha384-50oBUHEmvpQ+1lW4y57PTFmhCaXp0ML5d60M1M7uH2+nqUivzIebhndOJK28anvf\" rel=\"stylesheet\"/>\n",
      "<link href=\"https://fonts.googleapis.com/css?family=Lato|Raleway\" rel=\"stylesheet\"/>\n",
      "<link href=\"css/main.css\" rel=\"stylesheet\"/>\n",
      "<meta content=\"width=device-width, initial-scale=1.0\" name=\"viewport\"/>\n",
      "<meta content=\"ie=edge\" http-equiv=\"X-UA-Compatible\"/>\n",
      "<title>Subash Aravindan</title>\n",
      "</meta></head>\n",
      "<body>\n",
      "<div class=\"container\">\n",
      "<div id=\"comingSoon\">\n",
      "<div class=\"profile-image-container\">\n",
      "<img alt=\"\" id=\"profile-image\" src=\"profile-image.jpg\"/>\n",
      "</div>\n",
      "<p id=\"name\">SUBASH ARAVINDAN</p>\n",
      "<div id=\"description\">\n",
      "<p>Hi I'm Subash, a passionate programmer interested in Full stack Web Development</p>\n",
      "<p>\n",
      "          I am currently pursuing my Btech at NIT Trichy, one of India's best universities.\n",
      "        </p>\n",
      "<p>\n",
      "          Check out my <a href=\"resume.pdf\" style=\"pointer-events:all\">Resume</a>\n",
      "</p>\n",
      "<div id=\"link-container\">\n",
      "<a href=\"resume.pdf\"><i class=\"fas fa-lg fa-file-pdf\"></i></a>\n",
      "<a href=\"https://www.linkedin.com/in/subasharavindan/\"><i class=\"fab fa-lg fa-linkedin\"></i></a>\n",
      "<a href=\"https://github.com/SubashAravindan\"><i class=\"fab fa-github-square\"></i></a>\n",
      "<a href=\"mailto:p.subasharavindan@gmail.com\"><i class=\"fas fa-lg fa-envelope\"></i></a>\n",
      "</div>\n",
      "</div>\n",
      "</div>\n",
      "</div>\n",
      "<div id=\"particles-js\"></div>\n",
      "<script src=\"js/particles.min.js\"></script>\n",
      "<script src=\"js/index.js\"></script>\n",
      "</body>\n",
      "</html>\n",
      ">\n"
     ]
    }
   ],
   "source": [
    "from urllib.request import urlopen\n",
    "from bs4 import BeautifulSoup\n",
    "\n",
    "url = input(\"Enter the url:\")\n",
    "html = urlopen(url)\n",
    "bsobj=BeautifulSoup(html.read(),features=\"html.parser\")\n",
    "print(bsobj.prettify)"
   ]
  },
  {
   "cell_type": "code",
   "execution_count": null,
   "metadata": {},
   "outputs": [],
   "source": []
  },
  {
   "cell_type": "code",
   "execution_count": 5,
   "metadata": {},
   "outputs": [
    {
     "name": "stdout",
     "output_type": "stream",
     "text": [
      "Enter the url:https://arunram.me/\n",
      "<bound method Tag.prettify of <!DOCTYPE HTML>\n",
      "\n",
      "<!--\n",
      "\tStrata by HTML5 UP\n",
      "\thtml5up.net | @ajlkn\n",
      "\tFree for personal and commercial use under the CCA 3.0 license (html5up.net/license)\n",
      "-->\n",
      "<html>\n",
      "<head>\n",
      "<title>Arun Ramachandran</title>\n",
      "<meta charset=\"utf-8\"/>\n",
      "<meta content=\"width=device-width, initial-scale=1\" name=\"viewport\"/>\n",
      "<link href=\"favicon.ico\" rel=\"icon\" type=\"image/x-icon\"/>\n",
      "<!--[if lte IE 8]><script src=\"assets/js/ie/html5shiv.js\"></script><![endif]-->\n",
      "<link href=\"assets/css/main.css\" rel=\"stylesheet\"/>\n",
      "<link href=\"assets/css/additional.css\" rel=\"stylesheet\"/>\n",
      "<!--[if lte IE 8]><link rel=\"stylesheet\" href=\"assets/css/ie8.css\" /><![endif]-->\n",
      "</head>\n",
      "<body id=\"top\">\n",
      "<!-- Header -->\n",
      "<header id=\"header\">\n",
      "<div class=\"inner\">\n",
      "<a class=\"image avatar\" href=\"javascript:void(0)\"><img alt=\"\" src=\"images/avatar.jpg\"/></a>\n",
      "<h1><strong><span class=\"custom-lighter\">Arun Ramachandran</span></strong>\n",
      "<span class=\"custom-lightest\">Programmer Dude</span><br/></h1>\n",
      "</div>\n",
      "</header>\n",
      "<!-- Main -->\n",
      "<div id=\"main\">\n",
      "<!-- One -->\n",
      "<section id=\"one\">\n",
      "<div class=\"align-left\">\n",
      "<header class=\"major\">\n",
      "<h2>Hello, World!</h2>\n",
      "</header>\n",
      "<p>I'm Arun, a programmer who aims to change the world with software, or so I tell myself right before spending the rest of the day fixing that darn broken dependency chain.</p>\n",
      "<p>I'm currently a Software Engineer at Microsoft. I did my undergrad in Computer Science and Engineering at <a href=\"https://www.nitt.edu/\" target=\"_blank\">NIT Trichy</a>, graduating in May 2018. I love solving complex problems with code, stretching myself to the limits of my abilities and seeing what lies beyond.</p>\n",
      "<p>I enjoy wasting my time playing video games, reading fantasy novels and idly considering the existence of <a href=\"https://en.wikipedia.org/wiki/Neuroscience_of_free_will\" target=\"_blank\">free will</a>.</p>\n",
      "<p>I write (not very often) too. Check out my <a href=\"https://medium.com/@arun.ram\" target=\"_blank\">blog here!</a></p>\n",
      "</div>\n",
      "</section>\n",
      "<!-- Footer -->\n",
      "<footer id=\"footer\">\n",
      "<div class=\"inner\">\n",
      "<ul class=\"icons\">\n",
      "<li><a class=\"icon fa-github\" href=\"https://github.com/jhurricane96\" target=\"_blank\"><span class=\"label\">Github</span></a></li>\n",
      "<li><a class=\"icon fa-medium\" href=\"https://medium.com/@arun.ram\" target=\"_blank\"><span class=\"label\">Medium</span></a></li>\n",
      "<li><a class=\"icon fa-linkedin\" href=\"https://www.linkedin.com/in/aramach/\" target=\"_blank\"><span class=\"label\">LinkedIn</span></a></li>\n",
      "<li><a class=\"icon fa-file-text\" href=\"resume\" target=\"_blank\"><span class=\"label\">Resume</span></a></li>\n",
      "<li><a class=\"icon fa-envelope\" href=\"mailto:ramachandran.arun@outlook.com\"><span class=\"label\">Email</span></a></li>\n",
      "</ul>\n",
      "<ul class=\"copyright\">\n",
      "\t\t\t\t\t\t© Arun Ramachandran 2017-19\n",
      "\t\t\t\t\t</ul>\n",
      "</div>\n",
      "</footer>\n",
      "<!-- Scripts -->\n",
      "<script src=\"assets/js/jquery.min.js\"></script>\n",
      "<script src=\"assets/js/jquery.poptrox.min.js\"></script>\n",
      "<script src=\"assets/js/skel.min.js\"></script>\n",
      "<script src=\"assets/js/util.js\"></script>\n",
      "<!--[if lte IE 8]><script src=\"assets/js/ie/respond.min.js\"></script><![endif]-->\n",
      "<script src=\"assets/js/main.js\"></script>\n",
      "</div></body>\n",
      "</html>\n",
      ">\n"
     ]
    }
   ],
   "source": [
    "from urllib.request import urlopen\n",
    "from bs4 import BeautifulSoup\n",
    "\n",
    "url = input(\"Enter the url:\")\n",
    "html = urlopen(url)\n",
    "bsobj=BeautifulSoup(html.read(),features=\"html.parser\")\n",
    "print(bsobj.prettify)"
   ]
  },
  {
   "cell_type": "code",
   "execution_count": null,
   "metadata": {},
   "outputs": [],
   "source": []
  },
  {
   "cell_type": "code",
   "execution_count": 6,
   "metadata": {
    "scrolled": false
   },
   "outputs": [
    {
     "name": "stdout",
     "output_type": "stream",
     "text": [
      "Enter the url:https://shreenibhar.github.io/\n",
      "<bound method Tag.prettify of <!DOCTYPE html>\n",
      "\n",
      "<html>\n",
      "<head>\n",
      "<meta charset=\"utf-8\"/>\n",
      "<meta content=\"width=device-width, initial-scale=1, shrink-to-fit=no\" name=\"viewport\"/>\n",
      "<link crossorigin=\"anonymous\" href=\"https://stackpath.bootstrapcdn.com/bootstrap/4.1.3/css/bootstrap.min.css\" integrity=\"sha384-MCw98/SFnGE8fJT3GXwEOngsV7Zt27NXFoaoApmYm81iuXoPkFOJwJ8ERdknLPMO\" rel=\"stylesheet\"/>\n",
      "<link crossorigin=\"anonymous\" href=\"https://use.fontawesome.com/releases/v5.3.1/css/all.css\" integrity=\"sha384-mzrmE5qonljUremFsqc01SB46JvROS7bZs3IO2EmfFsd15uHvIt+Y8vEf7N7fWAU\" rel=\"stylesheet\"/>\n",
      "<link href=\"https://cdn.rawgit.com/jpswalsh/academicons/master/css/academicons.min.css\" rel=\"stylesheet\"/>\n",
      "<link href=\"images/s.png\" rel=\"icon\"/>\n",
      "<title>Shreenivas Bharadwaj V</title>\n",
      "</head>\n",
      "<body>\n",
      "<script>\n",
      "\t\tif (location.protocol != \"https:\") location.protocol = \"https:\";\n",
      "\t</script>\n",
      "<script crossorigin=\"anonymous\" integrity=\"sha256-FgpCb/KJQlLNfOu91ta32o/NMZxltwRo8QtmkMRdAu8=\" src=\"https://code.jquery.com/jquery-3.3.1.min.js\"></script>\n",
      "<script crossorigin=\"anonymous\" integrity=\"sha384-ZMP7rVo3mIykV+2+9J3UJ46jBk0WLaUAdn689aCwoqbBJiSnjAK/l8WvCWPIPm49\" src=\"https://cdnjs.cloudflare.com/ajax/libs/popper.js/1.14.3/umd/popper.min.js\"></script>\n",
      "<script crossorigin=\"anonymous\" integrity=\"sha384-ChfqqxuZUCnJSK3+MXmPNIyE6ZbWh2IMqE241rYiqJxyMiZ6OW/JmZQ5stwEULTy\" src=\"https://stackpath.bootstrapcdn.com/bootstrap/4.1.3/js/bootstrap.min.js\"></script>\n",
      "<script src=\"js/scroll.js\"></script>\n",
      "<nav class=\"navbar navbar-expand-lg navbar-dark bg-dark fixed-top\">\n",
      "<button aria-controls=\"navbarNavAltMarkup\" aria-expanded=\"false\" aria-label=\"Toggle navigation\" class=\"navbar-toggler\" data-target=\"#navbarNavAltMarkup\" data-toggle=\"collapse\" type=\"button\">\n",
      "<span class=\"navbar-toggler-icon\"></span>\n",
      "</button>\n",
      "<a class=\"navbar-brand\" style=\"color:grey;\">Welcome |</a>\n",
      "<div class=\"collapse navbar-collapse\" id=\"navbarNavAltMarkup\">\n",
      "<div class=\"navbar-nav\">\n",
      "<a class=\"nav-item nav-link js-scroll-trigger\" href=\"#About\">About</a>\n",
      "<a class=\"nav-item nav-link js-scroll-trigger\" href=\"#Summary\">Summary</a>\n",
      "<a class=\"nav-item nav-link js-scroll-trigger\" href=\"#Skills\">Skills</a>\n",
      "<a class=\"nav-item nav-link js-scroll-trigger\" href=\"#Experience\">Experience</a>\n",
      "<a class=\"nav-item nav-link js-scroll-trigger\" href=\"#Projects\">Projects</a>\n",
      "<a class=\"nav-item nav-link js-scroll-trigger\" href=\"#Research\">Research</a>\n",
      "<a class=\"nav-item nav-link js-scroll-trigger\" href=\"#Publications\">Publications</a>\n",
      "<a class=\"nav-item nav-link js-scroll-trigger\" href=\"#Resume\">Resume</a>\n",
      "<a class=\"nav-item nav-link js-scroll-trigger\" href=\"#Hobbies\">Hobbies</a>\n",
      "<a class=\"nav-item nav-link js-scroll-trigger\" href=\"#Contact\">Contact</a>\n",
      "</div>\n",
      "</div>\n",
      "</nav>\n",
      "<img src=\"images/d-arrow.png\" style=\"position:fixed; width:5vw; height:3vw; bottom:0; left:0;\"/>\n",
      "<img src=\"images/d-arrow.png\" style=\"position:fixed; width:5vw; height:3vw; bottom:0; right:0;\"/>\n",
      "<div class=\"container\" id=\"About\" style=\"height:100vh; padding-top:70px; display:flex;\">\n",
      "<div style=\"margin:auto;\">\n",
      "<p id=\"about_1\" style=\"font-size:3vw; font-family:courier; text-align:center;\">HI THERE, I AM SHREENIVAS!</p>\n",
      "<p id=\"about_2\" style=\"font-size:2vw; font-family:courier; text-align:center; font-style:italic;\">I ❤ TO BUILD.</p>\n",
      "<div class=\"text-center\">\n",
      "<img class=\"rounded-circle\" src=\"images/cheeni.png\" style=\"width:30vh; height:30vh;\"/>\n",
      "</div>\n",
      "</div>\n",
      "</div>\n",
      "<div class=\"container\" id=\"Summary\" style=\"height:100vh; padding-top:70px; background-image:url('images/stars.gif'); background-size:cover; display:flex; flex-wrap:nowrap; flex-direction:column; justify-content:center;\">\n",
      "<p style=\"font-size:4vh; font-family:courier; text-align:center; color:white; \">Summary</p>\n",
      "<div style=\"color:white; padding:1vw; font-style:italic; font-size:2vh; font-family:arial; text-align:center;\">\n",
      "<p>My full name is Shreenivas Bharadwaj Venkataramanan.</p>\n",
      "<p>I am currently doing my Masters in CS at UC San Diego.<br/>Go Tritons!</p>\n",
      "<p>I finished my undergrad at NIT, Trichy graduating with a BTech degree in CSE.</p>\n",
      "<p>I am extremely passionate about Machine Learning. Some of my works have occasionally intersected with the fields of Natural Language Processing, Networks and High Performance Computing.</p>\n",
      "<p>I have a good amount of developing experience. I can create all those cool Websites and Android apps.</p>\n",
      "<p>I love the violin! I literally like any music which has violin in it. I worked on creating violin samples using Deep Learning in one of my projects.</p>\n",
      "</div>\n",
      "</div>\n",
      "<div class=\"container\" id=\"Skills\" style=\"height:100vh; padding-top:70px; display:flex; background-color:lightgrey;\">\n",
      "<div style=\"margin:auto;\">\n",
      "<p style=\"font-size:4vh; font-family:courier; text-align:center;\">What I do</p>\n",
      "<div class=\"text-center\">\n",
      "<img class=\"rounded\" src=\"images/coding.png\" style=\"width:15vh; height:15vh;\"/>\n",
      "</div>\n",
      "<p style=\"font-size:3vh; font-family:courier; text-align:center;\"><em>Develop cool stuff.</em></p>\n",
      "<p style=\"font-size:2vh; font-family:courier; text-align:center;\">\n",
      "<b>Programming Languages and Tools:</b><br/>\n",
      "<span style=\"color:blue;\">C/C++, </span>\n",
      "<span style=\"color:green;\">Python, </span>\n",
      "<span style=\"color:blue;\">Java, </span>\n",
      "<span style=\"color:green;\">Matlab, </span><br/>\n",
      "<span style=\"color:blue;\">HTML, </span>\n",
      "<span style=\"color:blue;\">CSS, </span>\n",
      "<span style=\"color:green;\">JavaScript, </span><br/>\n",
      "<span style=\"color:green;\">Bash, </span>\n",
      "<span style=\"color:blue;\">SQL</span><br/>\n",
      "<b>Frameworks:</b><br/>\n",
      "<span style=\"color:green;\">AndroidStudio, </span>\n",
      "<span style=\"color:green;\">Tensorflow, </span>\n",
      "<span style=\"color:green;\">Pytorch, </span><br/>\n",
      "<span style=\"color:blue;\">Jquery, </span>\n",
      "<span style=\"color:blue;\">Flask, </span>\n",
      "<span style=\"color:green;\">CUDA/cuBLAS/Thrust</span>\n",
      "</p>\n",
      "<p style=\"font-size:2vh; font-family:courier; text-align:center; color:red;\">By the way, my favs are in green!</p>\n",
      "</div>\n",
      "</div>\n",
      "<div class=\"container\" id=\"Experience\" style=\"height:100vh; padding-top:70px; display:flex; flex-wrap:nowrap; flex-direction:column; justify-content:center;\">\n",
      "<p style=\"font-size:5vmin; font-family:courier; text-align:center;\">Places I have worked or interned at:</p>\n",
      "<div style=\"display:flex; flex-wrap:wrap; flex-direction:row; justify-content:center;\">\n",
      "<img class=\"rounded\" src=\"images/google.png\" style=\"width:30vmin; height:30vmin; padding:1vmin;\"/>\n",
      "<img class=\"rounded\" src=\"images/amazon.png\" style=\"width:30vmin; height:30vmin; padding:1vmin;\"/>\n",
      "<img class=\"rounded\" src=\"images/ucsd.png\" style=\"width:30vmin; height:30vmin; padding:1vmin;\"/>\n",
      "<img class=\"rounded\" src=\"images/iitd.png\" style=\"width:30vmin; height:30vmin; padding:1vmin;\"/>\n",
      "<img class=\"rounded\" src=\"images/iiith.png\" style=\"width:30vmin; height:30vmin; padding:1vmin;\"/>\n",
      "<img class=\"rounded\" src=\"images/nitt.png\" style=\"width:30vmin; height:30vmin; padding:1vmin;\"/>\n",
      "</div>\n",
      "</div>\n",
      "<div class=\"container\" id=\"Projects\" style=\"padding-top:70px;\">\n",
      "<div class=\"jumbotron\" style=\"font-family:arial; text-align:center;\">\n",
      "<p style=\"font-size:4vh; text-align:center; color:darkgrey; font-family:courier;\">Projects<a href=\"https://www.github.com/shreenibhar\" style=\"margin:2vmin;\"><i class=\"fab fa-github-alt\" data-placement=\"bottom\" data-toggle=\"tooltip\" title=\"Github\"></i><span style=\"font-size:1vh;\">Github</span></a></p>\n",
      "<table class=\"table\" style=\"font-size:2vh; text-align:justify;\">\n",
      "<tbody>\n",
      "<tr>\n",
      "<td>\n",
      "<b><a href=\"https://about.google/intl/en/\">Software Engineering Intern, Google</a></b><br/>\n",
      "\t\t\t\t\t\t\tOk Google!<br/>\n",
      "\t\t\t\t\t\t\tI got some of the Googlyness experience when I interned with the Google Assistant infrastructure team.\n",
      "\t\t\t\t\t\t</td>\n",
      "</tr>\n",
      "<tr>\n",
      "<td>\n",
      "<b><a href=\"https://www.aboutamazon.com/\">Software Development Intern, Amazon</a></b><br/>\n",
      "\t\t\t\t\t\t\tI interned in the Earth's most customer centric company.<br/>\n",
      "\t\t\t\t\t\t\tI designed and deployed an internal tool page service in the Kindle Digital Commerce Platform team using Amazon's framework.\n",
      "\t\t\t\t\t\t</td>\n",
      "</tr>\n",
      "<tr>\n",
      "<td>\n",
      "<b><a href=\"https://github.com/una-020/ChatterBot-TextClassifier\">ChatterBot - A Text Classifier Bot</a></b><br/>\n",
      "\t\t\t\t\t\t\tThe Ultimate Chatter bot.<br/>\n",
      "\t\t\t\t\t\t\tImplemented a Dialogflow chat bot which can classify text with Flask backend.<br/>\n",
      "\t\t\t\t\t\t\tWe trained LSTM neural networks to classify text and deployed it in Flask, Designed a conversational flow for the Chat Bot and Implemented a delay response mechanism to handle latency for explanation queries.\n",
      "\t\t\t\t\t\t</td>\n",
      "</tr>\n",
      "<tr>\n",
      "<td>\n",
      "<b><a href=\"https://github.com/shreenibhar/InstrumentRecognition\">Music Recogniton and Generation</a></b><br/>\n",
      "\t\t\t\t\t\t\tWon the Second best student paper award for this project.<br/>\n",
      "\t\t\t\t\t\t\tInitially, I worked on just violin samples and later went on to generalize it to all instruments.<br/>\n",
      "\t\t\t\t\t\t\tI created Music by generating Spectrograms using Deep Convolutional GAN.\n",
      "\t\t\t\t\t\t</td>\n",
      "</tr>\n",
      "<tr>\n",
      "<td>\n",
      "<b><a href=\"\">Text to Image</a></b><br/>\n",
      "\t\t\t\t\t\t\tAn Image is worth a thousand words or is it.<br/>\n",
      "\t\t\t\t\t\t\tWe generated flower images from a given textual description.<br/>\n",
      "\t\t\t\t\t\t\tWe used LSTM and DeConv GANs to genearte the flowers (The flowers are in the eyes of the beholder)!\n",
      "\t\t\t\t\t\t</td>\n",
      "</tr>\n",
      "<tr>\n",
      "<td>\n",
      "<b><a href=\"https://github.com/SooryaN/gipf-ai\">Game Strategies for the GIPF game, NIT Trichy</a></b><br/>\n",
      "\t\t\t\t\t\t\tWe defeated the current champion bot in GIPF and analyzed various strategies (Monte Carlo Tree Search, Negascout).\n",
      "\t\t\t\t\t\t</td>\n",
      "</tr>\n",
      "<tr>\n",
      "<td>\n",
      "<b><a href=\"https://delta.nitt.edu/\">Dev Projects, Delta, NIT Trichy</a></b><br/>\n",
      "\t\t\t\t\t\t\tDeveloped inventory management site with Flask and MySQL database.<br/>\n",
      "\t\t\t\t\t\t\tWorked with some cool people and created a campus communication application in android (PHP backend).<br/>\n",
      "\t\t\t\t\t\t\tDevised AI for Tic-Tac-Toe, Chess and built game in android for hackathons.\n",
      "\t\t\t\t\t\t</td>\n",
      "</tr>\n",
      "</tbody>\n",
      "</table>\n",
      "</div>\n",
      "</div>\n",
      "<div class=\"container\" id=\"Research\" style=\"padding-top:70px;\">\n",
      "<div class=\"jumbotron\" style=\"font-family:arial; text-align:center;\">\n",
      "<p style=\"font-size:4vh; text-align:center; color:darkgrey; font-family:courier;\">Research<a href=\"https://www.github.com/shreenibhar\" style=\"margin:2vmin;\"><i class=\"fab fa-github\" data-placement=\"bottom\" data-toggle=\"tooltip\" title=\"Github\"></i><span style=\"font-size:1vh;\">Github</span></a></p>\n",
      "<table class=\"table\" style=\"font-size:2vh; text-align:justify;\">\n",
      "<tbody>\n",
      "<tr>\n",
      "<td>\n",
      "<b><a href=\"https://github.com/monikkinom/ner-lstm\">Named Entity Recognition, IIIT Hyderabad</a></b><br/>\n",
      "\t\t\t\t\t\t\tTensorflow is great!<br/>\n",
      "\t\t\t\t\t\t\tWe improved the accuracy by 15% in the Named Entity Recognition task for Hindi and chieved 90% accuracy in the English task.<br/>\n",
      "\t\t\t\t\t\t\tWe used LSTM networks and Word Embeddings. Published in the proceedings of ICON-2016 conference indexed in ACL.\n",
      "\t\t\t\t\t\t</td>\n",
      "</tr>\n",
      "<tr>\n",
      "<td>\n",
      "<b><a href=\"https://github.com/shreenibhar/larsenMRI\">Acceleration of Vector Auto Regression with GPUs, IIT Delhi</a></b><br/>\n",
      "\t\t\t\t\t\t\tGPUs are crazy!<br/>\n",
      "\t\t\t\t\t\t\tI achieved 650x speedup over the regular CPU code.<br/>\n",
      "\t\t\t\t\t\t\tComputed tight bound solutions for Lasso regression models.\n",
      "\t\t\t\t\t\t</td>\n",
      "</tr>\n",
      "<tr>\n",
      "<td>\n",
      "<b><a href=\"http://sdiwc.net/digital-library/web-admin/upload-pdf/00002025.pdf\">MAC Layer Optimization, Dynamic Learning, NIT Trichy</a></b><br/>\n",
      "\t\t\t\t\t\t\tWe increased throughput by 3% (10Kbps)approx. at max traffic (80 stations) and optimized the MAC 802.11 wireless network Contention Window mechanism.<br/>\n",
      "\t\t\t\t\t\t\tWe used Neuton's regression to solve complex equations. Our work got published in the IJDIWC journal.\n",
      "\t\t\t\t\t\t</td>\n",
      "</tr>\n",
      "</tbody>\n",
      "</table>\n",
      "</div>\n",
      "</div>\n",
      "<div class=\"container\" id=\"Publications\" style=\"height:100vh; padding-top:70px;\">\n",
      "<p style=\"font-size:4vh; font-family:courier; text-align:center;\">Publications<a href=\"https://scholar.google.com/citations?user=X8hMQFEAAAAJ&amp;hl=en\" style=\"margin:2vmin;\"><i class=\"ai ai-google-scholar\" data-placement=\"bottom\" data-toggle=\"tooltip\" title=\"Google Scholar\"></i><span style=\"font-size:1vh;\">GScholar</span></a></p>\n",
      "<table class=\"table\" style=\"font-size:2vh; font-family:arial;\">\n",
      "<tbody>\n",
      "<tr>\n",
      "<th scope=\"row\">1</th>\n",
      "<td><a href=\"http://sdiwc.net/digital-library/web-admin/upload-pdf/00002025.pdf\">Balasubramanian, N., Venkataramanan, S.B. and Aathma, A., 2017. Dynamic Optimization of IEEE 802.11 DCF based on Active Stations and Collision Probability. International Journal of Digital Information and Wireless Communications, 7(2), pp.66-75.</a></td>\n",
      "</tr>\n",
      "<tr>\n",
      "<th scope=\"row\">2</th>\n",
      "<td><a href=\"https://arxiv.org/pdf/1610.09756.pdf\">Athavale, V., Bharadwaj, S., Pamecha, M., Prabhu, A. and Shrivastava, M., 2016. Towards deep learning in hindi ner: An approach to tackle the labelled data scarcity. arXiv preprint arXiv:1610.09756.</a></td>\n",
      "</tr>\n",
      "</tbody>\n",
      "</table>\n",
      "</div>\n",
      "<div class=\"container\" id=\"Resume\" style=\"height:100vh; padding-top:70px; background-color:#404040; display:flex;\">\n",
      "<div style=\"margin:auto;\">\n",
      "<p style=\"font-size:3vmax; font-family:courier; text-align:center; color:white;\">And, here is my resumé</p>\n",
      "<div class=\"text-center\">\n",
      "<button class=\"btn btn-outline-warning btn-lg\" style=\"width:20vmax; height:8vmax;\" type=\"button\"><p style=\"font-size:3vmax; font-family:courier; text-align:center;\">Resume<img class=\"rounded\" src=\"images/resume.png\" style=\"width:3vmax; height:3vmax;\"/></p></button>\n",
      "</div>\n",
      "</div>\n",
      "</div>\n",
      "<script>\n",
      "\t\t$(document).ready(function(){\n",
      "\t\t\t$('.btn').click(function() {\n",
      "\t\t\t\twindow.location = \"pdfs/resume.pdf\";\n",
      "\t\t\t});\n",
      "\t\t\t$('[data-toggle=\"tooltip\"]').tooltip()\n",
      "\t\t});\n",
      "\t</script>\n",
      "<div class=\"container\" id=\"Hobbies\" style=\"height:100vh; padding-top:70px; display:flex; flex-wrap:nowrap; flex-direction:column; justify-content:center;\">\n",
      "<p style=\"font-size:5vmin; font-family:courier; text-align:center;\">When I am free, I usually:</p>\n",
      "<div style=\"display:flex; flex-wrap:wrap; flex-direction:row; justify-content:center;\">\n",
      "<img class=\"rounded\" src=\"images/tt.png\" style=\"width:30vmin; height:30vmin; padding:1vmin;\"/>\n",
      "<img class=\"rounded\" src=\"images/gym.png\" style=\"width:30vmin; height:30vmin; padding:1vmin;\"/>\n",
      "<img class=\"rounded\" src=\"images/music.png\" style=\"width:30vmin; height:30vmin; padding:1vmin;\"/>\n",
      "<img class=\"rounded\" src=\"images/draw.png\" style=\"width:30vmin; height:30vmin; padding:1vmin;\"/>\n",
      "<img class=\"rounded\" src=\"images/novel.png\" style=\"width:30vmin; height:30vmin; padding:1vmin;\"/>\n",
      "<img class=\"rounded\" src=\"images/eat.png\" style=\"width:30vmin; height:30vmin; padding:1vmin;\"/>\n",
      "</div>\n",
      "</div>\n",
      "<footer class=\"page-footer\" id=\"Contact\" style=\"background-color:black;\">\n",
      "<div class=\"container text-center\">\n",
      "<p style=\"font-size:5vmin; font-family:courier; color:grey;\">Feel free to shoot me a message!</p>\n",
      "<div style=\"color:white; font-size:5vmin;\">\n",
      "<a href=\"mailto:sbvenkat@ucsd.edu\">\n",
      "<i class=\"fas fa-envelope fa-2x\" data-placement=\"bottom\" data-toggle=\"tooltip\" style=\"margin:2vmin;\" title=\"Email\"></i>\n",
      "</a>\n",
      "<a href=\"https://www.linkedin.com/in/shreenibhar/\">\n",
      "<i class=\"fab fa-linkedin-in fa-2x\" data-placement=\"bottom\" data-toggle=\"tooltip\" style=\"margin:2vmin;\" title=\"Linkedin\"></i>\n",
      "</a>\n",
      "<a href=\"https://www.facebook.com/ShreenivasBharadwajV\">\n",
      "<i class=\"fab fa-facebook-f fa-2x\" data-placement=\"bottom\" data-toggle=\"tooltip\" style=\"margin:2vmin;\" title=\"Facebook\"></i>\n",
      "</a>\n",
      "<a href=\"https://twitter.com/shreenibhar\">\n",
      "<i class=\"fab fa-twitter fa-2x\" data-placement=\"bottom\" data-toggle=\"tooltip\" style=\"margin:2vmin;\" title=\"Twitter\"></i>\n",
      "</a>\n",
      "<a href=\"https://plus.google.com/u/0/108483037864740534736\">\n",
      "<i class=\"fab fa-google-plus-g fa-2x\" data-placement=\"bottom\" data-toggle=\"tooltip\" style=\"margin:2vmin;\" title=\"Google+\"></i>\n",
      "</a>\n",
      "</div>\n",
      "</div>\n",
      "<div class=\"footer-copyright text-center\" style=\"color:darkgrey; font-size:3vmin;\">\n",
      "\t\t\t2018, Shreenivas Bharadwaj V\n",
      "\t\t</div>\n",
      "<div class=\"footer-copyright text-center\" style=\"color:darkgrey; font-size:3vmin;\">\n",
      "\t\t\tMade with HTML, CSS, Bootsrap, Javascript, Jquery, Font Awesome and lots of ❤\n",
      "\t\t</div>\n",
      "</footer>\n",
      "</body>\n",
      "</html>\n",
      ">\n"
     ]
    }
   ],
   "source": [
    "from urllib.request import urlopen\n",
    "from bs4 import BeautifulSoup\n",
    "\n",
    "url = input(\"Enter the url:\")\n",
    "html = urlopen(url)\n",
    "bsobj=BeautifulSoup(html.read(),features=\"html.parser\")\n",
    "print(bsobj.prettify)"
   ]
  },
  {
   "cell_type": "code",
   "execution_count": null,
   "metadata": {},
   "outputs": [],
   "source": []
  },
  {
   "cell_type": "code",
   "execution_count": 7,
   "metadata": {
    "scrolled": false
   },
   "outputs": [
    {
     "name": "stdout",
     "output_type": "stream",
     "text": [
      "Enter the url:https://www.ksb1712.me/\n",
      "<bound method Tag.prettify of <!DOCTYPE html>\n",
      "\n",
      "<!--[if lt IE 8 ]><html class=\"no-js ie ie7\" lang=\"en\"> <![endif]-->\n",
      "<!--[if IE 8 ]><html class=\"no-js ie ie8\" lang=\"en\"> <![endif]-->\n",
      "<!--[if (gte IE 8)|!(IE)]><!--><html class=\"no-js\" lang=\"en\"> <!--<![endif]-->\n",
      "<head>\n",
      "<!--- Basic Page Needs\n",
      "   ================================================== -->\n",
      "<!-- Global site tag (gtag.js) - Google Analytics -->\n",
      "<!-- <script async src=\"https://www.googletagmanager.com/gtag/js?id=UA-108402128-1\"></script> -->\n",
      "<!-- <script>\n",
      "  \t\twindow.dataLayer = window.dataLayer || [];\n",
      "  \t\tfunction gtag(){dataLayer.push(arguments);}\n",
      "  \t\tgtag('js', new Date());\n",
      "\n",
      "  \t\tgtag('config', 'UA-108402128-1');\n",
      "\t</script> -->\n",
      "<meta charset=\"utf-8\"/>\n",
      "<title>Bharath</title>\n",
      "<meta content=\"ksb1712,ksb,ksbharathwaj, Bharathwaj Sreedhar\" name=\"description\"/>\n",
      "<meta content=\"ksb1712, ksb, ksbharathwaj, ks Bharathwaj, ksb\" name=\"keywords\"/>\n",
      "<meta content=\"KSB\" name=\"author\"/>\n",
      "<!-- Mobile Specific Metas\n",
      "   ================================================== -->\n",
      "<meta content=\"width=device-width, initial-scale=1.0\" name=\"viewport\"/>\n",
      "<!-- CSS\n",
      "    ================================================== -->\n",
      "<link href=\"css/default.css\" rel=\"stylesheet\"/>\n",
      "<link href=\"css/layout.css\" rel=\"stylesheet\"/>\n",
      "<link href=\"css/media-queries.css\" rel=\"stylesheet\"/>\n",
      "<link href=\"css/magnific-popup.css\" rel=\"stylesheet\"/>\n",
      "<!-- <link rel=\"stylesheet\" href=\"css/materialize.min.css\"> -->\n",
      "<!-- Script\n",
      "   ================================================== -->\n",
      "<script src=\"js/modernizr.js\"></script>\n",
      "<!-- Favicons\n",
      "\t================================================== -->\n",
      "<link href=\"\" rel=\"shortcut icon\"/>\n",
      "</head>\n",
      "<body>\n",
      "<!-- Header\n",
      "   ================================================== -->\n",
      "<header id=\"home\">\n",
      "<nav id=\"nav-wrap\">\n",
      "<a class=\"mobile-btn\" href=\"#nav-wrap\" title=\"Show navigation\">Show navigation</a>\n",
      "<a class=\"mobile-btn\" href=\"#\" title=\"Hide navigation\">Hide navigation</a>\n",
      "<ul class=\"nav\" id=\"nav\">\n",
      "<li class=\"current\"><a class=\"smoothscroll\" href=\"#home\">Home</a></li>\n",
      "<!-- <li><a class=\"smoothscroll\" href=\"#about\">About</a></li> -->\n",
      "<li><a class=\"smoothscroll\" href=\"#resume\">Resume</a></li>\n",
      "<!-- <li><a class=\"smoothscroll\" href=\"#portfolio\">Works</a></li> -->\n",
      "</ul> <!-- end #nav -->\n",
      "</nav> <!-- end #nav-wrap -->\n",
      "<div class=\"row banner\">\n",
      "<div class=\"banner-text\">\n",
      "<h3 style=\"color:#cc005f\">Hi, there</h3>\n",
      "<h1 class=\"responsive-headline\">I'm K.S.Bharathwaj</h1>\n",
      "<h2 style=\"color:#696969\">Self proclaimed Deep Learning enthusiast | Software Developer\n",
      "            </h2>\n",
      "<hr/>\n",
      "<ul class=\"social\">\n",
      "<li><a href=\"https://github.com/ksb1712\"><i class=\"fa fa-github\"></i></a></li>\n",
      "<!-- <li><a href=\"\"><i class=\"fa fa-facebook\"></i></a></li> -->\n",
      "<li><a href=\"mailto:ksbharathwaj17@gmail.com\"><i aria-hidden=\"true\" class=\"fa fa-envelope\"></i></a></li>\n",
      "<li><a href=\"https://www.linkedin.com/in/ksbharathwaj17/\"><i class=\"fa fa-linkedin\"></i></a></li>\n",
      "<!-- <li><a href=\"#\"><i class=\"fa fa-skype\"></i></a></li> -->\n",
      "</ul>\n",
      "</div>\n",
      "</div>\n",
      "<p class=\"scrolldown\">\n",
      "<a class=\"smoothscroll\" href=\"#home\"><i class=\"icon-down-circle\"></i></a>\n",
      "</p>\n",
      "</header> <!-- Header End -->\n",
      "<!-- About Section\n",
      "   ================================================== -->\n",
      "<!-- <section id=\"about\">\n",
      "\n",
      "      <div class=\"row\">\n",
      "\n",
      "         <div class=\"three columns\">\n",
      "\n",
      "            <img class=\"profile-pic\"  src=\"images/profilepic.jpg\" alt=\"\" />\n",
      "\n",
      "         </div>\n",
      "\n",
      "         <div class=\"nine columns main-col\">\n",
      "\n",
      "            <h2>About Me</h2>\n",
      "\n",
      "            <p>\n",
      "              ss\n",
      "            </p>\n",
      "\n",
      "            <div class=\"row\">\n",
      "\n",
      "              \n",
      "\n",
      "               <div class=\"columns download\">\n",
      "                  <p>\n",
      "                     <a href=\"./Resume.pdf\" class=\"button\"><i class=\"fa fa-download\"></i>Download Resume</a>\n",
      "                  </p>\n",
      "               </div> -->\n",
      "<!-- </div> end row -->\n",
      "<!-- </div> end .main-col -->\n",
      "<!-- </div> -->\n",
      "<!-- </section> About Section End -->\n",
      "<!-- Resume Section\n",
      "   ================================================== -->\n",
      "<section id=\"resume\">\n",
      "<div class=\"row resume-timeline\">\n",
      "<div class=\"col-twelve resume-header\">\n",
      "<h2>Education</h2>\n",
      "</div> <!-- /resume-header -->\n",
      "<div class=\"col-twelve\">\n",
      "<div class=\"timeline-wrap\">\n",
      "<div class=\"timeline-block\">\n",
      "<div class=\"timeline-ico\">\n",
      "<i class=\"fa fa-graduation-cap\"></i>\n",
      "</div>\n",
      "<div class=\"timeline-header\">\n",
      "<h3>Masters Degree</h3>\n",
      "<p>Oct 2018 - Aug 2020</p>\n",
      "</div>\n",
      "<div class=\"timeline-content\">\n",
      "<h4><a href=\"https://tu-berlin.de\">Technical University of Berlin</a> </h4>\n",
      "<p>\n",
      "                Double-degree Master Programme (MSc in Autonomous Systems) \n",
      "                at <b>TU Berlin, Germany</b> and <b>KTH Royal Institute of Technology, Sweden.</b> Minor in \n",
      "                Innovation and Entrepreunership awarded by EiT Digital Masters.\n",
      "              </p>\n",
      "</div>\n",
      "</div> <!-- /timeline-block -->\n",
      "<div class=\"timeline-block\">\n",
      "<div class=\"timeline-ico\">\n",
      "<i class=\"fa fa-graduation-cap\"></i>\n",
      "</div>\n",
      "<div class=\"timeline-header\">\n",
      "<h3>Bachelor Degree</h3>\n",
      "<p>Aug 2014 - May 2018</p>\n",
      "</div>\n",
      "<div class=\"timeline-content\">\n",
      "<h4><a href=\"https://www.nitt.edu\">National Institute of Technology, Trichy</a> </h4>\n",
      "<p> Bachelor of Technology in <b>Electrical and Electronics Engineering. </b>\n",
      "<br/>\n",
      "                   Thesis: <b>Self Driving car Steering angle prediction using Android Things</b>\n",
      "</p>\n",
      "</div>\n",
      "</div> <!-- /timeline-block -->\n",
      "</div> <!-- /timeline-wrap -->\n",
      "</div> <!-- /col-twelve -->\n",
      "</div> <!-- /resume-timeline -->\n",
      "<div class=\"row resume-timeline\">\n",
      "<div class=\"col-twelve resume-header\">\n",
      "<h2>Experience</h2>\n",
      "</div> <!-- /resume-header -->\n",
      "<div class=\"col-twelve\">\n",
      "<div class=\"timeline-wrap\">\n",
      "<div class=\"timeline-block\">\n",
      "<div class=\"timeline-ico\">\n",
      "<i class=\"fa fa-briefcase\"></i>\n",
      "</div>\n",
      "<div class=\"timeline-header\">\n",
      "<h3>Research Intern</h3>\n",
      "<p>May 2017 - Aug 2017</p>\n",
      "</div>\n",
      "<div class=\"timeline-content\">\n",
      "<h4><a href=\"https://www.osapublishing.org/boe/abstract.cfm?uri=boe-9-7-3244\">DRUNET: a dilated-residual U-Net deep learning network to segment optic nerve head tissues in optical coherence tomography images </a>\n",
      "<h4><a href=\"https://www.bioeng.nus.edu.sg/OEIL/OCTAGON.html\">National University of Singapore, Singapore</a></h4>\n",
      "<p>Developed new state-of-the-art convolutional neural network \n",
      "                 architectures to accurately segment Optical Coherence Tomograpy(OCT) \n",
      "                 scans of the Optic Nerve Head(ONH). The network could efficiently segment \n",
      "                 the 7 important layers of the ONH within a matter of milli seconds. \n",
      "                 The results obtained are significantly better than any other model in \n",
      "                 existence (Based on Dice scores). Further improvement in speed can \n",
      "                 lead to real-time segmentation for use in medical procedures.</p>\n",
      "</h4></div>\n",
      "</div> <!-- /timeline-block -->\n",
      "<div class=\"timeline-block\">\n",
      "<div class=\"timeline-ico\">\n",
      "<i class=\"fa fa-briefcase\"></i>\n",
      "</div>\n",
      "<div class=\"timeline-header\">\n",
      "<h3>Research Intern</h3>\n",
      "<p>May 2016 - Aug 2016</p>\n",
      "</div>\n",
      "<div class=\"timeline-content\">\n",
      "<h4><a href=\"eklavyaweb.wordpress.com/2016/05/15/acceleration-of-full-brain-autoregressive-modelling-using-gpus/\">Indian Institute of Technology, Delhi</a></h4>\n",
      "<p>Developed and implemented the parallel algorithm for the granger causality analysis of MRI scans. The parallel implementation of <a href=\"https://github.com/DushyantSahoo/granger\">this</a> code was done using <b>Nvidia's CUDA C</b> platform. Achieved significant improvements in execution speed.</p>\n",
      "</div>\n",
      "</div> <!-- /timeline-block -->\n",
      "<div class=\"timeline-block\">\n",
      "<div class=\"timeline-ico\">\n",
      "<i class=\"fa fa-briefcase\"></i>\n",
      "</div>\n",
      "<div class=\"timeline-header\">\n",
      "<h3>Software Developer</h3>\n",
      "<p>Aug 2015 - Aug 2018</p>\n",
      "</div>\n",
      "<div class=\"timeline-content\">\n",
      "<h4><a href=\"https://delta.nitt.edu\">Delta Force, NITT</a></h4>\n",
      "<p>Premier computing club of NIT Trichy. Developed many <b>android</b> and web \n",
      "                applications for college fest. Organised workshops on programming languages for junior students.</p>\n",
      "</div>\n",
      "</div> <!-- /timeline-block -->\n",
      "</div> <!-- /timeline-wrap -->\n",
      "</div> <!-- /col-twelve -->\n",
      "</div> <!-- /resume-timeline -->\n",
      "<!-- Skills\n",
      "      ----------------------------------------------- -->\n",
      "<div class=\"row\">\n",
      "<div class=\"column\">\n",
      "<h2 style=\"text-align: center;\"><i class=\"fa fa-code\" color=\"blue\"></i> Programming Languages</h2>\n",
      "<br/>\n",
      "<div style=\"text-align: center;\">\n",
      "<div class=\"chip\">\n",
      "<p style=\"text-align: center;\">Python</p>\n",
      "</div>\n",
      "<div class=\"chip\">\n",
      "<p style=\"text-align: center;\">Matlab</p>\n",
      "</div>\n",
      "</div>\n",
      "<div style=\"text-align: center;\">\n",
      "<div class=\"chip\">\n",
      "<p style=\"text-align: center;\">Java</p>\n",
      "</div>\n",
      "<div class=\"chip\" style=\"padding-left: 20px;padding-right: 20px;\">\n",
      "<p style=\"text-align: center;\">C</p>\n",
      "</div>\n",
      "<div class=\"chip\">\n",
      "<p style=\"text-align: center;\">C++</p>\n",
      "</div>\n",
      "<div class=\"chip\">\n",
      "<p style=\"text-align: center;\">Bash</p>\n",
      "</div>\n",
      "</div>\n",
      "<div style=\"text-align: center;\">\n",
      "<div class=\"chip\">\n",
      "<p style=\"text-align: center;\">CUDA</p>\n",
      "</div>\n",
      "</div>\n",
      "<br/>\n",
      "<h2 style=\"text-align: center;\"><i class=\"fa fa-code-fork\" color=\"blue\"></i> Libraries</h2>\n",
      "<br/>\n",
      "<div style=\"text-align: center;\">\n",
      "<div class=\"chip\">\n",
      "<p style=\"text-align: center;\">TensorFlow</p>\n",
      "</div>\n",
      "<div class=\"chip\">\n",
      "<p style=\"text-align: center;\">Pandas</p>\n",
      "</div>\n",
      "<div class=\"chip\">\n",
      "<p style=\"text-align: center;\">ROS</p>\n",
      "</div>\n",
      "</div>\n",
      "<div style=\"text-align: center;\">\n",
      "<div class=\"chip\">\n",
      "<p style=\"text-align: center;\">Keras</p>\n",
      "</div>\n",
      "<div class=\"chip\">\n",
      "<p style=\"text-align: center;\">Numpy</p>\n",
      "</div>\n",
      "</div>\n",
      "<div style=\"text-align: center;\">\n",
      "<div class=\"chip\">\n",
      "<p style=\"text-align: center;\">Scikit Learn</p>\n",
      "</div>\n",
      "<div class=\"chip\">\n",
      "<p style=\"text-align: center;\">OpenCV</p>\n",
      "</div>\n",
      "</div>\n",
      "</div> <!-- End of column 1 -->\n",
      "<div class=\"column\">\n",
      "<h2 style=\"text-align: center;\"><i class=\"fa fa-book\" color=\"blue\"></i> Coursework</h2></div></div></section></body></html>\n",
      "<div style=\"text-align: center; margin-top: 40px;\">\n",
      "<div style=\"text-align: center;\">\n",
      "<div class=\"chip\">\n",
      "<p>Robotics</p>\n",
      "</div>\n",
      "</div>\n",
      "<div style=\"text-align: center;\">\n",
      "<div class=\"chip\">\n",
      "<p>Image Processing</p>\n",
      "</div>\n",
      "</div>\n",
      "<div style=\"text-align: center;\">\n",
      "<div class=\"chip\">\n",
      "<p>Machine Learning</p>\n",
      "</div>\n",
      "</div>\n",
      "<div>\n",
      "<div class=\"chip\">\n",
      "<p style=\"text-align: center;\">Pattern Recognition</p>\n",
      "</div>\n",
      "</div>\n",
      "<div>\n",
      "<div class=\"chip\">\n",
      "<p style=\"text-align: center;\">Discrete Event Systems</p>\n",
      "</div>\n",
      "</div>\n",
      "<div>\n",
      "<div class=\"chip\">\n",
      "<p style=\"text-align: center;\">Modern Control Systems</p>\n",
      "</div>\n",
      "</div>\n",
      "<div>\n",
      "<div class=\"chip\">\n",
      "<p style=\"text-align: center;\">CNN for Visual Recognition</p>\n",
      "</div>\n",
      "</div>\n",
      "<div>\n",
      "<div class=\"chip\">\n",
      "<p style=\"text-align: center;\">Data Structures and Algorithms</p>\n",
      "</div>\n",
      "</div>\n",
      "<div>\n",
      "<div class=\"chip\">\n",
      "<p style=\"text-align: center;\">Introduction to Parallel Programming</p>\n",
      "</div>\n",
      "</div>\n",
      "</div>\n",
      "\n",
      "<!-- <div class=\"nine columns main-col\">\n",
      "\n",
      "\n",
      "         \n",
      "\n",
      "\t\t\t\t<div class=\"bars\">\n",
      "\n",
      "\t\t\t\t   <ul class=\"skills\">\n",
      "\t\t\t\t\t    <li><span class=\"bar-expand cpp\"></span><em>C/C++</em></li>\n",
      "              <li><span class=\"bar-expand python\"></span><em>Python</em></li>\n",
      "\t\t\t\t\t\t  <li><span class=\"bar-expand python\"></span><em>Java</em></li>\n",
      "\t\t\t\t\t\t  <li><span class=\"bar-expand tf\"></span><em>Tensorflow</em></li>\n",
      "\t\t\t\t\t\t  <li><span class=\"bar-expand html5\"></span><em>Cuda C</em></li>\n",
      "              <li><span class=\"bar-expand jquery\"></span><em>jQuery</em></li>\n",
      "\t\t\t\t\t</ul>\n",
      "\n",
      "\t\t\t\t</div><!-- end skill-bars -->\n",
      "<!-- </div> main-col end -->\n",
      "<!-- </div> End skills -->\n",
      " <!-- Resume Section End-->\n",
      "<!-- footer\n",
      "   ================================================== -->\n",
      "<footer>\n",
      "<div class=\"row\">\n",
      "<div class=\"twelve columns\">\n",
      "<ul class=\"social-links\">\n",
      "<li><a href=\"https://github.com/ksb1712\"><i class=\"fa fa-github\"></i></a></li>\n",
      "<!-- <li><a href=\"\"><i class=\"fa fa-facebook\"></i></a></li> -->\n",
      "<li><a href=\"mailto:ksbharathwaj17@gmail.com\"><i aria-hidden=\"true\" class=\"fa fa-envelope\"></i></a></li>\n",
      "<li><a href=\"https://www.linkedin.com/in/ksbharathwaj17/\"><i class=\"fa fa-linkedin\"></i></a></li>\n",
      "<!-- <li><a href=\"#\"><i class=\"fa fa-skype\"></i></a></li> -->\n",
      "</ul>\n",
      "</div>\n",
      "<div id=\"go-top\"><a class=\"smoothscroll\" href=\"#home\" title=\"Back to Top\"><i class=\"icon-up-open\"></i></a></div>\n",
      "</div>\n",
      "</footer> <!-- Footer End-->\n",
      "<div id=\"preloader\">\n",
      "<div id=\"loader\"></div>\n",
      "</div>\n",
      "<!-- Java Script\n",
      "   ================================================== -->\n",
      "<script src=\"https://ajax.googleapis.com/ajax/libs/jquery/1.10.2/jquery.min.js\"></script>\n",
      "<script>window.jQuery || document.write('<script src=\"js/jquery-1.10.2.min.js\"><\\/script>')</script>\n",
      "<script src=\"js/jquery-migrate-1.2.1.min.js\" type=\"text/javascript\"></script>\n",
      "<!-- <script src=\"js/jquery.flexslider.js\"></script> -->\n",
      "<script src=\"js/waypoints.js\"></script>\n",
      "<script src=\"js/materialize.min.js\"></script>\n",
      "<!-- <script src=\"js/jquery.fittext.js\"></script> -->\n",
      "<!-- <script src=\"js/jquery-3.2.1.min.js\"></script> -->\n",
      "<!-- <script src=\"js/plugins.js\"></script> -->\n",
      "<script src=\"js/magnific-popup.js\"></script>\n",
      "<script src=\"js/init.js\"></script>\n",
      "\n",
      "\n",
      ">\n"
     ]
    }
   ],
   "source": [
    "from urllib.request import urlopen\n",
    "from bs4 import BeautifulSoup\n",
    "\n",
    "url = input(\"Enter the url:\")\n",
    "html = urlopen(url)\n",
    "bsobj=BeautifulSoup(html.read(),features=\"html.parser\")\n",
    "print(bsobj.prettify)"
   ]
  },
  {
   "cell_type": "code",
   "execution_count": null,
   "metadata": {},
   "outputs": [],
   "source": []
  },
  {
   "cell_type": "code",
   "execution_count": 3,
   "metadata": {},
   "outputs": [
    {
     "name": "stdout",
     "output_type": "stream",
     "text": [
      "Enter the url:https://colorlib.com/preview/#jackson\n"
     ]
    },
    {
     "ename": "HTTPError",
     "evalue": "HTTP Error 403: Forbidden",
     "output_type": "error",
     "traceback": [
      "\u001b[1;31m---------------------------------------------------------------------------\u001b[0m",
      "\u001b[1;31mHTTPError\u001b[0m                                 Traceback (most recent call last)",
      "\u001b[1;32m<ipython-input-3-dd9c236cef6c>\u001b[0m in \u001b[0;36m<module>\u001b[1;34m\u001b[0m\n\u001b[0;32m      3\u001b[0m \u001b[1;33m\u001b[0m\u001b[0m\n\u001b[0;32m      4\u001b[0m \u001b[0murl\u001b[0m \u001b[1;33m=\u001b[0m \u001b[0minput\u001b[0m\u001b[1;33m(\u001b[0m\u001b[1;34m\"Enter the url:\"\u001b[0m\u001b[1;33m)\u001b[0m\u001b[1;33m\u001b[0m\u001b[1;33m\u001b[0m\u001b[0m\n\u001b[1;32m----> 5\u001b[1;33m \u001b[0mhtml\u001b[0m \u001b[1;33m=\u001b[0m \u001b[0murlopen\u001b[0m\u001b[1;33m(\u001b[0m\u001b[0murl\u001b[0m\u001b[1;33m)\u001b[0m\u001b[1;33m\u001b[0m\u001b[1;33m\u001b[0m\u001b[0m\n\u001b[0m\u001b[0;32m      6\u001b[0m \u001b[0mbsobj\u001b[0m\u001b[1;33m=\u001b[0m\u001b[0mBeautifulSoup\u001b[0m\u001b[1;33m(\u001b[0m\u001b[0mhtml\u001b[0m\u001b[1;33m.\u001b[0m\u001b[0mread\u001b[0m\u001b[1;33m(\u001b[0m\u001b[1;33m)\u001b[0m\u001b[1;33m,\u001b[0m\u001b[0mfeatures\u001b[0m\u001b[1;33m=\u001b[0m\u001b[1;34m\"html.parser\"\u001b[0m\u001b[1;33m)\u001b[0m\u001b[1;33m\u001b[0m\u001b[1;33m\u001b[0m\u001b[0m\n\u001b[0;32m      7\u001b[0m \u001b[0mprint\u001b[0m\u001b[1;33m(\u001b[0m\u001b[0mbsobj\u001b[0m\u001b[1;33m.\u001b[0m\u001b[0mprettify\u001b[0m\u001b[1;33m)\u001b[0m\u001b[1;33m\u001b[0m\u001b[1;33m\u001b[0m\u001b[0m\n",
      "\u001b[1;32mc:\\users\\raushan\\appdata\\local\\programs\\python\\python36\\lib\\urllib\\request.py\u001b[0m in \u001b[0;36murlopen\u001b[1;34m(url, data, timeout, cafile, capath, cadefault, context)\u001b[0m\n\u001b[0;32m    221\u001b[0m     \u001b[1;32melse\u001b[0m\u001b[1;33m:\u001b[0m\u001b[1;33m\u001b[0m\u001b[1;33m\u001b[0m\u001b[0m\n\u001b[0;32m    222\u001b[0m         \u001b[0mopener\u001b[0m \u001b[1;33m=\u001b[0m \u001b[0m_opener\u001b[0m\u001b[1;33m\u001b[0m\u001b[1;33m\u001b[0m\u001b[0m\n\u001b[1;32m--> 223\u001b[1;33m     \u001b[1;32mreturn\u001b[0m \u001b[0mopener\u001b[0m\u001b[1;33m.\u001b[0m\u001b[0mopen\u001b[0m\u001b[1;33m(\u001b[0m\u001b[0murl\u001b[0m\u001b[1;33m,\u001b[0m \u001b[0mdata\u001b[0m\u001b[1;33m,\u001b[0m \u001b[0mtimeout\u001b[0m\u001b[1;33m)\u001b[0m\u001b[1;33m\u001b[0m\u001b[1;33m\u001b[0m\u001b[0m\n\u001b[0m\u001b[0;32m    224\u001b[0m \u001b[1;33m\u001b[0m\u001b[0m\n\u001b[0;32m    225\u001b[0m \u001b[1;32mdef\u001b[0m \u001b[0minstall_opener\u001b[0m\u001b[1;33m(\u001b[0m\u001b[0mopener\u001b[0m\u001b[1;33m)\u001b[0m\u001b[1;33m:\u001b[0m\u001b[1;33m\u001b[0m\u001b[1;33m\u001b[0m\u001b[0m\n",
      "\u001b[1;32mc:\\users\\raushan\\appdata\\local\\programs\\python\\python36\\lib\\urllib\\request.py\u001b[0m in \u001b[0;36mopen\u001b[1;34m(self, fullurl, data, timeout)\u001b[0m\n\u001b[0;32m    530\u001b[0m         \u001b[1;32mfor\u001b[0m \u001b[0mprocessor\u001b[0m \u001b[1;32min\u001b[0m \u001b[0mself\u001b[0m\u001b[1;33m.\u001b[0m\u001b[0mprocess_response\u001b[0m\u001b[1;33m.\u001b[0m\u001b[0mget\u001b[0m\u001b[1;33m(\u001b[0m\u001b[0mprotocol\u001b[0m\u001b[1;33m,\u001b[0m \u001b[1;33m[\u001b[0m\u001b[1;33m]\u001b[0m\u001b[1;33m)\u001b[0m\u001b[1;33m:\u001b[0m\u001b[1;33m\u001b[0m\u001b[1;33m\u001b[0m\u001b[0m\n\u001b[0;32m    531\u001b[0m             \u001b[0mmeth\u001b[0m \u001b[1;33m=\u001b[0m \u001b[0mgetattr\u001b[0m\u001b[1;33m(\u001b[0m\u001b[0mprocessor\u001b[0m\u001b[1;33m,\u001b[0m \u001b[0mmeth_name\u001b[0m\u001b[1;33m)\u001b[0m\u001b[1;33m\u001b[0m\u001b[1;33m\u001b[0m\u001b[0m\n\u001b[1;32m--> 532\u001b[1;33m             \u001b[0mresponse\u001b[0m \u001b[1;33m=\u001b[0m \u001b[0mmeth\u001b[0m\u001b[1;33m(\u001b[0m\u001b[0mreq\u001b[0m\u001b[1;33m,\u001b[0m \u001b[0mresponse\u001b[0m\u001b[1;33m)\u001b[0m\u001b[1;33m\u001b[0m\u001b[1;33m\u001b[0m\u001b[0m\n\u001b[0m\u001b[0;32m    533\u001b[0m \u001b[1;33m\u001b[0m\u001b[0m\n\u001b[0;32m    534\u001b[0m         \u001b[1;32mreturn\u001b[0m \u001b[0mresponse\u001b[0m\u001b[1;33m\u001b[0m\u001b[1;33m\u001b[0m\u001b[0m\n",
      "\u001b[1;32mc:\\users\\raushan\\appdata\\local\\programs\\python\\python36\\lib\\urllib\\request.py\u001b[0m in \u001b[0;36mhttp_response\u001b[1;34m(self, request, response)\u001b[0m\n\u001b[0;32m    640\u001b[0m         \u001b[1;32mif\u001b[0m \u001b[1;32mnot\u001b[0m \u001b[1;33m(\u001b[0m\u001b[1;36m200\u001b[0m \u001b[1;33m<=\u001b[0m \u001b[0mcode\u001b[0m \u001b[1;33m<\u001b[0m \u001b[1;36m300\u001b[0m\u001b[1;33m)\u001b[0m\u001b[1;33m:\u001b[0m\u001b[1;33m\u001b[0m\u001b[1;33m\u001b[0m\u001b[0m\n\u001b[0;32m    641\u001b[0m             response = self.parent.error(\n\u001b[1;32m--> 642\u001b[1;33m                 'http', request, response, code, msg, hdrs)\n\u001b[0m\u001b[0;32m    643\u001b[0m \u001b[1;33m\u001b[0m\u001b[0m\n\u001b[0;32m    644\u001b[0m         \u001b[1;32mreturn\u001b[0m \u001b[0mresponse\u001b[0m\u001b[1;33m\u001b[0m\u001b[1;33m\u001b[0m\u001b[0m\n",
      "\u001b[1;32mc:\\users\\raushan\\appdata\\local\\programs\\python\\python36\\lib\\urllib\\request.py\u001b[0m in \u001b[0;36merror\u001b[1;34m(self, proto, *args)\u001b[0m\n\u001b[0;32m    568\u001b[0m         \u001b[1;32mif\u001b[0m \u001b[0mhttp_err\u001b[0m\u001b[1;33m:\u001b[0m\u001b[1;33m\u001b[0m\u001b[1;33m\u001b[0m\u001b[0m\n\u001b[0;32m    569\u001b[0m             \u001b[0margs\u001b[0m \u001b[1;33m=\u001b[0m \u001b[1;33m(\u001b[0m\u001b[0mdict\u001b[0m\u001b[1;33m,\u001b[0m \u001b[1;34m'default'\u001b[0m\u001b[1;33m,\u001b[0m \u001b[1;34m'http_error_default'\u001b[0m\u001b[1;33m)\u001b[0m \u001b[1;33m+\u001b[0m \u001b[0morig_args\u001b[0m\u001b[1;33m\u001b[0m\u001b[1;33m\u001b[0m\u001b[0m\n\u001b[1;32m--> 570\u001b[1;33m             \u001b[1;32mreturn\u001b[0m \u001b[0mself\u001b[0m\u001b[1;33m.\u001b[0m\u001b[0m_call_chain\u001b[0m\u001b[1;33m(\u001b[0m\u001b[1;33m*\u001b[0m\u001b[0margs\u001b[0m\u001b[1;33m)\u001b[0m\u001b[1;33m\u001b[0m\u001b[1;33m\u001b[0m\u001b[0m\n\u001b[0m\u001b[0;32m    571\u001b[0m \u001b[1;33m\u001b[0m\u001b[0m\n\u001b[0;32m    572\u001b[0m \u001b[1;31m# XXX probably also want an abstract factory that knows when it makes\u001b[0m\u001b[1;33m\u001b[0m\u001b[1;33m\u001b[0m\u001b[1;33m\u001b[0m\u001b[0m\n",
      "\u001b[1;32mc:\\users\\raushan\\appdata\\local\\programs\\python\\python36\\lib\\urllib\\request.py\u001b[0m in \u001b[0;36m_call_chain\u001b[1;34m(self, chain, kind, meth_name, *args)\u001b[0m\n\u001b[0;32m    502\u001b[0m         \u001b[1;32mfor\u001b[0m \u001b[0mhandler\u001b[0m \u001b[1;32min\u001b[0m \u001b[0mhandlers\u001b[0m\u001b[1;33m:\u001b[0m\u001b[1;33m\u001b[0m\u001b[1;33m\u001b[0m\u001b[0m\n\u001b[0;32m    503\u001b[0m             \u001b[0mfunc\u001b[0m \u001b[1;33m=\u001b[0m \u001b[0mgetattr\u001b[0m\u001b[1;33m(\u001b[0m\u001b[0mhandler\u001b[0m\u001b[1;33m,\u001b[0m \u001b[0mmeth_name\u001b[0m\u001b[1;33m)\u001b[0m\u001b[1;33m\u001b[0m\u001b[1;33m\u001b[0m\u001b[0m\n\u001b[1;32m--> 504\u001b[1;33m             \u001b[0mresult\u001b[0m \u001b[1;33m=\u001b[0m \u001b[0mfunc\u001b[0m\u001b[1;33m(\u001b[0m\u001b[1;33m*\u001b[0m\u001b[0margs\u001b[0m\u001b[1;33m)\u001b[0m\u001b[1;33m\u001b[0m\u001b[1;33m\u001b[0m\u001b[0m\n\u001b[0m\u001b[0;32m    505\u001b[0m             \u001b[1;32mif\u001b[0m \u001b[0mresult\u001b[0m \u001b[1;32mis\u001b[0m \u001b[1;32mnot\u001b[0m \u001b[1;32mNone\u001b[0m\u001b[1;33m:\u001b[0m\u001b[1;33m\u001b[0m\u001b[1;33m\u001b[0m\u001b[0m\n\u001b[0;32m    506\u001b[0m                 \u001b[1;32mreturn\u001b[0m \u001b[0mresult\u001b[0m\u001b[1;33m\u001b[0m\u001b[1;33m\u001b[0m\u001b[0m\n",
      "\u001b[1;32mc:\\users\\raushan\\appdata\\local\\programs\\python\\python36\\lib\\urllib\\request.py\u001b[0m in \u001b[0;36mhttp_error_default\u001b[1;34m(self, req, fp, code, msg, hdrs)\u001b[0m\n\u001b[0;32m    648\u001b[0m \u001b[1;32mclass\u001b[0m \u001b[0mHTTPDefaultErrorHandler\u001b[0m\u001b[1;33m(\u001b[0m\u001b[0mBaseHandler\u001b[0m\u001b[1;33m)\u001b[0m\u001b[1;33m:\u001b[0m\u001b[1;33m\u001b[0m\u001b[1;33m\u001b[0m\u001b[0m\n\u001b[0;32m    649\u001b[0m     \u001b[1;32mdef\u001b[0m \u001b[0mhttp_error_default\u001b[0m\u001b[1;33m(\u001b[0m\u001b[0mself\u001b[0m\u001b[1;33m,\u001b[0m \u001b[0mreq\u001b[0m\u001b[1;33m,\u001b[0m \u001b[0mfp\u001b[0m\u001b[1;33m,\u001b[0m \u001b[0mcode\u001b[0m\u001b[1;33m,\u001b[0m \u001b[0mmsg\u001b[0m\u001b[1;33m,\u001b[0m \u001b[0mhdrs\u001b[0m\u001b[1;33m)\u001b[0m\u001b[1;33m:\u001b[0m\u001b[1;33m\u001b[0m\u001b[1;33m\u001b[0m\u001b[0m\n\u001b[1;32m--> 650\u001b[1;33m         \u001b[1;32mraise\u001b[0m \u001b[0mHTTPError\u001b[0m\u001b[1;33m(\u001b[0m\u001b[0mreq\u001b[0m\u001b[1;33m.\u001b[0m\u001b[0mfull_url\u001b[0m\u001b[1;33m,\u001b[0m \u001b[0mcode\u001b[0m\u001b[1;33m,\u001b[0m \u001b[0mmsg\u001b[0m\u001b[1;33m,\u001b[0m \u001b[0mhdrs\u001b[0m\u001b[1;33m,\u001b[0m \u001b[0mfp\u001b[0m\u001b[1;33m)\u001b[0m\u001b[1;33m\u001b[0m\u001b[1;33m\u001b[0m\u001b[0m\n\u001b[0m\u001b[0;32m    651\u001b[0m \u001b[1;33m\u001b[0m\u001b[0m\n\u001b[0;32m    652\u001b[0m \u001b[1;32mclass\u001b[0m \u001b[0mHTTPRedirectHandler\u001b[0m\u001b[1;33m(\u001b[0m\u001b[0mBaseHandler\u001b[0m\u001b[1;33m)\u001b[0m\u001b[1;33m:\u001b[0m\u001b[1;33m\u001b[0m\u001b[1;33m\u001b[0m\u001b[0m\n",
      "\u001b[1;31mHTTPError\u001b[0m: HTTP Error 403: Forbidden"
     ]
    }
   ],
   "source": [
    "from urllib.request import urlopen\n",
    "from bs4 import BeautifulSoup\n",
    "\n",
    "url = input(\"Enter the url:\")\n",
    "html = urlopen(url)\n",
    "bsobj=BeautifulSoup(html.read(),features=\"html.parser\")\n",
    "print(bsobj.prettify)"
   ]
  },
  {
   "cell_type": "code",
   "execution_count": 1,
   "metadata": {},
   "outputs": [
    {
     "name": "stdout",
     "output_type": "stream",
     "text": [
      "7\n",
      "[]\n"
     ]
    },
    {
     "ename": "TypeError",
     "evalue": "int() argument must be a string, a bytes-like object or a number, not 'list'",
     "output_type": "error",
     "traceback": [
      "\u001b[1;31m---------------------------------------------------------------------------\u001b[0m",
      "\u001b[1;31mTypeError\u001b[0m                                 Traceback (most recent call last)",
      "\u001b[1;32m<ipython-input-1-950fd022249f>\u001b[0m in \u001b[0;36m<module>\u001b[1;34m\u001b[0m\n\u001b[0;32m      3\u001b[0m \u001b[0mk\u001b[0m \u001b[1;33m=\u001b[0m \u001b[0mIfile\u001b[0m\u001b[1;33m.\u001b[0m\u001b[0mreadlines\u001b[0m\u001b[1;33m(\u001b[0m\u001b[1;33m)\u001b[0m\u001b[1;33m\u001b[0m\u001b[1;33m\u001b[0m\u001b[0m\n\u001b[0;32m      4\u001b[0m \u001b[0mprint\u001b[0m\u001b[1;33m(\u001b[0m\u001b[0mk\u001b[0m\u001b[1;33m)\u001b[0m\u001b[1;33m\u001b[0m\u001b[1;33m\u001b[0m\u001b[0m\n\u001b[1;32m----> 5\u001b[1;33m \u001b[0mprint\u001b[0m\u001b[1;33m(\u001b[0m\u001b[0mint\u001b[0m\u001b[1;33m(\u001b[0m\u001b[0mk\u001b[0m\u001b[1;33m)\u001b[0m\u001b[1;33m)\u001b[0m\u001b[1;33m\u001b[0m\u001b[1;33m\u001b[0m\u001b[0m\n\u001b[0m\u001b[0;32m      6\u001b[0m \u001b[0mprint\u001b[0m\u001b[1;33m(\u001b[0m\u001b[0mIfile\u001b[0m\u001b[1;33m.\u001b[0m\u001b[0mreadline\u001b[0m\u001b[1;33m(\u001b[0m\u001b[1;33m)\u001b[0m\u001b[1;33m)\u001b[0m\u001b[1;33m\u001b[0m\u001b[1;33m\u001b[0m\u001b[0m\n",
      "\u001b[1;31mTypeError\u001b[0m: int() argument must be a string, a bytes-like object or a number, not 'list'"
     ]
    }
   ],
   "source": [
    "Ifile = open(\"text_folder\\\\input1.txt\", \"r\")\n",
    "print(len(Ifile.readlines()))\n",
    "k = Ifile.readlines()\n",
    "print(k)\n",
    "print(int(k))\n",
    "print(Ifile.readline())\n"
   ]
  },
  {
   "cell_type": "code",
   "execution_count": null,
   "metadata": {},
   "outputs": [],
   "source": []
  },
  {
   "cell_type": "code",
   "execution_count": 3,
   "metadata": {},
   "outputs": [],
   "source": [
    "Ifile = open(\"text_folder\\\\input1.txt\", \"r\")\n",
    "Ofile = open(\"text_folder\\\\output1.txt\", \"w\")\n",
    "Ilist = []\n",
    "while(1):\n",
    "    try:\n",
    "        i = int(Ifile.readline())\n",
    "        Ilist.append(i)\n",
    "    except:\n",
    "        break\n",
    "Ilist.sort()\n",
    "Ifile.close()\n",
    "for i in range(len(Ilist)-1):\n",
    "    Ofile.write(str(Ilist[i])+\"\\n\")\n",
    "Ofile.write(str(Ilist[i+1]))    \n",
    "Ofile.close()"
   ]
  },
  {
   "cell_type": "code",
   "execution_count": null,
   "metadata": {},
   "outputs": [],
   "source": []
  },
  {
   "cell_type": "markdown",
   "metadata": {},
   "source": [
    "## Date - 21/12/2019"
   ]
  },
  {
   "cell_type": "code",
   "execution_count": null,
   "metadata": {},
   "outputs": [],
   "source": []
  },
  {
   "cell_type": "code",
   "execution_count": 4,
   "metadata": {},
   "outputs": [
    {
     "name": "stdout",
     "output_type": "stream",
     "text": [
      "2\n",
      "4\n",
      "5\n",
      "7\n",
      "-1\n",
      "4\n"
     ]
    }
   ],
   "source": [
    "l = []\n",
    "while(1):\n",
    "    a = int(input())\n",
    "    if(a >= 0 ):\n",
    "        l.append(a)\n",
    "    else:\n",
    "        break\n",
    "\n",
    "n = len(l)\n",
    "if(n == 0):\n",
    "    print(0)\n",
    "else:\n",
    "    print(sum(l)//n)"
   ]
  },
  {
   "cell_type": "code",
   "execution_count": null,
   "metadata": {},
   "outputs": [],
   "source": [
    "l = []\n",
    "while(1):\n",
    "    a = int(input())\n",
    "    if(a >= 0 ):\n",
    "        l.append(a)\n",
    "    else:\n",
    "        break\n",
    "for i in l:\n",
    "    if(i % 2 != 0):\n",
    "        print(i)\n",
    "    else:\n",
    "        l1 = []\n",
    "        "
   ]
  },
  {
   "cell_type": "code",
   "execution_count": null,
   "metadata": {},
   "outputs": [],
   "source": []
  },
  {
   "cell_type": "code",
   "execution_count": 1,
   "metadata": {},
   "outputs": [
    {
     "name": "stdout",
     "output_type": "stream",
     "text": [
      "3\n",
      "6\n",
      "36\n",
      "62\n",
      "121\n",
      "66\n",
      "26\n",
      "376\n",
      "661\n",
      "6\n",
      "-1\n",
      "3\n",
      "6\n",
      "121\n",
      "66\n",
      "661\n",
      "6\n"
     ]
    }
   ],
   "source": [
    "import numpy as np\n",
    "\n",
    "def even(x):\n",
    "    if(x%2==0):\n",
    "        return True\n",
    "    else:\n",
    "        return False\n",
    "    \n",
    "l = []\n",
    "while(1):\n",
    "    a = int(input())\n",
    "    if(a >= 0 ):\n",
    "        l.append(a)\n",
    "    else:\n",
    "        break\n",
    "l = np.asarray(l)        \n",
    "\n",
    "l1 = l%2        \n",
    "flag = 2\n",
    "for i,j in zip(l,l1):\n",
    "    if(j == 1):\n",
    "        print(i)\n",
    "        flag = 2\n",
    "    elif(j == 0 and flag == 2):\n",
    "        print(i)\n",
    "        flag = 3"
   ]
  },
  {
   "cell_type": "code",
   "execution_count": null,
   "metadata": {},
   "outputs": [],
   "source": [
    "3\n",
    "6\n",
    "36\n",
    "32\n",
    "32\n",
    "121\n",
    "66\n",
    "24\n",
    "26\n",
    "371\n",
    "661\n",
    "6\n",
    "4\n",
    "8\n",
    "-1"
   ]
  },
  {
   "cell_type": "code",
   "execution_count": 42,
   "metadata": {},
   "outputs": [
    {
     "name": "stdout",
     "output_type": "stream",
     "text": [
      "3\n",
      "6\n",
      "36\n",
      "32\n",
      "32\n",
      "121\n",
      "66\n",
      "24\n",
      "26\n",
      "371\n",
      "661\n",
      "6\n",
      "4\n",
      "8\n",
      "-1\n",
      "4\n"
     ]
    }
   ],
   "source": [
    "\n",
    "\n",
    "        \n",
    "\n"
   ]
  },
  {
   "cell_type": "code",
   "execution_count": null,
   "metadata": {},
   "outputs": [],
   "source": []
  },
  {
   "cell_type": "markdown",
   "metadata": {},
   "source": [
    "### Date-22/12/2019"
   ]
  },
  {
   "cell_type": "code",
   "execution_count": null,
   "metadata": {},
   "outputs": [],
   "source": []
  },
  {
   "cell_type": "code",
   "execution_count": null,
   "metadata": {},
   "outputs": [],
   "source": []
  },
  {
   "cell_type": "code",
   "execution_count": 36,
   "metadata": {},
   "outputs": [
    {
     "name": "stdout",
     "output_type": "stream",
     "text": [
      "3\n",
      "6\n",
      "36\n",
      "62\n",
      "12\n",
      "66\n",
      "26\n",
      "376\n",
      "661\n",
      "6\n",
      "-1\n",
      "3\n",
      "62\n",
      "12\n",
      "661\n",
      "6\n"
     ]
    }
   ],
   "source": [
    "l = []\n",
    "while(1):\n",
    "    a = int(input())\n",
    "    if(a >= 0 ):\n",
    "        l.append(a)\n",
    "    else:\n",
    "        break\n",
    "count = 0\n",
    "for i in l:\n",
    "    if(i%10 != 6):\n",
    "        if(count == 0):\n",
    "            print(i)\n",
    "        elif(count == 1):\n",
    "            print(j)\n",
    "            print(i)\n",
    "            count = 0\n",
    "        else:\n",
    "            print(i)\n",
    "    else:\n",
    "        if(count == 0):\n",
    "            count += 1\n",
    "            j = i\n",
    "        elif(count >= 1):\n",
    "            count += 1\n",
    "if(count != 0):\n",
    "    print(j)"
   ]
  },
  {
   "cell_type": "code",
   "execution_count": null,
   "metadata": {},
   "outputs": [],
   "source": []
  },
  {
   "cell_type": "code",
   "execution_count": null,
   "metadata": {},
   "outputs": [],
   "source": []
  },
  {
   "cell_type": "code",
   "execution_count": 37,
   "metadata": {},
   "outputs": [
    {
     "name": "stdout",
     "output_type": "stream",
     "text": [
      "3\n",
      "6\n",
      "36\n",
      "32\n",
      "32\n",
      "121\n",
      "66\n",
      "24\n",
      "26\n",
      "371\n",
      "661\n",
      "6\n",
      "4\n",
      "8\n",
      "-1\n"
     ]
    }
   ],
   "source": [
    "l = []\n",
    "while(1):\n",
    "    a = int(input())\n",
    "    if(a >= 0 ):\n",
    "        l.append(a)\n",
    "    else:\n",
    "        break\n",
    "        \n",
    "n = len(l)\n",
    "\n",
    "\n",
    "l1 = []\n",
    "l2 = []\n",
    "\n",
    "for i in range(n-1):\n",
    "    if(l[i+1]>=l[i]):\n",
    "        l2.append(l[i])\n",
    "    else:\n",
    "        l2.append(l[i])\n",
    "        l1.append(l2)\n",
    "        l2=[]\n",
    "        \n",
    "len1, profit = 0, 0\n",
    "for i in l1:\n",
    "    length = len(i)\n",
    "    gain = i[-1] - i[0]\n",
    "    if(gain > profit):\n",
    "        profit = gain\n",
    "        len1 = length\n",
    "print(len1)"
   ]
  },
  {
   "cell_type": "code",
   "execution_count": null,
   "metadata": {},
   "outputs": [],
   "source": []
  },
  {
   "cell_type": "code",
   "execution_count": 38,
   "metadata": {},
   "outputs": [
    {
     "data": {
      "text/plain": [
       "[3, 6, 36, 32, 32, 121, 66, 24, 26, 371, 661, 6, 4, 8]"
      ]
     },
     "execution_count": 38,
     "metadata": {},
     "output_type": "execute_result"
    }
   ],
   "source": [
    "l"
   ]
  },
  {
   "cell_type": "code",
   "execution_count": 39,
   "metadata": {},
   "outputs": [
    {
     "data": {
      "text/plain": [
       "[[3, 6, 36], [32, 32, 121], [66], [24, 26, 371, 661], [6]]"
      ]
     },
     "execution_count": 39,
     "metadata": {},
     "output_type": "execute_result"
    }
   ],
   "source": [
    "l1"
   ]
  },
  {
   "cell_type": "code",
   "execution_count": 40,
   "metadata": {},
   "outputs": [
    {
     "name": "stdout",
     "output_type": "stream",
     "text": [
      "4\n"
     ]
    }
   ],
   "source": [
    "len1, profit = 0, 0\n",
    "for i in l1:\n",
    "    length = len(i)\n",
    "    gain = i[-1] - i[0]\n",
    "    if(gain > profit):\n",
    "        profit = gain\n",
    "        len1 = length\n",
    "print(len1)"
   ]
  },
  {
   "cell_type": "code",
   "execution_count": null,
   "metadata": {},
   "outputs": [],
   "source": []
  },
  {
   "cell_type": "code",
   "execution_count": null,
   "metadata": {},
   "outputs": [],
   "source": [
    "l = []\n",
    "while(1):\n",
    "    a = int(input())\n",
    "    if(a >= 0 ):\n",
    "        l.append(a)\n",
    "    else:\n",
    "        break\n",
    "        \n",
    "n = len(l)\n",
    "\n",
    "\n",
    "l1 = []\n",
    "l2 = []\n",
    "\n",
    "for i in range(n-1):\n",
    "    if(l[i+1]>=l[i]):\n",
    "        l2.append(l[i])\n",
    "    else:\n",
    "        l2.append(l[i])\n",
    "        l1.append(l2)\n",
    "        l2=[]\n",
    "        \n",
    "len1, profit = 0, 0\n",
    "for i in l1:\n",
    "    length = len(i)\n",
    "    gain = i[-1] - i[0]\n",
    "    if(gain > profit):\n",
    "        profit = gain\n",
    "        len1 = length\n",
    "print(len1)"
   ]
  },
  {
   "cell_type": "code",
   "execution_count": null,
   "metadata": {},
   "outputs": [],
   "source": [
    "Ifile = open(\"text_folder\\\\input1.txt\", \"r\")\n",
    "Ofile = open(\"text_folder\\\\output1.txt\", \"w\")\n",
    "Ilist = []\n",
    "while(1):\n",
    "    try:\n",
    "        i = int(Ifile.readline())\n",
    "        Ilist.append(i)\n",
    "    except:\n",
    "        break\n",
    "Ilist.sort()\n",
    "Ifile.close()\n",
    "for i in range(len(Ilist)-1):\n",
    "    Ofile.write(str(Ilist[i])+\"\\n\")\n",
    "Ofile.write(str(Ilist[i+1]))    \n",
    "Ofile.close()"
   ]
  },
  {
   "cell_type": "markdown",
   "metadata": {},
   "source": [
    "### 30-12-2019"
   ]
  },
  {
   "cell_type": "code",
   "execution_count": null,
   "metadata": {},
   "outputs": [],
   "source": []
  },
  {
   "cell_type": "code",
   "execution_count": null,
   "metadata": {},
   "outputs": [],
   "source": []
  },
  {
   "cell_type": "code",
   "execution_count": 185,
   "metadata": {},
   "outputs": [],
   "source": [
    "import re\n",
    "import datetime\n",
    "\n",
    "def fun(l2,tdays):\n",
    "    c11 = 0\n",
    "    for i in range(k2,tdays+k2+1):\n",
    "        if(i%7 == 0 or i%7 == 1):\n",
    "            pass\n",
    "        else:\n",
    "            c11 += 1\n",
    "    return(c11)\n",
    "\n",
    "Ifile = open(\"input.txt\", \"r\")\n",
    "Ofile = open(\"output.txt\", \"w\")\n",
    "i = Ifile.read().split(\"\\n\")\n",
    "l1 = []\n",
    "for j in i:\n",
    "    x = re.findall(r\"[\\d]{1,2}/[\\d]{1,2}/[\\d]{4}\", j)\n",
    "    l1 += x\n",
    "#print(l1)\n",
    "l2 = []\n",
    "for i in l1:\n",
    "    dd, mm, yyyy = map(int, i.split(\"/\"))\n",
    "    try:\n",
    "        x = datetime.datetime(year=yyyy,month=mm,day=dd)\n",
    "        #print(x)\n",
    "        l2.append(x)\n",
    "    except:\n",
    "        pass\n",
    "#print(l2)\n",
    "if(len(l2)>2):\n",
    "    Ofile.write(\"error\")\n",
    "elif(l2[0]<datetime.datetime(2019, 12, 30) or l2[1]<datetime.datetime(2019, 12, 30)):\n",
    "    Ofile.write(\"invalid\")\n",
    "elif(l2[0]>l2[1]):\n",
    "    Ofile.write(\"invalid\")\n",
    "elif(((l2[1]-l2[0]).days)>=0):\n",
    "    tdays = (l2[1]-l2[0]).days + 1\n",
    "    k = fun(l2, tdays)\n",
    "    Ofile.write(str(k))\n",
    "else:\n",
    "    Ofile.write(\"error\")"
   ]
  },
  {
   "cell_type": "code",
   "execution_count": null,
   "metadata": {},
   "outputs": [],
   "source": []
  },
  {
   "cell_type": "markdown",
   "metadata": {},
   "source": [
    "### 02-01-2020"
   ]
  },
  {
   "cell_type": "code",
   "execution_count": null,
   "metadata": {},
   "outputs": [],
   "source": []
  },
  {
   "cell_type": "code",
   "execution_count": 1,
   "metadata": {},
   "outputs": [
    {
     "name": "stdout",
     "output_type": "stream",
     "text": [
      "3\n",
      "5 4\n",
      "4\n",
      "3 1\n",
      "0\n",
      "2 3\n",
      "2\n"
     ]
    }
   ],
   "source": [
    "t = int(input())\n",
    "for i in range(t):\n",
    "    count = 0\n",
    "    n, k = map(int, input().split())\n",
    "    for j in range(1,n+1):\n",
    "        for m in range(j,n+1):\n",
    "            if(j+m <= k):\n",
    "                count += 1\n",
    "            else:\n",
    "                break\n",
    "    print(count)"
   ]
  },
  {
   "cell_type": "code",
   "execution_count": null,
   "metadata": {},
   "outputs": [],
   "source": []
  },
  {
   "cell_type": "markdown",
   "metadata": {},
   "source": [
    "### 12-01-2020"
   ]
  },
  {
   "cell_type": "code",
   "execution_count": null,
   "metadata": {},
   "outputs": [],
   "source": []
  },
  {
   "cell_type": "code",
   "execution_count": 8,
   "metadata": {},
   "outputs": [
    {
     "name": "stdout",
     "output_type": "stream",
     "text": [
      "1 \n",
      "1 2 \n",
      "1 2 3 \n",
      "1 2 3 4 \n",
      "1 2 3 4 5 \n",
      "1 2 3 4 5 6 \n"
     ]
    }
   ],
   "source": [
    "n = 6\n",
    "for i in range(1,n+1):\n",
    "    for j in range(1,i+1):\n",
    "        print(j, end = \" \")\n",
    "    print()"
   ]
  },
  {
   "cell_type": "code",
   "execution_count": null,
   "metadata": {},
   "outputs": [],
   "source": []
  },
  {
   "cell_type": "code",
   "execution_count": 9,
   "metadata": {},
   "outputs": [
    {
     "name": "stdout",
     "output_type": "stream",
     "text": [
      "6 \n",
      "6 5 \n",
      "6 5 4 \n",
      "6 5 4 3 \n",
      "6 5 4 3 2 \n",
      "6 5 4 3 2 1 \n"
     ]
    }
   ],
   "source": [
    "n = 6\n",
    "for i in range(n, 0, -1):\n",
    "    for j in range(n, i-1, -1):\n",
    "        print(j, end = \" \")\n",
    "    print()"
   ]
  },
  {
   "cell_type": "code",
   "execution_count": null,
   "metadata": {},
   "outputs": [],
   "source": []
  },
  {
   "cell_type": "code",
   "execution_count": 11,
   "metadata": {},
   "outputs": [
    {
     "name": "stdout",
     "output_type": "stream",
     "text": [
      "1 2 3 4 5 \n",
      "1 2 3 4 \n",
      "1 2 3 \n",
      "1 2 \n",
      "1 \n"
     ]
    }
   ],
   "source": [
    "n = 5\n",
    "for i in range(n, 0, -1):\n",
    "    for j in range(1, i+1):\n",
    "        print(j, end = \" \")\n",
    "    print()"
   ]
  },
  {
   "cell_type": "code",
   "execution_count": null,
   "metadata": {},
   "outputs": [],
   "source": []
  },
  {
   "cell_type": "code",
   "execution_count": 23,
   "metadata": {},
   "outputs": [
    {
     "name": "stdout",
     "output_type": "stream",
     "text": [
      "1\n",
      "5\n",
      "1\n"
     ]
    }
   ],
   "source": [
    "def Solve (N):\n",
    "    sum = 1\n",
    "    for i in range(2, int(N**0.5)+1):\n",
    "        if(N%i == 0):\n",
    "            sum += i\n",
    "            if(i != N/i):\n",
    "                sum += (N/i)\n",
    "    if sum==N:\n",
    "        return sum\n",
    "    else:\n",
    "        return sum\n",
    "    # Write your code here\n",
    "    \n",
    "\n",
    "T = int(input())\n",
    "for _ in range(T):\n",
    "    N = int(input())\n",
    "    out_ = Solve(N)\n",
    "    print (out_)"
   ]
  },
  {
   "cell_type": "code",
   "execution_count": 27,
   "metadata": {},
   "outputs": [
    {
     "name": "stdout",
     "output_type": "stream",
     "text": [
      "rayskl\n",
      "['r', 'a', 'y', 's', 'k', 'l']\n"
     ]
    }
   ],
   "source": [
    "n = list(input())\n",
    "print(n)"
   ]
  },
  {
   "cell_type": "code",
   "execution_count": null,
   "metadata": {},
   "outputs": [],
   "source": []
  },
  {
   "cell_type": "code",
   "execution_count": 28,
   "metadata": {},
   "outputs": [
    {
     "name": "stdout",
     "output_type": "stream",
     "text": [
      "1\n",
      "6\n",
      "AFREEN\n",
      "CGSCCO\n"
     ]
    }
   ],
   "source": [
    "def isprime(n):\n",
    "    for i in range(2,int(n**0.5)+1):\n",
    "        if n%i==0:\n",
    "            return False\n",
    "    return True\n",
    "\n",
    "def getnprime(n):\n",
    "    if(isprime(n)):\n",
    "        return(n)\n",
    "    else:\n",
    "        i = 1\n",
    "        while(1):\n",
    "            a = isprime(n-i)\n",
    "            b = isprime(n+i)\n",
    "            if(a or b):\n",
    "                if(a and b):\n",
    "                    return(n-i)\n",
    "                else:\n",
    "                    if(a):\n",
    "                        return n-i\n",
    "                    else:\n",
    "                        return n+i\n",
    "            else:\n",
    "                i += 1\n",
    "                \n",
    "    \n",
    "t=int(input())\n",
    "for _ in range(t):\n",
    "    n=int(input())\n",
    "    s=list(input())\n",
    "    f=[]\n",
    "    for c in s:\n",
    "        a=ord(c)\n",
    "        f.append(chr(getnprime(a)))\n",
    "    print(''.join(f))\n",
    "        \n",
    "            \n"
   ]
  },
  {
   "cell_type": "code",
   "execution_count": 31,
   "metadata": {},
   "outputs": [
    {
     "data": {
      "text/plain": [
       "32"
      ]
     },
     "execution_count": 31,
     "metadata": {},
     "output_type": "execute_result"
    }
   ],
   "source": [
    "ord(\" \")"
   ]
  },
  {
   "cell_type": "code",
   "execution_count": 32,
   "metadata": {},
   "outputs": [
    {
     "data": {
      "text/plain": [
       "113"
      ]
     },
     "execution_count": 32,
     "metadata": {},
     "output_type": "execute_result"
    }
   ],
   "source": [
    "ord(\"q\")"
   ]
  },
  {
   "cell_type": "code",
   "execution_count": 33,
   "metadata": {},
   "outputs": [
    {
     "data": {
      "text/plain": [
       "121"
      ]
     },
     "execution_count": 33,
     "metadata": {},
     "output_type": "execute_result"
    }
   ],
   "source": [
    "ord(\"y\")"
   ]
  },
  {
   "cell_type": "code",
   "execution_count": null,
   "metadata": {},
   "outputs": [],
   "source": []
  },
  {
   "cell_type": "code",
   "execution_count": 34,
   "metadata": {},
   "outputs": [
    {
     "data": {
      "text/plain": [
       "127"
      ]
     },
     "execution_count": 34,
     "metadata": {},
     "output_type": "execute_result"
    }
   ],
   "source": [
    "getnprime(121)"
   ]
  },
  {
   "cell_type": "code",
   "execution_count": 38,
   "metadata": {},
   "outputs": [
    {
     "data": {
      "text/plain": [
       "'~'"
      ]
     },
     "execution_count": 38,
     "metadata": {},
     "output_type": "execute_result"
    }
   ],
   "source": [
    "chr(126)"
   ]
  },
  {
   "cell_type": "code",
   "execution_count": null,
   "metadata": {},
   "outputs": [],
   "source": []
  },
  {
   "cell_type": "code",
   "execution_count": null,
   "metadata": {},
   "outputs": [],
   "source": []
  },
  {
   "cell_type": "code",
   "execution_count": null,
   "metadata": {},
   "outputs": [],
   "source": []
  },
  {
   "cell_type": "code",
   "execution_count": null,
   "metadata": {},
   "outputs": [],
   "source": []
  },
  {
   "cell_type": "code",
   "execution_count": null,
   "metadata": {},
   "outputs": [],
   "source": []
  },
  {
   "cell_type": "code",
   "execution_count": null,
   "metadata": {},
   "outputs": [],
   "source": []
  },
  {
   "cell_type": "code",
   "execution_count": 1,
   "metadata": {},
   "outputs": [],
   "source": [
    "import os"
   ]
  },
  {
   "cell_type": "code",
   "execution_count": 4,
   "metadata": {},
   "outputs": [
    {
     "data": {
      "text/plain": [
       "environ{'ALLUSERSPROFILE': 'C:\\\\ProgramData',\n",
       "        'APPDATA': 'C:\\\\Users\\\\Raushan\\\\AppData\\\\Roaming',\n",
       "        'COMMONPROGRAMFILES': 'C:\\\\Program Files\\\\Common Files',\n",
       "        'COMMONPROGRAMFILES(X86)': 'C:\\\\Program Files (x86)\\\\Common Files',\n",
       "        'COMMONPROGRAMW6432': 'C:\\\\Program Files\\\\Common Files',\n",
       "        'COMPUTERNAME': 'RAUSHAN',\n",
       "        'COMSPEC': 'C:\\\\WINDOWS\\\\system32\\\\cmd.exe',\n",
       "        'DRIVERDATA': 'C:\\\\Windows\\\\System32\\\\Drivers\\\\DriverData',\n",
       "        'FPS_BROWSER_APP_PROFILE_STRING': 'Internet Explorer',\n",
       "        'FPS_BROWSER_USER_PROFILE_STRING': 'Default',\n",
       "        'HOMEDRIVE': 'C:',\n",
       "        'HOMEPATH': '\\\\Users\\\\Raushan',\n",
       "        'JAVA_HOME': 'C:\\\\Program Files\\\\Java\\\\jdk1.8.0_231',\n",
       "        'LOCALAPPDATA': 'C:\\\\Users\\\\Raushan\\\\AppData\\\\Local',\n",
       "        'LOGONSERVER': '\\\\\\\\RAUSHAN',\n",
       "        'NUMBER_OF_PROCESSORS': '8',\n",
       "        'ONEDRIVE': 'C:\\\\Users\\\\Raushan\\\\OneDrive',\n",
       "        'ONEDRIVECONSUMER': 'C:\\\\Users\\\\Raushan\\\\OneDrive',\n",
       "        'ONLINESERVICES': 'Online Services',\n",
       "        'OS': 'Windows_NT',\n",
       "        'PATH': 'c:\\\\users\\\\raushan\\\\appdata\\\\local\\\\programs\\\\python\\\\python36\\\\lib\\\\site-packages\\\\pywin32_system32;c:\\\\users\\\\raushan\\\\appdata\\\\local\\\\programs\\\\python\\\\python36\\\\lib\\\\site-packages\\\\pywin32_system32;c:\\\\users\\\\raushan\\\\appdata\\\\local\\\\programs\\\\python\\\\python36\\\\lib\\\\site-packages\\\\pywin32_system32;C:\\\\Program Files (x86)\\\\Common Files\\\\Oracle\\\\Java\\\\javapath;C:\\\\Program Files (x86)\\\\Intel\\\\Intel(R) Management Engine Components\\\\iCLS\\\\;C:\\\\Program Files\\\\Intel\\\\Intel(R) Management Engine Components\\\\iCLS\\\\;C:\\\\WINDOWS\\\\system32;C:\\\\WINDOWS;C:\\\\WINDOWS\\\\System32\\\\Wbem;C:\\\\WINDOWS\\\\System32\\\\WindowsPowerShell\\\\v1.0\\\\;C:\\\\WINDOWS\\\\System32\\\\OpenSSH\\\\;C:\\\\Program Files\\\\Intel\\\\WiFi\\\\bin\\\\;C:\\\\Program Files\\\\Common Files\\\\Intel\\\\WirelessCommon\\\\;C:\\\\Program Files (x86)\\\\Intel\\\\Intel(R) Management Engine Components\\\\DAL;C:\\\\Program Files\\\\Intel\\\\Intel(R) Management Engine Components\\\\DAL;C:\\\\Program Files\\\\Java\\\\jdk1.8.0_231\\\\bin;C:\\\\Program Files\\\\Git\\\\cmd;C:\\\\Program Files\\\\PostgreSQL\\\\12\\\\bin;C:\\\\Users\\\\Raushan\\\\AppData\\\\Local\\\\Programs\\\\Python\\\\Python36\\\\Scripts\\\\;C:\\\\Users\\\\Raushan\\\\AppData\\\\Local\\\\Programs\\\\Python\\\\Python36\\\\;C:\\\\Users\\\\Raushan\\\\AppData\\\\Local\\\\Microsoft\\\\WindowsApps;C:\\\\Users\\\\Raushan\\\\AppData\\\\Local\\\\Programs\\\\Microsoft VS Code\\\\bin;C:\\\\Users\\\\Raushan\\\\Anaconda3\\\\Scripts\\\\;C:\\\\Users\\\\Raushan\\\\AppData\\\\Local\\\\atom\\\\bin;',\n",
       "        'PATHEXT': '.COM;.EXE;.BAT;.CMD;.VBS;.VBE;.JS;.JSE;.WSF;.WSH;.MSC',\n",
       "        'PLATFORMCODE': 'KV',\n",
       "        'PROCESSOR_ARCHITECTURE': 'AMD64',\n",
       "        'PROCESSOR_IDENTIFIER': 'Intel64 Family 6 Model 142 Stepping 10, GenuineIntel',\n",
       "        'PROCESSOR_LEVEL': '6',\n",
       "        'PROCESSOR_REVISION': '8e0a',\n",
       "        'PROGRAMDATA': 'C:\\\\ProgramData',\n",
       "        'PROGRAMFILES': 'C:\\\\Program Files',\n",
       "        'PROGRAMFILES(X86)': 'C:\\\\Program Files (x86)',\n",
       "        'PROGRAMW6432': 'C:\\\\Program Files',\n",
       "        'PROMPT': '$P$G',\n",
       "        'PSMODULEPATH': 'C:\\\\Program Files\\\\WindowsPowerShell\\\\Modules;C:\\\\WINDOWS\\\\system32\\\\WindowsPowerShell\\\\v1.0\\\\Modules',\n",
       "        'PUBLIC': 'C:\\\\Users\\\\Public',\n",
       "        'REGIONCODE': 'APJ',\n",
       "        'SESSIONNAME': 'Console',\n",
       "        'SYSTEMDRIVE': 'C:',\n",
       "        'SYSTEMROOT': 'C:\\\\WINDOWS',\n",
       "        'TEMP': 'C:\\\\Users\\\\Raushan\\\\AppData\\\\Local\\\\Temp',\n",
       "        'TMP': 'C:\\\\Users\\\\Raushan\\\\AppData\\\\Local\\\\Temp',\n",
       "        'USERDOMAIN': 'RAUSHAN',\n",
       "        'USERDOMAIN_ROAMINGPROFILE': 'RAUSHAN',\n",
       "        'USERNAME': 'Raushan',\n",
       "        'USERPROFILE': 'C:\\\\Users\\\\Raushan',\n",
       "        'WINDIR': 'C:\\\\WINDOWS',\n",
       "        'KERNEL_LAUNCH_TIMEOUT': '40',\n",
       "        'JPY_INTERRUPT_EVENT': '2500',\n",
       "        'IPY_INTERRUPT_EVENT': '2500',\n",
       "        'JPY_PARENT_PID': '2496',\n",
       "        'TERM': 'xterm-color',\n",
       "        'CLICOLOR': '1',\n",
       "        'PAGER': 'cat',\n",
       "        'GIT_PAGER': 'cat',\n",
       "        'MPLBACKEND': 'module://ipykernel.pylab.backend_inline'}"
      ]
     },
     "execution_count": 4,
     "metadata": {},
     "output_type": "execute_result"
    }
   ],
   "source": [
    "os.environ"
   ]
  },
  {
   "cell_type": "code",
   "execution_count": 5,
   "metadata": {},
   "outputs": [
    {
     "name": "stdout",
     "output_type": "stream",
     "text": [
      "environ({'ALLUSERSPROFILE': 'C:\\\\ProgramData', 'APPDATA': 'C:\\\\Users\\\\Raushan\\\\AppData\\\\Roaming', 'COMMONPROGRAMFILES': 'C:\\\\Program Files\\\\Common Files', 'COMMONPROGRAMFILES(X86)': 'C:\\\\Program Files (x86)\\\\Common Files', 'COMMONPROGRAMW6432': 'C:\\\\Program Files\\\\Common Files', 'COMPUTERNAME': 'RAUSHAN', 'COMSPEC': 'C:\\\\WINDOWS\\\\system32\\\\cmd.exe', 'DRIVERDATA': 'C:\\\\Windows\\\\System32\\\\Drivers\\\\DriverData', 'FPS_BROWSER_APP_PROFILE_STRING': 'Internet Explorer', 'FPS_BROWSER_USER_PROFILE_STRING': 'Default', 'HOMEDRIVE': 'C:', 'HOMEPATH': '\\\\Users\\\\Raushan', 'JAVA_HOME': 'C:\\\\Program Files\\\\Java\\\\jdk1.8.0_231', 'LOCALAPPDATA': 'C:\\\\Users\\\\Raushan\\\\AppData\\\\Local', 'LOGONSERVER': '\\\\\\\\RAUSHAN', 'NUMBER_OF_PROCESSORS': '8', 'ONEDRIVE': 'C:\\\\Users\\\\Raushan\\\\OneDrive', 'ONEDRIVECONSUMER': 'C:\\\\Users\\\\Raushan\\\\OneDrive', 'ONLINESERVICES': 'Online Services', 'OS': 'Windows_NT', 'PATH': 'c:\\\\users\\\\raushan\\\\appdata\\\\local\\\\programs\\\\python\\\\python36\\\\lib\\\\site-packages\\\\pywin32_system32;c:\\\\users\\\\raushan\\\\appdata\\\\local\\\\programs\\\\python\\\\python36\\\\lib\\\\site-packages\\\\pywin32_system32;c:\\\\users\\\\raushan\\\\appdata\\\\local\\\\programs\\\\python\\\\python36\\\\lib\\\\site-packages\\\\pywin32_system32;C:\\\\Program Files (x86)\\\\Common Files\\\\Oracle\\\\Java\\\\javapath;C:\\\\Program Files (x86)\\\\Intel\\\\Intel(R) Management Engine Components\\\\iCLS\\\\;C:\\\\Program Files\\\\Intel\\\\Intel(R) Management Engine Components\\\\iCLS\\\\;C:\\\\WINDOWS\\\\system32;C:\\\\WINDOWS;C:\\\\WINDOWS\\\\System32\\\\Wbem;C:\\\\WINDOWS\\\\System32\\\\WindowsPowerShell\\\\v1.0\\\\;C:\\\\WINDOWS\\\\System32\\\\OpenSSH\\\\;C:\\\\Program Files\\\\Intel\\\\WiFi\\\\bin\\\\;C:\\\\Program Files\\\\Common Files\\\\Intel\\\\WirelessCommon\\\\;C:\\\\Program Files (x86)\\\\Intel\\\\Intel(R) Management Engine Components\\\\DAL;C:\\\\Program Files\\\\Intel\\\\Intel(R) Management Engine Components\\\\DAL;C:\\\\Program Files\\\\Java\\\\jdk1.8.0_231\\\\bin;C:\\\\Program Files\\\\Git\\\\cmd;C:\\\\Program Files\\\\PostgreSQL\\\\12\\\\bin;C:\\\\Users\\\\Raushan\\\\AppData\\\\Local\\\\Programs\\\\Python\\\\Python36\\\\Scripts\\\\;C:\\\\Users\\\\Raushan\\\\AppData\\\\Local\\\\Programs\\\\Python\\\\Python36\\\\;C:\\\\Users\\\\Raushan\\\\AppData\\\\Local\\\\Microsoft\\\\WindowsApps;C:\\\\Users\\\\Raushan\\\\AppData\\\\Local\\\\Programs\\\\Microsoft VS Code\\\\bin;C:\\\\Users\\\\Raushan\\\\Anaconda3\\\\Scripts\\\\;C:\\\\Users\\\\Raushan\\\\AppData\\\\Local\\\\atom\\\\bin;', 'PATHEXT': '.COM;.EXE;.BAT;.CMD;.VBS;.VBE;.JS;.JSE;.WSF;.WSH;.MSC', 'PLATFORMCODE': 'KV', 'PROCESSOR_ARCHITECTURE': 'AMD64', 'PROCESSOR_IDENTIFIER': 'Intel64 Family 6 Model 142 Stepping 10, GenuineIntel', 'PROCESSOR_LEVEL': '6', 'PROCESSOR_REVISION': '8e0a', 'PROGRAMDATA': 'C:\\\\ProgramData', 'PROGRAMFILES': 'C:\\\\Program Files', 'PROGRAMFILES(X86)': 'C:\\\\Program Files (x86)', 'PROGRAMW6432': 'C:\\\\Program Files', 'PROMPT': '$P$G', 'PSMODULEPATH': 'C:\\\\Program Files\\\\WindowsPowerShell\\\\Modules;C:\\\\WINDOWS\\\\system32\\\\WindowsPowerShell\\\\v1.0\\\\Modules', 'PUBLIC': 'C:\\\\Users\\\\Public', 'REGIONCODE': 'APJ', 'SESSIONNAME': 'Console', 'SYSTEMDRIVE': 'C:', 'SYSTEMROOT': 'C:\\\\WINDOWS', 'TEMP': 'C:\\\\Users\\\\Raushan\\\\AppData\\\\Local\\\\Temp', 'TMP': 'C:\\\\Users\\\\Raushan\\\\AppData\\\\Local\\\\Temp', 'USERDOMAIN': 'RAUSHAN', 'USERDOMAIN_ROAMINGPROFILE': 'RAUSHAN', 'USERNAME': 'Raushan', 'USERPROFILE': 'C:\\\\Users\\\\Raushan', 'WINDIR': 'C:\\\\WINDOWS', 'KERNEL_LAUNCH_TIMEOUT': '40', 'JPY_INTERRUPT_EVENT': '2500', 'IPY_INTERRUPT_EVENT': '2500', 'JPY_PARENT_PID': '2496', 'TERM': 'xterm-color', 'CLICOLOR': '1', 'PAGER': 'cat', 'GIT_PAGER': 'cat', 'MPLBACKEND': 'module://ipykernel.pylab.backend_inline'})\n"
     ]
    }
   ],
   "source": [
    "print(os.environ)"
   ]
  },
  {
   "cell_type": "code",
   "execution_count": 7,
   "metadata": {},
   "outputs": [
    {
     "ename": "TypeError",
     "evalue": "getenv() missing 1 required positional argument: 'key'",
     "output_type": "error",
     "traceback": [
      "\u001b[1;31m---------------------------------------------------------------------------\u001b[0m",
      "\u001b[1;31mTypeError\u001b[0m                                 Traceback (most recent call last)",
      "\u001b[1;32m<ipython-input-7-1dd1047a4a0c>\u001b[0m in \u001b[0;36m<module>\u001b[1;34m\u001b[0m\n\u001b[1;32m----> 1\u001b[1;33m \u001b[0mos\u001b[0m\u001b[1;33m.\u001b[0m\u001b[0mgetenv\u001b[0m\u001b[1;33m(\u001b[0m\u001b[1;33m)\u001b[0m\u001b[1;33m\u001b[0m\u001b[1;33m\u001b[0m\u001b[0m\n\u001b[0m",
      "\u001b[1;31mTypeError\u001b[0m: getenv() missing 1 required positional argument: 'key'"
     ]
    }
   ],
   "source": [
    "os.getenv(\"\")"
   ]
  },
  {
   "cell_type": "code",
   "execution_count": null,
   "metadata": {},
   "outputs": [],
   "source": [
    "                 "
   ]
  },
  {
   "cell_type": "code",
   "execution_count": null,
   "metadata": {},
   "outputs": [],
   "source": []
  },
  {
   "cell_type": "code",
   "execution_count": null,
   "metadata": {},
   "outputs": [],
   "source": []
  },
  {
   "cell_type": "code",
   "execution_count": null,
   "metadata": {},
   "outputs": [],
   "source": []
  },
  {
   "cell_type": "code",
   "execution_count": null,
   "metadata": {},
   "outputs": [],
   "source": []
  },
  {
   "cell_type": "code",
   "execution_count": null,
   "metadata": {},
   "outputs": [],
   "source": []
  },
  {
   "cell_type": "code",
   "execution_count": null,
   "metadata": {},
   "outputs": [],
   "source": []
  },
  {
   "cell_type": "code",
   "execution_count": null,
   "metadata": {},
   "outputs": [],
   "source": []
  },
  {
   "cell_type": "code",
   "execution_count": null,
   "metadata": {},
   "outputs": [],
   "source": []
  },
  {
   "cell_type": "code",
   "execution_count": null,
   "metadata": {},
   "outputs": [],
   "source": []
  },
  {
   "cell_type": "code",
   "execution_count": null,
   "metadata": {},
   "outputs": [],
   "source": []
  },
  {
   "cell_type": "code",
   "execution_count": null,
   "metadata": {},
   "outputs": [],
   "source": []
  },
  {
   "cell_type": "code",
   "execution_count": null,
   "metadata": {},
   "outputs": [],
   "source": []
  },
  {
   "cell_type": "markdown",
   "metadata": {},
   "source": [
    "# codevita"
   ]
  },
  {
   "cell_type": "code",
   "execution_count": null,
   "metadata": {},
   "outputs": [],
   "source": []
  },
  {
   "cell_type": "code",
   "execution_count": 5,
   "metadata": {},
   "outputs": [
    {
     "name": "stdout",
     "output_type": "stream",
     "text": [
      "100\n",
      "rrrmmmmrmrmrmrmrmrmrmrmrmrrrrrmmrmrrmmrrmmrrrrmmrmrmrrrrmmrmrrmmrrmmrrmmrmrmrmmmmmmmrmrrrrmmmrmrmrmm\n",
      "mrmrmrmmmmrmrmrmrmrrrrrmrmmmrmrmrmrrrmmmrrrrrmrmmrmrmmrmrmmmrmmmmrmmmmmrmmmmmmmrrrrrrrrrrrrrrmmmmrmrmmmmmmr\n",
      "67"
     ]
    }
   ],
   "source": [
    "from itertools import cycle\n",
    "n = int(input())\n",
    "brides = list(input())\n",
    "\n",
    "grooms = list(input())\n",
    "c = 0\n",
    "for i in cycle(grooms):\n",
    "    try:\n",
    "        e = brides[0]\n",
    "        c += 1\n",
    "        if(i == e):\n",
    "            grooms.remove(i)\n",
    "            brides.remove(i)\n",
    "            n -= 1\n",
    "        if (c == n):\n",
    "            break\n",
    "    except:\n",
    "        break\n",
    "        \n",
    "        \n",
    "print(len(brides), end = \"\")"
   ]
  },
  {
   "cell_type": "code",
   "execution_count": null,
   "metadata": {},
   "outputs": [],
   "source": []
  },
  {
   "cell_type": "code",
   "execution_count": 10,
   "metadata": {},
   "outputs": [
    {
     "name": "stdout",
     "output_type": "stream",
     "text": [
      "17\n",
      "rrmrmmmrmrmmrrmrm\n",
      "mrmmmrrmrmmmmmrmr\n",
      "4"
     ]
    }
   ],
   "source": [
    "\n",
    "n = int(input())\n",
    "brides = list(input())\n",
    "\n",
    "grooms = list(input())\n",
    "i = 0\n",
    "while(i < n):\n",
    "    e = brides[i]\n",
    "    if(e in grooms):\n",
    "        grooms.remove(e)\n",
    "    else:\n",
    "        break\n",
    "    i += 1\n",
    "    \n",
    "print(len(grooms), end = \"\")"
   ]
  },
  {
   "cell_type": "code",
   "execution_count": null,
   "metadata": {},
   "outputs": [],
   "source": []
  },
  {
   "cell_type": "code",
   "execution_count": 14,
   "metadata": {},
   "outputs": [
    {
     "name": "stdout",
     "output_type": "stream",
     "text": [
      "7\n",
      "rrmrmrr\n",
      "rmmmrmm\n",
      "6\n"
     ]
    }
   ],
   "source": [
    "n = int(input())\n",
    "brides = list(input())\n",
    "\n",
    "grooms = list(input())\n",
    "\n",
    "e = abs(brides.count(\"r\") - grooms.count(\"r\")) + abs((brides.count(\"m\")) - grooms.count(\"m\"))\n",
    "print(e)"
   ]
  },
  {
   "cell_type": "code",
   "execution_count": null,
   "metadata": {},
   "outputs": [],
   "source": []
  },
  {
   "cell_type": "markdown",
   "metadata": {},
   "source": [
    "# qye 2"
   ]
  },
  {
   "cell_type": "code",
   "execution_count": 1,
   "metadata": {},
   "outputs": [
    {
     "name": "stdout",
     "output_type": "stream",
     "text": [
      "2\n",
      "25\n",
      "1\n",
      "4\n"
     ]
    },
    {
     "data": {
      "text/plain": [
       "5"
      ]
     },
     "execution_count": 1,
     "metadata": {},
     "output_type": "execute_result"
    }
   ],
   "source": [
    "p_mil = int(input())\n",
    "q_mal = int(input())\n",
    "r_miw = int(input())\n",
    "s_maw = int(input())\n",
    "\n",
    "\n",
    "c = 0\n",
    "def fun(i, j):\n",
    "    mi = min(i,j)\n",
    "    ma = max(i,j)\n",
    "    if(i == j):\n",
    "        return(1)\n",
    "    else:\n",
    "        return(1 + fun((ma-mi), (mi)))\n"
   ]
  },
  {
   "cell_type": "code",
   "execution_count": null,
   "metadata": {},
   "outputs": [],
   "source": []
  },
  {
   "cell_type": "code",
   "execution_count": 28,
   "metadata": {},
   "outputs": [
    {
     "name": "stdout",
     "output_type": "stream",
     "text": [
      "1\n",
      "1501\n",
      "1\n",
      "1501\n",
      "78393189"
     ]
    }
   ],
   "source": [
    "def fun1(i, j):\n",
    "    if(i < j):\n",
    "        mi = i\n",
    "        ma = j\n",
    "    else:\n",
    "        mi = j\n",
    "        ma = i\n",
    "    rem = ma % mi\n",
    "    flo = ma // mi\n",
    "    if(rem == 0):\n",
    "        return(flo)\n",
    "    else:\n",
    "        return(flo + fun1(rem, mi))\n",
    "\n",
    "\n",
    "p_mil = int(input())\n",
    "q_mal = int(input())\n",
    "r_miw = int(input())\n",
    "s_maw = int(input())\n",
    "\n",
    "count = 0\n",
    "\n",
    "for i in range(p_mil, q_mal+1):\n",
    "    for j in range(r_miw, s_maw+1):\n",
    "        count += fun1(i, j)\n",
    "        \n",
    "print(count, end = \"\")"
   ]
  },
  {
   "cell_type": "code",
   "execution_count": 18,
   "metadata": {},
   "outputs": [
    {
     "data": {
      "text/plain": [
       "2"
      ]
     },
     "execution_count": 18,
     "metadata": {},
     "output_type": "execute_result"
    }
   ],
   "source": [
    "fun(8, 4)"
   ]
  },
  {
   "cell_type": "code",
   "execution_count": 21,
   "metadata": {},
   "outputs": [
    {
     "data": {
      "text/plain": [
       "3"
      ]
     },
     "execution_count": 21,
     "metadata": {},
     "output_type": "execute_result"
    }
   ],
   "source": [
    "def fun1(i, j):\n",
    "    mi = min(i,j)\n",
    "    ma = max(i,j)\n",
    "    if(ma % mi == 0):\n",
    "        return(ma // mi)\n",
    "    else:\n",
    "        return(ma//mi + fun1(ma%mi, mi))\n",
    "fun1(6,4)"
   ]
  },
  {
   "cell_type": "markdown",
   "metadata": {},
   "source": [
    "# cpp test"
   ]
  },
  {
   "cell_type": "code",
   "execution_count": 1,
   "metadata": {},
   "outputs": [
    {
     "name": "stdout",
     "output_type": "stream",
     "text": [
      "not sel\n"
     ]
    }
   ],
   "source": [
    "a , b = 78 , 2\n",
    "if(a/b == a//b):\n",
    "    print(\"not sel\")\n",
    "else:\n",
    "    print(\"sel\")"
   ]
  },
  {
   "cell_type": "code",
   "execution_count": 3,
   "metadata": {},
   "outputs": [
    {
     "name": "stdout",
     "output_type": "stream",
     "text": [
      "30 30\n"
     ]
    }
   ],
   "source": [
    "a = [1,3,5,7,9]\n",
    "b = a\n",
    "b[2] = 10\n",
    "print(sum(a), sum(b))"
   ]
  },
  {
   "cell_type": "code",
   "execution_count": 4,
   "metadata": {},
   "outputs": [
    {
     "name": "stdout",
     "output_type": "stream",
     "text": [
      "27\n"
     ]
    }
   ],
   "source": [
    "def f(n):\n",
    "    return n**n\n",
    "\n",
    "a = 3\n",
    "b = f\n",
    "print(b(3))"
   ]
  },
  {
   "cell_type": "code",
   "execution_count": 5,
   "metadata": {},
   "outputs": [
    {
     "data": {
      "text/plain": [
       "'Ram'"
      ]
     },
     "execution_count": 5,
     "metadata": {},
     "output_type": "execute_result"
    }
   ],
   "source": [
    "\"ram\".capitalize()"
   ]
  },
  {
   "cell_type": "code",
   "execution_count": 6,
   "metadata": {},
   "outputs": [
    {
     "ename": "ValueError",
     "evalue": "list.remove(x): x not in list",
     "output_type": "error",
     "traceback": [
      "\u001b[1;31m---------------------------------------------------------------------------\u001b[0m",
      "\u001b[1;31mValueError\u001b[0m                                Traceback (most recent call last)",
      "\u001b[1;32m<ipython-input-6-406204feefbe>\u001b[0m in \u001b[0;36m<module>\u001b[1;34m\u001b[0m\n\u001b[0;32m      1\u001b[0m \u001b[0ml\u001b[0m \u001b[1;33m=\u001b[0m \u001b[1;33m[\u001b[0m\u001b[1;36m1\u001b[0m\u001b[1;33m,\u001b[0m\u001b[1;36m2\u001b[0m\u001b[1;33m,\u001b[0m\u001b[1;36m3\u001b[0m\u001b[1;33m,\u001b[0m\u001b[1;36m4\u001b[0m\u001b[1;33m,\u001b[0m\u001b[1;36m5\u001b[0m\u001b[1;33m,\u001b[0m\u001b[1;36m6\u001b[0m\u001b[1;33m,\u001b[0m\u001b[1;36m7\u001b[0m\u001b[1;33m]\u001b[0m\u001b[1;33m\u001b[0m\u001b[1;33m\u001b[0m\u001b[0m\n\u001b[0;32m      2\u001b[0m \u001b[0ml\u001b[0m\u001b[1;33m[\u001b[0m\u001b[1;36m3\u001b[0m\u001b[1;33m]\u001b[0m \u001b[1;33m=\u001b[0m \u001b[1;36m8\u001b[0m\u001b[1;33m\u001b[0m\u001b[1;33m\u001b[0m\u001b[0m\n\u001b[1;32m----> 3\u001b[1;33m \u001b[0ml\u001b[0m\u001b[1;33m.\u001b[0m\u001b[0mremove\u001b[0m\u001b[1;33m(\u001b[0m\u001b[1;36m4\u001b[0m\u001b[1;33m)\u001b[0m\u001b[1;33m\u001b[0m\u001b[1;33m\u001b[0m\u001b[0m\n\u001b[0m\u001b[0;32m      4\u001b[0m \u001b[0ml\u001b[0m\u001b[1;33m\u001b[0m\u001b[1;33m\u001b[0m\u001b[0m\n",
      "\u001b[1;31mValueError\u001b[0m: list.remove(x): x not in list"
     ]
    }
   ],
   "source": [
    "l = [1,2,3,4,5,6,7]\n",
    "l[3] = 8\n",
    "l.remove(4)\n",
    "l"
   ]
  },
  {
   "cell_type": "code",
   "execution_count": 8,
   "metadata": {},
   "outputs": [
    {
     "name": "stdout",
     "output_type": "stream",
     "text": [
      "5 3\n"
     ]
    }
   ],
   "source": [
    "a = [1,3,5,7,9]\n",
    "b = a\n",
    "b = b[::2]\n",
    "print(len(a), len(b))"
   ]
  },
  {
   "cell_type": "code",
   "execution_count": null,
   "metadata": {},
   "outputs": [],
   "source": []
  },
  {
   "cell_type": "code",
   "execution_count": 1,
   "metadata": {},
   "outputs": [
    {
     "data": {
      "text/plain": [
       "'helloPankaj'"
      ]
     },
     "execution_count": 1,
     "metadata": {},
     "output_type": "execute_result"
    }
   ],
   "source": [
    "\"hello\" + \"Pankaj\""
   ]
  },
  {
   "cell_type": "code",
   "execution_count": 2,
   "metadata": {},
   "outputs": [
    {
     "data": {
      "text/plain": [
       "'[1,2,3][4,5,6]'"
      ]
     },
     "execution_count": 2,
     "metadata": {},
     "output_type": "execute_result"
    }
   ],
   "source": [
    "\"[1,2,3]\" + \"[4,5,6]\""
   ]
  },
  {
   "cell_type": "code",
   "execution_count": 3,
   "metadata": {},
   "outputs": [],
   "source": [
    "import bisect"
   ]
  },
  {
   "cell_type": "code",
   "execution_count": 6,
   "metadata": {},
   "outputs": [
    {
     "name": "stdout",
     "output_type": "stream",
     "text": [
      "11111\n"
     ]
    }
   ],
   "source": [
    "a = \"10\"\n",
    "b = a*5\n",
    "b = b[::2]\n",
    "print(b)"
   ]
  },
  {
   "cell_type": "code",
   "execution_count": 7,
   "metadata": {},
   "outputs": [
    {
     "name": "stdout",
     "output_type": "stream",
     "text": [
      "[1, 2, 3, 4, 5, 6]\n"
     ]
    }
   ],
   "source": [
    "a = list(range(1,4))\n",
    "b = [1,2,3,4,5,6][3:]\n",
    "print(a+b)"
   ]
  },
  {
   "cell_type": "code",
   "execution_count": 12,
   "metadata": {},
   "outputs": [
    {
     "data": {
      "text/plain": [
       "[0, 1, 2]"
      ]
     },
     "execution_count": 12,
     "metadata": {},
     "output_type": "execute_result"
    }
   ],
   "source": [
    "def f(n):\n",
    "    for i in range(n):\n",
    "        yield i\n",
    "    return None\n",
    "list(f(3))"
   ]
  },
  {
   "cell_type": "code",
   "execution_count": 14,
   "metadata": {},
   "outputs": [
    {
     "name": "stdout",
     "output_type": "stream",
     "text": [
      "helloPankaj\n"
     ]
    }
   ],
   "source": [
    "def f(name):\n",
    "    name = \"hello\" + name\n",
    "    print(name)\n",
    "    \n",
    "f(\"Pankaj\")"
   ]
  },
  {
   "cell_type": "code",
   "execution_count": null,
   "metadata": {},
   "outputs": [],
   "source": []
  },
  {
   "cell_type": "code",
   "execution_count": null,
   "metadata": {},
   "outputs": [],
   "source": []
  },
  {
   "cell_type": "code",
   "execution_count": null,
   "metadata": {},
   "outputs": [],
   "source": []
  },
  {
   "cell_type": "code",
   "execution_count": null,
   "metadata": {},
   "outputs": [],
   "source": []
  },
  {
   "cell_type": "code",
   "execution_count": null,
   "metadata": {},
   "outputs": [],
   "source": []
  },
  {
   "cell_type": "code",
   "execution_count": null,
   "metadata": {},
   "outputs": [],
   "source": []
  },
  {
   "cell_type": "code",
   "execution_count": null,
   "metadata": {},
   "outputs": [],
   "source": []
  },
  {
   "cell_type": "code",
   "execution_count": null,
   "metadata": {},
   "outputs": [],
   "source": []
  },
  {
   "cell_type": "code",
   "execution_count": null,
   "metadata": {},
   "outputs": [],
   "source": []
  }
 ],
 "metadata": {
  "kernelspec": {
   "display_name": "Python 3",
   "language": "python",
   "name": "python3"
  },
  "language_info": {
   "codemirror_mode": {
    "name": "ipython",
    "version": 3
   },
   "file_extension": ".py",
   "mimetype": "text/x-python",
   "name": "python",
   "nbconvert_exporter": "python",
   "pygments_lexer": "ipython3",
   "version": "3.6.8"
  }
 },
 "nbformat": 4,
 "nbformat_minor": 2
}
