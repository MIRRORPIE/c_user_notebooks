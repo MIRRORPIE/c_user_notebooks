{
 "cells": [
  {
   "cell_type": "code",
   "execution_count": 1,
   "metadata": {},
   "outputs": [
    {
     "name": "stdout",
     "output_type": "stream",
     "text": [
      "program starts at:Thu Dec 13 19:13:46 2018\n"
     ]
    }
   ],
   "source": [
    "# Take a small break\n",
    "\n",
    "import webbrowser\n",
    "import time\n",
    "print(\"program starts at:\"+time.ctime())\n",
    "for i in range(3):\n",
    "    time.sleep(10)\n",
    "    webbrowser.open(\"https://www.youtube.com/watch?v=0uaE6BYAoWk&start_radio=1&list=RD0uaE6BYAoWk\") "
   ]
  },
  {
   "cell_type": "code",
   "execution_count": null,
   "metadata": {},
   "outputs": [],
   "source": []
  },
  {
   "cell_type": "code",
   "execution_count": 2,
   "metadata": {},
   "outputs": [
    {
     "name": "stdout",
     "output_type": "stream",
     "text": [
      "C:\\Users\\RAUSHAN\\3A_PRO\n"
     ]
    }
   ],
   "source": [
    "#finding the current working directory\n",
    "import os\n",
    "s=os.getcwd()\n",
    "print(s)"
   ]
  },
  {
   "cell_type": "code",
   "execution_count": 20,
   "metadata": {},
   "outputs": [
    {
     "name": "stdout",
     "output_type": "stream",
     "text": [
      "C:\\Users\\RAUSHAN\\2A_PRO\n",
      "C:\\Users\\RAUSHAN\\3A_PRO\n"
     ]
    }
   ],
   "source": [
    "#to change the current directory\n",
    "import os\n",
    "os.chdir(\"C:\\\\Users\\\\RAUSHAN\\\\2A_PRO\")\n",
    "print(os.getcwd())\n",
    "os.chdir(\"C:\\\\Users\\\\RAUSHAN\\\\3A_PRO\")\n",
    "print(os.getcwd())"
   ]
  },
  {
   "cell_type": "code",
   "execution_count": null,
   "metadata": {},
   "outputs": [],
   "source": [
    "# Rename the file\n",
    "\n",
    "import os\n",
    "\n",
    "def rename_files():\n",
    "    file_list=os.listdir(r\"to the name of the file  directory\")\n",
    "    print(file_list)\n",
    "    saved_path=os.getcwd()\n",
    "    os.chdir(r\"to the name of the file directory\")\n",
    "    for file_name in file_list:\n",
    "        os.rename(file_name, file_name.translate(None, \"0123456789\"))\n",
    "    os.chdir(r\"saved_path\")\n",
    "rename_files()"
   ]
  },
  {
   "cell_type": "code",
   "execution_count": null,
   "metadata": {},
   "outputs": [],
   "source": []
  },
  {
   "cell_type": "code",
   "execution_count": 1,
   "metadata": {},
   "outputs": [],
   "source": [
    "# Draw a square\n",
    "import turtle\n",
    "def draw_square():\n",
    "    window = turtle.Screen()\n",
    "    window.bgcolor(\"red\")\n",
    "    brad = turtle.Turtle()\n",
    "    brad.shape(\"turtle\")\n",
    "    brad.color(\"blue\")\n",
    "    brad.speed(2)\n",
    "    \n",
    "    for i in range(4):\n",
    "        brad.forward(100)\n",
    "        brad.right(90)\n",
    "    window.exitonclick()\n",
    "draw_square()"
   ]
  },
  {
   "cell_type": "code",
   "execution_count": 1,
   "metadata": {},
   "outputs": [],
   "source": [
    "#Draw a circle\n",
    "import turtle\n",
    "def draw_circle():\n",
    "    window = turtle.Screen()\n",
    "    window.bgcolor(\"red\")\n",
    "    brad = turtle.Turtle()\n",
    "    brad.shape(\"arrow\")\n",
    "    brad.color(\"blue\")\n",
    "    brad.speed(2)\n",
    "    brad.circle(100)\n",
    "    window.exitonclick()\n",
    "draw_circle()"
   ]
  },
  {
   "cell_type": "code",
   "execution_count": 1,
   "metadata": {},
   "outputs": [
    {
     "ename": "TclError",
     "evalue": "invalid command name \".!canvas\"",
     "output_type": "error",
     "traceback": [
      "\u001b[1;31m---------------------------------------------------------------------------\u001b[0m",
      "\u001b[1;31mTclError\u001b[0m                                  Traceback (most recent call last)",
      "\u001b[1;32m<ipython-input-1-e8ef30cc746f>\u001b[0m in \u001b[0;36m<module>\u001b[1;34m\u001b[0m\n\u001b[0;32m     18\u001b[0m \u001b[1;33m\u001b[0m\u001b[0m\n\u001b[0;32m     19\u001b[0m     \u001b[0mwindow\u001b[0m\u001b[1;33m.\u001b[0m\u001b[0mexitonclick\u001b[0m\u001b[1;33m(\u001b[0m\u001b[1;33m)\u001b[0m\u001b[1;33m\u001b[0m\u001b[1;33m\u001b[0m\u001b[0m\n\u001b[1;32m---> 20\u001b[1;33m \u001b[0mdraw_art\u001b[0m\u001b[1;33m(\u001b[0m\u001b[1;33m)\u001b[0m\u001b[1;33m\u001b[0m\u001b[1;33m\u001b[0m\u001b[0m\n\u001b[0m",
      "\u001b[1;32m<ipython-input-1-e8ef30cc746f>\u001b[0m in \u001b[0;36mdraw_art\u001b[1;34m()\u001b[0m\n\u001b[0;32m     14\u001b[0m     \u001b[0mbrad\u001b[0m\u001b[1;33m.\u001b[0m\u001b[0mspeed\u001b[0m\u001b[1;33m(\u001b[0m\u001b[1;36m2\u001b[0m\u001b[1;33m)\u001b[0m\u001b[1;33m\u001b[0m\u001b[1;33m\u001b[0m\u001b[0m\n\u001b[0;32m     15\u001b[0m     \u001b[1;32mfor\u001b[0m \u001b[0mi\u001b[0m \u001b[1;32min\u001b[0m \u001b[0mrange\u001b[0m\u001b[1;33m(\u001b[0m\u001b[1;36m36\u001b[0m\u001b[1;33m)\u001b[0m\u001b[1;33m:\u001b[0m\u001b[1;33m\u001b[0m\u001b[1;33m\u001b[0m\u001b[0m\n\u001b[1;32m---> 16\u001b[1;33m         \u001b[0mdraw_square\u001b[0m\u001b[1;33m(\u001b[0m\u001b[0mbrad\u001b[0m\u001b[1;33m)\u001b[0m\u001b[1;33m\u001b[0m\u001b[1;33m\u001b[0m\u001b[0m\n\u001b[0m\u001b[0;32m     17\u001b[0m         \u001b[0mbrad\u001b[0m\u001b[1;33m.\u001b[0m\u001b[0mright\u001b[0m\u001b[1;33m(\u001b[0m\u001b[1;36m10\u001b[0m\u001b[1;33m)\u001b[0m\u001b[1;33m\u001b[0m\u001b[1;33m\u001b[0m\u001b[0m\n\u001b[0;32m     18\u001b[0m \u001b[1;33m\u001b[0m\u001b[0m\n",
      "\u001b[1;32m<ipython-input-1-e8ef30cc746f>\u001b[0m in \u001b[0;36mdraw_square\u001b[1;34m(some_turtle)\u001b[0m\n\u001b[0;32m      3\u001b[0m \u001b[1;32mdef\u001b[0m \u001b[0mdraw_square\u001b[0m\u001b[1;33m(\u001b[0m\u001b[0msome_turtle\u001b[0m\u001b[1;33m)\u001b[0m\u001b[1;33m:\u001b[0m\u001b[1;33m\u001b[0m\u001b[1;33m\u001b[0m\u001b[0m\n\u001b[0;32m      4\u001b[0m     \u001b[1;32mfor\u001b[0m \u001b[0mi\u001b[0m \u001b[1;32min\u001b[0m \u001b[0mrange\u001b[0m\u001b[1;33m(\u001b[0m\u001b[1;36m4\u001b[0m\u001b[1;33m)\u001b[0m\u001b[1;33m:\u001b[0m\u001b[1;33m\u001b[0m\u001b[1;33m\u001b[0m\u001b[0m\n\u001b[1;32m----> 5\u001b[1;33m         \u001b[0msome_turtle\u001b[0m\u001b[1;33m.\u001b[0m\u001b[0mforward\u001b[0m\u001b[1;33m(\u001b[0m\u001b[1;36m100\u001b[0m\u001b[1;33m)\u001b[0m\u001b[1;33m\u001b[0m\u001b[1;33m\u001b[0m\u001b[0m\n\u001b[0m\u001b[0;32m      6\u001b[0m         \u001b[0msome_turtle\u001b[0m\u001b[1;33m.\u001b[0m\u001b[0mright\u001b[0m\u001b[1;33m(\u001b[0m\u001b[1;36m90\u001b[0m\u001b[1;33m)\u001b[0m\u001b[1;33m\u001b[0m\u001b[1;33m\u001b[0m\u001b[0m\n\u001b[0;32m      7\u001b[0m \u001b[1;33m\u001b[0m\u001b[0m\n",
      "\u001b[1;32mc:\\users\\raushan\\appdata\\local\\programs\\python\\python36\\lib\\turtle.py\u001b[0m in \u001b[0;36mforward\u001b[1;34m(self, distance)\u001b[0m\n\u001b[0;32m   1635\u001b[0m         \u001b[1;33m(\u001b[0m\u001b[1;33m-\u001b[0m\u001b[1;36m50.00\u001b[0m\u001b[1;33m,\u001b[0m\u001b[1;36m0.00\u001b[0m\u001b[1;33m)\u001b[0m\u001b[1;33m\u001b[0m\u001b[1;33m\u001b[0m\u001b[0m\n\u001b[0;32m   1636\u001b[0m         \"\"\"\n\u001b[1;32m-> 1637\u001b[1;33m         \u001b[0mself\u001b[0m\u001b[1;33m.\u001b[0m\u001b[0m_go\u001b[0m\u001b[1;33m(\u001b[0m\u001b[0mdistance\u001b[0m\u001b[1;33m)\u001b[0m\u001b[1;33m\u001b[0m\u001b[1;33m\u001b[0m\u001b[0m\n\u001b[0m\u001b[0;32m   1638\u001b[0m \u001b[1;33m\u001b[0m\u001b[0m\n\u001b[0;32m   1639\u001b[0m     \u001b[1;32mdef\u001b[0m \u001b[0mback\u001b[0m\u001b[1;33m(\u001b[0m\u001b[0mself\u001b[0m\u001b[1;33m,\u001b[0m \u001b[0mdistance\u001b[0m\u001b[1;33m)\u001b[0m\u001b[1;33m:\u001b[0m\u001b[1;33m\u001b[0m\u001b[1;33m\u001b[0m\u001b[0m\n",
      "\u001b[1;32mc:\\users\\raushan\\appdata\\local\\programs\\python\\python36\\lib\\turtle.py\u001b[0m in \u001b[0;36m_go\u001b[1;34m(self, distance)\u001b[0m\n\u001b[0;32m   1603\u001b[0m         \u001b[1;34m\"\"\"move turtle forward by specified distance\"\"\"\u001b[0m\u001b[1;33m\u001b[0m\u001b[1;33m\u001b[0m\u001b[0m\n\u001b[0;32m   1604\u001b[0m         \u001b[0mende\u001b[0m \u001b[1;33m=\u001b[0m \u001b[0mself\u001b[0m\u001b[1;33m.\u001b[0m\u001b[0m_position\u001b[0m \u001b[1;33m+\u001b[0m \u001b[0mself\u001b[0m\u001b[1;33m.\u001b[0m\u001b[0m_orient\u001b[0m \u001b[1;33m*\u001b[0m \u001b[0mdistance\u001b[0m\u001b[1;33m\u001b[0m\u001b[1;33m\u001b[0m\u001b[0m\n\u001b[1;32m-> 1605\u001b[1;33m         \u001b[0mself\u001b[0m\u001b[1;33m.\u001b[0m\u001b[0m_goto\u001b[0m\u001b[1;33m(\u001b[0m\u001b[0mende\u001b[0m\u001b[1;33m)\u001b[0m\u001b[1;33m\u001b[0m\u001b[1;33m\u001b[0m\u001b[0m\n\u001b[0m\u001b[0;32m   1606\u001b[0m \u001b[1;33m\u001b[0m\u001b[0m\n\u001b[0;32m   1607\u001b[0m     \u001b[1;32mdef\u001b[0m \u001b[0m_rotate\u001b[0m\u001b[1;33m(\u001b[0m\u001b[0mself\u001b[0m\u001b[1;33m,\u001b[0m \u001b[0mangle\u001b[0m\u001b[1;33m)\u001b[0m\u001b[1;33m:\u001b[0m\u001b[1;33m\u001b[0m\u001b[1;33m\u001b[0m\u001b[0m\n",
      "\u001b[1;32mc:\\users\\raushan\\appdata\\local\\programs\\python\\python36\\lib\\turtle.py\u001b[0m in \u001b[0;36m_goto\u001b[1;34m(self, end)\u001b[0m\n\u001b[0;32m   3176\u001b[0m                     screen._drawline(self.drawingLineItem,\n\u001b[0;32m   3177\u001b[0m                                      \u001b[1;33m(\u001b[0m\u001b[0mstart\u001b[0m\u001b[1;33m,\u001b[0m \u001b[0mself\u001b[0m\u001b[1;33m.\u001b[0m\u001b[0m_position\u001b[0m\u001b[1;33m)\u001b[0m\u001b[1;33m,\u001b[0m\u001b[1;33m\u001b[0m\u001b[1;33m\u001b[0m\u001b[0m\n\u001b[1;32m-> 3178\u001b[1;33m                                      self._pencolor, self._pensize, top)\n\u001b[0m\u001b[0;32m   3179\u001b[0m                 \u001b[0mself\u001b[0m\u001b[1;33m.\u001b[0m\u001b[0m_update\u001b[0m\u001b[1;33m(\u001b[0m\u001b[1;33m)\u001b[0m\u001b[1;33m\u001b[0m\u001b[1;33m\u001b[0m\u001b[0m\n\u001b[0;32m   3180\u001b[0m             \u001b[1;32mif\u001b[0m \u001b[0mself\u001b[0m\u001b[1;33m.\u001b[0m\u001b[0m_drawing\u001b[0m\u001b[1;33m:\u001b[0m\u001b[1;33m\u001b[0m\u001b[1;33m\u001b[0m\u001b[0m\n",
      "\u001b[1;32mc:\\users\\raushan\\appdata\\local\\programs\\python\\python36\\lib\\turtle.py\u001b[0m in \u001b[0;36m_drawline\u001b[1;34m(self, lineitem, coordlist, fill, width, top)\u001b[0m\n\u001b[0;32m    543\u001b[0m                 \u001b[0mcl\u001b[0m\u001b[1;33m.\u001b[0m\u001b[0mappend\u001b[0m\u001b[1;33m(\u001b[0m\u001b[0mx\u001b[0m \u001b[1;33m*\u001b[0m \u001b[0mself\u001b[0m\u001b[1;33m.\u001b[0m\u001b[0mxscale\u001b[0m\u001b[1;33m)\u001b[0m\u001b[1;33m\u001b[0m\u001b[1;33m\u001b[0m\u001b[0m\n\u001b[0;32m    544\u001b[0m                 \u001b[0mcl\u001b[0m\u001b[1;33m.\u001b[0m\u001b[0mappend\u001b[0m\u001b[1;33m(\u001b[0m\u001b[1;33m-\u001b[0m\u001b[0my\u001b[0m \u001b[1;33m*\u001b[0m \u001b[0mself\u001b[0m\u001b[1;33m.\u001b[0m\u001b[0myscale\u001b[0m\u001b[1;33m)\u001b[0m\u001b[1;33m\u001b[0m\u001b[1;33m\u001b[0m\u001b[0m\n\u001b[1;32m--> 545\u001b[1;33m             \u001b[0mself\u001b[0m\u001b[1;33m.\u001b[0m\u001b[0mcv\u001b[0m\u001b[1;33m.\u001b[0m\u001b[0mcoords\u001b[0m\u001b[1;33m(\u001b[0m\u001b[0mlineitem\u001b[0m\u001b[1;33m,\u001b[0m \u001b[1;33m*\u001b[0m\u001b[0mcl\u001b[0m\u001b[1;33m)\u001b[0m\u001b[1;33m\u001b[0m\u001b[1;33m\u001b[0m\u001b[0m\n\u001b[0m\u001b[0;32m    546\u001b[0m         \u001b[1;32mif\u001b[0m \u001b[0mfill\u001b[0m \u001b[1;32mis\u001b[0m \u001b[1;32mnot\u001b[0m \u001b[1;32mNone\u001b[0m\u001b[1;33m:\u001b[0m\u001b[1;33m\u001b[0m\u001b[1;33m\u001b[0m\u001b[0m\n\u001b[0;32m    547\u001b[0m             \u001b[0mself\u001b[0m\u001b[1;33m.\u001b[0m\u001b[0mcv\u001b[0m\u001b[1;33m.\u001b[0m\u001b[0mitemconfigure\u001b[0m\u001b[1;33m(\u001b[0m\u001b[0mlineitem\u001b[0m\u001b[1;33m,\u001b[0m \u001b[0mfill\u001b[0m\u001b[1;33m=\u001b[0m\u001b[0mfill\u001b[0m\u001b[1;33m)\u001b[0m\u001b[1;33m\u001b[0m\u001b[1;33m\u001b[0m\u001b[0m\n",
      "\u001b[1;32m<string>\u001b[0m in \u001b[0;36mcoords\u001b[1;34m(self, *args, **kw)\u001b[0m\n",
      "\u001b[1;32mc:\\users\\raushan\\appdata\\local\\programs\\python\\python36\\lib\\tkinter\\__init__.py\u001b[0m in \u001b[0;36mcoords\u001b[1;34m(self, *args)\u001b[0m\n\u001b[0;32m   2467\u001b[0m         return [self.tk.getdouble(x) for x in\n\u001b[0;32m   2468\u001b[0m                            self.tk.splitlist(\n\u001b[1;32m-> 2469\u001b[1;33m                    self.tk.call((self._w, 'coords') + args))]\n\u001b[0m\u001b[0;32m   2470\u001b[0m     \u001b[1;32mdef\u001b[0m \u001b[0m_create\u001b[0m\u001b[1;33m(\u001b[0m\u001b[0mself\u001b[0m\u001b[1;33m,\u001b[0m \u001b[0mitemType\u001b[0m\u001b[1;33m,\u001b[0m \u001b[0margs\u001b[0m\u001b[1;33m,\u001b[0m \u001b[0mkw\u001b[0m\u001b[1;33m)\u001b[0m\u001b[1;33m:\u001b[0m \u001b[1;31m# Args: (val, val, ..., cnf={})\u001b[0m\u001b[1;33m\u001b[0m\u001b[1;33m\u001b[0m\u001b[0m\n\u001b[0;32m   2471\u001b[0m         \u001b[1;34m\"\"\"Internal function.\"\"\"\u001b[0m\u001b[1;33m\u001b[0m\u001b[1;33m\u001b[0m\u001b[0m\n",
      "\u001b[1;31mTclError\u001b[0m: invalid command name \".!canvas\""
     ]
    }
   ],
   "source": [
    "# Draw a art\n",
    "import turtle\n",
    "def draw_square(some_turtle):\n",
    "    for i in range(4):\n",
    "        some_turtle.forward(100)\n",
    "        some_turtle.right(90)\n",
    "\n",
    "def draw_art():\n",
    "    window = turtle.Screen()     #init of class screen is called\n",
    "    window.bgcolor(\"red\")\n",
    "    brad = turtle.Turtle()     #init of class Turtle is called\n",
    "    brad.shape(\"arrow\")\n",
    "    brad.color(\"blue\")\n",
    "    brad.speed(2)\n",
    "    for i in range(36):\n",
    "        draw_square(brad)\n",
    "        brad.right(10)\n",
    "        \n",
    "    window.exitonclick()\n",
    "draw_art()"
   ]
  },
  {
   "cell_type": "code",
   "execution_count": 18,
   "metadata": {},
   "outputs": [
    {
     "name": "stdout",
     "output_type": "stream",
     "text": [
      "SM9eebe4512df34b9e84c125bdf1cd4386\n"
     ]
    }
   ],
   "source": [
    "# Send the text message to my account\n",
    "from twilio.rest import Client\n",
    "ACCOUNT_SID=\"ACebc30d0855d6cdc66ee906280b975ea1\"\n",
    "AUTH_TOKEN=\"a76357ac7fcfb3fab7c38bf2d71063dc\"\n",
    "client=Client(ACCOUNT_SID,AUTH_TOKEN)\n",
    "\n",
    "message=client.messages.create(\n",
    "    body=\"My name is Marcus Smoke\",\n",
    "    from_=\"+15637237498\",\n",
    "    to=\"+918637459409\")\n",
    "\n",
    "print(message.sid)"
   ]
  },
  {
   "cell_type": "code",
   "execution_count": 42,
   "metadata": {},
   "outputs": [
    {
     "name": "stdout",
     "output_type": "stream",
     "text": [
      "my name is raushan kumar.\n",
      "i am a good boy.\n",
      "you cant handle the truth.\n",
      "i believe everything and i believe noyhing.\n",
      "(a shot in the dark)\n"
     ]
    }
   ],
   "source": [
    "#find the curse word using wdyl\n",
    "def read_text():\n",
    "    q=open(\"text_folder/text1_curse.txt\",\"r\")\n",
    "    con=q.read()\n",
    "    print(con)\n",
    "read_text()"
   ]
  },
  {
   "cell_type": "code",
   "execution_count": 53,
   "metadata": {},
   "outputs": [
    {
     "name": "stdout",
     "output_type": "stream",
     "text": [
      "A marine on an alien planet.\n",
      "Avatar's trailer is running. None\n",
      "Avatar's poster image is showing. None\n",
      "This class provides a way to store movie name and data.\n"
     ]
    }
   ],
   "source": [
    "# Movie website\n",
    "import webbrowser\n",
    "class Movie():\n",
    "    \"\"\"This class provides a way to store movie name and data.\"\"\"\n",
    "    \n",
    "    valid_ratings=[\"G\",\"PG\",\"PG-13\",\"R\"]    #class variable\n",
    "    \n",
    "    def __init__(self,movie_title,movie_storyline,poster_image,trailer_youtube):\n",
    "        self.title=movie_title\n",
    "        self.storyline=movie_storyline               #instance variable\n",
    "        self.poster_image_url=poster_image\n",
    "        self.trailer_youtube_url=trailer_youtube\n",
    "        \n",
    "    def show_trailer(self):\n",
    "        webbrowser.open(self.trailer_youtube_url)\n",
    "        \n",
    "    def show_poster_image(self):\n",
    "        webbrowser.open(\"https://www.joblo.com/assets/images/oldsite/posters/images/full/avatar-quad-1.jpg\")\n",
    "        \n",
    "        \n",
    "        \n",
    "avatar=Movie(\"Avatar\",\n",
    "             \"A marine on an alien planet.\",\n",
    "            \"https://www.joblo.com/assets/images/oldsite/posters/images/full/avatar-quad-1.jpg\",\n",
    "            \"https://www.youtube.com/watch?v=5PSNL1qE6VY\")\n",
    "#print(avatar.storyline)\n",
    "#print(\"Avatar's trailer is running.\",avatar.show_trailer())\n",
    "#print(\"Avatar's poster image is showing.\",avatar.show_poster_image())\n",
    "#print(Movie.__doc__)\n",
    "\n",
    "kedarnath=Movie(\"Kedarnath\",\n",
    "               \"A lovestory of a trajedy happened in kedarnath.\",\n",
    "               \"https://spiderimg.amarujala.com/assets/images/2018/10/30/750x506/kedarnath_1540884816.jpeg\",\n",
    "               \"https://www.youtube.com/watch?v=03-KVRmd3xo\")\n",
    "\n",
    "simmba=Movie(\"Simmba\",\n",
    "             \"A story of a policeofficer.\",\n",
    "            \"https://resize.indiatvnews.com/en/centered/newbucket/715_431/2017/12/simmba-1512619070.jpg\",\n",
    "            \"https://www.youtube.com/watch?v=PtFY3WHztZc&t=57s\")\n",
    "\n",
    "cheat_india=Movie(\"Cheat India\",\n",
    "                 \"A story of cheating India.\",\n",
    "                 \"https://www.hindustantimes.com/rf/image_size_960x540/HT/p2/2018/11/12/Pictures/_64cb9bc4-e66c-11e8-a696-ab1a80e4d2e8.jpg\",\n",
    "                 \"https://www.youtube.com/watch?v=2B6vjua8aK4\")\n",
    "\n",
    "zero=Movie(\"Zero\",\n",
    "           \"A triangular lovestory.\",\n",
    "          \"https://pbs.twimg.com/media/Dq26CzdWwAEZtPD.jpg\",\n",
    "          \"https://www.youtube.com/watch?v=Ru4lEmhHTF4\")\n",
    "\n",
    "uri=Movie(\"URI\",\n",
    "         \"A surgical strike of india.\",\n",
    "         \"https://bollyworm.com/wp-content/uploads/2018/09/Uri.jpg\",\n",
    "         \"https://www.youtube.com/watch?v=Cg8sbRFS3zU\")\n"
   ]
  },
  {
   "cell_type": "code",
   "execution_count": 62,
   "metadata": {},
   "outputs": [
    {
     "name": "stdout",
     "output_type": "stream",
     "text": [
      "parent constructor called.\n",
      "Dhoni\n",
      "Last name -  Dhoni\n",
      "Eye color -  Black\n",
      "\n",
      "child constructor called.\n",
      "parent constructor called.\n",
      "Dhoni\n",
      "5\n",
      "Last name -  Dhoni\n",
      "Eye color -  Black\n",
      "NO. of toys are -  5\n"
     ]
    }
   ],
   "source": [
    "#Inheritance\n",
    "class Parent():\n",
    "    def __init__(self,last_name,eye_color):\n",
    "        print(\"parent constructor called.\")\n",
    "        self.last_name=last_name\n",
    "        self.eye_color=eye_color\n",
    "    def show_info(self):\n",
    "        print(\"Last name - \",self.last_name)\n",
    "        print(\"Eye color - \",self.eye_color)\n",
    "\n",
    "class Child(Parent):\n",
    "    def __init__(self,last_name,eye_color,no_of_toys):\n",
    "        print(\"child constructor called.\")\n",
    "        Parent.__init__(self,last_name,eye_color)\n",
    "        self.no_of_toys=no_of_toys\n",
    "    def show_info(self):\n",
    "        print(\"Last name - \",self.last_name)\n",
    "        print(\"Eye color - \",self.eye_color)\n",
    "        print(\"NO. of toys are - \",self.no_of_toys)\n",
    "\n",
    "\n",
    "ms_dhoni=Parent(\"Dhoni\",\"Black\")\n",
    "print(ms_dhoni.last_name)\n",
    "ms_dhoni.show_info()\n",
    "\n",
    "print()\n",
    "\n",
    "jiva=Child(\"Dhoni\",\"Black\",5)\n",
    "print(jiva.last_name)\n",
    "print(jiva.no_of_toys)\n",
    "jiva.show_info()"
   ]
  },
  {
   "cell_type": "code",
   "execution_count": null,
   "metadata": {},
   "outputs": [],
   "source": []
  },
  {
   "cell_type": "code",
   "execution_count": null,
   "metadata": {},
   "outputs": [],
   "source": []
  },
  {
   "cell_type": "code",
   "execution_count": null,
   "metadata": {},
   "outputs": [],
   "source": []
  },
  {
   "cell_type": "code",
   "execution_count": null,
   "metadata": {},
   "outputs": [],
   "source": []
  },
  {
   "cell_type": "code",
   "execution_count": null,
   "metadata": {},
   "outputs": [],
   "source": []
  }
 ],
 "metadata": {
  "kernelspec": {
   "display_name": "Python 3",
   "language": "python",
   "name": "python3"
  },
  "language_info": {
   "codemirror_mode": {
    "name": "ipython",
    "version": 3
   },
   "file_extension": ".py",
   "mimetype": "text/x-python",
   "name": "python",
   "nbconvert_exporter": "python",
   "pygments_lexer": "ipython3",
   "version": "3.6.7"
  }
 },
 "nbformat": 4,
 "nbformat_minor": 2
}
