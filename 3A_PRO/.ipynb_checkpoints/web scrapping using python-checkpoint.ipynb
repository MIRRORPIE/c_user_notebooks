{
 "cells": [
  {
   "cell_type": "markdown",
   "metadata": {},
   "source": [
    "### <---------------------------------------------------------------->"
   ]
  },
  {
   "cell_type": "code",
   "execution_count": 16,
   "metadata": {},
   "outputs": [
    {
     "name": "stdout",
     "output_type": "stream",
     "text": [
      "200 \n",
      "\n",
      "{'Date': 'Mon, 14 Jan 2019 10:20:07 GMT', 'Expires': '-1', 'Cache-Control': 'private, max-age=0', 'Content-Type': 'text/html; charset=ISO-8859-1', 'P3P': 'CP=\"This is not a P3P policy! See g.co/p3phelp for more info.\"', 'Content-Encoding': 'gzip', 'Server': 'gws', 'X-XSS-Protection': '1; mode=block', 'X-Frame-Options': 'SAMEORIGIN', 'Set-Cookie': '1P_JAR=2019-01-14-10; expires=Wed, 13-Feb-2019 10:20:07 GMT; path=/; domain=.google.com, NID=154=O_ZnkIG1_gCWKcqf3gLzd1YOrkYgyX6ySC7Q7H1X0xrLwY1NE_QRt2x-3o8q-D59Uo1Npw9Qw2IykO4FO1mflN5RBREm6biHGpdpRnBUYwPhVXZ7kxOKbojgnERwnJ3KxDL117d2_cT8_mpdy2F9QAMriswQVB9m1Kg-txCBWhQ; expires=Tue, 16-Jul-2019 10:20:07 GMT; path=/; domain=.google.com; HttpOnly', 'Alt-Svc': 'quic=\":443\"; ma=2592000; v=\"44,43,39,35\"', 'Transfer-Encoding': 'chunked'} \n",
      "\n",
      "[<a class=\"gb1\" href=\"https://www.google.co.in/imghp?hl=en&amp;tab=wi\">Images</a>, <a class=\"gb1\" href=\"https://maps.google.co.in/maps?hl=en&amp;tab=wl\">Maps</a>, <a class=\"gb1\" href=\"https://play.google.com/?hl=en&amp;tab=w8\">Play</a>, <a class=\"gb1\" href=\"https://www.youtube.com/?gl=IN&amp;tab=w1\">YouTube</a>, <a class=\"gb1\" href=\"https://news.google.co.in/nwshp?hl=en&amp;tab=wn\">News</a>, <a class=\"gb1\" href=\"https://mail.google.com/mail/?tab=wm\">Gmail</a>, <a class=\"gb1\" href=\"https://drive.google.com/?tab=wo\">Drive</a>, <a class=\"gb1\" href=\"https://www.google.co.in/intl/en/about/products?tab=wh\" style=\"text-decoration:none\"><u>More</u> »</a>, <a class=\"gb4\" href=\"http://www.google.co.in/history/optout?hl=en\">Web History</a>, <a class=\"gb4\" href=\"/preferences?hl=en\">Settings</a>, <a class=\"gb4\" href=\"https://accounts.google.com/ServiceLogin?hl=en&amp;passive=true&amp;continue=https://www.google.com/\" id=\"gb_70\" target=\"_top\">Sign in</a>, <a href=\"/advanced_search?hl=en-IN&amp;authuser=0\">Advanced search</a>, <a href=\"/language_tools?hl=en-IN&amp;authuser=0\">Language tools</a>, <a href=\"https://www.google.com/setprefs?sig=0_eQWDvRY1ZarnKmY9-joGROcVF0A%3D&amp;hl=hi&amp;source=homepage&amp;sa=X&amp;ved=0ahUKEwjvwNOchu3fAhUZSY8KHTwXDOcQ2ZgBCAU\">हिन्दी</a>, <a href=\"https://www.google.com/setprefs?sig=0_eQWDvRY1ZarnKmY9-joGROcVF0A%3D&amp;hl=bn&amp;source=homepage&amp;sa=X&amp;ved=0ahUKEwjvwNOchu3fAhUZSY8KHTwXDOcQ2ZgBCAY\">বাংলা</a>, <a href=\"https://www.google.com/setprefs?sig=0_eQWDvRY1ZarnKmY9-joGROcVF0A%3D&amp;hl=te&amp;source=homepage&amp;sa=X&amp;ved=0ahUKEwjvwNOchu3fAhUZSY8KHTwXDOcQ2ZgBCAc\">తెలుగు</a>, <a href=\"https://www.google.com/setprefs?sig=0_eQWDvRY1ZarnKmY9-joGROcVF0A%3D&amp;hl=mr&amp;source=homepage&amp;sa=X&amp;ved=0ahUKEwjvwNOchu3fAhUZSY8KHTwXDOcQ2ZgBCAg\">मराठी</a>, <a href=\"https://www.google.com/setprefs?sig=0_eQWDvRY1ZarnKmY9-joGROcVF0A%3D&amp;hl=ta&amp;source=homepage&amp;sa=X&amp;ved=0ahUKEwjvwNOchu3fAhUZSY8KHTwXDOcQ2ZgBCAk\">தமிழ்</a>, <a href=\"https://www.google.com/setprefs?sig=0_eQWDvRY1ZarnKmY9-joGROcVF0A%3D&amp;hl=gu&amp;source=homepage&amp;sa=X&amp;ved=0ahUKEwjvwNOchu3fAhUZSY8KHTwXDOcQ2ZgBCAo\">ગુજરાતી</a>, <a href=\"https://www.google.com/setprefs?sig=0_eQWDvRY1ZarnKmY9-joGROcVF0A%3D&amp;hl=kn&amp;source=homepage&amp;sa=X&amp;ved=0ahUKEwjvwNOchu3fAhUZSY8KHTwXDOcQ2ZgBCAs\">ಕನ್ನಡ</a>, <a href=\"https://www.google.com/setprefs?sig=0_eQWDvRY1ZarnKmY9-joGROcVF0A%3D&amp;hl=ml&amp;source=homepage&amp;sa=X&amp;ved=0ahUKEwjvwNOchu3fAhUZSY8KHTwXDOcQ2ZgBCAw\">മലയാളം</a>, <a href=\"https://www.google.com/setprefs?sig=0_eQWDvRY1ZarnKmY9-joGROcVF0A%3D&amp;hl=pa&amp;source=homepage&amp;sa=X&amp;ved=0ahUKEwjvwNOchu3fAhUZSY8KHTwXDOcQ2ZgBCA0\">ਪੰਜਾਬੀ</a>, <a href=\"/intl/en/ads/\">Advertising Programs</a>, <a href=\"http://www.google.co.in/services/\">Business Solutions</a>, <a href=\"https://plus.google.com/104205742743787718296\" rel=\"publisher\">+Google</a>, <a href=\"/intl/en/about.html\">About Google</a>, <a href=\"https://www.google.com/setprefdomain?prefdom=IN&amp;prev=https://www.google.co.in/&amp;sig=K_CJ3OoHGO47HBiaDNNKc--sZFvoo%3D\">Google.co.in</a>, <a href=\"/intl/en/policies/privacy/\">Privacy</a>, <a href=\"/intl/en/policies/terms/\">Terms</a>] \n",
      "\n"
     ]
    }
   ],
   "source": [
    "import requests\n",
    "from bs4 import BeautifulSoup\n",
    "result=requests.get(\"https://www.google.com/\")\n",
    "print(result.status_code,\"\\n\")\n",
    "print(result.headers,\"\\n\")\n",
    "src=result.content\n",
    "soup=BeautifulSoup(src, 'html')\n",
    "links=soup.find_all(\"a\")\n",
    "print(links,\"\\n\")"
   ]
  },
  {
   "cell_type": "code",
   "execution_count": 29,
   "metadata": {
    "scrolled": true
   },
   "outputs": [
    {
     "name": "stdout",
     "output_type": "stream",
     "text": [
      "<a href=\"/intl/en/about.html\">About Google</a>\n",
      "<class 'bs4.element.Tag'>\n",
      "/intl/en/about.html\n"
     ]
    }
   ],
   "source": [
    "import requests\n",
    "from bs4 import BeautifulSoup\n",
    "result=requests.get(\"https://www.google.com/\")\n",
    "#print(result.status_code,\"\\n\")\n",
    "#print(result.headers,\"\\n\")\n",
    "src=result.content\n",
    "soup=BeautifulSoup(src, 'html')\n",
    "links=soup.find_all(\"a\")\n",
    "#print(links,\"\\n\")\n",
    "\n",
    "for link in links:\n",
    "    if \"About\" in link.text:\n",
    "        print(link)\n",
    "        print(type(link))\n",
    "        print(link.attrs[\"href\"])"
   ]
  },
  {
   "cell_type": "code",
   "execution_count": 33,
   "metadata": {},
   "outputs": [
    {
     "name": "stdout",
     "output_type": "stream",
     "text": [
      "['https://www.whitehouse.gov/briefings-statements/remarks-president-trump-roundtable-discussion-state-local-community-leaders-border-security-safe-communities/', 'https://www.whitehouse.gov/briefings-statements/statement-national-security-advisor-ambassador-john-bolton-venezuela/', 'https://www.whitehouse.gov/briefings-statements/remarks-vice-president-pence-meet-greet-u-s-customs-border-patrol-employees/', 'https://www.whitehouse.gov/briefings-statements/remarks-president-trump-briefing-rio-grande-valley-u-s-mexico-border/', 'https://www.whitehouse.gov/briefings-statements/remarks-president-trump-roundtable-border-security-mcallen-tx/', 'https://www.whitehouse.gov/briefings-statements/white-house-national-security-advisor-announces-senior-staff-appointment-2/', 'https://www.whitehouse.gov/briefings-statements/bill-announcement-17/', 'https://www.whitehouse.gov/briefings-statements/crisis-southern-border-urgent-ignore/', 'https://www.whitehouse.gov/briefings-statements/remarks-president-trump-marine-one-departure-30/', 'https://www.whitehouse.gov/briefings-statements/secretary-nielsen-face-humanitarian-security-crisis/']\n",
      "\n",
      " 10\n"
     ]
    }
   ],
   "source": [
    "#all links of briefing and statement of the website\n",
    "\n",
    "import requests\n",
    "from bs4 import BeautifulSoup\n",
    "\n",
    "result=requests.get(\"https://www.whitehouse.gov/briefings-statements/\")\n",
    "src=result.content\n",
    "soup=BeautifulSoup(src,\"html\")\n",
    "\n",
    "urls=[]\n",
    "for h2_tag in soup.find_all(\"h2\"):\n",
    "    a_tag=h2_tag.find(\"a\")\n",
    "    urls.append(a_tag.attrs[\"href\"])\n",
    "    \n",
    "print(urls)\n",
    "print(\"\\n\",len(urls))"
   ]
  },
  {
   "cell_type": "markdown",
   "metadata": {},
   "source": [
    "### <---------------------------------------------------------------->"
   ]
  },
  {
   "cell_type": "markdown",
   "metadata": {},
   "source": [
    "#### python web scrapping ------>by Sukhvinder singh"
   ]
  },
  {
   "cell_type": "code",
   "execution_count": null,
   "metadata": {},
   "outputs": [],
   "source": []
  },
  {
   "cell_type": "code",
   "execution_count": 1,
   "metadata": {},
   "outputs": [
    {
     "name": "stdout",
     "output_type": "stream",
     "text": [
      "b'<html>\\n<head>\\n<title>A Useful Page</title>\\n</head>\\n<body>\\n<h1>An Interesting Title</h1>\\n<div>\\nLorem ipsum dolor sit amet, consectetur adipisicing elit, sed do eiusmod tempor incididunt ut labore et dolore magna aliqua. Ut enim ad minim veniam, quis nostrud exercitation ullamco laboris nisi ut aliquip ex ea commodo consequat. Duis aute irure dolor in reprehenderit in voluptate velit esse cillum dolore eu fugiat nulla pariatur. Excepteur sint occaecat cupidatat non proident, sunt in culpa qui officia deserunt mollit anim id est laborum.\\n</div>\\n</body>\\n</html>\\n'\n"
     ]
    }
   ],
   "source": [
    "from urllib.request import urlopen\n",
    "h=urlopen(\"http://pythonscraping.com/pages/page1.html\")\n",
    "print(h.read())"
   ]
  },
  {
   "cell_type": "code",
   "execution_count": 12,
   "metadata": {},
   "outputs": [
    {
     "name": "stdout",
     "output_type": "stream",
     "text": [
      "<h1>An Interesting Title</h1>\n",
      "<h1>An Interesting Title</h1>\n",
      "<h1>An Interesting Title</h1>\n",
      "<h1>An Interesting Title</h1> \n",
      "\n",
      "<div>\n",
      "Lorem ipsum dolor sit amet, consectetur adipisicing elit, sed do eiusmod tempor incididunt ut labore et dolore magna aliqua. Ut enim ad minim veniam, quis nostrud exercitation ullamco laboris nisi ut aliquip ex ea commodo consequat. Duis aute irure dolor in reprehenderit in voluptate velit esse cillum dolore eu fugiat nulla pariatur. Excepteur sint occaecat cupidatat non proident, sunt in culpa qui officia deserunt mollit anim id est laborum.\n",
      "</div> \n",
      "\n",
      "None \n",
      "\n"
     ]
    }
   ],
   "source": [
    "from urllib.request import urlopen\n",
    "from bs4 import BeautifulSoup\n",
    "\n",
    "h=urlopen(\"http://pythonscraping.com/pages/page1.html\")\n",
    "bsobj=BeautifulSoup(h.read(),\"html\")\n",
    "print(bsobj.h1)\n",
    "print(bsobj.html.body.h1)\n",
    "print(bsobj.body.h1)\n",
    "print(bsobj.html.h1,\"\\n\")\n",
    "print(bsobj.div,\"\\n\")\n",
    "print(bsobj.p,\"\\n\")"
   ]
  },
  {
   "cell_type": "code",
   "execution_count": 35,
   "metadata": {},
   "outputs": [
    {
     "name": "stdout",
     "output_type": "stream",
     "text": [
      "<bound method Tag.prettify of <html>\n",
      "<head>\n",
      "<title>A Useful Page</title>\n",
      "</head>\n",
      "<body>\n",
      "<h1>An Interesting Title</h1>\n",
      "<div>\n",
      "Lorem ipsum dolor sit amet, consectetur adipisicing elit, sed do eiusmod tempor incididunt ut labore et dolore magna aliqua. Ut enim ad minim veniam, quis nostrud exercitation ullamco laboris nisi ut aliquip ex ea commodo consequat. Duis aute irure dolor in reprehenderit in voluptate velit esse cillum dolore eu fugiat nulla pariatur. Excepteur sint occaecat cupidatat non proident, sunt in culpa qui officia deserunt mollit anim id est laborum.\n",
      "</div>\n",
      "</body>\n",
      "</html>\n",
      ">\n",
      "\n",
      "\n"
     ]
    },
    {
     "ename": "AttributeError",
     "evalue": "'NoneType' object has no attribute 'sometag'",
     "output_type": "error",
     "traceback": [
      "\u001b[1;31m---------------------------------------------------------------------------\u001b[0m",
      "\u001b[1;31mAttributeError\u001b[0m                            Traceback (most recent call last)",
      "\u001b[1;32m<ipython-input-35-898193a5ac7e>\u001b[0m in \u001b[0;36m<module>\u001b[1;34m\u001b[0m\n\u001b[0;32m      8\u001b[0m \u001b[0mprint\u001b[0m\u001b[1;33m(\u001b[0m\u001b[0mbsobj\u001b[0m\u001b[1;33m.\u001b[0m\u001b[0mprettify\u001b[0m\u001b[1;33m)\u001b[0m\u001b[1;33m\u001b[0m\u001b[1;33m\u001b[0m\u001b[0m\n\u001b[0;32m      9\u001b[0m \u001b[0mprint\u001b[0m\u001b[1;33m(\u001b[0m\u001b[1;34m\"\\n\"\u001b[0m\u001b[1;33m)\u001b[0m\u001b[1;33m\u001b[0m\u001b[1;33m\u001b[0m\u001b[0m\n\u001b[1;32m---> 10\u001b[1;33m \u001b[0mprint\u001b[0m\u001b[1;33m(\u001b[0m\u001b[0mbsobj\u001b[0m\u001b[1;33m.\u001b[0m\u001b[0mbhakai\u001b[0m\u001b[1;33m.\u001b[0m\u001b[0msometag\u001b[0m\u001b[1;33m)\u001b[0m     \u001b[1;31m#bhakai attribute error occur\u001b[0m\u001b[1;33m\u001b[0m\u001b[1;33m\u001b[0m\u001b[0m\n\u001b[0m",
      "\u001b[1;31mAttributeError\u001b[0m: 'NoneType' object has no attribute 'sometag'"
     ]
    }
   ],
   "source": [
    "#trying to acces the non existing tag\n",
    "\n",
    "from urllib.request import urlopen\n",
    "from bs4 import BeautifulSoup\n",
    "\n",
    "h=urlopen(\"http://pythonscraping.com/pages/page1.html\")\n",
    "bsobj=BeautifulSoup(h.read(),features=\"html.parser\")\n",
    "print(bsobj.prettify)\n",
    "print(\"\\n\")\n",
    "print(bsobj.bhakai.sometag)     #bhakai attribute error occur"
   ]
  },
  {
   "cell_type": "code",
   "execution_count": 38,
   "metadata": {},
   "outputs": [
    {
     "name": "stdout",
     "output_type": "stream",
     "text": [
      "'NoneType' object has no attribute 'sometag'\n",
      "Tag not found\n"
     ]
    }
   ],
   "source": [
    "#exceptionl handling for the above code\n",
    "\n",
    "from urllib.request import urlopen\n",
    "from bs4 import BeautifulSoup\n",
    "\n",
    "h=urlopen(\"http://pythonscraping.com/pages/page1.html\")\n",
    "bsobj=BeautifulSoup(h.read(),features=\"html.parser\")\n",
    "try:\n",
    "    bad_content=bsobj.non_existing_tag.sometag\n",
    "except AttributeError as A:\n",
    "    print(A)\n",
    "    print(\"Tag not found\")\n",
    "else:\n",
    "    print(bad_content)"
   ]
  },
  {
   "cell_type": "code",
   "execution_count": null,
   "metadata": {},
   "outputs": [],
   "source": []
  },
  {
   "cell_type": "code",
   "execution_count": null,
   "metadata": {},
   "outputs": [],
   "source": []
  },
  {
   "cell_type": "code",
   "execution_count": 25,
   "metadata": {},
   "outputs": [
    {
     "name": "stdout",
     "output_type": "stream",
     "text": [
      "It worked\n",
      "\n",
      "HTTP Error 404: Not Found\n",
      "HTTP error occur\n",
      "\n",
      "<urlopen error [Errno 11001] getaddrinfo failed>\n",
      "The server could not be find\n",
      "\n"
     ]
    }
   ],
   "source": [
    "from urllib.request import urlopen\n",
    "from urllib.error import HTTPError\n",
    "from urllib.error import URLError\n",
    "\n",
    "case=[\"http://pythonscraping.com/pages/page1.html\",\n",
    "      \"http://pythonscraping.com/pages/page1.htmlxxxx\",\n",
    "      \"http://xxxxpythonscraping.com/pages/page1.html\"]\n",
    "for i in case:\n",
    "    try:\n",
    "        h=urlopen(i)\n",
    "    except HTTPError as H:\n",
    "        print(H)\n",
    "        print(\"HTTP error occur\")\n",
    "        #return null, break, or other\n",
    "    except URLError as U:\n",
    "        print(U)\n",
    "        print(\"The server could not be find\")\n",
    "    else:\n",
    "        print(\"It worked\")\n",
    "    print()"
   ]
  },
  {
   "cell_type": "code",
   "execution_count": null,
   "metadata": {},
   "outputs": [],
   "source": []
  },
  {
   "cell_type": "code",
   "execution_count": null,
   "metadata": {},
   "outputs": [],
   "source": []
  },
  {
   "cell_type": "code",
   "execution_count": null,
   "metadata": {},
   "outputs": [],
   "source": []
  },
  {
   "cell_type": "code",
   "execution_count": null,
   "metadata": {},
   "outputs": [],
   "source": []
  },
  {
   "cell_type": "code",
   "execution_count": null,
   "metadata": {},
   "outputs": [],
   "source": []
  },
  {
   "cell_type": "code",
   "execution_count": null,
   "metadata": {},
   "outputs": [],
   "source": []
  },
  {
   "cell_type": "code",
   "execution_count": null,
   "metadata": {},
   "outputs": [],
   "source": []
  },
  {
   "cell_type": "code",
   "execution_count": null,
   "metadata": {},
   "outputs": [],
   "source": []
  },
  {
   "cell_type": "code",
   "execution_count": null,
   "metadata": {},
   "outputs": [],
   "source": []
  },
  {
   "cell_type": "code",
   "execution_count": null,
   "metadata": {},
   "outputs": [],
   "source": []
  },
  {
   "cell_type": "code",
   "execution_count": null,
   "metadata": {},
   "outputs": [],
   "source": []
  },
  {
   "cell_type": "code",
   "execution_count": null,
   "metadata": {},
   "outputs": [],
   "source": []
  },
  {
   "cell_type": "code",
   "execution_count": null,
   "metadata": {},
   "outputs": [],
   "source": []
  },
  {
   "cell_type": "code",
   "execution_count": null,
   "metadata": {},
   "outputs": [],
   "source": []
  },
  {
   "cell_type": "code",
   "execution_count": null,
   "metadata": {},
   "outputs": [],
   "source": []
  },
  {
   "cell_type": "code",
   "execution_count": null,
   "metadata": {},
   "outputs": [],
   "source": []
  },
  {
   "cell_type": "code",
   "execution_count": null,
   "metadata": {},
   "outputs": [],
   "source": []
  },
  {
   "cell_type": "code",
   "execution_count": null,
   "metadata": {},
   "outputs": [],
   "source": []
  },
  {
   "cell_type": "code",
   "execution_count": null,
   "metadata": {},
   "outputs": [],
   "source": []
  },
  {
   "cell_type": "code",
   "execution_count": null,
   "metadata": {},
   "outputs": [],
   "source": []
  },
  {
   "cell_type": "code",
   "execution_count": null,
   "metadata": {},
   "outputs": [],
   "source": []
  },
  {
   "cell_type": "code",
   "execution_count": null,
   "metadata": {},
   "outputs": [],
   "source": []
  },
  {
   "cell_type": "code",
   "execution_count": null,
   "metadata": {},
   "outputs": [],
   "source": []
  },
  {
   "cell_type": "code",
   "execution_count": null,
   "metadata": {},
   "outputs": [],
   "source": []
  },
  {
   "cell_type": "code",
   "execution_count": null,
   "metadata": {},
   "outputs": [],
   "source": []
  },
  {
   "cell_type": "code",
   "execution_count": null,
   "metadata": {},
   "outputs": [],
   "source": []
  },
  {
   "cell_type": "code",
   "execution_count": null,
   "metadata": {},
   "outputs": [],
   "source": []
  },
  {
   "cell_type": "code",
   "execution_count": null,
   "metadata": {},
   "outputs": [],
   "source": []
  },
  {
   "cell_type": "code",
   "execution_count": null,
   "metadata": {},
   "outputs": [],
   "source": []
  },
  {
   "cell_type": "code",
   "execution_count": null,
   "metadata": {},
   "outputs": [],
   "source": []
  },
  {
   "cell_type": "code",
   "execution_count": null,
   "metadata": {},
   "outputs": [],
   "source": []
  },
  {
   "cell_type": "code",
   "execution_count": null,
   "metadata": {},
   "outputs": [],
   "source": []
  },
  {
   "cell_type": "code",
   "execution_count": null,
   "metadata": {},
   "outputs": [],
   "source": []
  },
  {
   "cell_type": "code",
   "execution_count": null,
   "metadata": {},
   "outputs": [],
   "source": []
  },
  {
   "cell_type": "code",
   "execution_count": null,
   "metadata": {},
   "outputs": [],
   "source": []
  },
  {
   "cell_type": "code",
   "execution_count": null,
   "metadata": {},
   "outputs": [],
   "source": []
  },
  {
   "cell_type": "code",
   "execution_count": null,
   "metadata": {},
   "outputs": [],
   "source": []
  },
  {
   "cell_type": "code",
   "execution_count": null,
   "metadata": {},
   "outputs": [],
   "source": []
  },
  {
   "cell_type": "code",
   "execution_count": null,
   "metadata": {},
   "outputs": [],
   "source": []
  },
  {
   "cell_type": "code",
   "execution_count": null,
   "metadata": {},
   "outputs": [],
   "source": []
  },
  {
   "cell_type": "code",
   "execution_count": null,
   "metadata": {},
   "outputs": [],
   "source": []
  },
  {
   "cell_type": "code",
   "execution_count": null,
   "metadata": {},
   "outputs": [],
   "source": []
  },
  {
   "cell_type": "code",
   "execution_count": null,
   "metadata": {},
   "outputs": [],
   "source": []
  }
 ],
 "metadata": {
  "kernelspec": {
   "display_name": "Python 3",
   "language": "python",
   "name": "python3"
  },
  "language_info": {
   "codemirror_mode": {
    "name": "ipython",
    "version": 3
   },
   "file_extension": ".py",
   "mimetype": "text/x-python",
   "name": "python",
   "nbconvert_exporter": "python",
   "pygments_lexer": "ipython3",
   "version": "3.6.7"
  }
 },
 "nbformat": 4,
 "nbformat_minor": 2
}
