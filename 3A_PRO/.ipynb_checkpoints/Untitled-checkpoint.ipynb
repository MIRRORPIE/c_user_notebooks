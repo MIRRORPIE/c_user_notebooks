{
 "cells": [
  {
   "cell_type": "markdown",
   "metadata": {},
   "source": [
    "## 27/08/2020 :-"
   ]
  },
  {
   "cell_type": "code",
   "execution_count": null,
   "metadata": {},
   "outputs": [],
   "source": []
  },
  {
   "cell_type": "code",
   "execution_count": 1,
   "metadata": {},
   "outputs": [
    {
     "name": "stdout",
     "output_type": "stream",
     "text": [
      "Enter the equation: q*w*e\n",
      "Enter the output: sfcfd\n"
     ]
    },
    {
     "ename": "ValueError",
     "evalue": "invalid literal for int() with base 10: 'sfcfd'",
     "output_type": "error",
     "traceback": [
      "\u001b[1;31m---------------------------------------------------------------------------\u001b[0m",
      "\u001b[1;31mValueError\u001b[0m                                Traceback (most recent call last)",
      "\u001b[1;32m<ipython-input-1-aed285ae18c1>\u001b[0m in \u001b[0;36m<module>\u001b[1;34m\u001b[0m\n\u001b[0;32m     92\u001b[0m \u001b[1;33m\u001b[0m\u001b[0m\n\u001b[0;32m     93\u001b[0m     \u001b[0mx\u001b[0m \u001b[1;33m=\u001b[0m \u001b[0minput\u001b[0m\u001b[1;33m(\u001b[0m\u001b[1;34m\"Enter the equation: \"\u001b[0m\u001b[1;33m)\u001b[0m\u001b[1;33m\u001b[0m\u001b[1;33m\u001b[0m\u001b[0m\n\u001b[1;32m---> 94\u001b[1;33m     \u001b[0mz\u001b[0m \u001b[1;33m=\u001b[0m \u001b[0mint\u001b[0m\u001b[1;33m(\u001b[0m\u001b[0minput\u001b[0m\u001b[1;33m(\u001b[0m\u001b[1;34m\"Enter the output: \"\u001b[0m\u001b[1;33m)\u001b[0m\u001b[1;33m)\u001b[0m\u001b[1;33m\u001b[0m\u001b[1;33m\u001b[0m\u001b[0m\n\u001b[0m\u001b[0;32m     95\u001b[0m \u001b[1;33m\u001b[0m\u001b[0m\n\u001b[0;32m     96\u001b[0m     \u001b[0mn1\u001b[0m \u001b[1;33m=\u001b[0m \u001b[0mlen\u001b[0m\u001b[1;33m(\u001b[0m\u001b[0mre\u001b[0m\u001b[1;33m.\u001b[0m\u001b[0msplit\u001b[0m\u001b[1;33m(\u001b[0m\u001b[1;34m\"[/*-+]\"\u001b[0m\u001b[1;33m,\u001b[0m \u001b[0mx\u001b[0m\u001b[1;33m)\u001b[0m\u001b[1;33m)\u001b[0m\u001b[1;33m\u001b[0m\u001b[1;33m\u001b[0m\u001b[0m\n",
      "\u001b[1;31mValueError\u001b[0m: invalid literal for int() with base 10: 'sfcfd'"
     ]
    }
   ],
   "source": [
    "# Digit Problem:------->\n",
    "\n",
    "import re\n",
    "\n",
    "def f3():\n",
    "    for q in range(1, 10):\n",
    "        for w in range(1, 10):\n",
    "            for e in range(1, 10):\n",
    "                l = set()\n",
    "                l.add(q)\n",
    "                l.add(w)\n",
    "                l.add(e)\n",
    "                if(len(l) == 3):\n",
    "                    if(eval(x) == z):\n",
    "                        print(q,w,e)\n",
    "                        return\n",
    "\n",
    "def f4():\n",
    "    for q in range(1, 10):\n",
    "        for w in range(1, 10):\n",
    "            for e in range(1, 10):\n",
    "                for r in range(1, 10):\n",
    "                    l = set()\n",
    "                    l.add(q)\n",
    "                    l.add(w)\n",
    "                    l.add(e)\n",
    "                    l.add(r)\n",
    "                    if(len(l) == 4):\n",
    "                        if(eval(x) == z):\n",
    "                            print(q,w,e,r)\n",
    "                            return\n",
    "\n",
    "def f5():\n",
    "    for q in range(1, 10):\n",
    "        for w in range(1, 10):\n",
    "            for e in range(1, 10):\n",
    "                for r in range(1, 10):\n",
    "                    for t in range(1, 10):\n",
    "                        l = set()\n",
    "                        l.add(q)\n",
    "                        l.add(w)\n",
    "                        l.add(e)\n",
    "                        l.add(r)\n",
    "                        l.add(t)\n",
    "                        if(len(l) == 5):\n",
    "                            if(eval(x) == z):\n",
    "                                print(q,w,e,r,t)\n",
    "                                return\n",
    "                            \n",
    "def f6():\n",
    "    for q in range(1, 10):\n",
    "        for w in range(1, 10):\n",
    "            for e in range(1, 10):\n",
    "                for r in range(1, 10):\n",
    "                    for t in range(1, 10):\n",
    "                        for y in range(1, 10):\n",
    "                            l = set()\n",
    "                            l.add(q)\n",
    "                            l.add(w)\n",
    "                            l.add(e)\n",
    "                            l.add(r)\n",
    "                            l.add(t)\n",
    "                            l.add(y)\n",
    "                            if(len(l) == 6):\n",
    "                                if(eval(x) == z):\n",
    "                                    print(q,w,e,r,t,y)\n",
    "                                    return\n",
    "                                \n",
    "def f7():\n",
    "    for q in range(1, 10):\n",
    "        for w in range(1, 10):\n",
    "            for e in range(1, 10):\n",
    "                for r in range(1, 10):\n",
    "                    for t in range(1, 10):\n",
    "                        for y in range(1, 10):\n",
    "                            for u in range(1, 10):\n",
    "                                l = set()\n",
    "                                l.add(q)\n",
    "                                l.add(w)\n",
    "                                l.add(e)\n",
    "                                l.add(r)\n",
    "                                l.add(t)\n",
    "                                l.add(y)\n",
    "                                l.add(u)\n",
    "                                if(len(l) == 7):\n",
    "                                    if(eval(x) == z):\n",
    "                                        print(q,w,e,r,t,y,u)\n",
    "                                        return\n",
    "                                    \n",
    "tr = 1                                    \n",
    "while(tr):\n",
    "                                    \n",
    "    x = input(\"Enter the equation: \")\n",
    "    z = int(input(\"Enter the output: \"))\n",
    "\n",
    "    n1 = len(re.split(\"[/*-+]\", x))\n",
    "\n",
    "    if n1 == 3:\n",
    "        f3()\n",
    "    elif(n1 == 4):\n",
    "        f4()\n",
    "    elif(n1 == 5):\n",
    "        f5()\n",
    "    elif(n1 == 6):\n",
    "        f6()\n",
    "    elif(n1 == 7):\n",
    "        f7()\n",
    "        \n",
    "    tr = int(input(\"Enter 0 to stop and 1 to continue: \"))"
   ]
  },
  {
   "cell_type": "code",
   "execution_count": null,
   "metadata": {},
   "outputs": [],
   "source": []
  },
  {
   "cell_type": "code",
   "execution_count": 41,
   "metadata": {},
   "outputs": [
    {
     "name": "stdout",
     "output_type": "stream",
     "text": [
      "Enter the first pattern: qwer\n",
      "Enter the last pattern: wqre\n",
      "Enter no. of label: 2\n",
      "Enter all keys: 1342 jnj\n",
      "x: qerw\n",
      "qerw wqre\n",
      "4132\n"
     ]
    }
   ],
   "source": [
    "# switch challenge:\n",
    "\n",
    "def change_to_dict(h):\n",
    "    h_d = {}\n",
    "    for i in range(1, 5):\n",
    "        h_d[h[i-1]] = i\n",
    "    return(h_d)\n",
    "\n",
    "def patt_patt_num(patt1, patt2):\n",
    "    #print(patt1, patt2)\n",
    "    patt1 = change_to_dict(patt1)\n",
    "    patt2 = change_to_dict(patt2)\n",
    "    k = \"\"\n",
    "    for i in patt2:\n",
    "        k += str(patt1[i])\n",
    "    return(k)\n",
    "    \n",
    "def patt_num_patt_UtoL(patt, num):\n",
    "    x1 = \"\"\n",
    "    patt = change_to_dict(patt)\n",
    "    for i in num:\n",
    "        x1 += list(patt.items())[int(i)-1][0]\n",
    "    return(x1)\n",
    "    \n",
    "def patt_num_patt_LtoU(patt, num):\n",
    "    x1 = [0,0,0,0]\n",
    "    patt = change_to_dict(patt)\n",
    "    for i,j in zip(patt,num):\n",
    "        x1[int(j)-1] = i\n",
    "    return(\"\".join(x1))\n",
    "\n",
    "x = input(\"Enter the first pattern: \")\n",
    "y = input(\"Enter the last pattern: \")\n",
    "\n",
    "n = int(input(\"Enter no. of label: \"))\n",
    "keys = list(map(str, input(\"Enter all keys: \").split()))\n",
    "\n",
    "\n",
    "while(1):\n",
    "    try:\n",
    "        temp = int(keys[n-1])\n",
    "        y = patt_num_patt_LtoU(y, keys[n-1])\n",
    "        n -= 1\n",
    "        continue\n",
    "    except:\n",
    "        break\n",
    "\n",
    "\n",
    "beg = 0\n",
    "\n",
    "for i in range(n):\n",
    "    try:\n",
    "        temp = int(keys[i])\n",
    "        x = patt_num_patt_UtoL(x, keys[i])\n",
    "        #print(\"x:\", x)\n",
    "        continue\n",
    "    except:\n",
    "        k1 = patt_patt_num(x, y)\n",
    "        print(k1)\n",
    "        break\n"
   ]
  },
  {
   "cell_type": "code",
   "execution_count": null,
   "metadata": {},
   "outputs": [],
   "source": []
  },
  {
   "cell_type": "code",
   "execution_count": null,
   "metadata": {},
   "outputs": [],
   "source": []
  },
  {
   "cell_type": "code",
   "execution_count": null,
   "metadata": {},
   "outputs": [],
   "source": []
  },
  {
   "cell_type": "code",
   "execution_count": null,
   "metadata": {},
   "outputs": [],
   "source": []
  },
  {
   "cell_type": "code",
   "execution_count": null,
   "metadata": {},
   "outputs": [],
   "source": []
  },
  {
   "cell_type": "code",
   "execution_count": null,
   "metadata": {},
   "outputs": [],
   "source": []
  },
  {
   "cell_type": "code",
   "execution_count": null,
   "metadata": {},
   "outputs": [],
   "source": []
  },
  {
   "cell_type": "code",
   "execution_count": null,
   "metadata": {},
   "outputs": [],
   "source": []
  },
  {
   "cell_type": "code",
   "execution_count": null,
   "metadata": {},
   "outputs": [],
   "source": []
  },
  {
   "cell_type": "code",
   "execution_count": null,
   "metadata": {},
   "outputs": [],
   "source": []
  },
  {
   "cell_type": "code",
   "execution_count": null,
   "metadata": {},
   "outputs": [],
   "source": []
  },
  {
   "cell_type": "code",
   "execution_count": null,
   "metadata": {},
   "outputs": [],
   "source": []
  },
  {
   "cell_type": "code",
   "execution_count": null,
   "metadata": {},
   "outputs": [],
   "source": []
  },
  {
   "cell_type": "code",
   "execution_count": null,
   "metadata": {},
   "outputs": [],
   "source": []
  },
  {
   "cell_type": "code",
   "execution_count": null,
   "metadata": {},
   "outputs": [],
   "source": []
  },
  {
   "cell_type": "code",
   "execution_count": null,
   "metadata": {},
   "outputs": [],
   "source": []
  },
  {
   "cell_type": "code",
   "execution_count": null,
   "metadata": {},
   "outputs": [],
   "source": []
  },
  {
   "cell_type": "code",
   "execution_count": null,
   "metadata": {},
   "outputs": [],
   "source": []
  },
  {
   "cell_type": "code",
   "execution_count": null,
   "metadata": {},
   "outputs": [],
   "source": []
  },
  {
   "cell_type": "code",
   "execution_count": null,
   "metadata": {},
   "outputs": [],
   "source": []
  },
  {
   "cell_type": "code",
   "execution_count": null,
   "metadata": {},
   "outputs": [],
   "source": []
  },
  {
   "cell_type": "code",
   "execution_count": null,
   "metadata": {},
   "outputs": [],
   "source": []
  },
  {
   "cell_type": "code",
   "execution_count": null,
   "metadata": {},
   "outputs": [],
   "source": []
  },
  {
   "cell_type": "code",
   "execution_count": null,
   "metadata": {},
   "outputs": [],
   "source": []
  },
  {
   "cell_type": "code",
   "execution_count": null,
   "metadata": {},
   "outputs": [],
   "source": []
  },
  {
   "cell_type": "code",
   "execution_count": null,
   "metadata": {},
   "outputs": [],
   "source": []
  },
  {
   "cell_type": "code",
   "execution_count": null,
   "metadata": {},
   "outputs": [],
   "source": []
  },
  {
   "cell_type": "code",
   "execution_count": null,
   "metadata": {},
   "outputs": [],
   "source": []
  },
  {
   "cell_type": "code",
   "execution_count": null,
   "metadata": {},
   "outputs": [],
   "source": []
  },
  {
   "cell_type": "code",
   "execution_count": null,
   "metadata": {},
   "outputs": [],
   "source": []
  },
  {
   "cell_type": "code",
   "execution_count": null,
   "metadata": {},
   "outputs": [],
   "source": []
  },
  {
   "cell_type": "code",
   "execution_count": null,
   "metadata": {},
   "outputs": [],
   "source": []
  },
  {
   "cell_type": "code",
   "execution_count": null,
   "metadata": {},
   "outputs": [],
   "source": []
  },
  {
   "cell_type": "code",
   "execution_count": null,
   "metadata": {},
   "outputs": [],
   "source": []
  },
  {
   "cell_type": "code",
   "execution_count": null,
   "metadata": {},
   "outputs": [],
   "source": []
  },
  {
   "cell_type": "code",
   "execution_count": null,
   "metadata": {},
   "outputs": [],
   "source": []
  },
  {
   "cell_type": "code",
   "execution_count": null,
   "metadata": {},
   "outputs": [],
   "source": []
  },
  {
   "cell_type": "code",
   "execution_count": null,
   "metadata": {},
   "outputs": [],
   "source": []
  },
  {
   "cell_type": "code",
   "execution_count": null,
   "metadata": {},
   "outputs": [],
   "source": []
  },
  {
   "cell_type": "code",
   "execution_count": null,
   "metadata": {},
   "outputs": [],
   "source": []
  },
  {
   "cell_type": "code",
   "execution_count": null,
   "metadata": {},
   "outputs": [],
   "source": []
  },
  {
   "cell_type": "code",
   "execution_count": null,
   "metadata": {},
   "outputs": [],
   "source": []
  },
  {
   "cell_type": "code",
   "execution_count": null,
   "metadata": {},
   "outputs": [],
   "source": []
  },
  {
   "cell_type": "code",
   "execution_count": null,
   "metadata": {},
   "outputs": [],
   "source": []
  },
  {
   "cell_type": "code",
   "execution_count": null,
   "metadata": {},
   "outputs": [],
   "source": []
  },
  {
   "cell_type": "code",
   "execution_count": null,
   "metadata": {},
   "outputs": [],
   "source": []
  },
  {
   "cell_type": "code",
   "execution_count": null,
   "metadata": {},
   "outputs": [],
   "source": []
  },
  {
   "cell_type": "code",
   "execution_count": null,
   "metadata": {},
   "outputs": [],
   "source": []
  },
  {
   "cell_type": "code",
   "execution_count": null,
   "metadata": {},
   "outputs": [],
   "source": []
  },
  {
   "cell_type": "code",
   "execution_count": null,
   "metadata": {},
   "outputs": [],
   "source": []
  },
  {
   "cell_type": "code",
   "execution_count": null,
   "metadata": {},
   "outputs": [],
   "source": []
  }
 ],
 "metadata": {
  "kernelspec": {
   "display_name": "Python 3",
   "language": "python",
   "name": "python3"
  },
  "language_info": {
   "codemirror_mode": {
    "name": "ipython",
    "version": 3
   },
   "file_extension": ".py",
   "mimetype": "text/x-python",
   "name": "python",
   "nbconvert_exporter": "python",
   "pygments_lexer": "ipython3",
   "version": "3.6.8"
  }
 },
 "nbformat": 4,
 "nbformat_minor": 4
}
