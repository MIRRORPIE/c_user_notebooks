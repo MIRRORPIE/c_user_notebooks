{
 "cells": [
  {
   "cell_type": "code",
   "execution_count": 21,
   "metadata": {},
   "outputs": [
    {
     "name": "stdout",
     "output_type": "stream",
     "text": [
      "2\n",
      "6\n",
      "PlayerB\n",
      "3\n",
      "PlayerA\n"
     ]
    }
   ],
   "source": [
    "# odd--->A\n",
    "# even-->B\n",
    "import math\n",
    "t = int(input())\n",
    "for _ in range(t):\n",
    "    n = int(input())\n",
    "    c = 0\n",
    "    while(n != 1):\n",
    "        if(n == 3):\n",
    "            c += 1\n",
    "            break\n",
    "        x = math.log2(n)\n",
    "        if(math.ceil(x) == math.floor(x)):\n",
    "            n = n // 2\n",
    "            c += 1\n",
    "        else:\n",
    "            x = math.floor(x)\n",
    "            x = x ** 2\n",
    "            n = n - x\n",
    "            c += 1\n",
    "    if(c%2 == 0):\n",
    "        print(\"PlayerB\")\n",
    "    else:\n",
    "        print(\"PlayerA\")"
   ]
  },
  {
   "cell_type": "code",
   "execution_count": 1,
   "metadata": {},
   "outputs": [
    {
     "name": "stdout",
     "output_type": "stream",
     "text": [
      "5\n",
      "2 5 6 8 10\n",
      "3\n"
     ]
    }
   ],
   "source": [
    "n = int(input())\n",
    "arr = list(map(int, input().split()))\n",
    "c = 0\n",
    "for i in range(n):\n",
    "    for j in range(i+1, n):\n",
    "        for k in range(j+1, n):\n",
    "            x = arr[i]\n",
    "            y = arr[j]\n",
    "            z = arr[k]\n",
    "            if(y-x == z-y):\n",
    "                c += 1\n",
    "print(c)"
   ]
  },
  {
   "cell_type": "code",
   "execution_count": null,
   "metadata": {},
   "outputs": [],
   "source": []
  },
  {
   "cell_type": "code",
   "execution_count": null,
   "metadata": {},
   "outputs": [],
   "source": []
  },
  {
   "cell_type": "code",
   "execution_count": null,
   "metadata": {},
   "outputs": [],
   "source": []
  },
  {
   "cell_type": "code",
   "execution_count": 19,
   "metadata": {
    "scrolled": true
   },
   "outputs": [
    {
     "name": "stdout",
     "output_type": "stream",
     "text": [
      "XXYYZZ\n",
      "0\n"
     ]
    }
   ],
   "source": [
    "s = input()\n",
    "x = y = z = 0\n",
    "n = len(s)\n",
    "\n",
    "c = 0\n",
    "for i in s:\n",
    "    if(i == \"X\"):\n",
    "        x += 1\n",
    "    elif(i == \"Y\"):\n",
    "        y += 1\n",
    "    else:\n",
    "        z += 1\n",
    "ss = n // 3\n",
    "\n",
    "if(x != ss and x > ss):\n",
    "    c += x - ss\n",
    "if(y != ss and y > ss):\n",
    "    c += y - ss\n",
    "if(z != ss and z > ss):\n",
    "    c += z - ss\n",
    "\n",
    "print(c)"
   ]
  },
  {
   "cell_type": "code",
   "execution_count": null,
   "metadata": {},
   "outputs": [],
   "source": []
  },
  {
   "cell_type": "code",
   "execution_count": null,
   "metadata": {},
   "outputs": [],
   "source": []
  },
  {
   "cell_type": "code",
   "execution_count": null,
   "metadata": {},
   "outputs": [],
   "source": []
  },
  {
   "cell_type": "code",
   "execution_count": null,
   "metadata": {},
   "outputs": [],
   "source": []
  },
  {
   "cell_type": "code",
   "execution_count": 25,
   "metadata": {},
   "outputs": [
    {
     "name": "stdout",
     "output_type": "stream",
     "text": [
      "8 5\n",
      "3 4 3 8 1 15 20 3\n",
      "3\n"
     ]
    }
   ],
   "source": [
    "\n",
    "def fun(n, m, arr):\n",
    "    m1 = m\n",
    "    c = 0\n",
    "    for i in range(n-1):\n",
    "        if(arr[i] == arr[i+1]):\n",
    "            c += 1\n",
    "            if(c >= m1):\n",
    "                ss = 0\n",
    "                return 0\n",
    "        else:\n",
    "            c = 0\n",
    "    return arr[m-1] - arr[0]\n",
    "\n",
    "n, m = map(int, input().split())\n",
    "arr = list(map(int, input().split()))\n",
    "arr.sort()\n",
    "print(fun(n, m, arr))"
   ]
  },
  {
   "cell_type": "code",
   "execution_count": null,
   "metadata": {},
   "outputs": [],
   "source": []
  },
  {
   "cell_type": "code",
   "execution_count": 27,
   "metadata": {},
   "outputs": [
    {
     "name": "stdout",
     "output_type": "stream",
     "text": [
      "8 2\n",
      "3 4 3 8 1 15 20 3\n",
      "0\n"
     ]
    }
   ],
   "source": [
    "def opt(arr, n, m):\n",
    "    arr.sort()\n",
    "    i = 0\n",
    "    mn = 101\n",
    "    while(i+m-1 < n):\n",
    "        mn = min(mn, arr[i+m-1] - arr[i])\n",
    "        i += 1\n",
    "        \n",
    "    return mn\n",
    "\n",
    "n, m = map(int, input().split())\n",
    "arr = list(map(int, input().split()))\n",
    "print(opt(arr, n, m))"
   ]
  },
  {
   "cell_type": "code",
   "execution_count": null,
   "metadata": {},
   "outputs": [],
   "source": []
  },
  {
   "cell_type": "code",
   "execution_count": null,
   "metadata": {},
   "outputs": [],
   "source": []
  },
  {
   "cell_type": "code",
   "execution_count": null,
   "metadata": {},
   "outputs": [],
   "source": []
  },
  {
   "cell_type": "code",
   "execution_count": null,
   "metadata": {},
   "outputs": [],
   "source": []
  },
  {
   "cell_type": "code",
   "execution_count": null,
   "metadata": {},
   "outputs": [],
   "source": []
  },
  {
   "cell_type": "code",
   "execution_count": null,
   "metadata": {},
   "outputs": [],
   "source": []
  },
  {
   "cell_type": "code",
   "execution_count": null,
   "metadata": {},
   "outputs": [],
   "source": []
  },
  {
   "cell_type": "code",
   "execution_count": null,
   "metadata": {},
   "outputs": [],
   "source": []
  },
  {
   "cell_type": "code",
   "execution_count": null,
   "metadata": {},
   "outputs": [],
   "source": []
  },
  {
   "cell_type": "code",
   "execution_count": null,
   "metadata": {},
   "outputs": [],
   "source": []
  },
  {
   "cell_type": "code",
   "execution_count": null,
   "metadata": {},
   "outputs": [],
   "source": []
  },
  {
   "cell_type": "code",
   "execution_count": null,
   "metadata": {},
   "outputs": [],
   "source": []
  },
  {
   "cell_type": "code",
   "execution_count": null,
   "metadata": {},
   "outputs": [],
   "source": []
  },
  {
   "cell_type": "code",
   "execution_count": null,
   "metadata": {},
   "outputs": [],
   "source": []
  },
  {
   "cell_type": "code",
   "execution_count": null,
   "metadata": {},
   "outputs": [],
   "source": []
  },
  {
   "cell_type": "code",
   "execution_count": null,
   "metadata": {},
   "outputs": [],
   "source": []
  },
  {
   "cell_type": "code",
   "execution_count": null,
   "metadata": {},
   "outputs": [],
   "source": []
  }
 ],
 "metadata": {
  "kernelspec": {
   "display_name": "Python 3",
   "language": "python",
   "name": "python3"
  },
  "language_info": {
   "codemirror_mode": {
    "name": "ipython",
    "version": 3
   },
   "file_extension": ".py",
   "mimetype": "text/x-python",
   "name": "python",
   "nbconvert_exporter": "python",
   "pygments_lexer": "ipython3",
   "version": "3.6.8"
  }
 },
 "nbformat": 4,
 "nbformat_minor": 2
}
