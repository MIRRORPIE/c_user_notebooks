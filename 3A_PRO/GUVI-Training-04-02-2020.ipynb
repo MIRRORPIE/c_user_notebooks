{
 "cells": [
  {
   "cell_type": "code",
   "execution_count": 1,
   "metadata": {},
   "outputs": [
    {
     "ename": "TypeError",
     "evalue": "must be str, not int",
     "output_type": "error",
     "traceback": [
      "\u001b[1;31m---------------------------------------------------------------------------\u001b[0m",
      "\u001b[1;31mTypeError\u001b[0m                                 Traceback (most recent call last)",
      "\u001b[1;32m<ipython-input-1-ff7fc8924ec2>\u001b[0m in \u001b[0;36m<module>\u001b[1;34m\u001b[0m\n\u001b[1;32m----> 1\u001b[1;33m \u001b[0mprint\u001b[0m\u001b[1;33m(\u001b[0m\u001b[1;34m\"albert\"\u001b[0m \u001b[1;33m+\u001b[0m \u001b[1;36m10\u001b[0m\u001b[1;33m)\u001b[0m\u001b[1;33m\u001b[0m\u001b[1;33m\u001b[0m\u001b[0m\n\u001b[0m",
      "\u001b[1;31mTypeError\u001b[0m: must be str, not int"
     ]
    }
   ],
   "source": [
    "print(\"albert\" + 10)"
   ]
  },
  {
   "cell_type": "code",
   "execution_count": 3,
   "metadata": {},
   "outputs": [
    {
     "name": "stdout",
     "output_type": "stream",
     "text": [
      "0\n"
     ]
    }
   ],
   "source": [
    "i = 0\n",
    "while i == 0:\n",
    "    print(i)\n",
    "    break"
   ]
  },
  {
   "cell_type": "code",
   "execution_count": 9,
   "metadata": {},
   "outputs": [
    {
     "name": "stdout",
     "output_type": "stream",
     "text": [
      "[6, 7, 8, 9, 10]\n"
     ]
    }
   ],
   "source": [
    "l = [1, 2, 3, 4, 5, 6, 7, 8, 9, 10]\n",
    "l = list(filter(lambda x: x > 5 , l))\n",
    "print(l)"
   ]
  },
  {
   "cell_type": "code",
   "execution_count": 10,
   "metadata": {},
   "outputs": [
    {
     "name": "stdout",
     "output_type": "stream",
     "text": [
      "10\n",
      "None\n"
     ]
    }
   ],
   "source": [
    "print(print(10))"
   ]
  },
  {
   "cell_type": "code",
   "execution_count": 13,
   "metadata": {},
   "outputs": [
    {
     "name": "stdout",
     "output_type": "stream",
     "text": [
      "14\n",
      "14\n"
     ]
    }
   ],
   "source": [
    "print(input())"
   ]
  },
  {
   "cell_type": "code",
   "execution_count": 17,
   "metadata": {},
   "outputs": [
    {
     "name": "stdout",
     "output_type": "stream",
     "text": [
      "R\n",
      "a\n",
      "u\n",
      "s\n",
      "h\n",
      "a\n",
      "n\n",
      "None None None None None None None\n"
     ]
    }
   ],
   "source": [
    "f = \"Raushan\"\n",
    "l = []\n",
    "for i in f:\n",
    "    l.append(print(i))\n",
    "print(*l)"
   ]
  },
  {
   "cell_type": "code",
   "execution_count": 19,
   "metadata": {},
   "outputs": [
    {
     "name": "stdout",
     "output_type": "stream",
     "text": [
      "10 8 6 4 2 "
     ]
    }
   ],
   "source": [
    "for i in range(10,0,-2):\n",
    "    print(i, end = \" \")"
   ]
  },
  {
   "cell_type": "code",
   "execution_count": 21,
   "metadata": {},
   "outputs": [
    {
     "name": "stdout",
     "output_type": "stream",
     "text": [
      "50\n"
     ]
    }
   ],
   "source": [
    "print(ord('2'))"
   ]
  },
  {
   "cell_type": "code",
   "execution_count": 24,
   "metadata": {},
   "outputs": [
    {
     "name": "stdout",
     "output_type": "stream",
     "text": [
      ".gniyalp si boB\n",
      "Bob is playing.\n"
     ]
    }
   ],
   "source": [
    "b = \"Bob is playing.\"\n",
    "print(b[::-1])\n",
    "print(b[::1])"
   ]
  },
  {
   "cell_type": "code",
   "execution_count": 29,
   "metadata": {},
   "outputs": [
    {
     "data": {
      "text/plain": [
       "'POIU'"
      ]
     },
     "execution_count": 29,
     "metadata": {},
     "output_type": "execute_result"
    }
   ],
   "source": [
    "b = \"QWERTYUIOP\"\n",
    "b[:5:-1]"
   ]
  },
  {
   "cell_type": "code",
   "execution_count": 37,
   "metadata": {},
   "outputs": [
    {
     "data": {
      "text/plain": [
       "'OIUYTREWQ'"
      ]
     },
     "execution_count": 37,
     "metadata": {},
     "output_type": "execute_result"
    }
   ],
   "source": [
    "b[-2:-50:-1]"
   ]
  },
  {
   "cell_type": "code",
   "execution_count": 38,
   "metadata": {},
   "outputs": [
    {
     "data": {
      "text/plain": [
       "'ERTYUIOP'"
      ]
     },
     "execution_count": 38,
     "metadata": {},
     "output_type": "execute_result"
    }
   ],
   "source": [
    "b[2:50:1]"
   ]
  },
  {
   "cell_type": "code",
   "execution_count": 51,
   "metadata": {},
   "outputs": [
    {
     "data": {
      "text/plain": [
       "''"
      ]
     },
     "execution_count": 51,
     "metadata": {},
     "output_type": "execute_result"
    }
   ],
   "source": [
    "a=\"\"\n",
    "a[20:25:1]"
   ]
  },
  {
   "cell_type": "code",
   "execution_count": 49,
   "metadata": {},
   "outputs": [
    {
     "data": {
      "text/plain": [
       "'PO'"
      ]
     },
     "execution_count": 49,
     "metadata": {},
     "output_type": "execute_result"
    }
   ],
   "source": [
    "b[-1:-3:-1]"
   ]
  },
  {
   "cell_type": "code",
   "execution_count": 39,
   "metadata": {},
   "outputs": [],
   "source": [
    "l = [1, 4, 2, 8, 7, 6, 3, 5, 9]\n",
    "\n",
    "n, k, t = 5, 3, 14"
   ]
  },
  {
   "cell_type": "code",
   "execution_count": 41,
   "metadata": {},
   "outputs": [],
   "source": [
    "l1 = sorted(l)"
   ]
  },
  {
   "cell_type": "code",
   "execution_count": null,
   "metadata": {},
   "outputs": [],
   "source": [
    "a = [0]\n",
    "temp1 = 0\n",
    "\n",
    "while():\n",
    "    "
   ]
  },
  {
   "cell_type": "code",
   "execution_count": null,
   "metadata": {},
   "outputs": [],
   "source": []
  },
  {
   "cell_type": "markdown",
   "metadata": {},
   "source": [
    "### 05-02-2020"
   ]
  },
  {
   "cell_type": "code",
   "execution_count": null,
   "metadata": {},
   "outputs": [],
   "source": [
    "21"
   ]
  },
  {
   "cell_type": "code",
   "execution_count": 24,
   "metadata": {},
   "outputs": [
    {
     "name": "stdout",
     "output_type": "stream",
     "text": [
      "27\n",
      "xxvii\n"
     ]
    }
   ],
   "source": [
    "n = int(input())\n",
    "n1 = n\n",
    "d = {0:\"\", 1:\"i\" , 2:\"ii\", 3: \"iii\", 4: \"iv\", 5:\"v\", 6:\"vi\", 7:\"vii\", 8:\"viii\", 9:\"ix\", 10:\"x\", 20:\"xx\", 30:\"xxx\", 40:\"xL\", 50:\"L\", 60:\"Lx\", 70:\"Lxx\", 80:\"Lxxx\", 90:\"xc\", 100:\"c\"}\n",
    "\n",
    "s = \"\"\n",
    "k = 1\n",
    "while(n1 != 0):\n",
    "    r = n1 % 10\n",
    "    s = d[int(r*k)] + s\n",
    "    n1 //= 10\n",
    "    k *= 10\n",
    "print(s)"
   ]
  },
  {
   "cell_type": "code",
   "execution_count": null,
   "metadata": {},
   "outputs": [],
   "source": [
    "maheswaran@guvi.in"
   ]
  },
  {
   "cell_type": "code",
   "execution_count": null,
   "metadata": {},
   "outputs": [],
   "source": []
  },
  {
   "cell_type": "code",
   "execution_count": null,
   "metadata": {},
   "outputs": [],
   "source": [
    "984 = 900 + 80 + 4"
   ]
  },
  {
   "cell_type": "code",
   "execution_count": null,
   "metadata": {},
   "outputs": [],
   "source": []
  },
  {
   "cell_type": "code",
   "execution_count": 38,
   "metadata": {},
   "outputs": [
    {
     "name": "stdout",
     "output_type": "stream",
     "text": [
      "1400\n",
      "MCD\n"
     ]
    }
   ],
   "source": [
    "n = int(input())\n",
    "n1 = n\n",
    "d = {0:\"\", 1:\"I\" , 2:\"II\", 3: \"III\", 4: \"IV\", 5:\"V\", 6:\"VI\", 7:\"VII\", 8:\"VIII\", 9:\"IX\", 10:\"X\",\n",
    "     20:\"XX\", 30:\"XXX\", 40:\"XL\", 50:\"L\", 60:\"LX\", 70:\"LXX\", 80:\"LXXX\", 90:\"XC\", 100:\"C\",\n",
    "    200:\"CC\", 300:\"CCC\", 400:\"CD\", 500:\"D\", 600:\"DC\", 700:\"DCC\", 800:\"DCCC\", 900:\"DM\", 1000:\"M\"}\n",
    "l = []\n",
    "s = \"\"\n",
    "k = 1\n",
    "while(n1 != 0):\n",
    "    r = n1 % 10\n",
    "    l.append(r*k)\n",
    "    n1 //= 10\n",
    "    k *= 10\n",
    "#print(l)\n",
    "\n",
    "for i in range(len(l)-1, -1, -1):\n",
    "    s += d[l[i]]\n",
    "    \n",
    "print(s)"
   ]
  },
  {
   "cell_type": "code",
   "execution_count": null,
   "metadata": {},
   "outputs": [],
   "source": [
    "2\n",
    "7\n",
    "10 1 2 7 6 1 5\n",
    "8\n",
    "5\n",
    "8 1 8 6 8\n",
    "12"
   ]
  },
  {
   "cell_type": "code",
   "execution_count": null,
   "metadata": {},
   "outputs": [],
   "source": []
  },
  {
   "cell_type": "code",
   "execution_count": null,
   "metadata": {},
   "outputs": [
    {
     "name": "stdout",
     "output_type": "stream",
     "text": [
      "1\n",
      "7\n",
      "10 1 2 7 6 1 5\n",
      "8\n",
      "0 5 1\n"
     ]
    }
   ],
   "source": [
    "\n",
    "\n",
    "t = int(input())\n",
    "for _i in range(t):\n",
    "    backList_index = []\n",
    "    n = int(input())\n",
    "    arr = list(map(int, input().split()))\n",
    "    b = int(input())\n",
    "        \n",
    "    arr.sort()\n",
    "    s = 0\n",
    "\n",
    "    while(len(backList_index) != 0):\n",
    "        for i in range(n-1, -1, -1):\n",
    "            s += arr[i]\n",
    "            backList_index.append(i)\n",
    "        \n",
    "            if(s == b):\n",
    "                print(*backList_index)\n",
    "            elif(s >= b):\n",
    "                backList_index.pop()\n",
    "                s -= arr[i]\n",
    "            else:\n",
    "                pass\n",
    "            "
   ]
  },
  {
   "cell_type": "code",
   "execution_count": null,
   "metadata": {},
   "outputs": [],
   "source": []
  },
  {
   "cell_type": "code",
   "execution_count": null,
   "metadata": {},
   "outputs": [],
   "source": []
  },
  {
   "cell_type": "code",
   "execution_count": null,
   "metadata": {},
   "outputs": [],
   "source": []
  },
  {
   "cell_type": "code",
   "execution_count": null,
   "metadata": {},
   "outputs": [],
   "source": []
  }
 ],
 "metadata": {
  "kernelspec": {
   "display_name": "Python 3",
   "language": "python",
   "name": "python3"
  },
  "language_info": {
   "codemirror_mode": {
    "name": "ipython",
    "version": 3
   },
   "file_extension": ".py",
   "mimetype": "text/x-python",
   "name": "python",
   "nbconvert_exporter": "python",
   "pygments_lexer": "ipython3",
   "version": "3.6.8"
  }
 },
 "nbformat": 4,
 "nbformat_minor": 2
}
