{
 "cells": [
  {
   "cell_type": "markdown",
   "metadata": {},
   "source": [
    "## 27/08/2020 :-"
   ]
  },
  {
   "cell_type": "code",
   "execution_count": null,
   "metadata": {},
   "outputs": [],
   "source": []
  },
  {
   "cell_type": "code",
   "execution_count": 1,
   "metadata": {},
   "outputs": [
    {
     "name": "stdout",
     "output_type": "stream",
     "text": [
      "Enter the equation: q*w*e+r\n",
      "Enter the output: 194\n",
      "3 7 9 5\n",
      "3 9 7 5\n",
      "4 6 8 2\n",
      "4 8 6 2\n",
      "6 4 8 2\n",
      "6 8 4 2\n",
      "7 3 9 5\n",
      "7 9 3 5\n",
      "8 4 6 2\n",
      "8 6 4 2\n",
      "9 3 7 5\n",
      "9 7 3 5\n",
      "Enter 0 to stop and 1 to continue: 1\n",
      "Enter the equation: q+w+e+r+t+y+u\n",
      "Enter the output: 31\n",
      "1 2 3 4 5 7 9\n",
      "Enter 0 to stop and 1 to continue: 1\n",
      "Enter the equation: q+w+e+r+t+y+u\n",
      "Enter the output: 30\n",
      "1 2 3 4 5 6 9\n",
      "Enter 0 to stop and 1 to continue: 0\n"
     ]
    }
   ],
   "source": [
    "# Digit Problem:------->\n",
    "\n",
    "import re\n",
    "\n",
    "def f3():\n",
    "    for q in range(1, 10):\n",
    "        for w in range(1, 10):\n",
    "            for e in range(1, 10):\n",
    "                l = set()\n",
    "                l.add(q)\n",
    "                l.add(w)\n",
    "                l.add(e)\n",
    "                if(len(l) == 3):\n",
    "                    if(eval(x) == z):\n",
    "                        print(q,w,e)\n",
    "                        return\n",
    "\n",
    "def f4():\n",
    "    for q in range(1, 10):\n",
    "        for w in range(1, 10):\n",
    "            for e in range(1, 10):\n",
    "                for r in range(1, 10):\n",
    "                    l = set()\n",
    "                    l.add(q)\n",
    "                    l.add(w)\n",
    "                    l.add(e)\n",
    "                    l.add(r)\n",
    "                    if(len(l) == 4):\n",
    "                        if(eval(x) == z):\n",
    "                            print(q,w,e,r)\n",
    "                            \n",
    "\n",
    "def f5():\n",
    "    for q in range(1, 10):\n",
    "        for w in range(1, 10):\n",
    "            for e in range(1, 10):\n",
    "                for r in range(1, 10):\n",
    "                    for t in range(1, 10):\n",
    "                        l = set()\n",
    "                        l.add(q)\n",
    "                        l.add(w)\n",
    "                        l.add(e)\n",
    "                        l.add(r)\n",
    "                        l.add(t)\n",
    "                        if(len(l) == 5):\n",
    "                            if(eval(x) == z):\n",
    "                                print(q,w,e,r,t)\n",
    "                                return\n",
    "                            \n",
    "def f6():\n",
    "    for q in range(1, 10):\n",
    "        for w in range(1, 10):\n",
    "            for e in range(1, 10):\n",
    "                for r in range(1, 10):\n",
    "                    for t in range(1, 10):\n",
    "                        for y in range(1, 10):\n",
    "                            l = set()\n",
    "                            l.add(q)\n",
    "                            l.add(w)\n",
    "                            l.add(e)\n",
    "                            l.add(r)\n",
    "                            l.add(t)\n",
    "                            l.add(y)\n",
    "                            if(len(l) == 6):\n",
    "                                if(eval(x) == z):\n",
    "                                    print(q,w,e,r,t,y)\n",
    "                                    return\n",
    "                                \n",
    "def f7():\n",
    "    for q in range(1, 10):\n",
    "        for w in range(1, 10):\n",
    "            for e in range(1, 10):\n",
    "                for r in range(1, 10):\n",
    "                    for t in range(1, 10):\n",
    "                        for y in range(1, 10):\n",
    "                            for u in range(1, 10):\n",
    "                                l = set()\n",
    "                                l.add(q)\n",
    "                                l.add(w)\n",
    "                                l.add(e)\n",
    "                                l.add(r)\n",
    "                                l.add(t)\n",
    "                                l.add(y)\n",
    "                                l.add(u)\n",
    "                                if(len(l) == 7):\n",
    "                                    if(eval(x) == z):\n",
    "                                        print(q,w,e,r,t,y,u)\n",
    "                                        return\n",
    "                                    \n",
    "tr = 1                                    \n",
    "while(tr):\n",
    "                                    \n",
    "    x = input(\"Enter the equation: \")\n",
    "    z = int(input(\"Enter the output: \"))\n",
    "\n",
    "    n1 = len(re.split(\"[/*-+]\", x))\n",
    "\n",
    "    if n1 == 3:\n",
    "        f3()\n",
    "    elif(n1 == 4):\n",
    "        f4()\n",
    "    elif(n1 == 5):\n",
    "        f5()\n",
    "    elif(n1 == 6):\n",
    "        f6()\n",
    "    elif(n1 == 7):\n",
    "        f7()\n",
    "        \n",
    "    tr = int(input(\"Enter 0 to stop and 1 to continue: \"))"
   ]
  },
  {
   "cell_type": "code",
   "execution_count": null,
   "metadata": {},
   "outputs": [],
   "source": []
  },
  {
   "cell_type": "code",
   "execution_count": 2,
   "metadata": {},
   "outputs": [
    {
     "name": "stdout",
     "output_type": "stream",
     "text": [
      "Enter the first pattern: qwer\n",
      "Enter the last pattern: werq\n",
      "Enter no. of label: 1\n",
      "Enter all keys: gciuahcdu\n",
      "2341\n"
     ]
    }
   ],
   "source": [
    "# switch challenge:\n",
    "\n",
    "def change_to_dict(h):\n",
    "    h_d = {}\n",
    "    for i in range(1, 5):\n",
    "        h_d[h[i-1]] = i\n",
    "    return(h_d)\n",
    "\n",
    "def patt_patt_num(patt1, patt2):\n",
    "    #print(patt1, patt2)\n",
    "    patt1 = change_to_dict(patt1)\n",
    "    patt2 = change_to_dict(patt2)\n",
    "    k = \"\"\n",
    "    for i in patt2:\n",
    "        k += str(patt1[i])\n",
    "    return(k)\n",
    "    \n",
    "def patt_num_patt_UtoL(patt, num):\n",
    "    x1 = \"\"\n",
    "    patt = change_to_dict(patt)\n",
    "    for i in num:\n",
    "        x1 += list(patt.items())[int(i)-1][0]\n",
    "    return(x1)\n",
    "    \n",
    "def patt_num_patt_LtoU(patt, num):\n",
    "    x1 = [0,0,0,0]\n",
    "    patt = change_to_dict(patt)\n",
    "    for i,j in zip(patt,num):\n",
    "        x1[int(j)-1] = i\n",
    "    return(\"\".join(x1))\n",
    "\n",
    "x = input(\"Enter the first pattern: \")\n",
    "y = input(\"Enter the last pattern: \")\n",
    "\n",
    "n = int(input(\"Enter no. of label: \"))\n",
    "keys = list(map(str, input(\"Enter all keys: \").split()))\n",
    "\n",
    "\n",
    "while(1):\n",
    "    try:\n",
    "        temp = int(keys[n-1])\n",
    "        y = patt_num_patt_LtoU(y, keys[n-1])\n",
    "        n -= 1\n",
    "        continue\n",
    "    except:\n",
    "        break\n",
    "\n",
    "\n",
    "beg = 0\n",
    "\n",
    "for i in range(n):\n",
    "    try:\n",
    "        temp = int(keys[i])\n",
    "        x = patt_num_patt_UtoL(x, keys[i])\n",
    "        #print(\"x:\", x)\n",
    "        continue\n",
    "    except:\n",
    "        k1 = patt_patt_num(x, y)\n",
    "        print(k1)\n",
    "        break\n"
   ]
  },
  {
   "cell_type": "code",
   "execution_count": null,
   "metadata": {},
   "outputs": [],
   "source": []
  },
  {
   "cell_type": "code",
   "execution_count": null,
   "metadata": {},
   "outputs": [],
   "source": []
  },
  {
   "cell_type": "code",
   "execution_count": null,
   "metadata": {},
   "outputs": [],
   "source": []
  },
  {
   "cell_type": "code",
   "execution_count": null,
   "metadata": {},
   "outputs": [],
   "source": []
  },
  {
   "cell_type": "code",
   "execution_count": null,
   "metadata": {},
   "outputs": [],
   "source": []
  },
  {
   "cell_type": "code",
   "execution_count": null,
   "metadata": {},
   "outputs": [],
   "source": []
  },
  {
   "cell_type": "code",
   "execution_count": null,
   "metadata": {},
   "outputs": [],
   "source": []
  },
  {
   "cell_type": "code",
   "execution_count": null,
   "metadata": {},
   "outputs": [],
   "source": []
  },
  {
   "cell_type": "code",
   "execution_count": null,
   "metadata": {},
   "outputs": [],
   "source": []
  },
  {
   "cell_type": "code",
   "execution_count": null,
   "metadata": {},
   "outputs": [],
   "source": []
  },
  {
   "cell_type": "code",
   "execution_count": null,
   "metadata": {},
   "outputs": [],
   "source": []
  },
  {
   "cell_type": "code",
   "execution_count": null,
   "metadata": {},
   "outputs": [],
   "source": []
  },
  {
   "cell_type": "code",
   "execution_count": null,
   "metadata": {},
   "outputs": [],
   "source": []
  },
  {
   "cell_type": "code",
   "execution_count": null,
   "metadata": {},
   "outputs": [],
   "source": []
  },
  {
   "cell_type": "code",
   "execution_count": null,
   "metadata": {},
   "outputs": [],
   "source": []
  },
  {
   "cell_type": "code",
   "execution_count": null,
   "metadata": {},
   "outputs": [],
   "source": []
  },
  {
   "cell_type": "code",
   "execution_count": null,
   "metadata": {},
   "outputs": [],
   "source": []
  },
  {
   "cell_type": "code",
   "execution_count": null,
   "metadata": {},
   "outputs": [],
   "source": []
  },
  {
   "cell_type": "code",
   "execution_count": null,
   "metadata": {},
   "outputs": [],
   "source": []
  },
  {
   "cell_type": "code",
   "execution_count": null,
   "metadata": {},
   "outputs": [],
   "source": []
  },
  {
   "cell_type": "code",
   "execution_count": null,
   "metadata": {},
   "outputs": [],
   "source": []
  },
  {
   "cell_type": "code",
   "execution_count": null,
   "metadata": {},
   "outputs": [],
   "source": []
  },
  {
   "cell_type": "code",
   "execution_count": null,
   "metadata": {},
   "outputs": [],
   "source": []
  },
  {
   "cell_type": "code",
   "execution_count": null,
   "metadata": {},
   "outputs": [],
   "source": []
  },
  {
   "cell_type": "code",
   "execution_count": null,
   "metadata": {},
   "outputs": [],
   "source": []
  },
  {
   "cell_type": "code",
   "execution_count": null,
   "metadata": {},
   "outputs": [],
   "source": []
  },
  {
   "cell_type": "code",
   "execution_count": null,
   "metadata": {},
   "outputs": [],
   "source": []
  },
  {
   "cell_type": "code",
   "execution_count": null,
   "metadata": {},
   "outputs": [],
   "source": []
  },
  {
   "cell_type": "code",
   "execution_count": null,
   "metadata": {},
   "outputs": [],
   "source": []
  },
  {
   "cell_type": "code",
   "execution_count": null,
   "metadata": {},
   "outputs": [],
   "source": []
  },
  {
   "cell_type": "code",
   "execution_count": null,
   "metadata": {},
   "outputs": [],
   "source": []
  },
  {
   "cell_type": "code",
   "execution_count": null,
   "metadata": {},
   "outputs": [],
   "source": []
  },
  {
   "cell_type": "code",
   "execution_count": null,
   "metadata": {},
   "outputs": [],
   "source": []
  },
  {
   "cell_type": "code",
   "execution_count": null,
   "metadata": {},
   "outputs": [],
   "source": []
  },
  {
   "cell_type": "code",
   "execution_count": null,
   "metadata": {},
   "outputs": [],
   "source": []
  },
  {
   "cell_type": "code",
   "execution_count": null,
   "metadata": {},
   "outputs": [],
   "source": []
  },
  {
   "cell_type": "code",
   "execution_count": null,
   "metadata": {},
   "outputs": [],
   "source": []
  },
  {
   "cell_type": "code",
   "execution_count": null,
   "metadata": {},
   "outputs": [],
   "source": []
  },
  {
   "cell_type": "code",
   "execution_count": null,
   "metadata": {},
   "outputs": [],
   "source": []
  },
  {
   "cell_type": "code",
   "execution_count": null,
   "metadata": {},
   "outputs": [],
   "source": []
  },
  {
   "cell_type": "code",
   "execution_count": null,
   "metadata": {},
   "outputs": [
    {
     "name": "stdout",
     "output_type": "stream",
     "text": [
      "100000 5\n"
     ]
    }
   ],
   "source": [
    " \n",
    "n, f = map(int, input().split())\n",
    "\n",
    "def fn(n, f):\n",
    "    if(n == 1):\n",
    "        return f\n",
    "    else:\n",
    "        if(f % 2 == 0):\n",
    "            f = f // 2\n",
    "            return fn(n-1, f)\n",
    "        else:\n",
    "            f = f + 1000000007\n",
    "            f = f //2\n",
    "            return fn(n-1, f)\n",
    "        \n",
    "print(fn(n,f))"
   ]
  },
  {
   "cell_type": "code",
   "execution_count": 21,
   "metadata": {},
   "outputs": [
    {
     "name": "stdout",
     "output_type": "stream",
     "text": [
      "5 10\n"
     ]
    }
   ],
   "source": [
    "n, f = map(int, input().split())\n",
    "\n",
    "def fn(n, f):\n",
    "    while(n != 1):\n",
    "        if(f % 2 == 0):\n",
    "            f = f // 2\n",
    "            n -= 1\n",
    "        else:\n",
    "            f = f + 1000000007\n",
    "            f = f // 2\n",
    "            n -= 1\n",
    "    return (f)\n",
    "arr = []    \n",
    "for i in range(1, n):\n",
    "    arr.append(fn(i, f))"
   ]
  },
  {
   "cell_type": "code",
   "execution_count": 22,
   "metadata": {},
   "outputs": [
    {
     "name": "stdout",
     "output_type": "stream",
     "text": [
      "4\n"
     ]
    }
   ],
   "source": [
    "print(len(set(arr)))"
   ]
  },
  {
   "cell_type": "code",
   "execution_count": 23,
   "metadata": {},
   "outputs": [
    {
     "name": "stdout",
     "output_type": "stream",
     "text": [
      "[10, 5, 500000006, 250000003]\n"
     ]
    }
   ],
   "source": [
    "print(arr)"
   ]
  },
  {
   "cell_type": "code",
   "execution_count": null,
   "metadata": {},
   "outputs": [],
   "source": []
  },
  {
   "cell_type": "code",
   "execution_count": 31,
   "metadata": {},
   "outputs": [
    {
     "name": "stdout",
     "output_type": "stream",
     "text": [
      "4\n",
      "1 2\n",
      "5 2\n",
      "1 8\n",
      "5 8\n",
      "6 7\n",
      "{1: [2, 8], 5: [2, 8], 6: [7]}\n",
      "{2: [1, 5], 8: [1, 5], 7: [6]}\n"
     ]
    }
   ],
   "source": [
    "n = int(input())\n",
    "\n",
    "d = {}\n",
    "e = {}\n",
    "for _ in range(4*n+1):\n",
    "\tx, y = map(int, input().split())\n",
    "\tif(x not in d.keys()):\n",
    "\t\td[x] = [y]\n",
    "\telse:\n",
    "\t\td[x].append(y)\n",
    "\tif(y not in e.keys()):\n",
    "\t\te[y] = [x]\n",
    "\telse:\n",
    "\t\te[y].append(x)\n",
    "        \n",
    "print(d)\n",
    "print(e)"
   ]
  },
  {
   "cell_type": "code",
   "execution_count": 32,
   "metadata": {},
   "outputs": [
    {
     "name": "stdout",
     "output_type": "stream",
     "text": [
      "1\n",
      "1 1\n",
      "4 4\n",
      "1 4\n",
      "4 1\n",
      "5 6\n",
      "{1: [1, 4], 4: [4, 1], 5: [6]}\n",
      "{1: [1, 4], 4: [4, 1], 6: [5]}\n"
     ]
    }
   ],
   "source": [
    "n = int(input())\n",
    "\n",
    "d = {}\n",
    "e = {}\n",
    "for _ in range(4*n+1):\n",
    "\tx, y = map(int, input().split())\n",
    "\tif(x not in d.keys()):\n",
    "\t\td[x] = [y]\n",
    "\telse:\n",
    "\t\td[x].append(y)\n",
    "\tif(y not in e.keys()):\n",
    "\t\te[y] = [x]\n",
    "\telse:\n",
    "\t\te[y].append(x)\n",
    "        \n",
    "print(d)\n",
    "print(e)"
   ]
  },
  {
   "cell_type": "code",
   "execution_count": 33,
   "metadata": {},
   "outputs": [
    {
     "name": "stdout",
     "output_type": "stream",
     "text": [
      "1\n",
      "1 1\n",
      "4 4\n",
      "1 4\n",
      "4 1\n",
      "1 7\n",
      "{1: [1, 4, 7], 4: [4, 1]}\n",
      "{1: [1, 4], 4: [4, 1], 7: [1]}\n"
     ]
    }
   ],
   "source": [
    "n = int(input())\n",
    "\n",
    "d = {}\n",
    "e = {}\n",
    "for _ in range(4*n+1):\n",
    "\tx, y = map(int, input().split())\n",
    "\tif(x not in d.keys()):\n",
    "\t\td[x] = [y]\n",
    "\telse:\n",
    "\t\td[x].append(y)\n",
    "\tif(y not in e.keys()):\n",
    "\t\te[y] = [x]\n",
    "\telse:\n",
    "\t\te[y].append(x)\n",
    "        \n",
    "print(d)\n",
    "print(e)\n",
    "\n",
    "s = set(d.keys) ^ set(e.keys)"
   ]
  },
  {
   "cell_type": "code",
   "execution_count": 36,
   "metadata": {},
   "outputs": [
    {
     "name": "stdout",
     "output_type": "stream",
     "text": [
      "{7}\n"
     ]
    }
   ],
   "source": [
    "s = set(d.keys()) ^ set(e.keys())\n",
    "print(s)"
   ]
  },
  {
   "cell_type": "code",
   "execution_count": null,
   "metadata": {},
   "outputs": [],
   "source": []
  },
  {
   "cell_type": "code",
   "execution_count": null,
   "metadata": {},
   "outputs": [],
   "source": []
  },
  {
   "cell_type": "code",
   "execution_count": 6,
   "metadata": {},
   "outputs": [
    {
     "name": "stdout",
     "output_type": "stream",
     "text": [
      "1\n",
      "10000000\n",
      "30\n"
     ]
    }
   ],
   "source": [
    "def fun(n):\n",
    "    if(n == 1):\n",
    "        return 0\n",
    "    if(n == 2):\n",
    "        return 1\n",
    "    if(n == 3):\n",
    "        return 2\n",
    "    if(n % 2 == 1):\n",
    "        return 1 + min(fun(n-1), fun(n+1))\n",
    "    else:\n",
    "        return 1 + fun(n/2)\n",
    "    \n",
    "\n",
    "\n",
    "\n",
    "t = int(input())\n",
    "for _ in range(t):\n",
    "    n = int(input())\n",
    "    count = 0\n",
    "    print(fun(n))"
   ]
  },
  {
   "cell_type": "code",
   "execution_count": null,
   "metadata": {},
   "outputs": [],
   "source": []
  },
  {
   "cell_type": "code",
   "execution_count": null,
   "metadata": {},
   "outputs": [],
   "source": []
  },
  {
   "cell_type": "code",
   "execution_count": null,
   "metadata": {},
   "outputs": [],
   "source": []
  },
  {
   "cell_type": "code",
   "execution_count": null,
   "metadata": {},
   "outputs": [],
   "source": []
  },
  {
   "cell_type": "code",
   "execution_count": null,
   "metadata": {},
   "outputs": [],
   "source": []
  }
 ],
 "metadata": {
  "kernelspec": {
   "display_name": "Python 3",
   "language": "python",
   "name": "python3"
  },
  "language_info": {
   "codemirror_mode": {
    "name": "ipython",
    "version": 3
   },
   "file_extension": ".py",
   "mimetype": "text/x-python",
   "name": "python",
   "nbconvert_exporter": "python",
   "pygments_lexer": "ipython3",
   "version": "3.8.6"
  }
 },
 "nbformat": 4,
 "nbformat_minor": 4
}
