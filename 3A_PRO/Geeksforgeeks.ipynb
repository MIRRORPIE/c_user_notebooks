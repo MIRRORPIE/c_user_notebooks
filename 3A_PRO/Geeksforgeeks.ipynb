{
 "cells": [
  {
   "cell_type": "markdown",
   "metadata": {},
   "source": [
    "## Basics:-------------------->"
   ]
  },
  {
   "cell_type": "code",
   "execution_count": 1,
   "metadata": {},
   "outputs": [
    {
     "name": "stdout",
     "output_type": "stream",
     "text": [
      "Started\n",
      "Enter integer: 5\n",
      "5\n"
     ]
    }
   ],
   "source": [
    "# Python program to illustrate function with main \n",
    "def getInteger(): \n",
    "    result = int(input(\"Enter integer: \")) \n",
    "    return result \n",
    "  \n",
    "def Main(): \n",
    "    print(\"Started\") \n",
    "# calling the getInteger function and storing its returned value in the output variable \n",
    "    output = getInteger()      \n",
    "    print(output) \n",
    "\n",
    "# now we are required to tell Python for 'Main' function existence \n",
    "if __name__==\"__main__\": \n",
    "    Main()"
   ]
  },
  {
   "cell_type": "code",
   "execution_count": 5,
   "metadata": {},
   "outputs": [
    {
     "name": "stdout",
     "output_type": "stream",
     "text": [
      "Enter a number: -5.2\n",
      "5.2\n"
     ]
    }
   ],
   "source": [
    "import math   \n",
    "def Main(): \n",
    "    num = float(input(\"Enter a number: \")) \n",
    "    num = math.fabs(num)  \n",
    "    print(num) \n",
    "if __name__==\"__main__\": \n",
    "    Main()"
   ]
  },
  {
   "cell_type": "code",
   "execution_count": 6,
   "metadata": {},
   "outputs": [
    {
     "name": "stdout",
     "output_type": "stream",
     "text": [
      "<class 'str'>\n",
      "<class 'bytes'>\n",
      "\n",
      "<class 'str'>\n",
      "<class 'str'>\n"
     ]
    }
   ],
   "source": [
    "#In Python 2, implicit str type is ASCII. But in Python 3.x implicit str type is Unicode.\n",
    "print(type('default string ')) \n",
    "print(type(b'string with b '))\n",
    "print()\n",
    "print(type('default string ')) \n",
    "print(type(u'string with b '))"
   ]
  },
  {
   "cell_type": "code",
   "execution_count": 7,
   "metadata": {},
   "outputs": [
    {
     "name": "stdout",
     "output_type": "stream",
     "text": [
      "b'string with b' <class 'bytes'>\n",
      "115 116 114 105 110 103 32 119 105 116 104 32 98 "
     ]
    }
   ],
   "source": [
    "a=b\"string with b\"\n",
    "print(a,type(a))\n",
    "for i in a:\n",
    "    print(i,end=\" \")"
   ]
  },
  {
   "cell_type": "code",
   "execution_count": 8,
   "metadata": {},
   "outputs": [
    {
     "name": "stdout",
     "output_type": "stream",
     "text": [
      "string with b \n",
      "s t r i n g   w i t h   b   "
     ]
    }
   ],
   "source": [
    "a=u\"string with b \"\n",
    "print(a)\n",
    "for i in a:\n",
    "    print(i,end=\" \")"
   ]
  },
  {
   "cell_type": "code",
   "execution_count": 10,
   "metadata": {},
   "outputs": [
    {
     "name": "stdout",
     "output_type": "stream",
     "text": [
      "True\n",
      "True\n",
      "False\n",
      "3\n",
      "1\n",
      "True\n"
     ]
    }
   ],
   "source": [
    "#True and False in python are same as 1 and 0.\n",
    "print(False == 0)\n",
    "print(True == 1)\n",
    "print(True==10)\n",
    "print(True + True + True)\n",
    "print(True + False + False)\n",
    "print(True + True + True==3)"
   ]
  },
  {
   "cell_type": "raw",
   "metadata": {},
   "source": [
    "None : This is a special constant used to denote a null value or a void. Its important to remember, 0, any empty container(e.g empty list) do not compute to None."
   ]
  },
  {
   "cell_type": "code",
   "execution_count": 11,
   "metadata": {},
   "outputs": [
    {
     "name": "stdout",
     "output_type": "stream",
     "text": [
      "False\n",
      "True\n",
      "True\n",
      "False\n",
      "False\n"
     ]
    }
   ],
   "source": [
    "# Python code to demonstrate True, False, None, and, or , not \n",
    "  \n",
    "# showing that None is not equal to 0 prints False as its false. \n",
    "print (None == 0) \n",
    "  \n",
    "# showing objective of None, two None value equated to None, here x and y both are null hence true \n",
    "x = None\n",
    "y = None\n",
    "print (x == y) \n",
    " \n",
    "print (True or False)\n",
    "print (False and True)\n",
    "print (not True) "
   ]
  },
  {
   "cell_type": "markdown",
   "metadata": {},
   "source": [
    "#### assert :\n",
    "This function is used for debugging purposes. Usually used to check the correctness of code. If a statement evaluated to true, nothing happens, but when it is false, “AssertionError” is raised . One can also print a message with the error, separated by a comma"
   ]
  },
  {
   "cell_type": "markdown",
   "metadata": {},
   "source": [
    "#### del :\n",
    "del is used to delete a reference to an object. Any variable or list value can be deleted using del."
   ]
  },
  {
   "cell_type": "code",
   "execution_count": 13,
   "metadata": {},
   "outputs": [
    {
     "name": "stdout",
     "output_type": "stream",
     "text": [
      "The list before deleting any value---> [1, 2, 3]\n",
      "The list after deleting 2nd element---> [1, 3]\n"
     ]
    },
    {
     "ename": "AssertionError",
     "evalue": "5 is not smaller than 3",
     "output_type": "error",
     "traceback": [
      "\u001b[1;31m---------------------------------------------------------------------------\u001b[0m",
      "\u001b[1;31mAssertionError\u001b[0m                            Traceback (most recent call last)",
      "\u001b[1;32m<ipython-input-13-71c2a802f1bc>\u001b[0m in \u001b[0;36m<module>\u001b[1;34m\u001b[0m\n\u001b[0;32m      7\u001b[0m \u001b[1;33m\u001b[0m\u001b[0m\n\u001b[0;32m      8\u001b[0m \u001b[1;31m# demonstrating use of assert prints AssertionError\u001b[0m\u001b[1;33m\u001b[0m\u001b[1;33m\u001b[0m\u001b[1;33m\u001b[0m\u001b[0m\n\u001b[1;32m----> 9\u001b[1;33m \u001b[1;32massert\u001b[0m \u001b[1;36m5\u001b[0m \u001b[1;33m<\u001b[0m \u001b[1;36m3\u001b[0m\u001b[1;33m,\u001b[0m \u001b[1;34m\"5 is not smaller than 3\"\u001b[0m\u001b[1;33m\u001b[0m\u001b[1;33m\u001b[0m\u001b[0m\n\u001b[0m",
      "\u001b[1;31mAssertionError\u001b[0m: 5 is not smaller than 3"
     ]
    }
   ],
   "source": [
    "# Python code to demonstrate del and assert \n",
    "\n",
    "a = [1, 2, 3]\n",
    "print (\"The list before deleting any value--->\",a)\n",
    "del a[1]\n",
    "print (\"The list after deleting 2nd element--->\",a) \n",
    "  \n",
    "# demonstrating use of assert prints AssertionError \n",
    "assert 5 < 3, \"5 is not smaller than 3\""
   ]
  },
  {
   "cell_type": "code",
   "execution_count": 14,
   "metadata": {},
   "outputs": [
    {
     "name": "stdout",
     "output_type": "stream",
     "text": [
      "1\n",
      "2\n"
     ]
    },
    {
     "ename": "AssertionError",
     "evalue": "1+1 is not equal to 3",
     "output_type": "error",
     "traceback": [
      "\u001b[1;31m---------------------------------------------------------------------------\u001b[0m",
      "\u001b[1;31mAssertionError\u001b[0m                            Traceback (most recent call last)",
      "\u001b[1;32m<ipython-input-14-48f2222d8bd6>\u001b[0m in \u001b[0;36m<module>\u001b[1;34m\u001b[0m\n\u001b[0;32m      2\u001b[0m \u001b[1;32massert\u001b[0m\u001b[1;33m(\u001b[0m\u001b[1;36m2\u001b[0m\u001b[1;33m+\u001b[0m\u001b[1;36m2\u001b[0m\u001b[1;33m==\u001b[0m\u001b[1;36m4\u001b[0m\u001b[1;33m)\u001b[0m\u001b[1;33m,\u001b[0m\u001b[1;34m\"2+2 is not equal to 4\"\u001b[0m\u001b[1;33m\u001b[0m\u001b[1;33m\u001b[0m\u001b[0m\n\u001b[0;32m      3\u001b[0m \u001b[0mprint\u001b[0m\u001b[1;33m(\u001b[0m\u001b[1;36m2\u001b[0m\u001b[1;33m)\u001b[0m\u001b[1;33m\u001b[0m\u001b[1;33m\u001b[0m\u001b[0m\n\u001b[1;32m----> 4\u001b[1;33m \u001b[1;32massert\u001b[0m\u001b[1;33m(\u001b[0m\u001b[1;36m1\u001b[0m\u001b[1;33m+\u001b[0m\u001b[1;36m1\u001b[0m\u001b[1;33m==\u001b[0m\u001b[1;36m3\u001b[0m\u001b[1;33m)\u001b[0m\u001b[1;33m,\u001b[0m\u001b[1;34m\"1+1 is not equal to 3\"\u001b[0m\u001b[1;33m\u001b[0m\u001b[1;33m\u001b[0m\u001b[0m\n\u001b[0m\u001b[0;32m      5\u001b[0m \u001b[0mprint\u001b[0m\u001b[1;33m(\u001b[0m\u001b[1;36m3\u001b[0m\u001b[1;33m)\u001b[0m\u001b[1;33m\u001b[0m\u001b[1;33m\u001b[0m\u001b[0m\n",
      "\u001b[1;31mAssertionError\u001b[0m: 1+1 is not equal to 3"
     ]
    }
   ],
   "source": [
    "print(1)\n",
    "assert(2+2==4),\"2+2 is not equal to 4\"\n",
    "print(2)\n",
    "assert(1+1==3),\"1+1 is not equal to 3\"\n",
    "print(3)"
   ]
  },
  {
   "cell_type": "code",
   "execution_count": 15,
   "metadata": {},
   "outputs": [
    {
     "ename": "AssertionError",
     "evalue": "Colder than absolute 0!",
     "output_type": "error",
     "traceback": [
      "\u001b[1;31m---------------------------------------------------------------------------\u001b[0m",
      "\u001b[1;31mAssertionError\u001b[0m                            Traceback (most recent call last)",
      "\u001b[1;32m<ipython-input-15-931364924ecf>\u001b[0m in \u001b[0;36m<module>\u001b[1;34m\u001b[0m\n\u001b[0;32m      1\u001b[0m \u001b[0mtemp\u001b[0m\u001b[1;33m=\u001b[0m\u001b[1;33m-\u001b[0m\u001b[1;36m10\u001b[0m\u001b[1;33m\u001b[0m\u001b[1;33m\u001b[0m\u001b[0m\n\u001b[1;32m----> 2\u001b[1;33m \u001b[1;32massert\u001b[0m\u001b[1;33m(\u001b[0m\u001b[0mtemp\u001b[0m\u001b[1;33m>=\u001b[0m\u001b[1;36m0\u001b[0m\u001b[1;33m)\u001b[0m\u001b[1;33m,\u001b[0m\u001b[1;34m\"Colder than absolute 0!\"\u001b[0m\u001b[1;33m\u001b[0m\u001b[1;33m\u001b[0m\u001b[0m\n\u001b[0m",
      "\u001b[1;31mAssertionError\u001b[0m: Colder than absolute 0!"
     ]
    }
   ],
   "source": [
    "temp=-10\n",
    "assert(temp>=0),\"Colder than absolute 0!\""
   ]
  },
  {
   "cell_type": "code",
   "execution_count": 20,
   "metadata": {},
   "outputs": [
    {
     "name": "stdout",
     "output_type": "stream",
     "text": [
      "s is part of geeksforgeeks\n",
      "g e e k s f o r g e e k s \r\n",
      "True\n",
      "False\n"
     ]
    }
   ],
   "source": [
    "# Python code to demonstrate working of in and is \n",
    " \n",
    "if 's' in 'geeksforgeeks': print (\"s is part of geeksforgeeks\") \n",
    "else : print (\"s is not part of geeksforgeeks\") \n",
    "for i in 'geeksforgeeks': print (i,end=\" \") \n",
    "\n",
    "print(\"\\r\") \n",
    "      \n",
    "# using is to check object identity, string is immutable( cannot be changed once alloted), hence occupy same memory location \n",
    "print (' ' is ' ') \n",
    "  \n",
    "# using is to check object identity, dictionary is mutable( can be changed once alloted), hence occupy different memory location \n",
    "print ({} is {}) "
   ]
  },
  {
   "cell_type": "markdown",
   "metadata": {},
   "source": [
    "#### global :\n",
    "This keyword is used to define a variable inside the function to be of a global scope."
   ]
  },
  {
   "cell_type": "markdown",
   "metadata": {},
   "source": [
    "#### nonlocal :\n",
    "This keyword works similar to the global, but rather than global, this keyword declares a variable to point to variable of outside enclosing function, in case of nested functions."
   ]
  },
  {
   "cell_type": "code",
   "execution_count": 21,
   "metadata": {},
   "outputs": [
    {
     "name": "stdout",
     "output_type": "stream",
     "text": [
      "10\n",
      "5\n",
      "5\n",
      "Value of a using nonlocal is : 10\n",
      "Value of a without using nonlocal is : 5\n"
     ]
    }
   ],
   "source": [
    "# Python code to demonstrate working of global and nonlocal \n",
    "  \n",
    "a = 10        #initializing variable globally \n",
    "\n",
    "def read():              # used to read the variable  \n",
    "    print(a) \n",
    "\n",
    "def mod1():       # changing the value of globally defined variable\n",
    "    global a  \n",
    "    a = 5\n",
    "\n",
    "def mod2():    # changing value of only local variable  \n",
    "    a = 15 \n",
    "\n",
    "read()    # reading initial value of a prints 10 \n",
    "mod1()     # calling mod 1 function to modify value modifies value of global a to 5  \n",
    "read()   # reading modified value prints 5 \n",
    "mod2() # calling mod 2 function to modify value modifies value of local a to 15, doesn't effect global value \n",
    "read()\n",
    "  \n",
    "# demonstrating non local, inner loop changing the value of outer a, prints 10 \n",
    "print (\"Value of a using nonlocal is : \",end=\"\") \n",
    "def outer(): \n",
    "    a = 5\n",
    "    def inner(): \n",
    "        nonlocal a  \n",
    "        a = 10\n",
    "    inner() \n",
    "    print (a) \n",
    "  \n",
    "outer() \n",
    "  \n",
    "# demonstrating without nonlocal, inner loop not changing the value of outer a,prints 5 \n",
    "print (\"Value of a without using nonlocal is : \",end=\"\") \n",
    "def outer(): \n",
    "    a = 5\n",
    "    def inner(): \n",
    "        a = 10\n",
    "    inner() \n",
    "    print (a) \n",
    "  \n",
    "outer()"
   ]
  },
  {
   "cell_type": "markdown",
   "metadata": {},
   "source": [
    "#### Namespace:\n",
    "     built-in_namespace(global_namespace(local_namespace)))"
   ]
  },
  {
   "cell_type": "code",
   "execution_count": 22,
   "metadata": {},
   "outputs": [
    {
     "name": "stdout",
     "output_type": "stream",
     "text": [
      "5\n",
      "var2:-local namespace\n",
      "var3:-nested local namespace\n"
     ]
    }
   ],
   "source": [
    "# var1 is in the global namespace  \n",
    "var1 = 5\n",
    "def some_func(): \n",
    "    # var2 is in the local namespace  \n",
    "    var2 = 6\n",
    "    def some_inner_func(): \n",
    "        # var3 is in the nested local namespace \n",
    "        var3 = 7\n",
    "print(var1)\n",
    "try:\n",
    "    print(var2)\n",
    "except:\n",
    "    print(\"var2:-local namespace\")\n",
    "try:\n",
    "    print(var3)\n",
    "except:\n",
    "    print(\"var3:-nested local namespace\")"
   ]
  },
  {
   "cell_type": "code",
   "execution_count": 23,
   "metadata": {},
   "outputs": [
    {
     "name": "stdout",
     "output_type": "stream",
     "text": [
      "6\n",
      "6\n"
     ]
    }
   ],
   "source": [
    "# Python program processing global variable \n",
    "count = 5\n",
    "def some_method(): \n",
    "    global count \n",
    "    count = count + 1\n",
    "    print(count) \n",
    "some_method()\n",
    "print(count)"
   ]
  },
  {
   "cell_type": "code",
   "execution_count": 24,
   "metadata": {},
   "outputs": [
    {
     "name": "stdout",
     "output_type": "stream",
     "text": [
      "Inside some_func\n",
      "Inside inner function, value of var: 10\n"
     ]
    },
    {
     "ename": "NameError",
     "evalue": "name 'var' is not defined",
     "output_type": "error",
     "traceback": [
      "\u001b[1;31m---------------------------------------------------------------------------\u001b[0m",
      "\u001b[1;31mNameError\u001b[0m                                 Traceback (most recent call last)",
      "\u001b[1;32m<ipython-input-24-4b6be2c3f282>\u001b[0m in \u001b[0;36m<module>\u001b[1;34m\u001b[0m\n\u001b[0;32m      8\u001b[0m     \u001b[0msome_inner_func\u001b[0m\u001b[1;33m(\u001b[0m\u001b[1;33m)\u001b[0m\u001b[1;33m\u001b[0m\u001b[1;33m\u001b[0m\u001b[0m\n\u001b[0;32m      9\u001b[0m     \u001b[0mprint\u001b[0m\u001b[1;33m(\u001b[0m\u001b[1;34m\"Try printing var from outer function: \"\u001b[0m\u001b[1;33m,\u001b[0m\u001b[0mvar\u001b[0m\u001b[1;33m)\u001b[0m\u001b[1;33m\u001b[0m\u001b[1;33m\u001b[0m\u001b[0m\n\u001b[1;32m---> 10\u001b[1;33m \u001b[0msome_func\u001b[0m\u001b[1;33m(\u001b[0m\u001b[1;33m)\u001b[0m\u001b[1;33m\u001b[0m\u001b[1;33m\u001b[0m\u001b[0m\n\u001b[0m",
      "\u001b[1;32m<ipython-input-24-4b6be2c3f282>\u001b[0m in \u001b[0;36msome_func\u001b[1;34m()\u001b[0m\n\u001b[0;32m      7\u001b[0m         \u001b[0mprint\u001b[0m\u001b[1;33m(\u001b[0m\u001b[1;34m\"Inside inner function, value of var:\"\u001b[0m\u001b[1;33m,\u001b[0m\u001b[0mvar\u001b[0m\u001b[1;33m)\u001b[0m\u001b[1;33m\u001b[0m\u001b[1;33m\u001b[0m\u001b[0m\n\u001b[0;32m      8\u001b[0m     \u001b[0msome_inner_func\u001b[0m\u001b[1;33m(\u001b[0m\u001b[1;33m)\u001b[0m\u001b[1;33m\u001b[0m\u001b[1;33m\u001b[0m\u001b[0m\n\u001b[1;32m----> 9\u001b[1;33m     \u001b[0mprint\u001b[0m\u001b[1;33m(\u001b[0m\u001b[1;34m\"Try printing var from outer function: \"\u001b[0m\u001b[1;33m,\u001b[0m\u001b[0mvar\u001b[0m\u001b[1;33m)\u001b[0m\u001b[1;33m\u001b[0m\u001b[1;33m\u001b[0m\u001b[0m\n\u001b[0m\u001b[0;32m     10\u001b[0m \u001b[0msome_func\u001b[0m\u001b[1;33m(\u001b[0m\u001b[1;33m)\u001b[0m\u001b[1;33m\u001b[0m\u001b[1;33m\u001b[0m\u001b[0m\n",
      "\u001b[1;31mNameError\u001b[0m: name 'var' is not defined"
     ]
    }
   ],
   "source": [
    "# Python program showing a scope of object \n",
    "  \n",
    "def some_func(): \n",
    "    print(\"Inside some_func\") \n",
    "    def some_inner_func(): \n",
    "        var = 10\n",
    "        print(\"Inside inner function, value of var:\",var) \n",
    "    some_inner_func() \n",
    "    print(\"Try printing var from outer function: \",var) \n",
    "some_func()"
   ]
  },
  {
   "cell_type": "code",
   "execution_count": 25,
   "metadata": {},
   "outputs": [
    {
     "name": "stdout",
     "output_type": "stream",
     "text": [
      "45 \n",
      " 30 \n",
      " ['MESSI', 'NEYMAR', 'SUAREZ'] \n",
      " {45} \n",
      " 2 3 4\n"
     ]
    }
   ],
   "source": [
    "#Declared using Continuation Character (\\):\n",
    "s = 1 + 2 + 3 + \\\n",
    "    4 + 5 + 6 + \\\n",
    "    7 + 8 + 9\n",
    "\n",
    "#Declared using parentheses () :\n",
    "n = (1 * 2 * 3 + 7 + 8 + 9)\n",
    "\n",
    "#Declared using square brackets [] :\n",
    "footballer = ['MESSI',\n",
    "          'NEYMAR',\n",
    "          'SUAREZ']\n",
    "\n",
    "#Declared using braces {} :\n",
    "x = {1 + 2 + 3 + 4 + 5 + 6 +\n",
    "     7 + 8 + 9}\n",
    "\n",
    "#Declared using semicolons(;) :\n",
    "flag = 2; ropes = 3; pole = 4\n",
    "\n",
    "print(s,\"\\n\",n,\"\\n\",footballer,\"\\n\",x,\"\\n\",flag,ropes,pole)"
   ]
  },
  {
   "cell_type": "code",
   "execution_count": 26,
   "metadata": {},
   "outputs": [
    {
     "name": "stdout",
     "output_type": "stream",
     "text": [
      "10\n",
      "20\n",
      "30\n"
     ]
    }
   ],
   "source": [
    "# Example of Multiple Statements per Line\n",
    "a = 10; b = 20; c = b + a\n",
    "print(a); print(b); print(c) "
   ]
  },
  {
   "cell_type": "markdown",
   "metadata": {},
   "source": [
    "#### Line Continuation to avoid left and right scrolling.\n",
    "\n",
    "In general, there are two types of line continuation.\n",
    "* Implicit Line Continuation:-Any statement containing opening parentheses (‘(‘), brackets (‘[‘), or curly braces (‘{‘) is presumed to be incomplete until all matching parentheses, square brackets, and curly braces have been encountered. Until then, the statement can be implicitly continued across lines without raising an error.\n",
    "\n",
    "* Explicit Line Continuation:-Backslash (\\) is used to indicate that a statement spans more than one line. "
   ]
  },
  {
   "cell_type": "code",
   "execution_count": 28,
   "metadata": {},
   "outputs": [
    {
     "name": "stdout",
     "output_type": "stream",
     "text": [
      "[[1, 2, 3], [3, 4, 5], [5, 6, 7]]\n",
      "2 Persons should have ID Cards\n",
      "24\n"
     ]
    }
   ],
   "source": [
    "#Implicit Line Continuation\n",
    "#example:-1\n",
    "a = [ \n",
    "    [1, 2, 3], \n",
    "    [3, 4, 5], \n",
    "    [5, 6, 7] \n",
    "    ] \n",
    "print(a)\n",
    "\n",
    "#example:-2\n",
    "person_1 = 18\n",
    "person_2 = 20\n",
    "person_3 = 12\n",
    "if ( \n",
    "   person_1 >= 18 and\n",
    "   person_2 >= 18 and\n",
    "   person_3 < 18\n",
    "   ): \n",
    "    print('2 Persons should have ID Cards')\n",
    "    \n",
    "#Explicit Line Continuation\n",
    "x=\\\n",
    "1+2\\\n",
    "+5\\\n",
    "+6+10\n",
    "print(x)"
   ]
  },
  {
   "cell_type": "raw",
   "metadata": {},
   "source": [
    "#White spaces \n",
    "Space---------------->32 (0x20)------------>‘ ‘\n",
    "tab----------------->9 (0x9---------------->‘\\t’\n",
    "newline------------->10 (0xA)-------------->‘\\n’"
   ]
  },
  {
   "cell_type": "code",
   "execution_count": 29,
   "metadata": {},
   "outputs": [
    {
     "name": "stdout",
     "output_type": "stream",
     "text": [
      "True\n"
     ]
    }
   ],
   "source": [
    "# whitespace can improve readability \n",
    "\n",
    "x = [1, 2, 3] \n",
    "y = 2\n",
    "  \n",
    "# Following is incorrect, and will generate syntax error, a = yin x\n",
    "# Corrected version is written as \n",
    "a = y in x \n",
    "print(a) "
   ]
  },
  {
   "cell_type": "code",
   "execution_count": 32,
   "metadata": {},
   "outputs": [
    {
     "name": "stdout",
     "output_type": "stream",
     "text": [
      "keywords are:- ['for', 'elif', 'assert', 'True', 'False', 'break', 'lambda', 'try'] \n",
      "\n",
      "not keywords are:- ['geeksforgeeks', 'elseif', 'nikhil', 'shambhavi', 'akshat', 'akash', 'ashty', 'suman', 'vaishnavi']\n"
     ]
    }
   ],
   "source": [
    "#Python code to demonstrate working of iskeyword()\n",
    "import keyword \n",
    "s =[\"for\",\"geeksforgeeks\",\"elif\",\"elseif\",\"nikhil\",\n",
    "    \"assert\",\"shambhavi\",\"True\",\"False\",\"akshat\",\"akash\",\n",
    "    \"break\",\"ashty\",\"lambda\",\"suman\",\"try\",\"vaishnavi\"]\n",
    "k=[];nk=[]\n",
    "  \n",
    "# checking which are keywords\n",
    "for i in s:\n",
    "    if(keyword.iskeyword(i)): \n",
    "        k.append(i)\n",
    "    else:\n",
    "        nk.append(i)\n",
    "print(\"keywords are:-\",k,\"\\n\")\n",
    "print(\"not keywords are:-\",nk)"
   ]
  },
  {
   "cell_type": "code",
   "execution_count": 40,
   "metadata": {},
   "outputs": [
    {
     "name": "stdout",
     "output_type": "stream",
     "text": [
      "The list of keywords are : \n",
      "['False', 'None', 'True', 'and', 'as', 'assert', 'break', 'class', 'continue', 'def', 'del', 'elif', 'else', 'except', 'finally', 'for', 'from', 'global', 'if', 'import', 'in', 'is', 'lambda', 'nonlocal', 'not', 'or', 'pass', 'raise', 'return', 'try', 'while', 'with', 'yield']\n"
     ]
    }
   ],
   "source": [
    "#How to print list of all keywords\n",
    "import keyword \n",
    "  \n",
    "# printing all keywords at once using \"kwlist()\" \n",
    "print (\"The list of keywords are : \") \n",
    "print (keyword.kwlist)"
   ]
  },
  {
   "cell_type": "code",
   "execution_count": 41,
   "metadata": {},
   "outputs": [
    {
     "name": "stdout",
     "output_type": "stream",
     "text": [
      "The value of a is: 1\n"
     ]
    }
   ],
   "source": [
    "#One liner if-else instead of Conditional Operator (?:) in Python\n",
    "a = 1 if 20 > 10 else 0 \n",
    "print (\"The value of a is: \" + str(a))"
   ]
  },
  {
   "cell_type": "code",
   "execution_count": 42,
   "metadata": {},
   "outputs": [
    {
     "name": "stdout",
     "output_type": "stream",
     "text": [
      "geeks\n",
      "geeksforgeeks\n"
     ]
    },
    {
     "data": {
      "text/plain": [
       "(None, None)"
      ]
     },
     "execution_count": 42,
     "metadata": {},
     "output_type": "execute_result"
    }
   ],
   "source": [
    "print(\"geeks\"),print(\"geeksforgeeks\")"
   ]
  },
  {
   "cell_type": "code",
   "execution_count": 43,
   "metadata": {},
   "outputs": [
    {
     "name": "stdout",
     "output_type": "stream",
     "text": [
      "geeks\n",
      "geeksforgeeks\n",
      "None None\n"
     ]
    }
   ],
   "source": [
    "print(print(\"geeks\"),print(\"geeksforgeeks\"))"
   ]
  },
  {
   "cell_type": "code",
   "execution_count": 44,
   "metadata": {},
   "outputs": [
    {
     "name": "stdout",
     "output_type": "stream",
     "text": [
      "\n",
      "None\n"
     ]
    }
   ],
   "source": [
    "print(print())"
   ]
  },
  {
   "cell_type": "code",
   "execution_count": null,
   "metadata": {},
   "outputs": [],
   "source": []
  },
  {
   "cell_type": "markdown",
   "metadata": {},
   "source": [
    "## Input/Output------------------>"
   ]
  },
  {
   "cell_type": "markdown",
   "metadata": {},
   "source": [
    "#### Taking multiple inputs from user in Python\n",
    "    * Using split() method:-input().split(separator, maxsplit)\n",
    "    * Using List comprehension:-"
   ]
  },
  {
   "cell_type": "code",
   "execution_count": 46,
   "metadata": {},
   "outputs": [
    {
     "name": "stdout",
     "output_type": "stream",
     "text": [
      "Enter two value: 2 10\n",
      "First number is 2 and second number is 10\n",
      "\n",
      "Enter multiple value: 1 2 3 4 5\n",
      "Numbers in list is:  [1, 2, 3, 4, 5]\n"
     ]
    }
   ],
   "source": [
    "x, y = [int(x) for x in input(\"Enter two value: \").split()] \n",
    "print(\"First number is {} and second number is {}\".format(x, y)) \n",
    "print() \n",
    "  \n",
    "# taking multiple inputs at a time  \n",
    "x = [int(x) for x in input(\"Enter multiple value: \").split()] \n",
    "print(\"Numbers in list is: \", x)"
   ]
  },
  {
   "cell_type": "code",
   "execution_count": 47,
   "metadata": {},
   "outputs": [
    {
     "name": "stdout",
     "output_type": "stream",
     "text": [
      "2 4 5\n",
      "<class 'int'>\n"
     ]
    }
   ],
   "source": [
    "a,b,c=[2,4,5]\n",
    "print(a,b,c)\n",
    "print(type(a))"
   ]
  },
  {
   "cell_type": "code",
   "execution_count": 48,
   "metadata": {
    "scrolled": false
   },
   "outputs": [
    {
     "name": "stdout",
     "output_type": "stream",
     "text": [
      "Help on TextIOWrapper object:\n",
      "\n",
      "class TextIOWrapper(_TextIOBase)\n",
      " |  Character and line based layer over a BufferedIOBase object, buffer.\n",
      " |  \n",
      " |  encoding gives the name of the encoding that the stream will be\n",
      " |  decoded or encoded with. It defaults to locale.getpreferredencoding(False).\n",
      " |  \n",
      " |  errors determines the strictness of encoding and decoding (see\n",
      " |  help(codecs.Codec) or the documentation for codecs.register) and\n",
      " |  defaults to \"strict\".\n",
      " |  \n",
      " |  newline controls how line endings are handled. It can be None, '',\n",
      " |  '\\n', '\\r', and '\\r\\n'.  It works as follows:\n",
      " |  \n",
      " |  * On input, if newline is None, universal newlines mode is\n",
      " |    enabled. Lines in the input can end in '\\n', '\\r', or '\\r\\n', and\n",
      " |    these are translated into '\\n' before being returned to the\n",
      " |    caller. If it is '', universal newline mode is enabled, but line\n",
      " |    endings are returned to the caller untranslated. If it has any of\n",
      " |    the other legal values, input lines are only terminated by the given\n",
      " |    string, and the line ending is returned to the caller untranslated.\n",
      " |  \n",
      " |  * On output, if newline is None, any '\\n' characters written are\n",
      " |    translated to the system default line separator, os.linesep. If\n",
      " |    newline is '' or '\\n', no translation takes place. If newline is any\n",
      " |    of the other legal values, any '\\n' characters written are translated\n",
      " |    to the given string.\n",
      " |  \n",
      " |  If line_buffering is True, a call to flush is implied when a call to\n",
      " |  write contains a newline character.\n",
      " |  \n",
      " |  Method resolution order:\n",
      " |      TextIOWrapper\n",
      " |      _TextIOBase\n",
      " |      _IOBase\n",
      " |      builtins.object\n",
      " |  \n",
      " |  Methods defined here:\n",
      " |  \n",
      " |  __getstate__(...)\n",
      " |  \n",
      " |  __init__(self, /, *args, **kwargs)\n",
      " |      Initialize self.  See help(type(self)) for accurate signature.\n",
      " |  \n",
      " |  __new__(*args, **kwargs) from builtins.type\n",
      " |      Create and return a new object.  See help(type) for accurate signature.\n",
      " |  \n",
      " |  __next__(self, /)\n",
      " |      Implement next(self).\n",
      " |  \n",
      " |  __repr__(self, /)\n",
      " |      Return repr(self).\n",
      " |  \n",
      " |  close(self, /)\n",
      " |      Flush and close the IO object.\n",
      " |      \n",
      " |      This method has no effect if the file is already closed.\n",
      " |  \n",
      " |  detach(self, /)\n",
      " |      Separate the underlying buffer from the TextIOBase and return it.\n",
      " |      \n",
      " |      After the underlying buffer has been detached, the TextIO is in an\n",
      " |      unusable state.\n",
      " |  \n",
      " |  fileno(self, /)\n",
      " |      Returns underlying file descriptor if one exists.\n",
      " |      \n",
      " |      OSError is raised if the IO object does not use a file descriptor.\n",
      " |  \n",
      " |  flush(self, /)\n",
      " |      Flush write buffers, if applicable.\n",
      " |      \n",
      " |      This is not implemented for read-only and non-blocking streams.\n",
      " |  \n",
      " |  isatty(self, /)\n",
      " |      Return whether this is an 'interactive' stream.\n",
      " |      \n",
      " |      Return False if it can't be determined.\n",
      " |  \n",
      " |  read(self, size=-1, /)\n",
      " |      Read at most n characters from stream.\n",
      " |      \n",
      " |      Read from underlying buffer until we have n characters or we hit EOF.\n",
      " |      If n is negative or omitted, read until EOF.\n",
      " |  \n",
      " |  readable(self, /)\n",
      " |      Return whether object was opened for reading.\n",
      " |      \n",
      " |      If False, read() will raise OSError.\n",
      " |  \n",
      " |  readline(self, size=-1, /)\n",
      " |      Read until newline or EOF.\n",
      " |      \n",
      " |      Returns an empty string if EOF is hit immediately.\n",
      " |  \n",
      " |  seek(self, cookie, whence=0, /)\n",
      " |      Change stream position.\n",
      " |      \n",
      " |      Change the stream position to the given byte offset. The offset is\n",
      " |      interpreted relative to the position indicated by whence.  Values\n",
      " |      for whence are:\n",
      " |      \n",
      " |      * 0 -- start of stream (the default); offset should be zero or positive\n",
      " |      * 1 -- current stream position; offset may be negative\n",
      " |      * 2 -- end of stream; offset is usually negative\n",
      " |      \n",
      " |      Return the new absolute position.\n",
      " |  \n",
      " |  seekable(self, /)\n",
      " |      Return whether object supports random access.\n",
      " |      \n",
      " |      If False, seek(), tell() and truncate() will raise OSError.\n",
      " |      This method may need to do a test seek().\n",
      " |  \n",
      " |  tell(self, /)\n",
      " |      Return current stream position.\n",
      " |  \n",
      " |  truncate(self, pos=None, /)\n",
      " |      Truncate file to size bytes.\n",
      " |      \n",
      " |      File pointer is left unchanged.  Size defaults to the current IO\n",
      " |      position as reported by tell().  Returns the new size.\n",
      " |  \n",
      " |  writable(self, /)\n",
      " |      Return whether object was opened for writing.\n",
      " |      \n",
      " |      If False, write() will raise OSError.\n",
      " |  \n",
      " |  write(self, text, /)\n",
      " |      Write string to stream.\n",
      " |      Returns the number of characters written (which is always equal to\n",
      " |      the length of the string).\n",
      " |  \n",
      " |  ----------------------------------------------------------------------\n",
      " |  Data descriptors defined here:\n",
      " |  \n",
      " |  buffer\n",
      " |  \n",
      " |  closed\n",
      " |  \n",
      " |  encoding\n",
      " |      Encoding of the text stream.\n",
      " |      \n",
      " |      Subclasses should override.\n",
      " |  \n",
      " |  errors\n",
      " |      The error setting of the decoder or encoder.\n",
      " |      \n",
      " |      Subclasses should override.\n",
      " |  \n",
      " |  line_buffering\n",
      " |  \n",
      " |  name\n",
      " |  \n",
      " |  newlines\n",
      " |      Line endings translated so far.\n",
      " |      \n",
      " |      Only line endings translated during reading are considered.\n",
      " |      \n",
      " |      Subclasses should override.\n",
      " |  \n",
      " |  ----------------------------------------------------------------------\n",
      " |  Methods inherited from _IOBase:\n",
      " |  \n",
      " |  __del__(...)\n",
      " |  \n",
      " |  __enter__(...)\n",
      " |  \n",
      " |  __exit__(...)\n",
      " |  \n",
      " |  __iter__(self, /)\n",
      " |      Implement iter(self).\n",
      " |  \n",
      " |  readlines(self, hint=-1, /)\n",
      " |      Return a list of lines from the stream.\n",
      " |      \n",
      " |      hint can be specified to control the number of lines read: no more\n",
      " |      lines will be read if the total size (in bytes/characters) of all\n",
      " |      lines so far exceeds hint.\n",
      " |  \n",
      " |  writelines(self, lines, /)\n",
      " |  \n",
      " |  ----------------------------------------------------------------------\n",
      " |  Data descriptors inherited from _IOBase:\n",
      " |  \n",
      " |  __dict__\n",
      "\n"
     ]
    }
   ],
   "source": [
    "import sys\n",
    "help(sys.stdin)"
   ]
  },
  {
   "cell_type": "code",
   "execution_count": 49,
   "metadata": {
    "scrolled": false
   },
   "outputs": [
    {
     "name": "stdout",
     "output_type": "stream",
     "text": [
      "Help on OutStream in module ipykernel.iostream object:\n",
      "\n",
      "class OutStream(io.TextIOBase)\n",
      " |  A file like object that publishes the stream to a 0MQ PUB socket.\n",
      " |  \n",
      " |  Output is handed off to an IO Thread\n",
      " |  \n",
      " |  Method resolution order:\n",
      " |      OutStream\n",
      " |      io.TextIOBase\n",
      " |      _io._TextIOBase\n",
      " |      io.IOBase\n",
      " |      _io._IOBase\n",
      " |      builtins.object\n",
      " |  \n",
      " |  Methods defined here:\n",
      " |  \n",
      " |  __init__(self, session, pub_thread, name, pipe=None, echo=None)\n",
      " |      Initialize self.  See help(type(self)) for accurate signature.\n",
      " |  \n",
      " |  close(self)\n",
      " |      Flush and close the IO object.\n",
      " |      \n",
      " |      This method has no effect if the file is already closed.\n",
      " |  \n",
      " |  flush(self)\n",
      " |      trigger actual zmq send\n",
      " |      \n",
      " |      send will happen in the background thread\n",
      " |  \n",
      " |  set_parent(self, parent)\n",
      " |  \n",
      " |  writable(self)\n",
      " |      Return whether object was opened for writing.\n",
      " |      \n",
      " |      If False, write() will raise OSError.\n",
      " |  \n",
      " |  write(self, string)\n",
      " |      Write string to stream.\n",
      " |      Returns the number of characters written (which is always equal to\n",
      " |      the length of the string).\n",
      " |  \n",
      " |  writelines(self, sequence)\n",
      " |  \n",
      " |  ----------------------------------------------------------------------\n",
      " |  Data descriptors defined here:\n",
      " |  \n",
      " |  closed\n",
      " |  \n",
      " |  ----------------------------------------------------------------------\n",
      " |  Data and other attributes defined here:\n",
      " |  \n",
      " |  __abstractmethods__ = frozenset()\n",
      " |  \n",
      " |  encoding = 'UTF-8'\n",
      " |  \n",
      " |  flush_interval = 0.2\n",
      " |  \n",
      " |  flush_timeout = 10\n",
      " |  \n",
      " |  topic = None\n",
      " |  \n",
      " |  ----------------------------------------------------------------------\n",
      " |  Methods inherited from _io._TextIOBase:\n",
      " |  \n",
      " |  detach(...)\n",
      " |      Separate the underlying buffer from the TextIOBase and return it.\n",
      " |      \n",
      " |      After the underlying buffer has been detached, the TextIO is in an\n",
      " |      unusable state.\n",
      " |  \n",
      " |  read(...)\n",
      " |      Read at most n characters from stream.\n",
      " |      \n",
      " |      Read from underlying buffer until we have n characters or we hit EOF.\n",
      " |      If n is negative or omitted, read until EOF.\n",
      " |  \n",
      " |  readline(...)\n",
      " |      Read until newline or EOF.\n",
      " |      \n",
      " |      Returns an empty string if EOF is hit immediately.\n",
      " |  \n",
      " |  ----------------------------------------------------------------------\n",
      " |  Data descriptors inherited from _io._TextIOBase:\n",
      " |  \n",
      " |  errors\n",
      " |      The error setting of the decoder or encoder.\n",
      " |      \n",
      " |      Subclasses should override.\n",
      " |  \n",
      " |  newlines\n",
      " |      Line endings translated so far.\n",
      " |      \n",
      " |      Only line endings translated during reading are considered.\n",
      " |      \n",
      " |      Subclasses should override.\n",
      " |  \n",
      " |  ----------------------------------------------------------------------\n",
      " |  Methods inherited from _io._IOBase:\n",
      " |  \n",
      " |  __del__(...)\n",
      " |  \n",
      " |  __enter__(...)\n",
      " |  \n",
      " |  __exit__(...)\n",
      " |  \n",
      " |  __iter__(self, /)\n",
      " |      Implement iter(self).\n",
      " |  \n",
      " |  __new__(*args, **kwargs) from builtins.type\n",
      " |      Create and return a new object.  See help(type) for accurate signature.\n",
      " |  \n",
      " |  __next__(self, /)\n",
      " |      Implement next(self).\n",
      " |  \n",
      " |  fileno(self, /)\n",
      " |      Returns underlying file descriptor if one exists.\n",
      " |      \n",
      " |      OSError is raised if the IO object does not use a file descriptor.\n",
      " |  \n",
      " |  isatty(self, /)\n",
      " |      Return whether this is an 'interactive' stream.\n",
      " |      \n",
      " |      Return False if it can't be determined.\n",
      " |  \n",
      " |  readable(self, /)\n",
      " |      Return whether object was opened for reading.\n",
      " |      \n",
      " |      If False, read() will raise OSError.\n",
      " |  \n",
      " |  readlines(self, hint=-1, /)\n",
      " |      Return a list of lines from the stream.\n",
      " |      \n",
      " |      hint can be specified to control the number of lines read: no more\n",
      " |      lines will be read if the total size (in bytes/characters) of all\n",
      " |      lines so far exceeds hint.\n",
      " |  \n",
      " |  seek(...)\n",
      " |      Change stream position.\n",
      " |      \n",
      " |      Change the stream position to the given byte offset. The offset is\n",
      " |      interpreted relative to the position indicated by whence.  Values\n",
      " |      for whence are:\n",
      " |      \n",
      " |      * 0 -- start of stream (the default); offset should be zero or positive\n",
      " |      * 1 -- current stream position; offset may be negative\n",
      " |      * 2 -- end of stream; offset is usually negative\n",
      " |      \n",
      " |      Return the new absolute position.\n",
      " |  \n",
      " |  seekable(self, /)\n",
      " |      Return whether object supports random access.\n",
      " |      \n",
      " |      If False, seek(), tell() and truncate() will raise OSError.\n",
      " |      This method may need to do a test seek().\n",
      " |  \n",
      " |  tell(self, /)\n",
      " |      Return current stream position.\n",
      " |  \n",
      " |  truncate(...)\n",
      " |      Truncate file to size bytes.\n",
      " |      \n",
      " |      File pointer is left unchanged.  Size defaults to the current IO\n",
      " |      position as reported by tell().  Returns the new size.\n",
      " |  \n",
      " |  ----------------------------------------------------------------------\n",
      " |  Data descriptors inherited from _io._IOBase:\n",
      " |  \n",
      " |  __dict__\n",
      "\n"
     ]
    }
   ],
   "source": [
    "import sys\n",
    "help(sys.stdout)"
   ]
  },
  {
   "cell_type": "code",
   "execution_count": 50,
   "metadata": {},
   "outputs": [
    {
     "name": "stdout",
     "output_type": "stream",
     "text": [
      "Help on built-in function readline:\n",
      "\n",
      "readline(size=-1, /) method of _io.TextIOWrapper instance\n",
      "    Read until newline or EOF.\n",
      "    \n",
      "    Returns an empty string if EOF is hit immediately.\n",
      "\n"
     ]
    }
   ],
   "source": [
    "import sys\n",
    "help(sys.stdin.readline)"
   ]
  },
  {
   "cell_type": "code",
   "execution_count": 51,
   "metadata": {},
   "outputs": [
    {
     "name": "stdout",
     "output_type": "stream",
     "text": [
      "Help on method write in module ipykernel.iostream:\n",
      "\n",
      "write(string) method of ipykernel.iostream.OutStream instance\n",
      "    Write string to stream.\n",
      "    Returns the number of characters written (which is always equal to\n",
      "    the length of the string).\n",
      "\n"
     ]
    }
   ],
   "source": [
    "import sys\n",
    "help(sys.stdout.write)"
   ]
  },
  {
   "cell_type": "code",
   "execution_count": null,
   "metadata": {},
   "outputs": [],
   "source": []
  },
  {
   "cell_type": "code",
   "execution_count": 53,
   "metadata": {},
   "outputs": [
    {
     "name": "stdout",
     "output_type": "stream",
     "text": [
      "0"
     ]
    }
   ],
   "source": [
    "# import inbuilt standard input output  \n",
    "from sys import stdin, stdout  \n",
    "  \n",
    "# suppose a function called main() and all the operations are performed \n",
    "def main(): \n",
    "    n = stdin.readline()    # input via readline method   \n",
    "    arr = [int(x) for x in stdin.readline().split()]     # array input similar method \n",
    "    summation = 0 \n",
    "    for x in arr: \n",
    "        summation += x \n",
    "\n",
    "    # print answer via write, write method writes only string operations so we need to convert any data into string for input \n",
    "    stdout.write(str(summation)) \n",
    "  \n",
    "# call the main method \n",
    "if __name__ == \"__main__\": \n",
    "    main()"
   ]
  },
  {
   "cell_type": "code",
   "execution_count": 54,
   "metadata": {
    "collapsed": true
   },
   "outputs": [
    {
     "data": {
      "text/plain": [
       "'# template begins \\n##################################### \\n  \\n# import libraries for input/ output handling \\n# on generic level \\nimport atexit, io, sys \\n  \\n# A stream implementation using an in-memory bytes  \\n# buffer. It inherits BufferedIOBase. \\nbuffer = io.BytesIO() \\nsys.stdout = buffer\\n  \\n# print via here \\n@atexit.register \\ndef write(): \\n    sys.__stdout__.write(buffer.getvalue()) \\n  \\n##################################### \\n# template ends \\n  \\n# normal method followed \\n# input N \\nn = int(input()) \\n  \\n# input the array \\narr = [int(x) for x in input().split()] \\n  \\n# initialize variable \\nsummation = 0\\n  \\n# calculate sum \\nfor x in arr: \\n    summation += x \\n  \\n# print answer \\nprint(summation)'"
      ]
     },
     "execution_count": 54,
     "metadata": {},
     "output_type": "execute_result"
    }
   ],
   "source": [
    "\"\"\"# template begins \n",
    "##################################### \n",
    "  \n",
    "# import libraries for input/ output handling \n",
    "# on generic level \n",
    "import atexit, io, sys \n",
    "  \n",
    "# A stream implementation using an in-memory bytes  \n",
    "# buffer. It inherits BufferedIOBase. \n",
    "buffer = io.BytesIO() \n",
    "sys.stdout = buffer\n",
    "  \n",
    "# print via here \n",
    "@atexit.register \n",
    "def write(): \n",
    "    sys.__stdout__.write(buffer.getvalue()) \n",
    "  \n",
    "##################################### \n",
    "# template ends \n",
    "  \n",
    "# normal method followed \n",
    "# input N \n",
    "n = int(input()) \n",
    "  \n",
    "# input the array \n",
    "arr = [int(x) for x in input().split()] \n",
    "  \n",
    "# initialize variable \n",
    "summation = 0\n",
    "  \n",
    "# calculate sum \n",
    "for x in arr: \n",
    "    summation += x \n",
    "  \n",
    "# print answer \n",
    "print(summation)\"\"\""
   ]
  },
  {
   "cell_type": "code",
   "execution_count": 55,
   "metadata": {},
   "outputs": [
    {
     "name": "stdout",
     "output_type": "stream",
     "text": [
      "Help on built-in function print in module builtins:\n",
      "\n",
      "print(...)\n",
      "    print(value, ..., sep=' ', end='\\n', file=sys.stdout, flush=False)\n",
      "    \n",
      "    Prints the values to a stream, or to sys.stdout by default.\n",
      "    Optional keyword arguments:\n",
      "    file:  a file-like object (stream); defaults to the current sys.stdout.\n",
      "    sep:   string inserted between values, default a space.\n",
      "    end:   string appended after the last value, default a newline.\n",
      "    flush: whether to forcibly flush the stream.\n",
      "\n"
     ]
    }
   ],
   "source": [
    "help(print)"
   ]
  },
  {
   "cell_type": "markdown",
   "metadata": {},
   "source": [
    "##### Syntax: print(value(s), sep= ‘ ‘, end = ‘\\n’, file=file, flush=flush)\n",
    "\n",
    "Parameters:\n",
    "    * value(s) : Any value, and as many as you like. Will be converted to string before printed\n",
    "    * sep=’separator’ : (Optional) Specify how to separate the objects, if there is more than one.Default :’ ‘\n",
    "    * end=’end’: (Optional) Specify what to print at the end.Default : ‘\\n’\n",
    "    * file : (Optional) An object with a write method. Default :sys.stdout\n",
    "    * flush : (Optional) A Boolean, specifying if the output is flushed (True) or buffered (False). Default: False\n",
    "\n",
    "Returns: It returns output to the screen."
   ]
  },
  {
   "cell_type": "code",
   "execution_count": 58,
   "metadata": {},
   "outputs": [
    {
     "name": "stdout",
     "output_type": "stream",
     "text": [
      "GFG\n"
     ]
    }
   ],
   "source": [
    "print('G', 'F', 'G', sep ='')"
   ]
  },
  {
   "cell_type": "code",
   "execution_count": 59,
   "metadata": {},
   "outputs": [
    {
     "name": "stdout",
     "output_type": "stream",
     "text": [
      "Python@GeeksforGeeks\n"
     ]
    }
   ],
   "source": [
    "# using end argument \n",
    "print(\"Python\", end = '@')   \n",
    "print(\"GeeksforGeeks\")"
   ]
  },
  {
   "cell_type": "code",
   "execution_count": 60,
   "metadata": {},
   "outputs": [
    {
     "name": "stdout",
     "output_type": "stream",
     "text": [
      "09-12-2016"
     ]
    }
   ],
   "source": [
    "print('09','12', sep='-', end='-2016')"
   ]
  },
  {
   "cell_type": "code",
   "execution_count": 61,
   "metadata": {},
   "outputs": [],
   "source": [
    "import antigravity"
   ]
  },
  {
   "cell_type": "markdown",
   "metadata": {},
   "source": [
    "#### Formatted string literals (f-strings) in Python"
   ]
  },
  {
   "cell_type": "code",
   "execution_count": 62,
   "metadata": {},
   "outputs": [
    {
     "name": "stdout",
     "output_type": "stream",
     "text": [
      "GeeksforGeeks is a portal for Geeks.\n",
      "Hello, My name is Tushar and I'm 23 years old.\n"
     ]
    }
   ],
   "source": [
    "#Code #1-----> Python3 program introducing f-string \n",
    "val = 'Geeks'\n",
    "print(f\"{val}for{val} is a portal for {val}.\") \n",
    "\n",
    "name = 'Tushar'\n",
    "age = 23\n",
    "print(f\"Hello, My name is {name} and I'm {age} years old.\") "
   ]
  },
  {
   "cell_type": "code",
   "execution_count": 63,
   "metadata": {},
   "outputs": [
    {
     "name": "stdout",
     "output_type": "stream",
     "text": [
      "January 07, 2020\n"
     ]
    }
   ],
   "source": [
    "#Code #2 : Prints today's date with help of datetime library \n",
    "import datetime\n",
    "today = datetime.datetime.today() \n",
    "print(f\"{today:%B %d, %Y}\")"
   ]
  },
  {
   "cell_type": "markdown",
   "metadata": {},
   "source": [
    "* Note : F-strings are faster than the two most commonly used string formatting mechanisms, which are % formatting and str.format()."
   ]
  },
  {
   "cell_type": "code",
   "execution_count": 67,
   "metadata": {},
   "outputs": [
    {
     "ename": "SyntaxError",
     "evalue": "invalid syntax (<ipython-input-67-e9f9ce80795d>, line 3)",
     "output_type": "error",
     "traceback": [
      "\u001b[1;36m  File \u001b[1;32m\"<ipython-input-67-e9f9ce80795d>\"\u001b[1;36m, line \u001b[1;32m3\u001b[0m\n\u001b[1;33m    f\"Your answer is \"{answer}\"\"\u001b[0m\n\u001b[1;37m                      ^\u001b[0m\n\u001b[1;31mSyntaxError\u001b[0m\u001b[1;31m:\u001b[0m invalid syntax\n"
     ]
    }
   ],
   "source": [
    "#Code #3 : Demonstrating Syntax error.\n",
    "answer = 456\n",
    "f\"Your answer is \"{answer}\"\""
   ]
  },
  {
   "cell_type": "code",
   "execution_count": 68,
   "metadata": {},
   "outputs": [
    {
     "data": {
      "text/plain": [
       "'Your answer is 456'"
      ]
     },
     "execution_count": 68,
     "metadata": {},
     "output_type": "execute_result"
    }
   ],
   "source": [
    "answer = 456\n",
    "f\"Your answer is {answer}\""
   ]
  },
  {
   "cell_type": "code",
   "execution_count": 69,
   "metadata": {},
   "outputs": [
    {
     "ename": "SyntaxError",
     "evalue": "f-string expression part cannot include a backslash (<ipython-input-69-b28c8d34c76b>, line 3)",
     "output_type": "error",
     "traceback": [
      "\u001b[1;36m  File \u001b[1;32m\"<ipython-input-69-b28c8d34c76b>\"\u001b[1;36m, line \u001b[1;32m3\u001b[0m\n\u001b[1;33m    f\"newline: {ord('\\n')}\"\u001b[0m\n\u001b[1;37m                           ^\u001b[0m\n\u001b[1;31mSyntaxError\u001b[0m\u001b[1;31m:\u001b[0m f-string expression part cannot include a backslash\n"
     ]
    }
   ],
   "source": [
    "#Code #4 : Backslash Cannot be used in format string directly.\n",
    "f\"newline: {ord('\\n')}\""
   ]
  },
  {
   "cell_type": "code",
   "execution_count": 70,
   "metadata": {},
   "outputs": [
    {
     "data": {
      "text/plain": [
       "'newline: 10'"
      ]
     },
     "execution_count": 70,
     "metadata": {},
     "output_type": "execute_result"
    }
   ],
   "source": [
    "newline = ord('\\n')   \n",
    "f\"newline: {newline}\""
   ]
  },
  {
   "cell_type": "markdown",
   "metadata": {},
   "source": [
    "#### Python | format() function"
   ]
  },
  {
   "cell_type": "markdown",
   "metadata": {},
   "source": [
    "##### Using a Single Formatter :"
   ]
  },
  {
   "cell_type": "code",
   "execution_count": 72,
   "metadata": {},
   "outputs": [
    {
     "name": "stdout",
     "output_type": "stream",
     "text": [
      "GeeksforGeeks, A computer science portal for geeks.\n",
      "This article is written in Python\n",
      "Hello, I am 18 years old !\n"
     ]
    }
   ],
   "source": [
    "#Code 1 : Simple demonstration of format().-->the str.format() method \n",
    "print (\"{}, A computer science portal for geeks.\"\n",
    "                        .format(\"GeeksforGeeks\"))      # using format option in a simple string \n",
    " \n",
    "str = \"This article is written in {}\"   # using format option for a value stored in a variable\n",
    "print (str.format(\"Python\")) \n",
    "  \n",
    "print (\"Hello, I am {} years old !\".format(18))    # formatting a string using a numeric constant "
   ]
  },
  {
   "cell_type": "markdown",
   "metadata": {},
   "source": [
    "##### Using Multiple Formatters :"
   ]
  },
  {
   "cell_type": "raw",
   "metadata": {},
   "source": [
    "Syntax : { } { } .format(value1, value2)"
   ]
  },
  {
   "cell_type": "code",
   "execution_count": 76,
   "metadata": {},
   "outputs": [
    {
     "ename": "IndexError",
     "evalue": "tuple index out of range",
     "output_type": "error",
     "traceback": [
      "\u001b[1;31m---------------------------------------------------------------------------\u001b[0m",
      "\u001b[1;31mIndexError\u001b[0m                                Traceback (most recent call last)",
      "\u001b[1;32m<ipython-input-76-7e8f40d2b92c>\u001b[0m in \u001b[0;36m<module>\u001b[1;34m\u001b[0m\n\u001b[0;32m      3\u001b[0m \u001b[0mmy_string\u001b[0m \u001b[1;33m=\u001b[0m \u001b[1;34m\"{}, is a {} {} science portal for {}\"\u001b[0m\u001b[1;33m\u001b[0m\u001b[1;33m\u001b[0m\u001b[0m\n\u001b[0;32m      4\u001b[0m \u001b[1;33m\u001b[0m\u001b[0m\n\u001b[1;32m----> 5\u001b[1;33m \u001b[0mprint\u001b[0m \u001b[1;33m(\u001b[0m\u001b[0mmy_string\u001b[0m\u001b[1;33m.\u001b[0m\u001b[0mformat\u001b[0m\u001b[1;33m(\u001b[0m\u001b[1;34m\"GeeksforGeeks\"\u001b[0m\u001b[1;33m,\u001b[0m \u001b[1;34m\"computer\"\u001b[0m\u001b[1;33m,\u001b[0m \u001b[1;34m\"geeks\"\u001b[0m\u001b[1;33m)\u001b[0m\u001b[1;33m)\u001b[0m\u001b[1;33m\u001b[0m\u001b[1;33m\u001b[0m\u001b[0m\n\u001b[0m",
      "\u001b[1;31mIndexError\u001b[0m: tuple index out of range"
     ]
    }
   ],
   "source": [
    "#Code #2 : Python program demonstrating Index error \n",
    "# Number of placeholders are four but there are only three values passed  \n",
    "my_string = \"{}, is a {} {} science portal for {}\"\n",
    "  \n",
    "print (my_string.format(\"GeeksforGeeks\", \"computer\", \"geeks\"))"
   ]
  },
  {
   "cell_type": "code",
   "execution_count": 77,
   "metadata": {},
   "outputs": [
    {
     "name": "stdout",
     "output_type": "stream",
     "text": [
      "GeeksforGeeks, is a computer science portal for geeks\n",
      "Hi ! My name is User and I am 19 years old\n",
      "This is one two three four\n"
     ]
    }
   ],
   "source": [
    "#Code #3 : Formatters with multiple place holders.\n",
    "my_string = \"{}, is a {} science portal for {}\"\n",
    "print (my_string.format(\"GeeksforGeeks\", \"computer\", \"geeks\")) \n",
    "  \n",
    "# different datatypes can be used in formatting \n",
    "print (\"Hi ! My name is {} and I am {} years old\"\n",
    "                            .format(\"User\", 19))\n",
    "print (\"This is {} {} {} {}\"\n",
    "       .format(\"one\", \"two\", \"three\", \"four\"))"
   ]
  },
  {
   "cell_type": "markdown",
   "metadata": {},
   "source": [
    "###### Formatters with Positional and Keyword Arguments :"
   ]
  },
  {
   "cell_type": "raw",
   "metadata": {},
   "source": [
    "Syntax : {0} {1}.format(positional_argument, keyword_argument)\n",
    "\n",
    "Parameters : (positional_argument, keyword_argument)\n",
    "\n",
    "Positional_argument can be integers, floating point numeric constants, strings, characters and even variables.\n",
    "Keyword_argument is essentially a variable storing some value, which is passed as parameter."
   ]
  },
  {
   "cell_type": "code",
   "execution_count": 79,
   "metadata": {},
   "outputs": [
    {
     "name": "stdout",
     "output_type": "stream",
     "text": [
      "GeeksforGeeks love Geeks!!\n",
      "Geeks love GeeksforGeeks!!\n",
      "Every Operating Systems should know the use of Source Open programming and programmer\n",
      "GeeksforGeeks is a computer science portal for geeks\n"
     ]
    }
   ],
   "source": [
    "#Code #4 :To demonstrate the use of formatters with positional key arguments.  \n",
    "print(\"{0} love {1}!!\".format(\"GeeksforGeeks\", \"Geeks\")) \n",
    "  \n",
    "# Reverse the index numbers with the parameters of the placeholders \n",
    "print(\"{1} love {0}!!\".format(\"GeeksforGeeks\", \"Geeks\")) \n",
    "  \n",
    "print(\"Every {3} should know the use of {2} {1} programming and {0}\".format(\"programmer\", \"Open\", \"Source\", \"Operating Systems\")) \n",
    "  \n",
    "# Keyword arguments are called by their keyword name \n",
    "print(\"{gfg} is a {0} science portal for {1}\"\n",
    ".format(\"computer\", \"geeks\", gfg =\"GeeksforGeeks\"))"
   ]
  },
  {
   "cell_type": "markdown",
   "metadata": {},
   "source": [
    "###### Type Specifying :"
   ]
  },
  {
   "cell_type": "raw",
   "metadata": {},
   "source": [
    "{field_name:conversion}\n",
    "\n",
    "s – strings\n",
    "d – decimal integers (base-10)\n",
    "f – floating point display\n",
    "c – character\n",
    "b – binary\n",
    "o – octal\n",
    "x – hexadecimal with lowercase letters after 9\n",
    "X – hexadecimal with uppercase letters after 9\n",
    "e – exponent notation\n",
    "\n",
    "Syntax :\n",
    "String {field_name:conversion} Example.format(value)\n",
    "\n",
    "Errors and Exceptions :\n",
    "ValueError : Error occurs during type conversion in this method."
   ]
  },
  {
   "cell_type": "code",
   "execution_count": 81,
   "metadata": {},
   "outputs": [
    {
     "ename": "ValueError",
     "evalue": "Unknown format code 'd' for object of type 'float'",
     "output_type": "error",
     "traceback": [
      "\u001b[1;31m---------------------------------------------------------------------------\u001b[0m",
      "\u001b[1;31mValueError\u001b[0m                                Traceback (most recent call last)",
      "\u001b[1;32m<ipython-input-81-7f3fda3e5c42>\u001b[0m in \u001b[0;36m<module>\u001b[1;34m\u001b[0m\n\u001b[0;32m      2\u001b[0m \u001b[1;33m\u001b[0m\u001b[0m\n\u001b[0;32m      3\u001b[0m \u001b[1;31m# When explicitly converted floating point values to decimal with base-10 by 'd'  type conversion we encounter Value-Error.\u001b[0m\u001b[1;33m\u001b[0m\u001b[1;33m\u001b[0m\u001b[1;33m\u001b[0m\u001b[0m\n\u001b[1;32m----> 4\u001b[1;33m \u001b[0mprint\u001b[0m\u001b[1;33m(\u001b[0m\u001b[1;34m\"The temperature today is {0:d} degrees outside !\"\u001b[0m\u001b[1;33m.\u001b[0m\u001b[0mformat\u001b[0m\u001b[1;33m(\u001b[0m\u001b[1;36m35.567\u001b[0m\u001b[1;33m)\u001b[0m\u001b[1;33m)\u001b[0m\u001b[1;33m\u001b[0m\u001b[1;33m\u001b[0m\u001b[0m\n\u001b[0m\u001b[0;32m      5\u001b[0m \u001b[1;33m\u001b[0m\u001b[0m\n\u001b[0;32m      6\u001b[0m \u001b[1;31m# Instead write this to avoid value-errors\u001b[0m\u001b[1;33m\u001b[0m\u001b[1;33m\u001b[0m\u001b[1;33m\u001b[0m\u001b[0m\n",
      "\u001b[1;31mValueError\u001b[0m: Unknown format code 'd' for object of type 'float'"
     ]
    }
   ],
   "source": [
    "#Code #5 : Demonstrate ValueError while doing forced type-conversions \n",
    "  \n",
    "# When explicitly converted floating point values to decimal with base-10 by 'd'  type conversion we encounter Value-Error. \n",
    "print(\"The temperature today is {0:d} degrees outside !\".format(35.567)) \n",
    "  \n",
    "# Instead write this to avoid value-errors \n",
    "''' print(\"The temperature today is {0:.0f} degrees outside !\".format(35.567))'''"
   ]
  },
  {
   "cell_type": "code",
   "execution_count": 83,
   "metadata": {},
   "outputs": [
    {
     "name": "stdout",
     "output_type": "stream",
     "text": [
      "The temperature today is 36 degrees outside !\n"
     ]
    }
   ],
   "source": [
    "print(\"The temperature today is {0:.0f} degrees outside !\".format(35.567))"
   ]
  },
  {
   "cell_type": "code",
   "execution_count": 84,
   "metadata": {},
   "outputs": [
    {
     "name": "stdout",
     "output_type": "stream",
     "text": [
      "The temperature today is 58.000000 degrees outside !\n"
     ]
    }
   ],
   "source": [
    "print(\"The temperature today is {1:f} degrees outside !\".format(35.567,58))"
   ]
  },
  {
   "cell_type": "code",
   "execution_count": 85,
   "metadata": {},
   "outputs": [
    {
     "name": "stdout",
     "output_type": "stream",
     "text": [
      "This site is 100.000000% securely encrypted!!\n",
      "My average of this semester was 78.23%\n",
      "My average of this semester was 78%\n",
      "The binary of 100 is 1100100\n",
      "The octal of 100 is 144\n"
     ]
    }
   ],
   "source": [
    "#Code #6 : Convert base-10 decimal integers to floating point numeric constants \n",
    "print (\"This site is {0:f}% securely {1}!!\".format(100, \"encrypted\")) \n",
    "  \n",
    "# To limit the precision \n",
    "print (\"My average of this {0} was {1:.2f}%\".format(\"semester\", 78.234876)) \n",
    "  \n",
    "# For no decimal places \n",
    "print (\"My average of this {0} was {1:.0f}%\" .format(\"semester\", 78.234876)) \n",
    "  \n",
    "# Convert an integer to its binary or with other different converted bases. \n",
    "print(\"The {0} of 100 is {1:b}\".format(\"binary\", 100)) \n",
    "          \n",
    "print(\"The {0} of 100 is {1:o}\".format(\"octal\", 100))"
   ]
  },
  {
   "cell_type": "markdown",
   "metadata": {},
   "source": [
    "###### Padding Substitutions or Generating Spaces :"
   ]
  },
  {
   "cell_type": "raw",
   "metadata": {},
   "source": [
    "<   :  left-align text in the field\n",
    "^   :  center text in the field\n",
    ">   :  right-align text in the field"
   ]
  },
  {
   "cell_type": "code",
   "execution_count": 91,
   "metadata": {},
   "outputs": [
    {
     "name": "stdout",
     "output_type": "stream",
     "text": [
      "GeeksforGeeks, is the computer science portal for geeks       !\n",
      "It is    40 degrees outside !\n",
      "GeeksforGeeks was founded in             2009!\n",
      "        GeeksforGeeks          was founded in 2009                !\n",
      "*******Geeks********\n"
     ]
    }
   ],
   "source": [
    "# To demonstrate spacing when strings are passed as parameters \n",
    "print(\"{0:4}, is the computer science portal for {1:12}!\".format(\"GeeksforGeeks\", \"geeks\")) \n",
    "  \n",
    "# To demonstrate spacing when numeric constants are passed as parameters. \n",
    "print(\"It is {0:5} degrees outside !\".format(40)) \n",
    "  \n",
    "# To demonstrate both string and numeric constants passed as parameters \n",
    "print(\"{0:4} was founded in {1:16}!\".format(\"GeeksforGeeks\", 2009)) \n",
    "    \n",
    "# To demonstrate aligning of spaces \n",
    "print(\"{0:^30} was founded in {1:<20}!\".format(\"GeeksforGeeks\", 2009)) \n",
    "  \n",
    "print(\"{:*^20s}\".format(\"Geeks\"))"
   ]
  },
  {
   "cell_type": "code",
   "execution_count": 98,
   "metadata": {},
   "outputs": [
    {
     "name": "stdout",
     "output_type": "stream",
     "text": [
      "Enter lower range :-\n",
      "5\n",
      "Enter upper range :-\n",
      "10\n",
      "------Before Using Formatters-------\n",
      "5 25 125 625\n",
      "6 36 216 1296\n",
      "7 49 343 2401\n",
      "8 64 512 4096\n",
      "9 81 729 6561\n",
      "\n",
      "-------After Using Formatters---------\n",
      "\n",
      "     5     25    125    625\n",
      "     6     36    216   1296\n",
      "     7     49    343   2401\n",
      "     8     64    512   4096\n",
      "     9     81    729   6561\n"
     ]
    }
   ],
   "source": [
    "#Code #8 : To demonstrate organization of large data which prints out i, i ^ 2, i ^ 3, i ^ 4 in the given range \n",
    "  \n",
    "# Function prints out values in an unorganized manner \n",
    "def unorganized(a, b): \n",
    "    for i in range (a, b): \n",
    "        print ( i, i**2, i**3, i**4 ) \n",
    "\n",
    "# Function prints the organized set of values \n",
    "def organized(a, b): \n",
    "    for i in range (a, b): \n",
    "        # Using formatters to give 6 spaces to each set of values \n",
    "        print(\"{:6d} {:6d} {:6d} {:6d}\".format(i, i ** 2, i ** 3, i ** 4)) \n",
    "\n",
    "# Driver Code \n",
    "n1 = int(input(\"Enter lower range :-\\n\")) \n",
    "n2 = int(input(\"Enter upper range :-\\n\"))  \n",
    "print(\"------Before Using Formatters-------\") \n",
    "unorganized(n1, n2)\n",
    "print() \n",
    "print(\"-------After Using Formatters---------\") \n",
    "print()\n",
    "# Calling function that contain formatters to organize the data \n",
    "organized(n1, n2)"
   ]
  },
  {
   "cell_type": "markdown",
   "metadata": {},
   "source": [
    "##### Formatting output using String modulo operator(%) "
   ]
  },
  {
   "cell_type": "code",
   "execution_count": 101,
   "metadata": {},
   "outputs": [
    {
     "name": "stdout",
     "output_type": "stream",
     "text": [
      "Geeks :  1, Portal :       5.33\n",
      "Total students :  240, Boys :  120\n",
      "    031\n",
      " 3.561E+02\n"
     ]
    }
   ],
   "source": [
    "# Python program showing how to use string modulo operator(%) to print fancier output \n",
    "# print integer and float value \n",
    "print(\"Geeks : % 2d, Portal : % 10.2f\" %(1, 05.333))  \n",
    "  \n",
    "# print integer value \n",
    "print(\"Total students : % 3d, Boys : % 2d\" %(240, 120)) \n",
    "  \n",
    "# print octal value \n",
    "print(\"% 7.3o\"% (25)) \n",
    "  \n",
    "# print exponential value \n",
    "print(\"% 10.3E\"% (356.08977))"
   ]
  },
  {
   "cell_type": "markdown",
   "metadata": {},
   "source": [
    "##### Formatting output using format method :"
   ]
  },
  {
   "cell_type": "code",
   "execution_count": 102,
   "metadata": {},
   "outputs": [
    {
     "name": "stdout",
     "output_type": "stream",
     "text": [
      "Geeks :12, Portal :    0.55\n",
      "Second argument:  11, first one:   47.42\n",
      "Geeks:   453,  Portal:    59.06\n"
     ]
    }
   ],
   "source": [
    "#Code 2:\n",
    "print(\"Geeks :{0:2d}, Portal :{1:8.2f}\".format(12, 00.546)) \n",
    "  \n",
    "# Changing positional argument \n",
    "print(\"Second argument: {1:3d}, first one: {0:7.2f}\".format(47.42, 11)) \n",
    "  \n",
    "print(\"Geeks: {a:5d},  Portal: {p:8.2f}\".format(a = 453, p = 59.058))"
   ]
  },
  {
   "cell_type": "code",
   "execution_count": 104,
   "metadata": {},
   "outputs": [
    {
     "name": "stdout",
     "output_type": "stream",
     "text": [
      "Geeks: 4127; For: 4098; Geeks: 8637678\n",
      "I love GeeksForGeeks computer Portal\n"
     ]
    }
   ],
   "source": [
    "#Code 3:\n",
    "tab = {'geeks': 4127, 'for': 4098, 'geek': 8637678} \n",
    "# using format() in dictionary \n",
    "print('Geeks: {0[geeks]:d}; For: {0[for]:d}; Geeks: {0[geek]:d}'.format(tab)) \n",
    "  \n",
    "data = dict(fun =\"GeeksForGeeks\", adj =\"Portal\") \n",
    "  \n",
    "# using format() in dictionary \n",
    "print(\"I love {fun} computer {adj}\".format(**data))"
   ]
  },
  {
   "cell_type": "markdown",
   "metadata": {},
   "source": [
    "##### Formatting output using String method :"
   ]
  },
  {
   "cell_type": "code",
   "execution_count": 106,
   "metadata": {},
   "outputs": [
    {
     "name": "stdout",
     "output_type": "stream",
     "text": [
      "Center aligned string with fillchr: \n",
      "##########I love geeksforgeeks##########\n",
      "The left aligned string is : \n",
      "I love geeksforgeeks--------------------\n",
      "The right aligned string is : \n",
      "--------------------I love geeksforgeeks\n"
     ]
    }
   ],
   "source": [
    "cstr = \"I love geeksforgeeks\"\n",
    "    \n",
    "# Printing the center aligned string with fillchr  \n",
    "print (\"Center aligned string with fillchr: \")  \n",
    "print (cstr.center(40, '#'))  \n",
    "  \n",
    "# Printing the left aligned string with \"-\" padding   \n",
    "print (\"The left aligned string is : \")  \n",
    "print (cstr.ljust(40, '-')) \n",
    "  \n",
    "# Printing the right aligned string with \"-\" padding   \n",
    "print (\"The right aligned string is : \")  \n",
    "print (cstr.rjust(40, '-'))"
   ]
  },
  {
   "cell_type": "code",
   "execution_count": null,
   "metadata": {},
   "outputs": [],
   "source": []
  },
  {
   "cell_type": "markdown",
   "metadata": {},
   "source": [
    "## Data Types:-------------------->"
   ]
  },
  {
   "cell_type": "markdown",
   "metadata": {},
   "source": [
    "#### Strings:-\n",
    "    Strings are arrays of bytes representing Unicode characters"
   ]
  },
  {
   "cell_type": "code",
   "execution_count": 113,
   "metadata": {},
   "outputs": [
    {
     "name": "stdout",
     "output_type": "stream",
     "text": [
      "Initial String:  Hello, I'm a Geek\n"
     ]
    },
    {
     "ename": "TypeError",
     "evalue": "'str' object does not support item assignment",
     "output_type": "error",
     "traceback": [
      "\u001b[1;31m---------------------------------------------------------------------------\u001b[0m",
      "\u001b[1;31mTypeError\u001b[0m                                 Traceback (most recent call last)",
      "\u001b[1;32m<ipython-input-113-e33186997f2c>\u001b[0m in \u001b[0;36m<module>\u001b[1;34m\u001b[0m\n\u001b[0;32m      7\u001b[0m \u001b[1;33m\u001b[0m\u001b[0m\n\u001b[0;32m      8\u001b[0m \u001b[1;31m# Updating a character of the String\u001b[0m\u001b[1;33m\u001b[0m\u001b[1;33m\u001b[0m\u001b[1;33m\u001b[0m\u001b[0m\n\u001b[1;32m----> 9\u001b[1;33m \u001b[0mString1\u001b[0m\u001b[1;33m[\u001b[0m\u001b[1;36m2\u001b[0m\u001b[1;33m]\u001b[0m \u001b[1;33m=\u001b[0m \u001b[1;34m'p'\u001b[0m\u001b[1;33m\u001b[0m\u001b[1;33m\u001b[0m\u001b[0m\n\u001b[0m\u001b[0;32m     10\u001b[0m \u001b[0mprint\u001b[0m\u001b[1;33m(\u001b[0m\u001b[1;34m\"\\nUpdating character at 2nd Index: \"\u001b[0m\u001b[1;33m,\u001b[0m\u001b[0mString1\u001b[0m\u001b[1;33m)\u001b[0m\u001b[1;33m\u001b[0m\u001b[1;33m\u001b[0m\u001b[0m\n",
      "\u001b[1;31mTypeError\u001b[0m: 'str' object does not support item assignment"
     ]
    }
   ],
   "source": [
    "#Updation of a character:\n",
    "\n",
    "# Python Program to Update character of a String \n",
    "  \n",
    "String1 = \"Hello, I'm a Geek\"\n",
    "print(\"Initial String: \",String1)\n",
    "  \n",
    "# Updating a character of the String \n",
    "String1[2] = 'p'\n",
    "print(\"\\nUpdating character at 2nd Index: \",String1)"
   ]
  },
  {
   "cell_type": "code",
   "execution_count": 115,
   "metadata": {},
   "outputs": [
    {
     "name": "stdout",
     "output_type": "stream",
     "text": [
      "Initial String:  Hello, I'm a Geek\n",
      "\n",
      "Updated String:  Welcome to the Geek World\n"
     ]
    }
   ],
   "source": [
    "#Updating Entire String:\n",
    "String1 = \"Hello, I'm a Geek\"\n",
    "print(\"Initial String: \",String1) \n",
    "  \n",
    "# Updating a String \n",
    "String1 = \"Welcome to the Geek World\"\n",
    "print(\"\\nUpdated String: \",String1) "
   ]
  },
  {
   "cell_type": "raw",
   "metadata": {},
   "source": [
    "Deletion of a characternot su​pport since immutable"
   ]
  },
  {
   "cell_type": "code",
   "execution_count": 116,
   "metadata": {},
   "outputs": [
    {
     "name": "stdout",
     "output_type": "stream",
     "text": [
      "Initial String:  Hello, I'm a Geek\n"
     ]
    },
    {
     "ename": "NameError",
     "evalue": "name 'String1' is not defined",
     "output_type": "error",
     "traceback": [
      "\u001b[1;31m---------------------------------------------------------------------------\u001b[0m",
      "\u001b[1;31mNameError\u001b[0m                                 Traceback (most recent call last)",
      "\u001b[1;32m<ipython-input-116-126f628e0b5f>\u001b[0m in \u001b[0;36m<module>\u001b[1;34m\u001b[0m\n\u001b[0;32m      5\u001b[0m \u001b[1;31m# Deleting a String with the use of del\u001b[0m\u001b[1;33m\u001b[0m\u001b[1;33m\u001b[0m\u001b[1;33m\u001b[0m\u001b[0m\n\u001b[0;32m      6\u001b[0m \u001b[1;32mdel\u001b[0m \u001b[0mString1\u001b[0m\u001b[1;33m\u001b[0m\u001b[1;33m\u001b[0m\u001b[0m\n\u001b[1;32m----> 7\u001b[1;33m \u001b[0mprint\u001b[0m\u001b[1;33m(\u001b[0m\u001b[1;34m\"\\nDeleting entire String:\"\u001b[0m\u001b[1;33m,\u001b[0m \u001b[0mString1\u001b[0m\u001b[1;33m)\u001b[0m\u001b[1;33m\u001b[0m\u001b[1;33m\u001b[0m\u001b[0m\n\u001b[0m",
      "\u001b[1;31mNameError\u001b[0m: name 'String1' is not defined"
     ]
    }
   ],
   "source": [
    "#Deleting Entire String: \n",
    "String1 = \"Hello, I'm a Geek\"\n",
    "print(\"Initial String: \",String1) \n",
    "del String1  \n",
    "print(\"\\nDeleting entire String:\", String1) "
   ]
  },
  {
   "cell_type": "markdown",
   "metadata": {},
   "source": [
    " Escape Sequencing in Python------------------>"
   ]
  },
  {
   "cell_type": "markdown",
   "metadata": {},
   "source": [
    "* While printing Strings with single and double quotes in it causes SyntaxError because String already contains Single and Double Quotes and hence cannot be printed with the use of either of these. Hence, to print such a String either Triple Quotes are used or Escape sequences are used to print such Strings."
   ]
  },
  {
   "cell_type": "markdown",
   "metadata": {},
   "source": [
    "* To ignore the escape sequences in a String, r or R is used, this implies that the string is a raw string and escape sequences inside it are to be ignored."
   ]
  },
  {
   "cell_type": "code",
   "execution_count": 118,
   "metadata": {},
   "outputs": [
    {
     "name": "stdout",
     "output_type": "stream",
     "text": [
      "Initial String with use of Triple Quotes:  I'm a \"Geek\"\n",
      "\n",
      "Escaping Single Quote:  I'm a \"Geek\"\n",
      "\n",
      "Escaping Double Quotes:  I'm a \"Geek\"\n",
      "\n",
      "Escaping Backslashes:  C:\\Python\\Geeks\\\n",
      "\n",
      "Printing in HEX with the use of Escape Sequences:  This is Geeks in HEX\n",
      "\n",
      "Printing Raw String in HEX Format:  This is \\x47\\x65\\x65\\x6b\\x73 in \\x48\\x45\\x58\n"
     ]
    }
   ],
   "source": [
    "# Python Program for Escape Sequencing of String \n",
    "String1 = '''I'm a \"Geek\"'''\n",
    "print(\"Initial String with use of Triple Quotes: \",String1) \n",
    "  \n",
    "# Escaping Single Quote  \n",
    "String1 = 'I\\'m a \"Geek\"'\n",
    "print(\"\\nEscaping Single Quote: \", String1) \n",
    "  \n",
    "# Escaping Doule Quotes \n",
    "String1 = \"I'm a \\\"Geek\\\"\"\n",
    "print(\"\\nEscaping Double Quotes: \", String1) \n",
    "  \n",
    "# Printing Paths with the use of Escape Sequences \n",
    "String1 = \"C:\\\\Python\\\\Geeks\\\\\"\n",
    "print(\"\\nEscaping Backslashes: \",String1) \n",
    "  \n",
    "# Printing Geeks in HEX \n",
    "String1 = \"This is \\x47\\x65\\x65\\x6b\\x73 in \\x48\\x45\\x58\"\n",
    "print(\"\\nPrinting in HEX with the use of Escape Sequences: \",String1) \n",
    "  \n",
    "# Using raw String to,ignore Escape Sequences \n",
    "String1 = r\"This is \\x47\\x65\\x65\\x6b\\x73 in \\x48\\x45\\x58\"\n",
    "print(\"\\nPrinting Raw String in HEX Format: \",String1)"
   ]
  },
  {
   "cell_type": "code",
   "execution_count": 119,
   "metadata": {},
   "outputs": [
    {
     "name": "stdout",
     "output_type": "stream",
     "text": [
      "Print String in default order:  Geeks For Life\n",
      "\n",
      "Print String in Positional order:  For Geeks Life\n",
      "\n",
      "Print String in order of Keywords:  Life For Geeks\n",
      "\n",
      "Binary representation of 16 is  10000\n",
      "\n",
      "Exponent representation of 165.6458 is  1.656458e+02\n",
      "\n",
      "one-sixth is :  0.17\n",
      "\n",
      "Left, center and right alignment with Formatting:  |Geeks     |   for    |     Geeks|\n"
     ]
    }
   ],
   "source": [
    "# Default order \n",
    "String1 = \"{} {} {}\".format('Geeks', 'For', 'Life') \n",
    "print(\"Print String in default order: \",String1) \n",
    "  \n",
    "# Positional Formatting \n",
    "String1 = \"{1} {0} {2}\".format('Geeks', 'For', 'Life') \n",
    "print(\"\\nPrint String in Positional order: \",String1) \n",
    "  \n",
    "# Keyword Formatting \n",
    "String1 = \"{l} {f} {g}\".format(g = 'Geeks', f = 'For', l = 'Life') \n",
    "print(\"\\nPrint String in order of Keywords: \",String1) \n",
    "  \n",
    "# Formatting of Integers \n",
    "String1 = \"{0:b}\".format(16) \n",
    "print(\"\\nBinary representation of 16 is \",String1) \n",
    "  \n",
    "# Formatting of Floats \n",
    "String1 = \"{0:e}\".format(165.6458) \n",
    "print(\"\\nExponent representation of 165.6458 is \",String1) \n",
    "  \n",
    "# Rounding off Integers \n",
    "String1 = \"{0:.2f}\".format(1/6) \n",
    "print(\"\\none-sixth is : \",String1) \n",
    "  \n",
    "# String alignment \n",
    "String1 = \"|{:<10}|{:^10}|{:>10}|\".format('Geeks','for','Geeks') \n",
    "print(\"\\nLeft, center and right alignment with Formatting: \",String1)"
   ]
  },
  {
   "cell_type": "code",
   "execution_count": 17,
   "metadata": {},
   "outputs": [
    {
     "name": "stdout",
     "output_type": "stream",
     "text": [
      "Formatting in 3.2f format: \n",
      "The value of Integer1 is 12.35\n",
      "\n",
      "Formatting in 3.4f format: \n",
      "The value of Integer1 is 12.3457\n"
     ]
    }
   ],
   "source": [
    "# Python Program for Old Style Formatting of Integers \n",
    "Integer1 = 12.3456789\n",
    "print(\"Formatting in 3.2f format: \") \n",
    "print('The value of Integer1 is %3.2f' %Integer1) \n",
    "print(\"\\nFormatting in 3.4f format: \") \n",
    "print('The value of Integer1 is %3.4f' %Integer1)"
   ]
  },
  {
   "cell_type": "code",
   "execution_count": null,
   "metadata": {},
   "outputs": [],
   "source": []
  },
  {
   "cell_type": "markdown",
   "metadata": {},
   "source": [
    "##### Logical Operators on String in Python"
   ]
  },
  {
   "cell_type": "code",
   "execution_count": 1,
   "metadata": {},
   "outputs": [
    {
     "name": "stdout",
     "output_type": "stream",
     "text": [
      "''\n",
      "''\n",
      "'geeks'\n",
      "'geeks'\n",
      "'geeks'\n",
      "'for'\n",
      "'for'\n",
      "'geeks'\n",
      "False\n",
      "True\n"
     ]
    }
   ],
   "source": [
    "str1 = '' \n",
    "str2 = 'geeks'\n",
    "  \n",
    "# repr is used to print the string along with the quotes \n",
    "print(repr(str1 and str2))      # Returns str1  \n",
    "print(repr(str2 and str1))      # Returns str1 \n",
    "print(repr(str1 or str2))       # Returns str2  \n",
    "print(repr(str2 or str1))       # Returns str2 \n",
    "  \n",
    "str1 = 'for'\n",
    "  \n",
    "print(repr(str1 and str2))      # Returns str2  \n",
    "print(repr(str2 and str1))      # Returns str1 \n",
    "print(repr(str1 or str2))       # Returns str1  \n",
    "print(repr(str2 or str1))       # Returns str2 \n",
    "  \n",
    "str1='geeks'\n",
    "print(repr(not str1))          # Returns False \n",
    "  \n",
    "str1 = ''  \n",
    "print(repr(not str1))          # Returns True  "
   ]
  },
  {
   "cell_type": "code",
   "execution_count": 2,
   "metadata": {},
   "outputs": [
    {
     "name": "stdout",
     "output_type": "stream",
     "text": [
      "2020-01-07 18:20:23.575700\n",
      "datetime.datetime(2020, 1, 7, 18, 20, 23, 575700)\n"
     ]
    }
   ],
   "source": [
    "import datetime \n",
    "today = datetime.datetime.now() \n",
    "  \n",
    "# Prints readable format for date-time object \n",
    "print(today) \n",
    "  \n",
    "# prints the official format of date-time object \n",
    "print(repr(today))"
   ]
  },
  {
   "cell_type": "code",
   "execution_count": 3,
   "metadata": {},
   "outputs": [
    {
     "name": "stdout",
     "output_type": "stream",
     "text": [
      "Hello, Geeks.\n",
      "0.18181818181818182\n"
     ]
    }
   ],
   "source": [
    "s = 'Hello, Geeks.'\n",
    "print(s)\n",
    "s = 2.0/11.0\n",
    "print(str(s))"
   ]
  },
  {
   "cell_type": "code",
   "execution_count": 4,
   "metadata": {},
   "outputs": [
    {
     "name": "stdout",
     "output_type": "stream",
     "text": [
      "0.025\n"
     ]
    }
   ],
   "source": [
    "print(str(0.2/8))"
   ]
  },
  {
   "cell_type": "code",
   "execution_count": 5,
   "metadata": {},
   "outputs": [
    {
     "name": "stdout",
     "output_type": "stream",
     "text": [
      "'Hello, Geeks.'\n",
      "0.18181818181818182\n"
     ]
    }
   ],
   "source": [
    "s = 'Hello, Geeks.'\n",
    "print (repr(s)) \n",
    "print (repr(2.0/11.0))"
   ]
  },
  {
   "cell_type": "markdown",
   "metadata": {},
   "source": [
    "* Python considers empty strings as having boolean value of ‘false’ and non-empty string as having boolean value of ‘true’.\n",
    "* For ‘and’ operator if left value is true, then right value is checked and returned. If left value is false, then it is returned\n",
    "* For ‘or’ operator if left value is true, then it is returned, otherwise if left value is false, then right value is returned."
   ]
  },
  {
   "cell_type": "markdown",
   "metadata": {},
   "source": [
    "* Note that the bitwise operators (| , &) don’t work for strings."
   ]
  },
  {
   "cell_type": "markdown",
   "metadata": {},
   "source": [
    "###### String Formatting in Python using %"
   ]
  },
  {
   "cell_type": "code",
   "execution_count": 6,
   "metadata": {},
   "outputs": [
    {
     "name": "stdout",
     "output_type": "stream",
     "text": [
      "Variable as string = 15\n"
     ]
    }
   ],
   "source": [
    "variable = '15' \n",
    "print(\"Variable as string = %s\" %(variable))"
   ]
  },
  {
   "cell_type": "code",
   "execution_count": 7,
   "metadata": {},
   "outputs": [
    {
     "name": "stdout",
     "output_type": "stream",
     "text": [
      "hello Raushan, my age is 20 years.\n"
     ]
    }
   ],
   "source": [
    "print(\"hello %s, my age is %d years.\" %(\"Raushan\",20))"
   ]
  },
  {
   "cell_type": "markdown",
   "metadata": {},
   "source": [
    "###### String Template Class in Python"
   ]
  },
  {
   "cell_type": "code",
   "execution_count": 9,
   "metadata": {},
   "outputs": [
    {
     "name": "stdout",
     "output_type": "stream",
     "text": [
      "x is 1\n"
     ]
    }
   ],
   "source": [
    "# A Simple Python templaye example \n",
    "from string import Template \n",
    "t = Template('x is $x')          # creating template\n",
    "print (t.substitute({'x' : 1}))    # Substitute value of x in above template "
   ]
  },
  {
   "cell_type": "code",
   "execution_count": 10,
   "metadata": {},
   "outputs": [
    {
     "name": "stdout",
     "output_type": "stream",
     "text": [
      "Hi Ram, you have got 90 marks\n",
      "Hi Ankit, you have got 78 marks\n",
      "Hi Bob, you have got 92 marks\n"
     ]
    }
   ],
   "source": [
    "from string import Template \n",
    "Student = [('Ram',90), ('Ankit',78), ('Bob',92)] \n",
    "t = Template('Hi $name, you have got $marks marks') \n",
    "for i in Student: \n",
    "     print (t.substitute(name = i[0], marks = i[1])) "
   ]
  },
  {
   "cell_type": "markdown",
   "metadata": {},
   "source": [
    "###### How to split a string Python."
   ]
  },
  {
   "cell_type": "code",
   "execution_count": 11,
   "metadata": {},
   "outputs": [
    {
     "name": "stdout",
     "output_type": "stream",
     "text": [
      "['Geek1', 'Geek2', 'Geek3']\n",
      "['Geek1', '\\nGeek2 \\nGeek3']\n"
     ]
    }
   ],
   "source": [
    "line = \"Geek1 \\nGeek2 \\nGeek3\"; \n",
    "print(line.split())\n",
    "print(line.split(' ', 1))"
   ]
  },
  {
   "cell_type": "code",
   "execution_count": 12,
   "metadata": {},
   "outputs": [
    {
     "name": "stdout",
     "output_type": "stream",
     "text": [
      "['Raushan', 'is', 'a', 'good', 'boy.']\n",
      "['Raushan', 'is a good boy.']\n"
     ]
    }
   ],
   "source": [
    "line=\"Raushan is a good boy.\"\n",
    "print(line.split())\n",
    "print(line.split(' ', 1))"
   ]
  },
  {
   "cell_type": "code",
   "execution_count": 13,
   "metadata": {},
   "outputs": [
    {
     "name": "stdout",
     "output_type": "stream",
     "text": [
      "['Raushan', 'is', 'a', 'good', 'boy.']\n",
      "['Raushan', 'is', 'a good boy.']\n"
     ]
    }
   ],
   "source": [
    "line=\"Raushan is a good boy.\"\n",
    "print(line.split())\n",
    "print(line.split(' ', 2))"
   ]
  },
  {
   "cell_type": "markdown",
   "metadata": {},
   "source": [
    "###### Python Docstrings"
   ]
  },
  {
   "cell_type": "code",
   "execution_count": 14,
   "metadata": {},
   "outputs": [
    {
     "name": "stdout",
     "output_type": "stream",
     "text": [
      "Using __doc__:\n",
      "Demonstrate docstrings and does nothing really.\n",
      "Using help:\n",
      "Help on function my_function in module __main__:\n",
      "\n",
      "my_function()\n",
      "    Demonstrate docstrings and does nothing really.\n",
      "\n"
     ]
    }
   ],
   "source": [
    "def my_function(): \n",
    "    \"\"\"Demonstrate docstrings and does nothing really.\"\"\"\n",
    "    return None\n",
    "  \n",
    "print (\"Using __doc__:\")\n",
    "print (my_function.__doc__ )\n",
    "  \n",
    "print (\"Using help:\")\n",
    "help(my_function)"
   ]
  },
  {
   "cell_type": "code",
   "execution_count": 15,
   "metadata": {},
   "outputs": [
    {
     "name": "stdout",
     "output_type": "stream",
     "text": [
      "Help on class ComplexNumber in module __main__:\n",
      "\n",
      "class ComplexNumber(builtins.object)\n",
      " |  This is a class for mathematical operations on complex numbers.\n",
      " |  Attributes: \n",
      " |      real (int): The real part of complex number. \n",
      " |      imag (int): The imaginary part of complex number.\n",
      " |  \n",
      " |  Methods defined here:\n",
      " |  \n",
      " |  __init__(self, real, imag)\n",
      " |      The constructor for ComplexNumber class.\n",
      " |      Parameters: \n",
      " |         real (int): The real part of complex number. \n",
      " |         imag (int): The imaginary part of complex number.\n",
      " |  \n",
      " |  add(self, num)\n",
      " |      The function to add two Complex Numbers. \n",
      " |      Parameters: \n",
      " |          num (ComplexNumber): The complex number to be added.\n",
      " |      Returns: \n",
      " |          ComplexNumber: A complex number which contains the sum.\n",
      " |  \n",
      " |  ----------------------------------------------------------------------\n",
      " |  Data descriptors defined here:\n",
      " |  \n",
      " |  __dict__\n",
      " |      dictionary for instance variables (if defined)\n",
      " |  \n",
      " |  __weakref__\n",
      " |      list of weak references to the object (if defined)\n",
      "\n",
      "Help on function add in module __main__:\n",
      "\n",
      "add(self, num)\n",
      "    The function to add two Complex Numbers. \n",
      "    Parameters: \n",
      "        num (ComplexNumber): The complex number to be added.\n",
      "    Returns: \n",
      "        ComplexNumber: A complex number which contains the sum.\n",
      "\n"
     ]
    }
   ],
   "source": [
    "class ComplexNumber: \n",
    "    \"\"\"This is a class for mathematical operations on complex numbers.\n",
    "    Attributes: \n",
    "        real (int): The real part of complex number. \n",
    "        imag (int): The imaginary part of complex number.\"\"\"\n",
    "  \n",
    "    def __init__(self, real, imag): \n",
    "        \"\"\"The constructor for ComplexNumber class.\n",
    "        Parameters: \n",
    "           real (int): The real part of complex number. \n",
    "           imag (int): The imaginary part of complex number.\"\"\"\n",
    "  \n",
    "    def add(self, num): \n",
    "        \"\"\"The function to add two Complex Numbers. \n",
    "        Parameters: \n",
    "            num (ComplexNumber): The complex number to be added.\n",
    "        Returns: \n",
    "            ComplexNumber: A complex number which contains the sum.\"\"\"\n",
    "  \n",
    "        re = self.real + num.real \n",
    "        im = self.imag + num.imag \n",
    "  \n",
    "        return ComplexNumber(re, im) \n",
    "  \n",
    "help(ComplexNumber)  # to access Class docstring \n",
    "help(ComplexNumber.add)  # to access method's docstring "
   ]
  },
  {
   "cell_type": "code",
   "execution_count": null,
   "metadata": {},
   "outputs": [],
   "source": []
  },
  {
   "cell_type": "code",
   "execution_count": 19,
   "metadata": {},
   "outputs": [
    {
     "name": "stdout",
     "output_type": "stream",
     "text": [
      "3\n",
      "0\n",
      "true\n"
     ]
    }
   ],
   "source": [
    "# Function to check if a string can become empty by recursively deleting a given sub-string \n",
    "def checkEmpty(input, pattern):    \n",
    "    if len(input)== 0: \n",
    "         return 'false'\n",
    "    while (len(input) != 0): \n",
    "          # find sub-string in main string \n",
    "          index = input.find(pattern)\n",
    "          print(index)\n",
    "            \n",
    "          # check if sub-string founded or not \n",
    "          if (index ==(-1)):\n",
    "              return 'false'\n",
    "            \n",
    "          # slice input string in two parts and concatenate \n",
    "          input = input[0:index] + input[index + len(pattern):]              \n",
    "    return('true')\n",
    "  \n",
    "# Driver program \n",
    "if __name__ == \"__main__\": \n",
    "    input ='GEEGEEKSKS'\n",
    "    pattern ='GEEKS'\n",
    "    print(checkEmpty(input, pattern))"
   ]
  },
  {
   "cell_type": "markdown",
   "metadata": {},
   "source": [
    "###### Python Counter| Find all duplicate characters in string"
   ]
  },
  {
   "cell_type": "code",
   "execution_count": 23,
   "metadata": {},
   "outputs": [
    {
     "name": "stdout",
     "output_type": "stream",
     "text": [
      "Counter({'e': 4, 'g': 2, 'k': 2, 's': 2, 'f': 1, 'o': 1, 'r': 1})\n",
      "dict_values([2, 4, 2, 2, 1, 1, 1]) dict_keys(['g', 'e', 'k', 's', 'f', 'o', 'r'])\n",
      "g e k s "
     ]
    }
   ],
   "source": [
    "from collections import Counter \n",
    "  \n",
    "def find_dup_char(input): \n",
    "    # now create dictionary using counter method which will have strings as key and their frequencies as value \n",
    "    WC = Counter(input) \n",
    "    print(WC)\n",
    "    print(WC.values(), WC.keys())\n",
    "    j = -1\n",
    "\n",
    "    # Finding no. of  occurrence of a character and get the index of it. \n",
    "    for i in WC.values(): \n",
    "        j = j + 1\n",
    "        if( i > 1 ): \n",
    "            print(list(WC.keys())[j],end=\" \")\n",
    "  \n",
    "# Driver program \n",
    "if __name__ == \"__main__\": \n",
    "    input = 'geeksforgeeks'\n",
    "    find_dup_char(input)"
   ]
  },
  {
   "cell_type": "code",
   "execution_count": 24,
   "metadata": {},
   "outputs": [
    {
     "name": "stdout",
     "output_type": "stream",
     "text": [
      "abcdefghijklmnopqrstuvwxyzABCDEFGHIJKLMNOPQRSTUVWXYZ\n",
      "abcdefghijklmnopqrstuvwxyz\n",
      "A\n"
     ]
    }
   ],
   "source": [
    "import string\n",
    "print(string.ascii_letters)\n",
    "print(string.ascii_lowercase)\n",
    "print(string.capwords(\"a\"))"
   ]
  },
  {
   "cell_type": "code",
   "execution_count": null,
   "metadata": {},
   "outputs": [],
   "source": []
  },
  {
   "cell_type": "markdown",
   "metadata": {},
   "source": [
    "### List"
   ]
  },
  {
   "cell_type": "code",
   "execution_count": 26,
   "metadata": {},
   "outputs": [
    {
     "name": "stdout",
     "output_type": "stream",
     "text": [
      "[1, 2, 3, 4, 5, 6, 7]\n",
      "[1, 3, 4, 5, 6, 7]\n"
     ]
    }
   ],
   "source": [
    "li=[1,2,3,4,5,6,7,8]\n",
    "li.pop()\n",
    "print(li)\n",
    "li.pop(1)   #index position\n",
    "print(li)"
   ]
  },
  {
   "cell_type": "code",
   "execution_count": 27,
   "metadata": {},
   "outputs": [
    {
     "name": "stdout",
     "output_type": "stream",
     "text": [
      "The sum of the list elements is : 17\n",
      "The maximum element of the list is : 6\n"
     ]
    }
   ],
   "source": [
    "# python code to demonstrate working of reduce(fun,seq) importing functools for reduce() \n",
    "import functools\n",
    "lis = [ 1 , 3, 5, 6, 2, ]  \n",
    "print (\"The sum of the list elements is : \",end=\"\") \n",
    "print (functools.reduce(lambda a,b : a+b,lis)) \n",
    "print (\"The maximum element of the list is : \",end=\"\") \n",
    "print (functools.reduce(lambda a,b : a if a > b else b,lis))"
   ]
  },
  {
   "cell_type": "code",
   "execution_count": 28,
   "metadata": {},
   "outputs": [
    {
     "name": "stdout",
     "output_type": "stream",
     "text": [
      "The sum of the list elements is : 17\n",
      "The product of list elements is : 180\n",
      "The concatenated product is : geeksforgeeks\n"
     ]
    }
   ],
   "source": [
    "# python code to demonstrate working of reduce() using operator functions  \n",
    "import functools \n",
    "import operator\n",
    "lis = [ 1 , 3, 5, 6, 2, ] \n",
    "  \n",
    "# using reduce to compute sum of list using operator functions \n",
    "print (\"The sum of the list elements is : \",end=\"\") \n",
    "print (functools.reduce(operator.add,lis)) \n",
    "  \n",
    "# using reduce to compute product using operator functions \n",
    "print (\"The product of list elements is : \",end=\"\") \n",
    "print (functools.reduce(operator.mul,lis)) \n",
    "  \n",
    "# using reduce to concatenate string \n",
    "print (\"The concatenated product is : \",end=\"\") \n",
    "print (functools.reduce(operator.add,[\"geeks\",\"for\",\"geeks\"])) "
   ]
  },
  {
   "cell_type": "code",
   "execution_count": 29,
   "metadata": {},
   "outputs": [
    {
     "name": "stdout",
     "output_type": "stream",
     "text": [
      "The summation of list using accumulate is :[1, 4, 8, 18, 22]\n",
      "The summation of list using reduce is :22\n"
     ]
    }
   ],
   "source": [
    "# python code to demonstrate summation  using reduce() and accumulate() \n",
    "import itertools \n",
    "import functools  \n",
    "lis = [ 1, 3, 4, 10, 4 ] \n",
    "  \n",
    "# priting summation using accumulate() \n",
    "print (\"The summation of list using accumulate is :\",end=\"\") \n",
    "print (list(itertools.accumulate(lis,lambda x,y : x+y))) \n",
    "  \n",
    "# priting summation using reduce() \n",
    "print (\"The summation of list using reduce is :\",end=\"\") \n",
    "print (functools.reduce(lambda x,y:x+y,lis))"
   ]
  },
  {
   "cell_type": "markdown",
   "metadata": {},
   "source": [
    "##### Enumerate() in Python"
   ]
  },
  {
   "cell_type": "code",
   "execution_count": 30,
   "metadata": {},
   "outputs": [
    {
     "name": "stdout",
     "output_type": "stream",
     "text": [
      "Return type: <class 'enumerate'>\n",
      "[(0, 'eat'), (1, 'sleep'), (2, 'repeat')]\n",
      "[(2, 'g'), (3, 'e'), (4, 'e'), (5, 'k')]\n"
     ]
    }
   ],
   "source": [
    "# Python program to illustrate enumerate function \n",
    "l1 = [\"eat\",\"sleep\",\"repeat\"] \n",
    "s1 = \"geek\"\n",
    "  \n",
    "# creating enumerate objects \n",
    "obj1 = enumerate(l1) \n",
    "obj2 = enumerate(s1) \n",
    "  \n",
    "print(\"Return type:\",type(obj1)) \n",
    "print(list(enumerate(l1))) \n",
    "  \n",
    "# changing start index to 2 from 0 \n",
    "print(list(enumerate(s1,2)))"
   ]
  },
  {
   "cell_type": "code",
   "execution_count": 31,
   "metadata": {},
   "outputs": [
    {
     "name": "stdout",
     "output_type": "stream",
     "text": [
      "0 a\n",
      "1 b\n",
      "2 c\n",
      "3 d\n"
     ]
    }
   ],
   "source": [
    "for i,j in enumerate([\"a\",\"b\",\"c\",\"d\"]):\n",
    "    print(i,j)"
   ]
  },
  {
   "cell_type": "code",
   "execution_count": 32,
   "metadata": {},
   "outputs": [
    {
     "name": "stdout",
     "output_type": "stream",
     "text": [
      "(0, 'eat')\n",
      "(1, 'sleep')\n",
      "(2, 'repeat')\n",
      "\n",
      "100 eat\n",
      "101 sleep\n",
      "102 repeat\n"
     ]
    }
   ],
   "source": [
    "# Python program to illustrate enumerate function in loops \n",
    "l1 = [\"eat\",\"sleep\",\"repeat\"] \n",
    "  \n",
    "# printing the tuples in object directly \n",
    "for ele in enumerate(l1): \n",
    "    print(ele) \n",
    "print()\n",
    "# changing index and printing separately \n",
    "for count,ele in enumerate(l1,100): \n",
    "    print(count,ele) "
   ]
  },
  {
   "cell_type": "markdown",
   "metadata": {},
   "source": [
    "##### filter():-"
   ]
  },
  {
   "cell_type": "code",
   "execution_count": 33,
   "metadata": {},
   "outputs": [
    {
     "name": "stdout",
     "output_type": "stream",
     "text": [
      "The filtered letters are:\n",
      "e\n",
      "e\n"
     ]
    }
   ],
   "source": [
    "# function that filters vowels \n",
    "def fun(variable): \n",
    "    letters = ['a', 'e', 'i', 'o', 'u'] \n",
    "    if (variable in letters): \n",
    "        return True\n",
    "    else: \n",
    "        return False\n",
    "  \n",
    "  \n",
    "# sequence \n",
    "sequence = ['g', 'e', 'e', 'j', 'k', 's', 'p', 'r'] \n",
    "  \n",
    "# using filter function \n",
    "filtered = filter(fun, sequence) \n",
    "  \n",
    "print('The filtered letters are:') \n",
    "for s in filtered: \n",
    "    print(s)"
   ]
  },
  {
   "cell_type": "code",
   "execution_count": 38,
   "metadata": {},
   "outputs": [
    {
     "name": "stdout",
     "output_type": "stream",
     "text": [
      "[1, 3, 5, 13]\n",
      "[0, 2, 8]\n"
     ]
    }
   ],
   "source": [
    "#It is normally used with Lambda functions to separate list, tuple, or sets.\n",
    "# a list contains both even and odd numbers.  \n",
    "seq = [0, 1, 2, 3, 5, 8, 13] \n",
    "  \n",
    "# result contains odd numbers of the list \n",
    "result = filter(lambda x: x % 2, seq) \n",
    "print(list(result)) \n",
    "  \n",
    "# result contains even numbers of the list \n",
    "result = filter(lambda x: x % 2 == 0, seq) \n",
    "print(list(result))"
   ]
  },
  {
   "cell_type": "markdown",
   "metadata": {},
   "source": [
    "##### Python map() function"
   ]
  },
  {
   "cell_type": "code",
   "execution_count": 39,
   "metadata": {},
   "outputs": [
    {
     "name": "stdout",
     "output_type": "stream",
     "text": [
      "[2, 4, 6, 8]\n"
     ]
    }
   ],
   "source": [
    "#CODE 1\n",
    "def addition(n): \n",
    "    return n + n \n",
    "  \n",
    "# We double all numbers using map() \n",
    "numbers = (1, 2, 3, 4) \n",
    "result = map(addition, numbers) \n",
    "print(list(result))"
   ]
  },
  {
   "cell_type": "code",
   "execution_count": 40,
   "metadata": {},
   "outputs": [
    {
     "name": "stdout",
     "output_type": "stream",
     "text": [
      "[2, 4, 6, 8]\n"
     ]
    }
   ],
   "source": [
    "# Double all numbers using map and lambda \n",
    "numbers = (1, 2, 3, 4) \n",
    "result = map(lambda x: x + x, numbers) \n",
    "print(list(result))"
   ]
  },
  {
   "cell_type": "code",
   "execution_count": 41,
   "metadata": {},
   "outputs": [
    {
     "name": "stdout",
     "output_type": "stream",
     "text": [
      "[5, 7, 9]\n"
     ]
    }
   ],
   "source": [
    "# Add two lists using map and lambda \n",
    "numbers1 = [1, 2, 3] \n",
    "numbers2 = [4, 5, 6] \n",
    "result = map(lambda x, y: x + y, numbers1, numbers2) \n",
    "print(list(result))"
   ]
  },
  {
   "cell_type": "code",
   "execution_count": 44,
   "metadata": {},
   "outputs": [
    {
     "name": "stdout",
     "output_type": "stream",
     "text": [
      "[['s', 'a', 't'], ['b', 'a', 't'], ['c', 'a', 't'], ['m', 'a', 't']]\n"
     ]
    }
   ],
   "source": [
    "l = ['sat', 'bat', 'cat', 'mat'] \n",
    "test = list(map(list, l)) \n",
    "print(test)"
   ]
  },
  {
   "cell_type": "markdown",
   "metadata": {},
   "source": [
    "##### lambda:-"
   ]
  },
  {
   "cell_type": "code",
   "execution_count": 45,
   "metadata": {},
   "outputs": [
    {
     "name": "stdout",
     "output_type": "stream",
     "text": [
      "343\n",
      "125\n"
     ]
    }
   ],
   "source": [
    "# Python code to illustrate cube of a number showing difference between def() and lambda(). \n",
    "def cube(y): \n",
    "    return y*y*y; \n",
    "g = lambda x: x*x*x \n",
    "print(g(7)) \n",
    "print(cube(5))"
   ]
  },
  {
   "cell_type": "markdown",
   "metadata": {},
   "source": [
    "##### some list programs:-"
   ]
  },
  {
   "cell_type": "markdown",
   "metadata": {},
   "source": [
    "##### 1.Python List Comprehensions vs Generator Expressions:-"
   ]
  },
  {
   "cell_type": "markdown",
   "metadata": {},
   "source": [
    "What are Generator Expressions?\n",
    "Generator Expressions are somewhat similar to list comprehensions, but the former doesn’t construct list object. Instead of creating a list and keeping the whole sequence in the memory, the generator generates the next element in demand.\n",
    "When a normal function with a return statement is called, it terminates whenever it gets a return statement. But a function with a yield statement saves the state of the function and can be picked up from the same state, next time the function is called.\n",
    "The Generator Expression allows us to create a generator without the yield keyword.\n",
    "\n",
    "Syntax Difference: Parenthesis are used in place of square brackets."
   ]
  },
  {
   "cell_type": "code",
   "execution_count": 48,
   "metadata": {},
   "outputs": [
    {
     "name": "stdout",
     "output_type": "stream",
     "text": [
      "[0, 2, 4, 6, 8, 10]\n",
      "<generator object <genexpr> at 0x0000028592F01728>\n",
      "0 2 4 6 8 10 "
     ]
    }
   ],
   "source": [
    "# List Comprehension \n",
    "list_comprehension = [i for i in range(11) if i % 2 == 0] \n",
    "print(list_comprehension) \n",
    "\n",
    "# Generator Expression \n",
    "generator_expression = (i for i in range(11) if i % 2 == 0)\n",
    "print(generator_expression)\n",
    "\n",
    "for i in generator_expression: \n",
    "    print(i, end=\" \")"
   ]
  },
  {
   "cell_type": "code",
   "execution_count": 49,
   "metadata": {},
   "outputs": [
    {
     "name": "stdout",
     "output_type": "stream",
     "text": [
      "x =  87624\n",
      "y =  88\n"
     ]
    }
   ],
   "source": [
    "# difference b/w them--->generator expression are memory efficient\n",
    "# import getsizeof from sys module \n",
    "from sys import getsizeof \n",
    "  \n",
    "comp = [i for i in range(10000)] \n",
    "gen = (i for i in range(10000)) \n",
    "  \n",
    "#gives size for list comprehension \n",
    "x = getsizeof(comp)  \n",
    "print(\"x = \", x) \n",
    "  \n",
    "#gives size for generator expression \n",
    "y = getsizeof(gen)  \n",
    "print(\"y = \", y)"
   ]
  },
  {
   "cell_type": "code",
   "execution_count": 50,
   "metadata": {},
   "outputs": [
    {
     "name": "stdout",
     "output_type": "stream",
     "text": [
      "5.3570355\n",
      "5.110000000030368e-05\n"
     ]
    }
   ],
   "source": [
    "#generator expressions are faster than list comprehension and hence time efficient.\n",
    "#List Comprehension:  \n",
    "import timeit   \n",
    "print(timeit.timeit('''list_com = [i for i in range(100) if i % 2 == 0]''', number=1000000)) \n",
    "#Generator Expression: \n",
    "print(timeit.timeit('''gen_exp = (i for i in range(100) if i % 2 == 0)''', number=100))"
   ]
  },
  {
   "cell_type": "code",
   "execution_count": 51,
   "metadata": {},
   "outputs": [
    {
     "name": "stdout",
     "output_type": "stream",
     "text": [
      "3.5970332000000056\n"
     ]
    }
   ],
   "source": [
    "import timeit\n",
    "print(timeit.timeit('''sum=0\\nfor i in range(100):\\n\\tsum+=i'''))"
   ]
  },
  {
   "cell_type": "code",
   "execution_count": 53,
   "metadata": {},
   "outputs": [
    {
     "name": "stdout",
     "output_type": "stream",
     "text": [
      "Intersection :  [3, 5]\n"
     ]
    }
   ],
   "source": [
    "# Function to find intersection of two arrays \n",
    "  \n",
    "def interSection(arr1,arr2):\n",
    "     result = list(filter(lambda x: x in arr1, arr2)) \n",
    "     print (\"Intersection : \",result) \n",
    "  \n",
    "# Driver program \n",
    "if __name__ == \"__main__\": \n",
    "     arr1 = [1, 3, 4, 5, 7] \n",
    "     arr2 = [2, 3, 5, 6] \n",
    "     interSection(arr1,arr2)"
   ]
  },
  {
   "cell_type": "code",
   "execution_count": 54,
   "metadata": {},
   "outputs": [
    {
     "name": "stdout",
     "output_type": "stream",
     "text": [
      "2\n"
     ]
    }
   ],
   "source": [
    "#Python map function to find row with maximum number of 1’s\n",
    "# Function to find the row with maximum number of 1's \n",
    "def maxOnes(input):\n",
    "     result = list(map(sum,input)) \n",
    "     print (result.index(max(result))) \n",
    "  \n",
    "# Driver program \n",
    "if __name__ == \"__main__\": \n",
    "    input = [[0, 1, 1, 1],[0, 0, 1, 1],[1, 1, 1, 1],[0, 0, 0, 0]] \n",
    "    maxOnes(input) \n"
   ]
  },
  {
   "cell_type": "markdown",
   "metadata": {},
   "source": [
    "##### Prefix sum array in Python using accumulate function"
   ]
  },
  {
   "cell_type": "code",
   "execution_count": 55,
   "metadata": {},
   "outputs": [
    {
     "name": "stdout",
     "output_type": "stream",
     "text": [
      "Sum : [4, 10, 22]\n"
     ]
    }
   ],
   "source": [
    "# function to find cumulative sum of array \n",
    "from itertools import accumulate \n",
    "  \n",
    "def cumulativeSum(input): \n",
    "      print (\"Sum :\", list(accumulate(input))) \n",
    "  \n",
    "# Driver program \n",
    "if __name__ == \"__main__\": \n",
    "    input = [4, 6, 12] \n",
    "    cumulativeSum(input)"
   ]
  },
  {
   "cell_type": "markdown",
   "metadata": {},
   "source": [
    "##### Python | Sort the values of first list using second list"
   ]
  },
  {
   "cell_type": "code",
   "execution_count": 62,
   "metadata": {},
   "outputs": [
    {
     "name": "stdout",
     "output_type": "stream",
     "text": [
      "(0, 'a')\n",
      "(1, 'b')\n",
      "(1, 'c')\n",
      "(0, 'd')\n",
      "(1, 'e')\n",
      "(2, 'f')\n",
      "(2, 'g')\n",
      "(0, 'h')\n",
      "(1, 'i')\n",
      "a  d  h  b  c  e  i  f  g  \n",
      " ['a', 'd', 'h', 'b', 'c', 'e', 'i', 'f', 'g']\n"
     ]
    }
   ],
   "source": [
    "x = [\"a\", \"b\", \"c\", \"d\", \"e\", \"f\", \"g\", \"h\", \"i\"] \n",
    "y = [ 0,   1,   1,    0,   1,   2,   2,   0,   1]\n",
    "\n",
    "zipped_pairs = zip(y,x)\n",
    "for i in zipped_pairs:\n",
    "    print(i)\n",
    "    \n",
    "zipped_pairs = zip(y,x)\n",
    "z = [i for _, i in sorted(zipped_pairs)]\n",
    "for i in z:\n",
    "    print(i, end=\"  \")\n",
    "print(\"\\n\",z)"
   ]
  },
  {
   "cell_type": "code",
   "execution_count": 63,
   "metadata": {},
   "outputs": [
    {
     "name": "stdout",
     "output_type": "stream",
     "text": [
      "<zip object at 0x0000028592F12288>\n",
      "(0, 'a')\n",
      "(1, 'b')\n",
      "(1, 'c')\n",
      "(0, 'd')\n",
      "(1, 'e')\n",
      "(2, 'f')\n",
      "(2, 'g')\n",
      "(0, 'h')\n",
      "(1, 'i')\n",
      "[]\n"
     ]
    }
   ],
   "source": [
    "x = [\"a\", \"b\", \"c\", \"d\", \"e\", \"f\", \"g\", \"h\", \"i\"] \n",
    "y = [ 0,   1,   1,    0,   1,   2,   2,   0,   1]\n",
    "\n",
    "zipped_pairs = zip(y,x)\n",
    "print(zipped_pairs)\n",
    "for i in zipped_pairs:\n",
    "    print(i)\n",
    "\n",
    "z = [i for g, i in sorted(zipped_pairs)]\n",
    "\n",
    "for i in z:\n",
    "    print(i)\n",
    "    \n",
    "print(z)"
   ]
  },
  {
   "cell_type": "code",
   "execution_count": 64,
   "metadata": {},
   "outputs": [
    {
     "name": "stdout",
     "output_type": "stream",
     "text": [
      "['a', 'd', 'h', 'b', 'c', 'e', 'i', 'f', 'g']\n",
      "['g', 'k', 'r', 'e', 'e', 'g', 's', 'f', 'o']\n"
     ]
    }
   ],
   "source": [
    "# Python program to sort one list using the other list \n",
    "  \n",
    "def sort_list(list1, list2): \n",
    "    zipped_pairs = zip(list2, list1) \n",
    "    z = [x for _, x in sorted(zipped_pairs)] \n",
    "    return z \n",
    "\n",
    "# driver code \n",
    "x = [\"a\", \"b\", \"c\", \"d\", \"e\", \"f\", \"g\", \"h\", \"i\"] \n",
    "y = [ 0,   1,   1,    0,   1,   2,   2,   0,   1] \n",
    "print(sort_list(x, y)) \n",
    "x = [\"g\", \"e\", \"e\", \"k\", \"s\", \"f\", \"o\", \"r\", \"g\", \"e\", \"e\", \"k\", \"s\"] \n",
    "y = [ 0,   1,   1,    0,   1,   2,   2,   0,   1] \n",
    "print(sort_list(x, y))"
   ]
  },
  {
   "cell_type": "markdown",
   "metadata": {},
   "source": [
    "##### Python | Print all sublists of a list"
   ]
  },
  {
   "cell_type": "code",
   "execution_count": 67,
   "metadata": {},
   "outputs": [
    {
     "name": "stdout",
     "output_type": "stream",
     "text": [
      "[[], [1], [1, 2], [1, 2, 3], [2], [2, 3], [3]]\n"
     ]
    }
   ],
   "source": [
    "def sub_lists(list1):\n",
    "    # store all the sublists  \n",
    "    sublist = [[]] \n",
    "    # first loop  \n",
    "    for i in range(len(list1) + 1):   \n",
    "        for j in range(i + 1, len(list1) + 1): \n",
    "            sub = list1[i:j] \n",
    "            sublist.append(sub) \n",
    "    return sublist \n",
    "  \n",
    "# driver code \n",
    "l1 = [1, 2, 3] \n",
    "print(sub_lists(l1))"
   ]
  },
  {
   "cell_type": "code",
   "execution_count": null,
   "metadata": {},
   "outputs": [],
   "source": []
  },
  {
   "cell_type": "code",
   "execution_count": null,
   "metadata": {},
   "outputs": [],
   "source": []
  },
  {
   "cell_type": "code",
   "execution_count": null,
   "metadata": {},
   "outputs": [],
   "source": []
  },
  {
   "cell_type": "code",
   "execution_count": null,
   "metadata": {},
   "outputs": [],
   "source": []
  },
  {
   "cell_type": "markdown",
   "metadata": {},
   "source": [
    "##### Python | Iterate over multiple lists simultaneously"
   ]
  },
  {
   "cell_type": "code",
   "execution_count": 69,
   "metadata": {},
   "outputs": [
    {
     "name": "stdout",
     "output_type": "stream",
     "text": [
      "1 red 255\n",
      "2 white 256\n"
     ]
    }
   ],
   "source": [
    "# Python progam to iterate over 3 lists using zip\n",
    "  \n",
    "import itertools  \n",
    "  \n",
    "num = [1, 2, 3] \n",
    "color = ['red', 'white', 'black'] \n",
    "value = [255, 256] \n",
    "  \n",
    "# iterates over 3 lists and excutes  2 times as len(value)= 2 which is the minimum among all the three  \n",
    "for (a, b, c) in zip(num, color, value): \n",
    "     print(a, b, c) "
   ]
  },
  {
   "cell_type": "code",
   "execution_count": 70,
   "metadata": {},
   "outputs": [
    {
     "name": "stdout",
     "output_type": "stream",
     "text": [
      "1 red 255\n",
      "2 while 256\n",
      "3 black None\n"
     ]
    }
   ],
   "source": [
    "# Python progam to iterate over 3 lists using zip and izip function \n",
    "  \n",
    "import itertools  \n",
    "num = [1, 2, 3] \n",
    "color = ['red', 'while', 'black'] \n",
    "value = [255, 256] \n",
    "# iterates over 3 lists and till all are exhausted \n",
    "for (a, b, c) in itertools.zip_longest(num, color, value): \n",
    "    print (a, b, c)"
   ]
  },
  {
   "cell_type": "code",
   "execution_count": 71,
   "metadata": {},
   "outputs": [
    {
     "name": "stdout",
     "output_type": "stream",
     "text": [
      "['apple', 'ape']\n"
     ]
    }
   ],
   "source": [
    "# Function to find all close matches of input string in given list of possible strings \n",
    "from difflib import get_close_matches \n",
    "  \n",
    "def closeMatches(patterns, word): \n",
    "     print(get_close_matches(word, patterns)) \n",
    "  \n",
    "# Driver program \n",
    "if __name__ == \"__main__\": \n",
    "    word = 'appel'\n",
    "    patterns = ['ape', 'apple', 'peach', 'puppy'] \n",
    "    closeMatches(patterns, word)"
   ]
  },
  {
   "cell_type": "code",
   "execution_count": 72,
   "metadata": {},
   "outputs": [
    {
     "name": "stdout",
     "output_type": "stream",
     "text": [
      "rox\n",
      "rxo\n",
      "orx\n",
      "oxr\n",
      "xro\n",
      "xor\n"
     ]
    }
   ],
   "source": [
    "# Function to find permutations of a given string \n",
    "from itertools import permutations \n",
    "\n",
    "def allPermutations(str): \n",
    "     # Get all permutations of string 'ABC' \n",
    "     permList = permutations(str) \n",
    "     # print all permutations \n",
    "     for perm in list(permList): \n",
    "         print (''.join(perm)) \n",
    "        \n",
    "# Driver program \n",
    "if __name__ == \"__main__\": \n",
    "    str = 'rox'\n",
    "    allPermutations(str)"
   ]
  },
  {
   "cell_type": "code",
   "execution_count": 73,
   "metadata": {},
   "outputs": [
    {
     "name": "stdout",
     "output_type": "stream",
     "text": [
      "deque(['Ram', 'Tarun', 'Asif', 'John'])\n",
      "deque(['Ram', 'Tarun', 'Asif', 'John', 'Akbar'])\n",
      "deque(['Ram', 'Tarun', 'Asif', 'John', 'Akbar', 'Birbal'])\n",
      "Ram\n",
      "Tarun\n",
      "deque(['Asif', 'John', 'Akbar', 'Birbal'])\n"
     ]
    }
   ],
   "source": [
    "# Python code to demonstrate Implementing Queue using deque and list \n",
    "from collections import deque \n",
    "queue = deque([\"Ram\", \"Tarun\", \"Asif\", \"John\"]) \n",
    "print(queue) \n",
    "queue.append(\"Akbar\") \n",
    "print(queue) \n",
    "queue.append(\"Birbal\") \n",
    "print(queue) \n",
    "print(queue.popleft())                  \n",
    "print(queue.popleft())                  \n",
    "print(queue)"
   ]
  },
  {
   "cell_type": "code",
   "execution_count": 74,
   "metadata": {},
   "outputs": [
    {
     "name": "stdout",
     "output_type": "stream",
     "text": [
      "The list printed sorting by age: \n",
      "[{'name': 'Nikhil', 'age': 19}, {'name': 'Nandini', 'age': 20}, {'name': 'Manjeet', 'age': 20}]\n",
      "\r\n",
      "The list printed sorting by age and name: \n",
      "[{'name': 'Nikhil', 'age': 19}, {'name': 'Manjeet', 'age': 20}, {'name': 'Nandini', 'age': 20}]\n",
      "\r\n",
      "The list printed sorting by age in descending order: \n",
      "[{'name': 'Nandini', 'age': 20}, {'name': 'Manjeet', 'age': 20}, {'name': 'Nikhil', 'age': 19}]\n"
     ]
    }
   ],
   "source": [
    "# Python code demonstrate the working of sorted() and itemgetter \n",
    "  \n",
    "# importing \"operator\" for implementing itemgetter \n",
    "from operator import itemgetter \n",
    "  \n",
    "# Initializing list of dictionaries \n",
    "lis = [{ \"name\" : \"Nandini\", \"age\" : 20},  \n",
    "{ \"name\" : \"Manjeet\", \"age\" : 20 }, \n",
    "{ \"name\" : \"Nikhil\" , \"age\" : 19 }] \n",
    "  \n",
    "# using sorted and itemgetter to print list sorted by age  \n",
    "print (\"The list printed sorting by age: \")\n",
    "print (sorted(lis, key=itemgetter('age'))) \n",
    "  \n",
    "print (\"\\r\") \n",
    "  \n",
    "# using sorted and itemgetter to print list sorted by both age and name \n",
    "# notice that \"Manjeet\" now comes before \"Nandini\" \n",
    "print (\"The list printed sorting by age and name: \")\n",
    "print( sorted(lis, key=itemgetter('age', 'name')) )\n",
    "  \n",
    "print (\"\\r\") \n",
    "  \n",
    "# using sorted and itemgetter to print list sorted by age in descending order \n",
    "print( \"The list printed sorting by age in descending order: \")\n",
    "print( sorted(lis, key=itemgetter('age'),reverse = True))"
   ]
  },
  {
   "cell_type": "code",
   "execution_count": null,
   "metadata": {},
   "outputs": [],
   "source": []
  },
  {
   "cell_type": "markdown",
   "metadata": {},
   "source": [
    "### Tuple"
   ]
  },
  {
   "cell_type": "code",
   "execution_count": 75,
   "metadata": {},
   "outputs": [
    {
     "name": "stdout",
     "output_type": "stream",
     "text": [
      "0.049\n"
     ]
    }
   ],
   "source": [
    "l1=[1,2,2.64,3.16,3.60,4.0,4.35,4.69,5.0]\n",
    "l2=[1.04,2.04,2.70,3.22,3.67,4.07,4.44,4.77,4.88]\n",
    "k=round(sum([((l1[i]-l2[i])**2)  for i in range(len(l1))]),3)\n",
    "print(k)"
   ]
  },
  {
   "cell_type": "code",
   "execution_count": null,
   "metadata": {},
   "outputs": [],
   "source": []
  },
  {
   "cell_type": "code",
   "execution_count": null,
   "metadata": {},
   "outputs": [],
   "source": []
  },
  {
   "cell_type": "code",
   "execution_count": null,
   "metadata": {},
   "outputs": [],
   "source": []
  },
  {
   "cell_type": "code",
   "execution_count": null,
   "metadata": {},
   "outputs": [],
   "source": []
  },
  {
   "cell_type": "code",
   "execution_count": null,
   "metadata": {},
   "outputs": [],
   "source": []
  },
  {
   "cell_type": "code",
   "execution_count": null,
   "metadata": {},
   "outputs": [],
   "source": []
  },
  {
   "cell_type": "code",
   "execution_count": null,
   "metadata": {},
   "outputs": [],
   "source": []
  },
  {
   "cell_type": "code",
   "execution_count": null,
   "metadata": {},
   "outputs": [],
   "source": []
  },
  {
   "cell_type": "code",
   "execution_count": null,
   "metadata": {},
   "outputs": [],
   "source": []
  },
  {
   "cell_type": "code",
   "execution_count": null,
   "metadata": {},
   "outputs": [],
   "source": []
  },
  {
   "cell_type": "code",
   "execution_count": null,
   "metadata": {},
   "outputs": [],
   "source": []
  },
  {
   "cell_type": "code",
   "execution_count": null,
   "metadata": {},
   "outputs": [],
   "source": []
  },
  {
   "cell_type": "code",
   "execution_count": null,
   "metadata": {},
   "outputs": [],
   "source": []
  },
  {
   "cell_type": "code",
   "execution_count": null,
   "metadata": {},
   "outputs": [],
   "source": []
  },
  {
   "cell_type": "code",
   "execution_count": null,
   "metadata": {},
   "outputs": [],
   "source": []
  },
  {
   "cell_type": "code",
   "execution_count": null,
   "metadata": {},
   "outputs": [],
   "source": []
  },
  {
   "cell_type": "code",
   "execution_count": null,
   "metadata": {},
   "outputs": [],
   "source": []
  },
  {
   "cell_type": "code",
   "execution_count": null,
   "metadata": {},
   "outputs": [],
   "source": []
  },
  {
   "cell_type": "code",
   "execution_count": null,
   "metadata": {},
   "outputs": [],
   "source": []
  },
  {
   "cell_type": "code",
   "execution_count": null,
   "metadata": {},
   "outputs": [],
   "source": []
  },
  {
   "cell_type": "code",
   "execution_count": null,
   "metadata": {},
   "outputs": [],
   "source": []
  },
  {
   "cell_type": "code",
   "execution_count": null,
   "metadata": {},
   "outputs": [],
   "source": []
  },
  {
   "cell_type": "code",
   "execution_count": null,
   "metadata": {},
   "outputs": [],
   "source": []
  },
  {
   "cell_type": "code",
   "execution_count": null,
   "metadata": {},
   "outputs": [],
   "source": []
  },
  {
   "cell_type": "code",
   "execution_count": null,
   "metadata": {},
   "outputs": [],
   "source": []
  },
  {
   "cell_type": "code",
   "execution_count": null,
   "metadata": {},
   "outputs": [],
   "source": []
  },
  {
   "cell_type": "code",
   "execution_count": null,
   "metadata": {},
   "outputs": [],
   "source": []
  },
  {
   "cell_type": "code",
   "execution_count": null,
   "metadata": {},
   "outputs": [],
   "source": []
  },
  {
   "cell_type": "code",
   "execution_count": null,
   "metadata": {},
   "outputs": [],
   "source": []
  },
  {
   "cell_type": "code",
   "execution_count": null,
   "metadata": {},
   "outputs": [],
   "source": []
  },
  {
   "cell_type": "code",
   "execution_count": null,
   "metadata": {},
   "outputs": [],
   "source": []
  },
  {
   "cell_type": "code",
   "execution_count": null,
   "metadata": {},
   "outputs": [],
   "source": []
  },
  {
   "cell_type": "code",
   "execution_count": null,
   "metadata": {},
   "outputs": [],
   "source": []
  },
  {
   "cell_type": "code",
   "execution_count": null,
   "metadata": {},
   "outputs": [],
   "source": []
  },
  {
   "cell_type": "code",
   "execution_count": null,
   "metadata": {},
   "outputs": [],
   "source": []
  },
  {
   "cell_type": "code",
   "execution_count": null,
   "metadata": {},
   "outputs": [],
   "source": []
  },
  {
   "cell_type": "code",
   "execution_count": null,
   "metadata": {},
   "outputs": [],
   "source": []
  },
  {
   "cell_type": "code",
   "execution_count": null,
   "metadata": {},
   "outputs": [],
   "source": []
  },
  {
   "cell_type": "code",
   "execution_count": null,
   "metadata": {},
   "outputs": [],
   "source": []
  },
  {
   "cell_type": "code",
   "execution_count": null,
   "metadata": {},
   "outputs": [],
   "source": []
  },
  {
   "cell_type": "code",
   "execution_count": null,
   "metadata": {},
   "outputs": [],
   "source": []
  },
  {
   "cell_type": "code",
   "execution_count": null,
   "metadata": {},
   "outputs": [],
   "source": []
  },
  {
   "cell_type": "code",
   "execution_count": null,
   "metadata": {},
   "outputs": [],
   "source": []
  },
  {
   "cell_type": "code",
   "execution_count": null,
   "metadata": {},
   "outputs": [],
   "source": []
  },
  {
   "cell_type": "code",
   "execution_count": null,
   "metadata": {},
   "outputs": [],
   "source": []
  },
  {
   "cell_type": "code",
   "execution_count": null,
   "metadata": {},
   "outputs": [],
   "source": []
  },
  {
   "cell_type": "code",
   "execution_count": null,
   "metadata": {},
   "outputs": [],
   "source": []
  },
  {
   "cell_type": "code",
   "execution_count": null,
   "metadata": {},
   "outputs": [],
   "source": []
  },
  {
   "cell_type": "code",
   "execution_count": null,
   "metadata": {},
   "outputs": [],
   "source": []
  },
  {
   "cell_type": "code",
   "execution_count": null,
   "metadata": {},
   "outputs": [],
   "source": []
  },
  {
   "cell_type": "code",
   "execution_count": null,
   "metadata": {},
   "outputs": [],
   "source": []
  },
  {
   "cell_type": "code",
   "execution_count": null,
   "metadata": {},
   "outputs": [],
   "source": []
  },
  {
   "cell_type": "code",
   "execution_count": null,
   "metadata": {},
   "outputs": [],
   "source": []
  },
  {
   "cell_type": "code",
   "execution_count": null,
   "metadata": {},
   "outputs": [],
   "source": []
  },
  {
   "cell_type": "code",
   "execution_count": null,
   "metadata": {},
   "outputs": [],
   "source": []
  },
  {
   "cell_type": "code",
   "execution_count": null,
   "metadata": {},
   "outputs": [],
   "source": []
  },
  {
   "cell_type": "code",
   "execution_count": null,
   "metadata": {},
   "outputs": [],
   "source": []
  },
  {
   "cell_type": "code",
   "execution_count": null,
   "metadata": {},
   "outputs": [],
   "source": []
  },
  {
   "cell_type": "code",
   "execution_count": null,
   "metadata": {},
   "outputs": [],
   "source": []
  },
  {
   "cell_type": "code",
   "execution_count": null,
   "metadata": {},
   "outputs": [],
   "source": []
  },
  {
   "cell_type": "code",
   "execution_count": null,
   "metadata": {},
   "outputs": [],
   "source": []
  },
  {
   "cell_type": "code",
   "execution_count": null,
   "metadata": {},
   "outputs": [],
   "source": []
  },
  {
   "cell_type": "code",
   "execution_count": null,
   "metadata": {},
   "outputs": [],
   "source": []
  },
  {
   "cell_type": "code",
   "execution_count": null,
   "metadata": {},
   "outputs": [],
   "source": []
  },
  {
   "cell_type": "code",
   "execution_count": null,
   "metadata": {},
   "outputs": [],
   "source": []
  },
  {
   "cell_type": "code",
   "execution_count": null,
   "metadata": {},
   "outputs": [],
   "source": []
  },
  {
   "cell_type": "code",
   "execution_count": null,
   "metadata": {},
   "outputs": [],
   "source": []
  },
  {
   "cell_type": "code",
   "execution_count": null,
   "metadata": {},
   "outputs": [],
   "source": []
  },
  {
   "cell_type": "code",
   "execution_count": null,
   "metadata": {},
   "outputs": [],
   "source": []
  }
 ],
 "metadata": {
  "kernelspec": {
   "display_name": "Python 3",
   "language": "python",
   "name": "python3"
  },
  "language_info": {
   "codemirror_mode": {
    "name": "ipython",
    "version": 3
   },
   "file_extension": ".py",
   "mimetype": "text/x-python",
   "name": "python",
   "nbconvert_exporter": "python",
   "pygments_lexer": "ipython3",
   "version": "3.6.8"
  }
 },
 "nbformat": 4,
 "nbformat_minor": 2
}
