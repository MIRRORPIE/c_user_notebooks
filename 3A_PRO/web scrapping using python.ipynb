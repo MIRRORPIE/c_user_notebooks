{
 "cells": [
  {
   "cell_type": "markdown",
   "metadata": {},
   "source": [
    "### <---------------------------------------------------------------->"
   ]
  },
  {
   "cell_type": "code",
   "execution_count": 1,
   "metadata": {},
   "outputs": [
    {
     "name": "stdout",
     "output_type": "stream",
     "text": [
      "200 \n",
      "\n",
      "{'Date': 'Mon, 29 Jul 2019 16:48:33 GMT', 'Expires': '-1', 'Cache-Control': 'private, max-age=0', 'Content-Type': 'text/html; charset=ISO-8859-1', 'P3P': 'CP=\"This is not a P3P policy! See g.co/p3phelp for more info.\"', 'Content-Encoding': 'gzip', 'Server': 'gws', 'X-XSS-Protection': '0', 'X-Frame-Options': 'SAMEORIGIN', 'Set-Cookie': '1P_JAR=2019-07-29-16; expires=Wed, 28-Aug-2019 16:48:34 GMT; path=/; domain=.google.com, NID=188=aN7XQxdP75iczwjpCtESzQaibf6o6vUrxjlmKPSfp2c0oDf6h7b85AzhMV7uMkulPV1m6BpaW06SsjzaGR97oHb3I2Y3TN_M3cZhbPyLKAxmYMut7lTg5F2dqz3o5XqBOzaWRRHjeOkKC5nlOb08DEs8celoW5PxTTzRJogdBLc; expires=Tue, 28-Jan-2020 16:48:33 GMT; path=/; domain=.google.com; HttpOnly', 'Alt-Svc': 'quic=\":443\"; ma=2592000; v=\"46,43,39\"', 'Transfer-Encoding': 'chunked'} \n",
      "\n",
      "[<a class=\"gb1\" href=\"https://www.google.co.in/imghp?hl=en&amp;tab=wi\">Images</a>, <a class=\"gb1\" href=\"https://maps.google.co.in/maps?hl=en&amp;tab=wl\">Maps</a>, <a class=\"gb1\" href=\"https://play.google.com/?hl=en&amp;tab=w8\">Play</a>, <a class=\"gb1\" href=\"https://www.youtube.com/?gl=IN&amp;tab=w1\">YouTube</a>, <a class=\"gb1\" href=\"https://news.google.co.in/nwshp?hl=en&amp;tab=wn\">News</a>, <a class=\"gb1\" href=\"https://mail.google.com/mail/?tab=wm\">Gmail</a>, <a class=\"gb1\" href=\"https://drive.google.com/?tab=wo\">Drive</a>, <a class=\"gb1\" href=\"https://www.google.co.in/intl/en/about/products?tab=wh\" style=\"text-decoration:none\"><u>More</u> »</a>, <a class=\"gb4\" href=\"http://www.google.co.in/history/optout?hl=en\">Web History</a>, <a class=\"gb4\" href=\"/preferences?hl=en\">Settings</a>, <a class=\"gb4\" href=\"https://accounts.google.com/ServiceLogin?hl=en&amp;passive=true&amp;continue=https://www.google.com/\" id=\"gb_70\" target=\"_top\">Sign in</a>, <a href=\"/advanced_search?hl=en-IN&amp;authuser=0\">Advanced search</a>, <a href=\"/language_tools?hl=en-IN&amp;authuser=0\">Language tools</a>, <a href=\"https://www.google.com/setprefs?sig=0_i3mmZQptQ5AFPzQHS4sc1KbLBME%3D&amp;hl=hi&amp;source=homepage&amp;sa=X&amp;ved=0ahUKEwjEiZfNytrjAhWKsI8KHTz1DegQ2ZgBCAU\">हिन्दी</a>, <a href=\"https://www.google.com/setprefs?sig=0_i3mmZQptQ5AFPzQHS4sc1KbLBME%3D&amp;hl=bn&amp;source=homepage&amp;sa=X&amp;ved=0ahUKEwjEiZfNytrjAhWKsI8KHTz1DegQ2ZgBCAY\">বাংলা</a>, <a href=\"https://www.google.com/setprefs?sig=0_i3mmZQptQ5AFPzQHS4sc1KbLBME%3D&amp;hl=te&amp;source=homepage&amp;sa=X&amp;ved=0ahUKEwjEiZfNytrjAhWKsI8KHTz1DegQ2ZgBCAc\">తెలుగు</a>, <a href=\"https://www.google.com/setprefs?sig=0_i3mmZQptQ5AFPzQHS4sc1KbLBME%3D&amp;hl=mr&amp;source=homepage&amp;sa=X&amp;ved=0ahUKEwjEiZfNytrjAhWKsI8KHTz1DegQ2ZgBCAg\">मराठी</a>, <a href=\"https://www.google.com/setprefs?sig=0_i3mmZQptQ5AFPzQHS4sc1KbLBME%3D&amp;hl=ta&amp;source=homepage&amp;sa=X&amp;ved=0ahUKEwjEiZfNytrjAhWKsI8KHTz1DegQ2ZgBCAk\">தமிழ்</a>, <a href=\"https://www.google.com/setprefs?sig=0_i3mmZQptQ5AFPzQHS4sc1KbLBME%3D&amp;hl=gu&amp;source=homepage&amp;sa=X&amp;ved=0ahUKEwjEiZfNytrjAhWKsI8KHTz1DegQ2ZgBCAo\">ગુજરાતી</a>, <a href=\"https://www.google.com/setprefs?sig=0_i3mmZQptQ5AFPzQHS4sc1KbLBME%3D&amp;hl=kn&amp;source=homepage&amp;sa=X&amp;ved=0ahUKEwjEiZfNytrjAhWKsI8KHTz1DegQ2ZgBCAs\">ಕನ್ನಡ</a>, <a href=\"https://www.google.com/setprefs?sig=0_i3mmZQptQ5AFPzQHS4sc1KbLBME%3D&amp;hl=ml&amp;source=homepage&amp;sa=X&amp;ved=0ahUKEwjEiZfNytrjAhWKsI8KHTz1DegQ2ZgBCAw\">മലയാളം</a>, <a href=\"https://www.google.com/setprefs?sig=0_i3mmZQptQ5AFPzQHS4sc1KbLBME%3D&amp;hl=pa&amp;source=homepage&amp;sa=X&amp;ved=0ahUKEwjEiZfNytrjAhWKsI8KHTz1DegQ2ZgBCA0\">ਪੰਜਾਬੀ</a>, <a href=\"/intl/en/ads/\">Advertising Programs</a>, <a href=\"http://www.google.co.in/services/\">Business Solutions</a>, <a href=\"/intl/en/about.html\">About Google</a>, <a href=\"https://www.google.com/setprefdomain?prefdom=IN&amp;prev=https://www.google.co.in/&amp;sig=K_jdPmOG7YDpstQCWXTHjBmUEQkkA%3D\">Google.co.in</a>, <a href=\"/intl/en/policies/privacy/\">Privacy</a>, <a href=\"/intl/en/policies/terms/\">Terms</a>] \n",
      "\n"
     ]
    }
   ],
   "source": [
    "import requests\n",
    "from bs4 import BeautifulSoup\n",
    "result=requests.get(\"https://www.google.com/\")\n",
    "print(result.status_code,\"\\n\")\n",
    "print(result.headers,\"\\n\")\n",
    "src=result.content\n",
    "soup=BeautifulSoup(src, 'html')\n",
    "links=soup.find_all(\"a\")\n",
    "print(links,\"\\n\")"
   ]
  },
  {
   "cell_type": "code",
   "execution_count": 2,
   "metadata": {
    "scrolled": true
   },
   "outputs": [
    {
     "name": "stdout",
     "output_type": "stream",
     "text": [
      "<a href=\"/intl/en/about.html\">About Google</a>\n",
      "<class 'bs4.element.Tag'>\n",
      "/intl/en/about.html\n"
     ]
    }
   ],
   "source": [
    "import requests\n",
    "from bs4 import BeautifulSoup\n",
    "result=requests.get(\"https://www.google.com/\")\n",
    "#print(result.status_code,\"\\n\")\n",
    "#print(result.headers,\"\\n\")\n",
    "src=result.content\n",
    "soup=BeautifulSoup(src, 'html')\n",
    "links=soup.find_all(\"a\")\n",
    "#print(links,\"\\n\")\n",
    "\n",
    "for link in links:\n",
    "    if \"About\" in link.text:\n",
    "        print(link)\n",
    "        print(type(link))\n",
    "        print(link.attrs[\"href\"])"
   ]
  },
  {
   "cell_type": "code",
   "execution_count": 3,
   "metadata": {},
   "outputs": [
    {
     "name": "stdout",
     "output_type": "stream",
     "text": [
      "['https://www.whitehouse.gov/briefings-statements/bill-announcement-42/', 'https://www.whitehouse.gov/briefings-statements/remarks-president-trump-signing-h-r-1327-act-permanently-authorize-september-11th-victim-compensation-fund/', 'https://www.whitehouse.gov/briefings-statements/remarks-president-trump-signing-safe-third-country-agreement-guatemala/', 'https://www.whitehouse.gov/briefings-statements/first-lady-melania-trump-attends-youth-concert-kennedy-center/', 'https://www.whitehouse.gov/briefings-statements/statement-press-secretary-regarding-mali-executive-order/', 'https://www.whitehouse.gov/briefings-statements/president-donald-j-trump-announces-presidential-delegation-attend-funeral-excellency-beji-caid-essebsi/', 'https://www.whitehouse.gov/briefings-statements/remarks-vice-president-pence-miller-electric-company-jacksonville-fl/', 'https://www.whitehouse.gov/briefings-statements/text-letter-president-speaker-house-representatives-president-senate-54/', 'https://www.whitehouse.gov/briefings-statements/remarks-vice-president-pence-ready4work-roundtable-operation-new-hope-jacksonville-fl/', 'https://www.whitehouse.gov/briefings-statements/wtas-business-leaders-pledge-create-opportunities-workers-across-country/']\n",
      "\n",
      " 10\n"
     ]
    }
   ],
   "source": [
    "#all links of briefing and statement of the website\n",
    "\n",
    "import requests\n",
    "from bs4 import BeautifulSoup\n",
    "\n",
    "result=requests.get(\"https://www.whitehouse.gov/briefings-statements/\")\n",
    "src=result.content\n",
    "soup=BeautifulSoup(src,\"html\")\n",
    "\n",
    "urls=[]\n",
    "for h2_tag in soup.find_all(\"h2\"):\n",
    "    a_tag=h2_tag.find(\"a\")\n",
    "    urls.append(a_tag.attrs[\"href\"])\n",
    "    \n",
    "print(urls)\n",
    "print(\"\\n\",len(urls))"
   ]
  },
  {
   "cell_type": "markdown",
   "metadata": {},
   "source": [
    "### <---------------------------------------------------------------->"
   ]
  },
  {
   "cell_type": "markdown",
   "metadata": {},
   "source": [
    "#### python web scrapping ------>by Sukhvinder singh"
   ]
  },
  {
   "cell_type": "code",
   "execution_count": null,
   "metadata": {},
   "outputs": [],
   "source": []
  },
  {
   "cell_type": "code",
   "execution_count": 4,
   "metadata": {},
   "outputs": [
    {
     "name": "stdout",
     "output_type": "stream",
     "text": [
      "b'<html>\\n<head>\\n<title>A Useful Page</title>\\n</head>\\n<body>\\n<h1>An Interesting Title</h1>\\n<div>\\nLorem ipsum dolor sit amet, consectetur adipisicing elit, sed do eiusmod tempor incididunt ut labore et dolore magna aliqua. Ut enim ad minim veniam, quis nostrud exercitation ullamco laboris nisi ut aliquip ex ea commodo consequat. Duis aute irure dolor in reprehenderit in voluptate velit esse cillum dolore eu fugiat nulla pariatur. Excepteur sint occaecat cupidatat non proident, sunt in culpa qui officia deserunt mollit anim id est laborum.\\n</div>\\n</body>\\n</html>\\n'\n"
     ]
    }
   ],
   "source": [
    "from urllib.request import urlopen\n",
    "html = urlopen(\"http://pythonscraping.com/pages/page1.html\")\n",
    "print(html.read())"
   ]
  },
  {
   "cell_type": "code",
   "execution_count": 5,
   "metadata": {},
   "outputs": [],
   "source": [
    "#urllib.request, urllib.parse, urllib.error"
   ]
  },
  {
   "cell_type": "code",
   "execution_count": null,
   "metadata": {},
   "outputs": [],
   "source": []
  },
  {
   "cell_type": "code",
   "execution_count": 13,
   "metadata": {},
   "outputs": [
    {
     "name": "stdout",
     "output_type": "stream",
     "text": [
      "<h1>An Interesting Title</h1>\n",
      "<h1>An Interesting Title</h1>\n",
      "<h1>An Interesting Title</h1>\n",
      "<h1>An Interesting Title</h1> \n",
      "\n",
      "<div>\n",
      "Lorem ipsum dolor sit amet, consectetur adipisicing elit, sed do eiusmod tempor incididunt ut labore et dolore magna aliqua. Ut enim ad minim veniam, quis nostrud exercitation ullamco laboris nisi ut aliquip ex ea commodo consequat. Duis aute irure dolor in reprehenderit in voluptate velit esse cillum dolore eu fugiat nulla pariatur. Excepteur sint occaecat cupidatat non proident, sunt in culpa qui officia deserunt mollit anim id est laborum.\n",
      "</div> \n",
      "\n",
      "None \n",
      "\n"
     ]
    }
   ],
   "source": [
    "from urllib.request import urlopen\n",
    "from bs4 import BeautifulSoup\n",
    "\n",
    "html = urlopen(\"http://pythonscraping.com/pages/page1.html\")\n",
    "bsobj = BeautifulSoup(html.read(),\"html\")\n",
    "print(bsobj.h1)\n",
    "print(bsobj.html.body.h1)\n",
    "print(bsobj.body.h1)\n",
    "print(bsobj.html.h1,\"\\n\")\n",
    "print(bsobj.div,\"\\n\")\n",
    "print(bsobj.p,\"\\n\")"
   ]
  },
  {
   "cell_type": "code",
   "execution_count": 15,
   "metadata": {},
   "outputs": [
    {
     "name": "stdout",
     "output_type": "stream",
     "text": [
      "<bound method Tag.prettify of <html>\n",
      "<head>\n",
      "<title>A Useful Page</title>\n",
      "</head>\n",
      "<body>\n",
      "<h1>An Interesting Title</h1>\n",
      "<div>\n",
      "Lorem ipsum dolor sit amet, consectetur adipisicing elit, sed do eiusmod tempor incididunt ut labore et dolore magna aliqua. Ut enim ad minim veniam, quis nostrud exercitation ullamco laboris nisi ut aliquip ex ea commodo consequat. Duis aute irure dolor in reprehenderit in voluptate velit esse cillum dolore eu fugiat nulla pariatur. Excepteur sint occaecat cupidatat non proident, sunt in culpa qui officia deserunt mollit anim id est laborum.\n",
      "</div>\n",
      "</body>\n",
      "</html>\n",
      ">\n",
      "\n",
      "\n"
     ]
    },
    {
     "ename": "AttributeError",
     "evalue": "'NoneType' object has no attribute 'sometag'",
     "output_type": "error",
     "traceback": [
      "\u001b[1;31m---------------------------------------------------------------------------\u001b[0m",
      "\u001b[1;31mAttributeError\u001b[0m                            Traceback (most recent call last)",
      "\u001b[1;32m<ipython-input-15-f59ad87ae223>\u001b[0m in \u001b[0;36m<module>\u001b[1;34m\u001b[0m\n\u001b[0;32m      8\u001b[0m \u001b[0mprint\u001b[0m\u001b[1;33m(\u001b[0m\u001b[0mbsobj\u001b[0m\u001b[1;33m.\u001b[0m\u001b[0mprettify\u001b[0m\u001b[1;33m)\u001b[0m\u001b[1;33m\u001b[0m\u001b[1;33m\u001b[0m\u001b[0m\n\u001b[0;32m      9\u001b[0m \u001b[0mprint\u001b[0m\u001b[1;33m(\u001b[0m\u001b[1;34m\"\\n\"\u001b[0m\u001b[1;33m)\u001b[0m\u001b[1;33m\u001b[0m\u001b[1;33m\u001b[0m\u001b[0m\n\u001b[1;32m---> 10\u001b[1;33m \u001b[0mprint\u001b[0m\u001b[1;33m(\u001b[0m\u001b[0mbsobj\u001b[0m\u001b[1;33m.\u001b[0m\u001b[0mbhakai\u001b[0m\u001b[1;33m.\u001b[0m\u001b[0msometag\u001b[0m\u001b[1;33m)\u001b[0m     \u001b[1;31m#bhakai attribute error occur\u001b[0m\u001b[1;33m\u001b[0m\u001b[1;33m\u001b[0m\u001b[0m\n\u001b[0m",
      "\u001b[1;31mAttributeError\u001b[0m: 'NoneType' object has no attribute 'sometag'"
     ]
    }
   ],
   "source": [
    "#trying to acces the non existing tag\n",
    "\n",
    "from urllib.request import urlopen\n",
    "from bs4 import BeautifulSoup\n",
    "\n",
    "html = urlopen(\"http://pythonscraping.com/pages/page1.html\")\n",
    "bsobj=BeautifulSoup(html.read(),features=\"html.parser\")\n",
    "print(bsobj.prettify)\n",
    "print(\"\\n\")\n",
    "print(bsobj.bhakai.sometag)     #bhakai attribute error occur"
   ]
  },
  {
   "cell_type": "code",
   "execution_count": 17,
   "metadata": {},
   "outputs": [
    {
     "name": "stdout",
     "output_type": "stream",
     "text": [
      "'NoneType' object has no attribute 'sometag'\n",
      "Tag not found\n"
     ]
    }
   ],
   "source": [
    "#exceptionl handling for the above code\n",
    "\n",
    "from urllib.request import urlopen\n",
    "from bs4 import BeautifulSoup\n",
    "\n",
    "html = urlopen(\"http://pythonscraping.com/pages/page1.html\")\n",
    "bsobj = BeautifulSoup(html.read(),features=\"html.parser\")\n",
    "try:\n",
    "    bad_content = bsobj.non_existing_tag.sometag\n",
    "except AttributeError as A:\n",
    "    print(A)\n",
    "    print(\"Tag not found\")\n",
    "else:\n",
    "    print(bad_content)"
   ]
  },
  {
   "cell_type": "code",
   "execution_count": null,
   "metadata": {},
   "outputs": [],
   "source": []
  },
  {
   "cell_type": "code",
   "execution_count": null,
   "metadata": {},
   "outputs": [],
   "source": []
  },
  {
   "cell_type": "code",
   "execution_count": 18,
   "metadata": {},
   "outputs": [
    {
     "name": "stdout",
     "output_type": "stream",
     "text": [
      "It worked\n",
      "\n",
      "HTTP Error 404: Not Found\n",
      "HTTP error occur\n",
      "\n",
      "<urlopen error [Errno 11001] getaddrinfo failed>\n",
      "The server could not be find\n",
      "\n"
     ]
    }
   ],
   "source": [
    "from urllib.request import urlopen\n",
    "from urllib.error import HTTPError\n",
    "from urllib.error import URLError\n",
    "\n",
    "case=[\"http://pythonscraping.com/pages/page1.html\",\n",
    "      \"http://pythonscraping.com/pages/page1.htmlxxxx\",\n",
    "      \"http://xxxxpythonscraping.com/pages/page1.html\"]\n",
    "for i in case:\n",
    "    try:\n",
    "        html = urlopen(i)\n",
    "    except HTTPError as H:\n",
    "        print(H)\n",
    "        print(\"HTTP error occur\")\n",
    "        #return null, break, or other\n",
    "    except URLError as U:\n",
    "        print(U)\n",
    "        print(\"The server could not be find\")\n",
    "    else:\n",
    "        print(\"It worked\")\n",
    "    print()"
   ]
  },
  {
   "cell_type": "code",
   "execution_count": null,
   "metadata": {},
   "outputs": [],
   "source": []
  },
  {
   "cell_type": "code",
   "execution_count": null,
   "metadata": {},
   "outputs": [],
   "source": []
  },
  {
   "cell_type": "code",
   "execution_count": null,
   "metadata": {},
   "outputs": [],
   "source": []
  },
  {
   "cell_type": "code",
   "execution_count": null,
   "metadata": {},
   "outputs": [],
   "source": []
  },
  {
   "cell_type": "code",
   "execution_count": null,
   "metadata": {},
   "outputs": [],
   "source": []
  },
  {
   "cell_type": "code",
   "execution_count": null,
   "metadata": {},
   "outputs": [],
   "source": []
  },
  {
   "cell_type": "code",
   "execution_count": null,
   "metadata": {},
   "outputs": [],
   "source": []
  },
  {
   "cell_type": "code",
   "execution_count": null,
   "metadata": {},
   "outputs": [],
   "source": []
  },
  {
   "cell_type": "code",
   "execution_count": null,
   "metadata": {},
   "outputs": [],
   "source": []
  },
  {
   "cell_type": "code",
   "execution_count": null,
   "metadata": {},
   "outputs": [],
   "source": []
  },
  {
   "cell_type": "code",
   "execution_count": null,
   "metadata": {},
   "outputs": [],
   "source": []
  },
  {
   "cell_type": "code",
   "execution_count": null,
   "metadata": {},
   "outputs": [],
   "source": []
  },
  {
   "cell_type": "code",
   "execution_count": null,
   "metadata": {},
   "outputs": [],
   "source": []
  },
  {
   "cell_type": "code",
   "execution_count": null,
   "metadata": {},
   "outputs": [],
   "source": []
  },
  {
   "cell_type": "code",
   "execution_count": null,
   "metadata": {},
   "outputs": [],
   "source": []
  },
  {
   "cell_type": "code",
   "execution_count": null,
   "metadata": {},
   "outputs": [],
   "source": []
  },
  {
   "cell_type": "code",
   "execution_count": null,
   "metadata": {},
   "outputs": [],
   "source": []
  },
  {
   "cell_type": "code",
   "execution_count": null,
   "metadata": {},
   "outputs": [],
   "source": []
  },
  {
   "cell_type": "code",
   "execution_count": null,
   "metadata": {},
   "outputs": [],
   "source": []
  },
  {
   "cell_type": "code",
   "execution_count": null,
   "metadata": {},
   "outputs": [],
   "source": []
  },
  {
   "cell_type": "code",
   "execution_count": null,
   "metadata": {},
   "outputs": [],
   "source": []
  },
  {
   "cell_type": "code",
   "execution_count": null,
   "metadata": {},
   "outputs": [],
   "source": []
  },
  {
   "cell_type": "code",
   "execution_count": null,
   "metadata": {},
   "outputs": [],
   "source": []
  },
  {
   "cell_type": "code",
   "execution_count": null,
   "metadata": {},
   "outputs": [],
   "source": []
  },
  {
   "cell_type": "code",
   "execution_count": null,
   "metadata": {},
   "outputs": [],
   "source": []
  },
  {
   "cell_type": "code",
   "execution_count": null,
   "metadata": {},
   "outputs": [],
   "source": []
  },
  {
   "cell_type": "code",
   "execution_count": null,
   "metadata": {},
   "outputs": [],
   "source": []
  },
  {
   "cell_type": "code",
   "execution_count": null,
   "metadata": {},
   "outputs": [],
   "source": []
  },
  {
   "cell_type": "code",
   "execution_count": null,
   "metadata": {},
   "outputs": [],
   "source": []
  },
  {
   "cell_type": "code",
   "execution_count": null,
   "metadata": {},
   "outputs": [],
   "source": []
  },
  {
   "cell_type": "code",
   "execution_count": null,
   "metadata": {},
   "outputs": [],
   "source": []
  },
  {
   "cell_type": "code",
   "execution_count": null,
   "metadata": {},
   "outputs": [],
   "source": []
  },
  {
   "cell_type": "code",
   "execution_count": null,
   "metadata": {},
   "outputs": [],
   "source": []
  },
  {
   "cell_type": "code",
   "execution_count": null,
   "metadata": {},
   "outputs": [],
   "source": []
  },
  {
   "cell_type": "code",
   "execution_count": null,
   "metadata": {},
   "outputs": [],
   "source": []
  },
  {
   "cell_type": "code",
   "execution_count": null,
   "metadata": {},
   "outputs": [],
   "source": []
  },
  {
   "cell_type": "code",
   "execution_count": null,
   "metadata": {},
   "outputs": [],
   "source": []
  },
  {
   "cell_type": "code",
   "execution_count": null,
   "metadata": {},
   "outputs": [],
   "source": []
  },
  {
   "cell_type": "code",
   "execution_count": null,
   "metadata": {},
   "outputs": [],
   "source": []
  },
  {
   "cell_type": "code",
   "execution_count": null,
   "metadata": {},
   "outputs": [],
   "source": []
  },
  {
   "cell_type": "code",
   "execution_count": null,
   "metadata": {},
   "outputs": [],
   "source": []
  },
  {
   "cell_type": "code",
   "execution_count": null,
   "metadata": {},
   "outputs": [],
   "source": []
  },
  {
   "cell_type": "code",
   "execution_count": null,
   "metadata": {},
   "outputs": [],
   "source": []
  }
 ],
 "metadata": {
  "kernelspec": {
   "display_name": "Python 3",
   "language": "python",
   "name": "python3"
  },
  "language_info": {
   "codemirror_mode": {
    "name": "ipython",
    "version": 3
   },
   "file_extension": ".py",
   "mimetype": "text/x-python",
   "name": "python",
   "nbconvert_exporter": "python",
   "pygments_lexer": "ipython3",
   "version": "3.6.7"
  }
 },
 "nbformat": 4,
 "nbformat_minor": 2
}
