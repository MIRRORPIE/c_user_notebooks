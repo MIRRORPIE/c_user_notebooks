{
 "cells": [
  {
   "cell_type": "markdown",
   "metadata": {},
   "source": [
    "## NPTEL---->JOY OF COMPUTING USING PYTHON---week:1-5---->"
   ]
  },
  {
   "cell_type": "code",
   "execution_count": 1,
   "metadata": {},
   "outputs": [
    {
     "name": "stdout",
     "output_type": "stream",
     "text": [
      "6215\n"
     ]
    }
   ],
   "source": [
    "def intreverse(n):\n",
    "    r=0\n",
    "    while(n!=0):\n",
    "        a=n%10\n",
    "        n=n//10\n",
    "        r=(r*10)+a\n",
    "    return(r)\n",
    "print(intreverse(5126))"
   ]
  },
  {
   "cell_type": "code",
   "execution_count": 2,
   "metadata": {},
   "outputs": [
    {
     "data": {
      "text/plain": [
       "24"
      ]
     },
     "execution_count": 2,
     "metadata": {},
     "output_type": "execute_result"
    }
   ],
   "source": [
    "def isPrime(n):\n",
    "    if n<=1:\n",
    "        return(False)\n",
    "    for i in range(2,(n//2)+1):\n",
    "        if n%i==0:\n",
    "            return False\n",
    "    return True\n",
    "\n",
    "def sumprimes(l):\n",
    "    sum=0\n",
    "    for i in l:\n",
    "        if(isPrime(i)):\n",
    "            sum+=i\n",
    "    return(sum)\n",
    "sumprimes([2,2,3,5,7,9,12,10,1,1,1,-2,1,1,1,0,5])"
   ]
  },
  {
   "cell_type": "code",
   "execution_count": 3,
   "metadata": {},
   "outputs": [
    {
     "name": "stdout",
     "output_type": "stream",
     "text": [
      "2 4 2 5\n",
      "NO\n"
     ]
    }
   ],
   "source": [
    "x1,v1,x2,v2=map(int,input().split())\n",
    "if (x1<x2) and (v1<=v2):\n",
    "    print(\"NO\")\n",
    "elif (x1==x2):\n",
    "    if(v1==v2):\n",
    "        print(\"YES\")\n",
    "    else:\n",
    "        print(\"NO\")\n",
    "elif(x1>x2) and (v1>=v2):\n",
    "    print(\"NO\")\n",
    "elif (abs(x1-x2)%abs(v2-v1)==0):\n",
    "    print(\"YES\")\n",
    "else:\n",
    "    print(\"NO\")"
   ]
  },
  {
   "cell_type": "markdown",
   "metadata": {},
   "source": [
    "### week-03------------->"
   ]
  },
  {
   "cell_type": "code",
   "execution_count": 4,
   "metadata": {},
   "outputs": [
    {
     "data": {
      "text/plain": [
       "0"
      ]
     },
     "execution_count": 4,
     "metadata": {},
     "output_type": "execute_result"
    }
   ],
   "source": [
    "-4%2"
   ]
  },
  {
   "cell_type": "code",
   "execution_count": 5,
   "metadata": {},
   "outputs": [
    {
     "data": {
      "text/plain": [
       "1"
      ]
     },
     "execution_count": 5,
     "metadata": {},
     "output_type": "execute_result"
    }
   ],
   "source": [
    "-5%2"
   ]
  },
  {
   "cell_type": "code",
   "execution_count": 6,
   "metadata": {},
   "outputs": [
    {
     "data": {
      "text/plain": [
       "-1"
      ]
     },
     "execution_count": 6,
     "metadata": {},
     "output_type": "execute_result"
    }
   ],
   "source": [
    "-5%-2"
   ]
  },
  {
   "cell_type": "code",
   "execution_count": 7,
   "metadata": {},
   "outputs": [
    {
     "name": "stdout",
     "output_type": "stream",
     "text": [
      "1 2\n",
      "2\n",
      "45 7\n"
     ]
    },
    {
     "data": {
      "text/plain": [
       "([2], [45, 7], 1, 2)"
      ]
     },
     "execution_count": 7,
     "metadata": {},
     "output_type": "execute_result"
    }
   ],
   "source": [
    "m,n=map(int, input().split(' '))\n",
    "a=list(map(int, input().rstrip().split()))\n",
    "b=list(map(int, input().rstrip().split()))\n",
    "a,b,m,n"
   ]
  },
  {
   "cell_type": "markdown",
   "metadata": {},
   "source": [
    "#### CROUD COMPUTING--------------->"
   ]
  },
  {
   "cell_type": "code",
   "execution_count": 8,
   "metadata": {},
   "outputs": [
    {
     "name": "stdout",
     "output_type": "stream",
     "text": [
      "55.0\n"
     ]
    },
    {
     "name": "stderr",
     "output_type": "stream",
     "text": [
      "c:\\users\\raushan\\appdata\\local\\programs\\python\\python37-32\\lib\\site-packages\\scipy\\stats\\stats.py:2831: FutureWarning: Using a non-tuple sequence for multidimensional indexing is deprecated; use `arr[tuple(seq)]` instead of `arr[seq]`. In the future this will be interpreted as an array index, `arr[np.array(seq)]`, which will result either in an error or a different result.\n",
      "  return np.mean(atmp[sl], axis=axis)\n"
     ]
    }
   ],
   "source": [
    "from scipy import stats\n",
    "l=[10,20,30,40,50,60,70,80,90,100]\n",
    "print(stats.trim_mean(l,0.1))"
   ]
  },
  {
   "cell_type": "code",
   "execution_count": 10,
   "metadata": {},
   "outputs": [
    {
     "data": {
      "text/plain": [
       "[<matplotlib.lines.Line2D at 0x1a1268f0>]"
      ]
     },
     "execution_count": 10,
     "metadata": {},
     "output_type": "execute_result"
    },
    {
     "data": {
      "image/png": "[encoded data removed]",
      "text/plain": [
       "<Figure size 432x288 with 1 Axes>"
      ]
     },
     "metadata": {
      "needs_background": "light"
     },
     "output_type": "display_data"
    }
   ],
   "source": [
    "import matplotlib.pyplot as plt\n",
    "l1=[0,1,2,3,4,5]\n",
    "plt.plot(l1)"
   ]
  },
  {
   "cell_type": "code",
   "execution_count": 11,
   "metadata": {},
   "outputs": [
    {
     "data": {
      "text/plain": [
       "[<matplotlib.lines.Line2D at 0x1b140750>]"
      ]
     },
     "execution_count": 11,
     "metadata": {},
     "output_type": "execute_result"
    },
    {
     "data": {
      "image/png": "[encoded data removed]",
      "text/plain": [
       "<Figure size 432x288 with 1 Axes>"
      ]
     },
     "metadata": {
      "needs_background": "light"
     },
     "output_type": "display_data"
    }
   ],
   "source": [
    "import matplotlib.pyplot as plt\n",
    "l1=[0,1,2,3,4,5]\n",
    "l2=[0,1,4,9,16,25]\n",
    "plt.plot(l1,l2)"
   ]
  },
  {
   "cell_type": "code",
   "execution_count": 12,
   "metadata": {},
   "outputs": [
    {
     "data": {
      "text/plain": [
       "Text(0.5, 0, 'x---------->')"
      ]
     },
     "execution_count": 12,
     "metadata": {},
     "output_type": "execute_result"
    },
    {
     "data": {
      "image/png": "[encoded data removed]",
      "text/plain": [
       "<Figure size 432x288 with 1 Axes>"
      ]
     },
     "metadata": {
      "needs_background": "light"
     },
     "output_type": "display_data"
    }
   ],
   "source": [
    "import matplotlib.pyplot as plt\n",
    "l1=[0,1,2,3,4,5]\n",
    "l2=[0,1,4,9,16,25]\n",
    "plt.plot(l1,l2)\n",
    "plt.ylabel(\"x**2----------->\")\n",
    "plt.xlabel(\"x---------->\")"
   ]
  },
  {
   "cell_type": "code",
   "execution_count": 13,
   "metadata": {},
   "outputs": [
    {
     "data": {
      "text/plain": [
       "Text(0.5, 0, 'x---------->')"
      ]
     },
     "execution_count": 13,
     "metadata": {},
     "output_type": "execute_result"
    },
    {
     "data": {
      "image/png": "[encoded data removed]",
      "text/plain": [
       "<Figure size 432x288 with 1 Axes>"
      ]
     },
     "metadata": {
      "needs_background": "light"
     },
     "output_type": "display_data"
    }
   ],
   "source": [
    "import matplotlib.pyplot as plt\n",
    "l1=[0,1,2,3,4,5]\n",
    "l2=[0,1,4,9,16,25]\n",
    "plt.plot(l1,l2,'ro')\n",
    "plt.ylabel(\"x**2----------->\")\n",
    "plt.xlabel(\"x---------->\")"
   ]
  },
  {
   "cell_type": "code",
   "execution_count": 14,
   "metadata": {},
   "outputs": [
    {
     "data": {
      "text/plain": [
       "Text(0.5, 0, 'x---------->')"
      ]
     },
     "execution_count": 14,
     "metadata": {},
     "output_type": "execute_result"
    },
    {
     "data": {
      "image/png": "[encoded data removed]",
      "text/plain": [
       "<Figure size 432x288 with 1 Axes>"
      ]
     },
     "metadata": {
      "needs_background": "light"
     },
     "output_type": "display_data"
    }
   ],
   "source": [
    "import matplotlib.pyplot as plt\n",
    "l1=[0,1,2,3,4,5]\n",
    "l2=[0,1,4,9,16,25]\n",
    "plt.plot(l1,l2,\"r--\")\n",
    "plt.ylabel(\"x**2----------->\")\n",
    "plt.xlabel(\"x---------->\")"
   ]
  },
  {
   "cell_type": "code",
   "execution_count": 15,
   "metadata": {},
   "outputs": [
    {
     "data": {
      "text/plain": [
       "Text(0.5, 0, 'x---------->')"
      ]
     },
     "execution_count": 15,
     "metadata": {},
     "output_type": "execute_result"
    },
    {
     "data": {
      "image/png": "[encoded data removed]",
      "text/plain": [
       "<Figure size 432x288 with 1 Axes>"
      ]
     },
     "metadata": {
      "needs_background": "light"
     },
     "output_type": "display_data"
    }
   ],
   "source": [
    "import matplotlib.pyplot as plt\n",
    "l1=[0,1,2,3,4,5]\n",
    "l2=[0,1,4,9,16,25]\n",
    "plt.plot(l1,l2,\"bs\")\n",
    "plt.ylabel(\"x**2----------->\")\n",
    "plt.xlabel(\"x---------->\")"
   ]
  },
  {
   "cell_type": "code",
   "execution_count": 16,
   "metadata": {},
   "outputs": [
    {
     "data": {
      "text/plain": [
       "Text(0.5, 0, 'x---------->')"
      ]
     },
     "execution_count": 16,
     "metadata": {},
     "output_type": "execute_result"
    },
    {
     "data": {
      "image/png": "[encoded data removed]",
      "text/plain": [
       "<Figure size 432x288 with 1 Axes>"
      ]
     },
     "metadata": {
      "needs_background": "light"
     },
     "output_type": "display_data"
    }
   ],
   "source": [
    "import matplotlib.pyplot as plt\n",
    "l1=[0,1,2,3,4,5]\n",
    "l2=[0,1,4,9,16,25]\n",
    "plt.plot(l1,l2,\"g^\")\n",
    "plt.ylabel(\"x**2----------->\")\n",
    "plt.xlabel(\"x---------->\")"
   ]
  },
  {
   "cell_type": "code",
   "execution_count": 17,
   "metadata": {},
   "outputs": [
    {
     "data": {
      "text/plain": [
       "Text(0.5, 0, 'x---------->')"
      ]
     },
     "execution_count": 17,
     "metadata": {},
     "output_type": "execute_result"
    },
    {
     "data": {
      "image/png": "[encoded data removed]",
      "text/plain": [
       "<Figure size 432x288 with 1 Axes>"
      ]
     },
     "metadata": {
      "needs_background": "light"
     },
     "output_type": "display_data"
    }
   ],
   "source": [
    "import matplotlib.pyplot as plt\n",
    "l1=[0,1,2,3,4,5]\n",
    "l2=[0,1,4,9,16,25]\n",
    "plt.plot(l1,l2)\n",
    "plt.ylabel(\"x**2----------->\")\n",
    "plt.xlabel(\"x---------->\")"
   ]
  },
  {
   "cell_type": "markdown",
   "metadata": {},
   "source": [
    "#### JUMBLED WORD CHALLENGE--------->"
   ]
  },
  {
   "cell_type": "code",
   "execution_count": 19,
   "metadata": {},
   "outputs": [
    {
     "data": {
      "text/plain": [
       "1"
      ]
     },
     "execution_count": 19,
     "metadata": {},
     "output_type": "execute_result"
    }
   ],
   "source": [
    "-15%4"
   ]
  },
  {
   "cell_type": "code",
   "execution_count": 20,
   "metadata": {},
   "outputs": [],
   "source": [
    "import random\n",
    "def choose():\n",
    "    words=[\"rainbow\",\"computer\",\"science\",\"programming\",\"mathematics\",\"player\",\"condition\",\"reverse\",\"water\",\"board\"]\n",
    "    pick=random.choice(words)\n",
    "    return pick\n",
    "\n",
    "def jumble(word):\n",
    "    return(\"\".join(random.sample(word,len(word))))\n",
    "\n",
    "def thank(p1n,p2n,pp1,pp2):\n",
    "    print(p1n,\"your score is:\",pp1)\n",
    "    print(p1n,\"your score is:\",pp1)\n",
    "    print(\"-----Thanks for playing-----\")\n",
    "    print(\"-----have a nice day-----\")\n",
    "\n",
    "def play():\n",
    "    p1name=input(\"player 1,enter your name:\")\n",
    "    p2name=input(\"player 2,enter your name:\")\n",
    "    (pp1,pp2,turn)=(0,0,0)\n",
    "    c=1\n",
    "    while(c):\n",
    "        #computer's task\n",
    "        picked_word=choose()\n",
    "        #create question\n",
    "        q=jumble(picked_word)\n",
    "        print(\"what is in my mind with word:\",q)\n",
    "        #player 1\n",
    "        if turn%2==0:\n",
    "            print(\"---\",p1name,\"your turn---\")\n",
    "            ans=input()\n",
    "            if ans==picked_word:\n",
    "                pp1+=1\n",
    "                print(\"hip hip hurre,u thought correct name\")\n",
    "                print(\"your score is:\",pp1)\n",
    "            else:\n",
    "                print(\"Better luck next time.I thought:\",picked_word)\n",
    "            c=int(input(\"press 1 to continue and 0 to quit:\"))\n",
    "            if(c==0):\n",
    "                thank(p1name,p2name,pp1,pp2)\n",
    "        #player 2\n",
    "        else:\n",
    "            print(\"---\",p2name,\"your turn---\")\n",
    "            ans=input()\n",
    "            if ans==picked_word:\n",
    "                pp2+=1\n",
    "                print(\"hip hip hurre,u thought correct name\")\n",
    "                print(\"your score is:\",pp2)\n",
    "            else:\n",
    "                print(\"Better luck next time.I thought:\",picked_word)\n",
    "            c=int(input(\"press 1 to continue and 0 to quit:\"))\n",
    "            if(c==0):\n",
    "                thank(p1name,p2name,pp1,pp2)\n",
    "        turn+=1"
   ]
  },
  {
   "cell_type": "code",
   "execution_count": 21,
   "metadata": {},
   "outputs": [
    {
     "name": "stdout",
     "output_type": "stream",
     "text": [
      "player 1,enter your name:raushan\n",
      "player 2,enter your name:rahul\n",
      "what is in my mind with word: bodar\n",
      "--- raushan your turn---\n",
      "board\n",
      "hip hip hurre,u thought correct name\n",
      "your score is: 1\n",
      "press 1 to continue and 0 to quit:1\n",
      "what is in my mind with word: napmrimggro\n",
      "--- rahul your turn---\n",
      "programming\n",
      "hip hip hurre,u thought correct name\n",
      "your score is: 1\n",
      "press 1 to continue and 0 to quit:0\n",
      "raushan your score is: 1\n",
      "raushan your score is: 1\n",
      "-----Thanks for playing-----\n",
      "-----have a nice day-----\n"
     ]
    }
   ],
   "source": [
    "play()"
   ]
  },
  {
   "cell_type": "markdown",
   "metadata": {},
   "source": [
    "#### THEORY OF EVOLUTION--------------->"
   ]
  },
  {
   "cell_type": "code",
   "execution_count": 25,
   "metadata": {},
   "outputs": [
    {
     "name": "stdout",
     "output_type": "stream",
     "text": [
      "1101100101010101011111011101000001101010001010000101011011011110100000101011001011100111001010010111Iam fine.\n"
     ]
    }
   ],
   "source": [
    "#FILE HANDLING\n",
    "with open(\"text_folder/text1.txt\",\"r+\") as myfile:\n",
    "    print(myfile.read())\n",
    "    myfile.write(\"Iam fine.\")\n",
    "myfile.close()"
   ]
  },
  {
   "cell_type": "markdown",
   "metadata": {},
   "source": [
    "\"\"\"\n",
    "#---\"r\"--->read mode which is used when the file is only being read.\n",
    "#---\"w\"--->write mode,used to edit and write new information to file\n",
    "(any existing files with same name will be erased when this mode is opened.)\n",
    "#---\"a\"--->append mode,automatically appended new data at the end of the file.\n",
    "#---\"r+\"--->both actions.\n",
    "\"\"\""
   ]
  },
  {
   "cell_type": "markdown",
   "metadata": {},
   "source": [
    "#### RANDOM LIBRARY------------->"
   ]
  },
  {
   "cell_type": "code",
   "execution_count": 26,
   "metadata": {},
   "outputs": [
    {
     "data": {
      "text/plain": [
       "5"
      ]
     },
     "execution_count": 26,
     "metadata": {},
     "output_type": "execute_result"
    }
   ],
   "source": [
    "random.randint(1,5)    #number from 1,2,3,4,5(included)"
   ]
  },
  {
   "cell_type": "code",
   "execution_count": 27,
   "metadata": {},
   "outputs": [
    {
     "data": {
      "text/plain": [
       "3"
      ]
     },
     "execution_count": 27,
     "metadata": {},
     "output_type": "execute_result"
    }
   ],
   "source": [
    "random.randrange(1,5)     #1,2,3,4"
   ]
  },
  {
   "cell_type": "code",
   "execution_count": 28,
   "metadata": {},
   "outputs": [
    {
     "data": {
      "text/plain": [
       "0.9012050858496136"
      ]
     },
     "execution_count": 28,
     "metadata": {},
     "output_type": "execute_result"
    }
   ],
   "source": [
    "random.random()    #random decimal numbers(0-1)   not 1"
   ]
  },
  {
   "cell_type": "code",
   "execution_count": 29,
   "metadata": {},
   "outputs": [
    {
     "data": {
      "text/plain": [
       "5"
      ]
     },
     "execution_count": 29,
     "metadata": {},
     "output_type": "execute_result"
    }
   ],
   "source": [
    "random.choice([1,2,3,5,8,7,95])"
   ]
  },
  {
   "cell_type": "code",
   "execution_count": 30,
   "metadata": {},
   "outputs": [
    {
     "name": "stdout",
     "output_type": "stream",
     "text": [
      "1101100101010101011111011101000001101010001010000101011011011110100000101011001011100111001010010111Iam fine.Iam fine.\n",
      "<class 'str'>\n",
      "118\n"
     ]
    }
   ],
   "source": [
    "with open(\"text_folder/text1.txt\",\"r+\") as myfile:\n",
    "    a=myfile.read()\n",
    "    print(a)\n",
    "    print(type(a))\n",
    "    print(len(a))"
   ]
  },
  {
   "cell_type": "code",
   "execution_count": 31,
   "metadata": {},
   "outputs": [
    {
     "name": "stdout",
     "output_type": "stream",
     "text": [
      "00111101000111010001110001110100111100111000111001010010110101110110101010001010111011101111110011110am0f01e.I10 fi0e1\n"
     ]
    }
   ],
   "source": [
    "import random\n",
    "def evolve(x):\n",
    "    ind=random.randint(0,len(x)-1)\n",
    "    p=random.randint(1,100)\n",
    "    if p==1:\n",
    "        if(x[ind]==\"0\"):\n",
    "            x[ind]=\"1\"\n",
    "        else:\n",
    "            x[ind]=\"0\"\n",
    "\n",
    "myfile=open(\"text_folder/text1.txt\")\n",
    "x=myfile.read()\n",
    "x=list(x)\n",
    "for i in range(0,10000):\n",
    "    evolve(x)\n",
    "print(\"\".join(x))"
   ]
  },
  {
   "cell_type": "code",
   "execution_count": 32,
   "metadata": {},
   "outputs": [],
   "source": [
    "#----->QUESTION NUMBER 2: LIST REVERSING:----->\n",
    "def lreverse(l):\n",
    "    return(l[-1:(-len(l)-1):-1])"
   ]
  },
  {
   "cell_type": "code",
   "execution_count": 35,
   "metadata": {},
   "outputs": [
    {
     "data": {
      "text/plain": [
       "[8, 7, 6, 5, 4]"
      ]
     },
     "execution_count": 35,
     "metadata": {},
     "output_type": "execute_result"
    }
   ],
   "source": [
    "l=[4, 5, 6, 7, 8]\n",
    "lreverse(l)"
   ]
  },
  {
   "cell_type": "code",
   "execution_count": 36,
   "metadata": {},
   "outputs": [
    {
     "name": "stdout",
     "output_type": "stream",
     "text": [
      "[14, 28, 42, 56, 70, 84, 98, 112, 126, 140]\n"
     ]
    }
   ],
   "source": [
    "#----->QUESTION NUMBER:3 ; MULTIPLICATION TABLE:----->\n",
    "l = [12, 24, 36, 48, 60, 72, 84, 96, 108, 120]\n",
    "for i in range(0,10):\n",
    "    l[i]+=(2*(i+1))\n",
    "print(l)"
   ]
  },
  {
   "cell_type": "code",
   "execution_count": 37,
   "metadata": {},
   "outputs": [
    {
     "name": "stdout",
     "output_type": "stream",
     "text": [
      "1   1\n",
      "2   1\n",
      "2   2\n",
      "3   1\n",
      "3   2\n",
      "3   3\n",
      "4   1\n",
      "4   2\n",
      "4   3\n",
      "4   4\n",
      "5   1\n",
      "5   2\n",
      "5   3\n",
      "5   4\n",
      "5   5\n"
     ]
    }
   ],
   "source": [
    "#----->QUESTION NUMBER:4----->\n",
    "\"\"\"FOR EVERY X,COUNTING NO. IS PRINTED UPTO X AS Y\"\"\"\n",
    "for x in range(1,6):\n",
    "     for y in range(1,x+1):\n",
    "            print (x,' ',y)"
   ]
  },
  {
   "cell_type": "code",
   "execution_count": 38,
   "metadata": {},
   "outputs": [
    {
     "data": {
      "text/plain": [
       "65894541"
      ]
     },
     "execution_count": 38,
     "metadata": {},
     "output_type": "execute_result"
    }
   ],
   "source": [
    "#----->QUESTION NUMBER:5 ; SWAPPING 1st AND Nth DIGIT----->\n",
    "def swapdigit(n):\n",
    "    K=[]\n",
    "    k=list(str(n))\n",
    "    (k[0],k[-1])=(k[-1],k[0])\n",
    "    return(int(\"\".join(k)))\n",
    "swapdigit(15894546)"
   ]
  },
  {
   "cell_type": "code",
   "execution_count": 39,
   "metadata": {},
   "outputs": [
    {
     "name": "stdout",
     "output_type": "stream",
     "text": [
      "Enter the list's elements:\n",
      "1 2 3 4 5\n",
      "Sublists are [[], [1], [1, 2], [1, 2, 3], [1, 2, 3, 4], [2], [2, 3], [2, 3, 4], [3], [3, 4], [4]]\n"
     ]
    }
   ],
   "source": [
    "#----->QUESTION NUMBER:1 ; SUBLISTS OF A LIST:----->\n",
    "def sublists(l):\n",
    "    k=[[]]\n",
    "    for i in range(len(l)):\n",
    "        for j in range(i+1,len(l)):\n",
    "            sl=l[i:j]\n",
    "            k.append(sl)\n",
    "    print(\"Sublists are\",k)\n",
    "#MAIN PROGRAMME\n",
    "print(\"Enter the list's elements:\")\n",
    "l=list(map(int,input().split()))\n",
    "sublists(l)"
   ]
  },
  {
   "cell_type": "code",
   "execution_count": 44,
   "metadata": {},
   "outputs": [
    {
     "data": {
      "text/plain": [
       "{1, 2, 3}"
      ]
     },
     "execution_count": 44,
     "metadata": {},
     "output_type": "execute_result"
    }
   ],
   "source": [
    "class SetWithSubset(set):\n",
    "    def subsets(self):\n",
    "        s1 = []\n",
    "        s2 = list(self)\n",
    "\n",
    "        def recfunc(i=0):            \n",
    "            if i == len(s2):\n",
    "                yield frozenset(s1)\n",
    "            else:                \n",
    "                yield from recfunc(i + 1)\n",
    "                s1.append(s2[ i ])\n",
    "                yield from recfunc(i + 1)\n",
    "                s1.pop()\n",
    "\n",
    "        yield from recfunc()\n",
    "SetWithSubset({1,2,3})"
   ]
  },
  {
   "cell_type": "markdown",
   "metadata": {},
   "source": [
    "### week-04------------------------------------------------------>"
   ]
  },
  {
   "cell_type": "markdown",
   "metadata": {},
   "source": [
    "#### MAGIC SQUARE PRACTICE:----------------->"
   ]
  },
  {
   "cell_type": "code",
   "execution_count": 45,
   "metadata": {},
   "outputs": [
    {
     "name": "stdout",
     "output_type": "stream",
     "text": [
      "3\n",
      "15.0\n"
     ]
    }
   ],
   "source": [
    "n=int(input())\n",
    "m=n*(n**2+1)/2\n",
    "print(m)"
   ]
  },
  {
   "cell_type": "code",
   "execution_count": 46,
   "metadata": {},
   "outputs": [
    {
     "name": "stdout",
     "output_type": "stream",
     "text": [
      "0 0 0 \n",
      "0 0 0 \n",
      "0 0 0 \n"
     ]
    }
   ],
   "source": [
    "ms=[]\n",
    "for i in range(3):\n",
    "    nl=[]\n",
    "    for j in range(3):\n",
    "        nl.append(0)\n",
    "    ms.append(nl)\n",
    "for i in range(3):\n",
    "    for j in range(3):\n",
    "        print(ms[i][j],end=\" \")\n",
    "    print()"
   ]
  },
  {
   "cell_type": "code",
   "execution_count": 47,
   "metadata": {},
   "outputs": [
    {
     "name": "stdout",
     "output_type": "stream",
     "text": [
      "[[0, 0, 0], [0, 0, 0], [0, 0, 0]]\n"
     ]
    }
   ],
   "source": [
    "ms=[[0 for i in range(3)] for j in range(3)]\n",
    "print(ms)"
   ]
  },
  {
   "cell_type": "code",
   "execution_count": 48,
   "metadata": {},
   "outputs": [
    {
     "name": "stdout",
     "output_type": "stream",
     "text": [
      "enter matrix size in odd values only:3\n",
      "2 7 6 \n",
      "9 5 1 \n",
      "4 3 8 \n"
     ]
    }
   ],
   "source": [
    "def magic_square(n):\n",
    "    ms=[[0 for i in range(n)] for j in range(n)]  #creating a matrix\n",
    "    (x,y)=(n//2,n-1)\n",
    "    n2=n*n\n",
    "    count=1\n",
    "    while(count<=n2):\n",
    "        if(x==-1 and y==n):\n",
    "            (x,y)=(0,n-2)\n",
    "        else:\n",
    "            if(x<0):\n",
    "                x=n-1\n",
    "            if(y==n):\n",
    "                y=0\n",
    "        if(ms[x][y]!=0):\n",
    "            (x,y)=(x+1,y-2)\n",
    "            continue\n",
    "        else:\n",
    "            ms[x][y]=count\n",
    "            count+=1\n",
    "        x-=1\n",
    "        y+=1\n",
    "    \n",
    "    for i in range(n):\n",
    "        for j in range(n):\n",
    "            print(ms[i][j],end=\" \")\n",
    "        print()\n",
    "        \n",
    "#main\n",
    "n=int(input(\"enter matrix size in odd values only:\"))\n",
    "magic_square(n)"
   ]
  },
  {
   "cell_type": "markdown",
   "metadata": {},
   "source": [
    "#### SPOT THE SIMILARITY-------------------------->"
   ]
  },
  {
   "cell_type": "code",
   "execution_count": 29,
   "metadata": {},
   "outputs": [],
   "source": [
    "#DOBBLE GAME"
   ]
  },
  {
   "cell_type": "code",
   "execution_count": 49,
   "metadata": {},
   "outputs": [
    {
     "name": "stdout",
     "output_type": "stream",
     "text": [
      "abcdefghijklmnopqrstuvwxyzABCDEFGHIJKLMNOPQRSTUVWXYZ\n"
     ]
    }
   ],
   "source": [
    "import string\n",
    "print(string.ascii_letters)"
   ]
  },
  {
   "cell_type": "code",
   "execution_count": 50,
   "metadata": {},
   "outputs": [
    {
     "name": "stdout",
     "output_type": "stream",
     "text": [
      "['B', 'k', 'G', 'X', 'L']\n",
      "['R', 'q', 'p', 'k', 'u']\n",
      "spot the similar symbol:k\n",
      "Right\n"
     ]
    }
   ],
   "source": [
    "\"\"\"program by instructor:\"\"\"\n",
    "\n",
    "import string\n",
    "import random\n",
    "symbols=list(string.ascii_letters)\n",
    "card1=[0]*5\n",
    "card2=[0]*5\n",
    "\"\"\"pos1 n pos2 r same symbl posns in crd1 n crd2 resp.\"\"\"\n",
    "pos1=random.randint(0,4)\n",
    "pos2=random.randint(0,4)\n",
    "samesymbol=random.choice(symbols)\n",
    "symbols.remove(samesymbol)\n",
    "if(pos1==pos2):\n",
    "    (card1[pos1],card2[pos2])=(samesymbol,samesymbol)\n",
    "else:\n",
    "    card1[pos1]=samesymbol\n",
    "    card2[pos2]=samesymbol\n",
    "    card1[pos2]=random.choice(symbols)\n",
    "    symbols.remove(card1[pos2])\n",
    "    card2[pos1]=random.choice(symbols)\n",
    "    symbols.remove(card2[pos1])\n",
    "i=0\n",
    "while(i<5):\n",
    "    if(i!=pos1 and i!=pos2):\n",
    "        card1[i]=random.choice(symbols)\n",
    "        symbols.remove(card1[i])\n",
    "        card2[i]=random.choice(symbols)\n",
    "        symbols.remove(card2[i])\n",
    "    i+=1\n",
    "print(card1)\n",
    "print(card2)\n",
    "ch=input(\"spot the similar symbol:\")\n",
    "if(ch==samesymbol):\n",
    "    print(\"Right\")\n",
    "else:\n",
    "    print(\"Wrong\")"
   ]
  },
  {
   "cell_type": "code",
   "execution_count": 51,
   "metadata": {},
   "outputs": [
    {
     "data": {
      "text/plain": [
       "[0, 0, 0, 0, 0]"
      ]
     },
     "execution_count": 51,
     "metadata": {},
     "output_type": "execute_result"
    }
   ],
   "source": [
    "[0]*5"
   ]
  },
  {
   "cell_type": "code",
   "execution_count": 52,
   "metadata": {},
   "outputs": [
    {
     "name": "stdout",
     "output_type": "stream",
     "text": [
      "[10, 18, 2, 19, 1, 9, 16, 11, 17, 13, 5, 3, 0, 14, 6, 4, 12, 15, 8, 7]\n"
     ]
    }
   ],
   "source": [
    "import random\n",
    "l=list(i for i in range(20))\n",
    "print(random.sample(l,len(l)))"
   ]
  },
  {
   "cell_type": "markdown",
   "metadata": {},
   "source": [
    "### welcome to my game"
   ]
  },
  {
   "cell_type": "code",
   "execution_count": 125,
   "metadata": {},
   "outputs": [
    {
     "name": "stdout",
     "output_type": "stream",
     "text": [
      "----------------------------------------------------\n",
      "WELCOME TO LEVEL: 1\n",
      "['Z', 'Q', 'w', 'n', 'D']\n",
      "['y', 'u', 'w', 'f', 'a']\n",
      "spot the similar symbol:w\n",
      "Right\n",
      "Ur score is: 1\n",
      "Do u want to continue y or n:y\n",
      "----------------------------------------------------\n",
      "WELCOME TO LEVEL: 2\n",
      "['V', 'C', 'W', 'b', 'd', 'f']\n",
      "['V', 's', 'u', 'G', 'o', 'Q']\n",
      "spot the similar symbol:V\n",
      "Right\n",
      "Ur score is: 2\n",
      "Do u want to continue y or n:y\n",
      "----------------------------------------------------\n",
      "WELCOME TO LEVEL: 3\n",
      "['w', 'c', 'N', 'Z', 'd', 'n', 't']\n",
      "['m', 'X', 'W', 'e', 'w', 'T', 'h']\n",
      "spot the similar symbol:w\n",
      "Right\n",
      "Ur score is: 3\n",
      "Do u want to continue y or n:y\n",
      "----------------------------------------------------\n",
      "WELCOME TO LEVEL: 4\n",
      "['K', 'W', 'm', 'q', 'y', 'o', 'R', 'S']\n",
      "['y', 'r', 'P', 'z', 'E', 'F', 'X', 'k']\n",
      "spot the similar symbol:p\n",
      "Wrong\n",
      "Ur score is: 3\n",
      "<----------thanks for playing------------------------>\n"
     ]
    }
   ],
   "source": [
    "\"\"\"EDITED BY RAUSHAN:\"\"\"\n",
    "\n",
    "import string\n",
    "import random\n",
    "j=5\n",
    "score=0\n",
    "print(\"----------------------------------------------------\")\n",
    "while(j<=26):\n",
    "    print(\"WELCOME TO LEVEL:\",j-4)\n",
    "    symbols=list(string.ascii_letters)\n",
    "    card1=[0]*j\n",
    "    card2=[0]*j\n",
    "    \"\"\"pos1 n pos2 r same symbl posns in crd1 n crd2 resp.\"\"\"\n",
    "    pos1=random.randint(0,j-1)\n",
    "    pos2=random.randint(0,j-1)\n",
    "    samesymbol=random.choice(symbols)\n",
    "    symbols.remove(samesymbol)\n",
    "    if(pos1==pos2):\n",
    "        (card1[pos1],card2[pos2])=(samesymbol,samesymbol)\n",
    "    else:\n",
    "        card1[pos1]=samesymbol\n",
    "        card2[pos2]=samesymbol\n",
    "        card1[pos2]=random.choice(symbols)\n",
    "        symbols.remove(card1[pos2])\n",
    "        card2[pos1]=random.choice(symbols)\n",
    "        symbols.remove(card2[pos1])\n",
    "    i=0\n",
    "    while(i<j):\n",
    "        if(i!=pos1 and i!=pos2):\n",
    "            card1[i]=random.choice(symbols)\n",
    "            symbols.remove(card1[i])\n",
    "            card2[i]=random.choice(symbols)\n",
    "            symbols.remove(card2[i])\n",
    "        i+=1\n",
    "    print(card1)\n",
    "    print(card2)\n",
    "    ch=input(\"spot the similar symbol:\")\n",
    "    if(ch==samesymbol):\n",
    "        print(\"Right\")\n",
    "        score+=1\n",
    "        print(\"Ur score is:\",score)\n",
    "        choice=input(\"Do u want to continue y or n:\")\n",
    "        if(choice==\"y\" or choice==\"Y\"):\n",
    "            j+=1\n",
    "            print(\"----------------------------------------------------\")\n",
    "            continue\n",
    "        else:\n",
    "            print(\"Ur score is:\",score)\n",
    "            print(\"----------------------------------------------------\")\n",
    "            break\n",
    "    else:\n",
    "        print(\"Wrong\")\n",
    "        print(\"Ur score is:\",score)\n",
    "        print(\"<----------thanks for playing------------------------>\")\n",
    "        break"
   ]
  },
  {
   "cell_type": "markdown",
   "metadata": {},
   "source": [
    "#### BIRTHDAY PARADOX---------------------------->"
   ]
  },
  {
   "cell_type": "code",
   "execution_count": 53,
   "metadata": {},
   "outputs": [
    {
     "name": "stdout",
     "output_type": "stream",
     "text": [
      "Enter the year:2100\n",
      "Given year 2100 is not a leap year\n"
     ]
    }
   ],
   "source": [
    "##leapyear\n",
    "\"\"\"LEAP YEAR\"\"\"\n",
    "\n",
    "year=int(input(\"Enter the year:\"))\n",
    "if(year%4==0 and year%100!=0 or year%400==0):\n",
    "    print(\"Given year\",year,\"is a leap year\")\n",
    "else:\n",
    "    print(\"Given year\",year,\"is not a leap year\")"
   ]
  },
  {
   "cell_type": "code",
   "execution_count": 54,
   "metadata": {},
   "outputs": [
    {
     "name": "stdout",
     "output_type": "stream",
     "text": [
      "[5, 12, 27, 29, 44, 55, 83, 98, 101, 102, 110, 116, 116, 125, 129, 129, 131, 140, 142, 143, 151, 159, 162, 170, 175, 177, 178, 208, 215, 218, 218, 223, 229, 242, 244, 248, 250, 265, 266, 277, 280, 284, 293, 315, 319, 332, 345, 346, 351, 364]\n"
     ]
    }
   ],
   "source": [
    "\"\"\"by instructor:\"\"\"\n",
    "\n",
    "import random\n",
    "import datetime\n",
    "birthday=[]\n",
    "i=0\n",
    "while(i<50):\n",
    "    year=random.randint(1895,2017)\n",
    "    #the oldest person ever lived was 122 years old\n",
    "    if(year%4==0 and year%100!=0 or year%400==0):\n",
    "        leap=1\n",
    "    else:\n",
    "        leap=0\n",
    "    month=random.randint(1,12)\n",
    "    if(month==2 and leap==1):\n",
    "        date1=random.randint(1,29)\n",
    "    elif(month==2 and leap==0):\n",
    "        date1=random.randint(1,28)\n",
    "    elif(month==7 or month==8):\n",
    "        date1=random.randint(1,31)\n",
    "    elif(month%2!=0 and month<7):\n",
    "        date1=random.randint(1,31)\n",
    "    elif(month%2==0 and month>7):\n",
    "        date1=random.randint(1,31)\n",
    "    else:\n",
    "        date1=random.randint(1,30)\n",
    "    dd=datetime.date(year,month,date1)\n",
    "    day_of_year=dd.timetuple().tm_yday\n",
    "    i+=1\n",
    "    birthday.append(day_of_year)\n",
    "\n",
    "birthday.sort()\n",
    "print(birthday)"
   ]
  },
  {
   "cell_type": "markdown",
   "metadata": {},
   "source": [
    "#### datetime module"
   ]
  },
  {
   "cell_type": "code",
   "execution_count": 55,
   "metadata": {},
   "outputs": [
    {
     "data": {
      "text/plain": [
       "datetime.date(2018, 10, 18)"
      ]
     },
     "execution_count": 55,
     "metadata": {},
     "output_type": "execute_result"
    }
   ],
   "source": [
    "datetime.date.today()   #returns current date"
   ]
  },
  {
   "cell_type": "code",
   "execution_count": 56,
   "metadata": {},
   "outputs": [
    {
     "data": {
      "text/plain": [
       "'18'"
      ]
     },
     "execution_count": 56,
     "metadata": {},
     "output_type": "execute_result"
    }
   ],
   "source": [
    "\"\"\"-------%y-------->\n",
    "Year without century as a zero-padded decimal number. \"\"\"\n",
    "datetime.date.today().strftime(\"%y\")"
   ]
  },
  {
   "cell_type": "code",
   "execution_count": 57,
   "metadata": {},
   "outputs": [
    {
     "data": {
      "text/plain": [
       "'2018'"
      ]
     },
     "execution_count": 57,
     "metadata": {},
     "output_type": "execute_result"
    }
   ],
   "source": [
    "\"\"\"-----%Y------->\n",
    "Year with century as a decimal number \"\"\"\n",
    "datetime.date.today().strftime(\"%Y\")"
   ]
  },
  {
   "cell_type": "code",
   "execution_count": 58,
   "metadata": {},
   "outputs": [
    {
     "data": {
      "text/plain": [
       "'October'"
      ]
     },
     "execution_count": 58,
     "metadata": {},
     "output_type": "execute_result"
    }
   ],
   "source": [
    "\"\"\"-------%B------->\n",
    "Month as locale’s full name \"\"\"\n",
    "datetime.date.today().strftime(\"%B\")"
   ]
  },
  {
   "cell_type": "code",
   "execution_count": 59,
   "metadata": {},
   "outputs": [
    {
     "data": {
      "text/plain": [
       "'Oct'"
      ]
     },
     "execution_count": 59,
     "metadata": {},
     "output_type": "execute_result"
    }
   ],
   "source": [
    "\"\"\"-------%b-------> \n",
    "Month as locale’s abbreviated name \"\"\"\n",
    "datetime.date.today().strftime(\"%b\")"
   ]
  },
  {
   "cell_type": "code",
   "execution_count": 60,
   "metadata": {},
   "outputs": [
    {
     "data": {
      "text/plain": [
       "'10/18/18'"
      ]
     },
     "execution_count": 60,
     "metadata": {},
     "output_type": "execute_result"
    }
   ],
   "source": [
    "datetime.date.today().strftime(\"%D\")   #date in mm/dd/yyyy format"
   ]
  },
  {
   "cell_type": "code",
   "execution_count": 61,
   "metadata": {},
   "outputs": [
    {
     "data": {
      "text/plain": [
       "'18'"
      ]
     },
     "execution_count": 61,
     "metadata": {},
     "output_type": "execute_result"
    }
   ],
   "source": [
    "\"\"\"-------%d------->\n",
    "Day of the month as a zero-padded decimal number\"\"\"\n",
    "datetime.date.today().strftime(\"%d\")"
   ]
  },
  {
   "cell_type": "markdown",
   "metadata": {},
   "source": [
    "#### -------------%H,%I,%M,%S,%f-------------->"
   ]
  },
  {
   "cell_type": "code",
   "execution_count": 62,
   "metadata": {},
   "outputs": [
    {
     "data": {
      "text/plain": [
       "'18'"
      ]
     },
     "execution_count": 62,
     "metadata": {},
     "output_type": "execute_result"
    }
   ],
   "source": [
    "datetime.datetime.today().strftime(\"%H\")   #HOUR IN 24 HOUR FORMAT"
   ]
  },
  {
   "cell_type": "code",
   "execution_count": 63,
   "metadata": {},
   "outputs": [
    {
     "data": {
      "text/plain": [
       "'06'"
      ]
     },
     "execution_count": 63,
     "metadata": {},
     "output_type": "execute_result"
    }
   ],
   "source": [
    "datetime.datetime.today().strftime(\"%I\")   #HOUR IN 12 HOUR FORMAT"
   ]
  },
  {
   "cell_type": "code",
   "execution_count": 64,
   "metadata": {},
   "outputs": [
    {
     "data": {
      "text/plain": [
       "'53'"
      ]
     },
     "execution_count": 64,
     "metadata": {},
     "output_type": "execute_result"
    }
   ],
   "source": [
    "datetime.datetime.today().strftime(\"%M\")   #MINUTE"
   ]
  },
  {
   "cell_type": "code",
   "execution_count": 65,
   "metadata": {},
   "outputs": [
    {
     "data": {
      "text/plain": [
       "'43'"
      ]
     },
     "execution_count": 65,
     "metadata": {},
     "output_type": "execute_result"
    }
   ],
   "source": [
    "datetime.datetime.today().strftime(\"%S\")   #SECOND"
   ]
  },
  {
   "cell_type": "code",
   "execution_count": 66,
   "metadata": {},
   "outputs": [
    {
     "data": {
      "text/plain": [
       "'461518'"
      ]
     },
     "execution_count": 66,
     "metadata": {},
     "output_type": "execute_result"
    }
   ],
   "source": [
    "datetime.datetime.today().strftime(\"%f\")   #MICROSECOND"
   ]
  },
  {
   "cell_type": "markdown",
   "metadata": {},
   "source": [
    "####------------------------------------------------"
   ]
  },
  {
   "cell_type": "code",
   "execution_count": 67,
   "metadata": {},
   "outputs": [
    {
     "data": {
      "text/plain": [
       "'10'"
      ]
     },
     "execution_count": 67,
     "metadata": {},
     "output_type": "execute_result"
    }
   ],
   "source": [
    "#---%m---> Month as a zero-padded decimal number. \n",
    "datetime.date.today().strftime(\"%m\")"
   ]
  },
  {
   "cell_type": "code",
   "execution_count": 68,
   "metadata": {
    "scrolled": true
   },
   "outputs": [
    {
     "data": {
      "text/plain": [
       "'18/10/18'"
      ]
     },
     "execution_count": 68,
     "metadata": {},
     "output_type": "execute_result"
    }
   ],
   "source": [
    "datetime.date.today().strftime(\"%d/%m/%y\")"
   ]
  },
  {
   "cell_type": "code",
   "execution_count": 69,
   "metadata": {},
   "outputs": [
    {
     "name": "stdout",
     "output_type": "stream",
     "text": [
      "week number of month: 42\n"
     ]
    }
   ],
   "source": [
    "\"\"\"-----%W----->\n",
    "Week number of the year (Monday as the first day of the week)as a decimal number.\n",
    "All days in a new year preceding the first Monday are considered to be in week 0 \"\"\"\n",
    "print(\"week number of month:\",datetime.date.today().strftime(\"%W\"))"
   ]
  },
  {
   "cell_type": "code",
   "execution_count": 70,
   "metadata": {},
   "outputs": [
    {
     "name": "stdout",
     "output_type": "stream",
     "text": [
      "weekday of the week: 4\n"
     ]
    }
   ],
   "source": [
    "\"\"\"-------%w------->\n",
    "Weekday as a decimal number, where 0 is Sunday and 6 is Saturday. \"\"\"\n",
    "print(\"weekday of the week:\",datetime.date.today().strftime(\"%w\"))"
   ]
  },
  {
   "cell_type": "code",
   "execution_count": 71,
   "metadata": {},
   "outputs": [
    {
     "name": "stdout",
     "output_type": "stream",
     "text": [
      "day of year: 291\n"
     ]
    }
   ],
   "source": [
    "\"\"\"-------%j-------> \n",
    "Day of the year as a zero-padded decimal number. \"\"\"\n",
    "print(\"day of year:\",datetime.date.today().strftime(\"%j\"))"
   ]
  },
  {
   "cell_type": "code",
   "execution_count": 72,
   "metadata": {},
   "outputs": [
    {
     "name": "stdout",
     "output_type": "stream",
     "text": [
      "day of week: Thu\n"
     ]
    }
   ],
   "source": [
    "\"\"\"<---------%a-------->\n",
    "Weekday as locale’s abbreviated name \"\"\"\n",
    "print(\"day of week:\",datetime.date.today().strftime(\"%a\"))"
   ]
  },
  {
   "cell_type": "code",
   "execution_count": 73,
   "metadata": {},
   "outputs": [
    {
     "name": "stdout",
     "output_type": "stream",
     "text": [
      "day of week: Thursday\n"
     ]
    }
   ],
   "source": [
    "\"\"\"-------%A-------> \n",
    "Weekday as locale’s full name.\"\"\"\n",
    "print(\"day of week:\",datetime.date.today().strftime(\"%A\"))"
   ]
  },
  {
   "cell_type": "code",
   "execution_count": 74,
   "metadata": {},
   "outputs": [
    {
     "data": {
      "text/plain": [
       "datetime.datetime(2018, 10, 18, 18, 54, 1, 698884)"
      ]
     },
     "execution_count": 74,
     "metadata": {},
     "output_type": "execute_result"
    }
   ],
   "source": [
    "\"\"\"returns current date and time as:\n",
    "(year, month, date, hour, minute, second, microsecond)\"\"\"\n",
    "datetime.datetime.now()  "
   ]
  },
  {
   "cell_type": "code",
   "execution_count": 75,
   "metadata": {},
   "outputs": [
    {
     "name": "stdout",
     "output_type": "stream",
     "text": [
      "2014-12-15\n"
     ]
    }
   ],
   "source": [
    "dd=datetime.date(2014, 12,15)\n",
    "print(dd)"
   ]
  },
  {
   "cell_type": "code",
   "execution_count": 76,
   "metadata": {},
   "outputs": [
    {
     "name": "stdout",
     "output_type": "stream",
     "text": [
      "day on date: 1997-11-07 is Friday\n"
     ]
    }
   ],
   "source": [
    "print(\"day on date:\",datetime.date(1997,11,7),\"is\",datetime.date(1997,11,7).strftime(\"%A\"))  #returns day of the date"
   ]
  },
  {
   "cell_type": "code",
   "execution_count": 77,
   "metadata": {},
   "outputs": [
    {
     "data": {
      "text/plain": [
       "datetime.datetime(2018, 10, 18, 13, 24, 10, 528585)"
      ]
     },
     "execution_count": 77,
     "metadata": {},
     "output_type": "execute_result"
    }
   ],
   "source": [
    "datetime.datetime.utcnow()   #returns the current utc date:"
   ]
  },
  {
   "cell_type": "markdown",
   "metadata": {},
   "source": [
    "### by me"
   ]
  },
  {
   "cell_type": "code",
   "execution_count": 78,
   "metadata": {},
   "outputs": [
    {
     "name": "stdout",
     "output_type": "stream",
     "text": [
      "1895-08-12\n",
      "1897-02-11\n",
      "1898-03-06\n",
      "1899-06-17\n",
      "1900-08-25\n",
      "1903-10-23\n",
      "1904-02-25\n",
      "1904-03-22\n",
      "1905-11-10\n",
      "1912-08-16\n",
      "1917-08-18\n",
      "1923-01-29\n",
      "1925-11-17\n",
      "1926-07-28\n",
      "1928-12-21\n",
      "1930-02-24\n",
      "1930-09-28\n",
      "1932-02-25\n",
      "1935-10-09\n",
      "1936-06-21\n",
      "1937-07-02\n",
      "1937-07-13\n",
      "1942-08-01\n",
      "1945-05-31\n",
      "1946-03-18\n",
      "1946-06-08\n",
      "1947-02-09\n",
      "1948-04-15\n",
      "1957-05-26\n",
      "1967-09-11\n",
      "1967-09-24\n",
      "1967-10-03\n",
      "1973-01-21\n",
      "1977-10-03\n",
      "1982-05-14\n",
      "1982-06-29\n",
      "1983-01-22\n",
      "1985-06-23\n",
      "1989-12-13\n",
      "1995-10-09\n",
      "2000-05-18\n",
      "2002-10-16\n",
      "2008-06-20\n",
      "2008-08-19\n",
      "2008-12-17\n",
      "2011-07-05\n",
      "2015-01-08\n",
      "2016-01-19\n",
      "2016-06-24\n",
      "2017-05-13\n"
     ]
    }
   ],
   "source": [
    "import random\n",
    "import datetime\n",
    "birthday=[]\n",
    "i=0\n",
    "while(i<50):\n",
    "    year=random.randint(1895,2017)\n",
    "    if(year%4==0 and year%100!=0 or year%400==0):\n",
    "        leap=1\n",
    "    else:\n",
    "        leap=0\n",
    "    month=random.randint(1,12)\n",
    "    if(month==2 and leap==1):\n",
    "        date1=random.randint(1,29)\n",
    "    elif(month==2 and leap==0):\n",
    "        date1=random.randint(1,28)\n",
    "    elif(month==7 or month==8):\n",
    "        date1=random.randint(1,31)\n",
    "    elif(month%2!=0 and month<7):\n",
    "        date1=random.randint(1,31)\n",
    "    elif(month%2==0 and month>7):\n",
    "        date1=random.randint(1,31)\n",
    "    else:\n",
    "        date1=random.randint(1,30)\n",
    "    dd=datetime.date(year,month,date1)\n",
    "    i+=1\n",
    "    birthday.append(str(dd))\n",
    "birthday.sort()\n",
    "for i in birthday:\n",
    "    print(i)"
   ]
  },
  {
   "cell_type": "markdown",
   "metadata": {},
   "source": [
    "#### GUESS THE MOVIE NAME"
   ]
  },
  {
   "cell_type": "code",
   "execution_count": null,
   "metadata": {},
   "outputs": [],
   "source": [
    "#INCOMPLETE\n",
    "import random\n",
    "movies=[\"anand\",\"drishyam\",\"golmaal\",\"deadpool\",\"matrix\",\"hello\",\"hello brother\",\"tare jameen par\",\"vikram vedha\",\"gravity\",\"dangal\",\"ae dil hai muskil\"]\n",
    "def play():\n",
    "    p1name=input(\"player1 please enter ur name:\")\n",
    "    p2name=input(\"player2 please enter ur name:\")\n",
    "    (pp1,pp2)=(0,0)\n",
    "    turn=0\n",
    "    willing=True\n",
    "    while(willing):\n",
    "        if(turn%2==0):\n",
    "            #player1\n",
    "            print(p1name,\"your turn:\")\n",
    "            picked_movie=random.choice(movies)"
   ]
  },
  {
   "cell_type": "code",
   "execution_count": 79,
   "metadata": {},
   "outputs": [
    {
     "name": "stdout",
     "output_type": "stream",
     "text": [
      "5 4\n",
      "1 2 3 4 \n",
      "5 6 7 8 \n",
      "9 10 11 12 \n",
      "13 14 15 16 \n",
      "17 18 19 20 \n"
     ]
    }
   ],
   "source": [
    "r,c=map(int,input().split())\n",
    "n=1\n",
    "for i in range(r):\n",
    "  for j in range(c):\n",
    "    print(n,end=\" \")\n",
    "    n+=1\n",
    "  print()"
   ]
  },
  {
   "cell_type": "code",
   "execution_count": 80,
   "metadata": {},
   "outputs": [
    {
     "name": "stdout",
     "output_type": "stream",
     "text": [
      "5 1\n",
      "1\n",
      "2\n",
      "3\n",
      "4\n",
      "5\n"
     ]
    }
   ],
   "source": [
    "r,c=map(int,input().split())\n",
    "n=1\n",
    "for i in range(r):\n",
    "  for j in range(c-1):\n",
    "    print(n,end=\" \")\n",
    "    n+=1\n",
    "  print(n)\n",
    "  n+=1  "
   ]
  },
  {
   "cell_type": "markdown",
   "metadata": {},
   "source": [
    "## hari work"
   ]
  },
  {
   "cell_type": "code",
   "execution_count": 83,
   "metadata": {},
   "outputs": [],
   "source": [
    "film =\"gazani\""
   ]
  },
  {
   "cell_type": "code",
   "execution_count": 93,
   "metadata": {},
   "outputs": [],
   "source": [
    "def formOutput(film,charIndex):#to print the character at charIndex in film, and mark other index as ?/*/_ \n",
    "    length=len(film)\n",
    "    newString=\"\"\n",
    "    for i in range(length):\n",
    "        if i==charIndex:\n",
    "            newString+=film[charIndex]\n",
    "        else:\n",
    "            newString+=\" _ \"\n",
    "    print(newString)"
   ]
  },
  {
   "cell_type": "code",
   "execution_count": 94,
   "metadata": {},
   "outputs": [
    {
     "name": "stdout",
     "output_type": "stream",
     "text": [
      " _  _  _ a _  _ \n"
     ]
    }
   ],
   "source": [
    "formOutput(film,3)"
   ]
  },
  {
   "cell_type": "code",
   "execution_count": 97,
   "metadata": {},
   "outputs": [
    {
     "name": "stdout",
     "output_type": "stream",
     "text": [
      "[]\n"
     ]
    }
   ],
   "source": [
    "print(index)"
   ]
  },
  {
   "cell_type": "code",
   "execution_count": 98,
   "metadata": {},
   "outputs": [
    {
     "data": {
      "text/plain": [
       "['44']"
      ]
     },
     "execution_count": 98,
     "metadata": {},
     "output_type": "execute_result"
    }
   ],
   "source": [
    "a=[]\n",
    "a.append(\"44\")\n",
    "a"
   ]
  },
  {
   "cell_type": "code",
   "execution_count": 99,
   "metadata": {},
   "outputs": [
    {
     "data": {
      "text/plain": [
       "'romoyyon'"
      ]
     },
     "execution_count": 99,
     "metadata": {},
     "output_type": "execute_result"
    }
   ],
   "source": [
    "\"ramayyan\".replace(\"a\",\"o\")"
   ]
  },
  {
   "cell_type": "code",
   "execution_count": 100,
   "metadata": {},
   "outputs": [],
   "source": [
    "def fn1(movie,char):\n",
    "    #movie=\"asman\"\n",
    "    #char=\"a\"\n",
    "    newString=\"\"\n",
    "    temp=movie\n",
    "    if char in temp:\n",
    "        temp=temp.replace(char,\"*\")\n",
    "    #print(temp)\n",
    "    for j in temp:\n",
    "        if j=='*':\n",
    "            newString+=char\n",
    "        else:\n",
    "            newString+=\" _ \"\n",
    "    #print(newString)\n",
    "    temp=newString"
   ]
  },
  {
   "cell_type": "code",
   "execution_count": 101,
   "metadata": {},
   "outputs": [],
   "source": [
    "fn1(\"ramayyan\",\"a\")"
   ]
  },
  {
   "cell_type": "code",
   "execution_count": 102,
   "metadata": {},
   "outputs": [
    {
     "name": "stdout",
     "output_type": "stream",
     "text": [
      "r*m*yy*n\n",
      " _ a _ a _  _ a _ \n"
     ]
    }
   ],
   "source": [
    "movie=\"ramayyan\"\n",
    "char=\"a\"\n",
    "newString=\"\"\n",
    "temp=movie\n",
    "\n",
    "if char in temp:\n",
    "    temp=temp.replace(char,\"*\")\n",
    "print(temp)\n",
    "for j in temp:\n",
    "    if j=='*':\n",
    "        newString+=char\n",
    "    else:\n",
    "        newString+=\" _ \"\n",
    "print(newString)\n",
    "#return newString"
   ]
  },
  {
   "cell_type": "markdown",
   "metadata": {},
   "source": [
    "#### bhak"
   ]
  },
  {
   "cell_type": "code",
   "execution_count": 103,
   "metadata": {},
   "outputs": [
    {
     "name": "stdout",
     "output_type": "stream",
     "text": [
      "raju\n"
     ]
    },
    {
     "data": {
      "text/plain": [
       "str"
      ]
     },
     "execution_count": 103,
     "metadata": {},
     "output_type": "execute_result"
    }
   ],
   "source": [
    "b=[\"r\",\"a\",\"j\",\"u\"]\n",
    "a=\"\".join(b)\n",
    "print(a)\n",
    "type(a)"
   ]
  },
  {
   "cell_type": "code",
   "execution_count": 104,
   "metadata": {},
   "outputs": [],
   "source": [
    "def quest(mov):\n",
    "    q1=[]\n",
    "    l=len(mov)\n",
    "    for i in range(l-1):\n",
    "        q1.append(\"_ \")\n",
    "    q1.append(\"_\")\n",
    "    q1=\"\".join(q1)\n",
    "    return(q1)"
   ]
  },
  {
   "cell_type": "code",
   "execution_count": 105,
   "metadata": {},
   "outputs": [
    {
     "data": {
      "text/plain": [
       "'_ _ _ _ _ _ _ _'"
      ]
     },
     "execution_count": 105,
     "metadata": {},
     "output_type": "execute_result"
    }
   ],
   "source": [
    "quest(\"ramayyan\")"
   ]
  },
  {
   "cell_type": "code",
   "execution_count": 106,
   "metadata": {},
   "outputs": [],
   "source": [
    "def pos(mov,char):\n",
    "    c=[]\n",
    "    for i in range(len(mov)):\n",
    "        if(char==mov[i]):\n",
    "            c.append(i)\n",
    "    return(c)"
   ]
  },
  {
   "cell_type": "code",
   "execution_count": 107,
   "metadata": {},
   "outputs": [
    {
     "data": {
      "text/plain": [
       "[1, 5]"
      ]
     },
     "execution_count": 107,
     "metadata": {},
     "output_type": "execute_result"
    }
   ],
   "source": [
    "pos(\"raushan\",\"a\")"
   ]
  },
  {
   "cell_type": "code",
   "execution_count": 85,
   "metadata": {},
   "outputs": [
    {
     "name": "stdout",
     "output_type": "stream",
     "text": [
      "5\n",
      "2\n",
      "1\n",
      "5\n",
      "4\n",
      "1\n",
      "[1, 1, 2, 4, 5]\n"
     ]
    }
   ],
   "source": [
    "import random\n",
    "n=int(input())\n",
    "l=[]\n",
    "for i in range(n):\n",
    "    l.append(int(input()))\n",
    "k=[]\n",
    "k.extend(l)\n",
    "k.sort()\n",
    "while(k!=l):\n",
    "    a=random.randint(0,n-1)\n",
    "    b=random.randint(0,n-1)\n",
    "    (l[a],l[b])=(l[b],l[a])\n",
    "print(l)"
   ]
  },
  {
   "cell_type": "code",
   "execution_count": 86,
   "metadata": {},
   "outputs": [
    {
     "data": {
      "text/plain": [
       "False"
      ]
     },
     "execution_count": 86,
     "metadata": {},
     "output_type": "execute_result"
    }
   ],
   "source": [
    "[1,2,3]==[1,3,2]"
   ]
  },
  {
   "cell_type": "code",
   "execution_count": null,
   "metadata": {},
   "outputs": [],
   "source": []
  },
  {
   "cell_type": "code",
   "execution_count": null,
   "metadata": {},
   "outputs": [],
   "source": []
  },
  {
   "cell_type": "markdown",
   "metadata": {},
   "source": [
    "### week-05-------------------------------------"
   ]
  },
  {
   "cell_type": "markdown",
   "metadata": {},
   "source": [
    "#### dictionary------->"
   ]
  },
  {
   "cell_type": "code",
   "execution_count": 108,
   "metadata": {},
   "outputs": [
    {
     "data": {
      "text/plain": [
       "{}"
      ]
     },
     "execution_count": 108,
     "metadata": {},
     "output_type": "execute_result"
    }
   ],
   "source": [
    "conv_fact={}\n",
    "conv_fact"
   ]
  },
  {
   "cell_type": "code",
   "execution_count": 109,
   "metadata": {},
   "outputs": [
    {
     "name": "stdout",
     "output_type": "stream",
     "text": [
      "{'bhak1': 'raushan'}\n",
      "{'bhak1': 'raushan', 'bhak2': 'hari'}\n",
      "{'bhak1': 'raushan', 'bhak2': 'hari', 'bhak3': 'ranjeet'}\n",
      "{'bhak1': 'raushan', 'bhak2': 'hari', 'bhak3': 'ranjeet', 'bhak4': 'rambabu'}\n",
      "{'bhak1': 'raushan', 'bhak2': 'hari', 'bhak3': 'ranjeet', 'bhak4': 'rambabu', 'bhak5': 'manu'}\n"
     ]
    }
   ],
   "source": [
    "conv_fact[\"bhak1\"]=\"raushan\"\n",
    "print (conv_fact)\n",
    "conv_fact[\"bhak2\"]=\"hari\"\n",
    "print (conv_fact)\n",
    "conv_fact[\"bhak3\"]=\"ranjeet\"\n",
    "print (conv_fact)\n",
    "conv_fact[\"bhak4\"]=\"rambabu\"\n",
    "print (conv_fact)\n",
    "conv_fact[\"bhak5\"]=\"manu\"\n",
    "print (conv_fact)"
   ]
  },
  {
   "cell_type": "code",
   "execution_count": 110,
   "metadata": {},
   "outputs": [
    {
     "name": "stdout",
     "output_type": "stream",
     "text": [
      "dict_keys(['bhak1', 'bhak2', 'bhak3', 'bhak4', 'bhak5'])\n"
     ]
    }
   ],
   "source": [
    "print(conv_fact.keys())"
   ]
  },
  {
   "cell_type": "markdown",
   "metadata": {},
   "source": [
    "we can also convert the above value in lists"
   ]
  },
  {
   "cell_type": "code",
   "execution_count": 111,
   "metadata": {},
   "outputs": [
    {
     "data": {
      "text/plain": [
       "dict_values(['raushan', 'hari', 'ranjeet', 'rambabu', 'manu'])"
      ]
     },
     "execution_count": 111,
     "metadata": {},
     "output_type": "execute_result"
    }
   ],
   "source": [
    "conv_fact.values()"
   ]
  },
  {
   "cell_type": "code",
   "execution_count": 112,
   "metadata": {},
   "outputs": [
    {
     "data": {
      "text/plain": [
       "dict_items([('bhak1', 'raushan'), ('bhak2', 'hari'), ('bhak3', 'ranjeet'), ('bhak4', 'rambabu'), ('bhak5', 'manu')])"
      ]
     },
     "execution_count": 112,
     "metadata": {},
     "output_type": "execute_result"
    }
   ],
   "source": [
    "conv_fact.items()"
   ]
  },
  {
   "cell_type": "code",
   "execution_count": 113,
   "metadata": {},
   "outputs": [
    {
     "data": {
      "text/plain": [
       "'ranjeet'"
      ]
     },
     "execution_count": 113,
     "metadata": {},
     "output_type": "execute_result"
    }
   ],
   "source": [
    "conv_fact.pop(\"bhak3\")"
   ]
  },
  {
   "cell_type": "code",
   "execution_count": 114,
   "metadata": {},
   "outputs": [
    {
     "data": {
      "text/plain": [
       "{'bhak1': 'raushan', 'bhak2': 'hari', 'bhak4': 'rambabu', 'bhak5': 'manu'}"
      ]
     },
     "execution_count": 114,
     "metadata": {},
     "output_type": "execute_result"
    }
   ],
   "source": [
    "conv_fact"
   ]
  },
  {
   "cell_type": "code",
   "execution_count": 115,
   "metadata": {},
   "outputs": [
    {
     "name": "stdout",
     "output_type": "stream",
     "text": [
      "{'bhak1': 'raushan', 'bhak2': 'hari', 'bhak5': 'manu'}\n"
     ]
    }
   ],
   "source": [
    "del conv_fact[\"bhak4\"]\n",
    "print(conv_fact)"
   ]
  },
  {
   "cell_type": "code",
   "execution_count": 116,
   "metadata": {},
   "outputs": [
    {
     "data": {
      "text/plain": [
       "{'r': None, 'a': None, 'y': None}"
      ]
     },
     "execution_count": 116,
     "metadata": {},
     "output_type": "execute_result"
    }
   ],
   "source": [
    "conv_fact.fromkeys(\"ray\")"
   ]
  },
  {
   "cell_type": "code",
   "execution_count": 117,
   "metadata": {},
   "outputs": [
    {
     "data": {
      "text/plain": [
       "{'bhak1': 'raushan', 'bhak2': 'hari', 'bhak5': 'manu'}"
      ]
     },
     "execution_count": 117,
     "metadata": {},
     "output_type": "execute_result"
    }
   ],
   "source": [
    "conv_fact"
   ]
  },
  {
   "cell_type": "code",
   "execution_count": 118,
   "metadata": {},
   "outputs": [
    {
     "data": {
      "text/plain": [
       "'raushan'"
      ]
     },
     "execution_count": 118,
     "metadata": {},
     "output_type": "execute_result"
    }
   ],
   "source": [
    "conv_fact.get(\"bhak1\")"
   ]
  },
  {
   "cell_type": "code",
   "execution_count": 119,
   "metadata": {},
   "outputs": [
    {
     "data": {
      "text/plain": [
       "('bhak5', 'manu')"
      ]
     },
     "execution_count": 119,
     "metadata": {},
     "output_type": "execute_result"
    }
   ],
   "source": [
    "conv_fact.popitem()"
   ]
  },
  {
   "cell_type": "code",
   "execution_count": 120,
   "metadata": {},
   "outputs": [
    {
     "data": {
      "text/plain": [
       "('bhak2', 'hari')"
      ]
     },
     "execution_count": 120,
     "metadata": {},
     "output_type": "execute_result"
    }
   ],
   "source": [
    "conv_fact.popitem()"
   ]
  },
  {
   "cell_type": "code",
   "execution_count": 121,
   "metadata": {},
   "outputs": [
    {
     "data": {
      "text/plain": [
       "{'bhak1': 'raushan', 'bhak2': 'hari', 'bhak3': 'ranjeet'}"
      ]
     },
     "execution_count": 121,
     "metadata": {},
     "output_type": "execute_result"
    }
   ],
   "source": [
    "dddd={\"bhak2\":\"hari\",\"bhak3\":\"ranjeet\"}\n",
    "conv_fact.update(dddd)\n",
    "conv_fact"
   ]
  },
  {
   "cell_type": "code",
   "execution_count": 122,
   "metadata": {},
   "outputs": [
    {
     "data": {
      "text/plain": [
       "{'bhak1': 'raushan', 'bhak2': 'hari', 'bhak3': 'ranjeet'}"
      ]
     },
     "execution_count": 122,
     "metadata": {},
     "output_type": "execute_result"
    }
   ],
   "source": [
    "conv_fact.copy()"
   ]
  },
  {
   "cell_type": "markdown",
   "metadata": {},
   "source": [
    "conv_fact.fromkeys?\n",
    "\n",
    "Signature: conv_fact.fromkeys(iterable, value=None, /)\n",
    "Docstring: Returns a new dict with keys from iterable and values equal to value.\n",
    "Type:      builtin_function_or_method"
   ]
  },
  {
   "cell_type": "code",
   "execution_count": 123,
   "metadata": {},
   "outputs": [
    {
     "data": {
      "text/plain": [
       "3"
      ]
     },
     "execution_count": 123,
     "metadata": {},
     "output_type": "execute_result"
    }
   ],
   "source": [
    "len(conv_fact)"
   ]
  },
  {
   "cell_type": "code",
   "execution_count": 124,
   "metadata": {},
   "outputs": [
    {
     "ename": "NameError",
     "evalue": "name 'cmp' is not defined",
     "output_type": "error",
     "traceback": [
      "\u001b[1;31m---------------------------------------------------------------------------\u001b[0m",
      "\u001b[1;31mNameError\u001b[0m                                 Traceback (most recent call last)",
      "\u001b[1;32m<ipython-input-124-a2eb40b8b6e1>\u001b[0m in \u001b[0;36m<module>\u001b[1;34m\u001b[0m\n\u001b[1;32m----> 1\u001b[1;33m \u001b[0mcmp\u001b[0m\u001b[1;33m(\u001b[0m\u001b[0mconv_fact\u001b[0m\u001b[1;33m,\u001b[0m\u001b[0mdddd\u001b[0m\u001b[1;33m)\u001b[0m\u001b[1;33m\u001b[0m\u001b[0m\n\u001b[0m",
      "\u001b[1;31mNameError\u001b[0m: name 'cmp' is not defined"
     ]
    }
   ],
   "source": [
    "cmp(conv_fact,dddd)"
   ]
  },
  {
   "cell_type": "code",
   "execution_count": 125,
   "metadata": {},
   "outputs": [
    {
     "data": {
      "text/plain": [
       "\"{'bhak1': 'raushan', 'bhak2': 'hari', 'bhak3': 'ranjeet'}\""
      ]
     },
     "execution_count": 125,
     "metadata": {},
     "output_type": "execute_result"
    }
   ],
   "source": [
    "str(conv_fact)"
   ]
  },
  {
   "cell_type": "code",
   "execution_count": 126,
   "metadata": {},
   "outputs": [
    {
     "name": "stdout",
     "output_type": "stream",
     "text": [
      "{'1': None, '2': None, '3': None, '4': None}\n",
      "{'1': 10, '2': 10, '3': 10, '4': 10}\n"
     ]
    }
   ],
   "source": [
    "see=(\"1\",\"2\",\"3\",\"4\",)\n",
    "val=10\n",
    "see1=dict.fromkeys(see)\n",
    "print(see1)\n",
    "see2=dict.fromkeys(see,val)\n",
    "print(see2)"
   ]
  },
  {
   "cell_type": "code",
   "execution_count": 127,
   "metadata": {},
   "outputs": [
    {
     "ename": "AttributeError",
     "evalue": "'dict' object has no attribute 'has_key'",
     "output_type": "error",
     "traceback": [
      "\u001b[1;31m---------------------------------------------------------------------------\u001b[0m",
      "\u001b[1;31mAttributeError\u001b[0m                            Traceback (most recent call last)",
      "\u001b[1;32m<ipython-input-127-894571a5a7aa>\u001b[0m in \u001b[0;36m<module>\u001b[1;34m\u001b[0m\n\u001b[1;32m----> 1\u001b[1;33m \u001b[0msee2\u001b[0m\u001b[1;33m.\u001b[0m\u001b[0mhas_key\u001b[0m\u001b[1;33m(\u001b[0m\u001b[1;34m\"3\"\u001b[0m\u001b[1;33m)\u001b[0m\u001b[1;33m\u001b[0m\u001b[0m\n\u001b[0m",
      "\u001b[1;31mAttributeError\u001b[0m: 'dict' object has no attribute 'has_key'"
     ]
    }
   ],
   "source": [
    "see2.has_key(\"3\")"
   ]
  },
  {
   "cell_type": "code",
   "execution_count": 128,
   "metadata": {},
   "outputs": [
    {
     "data": {
      "text/plain": [
       "{}"
      ]
     },
     "execution_count": 128,
     "metadata": {},
     "output_type": "execute_result"
    }
   ],
   "source": [
    "see2.clear()\n",
    "see2"
   ]
  },
  {
   "cell_type": "code",
   "execution_count": null,
   "metadata": {},
   "outputs": [],
   "source": []
  },
  {
   "cell_type": "markdown",
   "metadata": {},
   "source": [
    "### WEEK-05---------------------------------------------------------->"
   ]
  },
  {
   "cell_type": "markdown",
   "metadata": {},
   "source": [
    "### speech to text--------------------------"
   ]
  },
  {
   "cell_type": "code",
   "execution_count": 129,
   "metadata": {},
   "outputs": [
    {
     "ename": "FileNotFoundError",
     "evalue": "[Errno 2] No such file or directory: 'C:/Recording.wav'",
     "output_type": "error",
     "traceback": [
      "\u001b[1;31m---------------------------------------------------------------------------\u001b[0m",
      "\u001b[1;31mFileNotFoundError\u001b[0m                         Traceback (most recent call last)",
      "\u001b[1;32m<ipython-input-129-8a1601f3ffe8>\u001b[0m in \u001b[0;36m<module>\u001b[1;34m\u001b[0m\n\u001b[0;32m      2\u001b[0m \u001b[0maudio_file\u001b[0m \u001b[1;33m=\u001b[0m \u001b[1;33m(\u001b[0m\u001b[1;34m'C:/Recording.wav'\u001b[0m\u001b[1;33m)\u001b[0m\u001b[1;33m\u001b[0m\u001b[0m\n\u001b[0;32m      3\u001b[0m \u001b[0mr\u001b[0m \u001b[1;33m=\u001b[0m \u001b[0msr\u001b[0m\u001b[1;33m.\u001b[0m\u001b[0mRecognizer\u001b[0m\u001b[1;33m(\u001b[0m\u001b[1;33m)\u001b[0m\u001b[1;33m\u001b[0m\u001b[0m\n\u001b[1;32m----> 4\u001b[1;33m \u001b[1;32mwith\u001b[0m \u001b[0msr\u001b[0m\u001b[1;33m.\u001b[0m\u001b[0mAudioFile\u001b[0m\u001b[1;33m(\u001b[0m\u001b[0maudio_file\u001b[0m\u001b[1;33m)\u001b[0m \u001b[1;32mas\u001b[0m \u001b[0msource\u001b[0m\u001b[1;33m:\u001b[0m\u001b[1;33m\u001b[0m\u001b[0m\n\u001b[0m\u001b[0;32m      5\u001b[0m    \u001b[0maudio\u001b[0m \u001b[1;33m=\u001b[0m \u001b[0mr\u001b[0m\u001b[1;33m.\u001b[0m\u001b[0mrecord\u001b[0m\u001b[1;33m(\u001b[0m\u001b[0msource\u001b[0m\u001b[1;33m)\u001b[0m\u001b[1;33m\u001b[0m\u001b[0m\n\u001b[0;32m      6\u001b[0m \u001b[1;32mtry\u001b[0m\u001b[1;33m:\u001b[0m\u001b[1;33m\u001b[0m\u001b[0m\n",
      "\u001b[1;32mc:\\users\\raushan\\appdata\\local\\programs\\python\\python37-32\\lib\\site-packages\\speech_recognition\\__init__.py\u001b[0m in \u001b[0;36m__enter__\u001b[1;34m(self)\u001b[0m\n\u001b[0;32m    201\u001b[0m         \u001b[1;32mtry\u001b[0m\u001b[1;33m:\u001b[0m\u001b[1;33m\u001b[0m\u001b[0m\n\u001b[0;32m    202\u001b[0m             \u001b[1;31m# attempt to read the file as WAV\u001b[0m\u001b[1;33m\u001b[0m\u001b[1;33m\u001b[0m\u001b[0m\n\u001b[1;32m--> 203\u001b[1;33m             \u001b[0mself\u001b[0m\u001b[1;33m.\u001b[0m\u001b[0maudio_reader\u001b[0m \u001b[1;33m=\u001b[0m \u001b[0mwave\u001b[0m\u001b[1;33m.\u001b[0m\u001b[0mopen\u001b[0m\u001b[1;33m(\u001b[0m\u001b[0mself\u001b[0m\u001b[1;33m.\u001b[0m\u001b[0mfilename_or_fileobject\u001b[0m\u001b[1;33m,\u001b[0m \u001b[1;34m\"rb\"\u001b[0m\u001b[1;33m)\u001b[0m\u001b[1;33m\u001b[0m\u001b[0m\n\u001b[0m\u001b[0;32m    204\u001b[0m             \u001b[0mself\u001b[0m\u001b[1;33m.\u001b[0m\u001b[0mlittle_endian\u001b[0m \u001b[1;33m=\u001b[0m \u001b[1;32mTrue\u001b[0m  \u001b[1;31m# RIFF WAV is a little-endian format (most ``audioop`` operations assume that the frames are stored in little-endian form)\u001b[0m\u001b[1;33m\u001b[0m\u001b[0m\n\u001b[0;32m    205\u001b[0m         \u001b[1;32mexcept\u001b[0m \u001b[1;33m(\u001b[0m\u001b[0mwave\u001b[0m\u001b[1;33m.\u001b[0m\u001b[0mError\u001b[0m\u001b[1;33m,\u001b[0m \u001b[0mEOFError\u001b[0m\u001b[1;33m)\u001b[0m\u001b[1;33m:\u001b[0m\u001b[1;33m\u001b[0m\u001b[0m\n",
      "\u001b[1;32mc:\\users\\raushan\\appdata\\local\\programs\\python\\python37-32\\lib\\wave.py\u001b[0m in \u001b[0;36mopen\u001b[1;34m(f, mode)\u001b[0m\n\u001b[0;32m    508\u001b[0m             \u001b[0mmode\u001b[0m \u001b[1;33m=\u001b[0m \u001b[1;34m'rb'\u001b[0m\u001b[1;33m\u001b[0m\u001b[0m\n\u001b[0;32m    509\u001b[0m     \u001b[1;32mif\u001b[0m \u001b[0mmode\u001b[0m \u001b[1;32min\u001b[0m \u001b[1;33m(\u001b[0m\u001b[1;34m'r'\u001b[0m\u001b[1;33m,\u001b[0m \u001b[1;34m'rb'\u001b[0m\u001b[1;33m)\u001b[0m\u001b[1;33m:\u001b[0m\u001b[1;33m\u001b[0m\u001b[0m\n\u001b[1;32m--> 510\u001b[1;33m         \u001b[1;32mreturn\u001b[0m \u001b[0mWave_read\u001b[0m\u001b[1;33m(\u001b[0m\u001b[0mf\u001b[0m\u001b[1;33m)\u001b[0m\u001b[1;33m\u001b[0m\u001b[0m\n\u001b[0m\u001b[0;32m    511\u001b[0m     \u001b[1;32melif\u001b[0m \u001b[0mmode\u001b[0m \u001b[1;32min\u001b[0m \u001b[1;33m(\u001b[0m\u001b[1;34m'w'\u001b[0m\u001b[1;33m,\u001b[0m \u001b[1;34m'wb'\u001b[0m\u001b[1;33m)\u001b[0m\u001b[1;33m:\u001b[0m\u001b[1;33m\u001b[0m\u001b[0m\n\u001b[0;32m    512\u001b[0m         \u001b[1;32mreturn\u001b[0m \u001b[0mWave_write\u001b[0m\u001b[1;33m(\u001b[0m\u001b[0mf\u001b[0m\u001b[1;33m)\u001b[0m\u001b[1;33m\u001b[0m\u001b[0m\n",
      "\u001b[1;32mc:\\users\\raushan\\appdata\\local\\programs\\python\\python37-32\\lib\\wave.py\u001b[0m in \u001b[0;36m__init__\u001b[1;34m(self, f)\u001b[0m\n\u001b[0;32m    158\u001b[0m         \u001b[0mself\u001b[0m\u001b[1;33m.\u001b[0m\u001b[0m_i_opened_the_file\u001b[0m \u001b[1;33m=\u001b[0m \u001b[1;32mNone\u001b[0m\u001b[1;33m\u001b[0m\u001b[0m\n\u001b[0;32m    159\u001b[0m         \u001b[1;32mif\u001b[0m \u001b[0misinstance\u001b[0m\u001b[1;33m(\u001b[0m\u001b[0mf\u001b[0m\u001b[1;33m,\u001b[0m \u001b[0mstr\u001b[0m\u001b[1;33m)\u001b[0m\u001b[1;33m:\u001b[0m\u001b[1;33m\u001b[0m\u001b[0m\n\u001b[1;32m--> 160\u001b[1;33m             \u001b[0mf\u001b[0m \u001b[1;33m=\u001b[0m \u001b[0mbuiltins\u001b[0m\u001b[1;33m.\u001b[0m\u001b[0mopen\u001b[0m\u001b[1;33m(\u001b[0m\u001b[0mf\u001b[0m\u001b[1;33m,\u001b[0m \u001b[1;34m'rb'\u001b[0m\u001b[1;33m)\u001b[0m\u001b[1;33m\u001b[0m\u001b[0m\n\u001b[0m\u001b[0;32m    161\u001b[0m             \u001b[0mself\u001b[0m\u001b[1;33m.\u001b[0m\u001b[0m_i_opened_the_file\u001b[0m \u001b[1;33m=\u001b[0m \u001b[0mf\u001b[0m\u001b[1;33m\u001b[0m\u001b[0m\n\u001b[0;32m    162\u001b[0m         \u001b[1;31m# else, assume it is an open file object already\u001b[0m\u001b[1;33m\u001b[0m\u001b[1;33m\u001b[0m\u001b[0m\n",
      "\u001b[1;31mFileNotFoundError\u001b[0m: [Errno 2] No such file or directory: 'C:/Recording.wav'"
     ]
    }
   ],
   "source": [
    "import speech_recognition as sr\n",
    "audio_file = ('C:/Recording.wav')\n",
    "r = sr.Recognizer()\n",
    "with sr.AudioFile(audio_file) as source:\n",
    "   audio = r.record(source)   \n",
    "try:\n",
    "   print(\"audio file contain\" + r.recognize_google(audio))\n",
    "except sr.UnknownValueError:\n",
    "   print(\"Google speech recognizer cant understand your audio\")\n",
    "except sr.RequestError:\n",
    "   print(\"Couldnt get the result from Google Speach Recognition\")"
   ]
  },
  {
   "cell_type": "code",
   "execution_count": null,
   "metadata": {},
   "outputs": [],
   "source": []
  },
  {
   "cell_type": "markdown",
   "metadata": {},
   "source": [
    "### monte hall-------"
   ]
  },
  {
   "cell_type": "code",
   "execution_count": 130,
   "metadata": {},
   "outputs": [
    {
     "name": "stdout",
     "output_type": "stream",
     "text": [
      "[]\n",
      "[]\n"
     ]
    },
    {
     "ename": "IndexError",
     "evalue": "list assignment index out of range",
     "output_type": "error",
     "traceback": [
      "\u001b[1;31m---------------------------------------------------------------------------\u001b[0m",
      "\u001b[1;31mIndexError\u001b[0m                                Traceback (most recent call last)",
      "\u001b[1;32m<ipython-input-130-29ad318bbe72>\u001b[0m in \u001b[0;36m<module>\u001b[1;34m\u001b[0m\n\u001b[0;32m      3\u001b[0m \u001b[0mg\u001b[0m\u001b[1;33m=\u001b[0m\u001b[1;33m[\u001b[0m\u001b[1;33m]\u001b[0m\u001b[1;33m*\u001b[0m\u001b[1;36m3\u001b[0m\u001b[1;33m\u001b[0m\u001b[0m\n\u001b[0;32m      4\u001b[0m \u001b[0mprint\u001b[0m\u001b[1;33m(\u001b[0m\u001b[0mg\u001b[0m\u001b[1;33m)\u001b[0m\u001b[1;33m\u001b[0m\u001b[0m\n\u001b[1;32m----> 5\u001b[1;33m \u001b[0mg\u001b[0m\u001b[1;33m[\u001b[0m\u001b[1;36m0\u001b[0m\u001b[1;33m]\u001b[0m\u001b[1;33m=\u001b[0m\u001b[1;36m5\u001b[0m\u001b[1;33m\u001b[0m\u001b[0m\n\u001b[0m",
      "\u001b[1;31mIndexError\u001b[0m: list assignment index out of range"
     ]
    }
   ],
   "source": [
    "g=[]\n",
    "print(g)\n",
    "g=[]*3\n",
    "print(g)\n",
    "g[0]=5"
   ]
  },
  {
   "cell_type": "code",
   "execution_count": 133,
   "metadata": {
    "scrolled": true
   },
   "outputs": [
    {
     "name": "stdout",
     "output_type": "stream",
     "text": [
      "enter the choice:1\n",
      "do u want to swap:Y\n",
      "player wins\n",
      "---------------------------------\n",
      "enter the choice:0\n",
      "do u want to swap:Y\n",
      "player lost\n",
      "---------------------------------\n",
      "enter the choice:2\n",
      "do u want to swap:Y\n",
      "player lost\n",
      "---------------------------------\n",
      "swap 1\n",
      "dont swap 2\n"
     ]
    }
   ],
   "source": [
    "import random\n",
    "doors=[0]*3\n",
    "goatdoor=[0]*2\n",
    "swap=0      #no.of swap wins\n",
    "dont_swap=0    #no. of dont swap wins\n",
    "j=0\n",
    "while(j<3):\n",
    "    x=random.randint(0,2)     #xth door will comprise of BMW\n",
    "    doors[x]=\"BMW\"\n",
    "    for i in range(0,3):\n",
    "        if (i==x):\n",
    "            continue\n",
    "        else:\n",
    "            doors[i]=\"Goat\"\n",
    "            goatdoor.append(i)\n",
    "    choice=int(input(\"enter the choice:\"))\n",
    "    door_open=random.choice(goatdoor) #open a door that comprises of goat\n",
    "    while(door_open==choice):   #door open should nt be equal to choice made by participants\n",
    "        door_open=random.choice(goatdoor)\n",
    "    ch=input(\"do u want to swap:\")\n",
    "    if(ch==\"y\"or \"Y\"):\n",
    "        if(doors[choice]==\"Goat\"):\n",
    "            print(\"player wins\")\n",
    "            print(\"---------------------------------\")\n",
    "            swap+=1\n",
    "        else:\n",
    "            print(\"player lost\")\n",
    "            dont_swap+=1\n",
    "            print(\"---------------------------------\")\n",
    "    else:\n",
    "        if(doors[choice]==\"Goat\"):\n",
    "            print(\"player lost\")\n",
    "            swap+=1\n",
    "            print(\"---------------------------------\")\n",
    "        else:\n",
    "            print(\"player wins\")\n",
    "            print(\"---------------------------------\")\n",
    "            dont_swap+=1\n",
    "    j+=1        \n",
    "print(\"swap\",swap)\n",
    "print(\"dont swap\",dont_swap)"
   ]
  },
  {
   "cell_type": "code",
   "execution_count": null,
   "metadata": {},
   "outputs": [],
   "source": []
  },
  {
   "cell_type": "markdown",
   "metadata": {},
   "source": [
    "### rock paper and scissor game:"
   ]
  },
  {
   "cell_type": "code",
   "execution_count": 2,
   "metadata": {},
   "outputs": [
    {
     "name": "stdout",
     "output_type": "stream",
     "text": [
      "-----------------------------------\n",
      "player 1,enter your choice:14578\n",
      "player 2,enter your choice:12467\n",
      "player 1,enter the secret bit position:2\n",
      "player 2,enter the secret bit position:1\n",
      "Draw\n",
      "do u want to continue? y/n:j\n",
      "-----------------------------------\n",
      "player 1,enter your choice:4154545\n",
      "player 2,enter your choice:455865\n",
      "player 1,enter the secret bit position:4\n",
      "player 2,enter the secret bit position:4\n",
      "Player:1,wins\n",
      "do u want to continue? y/n:n\n",
      "-----------------------------------\n"
     ]
    }
   ],
   "source": [
    "def RPS(num1,num2,bit1,bit2):\n",
    "    ip1=int(num1[bit1])%3\n",
    "    ip2=int(num2[bit2])%3\n",
    "    if(p1[ip1]==p2[ip2]):\n",
    "        print(\"Draw\")\n",
    "    elif(p1[ip1]==\"Rock\" and p2[ip2]==\"Scissor\"):\n",
    "        print(\"Player:1,wins\")\n",
    "    elif(p1[ip1]==\"Rock\" and p2[ip2]==\"Paper\"):\n",
    "        print(\"Player:2,wins\")\n",
    "    elif(p1[ip1]==\"Paper\" and p2[ip2]==\"Scissor\"):\n",
    "        print(\"Player:2,wins\")\n",
    "    elif(p1[ip1]==\"Paper\" and p2[ip2]==\"Rock\"):\n",
    "        print(\"Player:1,wins\")\n",
    "    elif(p1[ip1]==\"Scissor\" and p2[ip2]==\"Rock\"):\n",
    "        print(\"Player:2,wins\")\n",
    "    elif(p1[ip1]==\"Scissor\" and p2[ip2]==\"Paper\"):\n",
    "        print(\"Player:1,wins\")\n",
    "        \n",
    "#main part\n",
    "print(\"-----------------------------------\")\n",
    "p1={0:\"Rock\",1:\"Paper\",2:\"Scissor\"}\n",
    "p2={0:\"Paper\",1:\"Rock\",2:\"Scissor\"}\n",
    "while(1):\n",
    "    num1=input(\"player 1,enter your choice:\")\n",
    "    num2=input(\"player 2,enter your choice:\")\n",
    "    bit1=int(input(\"player 1,enter the secret bit position:\"))\n",
    "    bit2=int(input(\"player 2,enter the secret bit position:\"))\n",
    "    RPS(num1,num2,bit1,bit2)\n",
    "    cho=input(\"do u want to continue? y/n:\")\n",
    "    print(\"-----------------------------------\")\n",
    "    if (cho==\"N\" or cho==\"n\"):\n",
    "        break\n",
    "        "
   ]
  },
  {
   "cell_type": "markdown",
   "metadata": {},
   "source": [
    "### sorting and searching"
   ]
  },
  {
   "cell_type": "markdown",
   "metadata": {},
   "source": [
    "#### bubble_sort-----"
   ]
  },
  {
   "cell_type": "code",
   "execution_count": 134,
   "metadata": {},
   "outputs": [
    {
     "name": "stdout",
     "output_type": "stream",
     "text": [
      "enter the array of elements:0 0 0 1 4 2 1 5\n",
      "[0, 0, 0, 1, 1, 2, 4, 5]\n"
     ]
    }
   ],
   "source": [
    "#<<<<<--------BUBBLE_SORT--------->>>>>\n",
    "def bubble_sort(ar):\n",
    "    n=len(ar)\n",
    "    for i in range(n):\n",
    "        for j in range(n-i-1):\n",
    "            if(ar[j]>ar[j+1]):\n",
    "                ar[j],ar[j+1]=ar[j+1],ar[j]\n",
    "                \n",
    "ar=list(map(int,input(\"enter the array of elements:\").split()))\n",
    "bubble_sort(ar)\n",
    "print(ar)"
   ]
  },
  {
   "cell_type": "markdown",
   "metadata": {},
   "source": [
    "#### linear search"
   ]
  },
  {
   "cell_type": "code",
   "execution_count": 7,
   "metadata": {},
   "outputs": [
    {
     "name": "stdout",
     "output_type": "stream",
     "text": [
      "enter elements with space:1 2 5 4 6\n",
      "enter value to be searched:12\n",
      "12 is not found in list\n"
     ]
    }
   ],
   "source": [
    "def l_srch(ar1,val):\n",
    "    n=len(ar1)\n",
    "    for i in range(n):\n",
    "        if(ar1[i]==val):\n",
    "            print(\"no. \",val,\"is found at position \",i+1)\n",
    "            return(1)\n",
    "    return(0)   \n",
    "\n",
    "#main part\n",
    "ar1=list(map(int,input(\"enter elements with space:\").split()))\n",
    "val=int(input(\"enter value to be searched:\"))\n",
    "flag=l_srch(ar1,val)\n",
    "if flag==0:\n",
    "    print(val,\"is not found in list\")"
   ]
  },
  {
   "cell_type": "markdown",
   "metadata": {},
   "source": [
    "#### binary search"
   ]
  },
  {
   "cell_type": "code",
   "execution_count": 4,
   "metadata": {},
   "outputs": [
    {
     "name": "stdout",
     "output_type": "stream",
     "text": [
      "enter elements with space in ascending order:4 5\n",
      "enter value to be searched:5\n",
      "5 is found at position  2\n"
     ]
    }
   ],
   "source": [
    "def b_srch(ar,val1):\n",
    "    start=0\n",
    "    end=len(ar)-1\n",
    "    while(start<=end):\n",
    "        mid=(start+end)//2\n",
    "        if(val1==ar[mid]):\n",
    "            print(val1,\"is found at position \",mid+1)\n",
    "            return(1)\n",
    "        else:\n",
    "            if(val1<ar[mid]):\n",
    "                end=mid-1\n",
    "            else:\n",
    "                start=mid+1\n",
    "    return(0)\n",
    "\n",
    "\n",
    "\n",
    "#main part\n",
    "ar2=list(map(int,input(\"enter elements with space in ascending order:\").split()))\n",
    "val1=int(input(\"enter value to be searched:\"))\n",
    "flag=b_srch(ar2,val1)\n",
    "if flag==0:\n",
    "    print(val1,\"is not found in list\")"
   ]
  },
  {
   "cell_type": "markdown",
   "metadata": {},
   "source": [
    "### week-5 and 6 proggramming assignment"
   ]
  },
  {
   "cell_type": "code",
   "execution_count": 135,
   "metadata": {},
   "outputs": [
    {
     "name": "stdout",
     "output_type": "stream",
     "text": [
      "4\n",
      "{1: 1, 2: 4, 3: 9, 4: 16}\n"
     ]
    }
   ],
   "source": [
    "d3={}\n",
    "n=int(input())\n",
    "for i in range(1,n+1):\n",
    "    d3[i]=i**2\n",
    "print(d3)"
   ]
  },
  {
   "cell_type": "code",
   "execution_count": 14,
   "metadata": {},
   "outputs": [
    {
     "name": "stdout",
     "output_type": "stream",
     "text": [
      "10\n",
      "DOWN 10\n",
      "LEFT 11\n",
      "RIGHT 1\n",
      "DOWN 5\n",
      "LEFT 1\n",
      "LEFT 14\n",
      "DOWN 3\n",
      "UP 6\n",
      "DOWN 3\n",
      "UP 4\n",
      "27"
     ]
    }
   ],
   "source": [
    "import math\n",
    "x,y=0,0\n",
    "n=int(input())\n",
    "for i in range(n):\n",
    "    a=input()\n",
    "    a1=list(a.split(\" \"))\n",
    "    a2,a3=a1[0],int(a1[1])\n",
    "    if(a2==\"UP\"):\n",
    "        y+=a3\n",
    "    elif(a2==\"DOWN\"):\n",
    "        y-=a3\n",
    "    elif(a2==\"LEFT\"):\n",
    "        x-=a3\n",
    "    elif(a2==\"RIGHT\"):\n",
    "        x+=a3\n",
    "d6=math.sqrt(x**2+y**2)\n",
    "print(round(d6),end=\"\")"
   ]
  },
  {
   "cell_type": "code",
   "execution_count": 22,
   "metadata": {},
   "outputs": [
    {
     "name": "stdout",
     "output_type": "stream",
     "text": [
      "1 0 5 4 2 0 1 4 2 0 0 1 4 0 7 9 1 0 9\n",
      "[1, 0, 5, 4, 2, 0, 1, 4, 2, 0, 0, 1, 4, 0, 7, 9, 1, 0, 9]\n",
      "1 0 5 4 2 7 9"
     ]
    }
   ],
   "source": [
    "l3=list(map(int, input().split()))\n",
    "print(l3)\n",
    "l4=[]\n",
    "for i in l3:\n",
    "    if i not in l4:\n",
    "        l4.append(i)\n",
    "print(*l4,end=\"\")\n",
    "        "
   ]
  },
  {
   "cell_type": "code",
   "execution_count": 136,
   "metadata": {},
   "outputs": [
    {
     "name": "stdout",
     "output_type": "stream",
     "text": [
      "82\n",
      "NO"
     ]
    }
   ],
   "source": [
    "n=int(input())\n",
    "a3=2\n",
    "i=0\n",
    "while(a3<n):\n",
    "    a3=2**i\n",
    "    if(a3==n):\n",
    "        print(\"YES\",end=\"\")\n",
    "        break\n",
    "    else:\n",
    "        i+=1\n",
    "if(a3>n):\n",
    "    print(\"NO\",end=\"\")"
   ]
  },
  {
   "cell_type": "code",
   "execution_count": 28,
   "metadata": {},
   "outputs": [
    {
     "name": "stdout",
     "output_type": "stream",
     "text": [
      "3\n",
      "1 2 3\n",
      "4 5 6\n",
      "7 8 9\n",
      "1 0 0\n",
      "4 5 0\n",
      "7 8 9\n"
     ]
    }
   ],
   "source": [
    "L=[]\n",
    "n=int(input())\n",
    "for i in range(n):\n",
    "    L.append(list(map(int,input().split())))\n",
    "for i in range(n):\n",
    "    for j in range(n):\n",
    "        if(i<j):\n",
    "            L[i][j]=0\n",
    "for k in L:\n",
    "    print(*k)"
   ]
  },
  {
   "cell_type": "code",
   "execution_count": 141,
   "metadata": {},
   "outputs": [
    {
     "data": {
      "text/plain": [
       "3.0"
      ]
     },
     "execution_count": 141,
     "metadata": {},
     "output_type": "execute_result"
    }
   ],
   "source": [
    "round(2.97,1)"
   ]
  },
  {
   "cell_type": "code",
   "execution_count": null,
   "metadata": {},
   "outputs": [],
   "source": []
  }
 ],
 "metadata": {
  "kernelspec": {
   "display_name": "Python 3",
   "language": "python",
   "name": "python3"
  },
  "language_info": {
   "codemirror_mode": {
    "name": "ipython",
    "version": 3
   },
   "file_extension": ".py",
   "mimetype": "text/x-python",
   "name": "python",
   "nbconvert_exporter": "python",
   "pygments_lexer": "ipython3",
   "version": "3.7.0"
  }
 },
 "nbformat": 4,
 "nbformat_minor": 2
}
