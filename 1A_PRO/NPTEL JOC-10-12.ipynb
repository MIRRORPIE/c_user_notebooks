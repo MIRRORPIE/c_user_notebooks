{
 "cells": [
  {
   "cell_type": "markdown",
   "metadata": {},
   "source": [
    "## week-10------------>"
   ]
  },
  {
   "cell_type": "markdown",
   "metadata": {},
   "source": [
    "#### string:------>"
   ]
  },
  {
   "cell_type": "code",
   "execution_count": 1,
   "metadata": {},
   "outputs": [
    {
     "name": "stdout",
     "output_type": "stream",
     "text": [
      "raj RAJ rAJ Raj Raj\n",
      "False True True True False False\n",
      "True raj raushan l 2 False\n",
      "False Ramu\n",
      "Raj\n"
     ]
    }
   ],
   "source": [
    "import string\n",
    "s=\"Raj\"\n",
    "print(s.lower(),s.upper(),s.swapcase(),s.title(),s.capitalize())   #raj RAJ rAJ Raj Raj\n",
    "print(s.islower(),s.isalnum(),s.isprintable(),s.isalpha(),s.isdecimal(),s.isnumeric())   #False True True True False False\n",
    "print(s.startswith(\"R\"),s.casefold(),\"RAUSHAN l\".casefold(),s.find(\"j\"),s.endswith(\"a\"))  #True raj raushan l 2 False\n",
    "print(s.isspace(),s.replace(\"j\",\"mu\"))                 #False Ramu\n",
    "print(s)                           #Raj"
   ]
  },
  {
   "cell_type": "code",
   "execution_count": 2,
   "metadata": {},
   "outputs": [
    {
     "name": "stdout",
     "output_type": "stream",
     "text": [
      "['R', 'a', 'u', 's', 'h', 'a', 'n', ' ', 'i', 's', ' ', 'a', ' ', 'g', 'o', 'o', 'd', ' ', 'b', 'o', 'y']\n"
     ]
    }
   ],
   "source": [
    "s=\"Raushan is a good boy\"\n",
    "s_l=list(s)\n",
    "print(s_l)"
   ]
  },
  {
   "cell_type": "code",
   "execution_count": null,
   "metadata": {},
   "outputs": [],
   "source": []
  },
  {
   "cell_type": "markdown",
   "metadata": {},
   "source": [
    "#### The game FLAMES:----->"
   ]
  },
  {
   "cell_type": "code",
   "execution_count": 1,
   "metadata": {},
   "outputs": [
    {
     "name": "stdout",
     "output_type": "stream",
     "text": [
      "Enter first person name:hari\n",
      "Enter second person name:kishore\n",
      "Friend\n"
     ]
    }
   ],
   "source": [
    "import string\n",
    "\n",
    "def remove_matching_letter(l1,l2):\n",
    "    ll1,ll2=len(l1),len(l2)\n",
    "    for i in range(ll1):\n",
    "        for j in range(ll2):\n",
    "            if(l1[i]==l2[j]):\n",
    "                c=l1[i]\n",
    "                l1.remove(c)\n",
    "                l2.remove(c)\n",
    "                return(l1+[\"*\"]+l2)\n",
    "    return(l1+l2)\n",
    "    \n",
    "    \n",
    "#main part\n",
    "result=[\"Friend\",\"Love\",\"Affection\",\"Marriage\",\"Enemy\",\"Siblings\"]\n",
    "p1=input(\"Enter first person name:\")\n",
    "p1=p1.lower()\n",
    "p1=p1.replace(\" \",\"\")\n",
    "l1=list(p1)\n",
    "p2=input(\"Enter second person name:\")\n",
    "p2=p2.lower()\n",
    "p2=p2.replace(\" \",\"\")\n",
    "l2=list(p2)\n",
    "while(1):\n",
    "    ret_list=remove_matching_letter(l1,l2)\n",
    "    js=\"\".join(ret_list)\n",
    "    try:\n",
    "        r1,r2=js.split(\"*\")\n",
    "    except:\n",
    "        length_c=len(ret_list)\n",
    "        break\n",
    "    l1=list(r1)\n",
    "    l2=list(r2)\n",
    "while(len(result)>1):\n",
    "    split_index=(length_c%len(result))-1\n",
    "    if(split_index>=0):\n",
    "        right=result[split_index+1:]\n",
    "        left=result[:split_index]\n",
    "        result=right+left\n",
    "    else:\n",
    "        result=result[:len(result)-1]\n",
    "print(result[0])"
   ]
  },
  {
   "cell_type": "markdown",
   "metadata": {},
   "source": [
    "#### numpy library:-------->"
   ]
  },
  {
   "cell_type": "code",
   "execution_count": 9,
   "metadata": {},
   "outputs": [
    {
     "name": "stdout",
     "output_type": "stream",
     "text": [
      "[1, 2] <class 'list'>\n",
      "[1 2 3 5] <class 'numpy.ndarray'> (4,) 1\n"
     ]
    }
   ],
   "source": [
    "import numpy as np\n",
    "a=[1,2]\n",
    "print(a,type(a))\n",
    "a1=np.array([1,2,3,5])\n",
    "print(a1,type(a1),a1.shape,a1[0])"
   ]
  },
  {
   "cell_type": "code",
   "execution_count": 10,
   "metadata": {},
   "outputs": [
    {
     "name": "stdout",
     "output_type": "stream",
     "text": [
      "[[1 2 3]\n",
      " [5 6 7]] (2, 3)\n"
     ]
    }
   ],
   "source": [
    "a2=np.array([[1,2,3],[5,6,7]])\n",
    "print(a2,a2.shape)"
   ]
  },
  {
   "cell_type": "code",
   "execution_count": 11,
   "metadata": {},
   "outputs": [
    {
     "name": "stdout",
     "output_type": "stream",
     "text": [
      "[[0. 0. 0. 0.]\n",
      " [0. 0. 0. 0.]]\n"
     ]
    }
   ],
   "source": [
    "a3=np.zeros((2,4))   #creating numpy arrays of zeros\n",
    "print(a3)"
   ]
  },
  {
   "cell_type": "code",
   "execution_count": 12,
   "metadata": {},
   "outputs": [
    {
     "name": "stdout",
     "output_type": "stream",
     "text": [
      "[[1. 1.]\n",
      " [1. 1.]\n",
      " [1. 1.]]\n"
     ]
    }
   ],
   "source": [
    "a4=np.ones((3,2))    #creating numpy arrays of ones\n",
    "print(a4)"
   ]
  },
  {
   "cell_type": "code",
   "execution_count": 13,
   "metadata": {},
   "outputs": [
    {
     "name": "stdout",
     "output_type": "stream",
     "text": [
      "[[6 6 6]\n",
      " [6 6 6]]\n"
     ]
    }
   ],
   "source": [
    "a5=np.full((2,3),6)  # array filled with constants value 6\n",
    "print(a5)"
   ]
  },
  {
   "cell_type": "code",
   "execution_count": 14,
   "metadata": {},
   "outputs": [
    {
     "name": "stdout",
     "output_type": "stream",
     "text": [
      "[[0.56338175 0.02711067 0.14409756]\n",
      " [0.24407633 0.93311903 0.49970277]]\n"
     ]
    }
   ],
   "source": [
    "a6=np.random.random((2,3))   #random array of 2*3\n",
    "print(a6)"
   ]
  },
  {
   "cell_type": "code",
   "execution_count": 15,
   "metadata": {},
   "outputs": [
    {
     "name": "stdout",
     "output_type": "stream",
     "text": [
      "8 8\n",
      "2\n",
      "(2, 4)\n",
      "8\n",
      "<class 'numpy.ndarray'>\n"
     ]
    }
   ],
   "source": [
    "a7=np.array([[1,2,3,4],[5,6,7,8]])\n",
    "print(a7[1,3],a7[1][3])   #same\n",
    "print(a7.ndim)    #the rank\n",
    "print(a7.shape)   #n rows and m column\n",
    "print(a7.size)    #no. of elements\n",
    "print(type(a7))\n"
   ]
  },
  {
   "cell_type": "markdown",
   "metadata": {},
   "source": [
    "#lists and numpy arrays are different"
   ]
  },
  {
   "cell_type": "code",
   "execution_count": 16,
   "metadata": {},
   "outputs": [
    {
     "name": "stdout",
     "output_type": "stream",
     "text": [
      "[1, 2, 3] [8, 9] [25, 8, 7, 9]\n"
     ]
    }
   ],
   "source": [
    "k=[[1,2,3],[8,9],[25,8,7,9]]    \n",
    "print(*k)"
   ]
  },
  {
   "cell_type": "code",
   "execution_count": 17,
   "metadata": {},
   "outputs": [
    {
     "name": "stdout",
     "output_type": "stream",
     "text": [
      "[0. 0. 0.]\n"
     ]
    }
   ],
   "source": [
    "a8=np.empty(3)  #creating array of uninitialize elements--------------------->\n",
    "print(a8)"
   ]
  },
  {
   "cell_type": "code",
   "execution_count": 18,
   "metadata": {},
   "outputs": [
    {
     "name": "stdout",
     "output_type": "stream",
     "text": [
      "[[1. 0.]\n",
      " [0. 1.]]\n",
      "[[1. 0. 0. 0.]\n",
      " [0. 1. 0. 0.]\n",
      " [0. 0. 1. 0.]\n",
      " [0. 0. 0. 1.]]\n"
     ]
    }
   ],
   "source": [
    "# creting identity array for matrix calculation------------------->\n",
    "a9=np.eye(2)   \n",
    "a10=np.identity(4)\n",
    "print(a9)\n",
    "print(a10)"
   ]
  },
  {
   "cell_type": "code",
   "execution_count": 19,
   "metadata": {},
   "outputs": [
    {
     "name": "stdout",
     "output_type": "stream",
     "text": [
      "[1 2 3]\n"
     ]
    }
   ],
   "source": [
    "print(np.array([1,2,3]))"
   ]
  },
  {
   "cell_type": "code",
   "execution_count": 20,
   "metadata": {},
   "outputs": [
    {
     "name": "stdout",
     "output_type": "stream",
     "text": [
      "[[0. 0. 0.]\n",
      " [0. 0. 0.]\n",
      " [0. 0. 0.]]\n"
     ]
    }
   ],
   "source": [
    "xxxx=np.zeros((3,3))\n",
    "print(xxxx)"
   ]
  },
  {
   "cell_type": "code",
   "execution_count": 21,
   "metadata": {},
   "outputs": [
    {
     "name": "stdout",
     "output_type": "stream",
     "text": [
      "[12 12] [12 12]\n",
      "[12. 12.] [12. 12.]\n"
     ]
    }
   ],
   "source": [
    "a11=np.full((2,2),12,dtype=np.int64)\n",
    "print(*a11)\n",
    "a12=np.full((2,2),12,dtype=np.float64)\n",
    "print(*a12)"
   ]
  },
  {
   "cell_type": "code",
   "execution_count": 22,
   "metadata": {},
   "outputs": [
    {
     "name": "stdout",
     "output_type": "stream",
     "text": [
      "int32 [1 2]\n",
      "int32 [[1 2]]\n",
      "float64\n",
      "int64\n"
     ]
    }
   ],
   "source": [
    "a31=np.array([1,2])\n",
    "print(a31.dtype,a31)\n",
    "a32=np.array([[1,2]])\n",
    "print(a31.dtype,a32)\n",
    "a33=np.array([1.0,2.0])\n",
    "print(a33.dtype)\n",
    "a34=np.array([1,2],dtype=np.int64)\n",
    "print(a34.dtype)"
   ]
  },
  {
   "cell_type": "code",
   "execution_count": 23,
   "metadata": {},
   "outputs": [
    {
     "name": "stdout",
     "output_type": "stream",
     "text": [
      "[12. 12.] [12. 12.]\n",
      "[12. 12.] [12. 12.]\n"
     ]
    }
   ],
   "source": [
    "a13=a12\n",
    "print(*a13)\n",
    "a14=a12.copy()\n",
    "print(*a14)"
   ]
  },
  {
   "cell_type": "markdown",
   "metadata": {},
   "source": [
    "* the loadtxt() function can be used to load data from a file into array.\n",
    "* the save() function is used to save a numpy array to a file."
   ]
  },
  {
   "cell_type": "code",
   "execution_count": 24,
   "metadata": {},
   "outputs": [
    {
     "name": "stdout",
     "output_type": "stream",
     "text": [
      "[ 0  2  4  6  8 10 12 14 16 18]\n",
      "<class 'numpy.ndarray'>\n",
      "[ 0.  4.  8. 12. 16. 20.]\n"
     ]
    }
   ],
   "source": [
    "#creating a sequence:------------------------------>\n",
    "a15=np.arange(0,20,2)    #start,end,step\n",
    "print(a15)\n",
    "print(type(a15))\n",
    "a16=np.linspace(0,20,6)    # start,end,numvalues\n",
    "print(a16)"
   ]
  },
  {
   "cell_type": "code",
   "execution_count": 25,
   "metadata": {},
   "outputs": [
    {
     "name": "stdout",
     "output_type": "stream",
     "text": [
      "(10,) [0 1 2 3 4 5 6 7 8 9]\n",
      "(3, 6) [[0 1 2 3 4 5]\n",
      " [6 7 8 9 0 0]\n",
      " [0 0 0 0 0 0]]\n"
     ]
    }
   ],
   "source": [
    "#changing array shape and size--------------------------------->\n",
    "a17=np.arange(10)\n",
    "print(a17.shape,a17)\n",
    "a17.resize(3,6)\n",
    "print(a17.shape,a17)"
   ]
  },
  {
   "cell_type": "code",
   "execution_count": 26,
   "metadata": {},
   "outputs": [
    {
     "name": "stdout",
     "output_type": "stream",
     "text": [
      "[[1 2]\n",
      " [3 4]\n",
      " [5 6]]\n",
      "[[1 2 3]\n",
      " [4 5 6]]\n",
      "[1 2 3 4 5 6] (2, 3)\n",
      "[[1 4]\n",
      " [2 5]\n",
      " [3 6]]\n",
      "[[1 4]\n",
      " [2 5]\n",
      " [3 6]]\n"
     ]
    }
   ],
   "source": [
    "a18=np.array([[1,2,3],[4,5,6]])\n",
    "print(a18.reshape(3,2))    #no change in original array\n",
    "print(a18)\n",
    "print(a18.ravel(),a18.shape)\n",
    "print(a18.transpose())           #finding transpose\n",
    "print(a18.T)                  #finding transpose"
   ]
  },
  {
   "cell_type": "markdown",
   "metadata": {},
   "source": [
    "reshape() and ravel() do not resize array from its original shape"
   ]
  },
  {
   "cell_type": "code",
   "execution_count": 27,
   "metadata": {},
   "outputs": [
    {
     "name": "stdout",
     "output_type": "stream",
     "text": [
      "a19: [0 1 2 3 4 5 6 7]\n",
      "x: [0 2 4]\n",
      "x: [ 0  2 12]\n",
      "a19: [ 0  1  2  3 12  5  6  7]\n"
     ]
    }
   ],
   "source": [
    "#numpy array slicing:--------------------->\n",
    "a19=np.arange(8)\n",
    "print(\"a19:\",a19)\n",
    "x=a19[0:6:2]\n",
    "print(\"x:\",x)\n",
    "x[2]=12                       #see this step \"very important\"\n",
    "print(\"x:\",x)\n",
    "print(\"a19:\",a19)"
   ]
  },
  {
   "cell_type": "code",
   "execution_count": 28,
   "metadata": {},
   "outputs": [
    {
     "name": "stdout",
     "output_type": "stream",
     "text": [
      "[11 21]\n",
      "[12 22]\n",
      "[13 23]\n"
     ]
    }
   ],
   "source": [
    "a20=np.array([[10,11,12,13],[20,21,22,23]])\n",
    "print(a20[0:2,1])    #returns the second element in the first two rows\n",
    "print(a20[...,2])     #returns the third element from all rows\n",
    "print(a20[ : ,3])     #returns the fourth element from all rows"
   ]
  },
  {
   "cell_type": "code",
   "execution_count": 29,
   "metadata": {},
   "outputs": [
    {
     "name": "stdout",
     "output_type": "stream",
     "text": [
      "addition: [[10 12 14 16]\n",
      " [18 20 22 24]]\n",
      "remainder: [[0 0 2 0]\n",
      " [3 2 1 0]]\n",
      "difference [[8 8 8 8]\n",
      " [8 8 8 8]]\n",
      "simple multiplication [[  9  20  33  48]\n",
      " [ 65  84 105 128]]\n",
      "division [[9.         5.         3.66666667 3.        ]\n",
      " [2.6        2.33333333 2.14285714 2.        ]]\n",
      "power [[ 1  4  9 16]\n",
      " [25 36 49 64]]\n",
      "difference [[8 8 8 8]\n",
      " [8 8 8 8]]\n",
      "[[ True  True  True False]\n",
      " [False False False False]]\n",
      "[[ True  True  True  True]\n",
      " [ True  True  True  True]]\n"
     ]
    }
   ],
   "source": [
    "# numpy: arithematic function:--------------->\n",
    "a21=np.array([[1,2,3,4],[5,6,7,8]])\n",
    "a22=np.array([[9,10,11,12],[13,14,15,16]])\n",
    "print(\"addition:\",np.add(a21,a22))             #addition\n",
    "print(\"remainder:\",np.remainder(a22,a21))          #remainder\n",
    "print(\"difference\",np.subtract(a22,a21))       #substraction\n",
    "print(\"simple multiplication\",np.multiply(a21,a22))           #simple multiplication\n",
    "print(\"division\",np.divide(a22,a21))                  #division\n",
    "print(\"power\",np.power(a21,2))\n",
    "print(\"difference\",a22-a21)\n",
    "print(a21<4)\n",
    "print(a21<a22)"
   ]
  },
  {
   "cell_type": "code",
   "execution_count": 30,
   "metadata": {},
   "outputs": [
    {
     "name": "stdout",
     "output_type": "stream",
     "text": [
      "[[ 22  32  38]\n",
      " [ 54  80 102]]\n"
     ]
    }
   ],
   "source": [
    "#dot product:----------------------------------->\n",
    "a21=np.array([[1,2,3,4],[5,6,7,8]])        #2*4\n",
    "a23=np.array([[1,2,3],[3,4,5],[1,2,7],[3,4,1]])    #4*3\n",
    "print(np.dot(a21,a23))                     #hence 2*3"
   ]
  },
  {
   "cell_type": "code",
   "execution_count": 31,
   "metadata": {},
   "outputs": [
    {
     "name": "stdout",
     "output_type": "stream",
     "text": [
      "[[ 2.71828183  7.3890561 ]\n",
      " [20.08553692 54.59815003]]\n",
      "[[1.         1.41421356]\n",
      " [1.73205081 2.        ]]\n",
      "[[ 2.72  7.39]\n",
      " [20.09 54.6 ]]\n",
      "[[1. 2.]\n",
      " [3. 4.]]\n",
      "[[ 1. -3.]\n",
      " [ 2. -1.]]\n",
      "[[ 2. -2.]\n",
      " [ 3. -0.]]\n",
      "[[0.         0.69314718]\n",
      " [1.09861229 1.38629436]]\n"
     ]
    }
   ],
   "source": [
    "#Numpy: Elementwise function-------------------------->\n",
    "a24=np.array([[1,2],[3,4]])\n",
    "print(np.exp(a24))           #calculate exponential\n",
    "print(np.sqrt(a24))          #calculate root square\n",
    "print(np.around(np.exp(a24),2))    #calculate rounded value\n",
    "print(np.trunc(a24))         #return array with trunvated value\n",
    "a25=np.array([[1.25,-2.2],[2.1,-0.1]])\n",
    "print(np.floor(a25))         #returns the greatest integer less than or equal to the values\n",
    "print(np.ceil(a25))          #returns the smallest integer greater than or equal to the values\n",
    "print(np.log(a24))          #returns logarithematic value"
   ]
  },
  {
   "cell_type": "code",
   "execution_count": 32,
   "metadata": {},
   "outputs": [
    {
     "name": "stdout",
     "output_type": "stream",
     "text": [
      "[10 10  5 15] [15 25]\n",
      "[1 4 2 7] [1 3]\n",
      "[9 6 3 8] [8 9]\n",
      "1\n",
      "40\n",
      "[ 1  5  7 15 24 30 33 40]\n",
      "[[1.         0.05383819]\n",
      " [0.05383819 1.        ]]\n",
      "2.7386127875258306\n",
      "5.0\n",
      "5.0\n"
     ]
    }
   ],
   "source": [
    "#Numpy: Array function:-------------------------------->\n",
    "a26=np.array([[1,4,2,8],[9,6,3,7]])\n",
    "a27=np.array([[12,10,4,78],[20,40,1,15]])\n",
    "print(a26.sum(axis=0),a26.sum(axis=1))     #sum along the axis\n",
    "print(a26.min(axis=0),a26.min(axis=1))     #minimumalong the axis\n",
    "print(a26.max(axis=0),a26.max(axis=1))    #maximum along the axis\\\n",
    "print(np.min(a26))                    #minimum in the array\n",
    "print(np.sum(a26))                  #sum of all elements\n",
    "print(np.cumsum(a26))    #returns the commulative sum of the elements\n",
    "print(np.corrcoef(a26))     #returns the correlation coefficient for the array\n",
    "print(np.std(a26))         #returns standard deviation for the array\n",
    "print(np.mean(a26))    #returns mean of the array\n",
    "print(np.median(a26))    #returns median of the array"
   ]
  },
  {
   "cell_type": "markdown",
   "metadata": {},
   "source": [
    "#numpy: broadcasting:------------------------>\n",
    "* when arithematic operations on array of the different size are performed, an operation called broadcasting is performed to expand a smaller array to match the larger array."
   ]
  },
  {
   "cell_type": "code",
   "execution_count": 33,
   "metadata": {},
   "outputs": [
    {
     "name": "stdout",
     "output_type": "stream",
     "text": [
      "[[11 14 12 18]\n",
      " [19 16 13 17]]\n",
      "[[11. 11.]\n",
      " [11. 11.]\n",
      " [11. 11.]]\n"
     ]
    }
   ],
   "source": [
    "#numpy : broadcasting:----------------------->\n",
    "a28=np.array([[1,4,2,8],[9,6,3,7]])    #a28 is 2*4\n",
    "a29=np.array([[10]])                                   #a29 is 1-D\n",
    "a30=np.ones((3,2))              #a30 is 3*2\n",
    "print(np.add(a29,a28))\n",
    "print(np.add(a29,a30))\n",
    "#print(np.add(a28,a30))      #ValueError: operands could not be broadcast together with shapes (2,4) (3,2) only one can expand"
   ]
  },
  {
   "cell_type": "markdown",
   "metadata": {},
   "source": [
    "#### Data compression:------->"
   ]
  },
  {
   "cell_type": "markdown",
   "metadata": {},
   "source": [
    "lossy compression(loss the data) and lossless compression(don't loss the data):"
   ]
  },
  {
   "cell_type": "code",
   "execution_count": 4,
   "metadata": {},
   "outputs": [
    {
     "name": "stdout",
     "output_type": "stream",
     "text": [
      "[[[ 0  0  0]\n",
      "  [ 0  0  0]\n",
      "  [ 0  0  0]\n",
      "  ...\n",
      "  [ 1  1  1]\n",
      "  [ 1  1  1]\n",
      "  [ 1  1  1]]\n",
      "\n",
      " [[ 0  0  0]\n",
      "  [ 0  0  0]\n",
      "  [ 1  1  1]\n",
      "  ...\n",
      "  [ 1  1  1]\n",
      "  [ 1  1  1]\n",
      "  [ 1  1  1]]\n",
      "\n",
      " [[ 0  0  0]\n",
      "  [ 0  0  0]\n",
      "  [ 1  1  1]\n",
      "  ...\n",
      "  [ 1  1  1]\n",
      "  [ 1  1  1]\n",
      "  [ 1  1  1]]\n",
      "\n",
      " ...\n",
      "\n",
      " [[14 14 14]\n",
      "  [16 16 16]\n",
      "  [18 18 18]\n",
      "  ...\n",
      "  [ 8  8  8]\n",
      "  [ 8  8  8]\n",
      "  [ 8  8  8]]\n",
      "\n",
      " [[17 17 17]\n",
      "  [18 18 18]\n",
      "  [18 18 18]\n",
      "  ...\n",
      "  [ 8  8  8]\n",
      "  [ 8  8  8]\n",
      "  [ 8  8  8]]\n",
      "\n",
      " [[20 20 20]\n",
      "  [20 20 20]\n",
      "  [19 19 19]\n",
      "  ...\n",
      "  [ 8  8  8]\n",
      "  [ 8  8  8]\n",
      "  [ 8  8  8]]]\n"
     ]
    },
    {
     "ename": "TypeError",
     "evalue": "'>=' not supported between instances of 'tuple' and 'int'",
     "output_type": "error",
     "traceback": [
      "\u001b[1;31m---------------------------------------------------------------------------\u001b[0m",
      "\u001b[1;31mTypeError\u001b[0m                                 Traceback (most recent call last)",
      "\u001b[1;32m<ipython-input-4-32d891b55e64>\u001b[0m in \u001b[0;36m<module>\u001b[1;34m\u001b[0m\n\u001b[0;32m     25\u001b[0m \u001b[1;32mfor\u001b[0m \u001b[0mi\u001b[0m \u001b[1;32min\u001b[0m \u001b[0mrange\u001b[0m\u001b[1;33m(\u001b[0m\u001b[0mimg\u001b[0m\u001b[1;33m.\u001b[0m\u001b[0msize\u001b[0m\u001b[1;33m[\u001b[0m\u001b[1;36m0\u001b[0m\u001b[1;33m]\u001b[0m\u001b[1;33m)\u001b[0m\u001b[1;33m:\u001b[0m\u001b[1;33m\u001b[0m\u001b[1;33m\u001b[0m\u001b[0m\n\u001b[0;32m     26\u001b[0m     \u001b[1;32mfor\u001b[0m \u001b[0mj\u001b[0m \u001b[1;32min\u001b[0m \u001b[0mrange\u001b[0m\u001b[1;33m(\u001b[0m\u001b[0mimg\u001b[0m\u001b[1;33m.\u001b[0m\u001b[0msize\u001b[0m\u001b[1;33m[\u001b[0m\u001b[1;36m1\u001b[0m\u001b[1;33m]\u001b[0m\u001b[1;33m)\u001b[0m\u001b[1;33m:\u001b[0m\u001b[1;33m\u001b[0m\u001b[1;33m\u001b[0m\u001b[0m\n\u001b[1;32m---> 27\u001b[1;33m         \u001b[1;32mif\u001b[0m\u001b[1;33m(\u001b[0m\u001b[0mpixelMap\u001b[0m\u001b[1;33m[\u001b[0m\u001b[0mi\u001b[0m\u001b[1;33m,\u001b[0m\u001b[0mj\u001b[0m\u001b[1;33m]\u001b[0m\u001b[1;33m>=\u001b[0m\u001b[1;36m0\u001b[0m \u001b[1;32mand\u001b[0m \u001b[0mpixelMap\u001b[0m\u001b[1;33m[\u001b[0m\u001b[0mi\u001b[0m\u001b[1;33m,\u001b[0m\u001b[0mj\u001b[0m\u001b[1;33m]\u001b[0m\u001b[1;33m<=\u001b[0m\u001b[1;36m31\u001b[0m\u001b[1;33m)\u001b[0m\u001b[1;33m:\u001b[0m\u001b[1;33m\u001b[0m\u001b[1;33m\u001b[0m\u001b[0m\n\u001b[0m\u001b[0;32m     28\u001b[0m             \u001b[0mpixelNew\u001b[0m\u001b[1;33m[\u001b[0m\u001b[0mi\u001b[0m\u001b[1;33m,\u001b[0m\u001b[0mj\u001b[0m\u001b[1;33m]\u001b[0m\u001b[1;33m=\u001b[0m\u001b[1;36m0\u001b[0m\u001b[1;33m\u001b[0m\u001b[1;33m\u001b[0m\u001b[0m\n\u001b[0;32m     29\u001b[0m         \u001b[1;32melif\u001b[0m\u001b[1;33m(\u001b[0m\u001b[0mpixelMap\u001b[0m\u001b[1;33m[\u001b[0m\u001b[0mi\u001b[0m\u001b[1;33m,\u001b[0m\u001b[0mj\u001b[0m\u001b[1;33m]\u001b[0m\u001b[1;33m>=\u001b[0m\u001b[1;36m32\u001b[0m \u001b[1;32mand\u001b[0m \u001b[0mpixelMap\u001b[0m\u001b[1;33m[\u001b[0m\u001b[0mi\u001b[0m\u001b[1;33m,\u001b[0m\u001b[0mj\u001b[0m\u001b[1;33m]\u001b[0m\u001b[1;33m<=\u001b[0m\u001b[1;36m63\u001b[0m\u001b[1;33m)\u001b[0m\u001b[1;33m:\u001b[0m\u001b[1;33m\u001b[0m\u001b[1;33m\u001b[0m\u001b[0m\n",
      "\u001b[1;31mTypeError\u001b[0m: '>=' not supported between instances of 'tuple' and 'int'"
     ]
    }
   ],
   "source": [
    "#compressing a image  \n",
    "\"\"\"here we will loss the data.\n",
    "image takes 8 bit to store values from 0 to 255,\n",
    "but we will store the image in 3 bit (i.e 0 to 8 value)\"\"\"\n",
    "import numpy as np\n",
    "from PIL import Image\n",
    "im=Image.open(\"images\\lion_image.jpg\")\n",
    "# im.show()      #it will show the image\n",
    "pixelMap=im.load()\n",
    "I=np.asanyarray(im)\n",
    "print(I)\n",
    "img=Image.new(im.mode,im.size)   #type of image and size as it is\n",
    "pixelNew=img.load()\n",
    "\"\"\"\n",
    "2^8 value------> 2^3    so we will divide it in 2^5(i.e 32)\n",
    "0-31==0\n",
    "32-63=1\n",
    "64-95=2\n",
    "96-127=3\n",
    "128-159=4\n",
    "160-191=5\n",
    "192-223=6\n",
    "224-255=7\n",
    "\"\"\"\n",
    "for i in range(img.size[0]):\n",
    "    for j in range(img.size[1]):\n",
    "        if(pixelMap[i,j]>=0 and pixelMap[i,j]<=31):\n",
    "            pixelNew[i,j]=0\n",
    "        elif(pixelMap[i,j]>=32 and pixelMap[i,j]<=63):\n",
    "            pixelNew[i,j]=1\n",
    "        elif(pixelMap[i,j]>=64 and pixelMap[i,j]<=95):\n",
    "            pixelNew[i,j]=2\n",
    "        elif(pixelMap[i,j]>=96 and pixelMap[i,j]<=127):\n",
    "            pixelNew[i,j]=3\n",
    "        elif(pixelMap[i,j]>=128 and pixelMap[i,j]<=159):\n",
    "            pixelNew[i,j]=4\n",
    "        elif(pixelMap[i,j]>=160 and pixelMap[i,j]<=191):\n",
    "            pixelNew[i,j]=5\n",
    "        elif(pixelMap[i,j]>=192 and pixelMap[i,j]<=223):\n",
    "            pixelNew[i,j]=6\n",
    "        elif(pixelMap[i,j]>=224 and pixelMap[i,j]<=255):\n",
    "            pixelNew[i,j]=7\n",
    "img.save(\"images\\lion_com_image.jpg\")\n",
    "J=np.asanyarray(img)\n",
    "print(J)"
   ]
  },
  {
   "cell_type": "code",
   "execution_count": null,
   "metadata": {},
   "outputs": [],
   "source": []
  },
  {
   "cell_type": "markdown",
   "metadata": {},
   "source": [
    "#### week-10 programming assignment------->"
   ]
  },
  {
   "cell_type": "code",
   "execution_count": 35,
   "metadata": {},
   "outputs": [
    {
     "name": "stdout",
     "output_type": "stream",
     "text": [
      "11\n",
      "NO"
     ]
    }
   ],
   "source": [
    "#PRO ASS-01\n",
    "n=input()\n",
    "nl=list(n)\n",
    "c0=nl.count(\"0\")\n",
    "c1=nl.count(\"1\")\n",
    "if(c0==1 or c1==1):\n",
    "    print(\"YES\",end=\"\")\n",
    "else:\n",
    "    print(\"NO\",end=\"\")"
   ]
  },
  {
   "cell_type": "code",
   "execution_count": 36,
   "metadata": {},
   "outputs": [
    {
     "name": "stdout",
     "output_type": "stream",
     "text": [
      "1 2 3\n",
      "4"
     ]
    }
   ],
   "source": [
    "#PRO ASS-02\n",
    "L1=list(map(int, input().split()))\n",
    "lL1=len(L1)\n",
    "for i in range(1,lL1+2):\n",
    "    if i in L1:\n",
    "        continue\n",
    "    else:\n",
    "        print(i,end=\"\")"
   ]
  },
  {
   "cell_type": "code",
   "execution_count": 8,
   "metadata": {},
   "outputs": [
    {
     "name": "stdout",
     "output_type": "stream",
     "text": [
      "0 1 -1 -1 2 5\n",
      "0 1 2 -1 -1 5"
     ]
    }
   ],
   "source": [
    "#PRO ASS-03\n",
    "L2=list(map(int, input().split()))\n",
    "lL2=len(L2)\n",
    "L3=[]\n",
    "for i in range(lL2):\n",
    "    if i in L2:\n",
    "        L3.append(i)\n",
    "    else:\n",
    "        L3.append(-1)\n",
    "print(*L3,end=\"\")"
   ]
  },
  {
   "cell_type": "code",
   "execution_count": null,
   "metadata": {},
   "outputs": [],
   "source": []
  },
  {
   "cell_type": "markdown",
   "metadata": {},
   "source": [
    "## week-11-------------------------->"
   ]
  },
  {
   "cell_type": "markdown",
   "metadata": {},
   "source": [
    "#### Browser Automation:-------------->"
   ]
  },
  {
   "cell_type": "code",
   "execution_count": 2,
   "metadata": {},
   "outputs": [],
   "source": [
    "from selenium import webdriver\n",
    "browser = webdriver.Chrome(\"C:\\webdrivers\\chromedriver.exe\")   #initialise the browser\n",
    "browser.get(\"https://www.sololearn.com/Profile/7919271\")    #open the given link in chrome\n",
    "elem=browser.find_element_by_link_text(\"COURSES\")    #link name FINDING AND STORING IN elem\n",
    "elem.click()    #clicking on the link"
   ]
  },
  {
   "cell_type": "code",
   "execution_count": 2,
   "metadata": {},
   "outputs": [],
   "source": [
    "from selenium import webdriver\n",
    "#Driver path of webdriver of Chrome\n",
    "browser=webdriver.Chrome(\"C:\\webdrivers\\chromedriver.exe\")      #initialise the browser\n",
    "\n",
    "browser.get(\"https://www.seleniumhq.org\")                   #open the given link in chrome\n",
    "elem=browser.find_element_by_link_text('Documentation')   #link name FINDING AND STORING IN elem\n",
    "elem.click()                                 #clicking on the link    \n",
    "#<input type=text name='q'>\n",
    "search=browser.find_element_by_id('q')    #find the id from the inspect\n",
    "search.send_keys('Download')      #\"Download\" text is written in search text of browser"
   ]
  },
  {
   "cell_type": "code",
   "execution_count": null,
   "metadata": {},
   "outputs": [],
   "source": []
  },
  {
   "cell_type": "code",
   "execution_count": null,
   "metadata": {},
   "outputs": [],
   "source": []
  },
  {
   "cell_type": "code",
   "execution_count": null,
   "metadata": {},
   "outputs": [],
   "source": []
  },
  {
   "cell_type": "code",
   "execution_count": null,
   "metadata": {},
   "outputs": [],
   "source": [
    "THIS IS THE CODEFOR AUTO DOWNLOAD\n",
    "BELOW----------------->"
   ]
  },
  {
   "cell_type": "code",
   "execution_count": 8,
   "metadata": {},
   "outputs": [
    {
     "name": "stdout",
     "output_type": "stream",
     "text": [
      "elem downloaded 1\n",
      "elem downloaded 2\n",
      "elem downloaded 3\n",
      "elem downloaded 4\n",
      "elem downloaded 5\n",
      "elem downloaded 6\n",
      "elem downloaded 7\n",
      "elem downloaded 8\n",
      "elem downloaded 9\n",
      "elem downloaded 10\n",
      "elem downloaded 11\n",
      "elem downloaded 12\n",
      "elem downloaded 13\n",
      "elem downloaded 14\n",
      "elem downloaded 15\n",
      "elem downloaded 16\n",
      "elem downloaded 17\n",
      "elem downloaded 18\n",
      "elem downloaded 19\n",
      "elem downloaded 20\n",
      "elem downloaded 21\n",
      "elem downloaded 22\n",
      "elem downloaded 23\n",
      "elem downloaded 24\n",
      "elem downloaded 25\n",
      "elem downloaded 26\n",
      "elem downloaded 27\n",
      "elem downloaded 28\n",
      "elem downloaded 29\n",
      "elem downloaded 30\n",
      "elem downloaded 31\n",
      "elem downloaded 32\n",
      "elem downloaded 33\n",
      "elem downloaded 34\n",
      "elem downloaded 35\n",
      "elem downloaded 36\n",
      "elem downloaded 37\n",
      "elem downloaded 38\n",
      "elem downloaded 39\n",
      "elem downloaded 40\n",
      "elem downloaded 41\n",
      "elem downloaded 42\n",
      "elem downloaded 43\n",
      "elem downloaded 44\n",
      "elem downloaded 45\n",
      "elem downloaded 46\n",
      "elem downloaded 47\n",
      "elem downloaded 48\n",
      "elem downloaded 49\n",
      "elem downloaded 50\n",
      "page downloaded 6\n",
      "elem downloaded 1\n",
      "elem downloaded 2\n",
      "elem downloaded 3\n",
      "elem downloaded 4\n",
      "elem downloaded 5\n",
      "elem downloaded 6\n",
      "elem downloaded 7\n",
      "elem downloaded 8\n",
      "elem downloaded 9\n",
      "elem downloaded 10\n",
      "elem downloaded 11\n",
      "elem downloaded 12\n",
      "elem downloaded 13\n",
      "elem downloaded 14\n",
      "elem downloaded 15\n",
      "elem downloaded 16\n",
      "elem downloaded 17\n",
      "elem downloaded 18\n",
      "elem downloaded 19\n",
      "elem downloaded 20\n",
      "elem downloaded 21\n",
      "elem downloaded 22\n",
      "elem downloaded 23\n",
      "elem downloaded 24\n",
      "elem downloaded 25\n",
      "elem downloaded 26\n",
      "elem downloaded 27\n",
      "elem downloaded 28\n",
      "elem downloaded 29\n",
      "elem downloaded 30\n",
      "elem downloaded 31\n",
      "elem downloaded 32\n",
      "elem downloaded 33\n",
      "elem downloaded 34\n",
      "elem downloaded 35\n",
      "elem downloaded 36\n",
      "elem downloaded 37\n",
      "elem downloaded 38\n",
      "elem downloaded 39\n",
      "elem downloaded 40\n",
      "elem downloaded 41\n",
      "elem downloaded 42\n",
      "elem downloaded 43\n",
      "elem downloaded 44\n",
      "elem downloaded 45\n",
      "elem downloaded 46\n",
      "elem downloaded 47\n",
      "elem downloaded 48\n",
      "elem downloaded 49\n",
      "elem downloaded 50\n",
      "page downloaded 7\n",
      "elem downloaded 1\n",
      "elem downloaded 2\n",
      "elem downloaded 3\n",
      "elem downloaded 4\n",
      "elem downloaded 5\n",
      "elem downloaded 6\n",
      "elem downloaded 7\n",
      "elem downloaded 8\n",
      "elem downloaded 9\n",
      "elem downloaded 10\n",
      "elem downloaded 11\n",
      "elem downloaded 12\n",
      "elem downloaded 13\n",
      "elem downloaded 14\n",
      "elem downloaded 15\n",
      "elem downloaded 16\n",
      "elem downloaded 17\n",
      "elem downloaded 18\n",
      "elem downloaded 19\n",
      "elem downloaded 20\n",
      "elem downloaded 21\n",
      "elem downloaded 22\n",
      "elem downloaded 23\n",
      "elem downloaded 24\n",
      "elem downloaded 25\n",
      "elem downloaded 26\n",
      "elem downloaded 27\n",
      "elem downloaded 28\n",
      "elem downloaded 29\n",
      "elem downloaded 30\n",
      "elem downloaded 31\n",
      "elem downloaded 32\n",
      "elem downloaded 33\n",
      "elem downloaded 34\n",
      "elem downloaded 35\n",
      "elem downloaded 36\n",
      "elem downloaded 37\n",
      "elem downloaded 38\n",
      "elem downloaded 39\n",
      "elem downloaded 40\n",
      "elem downloaded 41\n",
      "elem downloaded 42\n",
      "elem downloaded 43\n",
      "elem downloaded 44\n",
      "elem downloaded 45\n",
      "elem downloaded 46\n",
      "elem downloaded 47\n",
      "elem downloaded 48\n",
      "elem downloaded 49\n",
      "elem downloaded 50\n",
      "page downloaded 8\n"
     ]
    }
   ],
   "source": [
    "from selenium import webdriver\n",
    "import time\n",
    "#Driver path of webdriver of Chrome\n",
    "browser=webdriver.Chrome(\"C:\\webdrivers\\chromedriver.exe\")      #initialise the browser\n",
    "\n",
    "\n",
    "\n",
    "browser.get(\"https://nptel.ac.in/courses/nptel_download.php?subjectid=106106183\")                   #open the given link in chrome\n",
    "time.sleep(30)\n",
    "\n",
    "e1=browser.find_element_by_link_text(\"Next\")\n",
    "e1.click()\n",
    "time.sleep(5)\n",
    "e1=browser.find_element_by_link_text(\"Next\")\n",
    "e1.click()\n",
    "time.sleep(5)\n",
    "e1=browser.find_element_by_link_text(\"Next\")\n",
    "e1.click()\n",
    "time.sleep(5)\n",
    "e1=browser.find_element_by_link_text(\"Next\")\n",
    "e1.click()\n",
    "time.sleep(5)\n",
    "e1=browser.find_element_by_link_text(\"Next\")\n",
    "e1.click()\n",
    "\n",
    "\n",
    "for j in range(3):\n",
    "    elem=browser.find_elements_by_link_text('FLV Download')  \n",
    "    count=1\n",
    "    for i in elem:\n",
    "        i.click()\n",
    "        time.sleep(8)\n",
    "        print(\"elem downloaded\",count)\n",
    "        count+=1\n",
    "    e1=browser.find_element_by_link_text(\"Next\")\n",
    "    e1.click()\n",
    "    print(\"page downloaded\",j+6)\n",
    "    time.sleep(10)"
   ]
  },
  {
   "cell_type": "code",
   "execution_count": 10,
   "metadata": {},
   "outputs": [
    {
     "name": "stdout",
     "output_type": "stream",
     "text": [
      "elem downloaded 1\n",
      "elem downloaded 2\n",
      "elem downloaded 3\n",
      "elem downloaded 4\n",
      "elem downloaded 5\n",
      "elem downloaded 6\n",
      "elem downloaded 7\n",
      "elem downloaded 8\n",
      "elem downloaded 9\n",
      "elem downloaded 10\n",
      "elem downloaded 11\n",
      "elem downloaded 12\n",
      "elem downloaded 13\n",
      "elem downloaded 14\n",
      "elem downloaded 15\n",
      "elem downloaded 16\n",
      "elem downloaded 17\n",
      "elem downloaded 18\n",
      "elem downloaded 19\n",
      "elem downloaded 20\n",
      "elem downloaded 21\n",
      "elem downloaded 22\n",
      "elem downloaded 23\n",
      "elem downloaded 24\n",
      "elem downloaded 25\n",
      "elem downloaded 26\n",
      "elem downloaded 27\n",
      "elem downloaded 28\n",
      "elem downloaded 29\n",
      "elem downloaded 30\n",
      "elem downloaded 31\n",
      "elem downloaded 32\n",
      "elem downloaded 33\n",
      "elem downloaded 34\n",
      "elem downloaded 35\n",
      "elem downloaded 36\n"
     ]
    }
   ],
   "source": [
    "from selenium import webdriver\n",
    "import time\n",
    "#Driver path of webdriver of Chrome\n",
    "browser=webdriver.Chrome(\"C:\\webdrivers\\chromedriver.exe\")      #initialise the browser\n",
    "\n",
    "\n",
    "\n",
    "browser.get(\"https://nptel.ac.in/courses/nptel_download.php?subjectid=106106183\")                   #open the given link in chrome\n",
    "time.sleep(30)\n",
    "\"\"\"for i in range(9):\n",
    "    e1=browser.find_element_by_link_text(\"Next\")\n",
    "    e1.click()\n",
    "    time.sleep(5)\"\"\"\n",
    "e1=browser.find_element_by_link_text(\"9\")\n",
    "e1.click()\n",
    "\n",
    "\n",
    "elem=browser.find_elements_by_link_text('FLV Download')  \n",
    "count=1\n",
    "for i in elem:\n",
    "    i.click()\n",
    "    time.sleep(8)\n",
    "    print(\"elem downloaded\",count)\n",
    "    count+=1"
   ]
  },
  {
   "cell_type": "code",
   "execution_count": null,
   "metadata": {},
   "outputs": [],
   "source": []
  },
  {
   "cell_type": "code",
   "execution_count": null,
   "metadata": {},
   "outputs": [],
   "source": []
  },
  {
   "cell_type": "code",
   "execution_count": null,
   "metadata": {},
   "outputs": [],
   "source": []
  },
  {
   "cell_type": "code",
   "execution_count": 18,
   "metadata": {},
   "outputs": [],
   "source": [
    "\"\"\"\"import os \n",
    "  \n",
    "# Function to rename multiple files \n",
    "def main(): \n",
    "    i = 0\n",
    "      \n",
    "    for filename in os.listdir(\"G:\\\\NPTEL Lectures\\\\Discrete Mathematics\"): \n",
    "        f1=filename[-5:-16:-1]\n",
    "        f2=filename[-16::-1]\n",
    "        f3=f1[-1::-1]\n",
    "        f4=f2[-1::-1]\n",
    "        dst =f3 + \"-\" + f4 + \".flv\"\n",
    "        src ='G:\\\\NPTEL Lectures\\\\Discrete Mathematics\\\\'+ filename \n",
    "        dst ='G:\\\\NPTEL Lectures\\\\Discrete Mathematics\\\\'+ dst \n",
    "          \n",
    "        # rename() function will \n",
    "        # rename all the files \n",
    "        os.rename(src, dst) \n",
    "        i += 1\n",
    "  \n",
    "# Driver Code \n",
    "if __name__ == '__main__': \n",
    "      \n",
    "    # Calling main() function \n",
    "    main() \"\"\"\""
   ]
  },
  {
   "cell_type": "code",
   "execution_count": 26,
   "metadata": {},
   "outputs": [
    {
     "name": "stdout",
     "output_type": "stream",
     "text": [
      "aushan-mod01lec355.flv\n",
      "mod01lec355-raushan-.txt\n"
     ]
    }
   ],
   "source": [
    "\n",
    "f=\"raushan-mod01lec355.flv\"\n",
    "print(f[1::])\n",
    "f1=f[-5:-16:-1]\n",
    "f2=f[-16::-1]\n",
    "f3=f1[-1::-1]\n",
    "f4=f2[-1::-1]\n",
    "print(f3+ \"-\" +f4+\".txt\")"
   ]
  },
  {
   "cell_type": "code",
   "execution_count": null,
   "metadata": {},
   "outputs": [],
   "source": []
  },
  {
   "cell_type": "code",
   "execution_count": null,
   "metadata": {},
   "outputs": [],
   "source": []
  },
  {
   "cell_type": "code",
   "execution_count": 27,
   "metadata": {},
   "outputs": [],
   "source": [
    "\"\"\"# Pythono3 code to rename multiple \n",
    "# files in a directory or folder \n",
    "\n",
    "# importing os module \n",
    "import os \n",
    "\n",
    "# Function to rename multiple files \n",
    "def main(): \n",
    "    i = 0\n",
    "    for filename in os.listdir(\"G:\\\\NPTEL Lectures\\\\Discrete Mathematics\\\\b1\"): \n",
    "        f1=filename[1::]\n",
    "        dst =f1\n",
    "        src ='G:\\\\NPTEL Lectures\\\\Discrete Mathematics\\\\b1\\\\'+ filename \n",
    "        dst ='G:\\\\NPTEL Lectures\\\\Discrete Mathematics\\\\b1\\\\'+ dst \n",
    " \n",
    "        os.rename(src, dst) \n",
    "        i += 1\n",
    "\n",
    "# Driver Code \n",
    "if __name__ == '__main__': \n",
    "    main() \"\"\""
   ]
  },
  {
   "cell_type": "code",
   "execution_count": null,
   "metadata": {},
   "outputs": [],
   "source": []
  },
  {
   "cell_type": "code",
   "execution_count": null,
   "metadata": {},
   "outputs": [],
   "source": []
  },
  {
   "cell_type": "code",
   "execution_count": null,
   "metadata": {},
   "outputs": [],
   "source": []
  },
  {
   "cell_type": "code",
   "execution_count": 6,
   "metadata": {},
   "outputs": [],
   "source": [
    "import time\n",
    "from selenium import webdriver\n",
    "\n",
    "driver = webdriver.Chrome(\"C:\\webdrivers\\chromedriver.exe\")  # Optional argument, if not specified will search path.\n",
    "driver.get('http://www.google.com/xhtml');\n",
    "time.sleep(5) # Let the user actually see something!\n",
    "search_box = driver.find_element_by_name('q')\n",
    "search_box.send_keys('ChromeDriver')\n",
    "search_box.submit()\n",
    "time.sleep(5) # Let the user actually see something!\n",
    "driver.quit()     #exit the browser"
   ]
  },
  {
   "cell_type": "markdown",
   "metadata": {},
   "source": [
    "Controlling ChromeDriver's lifetime\n",
    "* The ChromeDriver class starts the ChromeDriver server process at creation and terminates it when quit is called. This can waste a significant amount of time for large test suites where a ChromeDriver instance is created per test. There are two options to remedy this:"
   ]
  },
  {
   "cell_type": "code",
   "execution_count": 7,
   "metadata": {},
   "outputs": [],
   "source": [
    "import time\n",
    "\n",
    "from selenium import webdriver\n",
    "import selenium.webdriver.chrome.service as service\n",
    "\n",
    "service = service.Service('C:\\webdrivers\\chromedriver.exe')\n",
    "service.start()\n",
    "capabilities = {'chrome.binary': 'C:\\webdrivers\\chromedriver.exe'}\n",
    "driver = webdriver.Remote(service.service_url, capabilities)\n",
    "driver.get('http://www.google.com/xhtml');\n",
    "time.sleep(5) # Let the user actually see something!\n",
    "driver.quit()"
   ]
  },
  {
   "cell_type": "markdown",
   "metadata": {},
   "source": [
    "#### Browser automation of whatsapp:----------------->"
   ]
  },
  {
   "cell_type": "code",
   "execution_count": null,
   "metadata": {},
   "outputs": [],
   "source": [
    "from selenium import webdriver\n",
    "from selenium.webdriver.support.ui import WebDriverWait\n",
    "from selenium.webdriver.support import     expected_conditions as EC\n",
    "from selenium.webdriver.common.keys import Keys\n",
    "from selenium.webdriver.common.by import By\n",
    "import time\n",
    "\n",
    "driver = webdriver.Chrome(\"C:\\\\users\\\\ami\\\\Downloads\\\\chromedriver\")\n",
    "driver.get(\"https://web.whatsapp.com\")\n",
    "wait=WebDriverWait(driver,600)\n",
    "\n",
    "#For QR code,\n",
    "'''Open settings in whatsapp in phone\n",
    "- Select whatsapp web\n",
    "- Scan QR code\n",
    "\n",
    "So, one can see whatsapp window in Chrome\n",
    "\n",
    "'''\n",
    "\n",
    "#send 100 messages\n",
    "#supply target\n",
    "#ENTER your friend's name\n",
    "target='\"Ravikiran\"'\n",
    "#The message you need to sent\n",
    "string=\"MESSENT SENT using Python!!\"\n",
    "\n",
    "#click on Inspect\n",
    "#<body\n",
    "#in span tag\n",
    "\n",
    "x_arg='//span[contains(@title, '+ target+')]'\n",
    "\n",
    "#locates particular target\n",
    "target=wait.until(EC).presence_of_elements_located(By.XPATH,x_arg)\n",
    "\n",
    "#click\n",
    "target.click()\n",
    "\n",
    "#find_element_by_class method\n",
    "#Inspect\n",
    "#message box\n",
    "#footer,  there we have messagebox\n",
    "\n",
    "input_box=driver.find_element_by_class_name('_1Plpp')\n",
    "for i in range(50):\n",
    "    input_box.send_keys(string+Keys.ENTER)"
   ]
  },
  {
   "cell_type": "code",
   "execution_count": 27,
   "metadata": {},
   "outputs": [],
   "source": [
    "from selenium import webdriver\n",
    "from selenium.webdriver.support.ui import WebDriverWait\n",
    "from selenium.webdriver.support import expected_conditions as EC\n",
    "from selenium.webdriver.common.keys import Keys\n",
    "from selenium.webdriver.common.by import By\n",
    "import time\n",
    "import random\n",
    "\n",
    "driver = webdriver.Chrome(\"C:\\webdrivers\\chromedriver.exe\")\n",
    "driver.get(\"https://chrome.google.com/webstore/detail/ultrasurf-security-privac/mjnbclmflcpookeapghfhapeffmpodij\")\n",
    "\n",
    "time.sleep(40)\n",
    "\n",
    "driver.get(\"https://web.whatsapp.com\")\n",
    "wait=WebDriverWait(driver,600)\n",
    "target='\"Harikishore Jio\"'   #friends name\n",
    "x_arg='//span[contains(@title, '+ target+')]'\n",
    "target=wait.until(EC.presence_of_element_located((By.XPATH, x_arg)))\n",
    "target.click()\n",
    "\n",
    "input_box=driver.find_element_by_class_name(\"_1Plpp\")\n",
    "input_box.send_keys(\"USING PYTHON\"+Keys.ENTER)\n",
    "input_box.send_keys(\"SO DONT GET PANIC\"+Keys.ENTER)\n",
    "for i in range(50):\n",
    "    s=str(random.random())\n",
    "    input_box.send_keys(s+Keys.ENTER)\n",
    "input_box.send_keys(\"THATS ALL\"+Keys.ENTER)"
   ]
  },
  {
   "cell_type": "code",
   "execution_count": 18,
   "metadata": {},
   "outputs": [],
   "source": [
    "from selenium import webdriver\n",
    "from selenium.webdriver.support.ui import WebDriverWait\n",
    "from selenium.webdriver.support import expected_conditions as EC\n",
    "from selenium.webdriver.common.keys import Keys\n",
    "from selenium.webdriver.common.by import By\n",
    "import time\n",
    "\n",
    "driver = webdriver.Chrome(\"C:\\webdrivers\\chromedriver.exe\")\n",
    "driver.get(\"https://chrome.google.com/webstore/detail/ultrasurf-security-privac/mjnbclmflcpookeapghfhapeffmpodij\")\n",
    "time.sleep(40)\n",
    "\n",
    "driver.get(\"https://web.whatsapp.com\")\n",
    "wait=WebDriverWait(driver,600)\n",
    "target='\"Harikishore Jio\"'   #friends name\n",
    "string=\"Message sent using python\"\n",
    "x_arg='//span[contains(@title, '+ target+')]'\n",
    "target=wait.until(EC.presence_of_element_located((By.XPATH, x_arg)))\n",
    "target.click()\n",
    "\n",
    "input_box=driver.find_element_by_class_name(\"_1Plpp\")\n",
    "for i in range(50):\n",
    "    input_box.send_keys(string+Keys.ENTER)"
   ]
  },
  {
   "cell_type": "code",
   "execution_count": null,
   "metadata": {},
   "outputs": [],
   "source": []
  },
  {
   "cell_type": "markdown",
   "metadata": {},
   "source": [
    "#### Fun with calander:------------------------->"
   ]
  },
  {
   "cell_type": "code",
   "execution_count": 53,
   "metadata": {},
   "outputs": [],
   "source": [
    "import calendar\n",
    "import datetime\n",
    "import pytz"
   ]
  },
  {
   "cell_type": "code",
   "execution_count": 58,
   "metadata": {},
   "outputs": [
    {
     "name": "stdout",
     "output_type": "stream",
     "text": [
      "2018-10-20 00:59:10.756711\n"
     ]
    },
    {
     "data": {
      "text/plain": [
       "(datetime.datetime(2018, 10, 20, 0, 59, 10, 756711),\n",
       " datetime.datetime(2018, 10, 20, 0, 59, 10, 756711))"
      ]
     },
     "execution_count": 58,
     "metadata": {},
     "output_type": "execute_result"
    }
   ],
   "source": [
    "#CURRENT TIME\n",
    "from datetime import datetime as dt\n",
    "print(dt.now())\n",
    "dt.now(),datetime.datetime.now()  #system time"
   ]
  },
  {
   "cell_type": "code",
   "execution_count": 55,
   "metadata": {},
   "outputs": [
    {
     "name": "stdout",
     "output_type": "stream",
     "text": [
      "2018-10-20 03:28:43.513252+08:00\n"
     ]
    }
   ],
   "source": [
    "from datetime import datetime as dt\n",
    "import pytz\n",
    "tz=pytz.timezone(\"Singapore\")   #identifier is Singapore\n",
    "print(dt.now(tz))"
   ]
  },
  {
   "cell_type": "code",
   "execution_count": 56,
   "metadata": {},
   "outputs": [
    {
     "data": {
      "text/plain": [
       "['Africa/Abidjan',\n",
       " 'Africa/Accra',\n",
       " 'Africa/Addis_Ababa',\n",
       " 'Africa/Algiers',\n",
       " 'Africa/Asmara',\n",
       " 'Africa/Asmera',\n",
       " 'Africa/Bamako',\n",
       " 'Africa/Bangui',\n",
       " 'Africa/Banjul',\n",
       " 'Africa/Bissau',\n",
       " 'Africa/Blantyre',\n",
       " 'Africa/Brazzaville',\n",
       " 'Africa/Bujumbura',\n",
       " 'Africa/Cairo',\n",
       " 'Africa/Casablanca',\n",
       " 'Africa/Ceuta',\n",
       " 'Africa/Conakry',\n",
       " 'Africa/Dakar',\n",
       " 'Africa/Dar_es_Salaam',\n",
       " 'Africa/Djibouti',\n",
       " 'Africa/Douala',\n",
       " 'Africa/El_Aaiun',\n",
       " 'Africa/Freetown',\n",
       " 'Africa/Gaborone',\n",
       " 'Africa/Harare',\n",
       " 'Africa/Johannesburg',\n",
       " 'Africa/Juba',\n",
       " 'Africa/Kampala',\n",
       " 'Africa/Khartoum',\n",
       " 'Africa/Kigali',\n",
       " 'Africa/Kinshasa',\n",
       " 'Africa/Lagos',\n",
       " 'Africa/Libreville',\n",
       " 'Africa/Lome',\n",
       " 'Africa/Luanda',\n",
       " 'Africa/Lubumbashi',\n",
       " 'Africa/Lusaka',\n",
       " 'Africa/Malabo',\n",
       " 'Africa/Maputo',\n",
       " 'Africa/Maseru',\n",
       " 'Africa/Mbabane',\n",
       " 'Africa/Mogadishu',\n",
       " 'Africa/Monrovia',\n",
       " 'Africa/Nairobi',\n",
       " 'Africa/Ndjamena',\n",
       " 'Africa/Niamey',\n",
       " 'Africa/Nouakchott',\n",
       " 'Africa/Ouagadougou',\n",
       " 'Africa/Porto-Novo',\n",
       " 'Africa/Sao_Tome',\n",
       " 'Africa/Timbuktu',\n",
       " 'Africa/Tripoli',\n",
       " 'Africa/Tunis',\n",
       " 'Africa/Windhoek',\n",
       " 'America/Adak',\n",
       " 'America/Anchorage',\n",
       " 'America/Anguilla',\n",
       " 'America/Antigua',\n",
       " 'America/Araguaina',\n",
       " 'America/Argentina/Buenos_Aires',\n",
       " 'America/Argentina/Catamarca',\n",
       " 'America/Argentina/ComodRivadavia',\n",
       " 'America/Argentina/Cordoba',\n",
       " 'America/Argentina/Jujuy',\n",
       " 'America/Argentina/La_Rioja',\n",
       " 'America/Argentina/Mendoza',\n",
       " 'America/Argentina/Rio_Gallegos',\n",
       " 'America/Argentina/Salta',\n",
       " 'America/Argentina/San_Juan',\n",
       " 'America/Argentina/San_Luis',\n",
       " 'America/Argentina/Tucuman',\n",
       " 'America/Argentina/Ushuaia',\n",
       " 'America/Aruba',\n",
       " 'America/Asuncion',\n",
       " 'America/Atikokan',\n",
       " 'America/Atka',\n",
       " 'America/Bahia',\n",
       " 'America/Bahia_Banderas',\n",
       " 'America/Barbados',\n",
       " 'America/Belem',\n",
       " 'America/Belize',\n",
       " 'America/Blanc-Sablon',\n",
       " 'America/Boa_Vista',\n",
       " 'America/Bogota',\n",
       " 'America/Boise',\n",
       " 'America/Buenos_Aires',\n",
       " 'America/Cambridge_Bay',\n",
       " 'America/Campo_Grande',\n",
       " 'America/Cancun',\n",
       " 'America/Caracas',\n",
       " 'America/Catamarca',\n",
       " 'America/Cayenne',\n",
       " 'America/Cayman',\n",
       " 'America/Chicago',\n",
       " 'America/Chihuahua',\n",
       " 'America/Coral_Harbour',\n",
       " 'America/Cordoba',\n",
       " 'America/Costa_Rica',\n",
       " 'America/Creston',\n",
       " 'America/Cuiaba',\n",
       " 'America/Curacao',\n",
       " 'America/Danmarkshavn',\n",
       " 'America/Dawson',\n",
       " 'America/Dawson_Creek',\n",
       " 'America/Denver',\n",
       " 'America/Detroit',\n",
       " 'America/Dominica',\n",
       " 'America/Edmonton',\n",
       " 'America/Eirunepe',\n",
       " 'America/El_Salvador',\n",
       " 'America/Ensenada',\n",
       " 'America/Fort_Nelson',\n",
       " 'America/Fort_Wayne',\n",
       " 'America/Fortaleza',\n",
       " 'America/Glace_Bay',\n",
       " 'America/Godthab',\n",
       " 'America/Goose_Bay',\n",
       " 'America/Grand_Turk',\n",
       " 'America/Grenada',\n",
       " 'America/Guadeloupe',\n",
       " 'America/Guatemala',\n",
       " 'America/Guayaquil',\n",
       " 'America/Guyana',\n",
       " 'America/Halifax',\n",
       " 'America/Havana',\n",
       " 'America/Hermosillo',\n",
       " 'America/Indiana/Indianapolis',\n",
       " 'America/Indiana/Knox',\n",
       " 'America/Indiana/Marengo',\n",
       " 'America/Indiana/Petersburg',\n",
       " 'America/Indiana/Tell_City',\n",
       " 'America/Indiana/Vevay',\n",
       " 'America/Indiana/Vincennes',\n",
       " 'America/Indiana/Winamac',\n",
       " 'America/Indianapolis',\n",
       " 'America/Inuvik',\n",
       " 'America/Iqaluit',\n",
       " 'America/Jamaica',\n",
       " 'America/Jujuy',\n",
       " 'America/Juneau',\n",
       " 'America/Kentucky/Louisville',\n",
       " 'America/Kentucky/Monticello',\n",
       " 'America/Knox_IN',\n",
       " 'America/Kralendijk',\n",
       " 'America/La_Paz',\n",
       " 'America/Lima',\n",
       " 'America/Los_Angeles',\n",
       " 'America/Louisville',\n",
       " 'America/Lower_Princes',\n",
       " 'America/Maceio',\n",
       " 'America/Managua',\n",
       " 'America/Manaus',\n",
       " 'America/Marigot',\n",
       " 'America/Martinique',\n",
       " 'America/Matamoros',\n",
       " 'America/Mazatlan',\n",
       " 'America/Mendoza',\n",
       " 'America/Menominee',\n",
       " 'America/Merida',\n",
       " 'America/Metlakatla',\n",
       " 'America/Mexico_City',\n",
       " 'America/Miquelon',\n",
       " 'America/Moncton',\n",
       " 'America/Monterrey',\n",
       " 'America/Montevideo',\n",
       " 'America/Montreal',\n",
       " 'America/Montserrat',\n",
       " 'America/Nassau',\n",
       " 'America/New_York',\n",
       " 'America/Nipigon',\n",
       " 'America/Nome',\n",
       " 'America/Noronha',\n",
       " 'America/North_Dakota/Beulah',\n",
       " 'America/North_Dakota/Center',\n",
       " 'America/North_Dakota/New_Salem',\n",
       " 'America/Ojinaga',\n",
       " 'America/Panama',\n",
       " 'America/Pangnirtung',\n",
       " 'America/Paramaribo',\n",
       " 'America/Phoenix',\n",
       " 'America/Port-au-Prince',\n",
       " 'America/Port_of_Spain',\n",
       " 'America/Porto_Acre',\n",
       " 'America/Porto_Velho',\n",
       " 'America/Puerto_Rico',\n",
       " 'America/Punta_Arenas',\n",
       " 'America/Rainy_River',\n",
       " 'America/Rankin_Inlet',\n",
       " 'America/Recife',\n",
       " 'America/Regina',\n",
       " 'America/Resolute',\n",
       " 'America/Rio_Branco',\n",
       " 'America/Rosario',\n",
       " 'America/Santa_Isabel',\n",
       " 'America/Santarem',\n",
       " 'America/Santiago',\n",
       " 'America/Santo_Domingo',\n",
       " 'America/Sao_Paulo',\n",
       " 'America/Scoresbysund',\n",
       " 'America/Shiprock',\n",
       " 'America/Sitka',\n",
       " 'America/St_Barthelemy',\n",
       " 'America/St_Johns',\n",
       " 'America/St_Kitts',\n",
       " 'America/St_Lucia',\n",
       " 'America/St_Thomas',\n",
       " 'America/St_Vincent',\n",
       " 'America/Swift_Current',\n",
       " 'America/Tegucigalpa',\n",
       " 'America/Thule',\n",
       " 'America/Thunder_Bay',\n",
       " 'America/Tijuana',\n",
       " 'America/Toronto',\n",
       " 'America/Tortola',\n",
       " 'America/Vancouver',\n",
       " 'America/Virgin',\n",
       " 'America/Whitehorse',\n",
       " 'America/Winnipeg',\n",
       " 'America/Yakutat',\n",
       " 'America/Yellowknife',\n",
       " 'Antarctica/Casey',\n",
       " 'Antarctica/Davis',\n",
       " 'Antarctica/DumontDUrville',\n",
       " 'Antarctica/Macquarie',\n",
       " 'Antarctica/Mawson',\n",
       " 'Antarctica/McMurdo',\n",
       " 'Antarctica/Palmer',\n",
       " 'Antarctica/Rothera',\n",
       " 'Antarctica/South_Pole',\n",
       " 'Antarctica/Syowa',\n",
       " 'Antarctica/Troll',\n",
       " 'Antarctica/Vostok',\n",
       " 'Arctic/Longyearbyen',\n",
       " 'Asia/Aden',\n",
       " 'Asia/Almaty',\n",
       " 'Asia/Amman',\n",
       " 'Asia/Anadyr',\n",
       " 'Asia/Aqtau',\n",
       " 'Asia/Aqtobe',\n",
       " 'Asia/Ashgabat',\n",
       " 'Asia/Ashkhabad',\n",
       " 'Asia/Atyrau',\n",
       " 'Asia/Baghdad',\n",
       " 'Asia/Bahrain',\n",
       " 'Asia/Baku',\n",
       " 'Asia/Bangkok',\n",
       " 'Asia/Barnaul',\n",
       " 'Asia/Beirut',\n",
       " 'Asia/Bishkek',\n",
       " 'Asia/Brunei',\n",
       " 'Asia/Calcutta',\n",
       " 'Asia/Chita',\n",
       " 'Asia/Choibalsan',\n",
       " 'Asia/Chongqing',\n",
       " 'Asia/Chungking',\n",
       " 'Asia/Colombo',\n",
       " 'Asia/Dacca',\n",
       " 'Asia/Damascus',\n",
       " 'Asia/Dhaka',\n",
       " 'Asia/Dili',\n",
       " 'Asia/Dubai',\n",
       " 'Asia/Dushanbe',\n",
       " 'Asia/Famagusta',\n",
       " 'Asia/Gaza',\n",
       " 'Asia/Harbin',\n",
       " 'Asia/Hebron',\n",
       " 'Asia/Ho_Chi_Minh',\n",
       " 'Asia/Hong_Kong',\n",
       " 'Asia/Hovd',\n",
       " 'Asia/Irkutsk',\n",
       " 'Asia/Istanbul',\n",
       " 'Asia/Jakarta',\n",
       " 'Asia/Jayapura',\n",
       " 'Asia/Jerusalem',\n",
       " 'Asia/Kabul',\n",
       " 'Asia/Kamchatka',\n",
       " 'Asia/Karachi',\n",
       " 'Asia/Kashgar',\n",
       " 'Asia/Kathmandu',\n",
       " 'Asia/Katmandu',\n",
       " 'Asia/Khandyga',\n",
       " 'Asia/Kolkata',\n",
       " 'Asia/Krasnoyarsk',\n",
       " 'Asia/Kuala_Lumpur',\n",
       " 'Asia/Kuching',\n",
       " 'Asia/Kuwait',\n",
       " 'Asia/Macao',\n",
       " 'Asia/Macau',\n",
       " 'Asia/Magadan',\n",
       " 'Asia/Makassar',\n",
       " 'Asia/Manila',\n",
       " 'Asia/Muscat',\n",
       " 'Asia/Nicosia',\n",
       " 'Asia/Novokuznetsk',\n",
       " 'Asia/Novosibirsk',\n",
       " 'Asia/Omsk',\n",
       " 'Asia/Oral',\n",
       " 'Asia/Phnom_Penh',\n",
       " 'Asia/Pontianak',\n",
       " 'Asia/Pyongyang',\n",
       " 'Asia/Qatar',\n",
       " 'Asia/Qyzylorda',\n",
       " 'Asia/Rangoon',\n",
       " 'Asia/Riyadh',\n",
       " 'Asia/Saigon',\n",
       " 'Asia/Sakhalin',\n",
       " 'Asia/Samarkand',\n",
       " 'Asia/Seoul',\n",
       " 'Asia/Shanghai',\n",
       " 'Asia/Singapore',\n",
       " 'Asia/Srednekolymsk',\n",
       " 'Asia/Taipei',\n",
       " 'Asia/Tashkent',\n",
       " 'Asia/Tbilisi',\n",
       " 'Asia/Tehran',\n",
       " 'Asia/Tel_Aviv',\n",
       " 'Asia/Thimbu',\n",
       " 'Asia/Thimphu',\n",
       " 'Asia/Tokyo',\n",
       " 'Asia/Tomsk',\n",
       " 'Asia/Ujung_Pandang',\n",
       " 'Asia/Ulaanbaatar',\n",
       " 'Asia/Ulan_Bator',\n",
       " 'Asia/Urumqi',\n",
       " 'Asia/Ust-Nera',\n",
       " 'Asia/Vientiane',\n",
       " 'Asia/Vladivostok',\n",
       " 'Asia/Yakutsk',\n",
       " 'Asia/Yangon',\n",
       " 'Asia/Yekaterinburg',\n",
       " 'Asia/Yerevan',\n",
       " 'Atlantic/Azores',\n",
       " 'Atlantic/Bermuda',\n",
       " 'Atlantic/Canary',\n",
       " 'Atlantic/Cape_Verde',\n",
       " 'Atlantic/Faeroe',\n",
       " 'Atlantic/Faroe',\n",
       " 'Atlantic/Jan_Mayen',\n",
       " 'Atlantic/Madeira',\n",
       " 'Atlantic/Reykjavik',\n",
       " 'Atlantic/South_Georgia',\n",
       " 'Atlantic/St_Helena',\n",
       " 'Atlantic/Stanley',\n",
       " 'Australia/ACT',\n",
       " 'Australia/Adelaide',\n",
       " 'Australia/Brisbane',\n",
       " 'Australia/Broken_Hill',\n",
       " 'Australia/Canberra',\n",
       " 'Australia/Currie',\n",
       " 'Australia/Darwin',\n",
       " 'Australia/Eucla',\n",
       " 'Australia/Hobart',\n",
       " 'Australia/LHI',\n",
       " 'Australia/Lindeman',\n",
       " 'Australia/Lord_Howe',\n",
       " 'Australia/Melbourne',\n",
       " 'Australia/NSW',\n",
       " 'Australia/North',\n",
       " 'Australia/Perth',\n",
       " 'Australia/Queensland',\n",
       " 'Australia/South',\n",
       " 'Australia/Sydney',\n",
       " 'Australia/Tasmania',\n",
       " 'Australia/Victoria',\n",
       " 'Australia/West',\n",
       " 'Australia/Yancowinna',\n",
       " 'Brazil/Acre',\n",
       " 'Brazil/DeNoronha',\n",
       " 'Brazil/East',\n",
       " 'Brazil/West',\n",
       " 'CET',\n",
       " 'CST6CDT',\n",
       " 'Canada/Atlantic',\n",
       " 'Canada/Central',\n",
       " 'Canada/Eastern',\n",
       " 'Canada/Mountain',\n",
       " 'Canada/Newfoundland',\n",
       " 'Canada/Pacific',\n",
       " 'Canada/Saskatchewan',\n",
       " 'Canada/Yukon',\n",
       " 'Chile/Continental',\n",
       " 'Chile/EasterIsland',\n",
       " 'Cuba',\n",
       " 'EET',\n",
       " 'EST',\n",
       " 'EST5EDT',\n",
       " 'Egypt',\n",
       " 'Eire',\n",
       " 'Etc/GMT',\n",
       " 'Etc/GMT+0',\n",
       " 'Etc/GMT+1',\n",
       " 'Etc/GMT+10',\n",
       " 'Etc/GMT+11',\n",
       " 'Etc/GMT+12',\n",
       " 'Etc/GMT+2',\n",
       " 'Etc/GMT+3',\n",
       " 'Etc/GMT+4',\n",
       " 'Etc/GMT+5',\n",
       " 'Etc/GMT+6',\n",
       " 'Etc/GMT+7',\n",
       " 'Etc/GMT+8',\n",
       " 'Etc/GMT+9',\n",
       " 'Etc/GMT-0',\n",
       " 'Etc/GMT-1',\n",
       " 'Etc/GMT-10',\n",
       " 'Etc/GMT-11',\n",
       " 'Etc/GMT-12',\n",
       " 'Etc/GMT-13',\n",
       " 'Etc/GMT-14',\n",
       " 'Etc/GMT-2',\n",
       " 'Etc/GMT-3',\n",
       " 'Etc/GMT-4',\n",
       " 'Etc/GMT-5',\n",
       " 'Etc/GMT-6',\n",
       " 'Etc/GMT-7',\n",
       " 'Etc/GMT-8',\n",
       " 'Etc/GMT-9',\n",
       " 'Etc/GMT0',\n",
       " 'Etc/Greenwich',\n",
       " 'Etc/UCT',\n",
       " 'Etc/UTC',\n",
       " 'Etc/Universal',\n",
       " 'Etc/Zulu',\n",
       " 'Europe/Amsterdam',\n",
       " 'Europe/Andorra',\n",
       " 'Europe/Astrakhan',\n",
       " 'Europe/Athens',\n",
       " 'Europe/Belfast',\n",
       " 'Europe/Belgrade',\n",
       " 'Europe/Berlin',\n",
       " 'Europe/Bratislava',\n",
       " 'Europe/Brussels',\n",
       " 'Europe/Bucharest',\n",
       " 'Europe/Budapest',\n",
       " 'Europe/Busingen',\n",
       " 'Europe/Chisinau',\n",
       " 'Europe/Copenhagen',\n",
       " 'Europe/Dublin',\n",
       " 'Europe/Gibraltar',\n",
       " 'Europe/Guernsey',\n",
       " 'Europe/Helsinki',\n",
       " 'Europe/Isle_of_Man',\n",
       " 'Europe/Istanbul',\n",
       " 'Europe/Jersey',\n",
       " 'Europe/Kaliningrad',\n",
       " 'Europe/Kiev',\n",
       " 'Europe/Kirov',\n",
       " 'Europe/Lisbon',\n",
       " 'Europe/Ljubljana',\n",
       " 'Europe/London',\n",
       " 'Europe/Luxembourg',\n",
       " 'Europe/Madrid',\n",
       " 'Europe/Malta',\n",
       " 'Europe/Mariehamn',\n",
       " 'Europe/Minsk',\n",
       " 'Europe/Monaco',\n",
       " 'Europe/Moscow',\n",
       " 'Europe/Nicosia',\n",
       " 'Europe/Oslo',\n",
       " 'Europe/Paris',\n",
       " 'Europe/Podgorica',\n",
       " 'Europe/Prague',\n",
       " 'Europe/Riga',\n",
       " 'Europe/Rome',\n",
       " 'Europe/Samara',\n",
       " 'Europe/San_Marino',\n",
       " 'Europe/Sarajevo',\n",
       " 'Europe/Saratov',\n",
       " 'Europe/Simferopol',\n",
       " 'Europe/Skopje',\n",
       " 'Europe/Sofia',\n",
       " 'Europe/Stockholm',\n",
       " 'Europe/Tallinn',\n",
       " 'Europe/Tirane',\n",
       " 'Europe/Tiraspol',\n",
       " 'Europe/Ulyanovsk',\n",
       " 'Europe/Uzhgorod',\n",
       " 'Europe/Vaduz',\n",
       " 'Europe/Vatican',\n",
       " 'Europe/Vienna',\n",
       " 'Europe/Vilnius',\n",
       " 'Europe/Volgograd',\n",
       " 'Europe/Warsaw',\n",
       " 'Europe/Zagreb',\n",
       " 'Europe/Zaporozhye',\n",
       " 'Europe/Zurich',\n",
       " 'GB',\n",
       " 'GB-Eire',\n",
       " 'GMT',\n",
       " 'GMT+0',\n",
       " 'GMT-0',\n",
       " 'GMT0',\n",
       " 'Greenwich',\n",
       " 'HST',\n",
       " 'Hongkong',\n",
       " 'Iceland',\n",
       " 'Indian/Antananarivo',\n",
       " 'Indian/Chagos',\n",
       " 'Indian/Christmas',\n",
       " 'Indian/Cocos',\n",
       " 'Indian/Comoro',\n",
       " 'Indian/Kerguelen',\n",
       " 'Indian/Mahe',\n",
       " 'Indian/Maldives',\n",
       " 'Indian/Mauritius',\n",
       " 'Indian/Mayotte',\n",
       " 'Indian/Reunion',\n",
       " 'Iran',\n",
       " 'Israel',\n",
       " 'Jamaica',\n",
       " 'Japan',\n",
       " 'Kwajalein',\n",
       " 'Libya',\n",
       " 'MET',\n",
       " 'MST',\n",
       " 'MST7MDT',\n",
       " 'Mexico/BajaNorte',\n",
       " 'Mexico/BajaSur',\n",
       " 'Mexico/General',\n",
       " 'NZ',\n",
       " 'NZ-CHAT',\n",
       " 'Navajo',\n",
       " 'PRC',\n",
       " 'PST8PDT',\n",
       " 'Pacific/Apia',\n",
       " 'Pacific/Auckland',\n",
       " 'Pacific/Bougainville',\n",
       " 'Pacific/Chatham',\n",
       " 'Pacific/Chuuk',\n",
       " 'Pacific/Easter',\n",
       " 'Pacific/Efate',\n",
       " 'Pacific/Enderbury',\n",
       " 'Pacific/Fakaofo',\n",
       " 'Pacific/Fiji',\n",
       " 'Pacific/Funafuti',\n",
       " 'Pacific/Galapagos',\n",
       " 'Pacific/Gambier',\n",
       " 'Pacific/Guadalcanal',\n",
       " 'Pacific/Guam',\n",
       " 'Pacific/Honolulu',\n",
       " 'Pacific/Johnston',\n",
       " 'Pacific/Kiritimati',\n",
       " 'Pacific/Kosrae',\n",
       " 'Pacific/Kwajalein',\n",
       " 'Pacific/Majuro',\n",
       " 'Pacific/Marquesas',\n",
       " 'Pacific/Midway',\n",
       " 'Pacific/Nauru',\n",
       " 'Pacific/Niue',\n",
       " 'Pacific/Norfolk',\n",
       " 'Pacific/Noumea',\n",
       " 'Pacific/Pago_Pago',\n",
       " 'Pacific/Palau',\n",
       " 'Pacific/Pitcairn',\n",
       " 'Pacific/Pohnpei',\n",
       " 'Pacific/Ponape',\n",
       " 'Pacific/Port_Moresby',\n",
       " 'Pacific/Rarotonga',\n",
       " 'Pacific/Saipan',\n",
       " 'Pacific/Samoa',\n",
       " 'Pacific/Tahiti',\n",
       " 'Pacific/Tarawa',\n",
       " 'Pacific/Tongatapu',\n",
       " 'Pacific/Truk',\n",
       " 'Pacific/Wake',\n",
       " 'Pacific/Wallis',\n",
       " 'Pacific/Yap',\n",
       " 'Poland',\n",
       " 'Portugal',\n",
       " 'ROC',\n",
       " 'ROK',\n",
       " 'Singapore',\n",
       " 'Turkey',\n",
       " 'UCT',\n",
       " 'US/Alaska',\n",
       " 'US/Aleutian',\n",
       " 'US/Arizona',\n",
       " 'US/Central',\n",
       " 'US/East-Indiana',\n",
       " 'US/Eastern',\n",
       " 'US/Hawaii',\n",
       " 'US/Indiana-Starke',\n",
       " 'US/Michigan',\n",
       " 'US/Mountain',\n",
       " 'US/Pacific',\n",
       " 'US/Samoa',\n",
       " 'UTC',\n",
       " 'Universal',\n",
       " 'W-SU',\n",
       " 'WET',\n",
       " 'Zulu']"
      ]
     },
     "execution_count": 56,
     "metadata": {},
     "output_type": "execute_result"
    }
   ],
   "source": [
    "pytz.all_timezones"
   ]
  },
  {
   "cell_type": "code",
   "execution_count": 57,
   "metadata": {},
   "outputs": [
    {
     "name": "stdout",
     "output_type": "stream",
     "text": [
      "591\n"
     ]
    }
   ],
   "source": [
    "print(len(pytz.all_timezones))"
   ]
  },
  {
   "cell_type": "code",
   "execution_count": 66,
   "metadata": {},
   "outputs": [
    {
     "data": {
      "text/plain": [
       "4"
      ]
     },
     "execution_count": 66,
     "metadata": {},
     "output_type": "execute_result"
    }
   ],
   "source": [
    "import calendar\n",
    "calendar.weekday(1997,11,7)    #Signature: calendar.weekday(year, month, day)\n",
    "#Return weekday (0-6 ~ Mon-Sun) for year, month (1-12), day (1-31)"
   ]
  },
  {
   "cell_type": "code",
   "execution_count": 75,
   "metadata": {},
   "outputs": [
    {
     "data": {
      "text/plain": [
       "(0, 6, 4)"
      ]
     },
     "execution_count": 75,
     "metadata": {},
     "output_type": "execute_result"
    }
   ],
   "source": [
    "calendar.MONDAY,calendar.SUNDAY,calendar.FRIDAY"
   ]
  },
  {
   "cell_type": "code",
   "execution_count": 82,
   "metadata": {},
   "outputs": [
    {
     "data": {
      "text/plain": [
       "2"
      ]
     },
     "execution_count": 82,
     "metadata": {},
     "output_type": "execute_result"
    }
   ],
   "source": [
    "calendar.February"
   ]
  },
  {
   "cell_type": "code",
   "execution_count": 85,
   "metadata": {},
   "outputs": [
    {
     "data": {
      "text/plain": [
       "1"
      ]
     },
     "execution_count": 85,
     "metadata": {},
     "output_type": "execute_result"
    }
   ],
   "source": [
    "calendar.January"
   ]
  },
  {
   "cell_type": "code",
   "execution_count": null,
   "metadata": {},
   "outputs": [],
   "source": []
  },
  {
   "cell_type": "code",
   "execution_count": 94,
   "metadata": {},
   "outputs": [
    {
     "name": "stdout",
     "output_type": "stream",
     "text": [
      "enter year from 1970 :1997\n",
      "enter year (1-12) :11\n",
      "enter date :7\n",
      "7 / 11 / 7 / falls on Friday\n"
     ]
    }
   ],
   "source": [
    "import calendar\n",
    "def check_leap(y):\n",
    "    if y%100==0:\n",
    "        if y%400==0:\n",
    "            return(True)\n",
    "        else:\n",
    "            return(False)\n",
    "    else:\n",
    "        if y%4==0:\n",
    "            return(True)\n",
    "        else:\n",
    "            return(False)\n",
    "\n",
    "def check_valid_date(d,m,y,l):\n",
    "    if l:\n",
    "        if m==2:\n",
    "            if d<30:\n",
    "                return(True)\n",
    "            else:\n",
    "                return(False)\n",
    "        else:\n",
    "            if m<8:\n",
    "                if m%2==1:\n",
    "                    if d<32:\n",
    "                        return(True)\n",
    "                    else:\n",
    "                        return(False)\n",
    "                else:\n",
    "                    if d<31:\n",
    "                        return(True)\n",
    "                    else:\n",
    "                        return(False)\n",
    "            else:\n",
    "                if m%2==0:\n",
    "                    if d<32:\n",
    "                        return(True)\n",
    "                    else:\n",
    "                        return(False)\n",
    "                else:\n",
    "                    if d<31:\n",
    "                        return(True)\n",
    "                    else:\n",
    "                        return(False)\n",
    "    else:\n",
    "        if m==2:\n",
    "            if d<29:\n",
    "                return(True)\n",
    "            else:\n",
    "                return(False)\n",
    "        else:\n",
    "            if m<8:\n",
    "                if m%2==1:\n",
    "                    if d<32:\n",
    "                        return(True)\n",
    "                    else:\n",
    "                        return(False)\n",
    "                else:\n",
    "                    if d<31:\n",
    "                        return(True)\n",
    "                    else:\n",
    "                        return(False)\n",
    "            else:\n",
    "                if m%2==0:\n",
    "                    if d<32:\n",
    "                        return(True)\n",
    "                    else:\n",
    "                        return(False)\n",
    "                else:\n",
    "                    if d<31:\n",
    "                        return(True)\n",
    "                    else:\n",
    "                        return(False)\n",
    "def get_day(di):\n",
    "    d2=[\"Monday\",\"Tuesday\",\"Wednesday\",\"thursday\",\"Friday\",\"Saturday\",\"Sunday\"]\n",
    "    return(d2[di])                    \n",
    "\n",
    "#main part                        \n",
    "while(1):\n",
    "    year=int(input(\"enter year from 1970 :\"))\n",
    "    if year<1970:\n",
    "        print(\"enter a year in after 1970\")\n",
    "    else:\n",
    "        break\n",
    "        \n",
    "while(1):\n",
    "    month=int(input(\"enter year (1-12) :\"))\n",
    "    if month<=12 and month>0:\n",
    "        break\n",
    "    else:\n",
    "        print(\"enter a month in range 1-12\")\n",
    "        \n",
    "while(1):\n",
    "    date=int(input(\"enter date :\"))\n",
    "    if date>0 and check_valid_date(date,month,year,check_leap(year)):\n",
    "        break\n",
    "    else:\n",
    "        print(\"enter a valid date :\")\n",
    "day_index=calendar.weekday(year,month,date)\n",
    "day=get_day(day_index)\n",
    "print(date,\"/\",month,\"/\",date,\"/\",\"falls on\",day)"
   ]
  },
  {
   "cell_type": "code",
   "execution_count": 96,
   "metadata": {},
   "outputs": [
    {
     "name": "stdout",
     "output_type": "stream",
     "text": [
      "Current time at  zone Africa/Abidjan  is :  2018-10-19 20:11:30.575133+00:00\n",
      "Current time at  zone Africa/Accra  is :  2018-10-19 20:11:30.616026+00:00\n",
      "Current time at  zone Africa/Addis_Ababa  is :  2018-10-19 23:11:30.617032+03:00\n",
      "Current time at  zone Africa/Algiers  is :  2018-10-19 21:11:30.658702+01:00\n",
      "Current time at  zone Africa/Asmara  is :  2018-10-19 23:11:30.660695+03:00\n",
      "Current time at  zone Africa/Asmera  is :  2018-10-19 23:11:30.661693+03:00\n",
      "Current time at  zone Africa/Bamako  is :  2018-10-19 20:11:30.662691+00:00\n",
      "Current time at  zone Africa/Bangui  is :  2018-10-19 21:11:30.665689+01:00\n",
      "Current time at  zone Africa/Banjul  is :  2018-10-19 20:11:30.667679+00:00\n",
      "Current time at  zone Africa/Bissau  is :  2018-10-19 20:11:30.668675+00:00\n",
      "Current time at  zone Africa/Blantyre  is :  2018-10-19 22:11:30.669672+02:00\n",
      "Current time at  zone Africa/Brazzaville  is :  2018-10-19 21:11:30.669672+01:00\n",
      "Current time at  zone Africa/Bujumbura  is :  2018-10-19 22:11:30.670668+02:00\n",
      "Current time at  zone Africa/Cairo  is :  2018-10-19 22:11:30.704115+02:00\n",
      "Current time at  zone Africa/Casablanca  is :  2018-10-19 21:11:30.770695+01:00\n",
      "Current time at  zone Africa/Ceuta  is :  2018-10-19 22:11:30.810096+02:00\n",
      "Current time at  zone Africa/Conakry  is :  2018-10-19 20:11:30.811090+00:00\n",
      "Current time at  zone Africa/Dakar  is :  2018-10-19 20:11:30.812090+00:00\n",
      "Current time at  zone Africa/Dar_es_Salaam  is :  2018-10-19 23:11:30.814091+03:00\n",
      "Current time at  zone Africa/Djibouti  is :  2018-10-19 23:11:30.815079+03:00\n",
      "Current time at  zone Africa/Douala  is :  2018-10-19 21:11:30.817083+01:00\n",
      "Current time at  zone Africa/El_Aaiun  is :  2018-10-19 21:11:30.851245+01:00\n",
      "Current time at  zone Africa/Freetown  is :  2018-10-19 20:11:30.851245+00:00\n",
      "Current time at  zone Africa/Gaborone  is :  2018-10-19 22:11:30.851245+02:00\n",
      "Current time at  zone Africa/Harare  is :  2018-10-19 22:11:30.851245+02:00\n",
      "Current time at  zone Africa/Johannesburg  is :  2018-10-19 22:11:30.861325+02:00\n",
      "Current time at  zone Africa/Juba  is :  2018-10-19 23:11:30.861325+03:00\n",
      "Current time at  zone Africa/Kampala  is :  2018-10-19 23:11:30.861325+03:00\n",
      "Current time at  zone Africa/Khartoum  is :  2018-10-19 22:11:30.864854+02:00\n",
      "Current time at  zone Africa/Kigali  is :  2018-10-19 22:11:30.866495+02:00\n",
      "Current time at  zone Africa/Kinshasa  is :  2018-10-19 21:11:30.866495+01:00\n",
      "Current time at  zone Africa/Lagos  is :  2018-10-19 21:11:30.869544+01:00\n",
      "Current time at  zone Africa/Libreville  is :  2018-10-19 21:11:30.870280+01:00\n",
      "Current time at  zone Africa/Lome  is :  2018-10-19 20:11:30.870280+00:00\n",
      "Current time at  zone Africa/Luanda  is :  2018-10-19 21:11:30.870280+01:00\n",
      "Current time at  zone Africa/Lubumbashi  is :  2018-10-19 22:11:30.870280+02:00\n",
      "Current time at  zone Africa/Lusaka  is :  2018-10-19 22:11:30.870280+02:00\n",
      "Current time at  zone Africa/Malabo  is :  2018-10-19 21:11:30.870280+01:00\n",
      "Current time at  zone Africa/Maputo  is :  2018-10-19 22:11:30.870280+02:00\n",
      "Current time at  zone Africa/Maseru  is :  2018-10-19 22:11:30.870280+02:00\n",
      "Current time at  zone Africa/Mbabane  is :  2018-10-19 22:11:30.870280+02:00\n",
      "Current time at  zone Africa/Mogadishu  is :  2018-10-19 23:11:30.875332+03:00\n",
      "Current time at  zone Africa/Monrovia  is :  2018-10-19 20:11:30.875332+00:00\n",
      "Current time at  zone Africa/Nairobi  is :  2018-10-19 23:11:30.875332+03:00\n",
      "Current time at  zone Africa/Ndjamena  is :  2018-10-19 21:11:30.875332+01:00\n",
      "Current time at  zone Africa/Niamey  is :  2018-10-19 21:11:30.875332+01:00\n",
      "Current time at  zone Africa/Nouakchott  is :  2018-10-19 20:11:30.875332+00:00\n",
      "Current time at  zone Africa/Ouagadougou  is :  2018-10-19 20:11:30.875332+00:00\n",
      "Current time at  zone Africa/Porto-Novo  is :  2018-10-19 21:11:30.875332+01:00\n",
      "Current time at  zone Africa/Sao_Tome  is :  2018-10-19 21:11:30.875332+01:00\n",
      "Current time at  zone Africa/Timbuktu  is :  2018-10-19 20:11:30.881647+00:00\n",
      "Current time at  zone Africa/Tripoli  is :  2018-10-19 22:11:30.882654+02:00\n",
      "Current time at  zone Africa/Tunis  is :  2018-10-19 21:11:30.882654+01:00\n",
      "Current time at  zone Africa/Windhoek  is :  2018-10-19 22:11:30.916966+02:00\n",
      "Current time at  zone America/Adak  is :  2018-10-19 11:11:30.982016-09:00\n",
      "Current time at  zone America/Anchorage  is :  2018-10-19 12:11:31.020879-08:00\n",
      "Current time at  zone America/Anguilla  is :  2018-10-19 16:11:31.023163-04:00\n",
      "Current time at  zone America/Antigua  is :  2018-10-19 16:11:31.025156-04:00\n",
      "Current time at  zone America/Araguaina  is :  2018-10-19 17:11:31.078010-03:00\n",
      "Current time at  zone America/Argentina/Buenos_Aires  is :  2018-10-19 17:11:31.132074-03:00\n",
      "Current time at  zone America/Argentina/Catamarca  is :  2018-10-19 17:11:31.182282-03:00\n",
      "Current time at  zone America/Argentina/ComodRivadavia  is :  2018-10-19 17:11:31.210064-03:00\n",
      "Current time at  zone America/Argentina/Cordoba  is :  2018-10-19 17:11:31.253437-03:00\n",
      "Current time at  zone America/Argentina/Jujuy  is :  2018-10-19 17:11:31.254462-03:00\n",
      "Current time at  zone America/Argentina/La_Rioja  is :  2018-10-19 17:11:31.281650-03:00\n",
      "Current time at  zone America/Argentina/Mendoza  is :  2018-10-19 17:11:31.306216-03:00\n",
      "Current time at  zone America/Argentina/Rio_Gallegos  is :  2018-10-19 17:11:31.315340-03:00\n",
      "Current time at  zone America/Argentina/Salta  is :  2018-10-19 17:11:31.351732-03:00\n",
      "Current time at  zone America/Argentina/San_Juan  is :  2018-10-19 17:11:31.409509-03:00\n",
      "Current time at  zone America/Argentina/San_Luis  is :  2018-10-19 17:11:31.448763-03:00\n",
      "Current time at  zone America/Argentina/Tucuman  is :  2018-10-19 17:11:31.450706-03:00\n",
      "Current time at  zone America/Argentina/Ushuaia  is :  2018-10-19 17:11:31.475772-03:00\n",
      "Current time at  zone America/Aruba  is :  2018-10-19 16:11:31.477767-04:00\n",
      "Current time at  zone America/Asuncion  is :  2018-10-19 17:11:31.516166-03:00\n",
      "Current time at  zone America/Atikokan  is :  2018-10-19 15:11:31.518163-05:00\n",
      "Current time at  zone America/Atka  is :  2018-10-19 11:11:31.542331-09:00\n",
      "Current time at  zone America/Bahia  is :  2018-10-19 17:11:31.542331-03:00\n",
      "Current time at  zone America/Bahia_Banderas  is :  2018-10-19 15:11:31.581858-05:00\n",
      "Current time at  zone America/Barbados  is :  2018-10-19 16:11:31.585384-04:00\n",
      "Current time at  zone America/Belem  is :  2018-10-19 17:11:31.590036-03:00\n",
      "Current time at  zone America/Belize  is :  2018-10-19 14:11:31.621846-06:00\n",
      "Current time at  zone America/Blanc-Sablon  is :  2018-10-19 16:11:31.623840-04:00\n",
      "Current time at  zone America/Boa_Vista  is :  2018-10-19 16:11:31.650435-04:00\n",
      "Current time at  zone America/Bogota  is :  2018-10-19 15:11:31.653432-05:00\n",
      "Current time at  zone America/Boise  is :  2018-10-19 14:11:31.689218-06:00\n",
      "Current time at  zone America/Buenos_Aires  is :  2018-10-19 17:11:31.726452-03:00\n",
      "Current time at  zone America/Cambridge_Bay  is :  2018-10-19 14:11:31.768519-06:00\n",
      "Current time at  zone America/Campo_Grande  is :  2018-10-19 16:11:31.772505-04:00\n",
      "Current time at  zone America/Cancun  is :  2018-10-19 15:11:31.807019-05:00\n",
      "Current time at  zone America/Caracas  is :  2018-10-19 16:11:31.809977-04:00\n",
      "Current time at  zone America/Catamarca  is :  2018-10-19 17:11:31.861757-03:00\n",
      "Current time at  zone America/Cayenne  is :  2018-10-19 17:11:31.861757-03:00\n",
      "Current time at  zone America/Cayman  is :  2018-10-19 15:11:31.873583-05:00\n",
      "Current time at  zone America/Chicago  is :  2018-10-19 15:11:31.940226-05:00\n",
      "Current time at  zone America/Chihuahua  is :  2018-10-19 14:11:31.942251-06:00\n",
      "Current time at  zone America/Coral_Harbour  is :  2018-10-19 15:11:31.943242-05:00\n",
      "Current time at  zone America/Cordoba  is :  2018-10-19 17:11:31.979202-03:00\n",
      "Current time at  zone America/Costa_Rica  is :  2018-10-19 14:11:31.985190-06:00\n",
      "Current time at  zone America/Creston  is :  2018-10-19 13:11:31.987186-07:00\n",
      "Current time at  zone America/Cuiaba  is :  2018-10-19 16:11:32.065666-04:00\n",
      "Current time at  zone America/Curacao  is :  2018-10-19 16:11:32.069608-04:00\n",
      "Current time at  zone America/Danmarkshavn  is :  2018-10-19 20:11:32.112493+00:00\n",
      "Current time at  zone America/Dawson  is :  2018-10-19 13:11:32.118475-07:00\n",
      "Current time at  zone America/Dawson_Creek  is :  2018-10-19 13:11:32.173086-07:00\n",
      "Current time at  zone America/Denver  is :  2018-10-19 14:11:32.238828-06:00\n",
      "Current time at  zone America/Detroit  is :  2018-10-19 16:11:32.240650-04:00\n",
      "Current time at  zone America/Dominica  is :  2018-10-19 16:11:32.242607-04:00\n"
     ]
    },
    {
     "name": "stdout",
     "output_type": "stream",
     "text": [
      "Current time at  zone America/Edmonton  is :  2018-10-19 14:11:32.305748-06:00\n",
      "Current time at  zone America/Eirunepe  is :  2018-10-19 15:11:32.307741-05:00\n",
      "Current time at  zone America/El_Salvador  is :  2018-10-19 14:11:32.310734-06:00\n",
      "Current time at  zone America/Ensenada  is :  2018-10-19 13:11:32.349882-07:00\n",
      "Current time at  zone America/Fort_Nelson  is :  2018-10-19 13:11:32.391741-07:00\n",
      "Current time at  zone America/Fort_Wayne  is :  2018-10-19 16:11:32.439302-04:00\n",
      "Current time at  zone America/Fortaleza  is :  2018-10-19 17:11:32.461137-03:00\n",
      "Current time at  zone America/Glace_Bay  is :  2018-10-19 17:11:32.520655-03:00\n",
      "Current time at  zone America/Godthab  is :  2018-10-19 18:11:32.557649-02:00\n",
      "Current time at  zone America/Goose_Bay  is :  2018-10-19 17:11:32.605716-03:00\n",
      "Current time at  zone America/Grand_Turk  is :  2018-10-19 16:11:32.649612-04:00\n",
      "Current time at  zone America/Grenada  is :  2018-10-19 16:11:32.656584-04:00\n",
      "Current time at  zone America/Guadeloupe  is :  2018-10-19 16:11:32.660569-04:00\n",
      "Current time at  zone America/Guatemala  is :  2018-10-19 14:11:32.664558-06:00\n",
      "Current time at  zone America/Guayaquil  is :  2018-10-19 15:11:32.668547-05:00\n",
      "Current time at  zone America/Guyana  is :  2018-10-19 16:11:32.670537-04:00\n",
      "Current time at  zone America/Halifax  is :  2018-10-19 17:11:32.674527-03:00\n",
      "Current time at  zone America/Havana  is :  2018-10-19 16:11:32.724130-04:00\n",
      "Current time at  zone America/Hermosillo  is :  2018-10-19 13:11:32.725092-07:00\n",
      "Current time at  zone America/Indiana/Indianapolis  is :  2018-10-19 16:11:32.762781-04:00\n",
      "Current time at  zone America/Indiana/Knox  is :  2018-10-19 15:11:32.801392-05:00\n",
      "Current time at  zone America/Indiana/Marengo  is :  2018-10-19 16:11:32.842112-04:00\n",
      "Current time at  zone America/Indiana/Petersburg  is :  2018-10-19 16:11:32.892987-04:00\n",
      "Current time at  zone America/Indiana/Tell_City  is :  2018-10-19 15:11:32.933593-05:00\n",
      "Current time at  zone America/Indiana/Vevay  is :  2018-10-19 16:11:33.005397-04:00\n",
      "Current time at  zone America/Indiana/Vincennes  is :  2018-10-19 16:11:33.007390-04:00\n",
      "Current time at  zone America/Indiana/Winamac  is :  2018-10-19 16:11:33.009384-04:00\n",
      "Current time at  zone America/Indianapolis  is :  2018-10-19 16:11:33.107795-04:00\n",
      "Current time at  zone America/Inuvik  is :  2018-10-19 14:11:33.181530-06:00\n",
      "Current time at  zone America/Iqaluit  is :  2018-10-19 16:11:33.275050-04:00\n",
      "Current time at  zone America/Jamaica  is :  2018-10-19 15:11:33.275050-05:00\n",
      "Current time at  zone America/Jujuy  is :  2018-10-19 17:11:33.424639-03:00\n",
      "Current time at  zone America/Juneau  is :  2018-10-19 12:11:33.486909-08:00\n",
      "Current time at  zone America/Kentucky/Louisville  is :  2018-10-19 16:11:33.554025-04:00\n",
      "Current time at  zone America/Kentucky/Monticello  is :  2018-10-19 16:11:33.560050-04:00\n",
      "Current time at  zone America/Knox_IN  is :  2018-10-19 15:11:33.569035-05:00\n",
      "Current time at  zone America/Kralendijk  is :  2018-10-19 16:11:33.572975-04:00\n",
      "Current time at  zone America/La_Paz  is :  2018-10-19 16:11:33.577003-04:00\n",
      "Current time at  zone America/Lima  is :  2018-10-19 15:11:33.580960-05:00\n",
      "Current time at  zone America/Los_Angeles  is :  2018-10-19 13:11:33.623233-07:00\n",
      "Current time at  zone America/Louisville  is :  2018-10-19 16:11:33.661107-04:00\n",
      "Current time at  zone America/Lower_Princes  is :  2018-10-19 16:11:33.665105-04:00\n",
      "Current time at  zone America/Maceio  is :  2018-10-19 17:11:33.722140-03:00\n",
      "Current time at  zone America/Managua  is :  2018-10-19 14:11:33.722954-06:00\n",
      "Current time at  zone America/Manaus  is :  2018-10-19 16:11:33.723989-04:00\n",
      "Current time at  zone America/Marigot  is :  2018-10-19 16:11:33.724984-04:00\n",
      "Current time at  zone America/Martinique  is :  2018-10-19 16:11:33.725981-04:00\n",
      "Current time at  zone America/Matamoros  is :  2018-10-19 15:11:33.781659-05:00\n",
      "Current time at  zone America/Mazatlan  is :  2018-10-19 14:11:33.821702-06:00\n",
      "Current time at  zone America/Mendoza  is :  2018-10-19 17:11:33.852237-03:00\n",
      "Current time at  zone America/Menominee  is :  2018-10-19 15:11:33.865205-05:00\n",
      "Current time at  zone America/Merida  is :  2018-10-19 15:11:33.911521-05:00\n",
      "Current time at  zone America/Metlakatla  is :  2018-10-19 12:11:33.941662-08:00\n",
      "Current time at  zone America/Mexico_City  is :  2018-10-19 15:11:33.941662-05:00\n",
      "Current time at  zone America/Miquelon  is :  2018-10-19 18:11:33.981705-02:00\n",
      "Current time at  zone America/Moncton  is :  2018-10-19 17:11:34.028896-03:00\n",
      "Current time at  zone America/Monterrey  is :  2018-10-19 15:11:34.094753-05:00\n",
      "Current time at  zone America/Montevideo  is :  2018-10-19 17:11:34.141558-03:00\n",
      "Current time at  zone America/Montreal  is :  2018-10-19 16:11:34.141558-04:00\n",
      "Current time at  zone America/Montserrat  is :  2018-10-19 16:11:34.151493-04:00\n",
      "Current time at  zone America/Nassau  is :  2018-10-19 16:11:34.191186-04:00\n",
      "Current time at  zone America/New_York  is :  2018-10-19 16:11:34.242124-04:00\n",
      "Current time at  zone America/Nipigon  is :  2018-10-19 16:11:34.302777-04:00\n",
      "Current time at  zone America/Nome  is :  2018-10-19 12:11:34.304775-08:00\n",
      "Current time at  zone America/Noronha  is :  2018-10-19 18:11:34.341570-02:00\n",
      "Current time at  zone America/North_Dakota/Beulah  is :  2018-10-19 15:11:34.381067-05:00\n",
      "Current time at  zone America/North_Dakota/Center  is :  2018-10-19 15:11:34.419047-05:00\n",
      "Current time at  zone America/North_Dakota/New_Salem  is :  2018-10-19 15:11:34.441952-05:00\n",
      "Current time at  zone America/Ojinaga  is :  2018-10-19 14:11:34.497870-06:00\n",
      "Current time at  zone America/Panama  is :  2018-10-19 15:11:34.500832-05:00\n",
      "Current time at  zone America/Pangnirtung  is :  2018-10-19 16:11:34.552324-04:00\n",
      "Current time at  zone America/Paramaribo  is :  2018-10-19 17:11:34.553312-03:00\n",
      "Current time at  zone America/Phoenix  is :  2018-10-19 13:11:34.554348-07:00\n",
      "Current time at  zone America/Port-au-Prince  is :  2018-10-19 16:11:34.581306-04:00\n",
      "Current time at  zone America/Port_of_Spain  is :  2018-10-19 16:11:34.583291-04:00\n",
      "Current time at  zone America/Porto_Acre  is :  2018-10-19 15:11:34.597263-05:00\n",
      "Current time at  zone America/Porto_Velho  is :  2018-10-19 16:11:34.599287-04:00\n",
      "Current time at  zone America/Puerto_Rico  is :  2018-10-19 16:11:34.600284-04:00\n",
      "Current time at  zone America/Punta_Arenas  is :  2018-10-19 17:11:34.653656-03:00\n",
      "Current time at  zone America/Rainy_River  is :  2018-10-19 15:11:34.691549-05:00\n",
      "Current time at  zone America/Rankin_Inlet  is :  2018-10-19 15:11:34.731443-05:00\n",
      "Current time at  zone America/Recife  is :  2018-10-19 17:11:34.755419-03:00\n",
      "Current time at  zone America/Regina  is :  2018-10-19 14:11:34.814261-06:00\n",
      "Current time at  zone America/Resolute  is :  2018-10-19 15:11:34.842187-05:00\n",
      "Current time at  zone America/Rio_Branco  is :  2018-10-19 15:11:34.881101-05:00\n",
      "Current time at  zone America/Rosario  is :  2018-10-19 17:11:34.897040-03:00\n",
      "Current time at  zone America/Santa_Isabel  is :  2018-10-19 13:11:34.941919-07:00\n",
      "Current time at  zone America/Santarem  is :  2018-10-19 17:11:34.943920-03:00\n",
      "Current time at  zone America/Santiago  is :  2018-10-19 17:11:35.000827-03:00\n",
      "Current time at  zone America/Santo_Domingo  is :  2018-10-19 16:11:35.001762-04:00\n",
      "Current time at  zone America/Sao_Paulo  is :  2018-10-19 17:11:35.042373-03:00\n",
      "Current time at  zone America/Scoresbysund  is :  2018-10-19 20:11:35.044376+00:00\n",
      "Current time at  zone America/Shiprock  is :  2018-10-19 14:11:35.091126-06:00\n",
      "Current time at  zone America/Sitka  is :  2018-10-19 12:11:35.142177-08:00\n",
      "Current time at  zone America/St_Barthelemy  is :  2018-10-19 16:11:35.142177-04:00\n",
      "Current time at  zone America/St_Johns  is :  2018-10-19 17:41:35.194593-02:30\n",
      "Current time at  zone America/St_Kitts  is :  2018-10-19 16:11:35.196573-04:00\n",
      "Current time at  zone America/St_Lucia  is :  2018-10-19 16:11:35.197570-04:00\n",
      "Current time at  zone America/St_Thomas  is :  2018-10-19 16:11:35.198567-04:00\n",
      "Current time at  zone America/St_Vincent  is :  2018-10-19 16:11:35.199565-04:00\n",
      "Current time at  zone America/Swift_Current  is :  2018-10-19 14:11:35.200563-06:00\n",
      "Current time at  zone America/Tegucigalpa  is :  2018-10-19 14:11:35.201558-06:00\n",
      "Current time at  zone America/Thule  is :  2018-10-19 17:11:35.230988-03:00\n",
      "Current time at  zone America/Thunder_Bay  is :  2018-10-19 16:11:35.259668-04:00\n",
      "Current time at  zone America/Tijuana  is :  2018-10-19 13:11:35.317813-07:00\n"
     ]
    },
    {
     "name": "stdout",
     "output_type": "stream",
     "text": [
      "Current time at  zone America/Toronto  is :  2018-10-19 16:11:35.361296-04:00\n",
      "Current time at  zone America/Tortola  is :  2018-10-19 16:11:35.363293-04:00\n",
      "Current time at  zone America/Vancouver  is :  2018-10-19 13:11:35.414053-07:00\n",
      "Current time at  zone America/Virgin  is :  2018-10-19 16:11:35.415050-04:00\n",
      "Current time at  zone America/Whitehorse  is :  2018-10-19 13:11:35.477053-07:00\n",
      "Current time at  zone America/Winnipeg  is :  2018-10-19 15:11:35.533664-05:00\n",
      "Current time at  zone America/Yakutat  is :  2018-10-19 12:11:35.539646-08:00\n",
      "Current time at  zone America/Yellowknife  is :  2018-10-19 14:11:35.593572-06:00\n",
      "Current time at  zone Antarctica/Casey  is :  2018-10-20 04:11:35.596579+08:00\n",
      "Current time at  zone Antarctica/Davis  is :  2018-10-20 03:11:35.597596+07:00\n",
      "Current time at  zone Antarctica/DumontDUrville  is :  2018-10-20 06:11:35.598563+10:00\n",
      "Current time at  zone Antarctica/Macquarie  is :  2018-10-20 07:11:35.637767+11:00\n",
      "Current time at  zone Antarctica/Mawson  is :  2018-10-20 01:11:35.640770+05:00\n",
      "Current time at  zone Antarctica/McMurdo  is :  2018-10-20 09:11:35.952091+13:00\n",
      "Current time at  zone Antarctica/Palmer  is :  2018-10-19 17:11:36.011379-03:00\n",
      "Current time at  zone Antarctica/Rothera  is :  2018-10-19 17:11:36.014440-03:00\n",
      "Current time at  zone Antarctica/South_Pole  is :  2018-10-20 09:11:36.041463+13:00\n",
      "Current time at  zone Antarctica/Syowa  is :  2018-10-19 23:11:36.041463+03:00\n",
      "Current time at  zone Antarctica/Troll  is :  2018-10-19 22:11:36.081409+02:00\n",
      "Current time at  zone Antarctica/Vostok  is :  2018-10-20 02:11:36.085366+06:00\n",
      "Current time at  zone Arctic/Longyearbyen  is :  2018-10-19 22:11:36.119195+02:00\n",
      "Current time at  zone Asia/Aden  is :  2018-10-19 23:11:36.122189+03:00\n",
      "Current time at  zone Asia/Almaty  is :  2018-10-20 02:11:36.175447+06:00\n",
      "Current time at  zone Asia/Amman  is :  2018-10-19 23:11:36.218622+03:00\n",
      "Current time at  zone Asia/Anadyr  is :  2018-10-20 08:11:36.220616+12:00\n",
      "Current time at  zone Asia/Aqtau  is :  2018-10-20 01:11:36.246900+05:00\n",
      "Current time at  zone Asia/Aqtobe  is :  2018-10-20 01:11:36.285242+05:00\n",
      "Current time at  zone Asia/Ashgabat  is :  2018-10-20 01:11:36.287233+05:00\n",
      "Current time at  zone Asia/Ashkhabad  is :  2018-10-20 01:11:36.314657+05:00\n",
      "Current time at  zone Asia/Atyrau  is :  2018-10-20 01:11:36.317643+05:00\n",
      "Current time at  zone Asia/Baghdad  is :  2018-10-19 23:11:36.372012+03:00\n",
      "Current time at  zone Asia/Bahrain  is :  2018-10-19 23:11:36.374007+03:00\n",
      "Current time at  zone Asia/Baku  is :  2018-10-20 00:11:36.414206+04:00\n",
      "Current time at  zone Asia/Bangkok  is :  2018-10-20 03:11:36.417168+07:00\n",
      "Current time at  zone Asia/Barnaul  is :  2018-10-20 03:11:36.452725+07:00\n",
      "Current time at  zone Asia/Beirut  is :  2018-10-19 23:11:36.454719+03:00\n",
      "Current time at  zone Asia/Bishkek  is :  2018-10-20 02:11:36.492452+06:00\n",
      "Current time at  zone Asia/Brunei  is :  2018-10-20 04:11:36.494878+08:00\n",
      "Current time at  zone Asia/Calcutta  is :  2018-10-20 01:41:36.494878+05:30\n",
      "Current time at  zone Asia/Chita  is :  2018-10-20 05:11:36.531342+09:00\n",
      "Current time at  zone Asia/Choibalsan  is :  2018-10-20 04:11:36.571440+08:00\n",
      "Current time at  zone Asia/Chongqing  is :  2018-10-20 04:11:36.577412+08:00\n",
      "Current time at  zone Asia/Chungking  is :  2018-10-20 04:11:36.582397+08:00\n",
      "Current time at  zone Asia/Colombo  is :  2018-10-20 01:41:36.587389+05:30\n",
      "Current time at  zone Asia/Dacca  is :  2018-10-20 02:11:36.591381+06:00\n",
      "Current time at  zone Asia/Damascus  is :  2018-10-19 23:11:36.613320+03:00\n",
      "Current time at  zone Asia/Dhaka  is :  2018-10-20 02:11:36.618310+06:00\n",
      "Current time at  zone Asia/Dili  is :  2018-10-20 05:11:36.621300+09:00\n",
      "Current time at  zone Asia/Dubai  is :  2018-10-20 00:11:36.623297+04:00\n",
      "Current time at  zone Asia/Dushanbe  is :  2018-10-20 01:11:36.626316+05:00\n",
      "Current time at  zone Asia/Famagusta  is :  2018-10-19 23:11:36.660185+03:00\n",
      "Current time at  zone Asia/Gaza  is :  2018-10-19 23:11:36.700193+03:00\n",
      "Current time at  zone Asia/Harbin  is :  2018-10-20 04:11:36.703212+08:00\n",
      "Current time at  zone Asia/Hebron  is :  2018-10-19 23:11:36.738180+03:00\n",
      "Current time at  zone Asia/Ho_Chi_Minh  is :  2018-10-20 03:11:36.741207+07:00\n",
      "Current time at  zone Asia/Hong_Kong  is :  2018-10-20 04:11:36.767600+08:00\n",
      "Current time at  zone Asia/Hovd  is :  2018-10-20 03:11:36.804521+07:00\n",
      "Current time at  zone Asia/Irkutsk  is :  2018-10-20 04:11:36.827758+08:00\n",
      "Current time at  zone Asia/Istanbul  is :  2018-10-19 23:11:36.889555+03:00\n",
      "Current time at  zone Asia/Jakarta  is :  2018-10-20 03:11:36.893550+07:00\n",
      "Current time at  zone Asia/Jayapura  is :  2018-10-20 05:11:36.897534+09:00\n",
      "Current time at  zone Asia/Jerusalem  is :  2018-10-19 23:11:36.931710+03:00\n",
      "Current time at  zone Asia/Kabul  is :  2018-10-20 00:41:36.934755+04:30\n",
      "Current time at  zone Asia/Kamchatka  is :  2018-10-20 08:11:36.989289+12:00\n",
      "Current time at  zone Asia/Karachi  is :  2018-10-20 01:11:36.994284+05:00\n",
      "Current time at  zone Asia/Kashgar  is :  2018-10-20 02:11:36.998272+06:00\n",
      "Current time at  zone Asia/Kathmandu  is :  2018-10-20 01:56:37.004256+05:45\n",
      "Current time at  zone Asia/Katmandu  is :  2018-10-20 01:56:37.007288+05:45\n",
      "Current time at  zone Asia/Khandyga  is :  2018-10-20 05:11:37.027187+09:00\n",
      "Current time at  zone Asia/Kolkata  is :  2018-10-20 01:41:37.030182+05:30\n",
      "Current time at  zone Asia/Krasnoyarsk  is :  2018-10-20 03:11:37.102859+07:00\n",
      "Current time at  zone Asia/Kuala_Lumpur  is :  2018-10-20 04:11:37.105891+08:00\n",
      "Current time at  zone Asia/Kuching  is :  2018-10-20 04:11:37.110837+08:00\n",
      "Current time at  zone Asia/Kuwait  is :  2018-10-19 23:11:37.114833+03:00\n",
      "Current time at  zone Asia/Macao  is :  2018-10-20 04:11:37.157071+08:00\n",
      "Current time at  zone Asia/Macau  is :  2018-10-20 04:11:37.175609+08:00\n",
      "Current time at  zone Asia/Magadan  is :  2018-10-20 07:11:37.231409+11:00\n",
      "Current time at  zone Asia/Makassar  is :  2018-10-20 04:11:37.235352+08:00\n",
      "Current time at  zone Asia/Manila  is :  2018-10-20 04:11:37.238336+08:00\n",
      "Current time at  zone Asia/Muscat  is :  2018-10-20 00:11:37.243325+04:00\n",
      "Current time at  zone Asia/Nicosia  is :  2018-10-19 23:11:37.267254+03:00\n",
      "Current time at  zone Asia/Novokuznetsk  is :  2018-10-20 03:11:37.269247+07:00\n",
      "Current time at  zone Asia/Novosibirsk  is :  2018-10-20 03:11:37.305810+07:00\n",
      "Current time at  zone Asia/Omsk  is :  2018-10-20 02:11:37.306722+06:00\n",
      "Current time at  zone Asia/Oral  is :  2018-10-20 01:11:37.308716+05:00\n",
      "Current time at  zone Asia/Phnom_Penh  is :  2018-10-20 03:11:37.309778+07:00\n",
      "Current time at  zone Asia/Pontianak  is :  2018-10-20 03:11:37.310714+07:00\n",
      "Current time at  zone Asia/Pyongyang  is :  2018-10-20 05:11:37.311708+09:00\n",
      "Current time at  zone Asia/Qatar  is :  2018-10-19 23:11:37.312709+03:00\n",
      "Current time at  zone Asia/Qyzylorda  is :  2018-10-20 02:11:37.363922+06:00\n",
      "Current time at  zone Asia/Rangoon  is :  2018-10-20 02:41:37.367946+06:30\n",
      "Current time at  zone Asia/Riyadh  is :  2018-10-19 23:11:37.369948+03:00\n",
      "Current time at  zone Asia/Saigon  is :  2018-10-20 03:11:37.373939+07:00\n",
      "Current time at  zone Asia/Sakhalin  is :  2018-10-20 07:11:37.417738+11:00\n",
      "Current time at  zone Asia/Samarkand  is :  2018-10-20 01:11:37.445634+05:00\n",
      "Current time at  zone Asia/Seoul  is :  2018-10-20 05:11:37.448613+09:00\n",
      "Current time at  zone Asia/Shanghai  is :  2018-10-20 04:11:37.451607+08:00\n",
      "Current time at  zone Asia/Singapore  is :  2018-10-20 04:11:37.455600+08:00\n",
      "Current time at  zone Asia/Srednekolymsk  is :  2018-10-20 07:11:37.505473+11:00\n",
      "Current time at  zone Asia/Taipei  is :  2018-10-20 04:11:37.570592+08:00\n",
      "Current time at  zone Asia/Tashkent  is :  2018-10-20 01:11:37.570592+05:00\n",
      "Current time at  zone Asia/Tbilisi  is :  2018-10-20 00:11:37.663102+04:00\n",
      "Current time at  zone Asia/Tehran  is :  2018-10-19 23:41:37.757071+03:30\n",
      "Current time at  zone Asia/Tel_Aviv  is :  2018-10-19 23:11:37.797564+03:00\n",
      "Current time at  zone Asia/Thimbu  is :  2018-10-20 02:11:37.802080+06:00\n",
      "Current time at  zone Asia/Thimphu  is :  2018-10-20 02:11:37.806069+06:00\n",
      "Current time at  zone Asia/Tokyo  is :  2018-10-20 05:11:37.809096+09:00\n",
      "Current time at  zone Asia/Tomsk  is :  2018-10-20 03:11:37.823443+07:00\n",
      "Current time at  zone Asia/Ujung_Pandang  is :  2018-10-20 04:11:37.825382+08:00\n",
      "Current time at  zone Asia/Ulaanbaatar  is :  2018-10-20 04:11:37.861543+08:00\n"
     ]
    },
    {
     "name": "stdout",
     "output_type": "stream",
     "text": [
      "Current time at  zone Asia/Ulan_Bator  is :  2018-10-20 04:11:37.889804+08:00\n",
      "Current time at  zone Asia/Urumqi  is :  2018-10-20 02:11:37.890768+06:00\n",
      "Current time at  zone Asia/Ust-Nera  is :  2018-10-20 06:11:37.917122+10:00\n",
      "Current time at  zone Asia/Vientiane  is :  2018-10-20 03:11:37.918122+07:00\n",
      "Current time at  zone Asia/Vladivostok  is :  2018-10-20 06:11:37.920000+10:00\n",
      "Current time at  zone Asia/Yakutsk  is :  2018-10-20 05:11:37.951530+09:00\n",
      "Current time at  zone Asia/Yangon  is :  2018-10-20 02:41:37.951530+06:30\n",
      "Current time at  zone Asia/Yekaterinburg  is :  2018-10-20 01:11:38.011636+05:00\n",
      "Current time at  zone Asia/Yerevan  is :  2018-10-20 00:11:38.051689+04:00\n",
      "Current time at  zone Atlantic/Azores  is :  2018-10-19 20:11:38.061365+00:00\n",
      "Current time at  zone Atlantic/Bermuda  is :  2018-10-19 17:11:38.115502-03:00\n",
      "Current time at  zone Atlantic/Canary  is :  2018-10-19 21:11:38.157114+01:00\n",
      "Current time at  zone Atlantic/Cape_Verde  is :  2018-10-19 19:11:38.159115-01:00\n",
      "Current time at  zone Atlantic/Faeroe  is :  2018-10-19 21:11:38.217243+01:00\n",
      "Current time at  zone Atlantic/Faroe  is :  2018-10-19 21:11:38.219238+01:00\n",
      "Current time at  zone Atlantic/Jan_Mayen  is :  2018-10-19 22:11:38.301974+02:00\n",
      "Current time at  zone Atlantic/Madeira  is :  2018-10-19 21:11:38.340741+01:00\n",
      "Current time at  zone Atlantic/Reykjavik  is :  2018-10-19 20:11:38.367992+00:00\n",
      "Current time at  zone Atlantic/South_Georgia  is :  2018-10-19 18:11:38.369991-02:00\n",
      "Current time at  zone Atlantic/St_Helena  is :  2018-10-19 20:11:38.369991+00:00\n",
      "Current time at  zone Atlantic/Stanley  is :  2018-10-19 17:11:38.441401-03:00\n",
      "Current time at  zone Australia/ACT  is :  2018-10-20 07:11:38.470960+11:00\n",
      "Current time at  zone Australia/Adelaide  is :  2018-10-20 06:41:38.530647+10:30\n",
      "Current time at  zone Australia/Brisbane  is :  2018-10-20 06:11:38.531605+10:00\n",
      "Current time at  zone Australia/Broken_Hill  is :  2018-10-20 06:41:38.568234+10:30\n",
      "Current time at  zone Australia/Canberra  is :  2018-10-20 07:11:38.663456+11:00\n",
      "Current time at  zone Australia/Currie  is :  2018-10-20 07:11:38.711582+11:00\n",
      "Current time at  zone Australia/Darwin  is :  2018-10-20 05:41:38.715595+09:30\n",
      "Current time at  zone Australia/Eucla  is :  2018-10-20 04:56:38.715595+08:45\n",
      "Current time at  zone Australia/Hobart  is :  2018-10-20 07:11:38.796197+11:00\n",
      "Current time at  zone Australia/LHI  is :  2018-10-20 07:11:38.873305+11:00\n",
      "Current time at  zone Australia/Lindeman  is :  2018-10-20 06:11:38.877303+10:00\n",
      "Current time at  zone Australia/Lord_Howe  is :  2018-10-20 07:11:38.919464+11:00\n",
      "Current time at  zone Australia/Melbourne  is :  2018-10-20 07:11:38.924440+11:00\n",
      "Current time at  zone Australia/NSW  is :  2018-10-20 07:11:38.958431+11:00\n",
      "Current time at  zone Australia/North  is :  2018-10-20 05:41:38.962441+09:30\n",
      "Current time at  zone Australia/Perth  is :  2018-10-20 04:11:38.966417+08:00\n",
      "Current time at  zone Australia/Queensland  is :  2018-10-20 06:11:38.968399+10:00\n",
      "Current time at  zone Australia/South  is :  2018-10-20 06:41:38.986348+10:30\n",
      "Current time at  zone Australia/Sydney  is :  2018-10-20 07:11:39.024942+11:00\n",
      "Current time at  zone Australia/Tasmania  is :  2018-10-20 07:11:39.028935+11:00\n",
      "Current time at  zone Australia/Victoria  is :  2018-10-20 07:11:39.064546+11:00\n",
      "Current time at  zone Australia/West  is :  2018-10-20 04:11:39.067524+08:00\n",
      "Current time at  zone Australia/Yancowinna  is :  2018-10-20 06:41:39.102384+10:30\n",
      "Current time at  zone Brazil/Acre  is :  2018-10-19 15:11:39.103387-05:00\n",
      "Current time at  zone Brazil/DeNoronha  is :  2018-10-19 18:11:39.130654-02:00\n",
      "Current time at  zone Brazil/East  is :  2018-10-19 17:11:39.132652-03:00\n",
      "Current time at  zone Brazil/West  is :  2018-10-19 16:11:39.133692-04:00\n",
      "Current time at  zone CET  is :  2018-10-19 22:11:39.182731+02:00\n",
      "Current time at  zone CST6CDT  is :  2018-10-19 15:11:39.235327-05:00\n",
      "Current time at  zone Canada/Atlantic  is :  2018-10-19 17:11:39.283404-03:00\n",
      "Current time at  zone Canada/Central  is :  2018-10-19 15:11:39.288365-05:00\n",
      "Current time at  zone Canada/Eastern  is :  2018-10-19 16:11:39.332476-04:00\n",
      "Current time at  zone Canada/Mountain  is :  2018-10-19 14:11:39.403554-06:00\n",
      "Current time at  zone Canada/Newfoundland  is :  2018-10-19 17:41:39.487682-02:30\n",
      "Current time at  zone Canada/Pacific  is :  2018-10-19 13:11:39.537497-07:00\n",
      "Current time at  zone Canada/Saskatchewan  is :  2018-10-19 14:11:39.611729-06:00\n",
      "Current time at  zone Canada/Yukon  is :  2018-10-19 13:11:39.668679-07:00\n",
      "Current time at  zone Chile/Continental  is :  2018-10-19 17:11:39.670678-03:00\n",
      "Current time at  zone Chile/EasterIsland  is :  2018-10-19 15:11:39.708063-05:00\n",
      "Current time at  zone Cuba  is :  2018-10-19 16:11:39.731165-04:00\n",
      "Current time at  zone EET  is :  2018-10-19 23:11:39.810571+03:00\n",
      "Current time at  zone EST  is :  2018-10-19 15:11:39.817576-05:00\n",
      "Current time at  zone EST5EDT  is :  2018-10-19 16:11:39.847472-04:00\n",
      "Current time at  zone Egypt  is :  2018-10-19 22:11:39.875466+02:00\n",
      "Current time at  zone Eire  is :  2018-10-19 21:11:39.918867+01:00\n",
      "Current time at  zone Etc/GMT  is :  2018-10-19 20:11:39.921799+00:00\n",
      "Current time at  zone Etc/GMT+0  is :  2018-10-19 20:11:39.923795+00:00\n",
      "Current time at  zone Etc/GMT+1  is :  2018-10-19 19:11:39.925827-01:00\n",
      "Current time at  zone Etc/GMT+10  is :  2018-10-19 10:11:39.927831-10:00\n",
      "Current time at  zone Etc/GMT+11  is :  2018-10-19 09:11:39.929778-11:00\n",
      "Current time at  zone Etc/GMT+12  is :  2018-10-19 08:11:39.932780-12:00\n",
      "Current time at  zone Etc/GMT+2  is :  2018-10-19 18:11:39.935806-02:00\n",
      "Current time at  zone Etc/GMT+3  is :  2018-10-19 17:11:39.937757-03:00\n",
      "Current time at  zone Etc/GMT+4  is :  2018-10-19 16:11:39.939752-04:00\n",
      "Current time at  zone Etc/GMT+5  is :  2018-10-19 15:11:39.940786-05:00\n",
      "Current time at  zone Etc/GMT+6  is :  2018-10-19 14:11:39.941783-06:00\n",
      "Current time at  zone Etc/GMT+7  is :  2018-10-19 13:11:39.945750-07:00\n",
      "Current time at  zone Etc/GMT+8  is :  2018-10-19 12:11:39.947729-08:00\n",
      "Current time at  zone Etc/GMT+9  is :  2018-10-19 11:11:39.949776-09:00\n",
      "Current time at  zone Etc/GMT-0  is :  2018-10-19 20:11:39.951757+00:00\n",
      "Current time at  zone Etc/GMT-1  is :  2018-10-19 21:11:39.953714+01:00\n",
      "Current time at  zone Etc/GMT-10  is :  2018-10-20 06:11:39.955708+10:00\n",
      "Current time at  zone Etc/GMT-11  is :  2018-10-20 07:11:39.956746+11:00\n",
      "Current time at  zone Etc/GMT-12  is :  2018-10-20 08:11:39.957739+12:00\n",
      "Current time at  zone Etc/GMT-13  is :  2018-10-20 09:11:39.957739+13:00\n",
      "Current time at  zone Etc/GMT-14  is :  2018-10-20 10:11:39.958761+14:00\n",
      "Current time at  zone Etc/GMT-2  is :  2018-10-19 22:11:39.958761+02:00\n",
      "Current time at  zone Etc/GMT-3  is :  2018-10-19 23:11:39.961706+03:00\n",
      "Current time at  zone Etc/GMT-4  is :  2018-10-20 00:11:39.964687+04:00\n",
      "Current time at  zone Etc/GMT-5  is :  2018-10-20 01:11:39.966719+05:00\n",
      "Current time at  zone Etc/GMT-6  is :  2018-10-20 02:11:39.967676+06:00\n",
      "Current time at  zone Etc/GMT-7  is :  2018-10-20 03:11:39.968672+07:00\n",
      "Current time at  zone Etc/GMT-8  is :  2018-10-20 04:11:39.969670+08:00\n",
      "Current time at  zone Etc/GMT-9  is :  2018-10-20 05:11:39.969670+09:00\n",
      "Current time at  zone Etc/GMT0  is :  2018-10-19 20:11:39.970668+00:00\n",
      "Current time at  zone Etc/Greenwich  is :  2018-10-19 20:11:39.971706+00:00\n",
      "Current time at  zone Etc/UCT  is :  2018-10-19 20:11:39.971706+00:00\n",
      "Current time at  zone Etc/UTC  is :  2018-10-19 20:11:39.972699+00:00\n",
      "Current time at  zone Etc/Universal  is :  2018-10-19 20:11:39.972699+00:00\n",
      "Current time at  zone Etc/Zulu  is :  2018-10-19 20:11:39.973696+00:00\n",
      "Current time at  zone Europe/Amsterdam  is :  2018-10-19 22:11:40.011549+02:00\n",
      "Current time at  zone Europe/Andorra  is :  2018-10-19 22:11:40.054562+02:00\n",
      "Current time at  zone Europe/Astrakhan  is :  2018-10-20 00:11:40.056029+04:00\n",
      "Current time at  zone Europe/Athens  is :  2018-10-19 23:11:40.092517+03:00\n",
      "Current time at  zone Europe/Belfast  is :  2018-10-19 21:11:40.121154+01:00\n",
      "Current time at  zone Europe/Belgrade  is :  2018-10-19 22:11:40.161111+02:00\n",
      "Current time at  zone Europe/Berlin  is :  2018-10-19 22:11:40.210899+02:00\n",
      "Current time at  zone Europe/Bratislava  is :  2018-10-19 22:11:40.237377+02:00\n",
      "Current time at  zone Europe/Brussels  is :  2018-10-19 22:11:40.278318+02:00\n",
      "Current time at  zone Europe/Bucharest  is :  2018-10-19 23:11:40.282336+03:00\n",
      "Current time at  zone Europe/Budapest  is :  2018-10-19 22:11:40.316913+02:00\n",
      "Current time at  zone Europe/Busingen  is :  2018-10-19 22:11:40.356797+02:00\n"
     ]
    },
    {
     "name": "stdout",
     "output_type": "stream",
     "text": [
      "Current time at  zone Europe/Chisinau  is :  2018-10-19 23:11:40.419214+03:00\n",
      "Current time at  zone Europe/Copenhagen  is :  2018-10-19 22:11:40.424160+02:00\n",
      "Current time at  zone Europe/Dublin  is :  2018-10-19 21:11:40.490737+01:00\n",
      "Current time at  zone Europe/Gibraltar  is :  2018-10-19 22:11:40.531631+02:00\n",
      "Current time at  zone Europe/Guernsey  is :  2018-10-19 21:11:40.550265+01:00\n",
      "Current time at  zone Europe/Helsinki  is :  2018-10-19 23:11:40.563186+03:00\n",
      "Current time at  zone Europe/Isle_of_Man  is :  2018-10-19 21:11:40.597319+01:00\n",
      "Current time at  zone Europe/Istanbul  is :  2018-10-19 23:11:40.622192+03:00\n",
      "Current time at  zone Europe/Jersey  is :  2018-10-19 21:11:40.683630+01:00\n",
      "Current time at  zone Europe/Kaliningrad  is :  2018-10-19 22:11:40.721698+02:00\n",
      "Current time at  zone Europe/Kiev  is :  2018-10-19 23:11:40.800400+03:00\n",
      "Current time at  zone Europe/Kirov  is :  2018-10-19 23:11:40.834671+03:00\n",
      "Current time at  zone Europe/Lisbon  is :  2018-10-19 21:11:40.841413+01:00\n",
      "Current time at  zone Europe/Ljubljana  is :  2018-10-19 22:11:40.880525+02:00\n",
      "Current time at  zone Europe/London  is :  2018-10-19 21:11:40.924634+01:00\n",
      "Current time at  zone Europe/Luxembourg  is :  2018-10-19 22:11:40.927628+02:00\n",
      "Current time at  zone Europe/Madrid  is :  2018-10-19 22:11:40.971403+02:00\n",
      "Current time at  zone Europe/Malta  is :  2018-10-19 22:11:40.971403+02:00\n",
      "Current time at  zone Europe/Mariehamn  is :  2018-10-19 23:11:41.011718+03:00\n",
      "Current time at  zone Europe/Minsk  is :  2018-10-19 23:11:41.072028+03:00\n",
      "Current time at  zone Europe/Monaco  is :  2018-10-19 22:11:41.176656+02:00\n",
      "Current time at  zone Europe/Moscow  is :  2018-10-19 23:11:41.193873+03:00\n",
      "Current time at  zone Europe/Nicosia  is :  2018-10-19 23:11:41.193873+03:00\n",
      "Current time at  zone Europe/Oslo  is :  2018-10-19 22:11:41.193873+02:00\n",
      "Current time at  zone Europe/Paris  is :  2018-10-19 22:11:41.201437+02:00\n",
      "Current time at  zone Europe/Podgorica  is :  2018-10-19 22:11:41.201437+02:00\n",
      "Current time at  zone Europe/Prague  is :  2018-10-19 22:11:41.201437+02:00\n",
      "Current time at  zone Europe/Riga  is :  2018-10-19 23:11:41.211792+03:00\n",
      "Current time at  zone Europe/Rome  is :  2018-10-19 22:11:41.215816+02:00\n",
      "Current time at  zone Europe/Samara  is :  2018-10-20 00:11:41.217808+04:00\n",
      "Current time at  zone Europe/San_Marino  is :  2018-10-19 22:11:41.254794+02:00\n",
      "Current time at  zone Europe/Sarajevo  is :  2018-10-19 22:11:41.619331+02:00\n",
      "Current time at  zone Europe/Saratov  is :  2018-10-20 00:11:41.691996+04:00\n",
      "Current time at  zone Europe/Simferopol  is :  2018-10-19 23:11:41.775014+03:00\n",
      "Current time at  zone Europe/Skopje  is :  2018-10-19 22:11:41.867482+02:00\n",
      "Current time at  zone Europe/Sofia  is :  2018-10-19 23:11:41.942729+03:00\n",
      "Current time at  zone Europe/Stockholm  is :  2018-10-19 22:11:42.030044+02:00\n",
      "Current time at  zone Europe/Tallinn  is :  2018-10-19 23:11:42.094225+03:00\n",
      "Current time at  zone Europe/Tirane  is :  2018-10-19 22:11:42.198326+02:00\n",
      "Current time at  zone Europe/Tiraspol  is :  2018-10-19 23:11:42.294438+03:00\n",
      "Current time at  zone Europe/Ulyanovsk  is :  2018-10-20 00:11:42.339311+04:00\n",
      "Current time at  zone Europe/Uzhgorod  is :  2018-10-19 23:11:42.416961+03:00\n",
      "Current time at  zone Europe/Vaduz  is :  2018-10-19 22:11:42.492874+02:00\n",
      "Current time at  zone Europe/Vatican  is :  2018-10-19 22:11:42.615778+02:00\n",
      "Current time at  zone Europe/Vienna  is :  2018-10-19 22:11:42.744653+02:00\n",
      "Current time at  zone Europe/Vilnius  is :  2018-10-19 23:11:42.748643+03:00\n",
      "Current time at  zone Europe/Volgograd  is :  2018-10-19 23:11:42.796204+03:00\n",
      "Current time at  zone Europe/Warsaw  is :  2018-10-19 22:11:42.879007+02:00\n",
      "Current time at  zone Europe/Zagreb  is :  2018-10-19 22:11:42.921926+02:00\n",
      "Current time at  zone Europe/Zaporozhye  is :  2018-10-19 23:11:42.961508+03:00\n",
      "Current time at  zone Europe/Zurich  is :  2018-10-19 22:11:43.001744+02:00\n",
      "Current time at  zone GB  is :  2018-10-19 21:11:43.031667+01:00\n",
      "Current time at  zone GB-Eire  is :  2018-10-19 21:11:43.091377+01:00\n",
      "Current time at  zone GMT  is :  2018-10-19 20:11:43.094395+00:00\n",
      "Current time at  zone GMT+0  is :  2018-10-19 20:11:43.095368+00:00\n",
      "Current time at  zone GMT-0  is :  2018-10-19 20:11:43.096366+00:00\n",
      "Current time at  zone GMT0  is :  2018-10-19 20:11:43.096366+00:00\n",
      "Current time at  zone Greenwich  is :  2018-10-19 20:11:43.097363+00:00\n",
      "Current time at  zone HST  is :  2018-10-19 10:11:43.098359-10:00\n",
      "Current time at  zone Hongkong  is :  2018-10-20 04:11:43.149922+08:00\n",
      "Current time at  zone Iceland  is :  2018-10-19 20:11:43.151453+00:00\n",
      "Current time at  zone Indian/Antananarivo  is :  2018-10-19 23:11:43.151453+03:00\n",
      "Current time at  zone Indian/Chagos  is :  2018-10-20 02:11:43.151453+06:00\n",
      "Current time at  zone Indian/Christmas  is :  2018-10-20 03:11:43.161505+07:00\n",
      "Current time at  zone Indian/Cocos  is :  2018-10-20 02:41:43.162581+06:30\n",
      "Current time at  zone Indian/Comoro  is :  2018-10-19 23:11:43.162581+03:00\n",
      "Current time at  zone Indian/Kerguelen  is :  2018-10-20 01:11:43.162581+05:00\n",
      "Current time at  zone Indian/Mahe  is :  2018-10-20 00:11:43.167657+04:00\n",
      "Current time at  zone Indian/Maldives  is :  2018-10-20 01:11:43.167657+05:00\n",
      "Current time at  zone Indian/Mauritius  is :  2018-10-20 00:11:43.167657+04:00\n",
      "Current time at  zone Indian/Mayotte  is :  2018-10-19 23:11:43.167657+03:00\n",
      "Current time at  zone Indian/Reunion  is :  2018-10-20 00:11:43.170665+04:00\n",
      "Current time at  zone Iran  is :  2018-10-19 23:41:43.200531+03:30\n",
      "Current time at  zone Israel  is :  2018-10-19 23:11:43.256774+03:00\n",
      "Current time at  zone Jamaica  is :  2018-10-19 15:11:43.257775-05:00\n",
      "Current time at  zone Japan  is :  2018-10-20 05:11:43.258771+09:00\n",
      "Current time at  zone Kwajalein  is :  2018-10-20 08:11:43.262767+12:00\n",
      "Current time at  zone Libya  is :  2018-10-19 22:11:43.263759+02:00\n",
      "Current time at  zone MET  is :  2018-10-19 22:11:43.313580+02:00\n",
      "Current time at  zone MST  is :  2018-10-19 13:11:43.315526-07:00\n",
      "Current time at  zone MST7MDT  is :  2018-10-19 14:11:43.363298-06:00\n",
      "Current time at  zone Mexico/BajaNorte  is :  2018-10-19 13:11:43.401092-07:00\n",
      "Current time at  zone Mexico/BajaSur  is :  2018-10-19 14:11:43.429296-06:00\n",
      "Current time at  zone Mexico/General  is :  2018-10-19 15:11:43.432323-05:00\n",
      "Current time at  zone NZ  is :  2018-10-20 09:11:43.467587+13:00\n",
      "Current time at  zone NZ-CHAT  is :  2018-10-20 09:56:43.496325+13:45\n",
      "Current time at  zone Navajo  is :  2018-10-19 14:11:43.553228-06:00\n",
      "Current time at  zone PRC  is :  2018-10-20 04:11:43.554225+08:00\n",
      "Current time at  zone PST8PDT  is :  2018-10-19 13:11:43.580154-07:00\n",
      "Current time at  zone Pacific/Apia  is :  2018-10-20 10:11:43.619547+14:00\n",
      "Current time at  zone Pacific/Auckland  is :  2018-10-20 09:11:43.650811+13:00\n",
      "Current time at  zone Pacific/Bougainville  is :  2018-10-20 07:11:43.654967+11:00\n",
      "Current time at  zone Pacific/Chatham  is :  2018-10-20 09:56:43.699892+13:45\n",
      "Current time at  zone Pacific/Chuuk  is :  2018-10-20 06:11:43.702926+10:00\n",
      "Current time at  zone Pacific/Easter  is :  2018-10-19 15:11:43.731882-05:00\n",
      "Current time at  zone Pacific/Efate  is :  2018-10-20 07:11:43.731882+11:00\n",
      "Current time at  zone Pacific/Enderbury  is :  2018-10-20 09:11:43.741523+13:00\n",
      "Current time at  zone Pacific/Fakaofo  is :  2018-10-20 09:11:43.747916+13:00\n",
      "Current time at  zone Pacific/Fiji  is :  2018-10-20 08:11:43.787012+12:00\n",
      "Current time at  zone Pacific/Funafuti  is :  2018-10-20 08:11:43.787994+12:00\n",
      "Current time at  zone Pacific/Galapagos  is :  2018-10-19 14:11:43.789029-06:00\n",
      "Current time at  zone Pacific/Gambier  is :  2018-10-19 11:11:43.789988-09:00\n",
      "Current time at  zone Pacific/Guadalcanal  is :  2018-10-20 07:11:43.790986+11:00\n",
      "Current time at  zone Pacific/Guam  is :  2018-10-20 06:11:43.790986+10:00\n",
      "Current time at  zone Pacific/Honolulu  is :  2018-10-19 10:11:43.792981-10:00\n",
      "Current time at  zone Pacific/Johnston  is :  2018-10-19 10:11:43.795980-10:00\n",
      "Current time at  zone Pacific/Kiritimati  is :  2018-10-20 10:11:43.796972+14:00\n",
      "Current time at  zone Pacific/Kosrae  is :  2018-10-20 07:11:43.798965+11:00\n",
      "Current time at  zone Pacific/Kwajalein  is :  2018-10-20 08:11:43.798965+12:00\n",
      "Current time at  zone Pacific/Majuro  is :  2018-10-20 08:11:43.800015+12:00\n",
      "Current time at  zone Pacific/Marquesas  is :  2018-10-19 10:41:43.800960-09:30\n",
      "Current time at  zone Pacific/Midway  is :  2018-10-19 09:11:43.800960-11:00\n",
      "Current time at  zone Pacific/Nauru  is :  2018-10-20 08:11:43.801997+12:00\n",
      "Current time at  zone Pacific/Niue  is :  2018-10-19 09:11:43.801997-11:00\n",
      "Current time at  zone Pacific/Norfolk  is :  2018-10-20 07:11:43.802994+11:00\n",
      "Current time at  zone Pacific/Noumea  is :  2018-10-20 07:11:43.802994+11:00\n",
      "Current time at  zone Pacific/Pago_Pago  is :  2018-10-19 09:11:43.803992-11:00\n",
      "Current time at  zone Pacific/Palau  is :  2018-10-20 05:11:43.803992+09:00\n",
      "Current time at  zone Pacific/Pitcairn  is :  2018-10-19 12:11:43.804950-08:00\n",
      "Current time at  zone Pacific/Pohnpei  is :  2018-10-20 07:11:43.805987+11:00\n",
      "Current time at  zone Pacific/Ponape  is :  2018-10-20 07:11:43.805987+11:00\n",
      "Current time at  zone Pacific/Port_Moresby  is :  2018-10-20 06:11:43.806984+10:00\n",
      "Current time at  zone Pacific/Rarotonga  is :  2018-10-19 10:11:43.807941-10:00\n",
      "Current time at  zone Pacific/Saipan  is :  2018-10-20 06:11:43.807941+10:00\n",
      "Current time at  zone Pacific/Samoa  is :  2018-10-19 09:11:43.808940-11:00\n",
      "Current time at  zone Pacific/Tahiti  is :  2018-10-19 10:11:43.809967-10:00\n",
      "Current time at  zone Pacific/Tarawa  is :  2018-10-20 08:11:43.810964+12:00\n",
      "Current time at  zone Pacific/Tongatapu  is :  2018-10-20 09:11:43.810964+13:00\n",
      "Current time at  zone Pacific/Truk  is :  2018-10-20 06:11:43.811963+10:00\n",
      "Current time at  zone Pacific/Wake  is :  2018-10-20 08:11:43.812927+12:00\n",
      "Current time at  zone Pacific/Wallis  is :  2018-10-20 08:11:43.812927+12:00\n",
      "Current time at  zone Pacific/Yap  is :  2018-10-20 06:11:43.813960+10:00\n",
      "Current time at  zone Poland  is :  2018-10-19 22:11:43.814949+02:00\n",
      "Current time at  zone Portugal  is :  2018-10-19 21:11:43.815952+01:00\n",
      "Current time at  zone ROC  is :  2018-10-20 04:11:43.816951+08:00\n",
      "Current time at  zone ROK  is :  2018-10-20 05:11:43.817915+09:00\n",
      "Current time at  zone Singapore  is :  2018-10-20 04:11:43.817915+08:00\n",
      "Current time at  zone Turkey  is :  2018-10-19 23:11:43.818912+03:00\n",
      "Current time at  zone UCT  is :  2018-10-19 20:11:43.818912+00:00\n",
      "Current time at  zone US/Alaska  is :  2018-10-19 12:11:43.820906-08:00\n",
      "Current time at  zone US/Aleutian  is :  2018-10-19 11:11:43.821920-09:00\n",
      "Current time at  zone US/Arizona  is :  2018-10-19 13:11:43.822940-07:00\n",
      "Current time at  zone US/Central  is :  2018-10-19 15:11:43.823937-05:00\n",
      "Current time at  zone US/East-Indiana  is :  2018-10-19 16:11:43.824933-04:00\n",
      "Current time at  zone US/Eastern  is :  2018-10-19 16:11:43.826029-04:00\n",
      "Current time at  zone US/Hawaii  is :  2018-10-19 10:11:43.826029-10:00\n",
      "Current time at  zone US/Indiana-Starke  is :  2018-10-19 15:11:43.826029-05:00\n",
      "Current time at  zone US/Michigan  is :  2018-10-19 16:11:43.826029-04:00\n",
      "Current time at  zone US/Mountain  is :  2018-10-19 14:11:43.831652-06:00\n",
      "Current time at  zone US/Pacific  is :  2018-10-19 13:11:43.921642-07:00\n"
     ]
    },
    {
     "name": "stdout",
     "output_type": "stream",
     "text": [
      "Current time at  zone US/Samoa  is :  2018-10-19 09:11:43.921642-11:00\n",
      "Current time at  zone UTC  is :  2018-10-19 20:11:43.921642+00:00\n",
      "Current time at  zone Universal  is :  2018-10-19 20:11:43.921642+00:00\n",
      "Current time at  zone W-SU  is :  2018-10-19 23:11:43.997145+03:00\n",
      "Current time at  zone WET  is :  2018-10-19 21:11:43.999098+01:00\n",
      "Current time at  zone Zulu  is :  2018-10-19 20:11:44.000095+00:00\n"
     ]
    }
   ],
   "source": [
    "#current time of the other timezones\n",
    "from datetime import datetime as dt\n",
    "import pytz\n",
    "\n",
    "timezones=pytz.all_timezones\n",
    "\n",
    "for i in range(len(timezones)):\n",
    "    zone=timezones[i]\n",
    "    tz=pytz.timezone(zone)\n",
    "    print(\"Current time at  zone\", zone, \" is : \", dt.now(tz))"
   ]
  },
  {
   "cell_type": "code",
   "execution_count": null,
   "metadata": {},
   "outputs": [],
   "source": []
  },
  {
   "cell_type": "code",
   "execution_count": null,
   "metadata": {},
   "outputs": [],
   "source": []
  },
  {
   "cell_type": "markdown",
   "metadata": {},
   "source": [
    "### week-12:----------------------------------------->"
   ]
  },
  {
   "cell_type": "markdown",
   "metadata": {},
   "source": [
    "#### page rank: how google works:--------->"
   ]
  },
  {
   "cell_type": "markdown",
   "metadata": {},
   "source": [
    "it is a random walk method."
   ]
  },
  {
   "cell_type": "code",
   "execution_count": 2,
   "metadata": {},
   "outputs": [
    {
     "data": {
      "text/plain": [
       "(False, True, True)"
      ]
     },
     "execution_count": 2,
     "metadata": {},
     "output_type": "execute_result"
    }
   ],
   "source": [
    "import string\n",
    "s=\"A\"\n",
    "s.islower(),s.isupper(),s.isalnum()"
   ]
  },
  {
   "cell_type": "code",
   "execution_count": 9,
   "metadata": {},
   "outputs": [
    {
     "data": {
      "image/png": "[encoded data removed]",
      "text/plain": [
       "<Figure size 432x288 with 1 Axes>"
      ]
     },
     "metadata": {},
     "output_type": "display_data"
    }
   ],
   "source": [
    "import networkx as nx\n",
    "G=nx.barbell_graph(4,2)\n",
    "nx.draw(G)"
   ]
  },
  {
   "cell_type": "code",
   "execution_count": 14,
   "metadata": {},
   "outputs": [
    {
     "data": {
      "image/png": "[encoded data removed]",
      "text/plain": [
       "<Figure size 432x288 with 1 Axes>"
      ]
     },
     "metadata": {},
     "output_type": "display_data"
    }
   ],
   "source": [
    "G1=nx.barbell_graph(3,5)\n",
    "nx.draw(G1)"
   ]
  },
  {
   "cell_type": "code",
   "execution_count": 19,
   "metadata": {},
   "outputs": [
    {
     "data": {
      "image/png": "[encoded data removed]",
      "text/plain": [
       "<Figure size 432x288 with 1 Axes>"
      ]
     },
     "metadata": {},
     "output_type": "display_data"
    }
   ],
   "source": [
    "G2=nx.complete_graph(4)\n",
    "nx.draw(G2)"
   ]
  },
  {
   "cell_type": "code",
   "execution_count": 21,
   "metadata": {},
   "outputs": [
    {
     "data": {
      "image/png": "[encoded data removed]",
      "text/plain": [
       "<Figure size 432x288 with 1 Axes>"
      ]
     },
     "metadata": {},
     "output_type": "display_data"
    }
   ],
   "source": [
    "G3=nx.cycle_graph(10)\n",
    "nx.draw(G3)"
   ]
  },
  {
   "cell_type": "code",
   "execution_count": 29,
   "metadata": {},
   "outputs": [
    {
     "data": {
      "image/png": "[encoded data removed]",
      "text/plain": [
       "<Figure size 432x288 with 1 Axes>"
      ]
     },
     "metadata": {},
     "output_type": "display_data"
    }
   ],
   "source": [
    "G4=nx.ladder_graph(5)\n",
    "nx.draw(G4)"
   ]
  },
  {
   "cell_type": "code",
   "execution_count": 30,
   "metadata": {},
   "outputs": [
    {
     "data": {
      "image/png": "[encoded data removed]",
      "text/plain": [
       "<Figure size 432x288 with 1 Axes>"
      ]
     },
     "metadata": {},
     "output_type": "display_data"
    }
   ],
   "source": [
    "G5=nx.path_graph(5)\n",
    "nx.draw(G5)"
   ]
  },
  {
   "cell_type": "code",
   "execution_count": 32,
   "metadata": {},
   "outputs": [
    {
     "data": {
      "image/png": "[encoded data removed]",
      "text/plain": [
       "<Figure size 432x288 with 1 Axes>"
      ]
     },
     "metadata": {},
     "output_type": "display_data"
    }
   ],
   "source": [
    "G6=nx.star_graph(6)    #one hub node and 6 outer node\n",
    "nx.draw(G6)"
   ]
  },
  {
   "cell_type": "code",
   "execution_count": 35,
   "metadata": {},
   "outputs": [
    {
     "data": {
      "image/png": "[encoded data removed]",
      "text/plain": [
       "<Figure size 432x288 with 1 Axes>"
      ]
     },
     "metadata": {},
     "output_type": "display_data"
    }
   ],
   "source": [
    "G7=nx.wheel_graph(8)\n",
    "nx.draw(G7)"
   ]
  },
  {
   "cell_type": "code",
   "execution_count": 36,
   "metadata": {},
   "outputs": [
    {
     "data": {
      "image/png": "[encoded data removed]",
      "text/plain": [
       "<Figure size 432x288 with 1 Axes>"
      ]
     },
     "metadata": {},
     "output_type": "display_data"
    }
   ],
   "source": [
    "G8=nx.wheel_graph(4)\n",
    "nx.draw(G8)"
   ]
  },
  {
   "cell_type": "code",
   "execution_count": 40,
   "metadata": {},
   "outputs": [
    {
     "data": {
      "image/png": "[encoded data removed]",
      "text/plain": [
       "<Figure size 432x288 with 1 Axes>"
      ]
     },
     "metadata": {},
     "output_type": "display_data"
    }
   ],
   "source": [
    "G9=nx.wheel_graph(3)\n",
    "nx.draw(G9)"
   ]
  },
  {
   "cell_type": "code",
   "execution_count": 46,
   "metadata": {},
   "outputs": [
    {
     "data": {
      "image/png": "[encoded data removed]",
      "text/plain": [
       "<Figure size 432x288 with 1 Axes>"
      ]
     },
     "metadata": {},
     "output_type": "display_data"
    }
   ],
   "source": [
    "G10=nx.gnp_random_graph(5,0.5)\n",
    "nx.draw(G10)"
   ]
  },
  {
   "cell_type": "code",
   "execution_count": 54,
   "metadata": {},
   "outputs": [
    {
     "name": "stdout",
     "output_type": "stream",
     "text": [
      "[0, 1, 2, 3, 4]\n"
     ]
    }
   ],
   "source": [
    "print(list(range(0,5)))"
   ]
  },
  {
   "cell_type": "code",
   "execution_count": 59,
   "metadata": {},
   "outputs": [
    {
     "data": {
      "image/png": "[encoded data removed]",
      "text/plain": [
       "<Figure size 432x288 with 1 Axes>"
      ]
     },
     "metadata": {},
     "output_type": "display_data"
    },
    {
     "name": "stdout",
     "output_type": "stream",
     "text": [
      "[(3, 45375), (5, 48118), (1, 62007), (8, 62381), (0, 81566), (7, 113130), (9, 121385), (4, 152950), (6, 154092), (2, 158997)]\n",
      "[(3, 0.0521311823800044), (5, 0.05576216696162988), (8, 0.06504572044560777), (1, 0.06691864803673983), (0, 0.08227378270856936), (7, 0.11134429682591337), (9, 0.11562231586939822), (2, 0.1498584910437923), (4, 0.15032348153336), (6, 0.15071991419498465)]\n"
     ]
    }
   ],
   "source": [
    "import networkx as nx\n",
    "import random\n",
    "import matplotlib.pyplot as plt\n",
    "import operator\n",
    "g=nx.gnp_random_graph(10,0.5,directed=True)\n",
    "nx.draw(g,with_labels=True)\n",
    "plt.show()\n",
    "x=random.choice(list(range(g.number_of_nodes())))     #x is the random source node\n",
    "dict_counter={}   #store the counter of node in dictionary\n",
    "for i in range(g.number_of_nodes()):\n",
    "    dict_counter[i]=0   #initialize the counter ofeach node as zero                \n",
    "dict_counter[x]+=1\n",
    "for i in range(1000000):\n",
    "    list_n=list(g.neighbors(x))\n",
    "    if(len(list_n)==0):   #if t is a sink\n",
    "        x=random.choice(list(range(g.number_of_nodes())))\n",
    "        dict_counter[x]+=1\n",
    "    else:\n",
    "        x=random.choice(list_n)   #choose a node randomely\n",
    "        dict_counter[x]+=1\n",
    "\n",
    "sorted_rw=sorted(dict_counter.items(),key=operator.itemgetter(1))\n",
    "print(sorted_rw)       \n",
    "p=nx.pagerank(g)     #inbuilt function to find out the page rank\n",
    "sorted_p=sorted(p.items(),key=operator.itemgetter(1))\n",
    "print(sorted_p)"
   ]
  },
  {
   "cell_type": "markdown",
   "metadata": {},
   "source": [
    "##### page rank:points distribution method"
   ]
  },
  {
   "cell_type": "markdown",
   "metadata": {},
   "source": [
    "* nodes->points\n",
    "* edges->lines\n",
    "* neighbours->others connected to the node"
   ]
  },
  {
   "cell_type": "markdown",
   "metadata": {},
   "source": [
    "##### directed graph data structure:-->"
   ]
  },
  {
   "cell_type": "code",
   "execution_count": 13,
   "metadata": {},
   "outputs": [
    {
     "name": "stdout",
     "output_type": "stream",
     "text": [
      "nodes of d: [0, 1, 2]\n",
      "incoming edges of 1: []\n",
      "outcoming edges of 1: [(1, 2), (1, 3)]\n"
     ]
    },
    {
     "data": {
      "image/png": "[encoded data removed]",
      "text/plain": [
       "<Figure size 432x288 with 1 Axes>"
      ]
     },
     "metadata": {},
     "output_type": "display_data"
    }
   ],
   "source": [
    "# import networkx as nx\n",
    "u=nx.Graph()   #undirected graph\n",
    "d=nx.DiGraph()\n",
    "d.add_nodes_from([0,1,2])\n",
    "print(\"nodes of d:\",d.nodes())\n",
    "d.add_edge(1,2)\n",
    "d.add_edge(0,3)\n",
    "d.add_edge(1,3)\n",
    "d.add_edge(2,0)\n",
    "#d.add_edges_from([(1,2),(0,3),(1,3),(2,0)])\n",
    "print(\"incoming edges of 1:\",d.in_edges(1))\n",
    "print(\"outcoming edges of 1:\",d.out_edges(1))\n",
    "nx.draw(d,with_labels=True)"
   ]
  },
  {
   "cell_type": "markdown",
   "metadata": {},
   "source": [
    "#points distribution method:page rank\n",
    "* initially all nodes are given equal points\n",
    "* rule: share whatever u have equally with ur neighbours (i.e outgoing nodes)\n",
    "* if k links are outgoing from a node then 1/k points given to nodes\n",
    "* repeat this rule multiple times then u will get"
   ]
  },
  {
   "cell_type": "markdown",
   "metadata": {},
   "source": [
    "##### CODING FOR POINTS DISTRIBUTION:PAGE RANK:"
   ]
  },
  {
   "cell_type": "code",
   "execution_count": 25,
   "metadata": {},
   "outputs": [
    {
     "data": {
      "image/png": "[encoded data removed]",
      "text/plain": [
       "<Figure size 432x288 with 1 Axes>"
      ]
     },
     "metadata": {},
     "output_type": "display_data"
    },
    {
     "name": "stdout",
     "output_type": "stream",
     "text": [
      "[164.7927022598549, 87.42645290198757, 169.1087374730781, 103.06210018926278, 74.10122772245407, 70.10355973729179, 89.40595386888992, 36.37220041468084, 141.0457208481825, 64.58134458431734]\n"
     ]
    }
   ],
   "source": [
    "import networkx as nx\n",
    "import random\n",
    "import matplotlib.pyplot as plt\n",
    "\n",
    "def add_edges():\n",
    "    nodes=list(G.nodes())\n",
    "    for s in nodes:\n",
    "        for t in nodes:\n",
    "            if s!=t:\n",
    "                r=random.random()\n",
    "                if r<=0.5:\n",
    "                    G.add_edge(s,t)\n",
    "    return G\n",
    "\n",
    "\n",
    "def assign_points(G):\n",
    "    nodes=list(G.nodes())\n",
    "    p=[]\n",
    "    for each in nodes:\n",
    "        p.append(100)\n",
    "    return p\n",
    "\n",
    "def distribute_points(G,points):\n",
    "    nodes=list(G.nodes())\n",
    "    new_points=[]\n",
    "    for i in range(len(nodes)):\n",
    "        new_points.append(0)\n",
    "\n",
    "    for n in nodes:\n",
    "        out=list(G.out_edges(n))\n",
    "        if len(out)==0:\n",
    "            new_points[n]=new_points[n]+points[n]\n",
    "        else:\n",
    "            share=points[n]/len(out)\n",
    "            for (src,tgt) in out:\n",
    "                new_points[tgt]=new_points[tgt]+share\n",
    "    return  new_points                \n",
    "\n",
    "def keep_distributing(points,G):\n",
    "    kk=0\n",
    "    while(kk<5000):\n",
    "        new_points=distribute_points(G,points)\n",
    "        #print(new_points)\n",
    "        points=new_points\n",
    "        \"\"\"stop=input(\"Press # to stop or any other key to continue\")\n",
    "        if stop=='#':\n",
    "            break\"\"\"\n",
    "        kk+=1\n",
    "    return new_points\n",
    "\n",
    "#create a directed graph\n",
    "G=nx.DiGraph()\n",
    "G.add_nodes_from([i for i in range(10)])\n",
    "add_edges()\n",
    "nx.draw(G,with_labels=True)\n",
    "plt.show()\n",
    "\n",
    "#assign initial points\n",
    "points=assign_points(G)\n",
    "\n",
    "#keep distributing\n",
    "final_points=keep_distributing(points,G)\n",
    "print(final_points)"
   ]
  },
  {
   "cell_type": "markdown",
   "metadata": {},
   "source": [
    "##### rank by points:->"
   ]
  },
  {
   "cell_type": "code",
   "execution_count": 26,
   "metadata": {},
   "outputs": [
    {
     "data": {
      "image/png": "[encoded data removed]",
      "text/plain": [
       "<Figure size 432x288 with 1 Axes>"
      ]
     },
     "metadata": {},
     "output_type": "display_data"
    },
    {
     "name": "stdout",
     "output_type": "stream",
     "text": [
      "[(8, 28.350308120545126), (5, 61.78500748177825), (0, 75.75421151711156), (6, 87.64138951907451), (9, 95.30015607150327), (3, 95.61229907805185), (2, 104.9315377065534), (1, 128.70589371047933), (7, 139.8947724091326), (4, 182.02442438577015)]\n",
      "[(8, 0.039367094600263386), (5, 0.07003228669372182), (0, 0.07905875624039199), (6, 0.08686617095787676), (9, 0.09543955478421058), (3, 0.0959514493019689), (2, 0.10595351006498363), (1, 0.12637205817649275), (7, 0.1316228657687232), (4, 0.16933625341136702)]\n"
     ]
    }
   ],
   "source": [
    "import networkx as nx\n",
    "import random\n",
    "import matplotlib.pyplot as plt\n",
    "import operator\n",
    "\n",
    "def add_edges():\n",
    "    nodes=list(G.nodes())\n",
    "    for s in nodes:\n",
    "        for t in nodes:\n",
    "            if s!=t:\n",
    "                r=random.random()\n",
    "                if r<=0.5:\n",
    "                    G.add_edge(s,t)\n",
    "    return G\n",
    "\n",
    "\n",
    "def assign_points(G):\n",
    "    nodes=list(G.nodes())\n",
    "    p=[]\n",
    "    for each in nodes:\n",
    "        p.append(100)\n",
    "    return p\n",
    "\n",
    "def distribute_points(G,points):\n",
    "    nodes=list(G.nodes())\n",
    "    new_points=[]\n",
    "    for i in range(len(nodes)):\n",
    "        new_points.append(0)\n",
    "\n",
    "    for n in nodes:\n",
    "        out=list(G.out_edges(n))\n",
    "        if len(out)==0:\n",
    "            new_points[n]=new_points[n]+points[n]\n",
    "        else:\n",
    "            share=points[n]/len(out)\n",
    "            for (src,tgt) in out:\n",
    "                new_points[tgt]=new_points[tgt]+share\n",
    "    return  new_points                \n",
    "\n",
    "def keep_distributing(points,G):\n",
    "    kk=0\n",
    "    while(kk<5000):\n",
    "        new_points=distribute_points(G,points)\n",
    "        #print(new_points)\n",
    "        points=new_points\n",
    "        \"\"\"stop=input(\"Press # to stop or any other key to continue\")\n",
    "        if stop=='#':\n",
    "            break\"\"\"\n",
    "        kk+=1\n",
    "    return new_points\n",
    "\n",
    "def  rank_by_points(points):\n",
    "    d={}\n",
    "    for i in range(len(points)):\n",
    "        d[i]=points[i]\n",
    "    print(sorted(d.items(),key=lambda f:f[1]))   #see this also->key=operator.itemgetter(1)\n",
    "\n",
    "#main part\n",
    "#create a directed graph\n",
    "G=nx.DiGraph()\n",
    "G.add_nodes_from([i for i in range(10)])\n",
    "add_edges()\n",
    "nx.draw(G,with_labels=True)\n",
    "plt.show()\n",
    "\n",
    "#assign initial points\n",
    "points=assign_points(G)\n",
    "\n",
    "#keep distributing\n",
    "final_points=keep_distributing(points,G)\n",
    "\n",
    "#rank by points\n",
    "rank_by_points(final_points)\n",
    "\n",
    "#default networkx function\n",
    "result=nx.pagerank(G)\n",
    "print(sorted(result.items(),key=lambda f:f[1]))"
   ]
  },
  {
   "cell_type": "markdown",
   "metadata": {},
   "source": [
    "###### select the leader:--->"
   ]
  },
  {
   "cell_type": "code",
   "execution_count": 13,
   "metadata": {},
   "outputs": [
    {
     "data": {
      "image/png": "[encoded data removed]",
      "text/plain": [
       "<Figure size 432x288 with 1 Axes>"
      ]
     },
     "metadata": {},
     "output_type": "display_data"
    },
    {
     "name": "stdout",
     "output_type": "stream",
     "text": [
      "leader is: (6, 0.08139960139233969)\n"
     ]
    }
   ],
   "source": [
    "import networkx as nx\n",
    "import matplotlib.pyplot as plt\n",
    "G1=nx.read_edgelist(r\"text_folder/leader_selection.txt\",create_using=nx.DiGraph(),nodetype=int)\n",
    "nx.draw(G1,with_labels=True)\n",
    "plt.show()\n",
    "\n",
    "\"\"\"#calling point calculation algorithm\n",
    "#Out program where, functions are defined\n",
    "from v12p import *\n",
    "\n",
    "add_edges(G)\n",
    "\n",
    "#assign initial points\n",
    "points=assign_points(G)\n",
    "\n",
    "#keep distributing\n",
    "final_points=keep_distributing(points,G)\n",
    "rank_by_points(final_points)\n",
    "\n",
    "#default networkx function\n",
    "result = nx.pagerank(G)\n",
    "print(sorted(result.items(),key=lambda f:f[1]))\"\"\"\n",
    "\n",
    "result=nx.pagerank(G1)\n",
    "k=sorted(result.items(),key=lambda f:f[1])\n",
    "print(\"leader is:\",k[-1])"
   ]
  },
  {
   "cell_type": "markdown",
   "metadata": {},
   "source": [
    "###### collatz conjecture"
   ]
  },
  {
   "cell_type": "code",
   "execution_count": 26,
   "metadata": {},
   "outputs": [
    {
     "name": "stdout",
     "output_type": "stream",
     "text": [
      "enter a number:5\n",
      "5\n",
      "16\n",
      "8\n",
      "4\n",
      "2\n",
      "1\n",
      "no. of itration: 5\n"
     ]
    }
   ],
   "source": [
    "def collatz(n):\n",
    "    print(n)\n",
    "    i=0\n",
    "    while(n!=1):\n",
    "        if(n%2==0):\n",
    "            n=n//2\n",
    "        else:\n",
    "            n=n*3+1\n",
    "        print(n)\n",
    "        i+=1\n",
    "    return(i)\n",
    "            \n",
    "\n",
    "n=int(input(\"enter a number:\"))\n",
    "result = collatz(n)\n",
    "print(\"no. of itration:\",result)"
   ]
  },
  {
   "cell_type": "markdown",
   "metadata": {},
   "source": [
    "#WHATS NEXT:\n",
    "* object oriented programming\n",
    "* explore more APIs\n",
    "* web programming\n",
    "* scientific programming\n",
    "* project development\n",
    "* develope application\n",
    "* join GitHub and software developer"
   ]
  },
  {
   "cell_type": "markdown",
   "metadata": {},
   "source": [
    "### <------------------END OF COURSE------------------------>"
   ]
  },
  {
   "cell_type": "code",
   "execution_count": null,
   "metadata": {},
   "outputs": [],
   "source": []
  },
  {
   "cell_type": "code",
   "execution_count": 2,
   "metadata": {},
   "outputs": [],
   "source": [
    "from selenium import webdriver\n",
    "from selenium.webdriver.support.ui import WebDriverWait\n",
    "from selenium.webdriver.support import expected_conditions as EC\n",
    "from selenium.webdriver.common.keys import Keys\n",
    "from selenium.webdriver.common.by import By\n",
    "import time\n",
    "\n",
    "driver = webdriver.Chrome(\"C:\\webdrivers\\chromedriver.exe\")\n",
    "driver.get(\"https://chrome.google.com/webstore/detail/ultrasurf-security-privac/mjnbclmflcpookeapghfhapeffmpodij\")\n",
    "time.sleep(40)\n",
    "\n",
    "driver.get(\"https://web.whatsapp.com\")\n",
    "wait=WebDriverWait(driver,600)\n",
    "target='\"JNV dudes\"'   #friends name\n",
    "string=\"Message sent using python\"\n",
    "x_arg='//span[contains(@title, '+ target+')]'\n",
    "target=wait.until(EC.presence_of_element_located((By.XPATH, x_arg)))\n",
    "target.click()\n",
    "\n",
    "input_box=driver.find_element_by_class_name(\"_1Plpp\")\n",
    "for i in range(4):\n",
    "    input_box.send_keys(string+Keys.ENTER)"
   ]
  },
  {
   "cell_type": "code",
   "execution_count": 5,
   "metadata": {},
   "outputs": [
    {
     "data": {
      "text/plain": [
       "['It is a beautiful day! It is a great reminder of how thankful I am for all the beauty I have in my life. Thanks for being a part of this great feeling!',\n",
       " 'I just wanted to take a moment and say \"thank you\" to everyone for all of the birthday wishes. It means a lot to me that you all took time from your busy lives to wish me a happy birthday. I feel very blessed to have each and every one of you as my friends.',\n",
       " \"Thank you for my birthday messages. It's definitely been a birthday to remember.\",\n",
       " 'From the bottom of my heart, I would like to thank everyone for the birthday wishes and gifts',\n",
       " 'First, I want to thank God for my life! Thank you to all who wished me a wonderful birthday. I love you all!',\n",
       " 'Thank you very much for all the superb birthday wishes. They really mean a lot to me',\n",
       " 'I am very happy to hear great birthday wishes from you.I love you all!Thank you my lovely friends!',\n",
       " 'I am extremely grateful to God for giving me wonderful friends like you',\n",
       " 'Thank you for making my birthday so memorable.And a special, Thank you for the WISHES']"
      ]
     },
     "execution_count": 5,
     "metadata": {},
     "output_type": "execute_result"
    }
   ],
   "source": [
    "TH_L=[\"It is a beautiful day! It is a great reminder of how thankful I am for all the beauty I have in my life. Thanks for being a part of this great feeling!\",'I just wanted to take a moment and say \"thank you\" to everyone for all of the birthday wishes. It means a lot to me that you all took time from your busy lives to wish me a happy birthday. I feel very blessed to have each and every one of you as my friends.',\"Thank you for my birthday messages. It's definitely been a birthday to remember.\",\"From the bottom of my heart, I would like to thank everyone for the birthday wishes and gifts\",\"First, I want to thank God for my life! Thank you to all who wished me a wonderful birthday. I love you all!\",\"Thank you very much for all the superb birthday wishes. They really mean a lot to me\",\"I am very happy to hear great birthday wishes from you.I love you all!Thank you my lovely friends!\",\"I am extremely grateful to God for giving me wonderful friends like you\",\"Thank you for making my birthday so memorable.And a special, Thank you for the WISHES\"]\n",
    "TH_L"
   ]
  },
  {
   "cell_type": "code",
   "execution_count": null,
   "metadata": {},
   "outputs": [],
   "source": []
  },
  {
   "cell_type": "code",
   "execution_count": 14,
   "metadata": {},
   "outputs": [
    {
     "ename": "TypeError",
     "evalue": "unsupported operand type(s) for +: 'NoneType' and 'str'",
     "output_type": "error",
     "traceback": [
      "\u001b[1;31m---------------------------------------------------------------------------\u001b[0m",
      "\u001b[1;31mTypeError\u001b[0m                                 Traceback (most recent call last)",
      "\u001b[1;32m<ipython-input-14-f90c6be1117b>\u001b[0m in \u001b[0;36m<module>\u001b[1;34m\u001b[0m\n\u001b[0;32m     21\u001b[0m \u001b[1;33m\u001b[0m\u001b[0m\n\u001b[0;32m     22\u001b[0m \u001b[0minput_box\u001b[0m\u001b[1;33m=\u001b[0m\u001b[0mdriver\u001b[0m\u001b[1;33m.\u001b[0m\u001b[0mfind_element_by_class_name\u001b[0m\u001b[1;33m(\u001b[0m\u001b[1;34m'_1Plpp'\u001b[0m\u001b[1;33m)\u001b[0m\u001b[1;33m\u001b[0m\u001b[0m\n\u001b[1;32m---> 23\u001b[1;33m \u001b[0minput_box\u001b[0m\u001b[1;33m.\u001b[0m\u001b[0msend_keys\u001b[0m\u001b[1;33m(\u001b[0m\u001b[0mimg\u001b[0m\u001b[1;33m.\u001b[0m\u001b[0mshow\u001b[0m\u001b[1;33m(\u001b[0m\u001b[1;33m)\u001b[0m\u001b[1;33m+\u001b[0m\u001b[0mKeys\u001b[0m\u001b[1;33m.\u001b[0m\u001b[0mENTER\u001b[0m\u001b[1;33m)\u001b[0m\u001b[1;33m\u001b[0m\u001b[0m\n\u001b[0m",
      "\u001b[1;31mTypeError\u001b[0m: unsupported operand type(s) for +: 'NoneType' and 'str'"
     ]
    }
   ],
   "source": [
    "from selenium import webdriver\n",
    "from selenium.webdriver.support.ui import WebDriverWait\n",
    "from selenium.webdriver.support import expected_conditions as EC\n",
    "from selenium.webdriver.common.keys import Keys\n",
    "from selenium.webdriver.common.by import By\n",
    "import time\n",
    "\n",
    "driver = webdriver.Chrome(\"C:\\webdrivers\\chromedriver.exe\")\n",
    "driver.get(\"https://chrome.google.com/webstore/detail/ultrasurf-security-privac/mjnbclmflcpookeapghfhapeffmpodij\")\n",
    "time.sleep(20)\n",
    "\n",
    "driver.get(\"https://web.whatsapp.com\")\n",
    "wait=WebDriverWait(driver,600)\n",
    "target='\"Kishore J\"'   #friends name\n",
    "string=\"bhak\"\n",
    "\n",
    "x_arg='//span[contains(@title, '+ target+')]'\n",
    "target=wait.until(EC.presence_of_element_located((By.XPATH, x_arg)))\n",
    "target.click()\n",
    "\n",
    "\n",
    "input_box=driver.find_element_by_class_name(\"_1Plpp\")\n",
    "for i in range(100):\n",
    "    input_box.send_keys(string+Keys.ENTER)"
   ]
  },
  {
   "cell_type": "code",
   "execution_count": null,
   "metadata": {},
   "outputs": [],
   "source": []
  },
  {
   "cell_type": "code",
   "execution_count": null,
   "metadata": {},
   "outputs": [],
   "source": []
  },
  {
   "cell_type": "code",
   "execution_count": null,
   "metadata": {},
   "outputs": [],
   "source": []
  },
  {
   "cell_type": "code",
   "execution_count": null,
   "metadata": {},
   "outputs": [],
   "source": []
  },
  {
   "cell_type": "code",
   "execution_count": null,
   "metadata": {},
   "outputs": [],
   "source": []
  },
  {
   "cell_type": "code",
   "execution_count": null,
   "metadata": {},
   "outputs": [],
   "source": []
  },
  {
   "cell_type": "code",
   "execution_count": null,
   "metadata": {},
   "outputs": [],
   "source": []
  },
  {
   "cell_type": "code",
   "execution_count": null,
   "metadata": {},
   "outputs": [],
   "source": []
  },
  {
   "cell_type": "code",
   "execution_count": null,
   "metadata": {},
   "outputs": [],
   "source": []
  },
  {
   "cell_type": "code",
   "execution_count": null,
   "metadata": {},
   "outputs": [],
   "source": []
  },
  {
   "cell_type": "code",
   "execution_count": null,
   "metadata": {},
   "outputs": [],
   "source": []
  }
 ],
 "metadata": {
  "kernelspec": {
   "display_name": "Python 3",
   "language": "python",
   "name": "python3"
  },
  "language_info": {
   "codemirror_mode": {
    "name": "ipython",
    "version": 3
   },
   "file_extension": ".py",
   "mimetype": "text/x-python",
   "name": "python",
   "nbconvert_exporter": "python",
   "pygments_lexer": "ipython3",
   "version": "3.6.8"
  }
 },
 "nbformat": 4,
 "nbformat_minor": 2
}
