{
 "cells": [
  {
   "cell_type": "code",
   "execution_count": 3,
   "metadata": {},
   "outputs": [
    {
     "name": "stdout",
     "output_type": "stream",
     "text": [
      "6\n"
     ]
    }
   ],
   "source": [
    "#----->program number:1----->\n",
    "ar=[]\n",
    "def simpleArraySum():\n",
    "     ar=[1,2,3]\n",
    "     sum=0\n",
    "     for i in ar:\n",
    "         sum+=i\n",
    "     print(sum)\n",
    "    \n",
    "simpleArraySum();"
   ]
  },
  {
   "cell_type": "code",
   "execution_count": 4,
   "metadata": {},
   "outputs": [
    {
     "name": "stdout",
     "output_type": "stream",
     "text": [
      "2 1\n"
     ]
    }
   ],
   "source": [
    "#----->program number:2----->\n",
    "# -*- coding: utf-8 -*-\n",
    "\"\"\"\n",
    "Created on Tue Aug  7 23:57:48 2018\n",
    "\n",
    "@author: RAUSHAN KUMAR\n",
    "\"\"\"\n",
    "\n",
    "def compareTriplets(a, b):\n",
    "    (c,d)=(0,0)\n",
    "    for i in range(3):\n",
    "        if(a[i]>b[i]):\n",
    "            c+=1\n",
    "        elif(a[i]<b[i]):\n",
    "            d+=1\n",
    "    return(c,d)\n",
    "    \n",
    "# main program\n",
    "a=[45,65,85]\n",
    "b=[15,88,24]\n",
    "(m,n)=(compareTriplets(a,b))\n",
    "print(m,n)"
   ]
  },
  {
   "cell_type": "code",
   "execution_count": 7,
   "metadata": {},
   "outputs": [
    {
     "name": "stdout",
     "output_type": "stream",
     "text": [
      "enter the total no. of input:5\n",
      "enter the elements:\n",
      "4\n",
      "5\n",
      "7\n",
      "8\n",
      "6\n",
      "sum is: 30\n"
     ]
    }
   ],
   "source": [
    "#----->program number:3----->\n",
    "def aVeryBigSum(ar):\n",
    "    sum=0\n",
    "    for i in ar:\n",
    "        sum+=i\n",
    "    return(sum)\n",
    "# main\n",
    "n=int(input(\"enter the total no. of input:\"))\n",
    "ar=[]\n",
    "print(\"enter the elements:\")\n",
    "for i in range(n):\n",
    "    ar.append(int(input()))\n",
    "print(\"sum is:\",aVeryBigSum(ar))\n",
    "\n",
    "#another one\n",
    "#print(sum(map(int, input().split())))"
   ]
  },
  {
   "cell_type": "code",
   "execution_count": 2,
   "metadata": {},
   "outputs": [
    {
     "name": "stdout",
     "output_type": "stream",
     "text": [
      "enter the size of matrix:2\n",
      "1 5\n",
      "7 6\n",
      "difference of diagonal element is: 5\n"
     ]
    }
   ],
   "source": [
    "#----->program number:4----->\n",
    "from math import *\n",
    "ar=[]\n",
    "n=int(input(\"enter the size of matrix:\"))\n",
    "for i in range(n):\n",
    "    ar.append(list(map(int, input().rstrip().split())))\n",
    "k=0\n",
    "l=-1\n",
    "sum1=0\n",
    "sum2=0\n",
    "for i in ar:\n",
    "    sum1+=i[k]\n",
    "    sum2+=i[l]\n",
    "    k+=1\n",
    "    l-=1\n",
    "diff=abs(sum2-sum1)\n",
    "print(\"difference of diagonal element is:\",diff)"
   ]
  },
  {
   "cell_type": "code",
   "execution_count": 3,
   "metadata": {},
   "outputs": [
    {
     "name": "stdout",
     "output_type": "stream",
     "text": [
      "6\n",
      "-4 3 -9 12 0 1\n",
      "0.500000\n",
      "0.333333\n",
      "0.166667\n"
     ]
    },
    {
     "data": {
      "text/plain": [
       "'better one\\nn = float(raw_input())\\nlst = [int(x) for x in raw_input().split()]\\nprint format(len([x for x in lst if x > 0])/n, \".6f\")\\nprint format(len([x for x in lst if x < 0])/n, \".6f\")\\nprint format(len([x for x in lst if x == 0])/n, \".6f\")\\n'"
      ]
     },
     "execution_count": 3,
     "metadata": {},
     "output_type": "execute_result"
    }
   ],
   "source": [
    "#----->program number:5----->\n",
    "\"\"\"\n",
    "You must print the following  lines:\n",
    "A decimal representing of the fraction of positive numbers in the array compared to its size.\n",
    "A decimal representing of the fraction of negative numbers in the array compared to its size.\n",
    "A decimal representing of the fraction of zeros in the array compared to its size.\n",
    "\n",
    "Sample Input\n",
    "6\n",
    "-4 3 -9 0 4 1\n",
    "\n",
    "Sample Output\n",
    "0.500000\n",
    "0.333333\n",
    "0.166667\n",
    "\"\"\"\n",
    "\n",
    "\n",
    "\n",
    "\n",
    "\n",
    "\n",
    "# main\n",
    "a=int(input())\n",
    "ar=[]\n",
    "ar.extend(list(map(int, input().split())))\n",
    "(p,n,z)=(0,0,0)\n",
    "for i in ar:\n",
    "    if(i<0):\n",
    "        n+=1\n",
    "    elif(i>0):\n",
    "        p+=1\n",
    "    else:\n",
    "        z+=1\n",
    "a=float(a)\n",
    "print('{0:.6f}'.format(p/a))\n",
    "print('{0:.6f}'.format(n/a))\n",
    "print('{0:.6f}'.format(z/a))\n",
    "\n",
    "\"\"\"better one\n",
    "n = float(raw_input())\n",
    "lst = [int(x) for x in raw_input().split()]\n",
    "print format(len([x for x in lst if x > 0])/n, \".6f\")\n",
    "print format(len([x for x in lst if x < 0])/n, \".6f\")\n",
    "print format(len([x for x in lst if x == 0])/n, \".6f\")\n",
    "\"\"\""
   ]
  },
  {
   "cell_type": "code",
   "execution_count": 4,
   "metadata": {},
   "outputs": [
    {
     "name": "stdout",
     "output_type": "stream",
     "text": [
      "5\n",
      "    #\n",
      "   ##\n",
      "  ###\n",
      " ####\n",
      "#####\n"
     ]
    },
    {
     "data": {
      "text/plain": [
       "\"best solution\\nn=int(input())\\n[print(' '*(n-i) + '#'*i) for i in range(1,n+1)]\\n\""
      ]
     },
     "execution_count": 4,
     "metadata": {},
     "output_type": "execute_result"
    }
   ],
   "source": [
    "#----->program number:6----->\n",
    "\"\"\"\n",
    "Sample Input\n",
    "6 \n",
    "Sample Output\n",
    "\n",
    "     #\n",
    "    ##\n",
    "   ###\n",
    "  ####\n",
    " #####\n",
    "######\n",
    "\"\"\"\n",
    "\n",
    "#main\n",
    "n=int(input())\n",
    "for i in range(n):\n",
    "    for j in range(n):\n",
    "        if(j<(n-1-i)):\n",
    "            print(\" \",end=\"\")\n",
    "        else:\n",
    "            print(\"#\",end=\"\")\n",
    "    print()\n",
    "\n",
    "\"\"\"best solution\n",
    "n=int(input())\n",
    "[print(' '*(n-i) + '#'*i) for i in range(1,n+1)]\n",
    "\"\"\""
   ]
  },
  {
   "cell_type": "code",
   "execution_count": 5,
   "metadata": {},
   "outputs": [
    {
     "name": "stdout",
     "output_type": "stream",
     "text": [
      "1 5 48 2 46\n",
      "54 101\n"
     ]
    },
    {
     "data": {
      "text/plain": [
       "\" better one\\nlst = map(int,raw_input().strip().split(' '))\\nprint (sum(lst)-(max(lst))), (sum(lst)-(min(lst)))\\n\""
      ]
     },
     "execution_count": 5,
     "metadata": {},
     "output_type": "execute_result"
    }
   ],
   "source": [
    "#----->program number:7----->\n",
    "\"\"\"\n",
    "Given five positive integers, find the minimum and maximum values that can\n",
    "be calculated by summing exactly four of the five integers. Then print the\n",
    "respective minimum and maximum values as a single line of two space-separated\n",
    "long integers\n",
    "\n",
    "Sample Input\n",
    "1 2 3 4 5\n",
    "\n",
    "Sample Output\n",
    "10 14\n",
    "\"\"\"\n",
    "\n",
    "ar=[]\n",
    "ar.extend(list(map(int, input().split())))\n",
    "min=max=ar[0]\n",
    "for i in ar:\n",
    "    if(i<min):\n",
    "        min=i\n",
    "    if(i>max):\n",
    "        max=i\n",
    "print((sum(ar)-max),(sum(ar)-min))\n",
    "\n",
    "\"\"\" better one\n",
    "lst = map(int,raw_input().strip().split(' '))\n",
    "print (sum(lst)-(max(lst))), (sum(lst)-(min(lst)))\n",
    "\"\"\"\n"
   ]
  },
  {
   "cell_type": "code",
   "execution_count": 15,
   "metadata": {},
   "outputs": [
    {
     "name": "stdout",
     "output_type": "stream",
     "text": [
      "4\n",
      "3 2 1 3\n"
     ]
    },
    {
     "ename": "TypeError",
     "evalue": "'int' object is not callable",
     "output_type": "error",
     "traceback": [
      "\u001b[1;31m---------------------------------------------------------------------------\u001b[0m",
      "\u001b[1;31mTypeError\u001b[0m                                 Traceback (most recent call last)",
      "\u001b[1;32m<ipython-input-15-001509dffe09>\u001b[0m in \u001b[0;36m<module>\u001b[1;34m()\u001b[0m\n\u001b[0;32m     15\u001b[0m \u001b[0mN\u001b[0m\u001b[1;33m=\u001b[0m\u001b[0mint\u001b[0m\u001b[1;33m(\u001b[0m\u001b[0minput\u001b[0m\u001b[1;33m(\u001b[0m\u001b[1;33m)\u001b[0m\u001b[1;33m)\u001b[0m\u001b[1;33m\u001b[0m\u001b[0m\n\u001b[0;32m     16\u001b[0m \u001b[0mV\u001b[0m\u001b[1;33m=\u001b[0m\u001b[0mlist\u001b[0m\u001b[1;33m(\u001b[0m\u001b[0mmap\u001b[0m\u001b[1;33m(\u001b[0m\u001b[0mint\u001b[0m\u001b[1;33m,\u001b[0m\u001b[0minput\u001b[0m\u001b[1;33m(\u001b[0m\u001b[1;33m)\u001b[0m\u001b[1;33m.\u001b[0m\u001b[0msplit\u001b[0m\u001b[1;33m(\u001b[0m\u001b[1;33m)\u001b[0m\u001b[1;33m)\u001b[0m\u001b[1;33m)\u001b[0m\u001b[1;33m\u001b[0m\u001b[0m\n\u001b[1;32m---> 17\u001b[1;33m \u001b[0mprint\u001b[0m\u001b[1;33m(\u001b[0m\u001b[0mV\u001b[0m\u001b[1;33m.\u001b[0m\u001b[0mcount\u001b[0m\u001b[1;33m(\u001b[0m\u001b[0mmax\u001b[0m\u001b[1;33m(\u001b[0m\u001b[0mV\u001b[0m\u001b[1;33m)\u001b[0m\u001b[1;33m)\u001b[0m\u001b[1;33m)\u001b[0m\u001b[1;33m\u001b[0m\u001b[0m\n\u001b[0m",
      "\u001b[1;31mTypeError\u001b[0m: 'int' object is not callable"
     ]
    }
   ],
   "source": [
    "#----->program number:8----->\n",
    "\"\"\"\n",
    "You are in-charge of the cake for your niece's birthday and have decided\n",
    "the cake will have one candle for each year of her total age. When she\n",
    "blows out the candles, she’ll only be able to blow out the tallest ones.\n",
    "Your task is to find out how many candles she can successfully blow out.\n",
    "\n",
    "Sample Input\n",
    "4\n",
    "3 2 1 3\n",
    "Sample Output\n",
    "2\n",
    "\"\"\"\n",
    "\n",
    "N=int(input())\n",
    "V=list(map(int,input().split()))\n",
    "print(V.count(max(V)))\n"
   ]
  },
  {
   "cell_type": "code",
   "execution_count": 16,
   "metadata": {},
   "outputs": [
    {
     "name": "stdout",
     "output_type": "stream",
     "text": [
      "01:14:45PM\n",
      "13:14:45\n"
     ]
    },
    {
     "data": {
      "text/plain": [
       "'------ANOTHER SOLUTION------\\n\\na=input()\\nb=a[8:10]\\nif a[0:2]==\\'12\\' and a[8:10]==\"PM\":\\n    print(a[0:8])\\nelif a[0:2]==\\'12\\' and a[8:10]==\"AM\":\\n    num2=a[2:8]\\n    num1=\"00\"\\n    print(num1+num2)\\nelif b==\"PM\":\\n    num1=a[0:2]\\n    num2=a[2:8]\\n    num3=str(int(num1)+12)\\n    print(num3+num2)\\nelse:\\n    print(a[0:8])\\n    \\n'"
      ]
     },
     "execution_count": 16,
     "metadata": {},
     "output_type": "execute_result"
    }
   ],
   "source": [
    "#----->program number:9----->\n",
    "\"\"\"\n",
    "Given a time in 12-hour AM/PM format, convert it to military (24-hour) time.\n",
    "Note: Midnight is 12:00:00AM on a 12-hour clock, and 00:00:00 on a 24-hour\n",
    "clock. Noon is 12:00:00PM on a 12-hour clock, and 12:00:00 on a 24-hour clock.\n",
    "\n",
    "Sample Input\n",
    "07:05:45PM\n",
    "Sample Output\n",
    "19:05:45\n",
    "\"\"\"\n",
    "\n",
    "t=input()\n",
    "u=list(t)\n",
    "v=list(t.split(\":\"))\n",
    "if(u[8]=='P') and (int(v[0])>=1 and int(v[0])<12):\n",
    "    v[0]=int(v[0])+12\n",
    "    v[0]=str(v[0])\n",
    "if(u[8]=='A') and (int(v[0])==12):\n",
    "    v[0]=\"00\"\n",
    "k=v[0:2]\n",
    "k.append(v[2][0:2])\n",
    "print(\":\".join(k))\n",
    "\n",
    "\"\"\"-------ANOTHER SOLUTION-------\n",
    "\n",
    "ins = input().strip()\n",
    "is_pm = ins[-2:].lower() == 'pm'\n",
    "time_list = list(map(int, ins[:-2].split(':')))\n",
    "if is_pm and time_list[0] < 12:\n",
    "    time_list[0] += 12\n",
    "if not is_pm and time_list[0] == 12:\n",
    "    time_list[0] = 0\n",
    "print(':'.join(map(lambda x: str(x).rjust(2, '0'), time_list)))\n",
    "\n",
    "\"\"\"\n",
    "\n",
    "\"\"\"------ANOTHER SOLUTION------\n",
    "\n",
    "a=input()\n",
    "b=a[8:10]\n",
    "if a[0:2]=='12' and a[8:10]==\"PM\":\n",
    "    print(a[0:8])\n",
    "elif a[0:2]=='12' and a[8:10]==\"AM\":\n",
    "    num2=a[2:8]\n",
    "    num1=\"00\"\n",
    "    print(num1+num2)\n",
    "elif b==\"PM\":\n",
    "    num1=a[0:2]\n",
    "    num2=a[2:8]\n",
    "    num3=str(int(num1)+12)\n",
    "    print(num3+num2)\n",
    "else:\n",
    "    print(a[0:8])\n",
    "    \n",
    "\"\"\""
   ]
  },
  {
   "cell_type": "code",
   "execution_count": 18,
   "metadata": {},
   "outputs": [
    {
     "name": "stdout",
     "output_type": "stream",
     "text": [
      "4\n",
      "14\n",
      "25\n",
      "85\n",
      "79\n",
      "14\n",
      "25\n",
      "85\n",
      "80\n"
     ]
    },
    {
     "data": {
      "text/plain": [
       "'------ANOTHER SOLUTION-----\\n\\nimport sys\\nn = int(input().strip())\\nfor a0 in range(n):\\n    x = int(input().strip())\\n    if x >= 38:\\n        if x % 5 > 2:\\n            while x % 5 != 0: x += 1\\n    print(x)\\n\\n'"
      ]
     },
     "execution_count": 18,
     "metadata": {},
     "output_type": "execute_result"
    }
   ],
   "source": [
    "#----->program number:10----->\n",
    "\"\"\"\n",
    "If the difference between the grade and the next multiple of 5 is less than 3,\n",
    "round grade up to the next multiple of 5.\n",
    "If the value of grade is less than 38, no rounding occurs as the result will\n",
    "still be a failing grade.\n",
    "enter n as no. of student.\n",
    "\n",
    "Sample Input\n",
    "4 \n",
    "73\n",
    "67\n",
    "38\n",
    "33\n",
    "Sample Output\n",
    "75\n",
    "67\n",
    "40\n",
    "33\n",
    "\"\"\"\n",
    "\n",
    "n=int(input())\n",
    "ar=[]\n",
    "for i in range(n):\n",
    "    ar.append(int(input()))\n",
    "for i in range(n):\n",
    "    if(ar[i]>=38):\n",
    "        j=ar[i]//5\n",
    "        k=5*(j+1)\n",
    "        if ((k-ar[i])<3):\n",
    "            ar[i]=k\n",
    "for p in ar:\n",
    "    print(p)\n",
    "\n",
    "\"\"\"------ANOTHER SOLUTION-----\n",
    "\n",
    "import sys\n",
    "n = int(input().strip())\n",
    "for a0 in range(n):\n",
    "    x = int(input().strip())\n",
    "    if x >= 38:\n",
    "        if x % 5 > 2:\n",
    "            while x % 5 != 0: x += 1\n",
    "    print(x)\n",
    "\n",
    "\"\"\""
   ]
  },
  {
   "cell_type": "code",
   "execution_count": 19,
   "metadata": {},
   "outputs": [
    {
     "name": "stdout",
     "output_type": "stream",
     "text": [
      "4 10\n",
      "1 18\n",
      "2 3\n",
      "14 5\n",
      "-58 21 14\n",
      "1\n",
      "0\n"
     ]
    },
    {
     "data": {
      "text/plain": [
       "'------ANOTHER PROGRAMME------\\n\\n\\n\\n'"
      ]
     },
     "execution_count": 19,
     "metadata": {},
     "output_type": "execute_result"
    }
   ],
   "source": [
    "#----->program number:11----->\n",
    "\"\"\"\n",
    "\n",
    "\"\"\"\n",
    "\n",
    "s,t=map(int,input().split())\n",
    "a,b=map(int,input().split())\n",
    "m,n=map(int,input().split())\n",
    "l1=list(map(int,input().split()))\n",
    "l2=list(map(int,input().split()))\n",
    "l3=[i+a for i in l1]\n",
    "l4=[i+b for i in l2]\n",
    "(k,l)=(0,0)\n",
    "for i in l3:\n",
    "    if(s<=i<=t):\n",
    "        k+=1\n",
    "print(k)\n",
    "for j in l4:\n",
    "    if(s<=j<=t):\n",
    "        l+=1\n",
    "print(l)\n",
    "\n",
    "\"\"\"------ANOTHER PROGRAMME------\n",
    "\n",
    "\n",
    "\n",
    "\"\"\"\n"
   ]
  },
  {
   "cell_type": "code",
   "execution_count": 20,
   "metadata": {},
   "outputs": [
    {
     "name": "stdout",
     "output_type": "stream",
     "text": [
      "2 4 8 5\n",
      "NO\n"
     ]
    },
    {
     "data": {
      "text/plain": [
       "'------ANOTHER SOLUTION------\\n\\n\\n\\n'"
      ]
     },
     "execution_count": 20,
     "metadata": {},
     "output_type": "execute_result"
    }
   ],
   "source": [
    "#----->program number:12 ; KANGAROO PROBLEM----->\n",
    "x1,v1,x2,v2=map(int,input().split())\n",
    "if (x1<x2) and (v1<=v2):\n",
    "    print(\"NO\")\n",
    "elif (x1==x2):\n",
    "    if(v1==v2):\n",
    "        print(\"YES\")\n",
    "    else:\n",
    "        print(\"NO\")\n",
    "elif(x1>x2) and (v1>=v2):\n",
    "    print(\"NO\")\n",
    "elif (abs(x1-x2)%abs(v2-v1)==0):\n",
    "    print(\"YES\")\n",
    "else:\n",
    "    print(\"NO\")\n",
    "\n",
    "\n",
    "\"\"\"------ANOTHER SOLUTION------\n",
    "\n",
    "\n",
    "\n",
    "\"\"\""
   ]
  },
  {
   "cell_type": "code",
   "execution_count": null,
   "metadata": {},
   "outputs": [],
   "source": []
  },
  {
   "cell_type": "code",
   "execution_count": 1,
   "metadata": {},
   "outputs": [],
   "source": [
    "x = [13,4,17,1000]\n",
    "w = x[1:]\n",
    "u = x[1:]\n",
    "y = x\n",
    "u[0] = 50\n",
    "y[1] = 40"
   ]
  },
  {
   "cell_type": "code",
   "execution_count": 2,
   "metadata": {},
   "outputs": [
    {
     "data": {
      "text/plain": [
       "([4, 17, 1000], [50, 17, 1000], [13, 40, 17, 1000], [13, 40, 17, 1000])"
      ]
     },
     "execution_count": 2,
     "metadata": {},
     "output_type": "execute_result"
    }
   ],
   "source": [
    "w,u,y,x"
   ]
  },
  {
   "cell_type": "code",
   "execution_count": 3,
   "metadata": {},
   "outputs": [
    {
     "name": "stdout",
     "output_type": "stream",
     "text": [
      "4\n",
      "14 12 45\n"
     ]
    }
   ],
   "source": [
    "n=int(input())\n",
    "ar=list(map(int, input().split()))\n",
    "ar2=[]"
   ]
  },
  {
   "cell_type": "code",
   "execution_count": 4,
   "metadata": {},
   "outputs": [
    {
     "name": "stdout",
     "output_type": "stream",
     "text": [
      "7 11\n",
      "5 15\n",
      "3 2\n",
      "-2 2 1\n",
      "5 -6\n",
      "1\n",
      "1\n"
     ]
    }
   ],
   "source": [
    "s,t=map(int,input().split())\n",
    "a,b=map(int,input().split())\n",
    "m,n=map(int,input().split())\n",
    "l1=list(map(int,input().split()))\n",
    "l2=list(map(int,input().split()))\n",
    "l3=[i+a for i in l1]\n",
    "l4=[i+b for i in l2]\n",
    "(k,l)=(0,0)\n",
    "for i in l3:\n",
    "    if(s<=i<=t):\n",
    "        k+=1\n",
    "print(k)\n",
    "for j in l4:\n",
    "    if(s<=j<=t):\n",
    "        l+=1\n",
    "print(l)"
   ]
  },
  {
   "cell_type": "code",
   "execution_count": 6,
   "metadata": {},
   "outputs": [
    {
     "name": "stdout",
     "output_type": "stream",
     "text": [
      "1 2 3 4\n",
      "NO\n"
     ]
    }
   ],
   "source": [
    "x1,v1,x2,v2=map(int,input().split())\n",
    "if (x1<x2) and (v1<=v2):\n",
    "    print(\"NO\")\n",
    "elif (x1==x2):\n",
    "    if(v1==v2):\n",
    "        print(\"YES\")\n",
    "    else:\n",
    "        print(\"NO\")\n",
    "elif(x1>x2) and (v1>=v2):\n",
    "    print(\"NO\")\n",
    "elif (abs(x1-x2)%abs(v2-v1)==0):\n",
    "    print(\"YES\")\n",
    "else:\n",
    "    print(\"NO\")"
   ]
  },
  {
   "cell_type": "code",
   "execution_count": 7,
   "metadata": {},
   "outputs": [
    {
     "data": {
      "text/plain": [
       "0"
      ]
     },
     "execution_count": 7,
     "metadata": {},
     "output_type": "execute_result"
    }
   ],
   "source": [
    "-4%2"
   ]
  },
  {
   "cell_type": "code",
   "execution_count": 8,
   "metadata": {},
   "outputs": [
    {
     "data": {
      "text/plain": [
       "1"
      ]
     },
     "execution_count": 8,
     "metadata": {},
     "output_type": "execute_result"
    }
   ],
   "source": [
    "-5%2"
   ]
  },
  {
   "cell_type": "code",
   "execution_count": 9,
   "metadata": {},
   "outputs": [
    {
     "data": {
      "text/plain": [
       "-1"
      ]
     },
     "execution_count": 9,
     "metadata": {},
     "output_type": "execute_result"
    }
   ],
   "source": [
    "-5%-2"
   ]
  },
  {
   "cell_type": "code",
   "execution_count": null,
   "metadata": {},
   "outputs": [],
   "source": []
  }
 ],
 "metadata": {
  "kernelspec": {
   "display_name": "Python 3",
   "language": "python",
   "name": "python3"
  },
  "language_info": {
   "codemirror_mode": {
    "name": "ipython",
    "version": 3
   },
   "file_extension": ".py",
   "mimetype": "text/x-python",
   "name": "python",
   "nbconvert_exporter": "python",
   "pygments_lexer": "ipython3",
   "version": "3.7.0"
  }
 },
 "nbformat": 4,
 "nbformat_minor": 2
}
