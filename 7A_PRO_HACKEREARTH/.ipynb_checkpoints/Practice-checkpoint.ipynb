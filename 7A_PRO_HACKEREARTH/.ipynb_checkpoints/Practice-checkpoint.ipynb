{
 "cells": [
  {
   "cell_type": "code",
   "execution_count": null,
   "metadata": {},
   "outputs": [],
   "source": []
  },
  {
   "cell_type": "code",
   "execution_count": null,
   "metadata": {},
   "outputs": [],
   "source": []
  },
  {
   "cell_type": "code",
   "execution_count": 3,
   "metadata": {},
   "outputs": [
    {
     "name": "stdout",
     "output_type": "stream",
     "text": [
      "9\n",
      "2 3 5 7 "
     ]
    }
   ],
   "source": [
    "#1. You are given an integer N. You need to print the series of all prime numbers till N.\n",
    "\n",
    "def prime(You are given an integer N. You need to print the series of all prime numbers till N.k):\n",
    "    for i in range(2, k//2+1):\n",
    "        if(k % i == 0):\n",
    "            return(0)\n",
    "    return(1)\n",
    "\n",
    "n = int(input())\n",
    "for j in range(2, n+1):\n",
    "    if(prime(j)):\n",
    "        print(j,end=\" \")"
   ]
  },
  {
   "cell_type": "code",
   "execution_count": 7,
   "metadata": {},
   "outputs": [
    {
     "name": "stdout",
     "output_type": "stream",
     "text": [
      "0,1,2,3,4,5,6,7,8,9,10,11,0,"
     ]
    }
   ],
   "source": [
    "for i in range(13):\n",
    "    print(i%12, end=\",\")"
   ]
  },
  {
   "cell_type": "code",
   "execution_count": 10,
   "metadata": {},
   "outputs": [
    {
     "name": "stdout",
     "output_type": "stream",
     "text": [
      "5\n",
      "14\n",
      "23 MS\n",
      "25\n",
      "36 WS\n",
      "10\n",
      "3 AS\n",
      "11\n",
      "2 MS\n",
      "18\n",
      "19 WS\n"
     ]
    }
   ],
   "source": [
    "#2. You will be given a seat number, find out the seat number facing you and the seat type, i.e. WS, MS or AS\n",
    "\n",
    "\"\"\"T = int(input())\n",
    "for i in range(T):\n",
    "    S = int(input())\n",
    "    d = {}\n",
    "    for j in range(1,109,12):\n",
    "        d[j] = j+11\n",
    "        d[j+1] = j+10\n",
    "        d[j+2] = j+9\n",
    "        d[j+3] = j+8\n",
    "        d[j+4] = j+7\n",
    "        d[j+5] = j+6\n",
    "        d[j+6] = j+5\n",
    "        d[j+7] = j+4\n",
    "        d[j+8] = j+3\n",
    "        d[j+9] = j+2\n",
    "        d[j+10] = j+1\n",
    "        d[j+11] = j\n",
    "        \n",
    "    if(((S-6)%6==0) or ((S-1)%6==0)):\n",
    "        print(d[S], \"WS\")\n",
    "    elif((S-2)%3==0):\n",
    "        print(d[S], \"MS\")\n",
    "    elif(((S-3)%6==0) or ((S-4)%6==0)):\n",
    "        print(d[S], \"AS\")\"\"\"\n",
    "        \n",
    "s_map={1:(11,\"WS\"),2:(9,\"MS\"),3:(7,\"AS\"),4:(5,\"AS\"),5:(3,\"MS\"),6:(1,\"WS\"),7:(-1,\"WS\"),8:(-3,\"MS\"),9:(-5,\"AS\"),10:(-7,\"AS\"),11:(-9,\"MS\"),0:(-11,\"WS\")}\n",
    "    \n",
    "for i in range(int(input())):\n",
    "    seat=int(input());\n",
    "    op_seat=s_map[seat%12]\n",
    "    print(op_seat[0]+seat,op_seat[1])"
   ]
  },
  {
   "cell_type": "code",
   "execution_count": 11,
   "metadata": {},
   "outputs": [
    {
     "data": {
      "text/plain": [
       "{'a', 'h', 'n', 'r', 's', 'u'}"
      ]
     },
     "execution_count": 11,
     "metadata": {},
     "output_type": "execute_result"
    }
   ],
   "source": [
    "set(\"raushan\")"
   ]
  },
  {
   "cell_type": "code",
   "execution_count": 15,
   "metadata": {},
   "outputs": [
    {
     "name": "stdout",
     "output_type": "stream",
     "text": [
      "{'A': 0, 'B': 0, 'C': 0, 'D': 0, 'E': 0, 'F': 0, 'G': 0, 'H': 0, 'I': 0, 'J': 0, 'K': 0, 'L': 0, 'M': 0, 'N': 0, 'O': 0, 'P': 0, 'Q': 0, 'R': 0, 'S': 0, 'T': 0, 'U': 0, 'V': 0, 'W': 0, 'X': 0, 'Y': 0, 'Z': 0}\n"
     ]
    }
   ],
   "source": [
    "d = {}\n",
    "for j in \"ABCDEFGHIJKLMNOPQRSTUVWXYZ\":\n",
    "    d[j] = 0\n",
    "print(d)"
   ]
  },
  {
   "cell_type": "code",
   "execution_count": 17,
   "metadata": {},
   "outputs": [
    {
     "name": "stdout",
     "output_type": "stream",
     "text": [
      "1\n",
      "RAUSHANRAUSHANRAUSHAN\n",
      "RAHULRAHULRAHULRAHUL\n"
     ]
    }
   ],
   "source": [
    "#3. \n",
    "\n",
    "\n",
    "T = int(input())\n",
    "for i in range(T):\n",
    "    d = {}\n",
    "    for j in \"ABCDEFGHIJKLMNOPQRSTUVWXYZ\":\n",
    "        d[j] = 0\n",
    "        \n",
    "    s1 = input()\n",
    "    s2 = input()\n",
    "    \n",
    "    for k in s1:\n",
    "        d[k] += 1\n",
    "    for k in s2:\n",
    "        d[k] -= 1"
   ]
  },
  {
   "cell_type": "code",
   "execution_count": 21,
   "metadata": {},
   "outputs": [],
   "source": [
    "sum = 0\n",
    "for i in d.values():\n",
    "    sum += abs(i)"
   ]
  },
  {
   "cell_type": "code",
   "execution_count": null,
   "metadata": {},
   "outputs": [],
   "source": []
  }
 ],
 "metadata": {
  "kernelspec": {
   "display_name": "Python 3",
   "language": "python",
   "name": "python3"
  },
  "language_info": {
   "codemirror_mode": {
    "name": "ipython",
    "version": 3
   },
   "file_extension": ".py",
   "mimetype": "text/x-python",
   "name": "python",
   "nbconvert_exporter": "python",
   "pygments_lexer": "ipython3",
   "version": "3.6.7"
  }
 },
 "nbformat": 4,
 "nbformat_minor": 2
}
