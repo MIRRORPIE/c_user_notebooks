{
 "cells": [
  {
   "cell_type": "code",
   "execution_count": null,
   "metadata": {},
   "outputs": [],
   "source": []
  },
  {
   "cell_type": "code",
   "execution_count": null,
   "metadata": {},
   "outputs": [],
   "source": []
  },
  {
   "cell_type": "code",
   "execution_count": 3,
   "metadata": {},
   "outputs": [
    {
     "name": "stdout",
     "output_type": "stream",
     "text": [
      "9\n",
      "2 3 5 7 "
     ]
    }
   ],
   "source": [
    "#1. You are given an integer N. You need to print the series of all prime numbers till N.\n",
    "\n",
    "def prime(You are given an integer N. You need to print the series of all prime numbers till N.k):\n",
    "    for i in range(2, k//2+1):\n",
    "        if(k % i == 0):\n",
    "            return(0)\n",
    "    return(1)\n",
    "\n",
    "n = int(input())\n",
    "for j in range(2, n+1):\n",
    "    if(prime(j)):\n",
    "        print(j,end=\" \")"
   ]
  },
  {
   "cell_type": "code",
   "execution_count": 7,
   "metadata": {},
   "outputs": [
    {
     "name": "stdout",
     "output_type": "stream",
     "text": [
      "0,1,2,3,4,5,6,7,8,9,10,11,0,"
     ]
    }
   ],
   "source": [
    "for i in range(13):\n",
    "    print(i%12, end=\",\")"
   ]
  },
  {
   "cell_type": "code",
   "execution_count": 10,
   "metadata": {},
   "outputs": [
    {
     "name": "stdout",
     "output_type": "stream",
     "text": [
      "5\n",
      "14\n",
      "23 MS\n",
      "25\n",
      "36 WS\n",
      "10\n",
      "3 AS\n",
      "11\n",
      "2 MS\n",
      "18\n",
      "19 WS\n"
     ]
    }
   ],
   "source": [
    "#2. You will be given a seat number, find out the seat number facing you and the seat type, i.e. WS, MS or AS\n",
    "\n",
    "\"\"\"T = int(input())\n",
    "for i in range(T):\n",
    "    S = int(input())\n",
    "    d = {}\n",
    "    for j in range(1,109,12):\n",
    "        d[j] = j+11\n",
    "        d[j+1] = j+10\n",
    "        d[j+2] = j+9\n",
    "        d[j+3] = j+8\n",
    "        d[j+4] = j+7\n",
    "        d[j+5] = j+6\n",
    "        d[j+6] = j+5\n",
    "        d[j+7] = j+4\n",
    "        d[j+8] = j+3\n",
    "        d[j+9] = j+2\n",
    "        d[j+10] = j+1\n",
    "        d[j+11] = j\n",
    "        \n",
    "    if(((S-6)%6==0) or ((S-1)%6==0)):\n",
    "        print(d[S], \"WS\")\n",
    "    elif((S-2)%3==0):\n",
    "        print(d[S], \"MS\")\n",
    "    elif(((S-3)%6==0) or ((S-4)%6==0)):\n",
    "        print(d[S], \"AS\")\"\"\"\n",
    "        \n",
    "s_map={1:(11,\"WS\"),2:(9,\"MS\"),3:(7,\"AS\"),4:(5,\"AS\"),5:(3,\"MS\"),6:(1,\"WS\"),7:(-1,\"WS\"),8:(-3,\"MS\"),9:(-5,\"AS\"),10:(-7,\"AS\"),11:(-9,\"MS\"),0:(-11,\"WS\")}\n",
    "    \n",
    "for i in range(int(input())):\n",
    "    seat=int(input());\n",
    "    op_seat=s_map[seat%12]\n",
    "    print(op_seat[0]+seat,op_seat[1])"
   ]
  },
  {
   "cell_type": "code",
   "execution_count": 11,
   "metadata": {},
   "outputs": [
    {
     "data": {
      "text/plain": [
       "{'a', 'h', 'n', 'r', 's', 'u'}"
      ]
     },
     "execution_count": 11,
     "metadata": {},
     "output_type": "execute_result"
    }
   ],
   "source": [
    "set(\"raushan\")"
   ]
  },
  {
   "cell_type": "code",
   "execution_count": 15,
   "metadata": {},
   "outputs": [
    {
     "name": "stdout",
     "output_type": "stream",
     "text": [
      "{'A': 0, 'B': 0, 'C': 0, 'D': 0, 'E': 0, 'F': 0, 'G': 0, 'H': 0, 'I': 0, 'J': 0, 'K': 0, 'L': 0, 'M': 0, 'N': 0, 'O': 0, 'P': 0, 'Q': 0, 'R': 0, 'S': 0, 'T': 0, 'U': 0, 'V': 0, 'W': 0, 'X': 0, 'Y': 0, 'Z': 0}\n"
     ]
    }
   ],
   "source": [
    "d = {}\n",
    "for j in \"ABCDEFGHIJKLMNOPQRSTUVWXYZ\":\n",
    "    d[j] = 0\n",
    "print(d)"
   ]
  },
  {
   "cell_type": "code",
   "execution_count": 24,
   "metadata": {},
   "outputs": [
    {
     "name": "stdout",
     "output_type": "stream",
     "text": [
      "1\n",
      "raysgdyshgcyuaewfudaeshdbajcvdlsgfhacedbuie\n",
      "ghesafyudcbyqgefyetdgucwhacyvgfyewbdch\n",
      "21\n"
     ]
    }
   ],
   "source": [
    "\"\"\"---------3.----------->> \n",
    "Given two strings, a and b , that may or may not be of the same length,\n",
    "determine the minimum number of character deletions required to make a and b \n",
    "anagrams. Any characters can be deleted from either of the strings.\n",
    "\"\"\"\n",
    "\n",
    "\n",
    "T = int(input())\n",
    "for i in range(T):\n",
    "    d = {}\n",
    "    for j in \"ABCDEFGHIJKLMNOPQRSTUVWXYZabcdefghijklmnopqrstuvwxyz\":\n",
    "        d[j] = 0\n",
    "        \n",
    "    s1 = input()\n",
    "    s2 = input()\n",
    "    \n",
    "    for k in s1:\n",
    "        d[k] += 1\n",
    "    for k in s2:\n",
    "        d[k] -= 1\n",
    "        \n",
    "    sum = 0\n",
    "    for i in d.values():\n",
    "        sum += abs(i)\n",
    "    print(sum)"
   ]
  },
  {
   "cell_type": "code",
   "execution_count": 25,
   "metadata": {},
   "outputs": [],
   "source": [
    "sum = 0\n",
    "for i in d.values():\n",
    "    sum += abs(i)"
   ]
  },
  {
   "cell_type": "code",
   "execution_count": 26,
   "metadata": {},
   "outputs": [
    {
     "data": {
      "text/plain": [
       "21"
      ]
     },
     "execution_count": 26,
     "metadata": {},
     "output_type": "execute_result"
    }
   ],
   "source": [
    "sum"
   ]
  },
  {
   "cell_type": "code",
   "execution_count": 28,
   "metadata": {},
   "outputs": [
    {
     "name": "stdout",
     "output_type": "stream",
     "text": [
      "1\n",
      "a!@#$R\n",
      "!@#SDE$%\n",
      "6\n"
     ]
    }
   ],
   "source": [
    "n=int(input())\n",
    "for _ in range(n):\n",
    "    s1=list(input())\n",
    "    s2=list(input())\n",
    "    d=0\n",
    "    m=len(s1)+len(s2)\n",
    "    l1=set(s1).intersection(set(s2))\n",
    "    for i in l1:\n",
    "        d=d+min(s1.count(i),s2.count(i))\n",
    "    print(m-2*d)"
   ]
  },
  {
   "cell_type": "code",
   "execution_count": null,
   "metadata": {},
   "outputs": [],
   "source": []
  },
  {
   "cell_type": "code",
   "execution_count": 2,
   "metadata": {},
   "outputs": [
    {
     "name": "stdout",
     "output_type": "stream",
     "text": [
      "6\n",
      "-3 2 3 -4 3 1\n",
      "3\n"
     ]
    }
   ],
   "source": [
    "n = int(input())\n",
    "L = list(map(int, input().split()))\n",
    "\n",
    "for i in range(1, n+1):\n",
    "        \n",
    "    x = int((-1 + (1 + 8 * (n - i + 1)) ** 0.5)) // 2          #-3 2 3 -4 3 1\n",
    "    y = (x * (x + 1)) // 2\n",
    "    \n",
    "    if(i == 1):\n",
    "        s = sum(L[i-1:i+y-1])\n",
    "        flag = x\n",
    "    else:\n",
    "        if(flag == x):\n",
    "            s = s - L[i-2] + L[i-2+y]\n",
    "        else:\n",
    "            s = s - L[i-2] - sum(L[i+y-1:i+y-1+x])\n",
    "            flag = x\n",
    "    \n",
    "    \n",
    "    if(i == 1):\n",
    "        maxi = s\n",
    "    else:\n",
    "        if(maxi < s):\n",
    "            maxi = s\n",
    "            \n",
    "    \n",
    "print(maxi)"
   ]
  },
  {
   "cell_type": "code",
   "execution_count": 3,
   "metadata": {},
   "outputs": [
    {
     "name": "stdout",
     "output_type": "stream",
     "text": [
      "6\n",
      "-3 2 3 -4 3 1\n",
      "3\n"
     ]
    }
   ],
   "source": [
    "N=int(input())\n",
    "a=list(map(int,input().split()))\n",
    "last=0\n",
    "current_slice=1\n",
    "while (last+current_slice+1) < N :    \n",
    "    \n",
    "    current_slice=current_slice+1\n",
    "    last=last+current_slice\n",
    "    \n",
    "s=sum(a[0:(last+1)])\n",
    "maximum=s\n",
    "for start in range(1,N):\n",
    "    #case increment\n",
    "    if ((last+1) < N):\n",
    "        s=s-a[start-1]+a[last+1]\n",
    "        last=last+1\n",
    "    \n",
    "    #decement\n",
    "    else:\n",
    "        s=s-a[start-1]-sum(a[(last-current_slice+2):(last+1)])\n",
    "        last=last-current_slice+1\n",
    "        current_slice=current_slice-1\n",
    "        \n",
    "    \n",
    "    \n",
    "    \n",
    "    #find maximum from s\n",
    "    if s>maximum:\n",
    "        maximum=s\n",
    " \n",
    "print(maximum)"
   ]
  },
  {
   "cell_type": "code",
   "execution_count": null,
   "metadata": {},
   "outputs": [],
   "source": []
  },
  {
   "cell_type": "code",
   "execution_count": null,
   "metadata": {},
   "outputs": [],
   "source": []
  },
  {
   "cell_type": "code",
   "execution_count": null,
   "metadata": {},
   "outputs": [],
   "source": []
  },
  {
   "cell_type": "code",
   "execution_count": 26,
   "metadata": {},
   "outputs": [
    {
     "name": "stdout",
     "output_type": "stream",
     "text": [
      "All-convoYs-9-be:Alert1.\n",
      "4\n",
      "Epp-gsrzs]w-3-fi:Epivx5.\n"
     ]
    }
   ],
   "source": [
    "s = list(input())\n",
    "n = int(input())\n",
    "for i in range(len(s)):\n",
    "    if (s[i].isalpha() == True):\n",
    "        s[i] = chr(ord(s[i]) + n)\n",
    "    elif(s[i].isnumeric() == True):\n",
    "        s[i] = str(int(s[i]) + n)[-1]\n",
    "        \n",
    "print(\"\".join(s))"
   ]
  },
  {
   "cell_type": "code",
   "execution_count": 24,
   "metadata": {},
   "outputs": [
    {
     "name": "stdout",
     "output_type": "stream",
     "text": [
      "abcfg79%&**___-njxan4\n",
      "4\n",
      "efgjk13%&**___-rnber8\n"
     ]
    }
   ],
   "source": [
    "\n",
    "s = list(input())\n",
    "n = int(input())\n",
    "d= {}\n",
    "\n",
    "n1 = n % 26\n",
    "n2 =  n % 10\n",
    "s1 = \"ABCDEFGHIJKLMNOPQRSTUVWXYZ\"\n",
    "s2 = \"abcdefghijklmnopqrstuvwxyz\"\n",
    "s3 = \"0123456789\"\n",
    "\n",
    "\n",
    "for i in range(26):\n",
    "    n3 = i + n1\n",
    "    n4 = n3\n",
    "    if(n3 > 25):\n",
    "        n4 = n3 - 26\n",
    "    d[s1[i]] = s1[n4]\n",
    "\n",
    "for i in range(26):\n",
    "    n3 = i + n1\n",
    "    n4 = n3\n",
    "    if(n3 > 25):\n",
    "        n4 = n3 - 26\n",
    "    d[s2[i]] = s2[n4]\n",
    "    \n",
    "for i in range(10):\n",
    "    n3 = i + n2\n",
    "    n4 = n3\n",
    "    if(n3 > 9):\n",
    "        n4 = n3 - 10\n",
    "    d[s3[i]] = s3[n4]\n",
    "    \n",
    "\n",
    "for i in range(len(s)):\n",
    "    try:\n",
    "        s[i] = d[s[i]]\n",
    "    except:\n",
    "        pass\n",
    "    \n",
    "print(\"\".join(s))\n"
   ]
  },
  {
   "cell_type": "code",
   "execution_count": 25,
   "metadata": {},
   "outputs": [
    {
     "name": "stdout",
     "output_type": "stream",
     "text": [
      "ggjhbj$&#&RGS454677FER^#^^_____99\n",
      "28\n",
      "iiljdl$&#&TIU232455HGT^#^^_____77"
     ]
    }
   ],
   "source": [
    "import string\n",
    "a=string.ascii_lowercase\n",
    "A=string.ascii_uppercase\n",
    "i=input()\n",
    "k=int(input())\n",
    "for t in i:\n",
    "    b=a.find(t)\n",
    "    B=A.find(t)\n",
    "    if t.isdigit() :\n",
    "        print(str((int(t)+k)%10),end=\"\")\n",
    "    elif b!=-1:\n",
    "        print(a[(b+k)%26],end=\"\")\n",
    "    elif B!=-1:\n",
    "        print(A[(B+k)%26],end=\"\")\n",
    "    else:\n",
    "        print(t,end=\"\")"
   ]
  },
  {
   "cell_type": "code",
   "execution_count": 27,
   "metadata": {},
   "outputs": [
    {
     "data": {
      "text/plain": [
       "(2, -1)"
      ]
     },
     "execution_count": 27,
     "metadata": {},
     "output_type": "execute_result"
    }
   ],
   "source": [
    "a.find(\"c\"), a.find(\"D\")"
   ]
  },
  {
   "cell_type": "code",
   "execution_count": null,
   "metadata": {},
   "outputs": [],
   "source": []
  },
  {
   "cell_type": "code",
   "execution_count": null,
   "metadata": {},
   "outputs": [],
   "source": []
  },
  {
   "cell_type": "code",
   "execution_count": null,
   "metadata": {},
   "outputs": [],
   "source": []
  },
  {
   "cell_type": "code",
   "execution_count": null,
   "metadata": {},
   "outputs": [],
   "source": []
  }
 ],
 "metadata": {
  "kernelspec": {
   "display_name": "Python 3",
   "language": "python",
   "name": "python3"
  },
  "language_info": {
   "codemirror_mode": {
    "name": "ipython",
    "version": 3
   },
   "file_extension": ".py",
   "mimetype": "text/x-python",
   "name": "python",
   "nbconvert_exporter": "python",
   "pygments_lexer": "ipython3",
   "version": "3.6.7"
  }
 },
 "nbformat": 4,
 "nbformat_minor": 2
}
