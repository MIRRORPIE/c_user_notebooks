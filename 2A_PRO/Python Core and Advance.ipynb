{
 "cells": [
  {
   "cell_type": "markdown",
   "metadata": {},
   "source": [
    "## Python Concepts:----------------------->"
   ]
  },
  {
   "cell_type": "markdown",
   "metadata": {},
   "source": [
    "#### Basics:----------->"
   ]
  },
  {
   "cell_type": "code",
   "execution_count": 4,
   "metadata": {},
   "outputs": [
    {
     "name": "stdout",
     "output_type": "stream",
     "text": [
      "binary of 10:  0b1010\n"
     ]
    }
   ],
   "source": [
    "print(\"binary of 10: \", bin(10))"
   ]
  },
  {
   "cell_type": "code",
   "execution_count": 5,
   "metadata": {},
   "outputs": [
    {
     "name": "stdout",
     "output_type": "stream",
     "text": [
      "hexadecimal of 10:  0xa\n"
     ]
    }
   ],
   "source": [
    "print(\"hexadecimal of 10: \", hex(10))"
   ]
  },
  {
   "cell_type": "code",
   "execution_count": 6,
   "metadata": {},
   "outputs": [
    {
     "name": "stdout",
     "output_type": "stream",
     "text": [
      "octal of 10:  0o12\n"
     ]
    }
   ],
   "source": [
    "print(\"octal of 10: \", oct(10))"
   ]
  },
  {
   "cell_type": "code",
   "execution_count": 7,
   "metadata": {},
   "outputs": [
    {
     "name": "stdout",
     "output_type": "stream",
     "text": [
      "0xa <class 'str'>\n"
     ]
    }
   ],
   "source": [
    "a = hex(10)\n",
    "print(a, type(a))"
   ]
  },
  {
   "cell_type": "code",
   "execution_count": 8,
   "metadata": {},
   "outputs": [
    {
     "name": "stdout",
     "output_type": "stream",
     "text": [
      "10 255\n"
     ]
    }
   ],
   "source": [
    "print(0xa, 0xff)"
   ]
  },
  {
   "cell_type": "code",
   "execution_count": 9,
   "metadata": {},
   "outputs": [
    {
     "name": "stdout",
     "output_type": "stream",
     "text": [
      "0xa\n"
     ]
    }
   ],
   "source": [
    "print(\"0xa\")"
   ]
  },
  {
   "cell_type": "code",
   "execution_count": null,
   "metadata": {},
   "outputs": [],
   "source": []
  },
  {
   "cell_type": "code",
   "execution_count": null,
   "metadata": {},
   "outputs": [],
   "source": []
  },
  {
   "cell_type": "code",
   "execution_count": 21,
   "metadata": {
    "scrolled": true
   },
   "outputs": [
    {
     "name": "stdout",
     "output_type": "stream",
     "text": [
      "********   It is awesome.    ****\n",
      "********   It is awesome.    ****\n",
      "  ********   It is awesome.    ****\n",
      "It is awesome.\n"
     ]
    }
   ],
   "source": [
    "s = \"  ********   It is awesome.    ****\"\n",
    "print(s.strip())\n",
    "print(s.lstrip())\n",
    "print(s.rstrip())\n",
    "print(s.strip(\"* \"))"
   ]
  },
  {
   "cell_type": "code",
   "execution_count": null,
   "metadata": {},
   "outputs": [],
   "source": []
  },
  {
   "cell_type": "code",
   "execution_count": 26,
   "metadata": {
    "scrolled": true
   },
   "outputs": [
    {
     "name": "stdout",
     "output_type": "stream",
     "text": [
      "19\n",
      "a\n",
      "25\n",
      "-1\n",
      "19\n"
     ]
    }
   ],
   "source": [
    "s = \"  ********   It is awesome.    ****\"\n",
    "print(s.find(\"awe\"))          #----->index of awe in s\n",
    "print(s[s.find(\"awe\")])\n",
    "print(s.find(\"e\", 22, 85))\n",
    "print(s.find(\"za\"))         # not find then -1\n",
    "print(s.index(\"a\"))"
   ]
  },
  {
   "cell_type": "code",
   "execution_count": 12,
   "metadata": {},
   "outputs": [
    {
     "name": "stdout",
     "output_type": "stream",
     "text": [
      "  ********   It is good.    ****\n",
      "  ********   It is awesome.    ****\n"
     ]
    }
   ],
   "source": [
    "print(s.replace(\"awesome\", \"good\"))\n",
    "print(s)"
   ]
  },
  {
   "cell_type": "code",
   "execution_count": 13,
   "metadata": {},
   "outputs": [
    {
     "data": {
      "text/plain": [
       "12"
      ]
     },
     "execution_count": 13,
     "metadata": {},
     "output_type": "execute_result"
    }
   ],
   "source": [
    "s.count(\"*\")"
   ]
  },
  {
   "cell_type": "code",
   "execution_count": 14,
   "metadata": {},
   "outputs": [
    {
     "data": {
      "text/plain": [
       "'  ********   It Is Awesome.    ****'"
      ]
     },
     "execution_count": 14,
     "metadata": {},
     "output_type": "execute_result"
    }
   ],
   "source": [
    "s.title()"
   ]
  },
  {
   "cell_type": "code",
   "execution_count": null,
   "metadata": {},
   "outputs": [],
   "source": []
  },
  {
   "cell_type": "code",
   "execution_count": 15,
   "metadata": {},
   "outputs": [
    {
     "data": {
      "text/plain": [
       "[1, 2, 3, 5, 6, {1: 4, 2: 8}, [4, 5, 8], (1, 5, 9)]"
      ]
     },
     "execution_count": 15,
     "metadata": {},
     "output_type": "execute_result"
    }
   ],
   "source": [
    "lst = [1, 2, 3, \"Raushan\", 5, 6, {1:4, 2:8}, [4, 5, 8], (1, 5, 9)]\n",
    "lst.remove(\"Raushan\")\n",
    "lst"
   ]
  },
  {
   "cell_type": "code",
   "execution_count": 16,
   "metadata": {},
   "outputs": [
    {
     "data": {
      "text/plain": [
       "[1, 2, 3, 'Raushan', 5, 6, {1: 4, 2: 8}, [4, 5, 8], (1, 5, 9)]"
      ]
     },
     "execution_count": 16,
     "metadata": {},
     "output_type": "execute_result"
    }
   ],
   "source": [
    "lst.insert(3, \"Raushan\")\n",
    "lst"
   ]
  },
  {
   "cell_type": "code",
   "execution_count": 17,
   "metadata": {},
   "outputs": [
    {
     "data": {
      "text/plain": [
       "[1, 2, 3, 5, 6, {1: 4, 2: 8}, [4, 5, 8], (1, 5, 9)]"
      ]
     },
     "execution_count": 17,
     "metadata": {},
     "output_type": "execute_result"
    }
   ],
   "source": [
    "del[lst[3]]\n",
    "lst"
   ]
  },
  {
   "cell_type": "code",
   "execution_count": 18,
   "metadata": {},
   "outputs": [
    {
     "data": {
      "text/plain": [
       "[]"
      ]
     },
     "execution_count": 18,
     "metadata": {},
     "output_type": "execute_result"
    }
   ],
   "source": [
    "lst.clear()\n",
    "lst"
   ]
  },
  {
   "cell_type": "code",
   "execution_count": null,
   "metadata": {},
   "outputs": [],
   "source": []
  },
  {
   "cell_type": "code",
   "execution_count": null,
   "metadata": {},
   "outputs": [],
   "source": []
  },
  {
   "cell_type": "code",
   "execution_count": null,
   "metadata": {},
   "outputs": [],
   "source": []
  },
  {
   "cell_type": "code",
   "execution_count": 19,
   "metadata": {},
   "outputs": [
    {
     "name": "stdout",
     "output_type": "stream",
     "text": [
      "1 (1,)\n"
     ]
    }
   ],
   "source": [
    "tup1 = (1)      # not a tuple\n",
    "tup2 = (1,)     # it is tuple\n",
    "print(tup1, tup2)"
   ]
  },
  {
   "cell_type": "code",
   "execution_count": 20,
   "metadata": {},
   "outputs": [
    {
     "data": {
      "text/plain": [
       "3"
      ]
     },
     "execution_count": 20,
     "metadata": {},
     "output_type": "execute_result"
    }
   ],
   "source": [
    "tup = (1, 2, 3, [4, 5, 6, 7], (1, 4, 7))\n",
    "tup.index([4, 5, 6, 7])"
   ]
  },
  {
   "cell_type": "code",
   "execution_count": null,
   "metadata": {},
   "outputs": [],
   "source": []
  },
  {
   "cell_type": "code",
   "execution_count": null,
   "metadata": {},
   "outputs": [],
   "source": []
  },
  {
   "cell_type": "code",
   "execution_count": null,
   "metadata": {},
   "outputs": [],
   "source": []
  },
  {
   "cell_type": "code",
   "execution_count": 28,
   "metadata": {},
   "outputs": [
    {
     "name": "stdout",
     "output_type": "stream",
     "text": [
      "{1, 4, 5}\n",
      "{4, 5}\n",
      "4\n",
      "{5}\n"
     ]
    }
   ],
   "source": [
    "s = set()\n",
    "s.add(1)\n",
    "s.update([4, 5, 4])\n",
    "print(s)\n",
    "\n",
    "#print(s[1])      show error since no indexing\n",
    "\n",
    "s.remove(1)\n",
    "print(s)\n",
    "\n",
    "k = s.pop()\n",
    "print(k)\n",
    "print(s)"
   ]
  },
  {
   "cell_type": "code",
   "execution_count": 29,
   "metadata": {},
   "outputs": [
    {
     "name": "stdout",
     "output_type": "stream",
     "text": [
      "{1, 2, 3, 4, 5, 6, 7, 8, 9}\n",
      "{4, 5, 6}\n",
      "{1, 2, 3, 7, 8, 9}\n",
      "{1, 2, 3}\n",
      "{8, 9, 7}\n"
     ]
    }
   ],
   "source": [
    "s1 = {1, 2, 3, 4, 5, 6}\n",
    "s2 = {4, 5, 6, 7, 8, 9}\n",
    "print(s1 | s2)\n",
    "print(s1 & s2)\n",
    "print(s1 ^ s2)\n",
    "print(s1 - s2)\n",
    "print(s2 - s1)"
   ]
  },
  {
   "cell_type": "code",
   "execution_count": 30,
   "metadata": {},
   "outputs": [
    {
     "name": "stdout",
     "output_type": "stream",
     "text": [
      "frozenset({1, 2, 3, 4, 5, 6})\n"
     ]
    }
   ],
   "source": [
    "# Frozenset\n",
    "f = frozenset(s1)\n",
    "print(f)"
   ]
  },
  {
   "cell_type": "code",
   "execution_count": 31,
   "metadata": {},
   "outputs": [],
   "source": [
    "# f.add(1), f.remove(5), f.pop() will show error"
   ]
  },
  {
   "cell_type": "code",
   "execution_count": null,
   "metadata": {},
   "outputs": [],
   "source": []
  },
  {
   "cell_type": "code",
   "execution_count": null,
   "metadata": {},
   "outputs": [],
   "source": []
  },
  {
   "cell_type": "code",
   "execution_count": null,
   "metadata": {},
   "outputs": [],
   "source": []
  },
  {
   "cell_type": "code",
   "execution_count": 32,
   "metadata": {},
   "outputs": [
    {
     "name": "stdout",
     "output_type": "stream",
     "text": [
      "b'\\x01\\x02\\x03\\x04\\x05\\x06'\n",
      "<class 'bytes'>\n",
      "1 2 3 4 5 6 \n",
      "3\n"
     ]
    }
   ],
   "source": [
    "## bytes and bytearray\n",
    "lst = [1, 2, 3, 4, 5, 6]\n",
    "b = bytes(lst)\n",
    "print(b)\n",
    "print(type(b))\n",
    "\n",
    "for i in b:\n",
    "    print(i, end=\" \")\n",
    "    \n",
    "print()\n",
    "print(b[2])\n",
    "#b[4] = 10            #'bytes' object does not support item assignment"
   ]
  },
  {
   "cell_type": "code",
   "execution_count": 33,
   "metadata": {},
   "outputs": [
    {
     "name": "stdout",
     "output_type": "stream",
     "text": [
      "bytearray(b'\\x01\\x02\\x03\\x04\\x05\\x06')\n",
      "1 2 3 4 5 6 \n",
      "3\n",
      "bytearray(b'\\x01\\x02\\x03\\x04\\x0c\\x06')\n"
     ]
    }
   ],
   "source": [
    "b1 = bytearray(lst)\n",
    "print(b1)\n",
    "for i in b1:\n",
    "    print(i, end = \" \")\n",
    "    \n",
    "print()\n",
    "print(b1[2])\n",
    "b1[4] = 12\n",
    "print(b1)            #'bytearray' object support item assignment"
   ]
  },
  {
   "cell_type": "code",
   "execution_count": null,
   "metadata": {},
   "outputs": [],
   "source": []
  },
  {
   "cell_type": "code",
   "execution_count": null,
   "metadata": {},
   "outputs": [],
   "source": []
  },
  {
   "cell_type": "code",
   "execution_count": null,
   "metadata": {},
   "outputs": [],
   "source": []
  },
  {
   "cell_type": "code",
   "execution_count": 37,
   "metadata": {},
   "outputs": [
    {
     "name": "stdout",
     "output_type": "stream",
     "text": [
      "not in dict\n",
      "16\n",
      "None\n"
     ]
    }
   ],
   "source": [
    "d = {1:1, 2:4, 3:9, 4:16, 5:25}\n",
    "print(d.get(9, \"not in dict\"))\n",
    "print(d.get(4))\n",
    "print(d.get(10))"
   ]
  },
  {
   "cell_type": "code",
   "execution_count": 41,
   "metadata": {},
   "outputs": [
    {
     "name": "stdout",
     "output_type": "stream",
     "text": [
      "{'x': 2, 'y': 3, 'z': 0}\n"
     ]
    }
   ],
   "source": [
    "d = {'x': 2}\n",
    "d.update(y = 3, z = 0)\n",
    "print(d)"
   ]
  },
  {
   "cell_type": "code",
   "execution_count": 42,
   "metadata": {},
   "outputs": [
    {
     "name": "stdout",
     "output_type": "stream",
     "text": [
      "{1: 'one', 2: 'two'}\n",
      "{1: 'one', 2: 'two', 3: 'three'}\n"
     ]
    }
   ],
   "source": [
    "d = {1: \"one\", 2: \"three\"}\n",
    "d1 = {2: \"two\"}\n",
    "\n",
    "# updates the value of key 2\n",
    "d.update(d1)\n",
    "print(d)\n",
    "\n",
    "d1 = {3: \"three\"}\n",
    "\n",
    "# adds element with key 3\n",
    "d.update(d1)\n",
    "print(d)"
   ]
  },
  {
   "cell_type": "code",
   "execution_count": 43,
   "metadata": {},
   "outputs": [
    {
     "name": "stdout",
     "output_type": "stream",
     "text": [
      "1:1   2:4   3:9   4:16   5:25   "
     ]
    }
   ],
   "source": [
    "d = {1:1, 2:4, 3:9, 4:16, 5:25}\n",
    "for key, value in d.items():\n",
    "    print(key, value, sep=\":\", end=\"   \")"
   ]
  },
  {
   "cell_type": "code",
   "execution_count": 44,
   "metadata": {},
   "outputs": [
    {
     "name": "stdout",
     "output_type": "stream",
     "text": [
      "This is a Dict:\n",
      "\n",
      "a 1\n",
      "b 2\n",
      "c 3\n",
      "d 4\n",
      "\n",
      "This is an Ordered Dict:\n",
      "\n",
      "a 1\n",
      "b 2\n",
      "c 3\n",
      "d 4\n"
     ]
    }
   ],
   "source": [
    "# A Python program to demonstrate working of OrderedDict \n",
    "from collections import OrderedDict \n",
    "  \n",
    "print(\"This is a Dict:\\n\") \n",
    "d = {} \n",
    "d['a'] = 1\n",
    "d['b'] = 2\n",
    "d['c'] = 3\n",
    "d['d'] = 4\n",
    "  \n",
    "for key, value in d.items(): \n",
    "    print(key, value) \n",
    "  \n",
    "print(\"\\nThis is an Ordered Dict:\\n\") \n",
    "od = OrderedDict() \n",
    "od['a'] = 1\n",
    "od['b'] = 2\n",
    "od['c'] = 3\n",
    "od['d'] = 4\n",
    "  \n",
    "for key, value in od.items(): \n",
    "    print(key, value) "
   ]
  },
  {
   "cell_type": "code",
   "execution_count": null,
   "metadata": {},
   "outputs": [],
   "source": []
  },
  {
   "cell_type": "code",
   "execution_count": null,
   "metadata": {},
   "outputs": [],
   "source": []
  },
  {
   "cell_type": "code",
   "execution_count": null,
   "metadata": {},
   "outputs": [],
   "source": []
  },
  {
   "cell_type": "code",
   "execution_count": 45,
   "metadata": {},
   "outputs": [
    {
     "name": "stdout",
     "output_type": "stream",
     "text": [
      "10 10 10\n",
      "10 12 10\n"
     ]
    }
   ],
   "source": [
    "a = b = c = 10\n",
    "print(a, b, c)\n",
    "b = 12\n",
    "print(a, b, c)"
   ]
  },
  {
   "cell_type": "code",
   "execution_count": 46,
   "metadata": {},
   "outputs": [
    {
     "name": "stdout",
     "output_type": "stream",
     "text": [
      "1 [2, 3, 4, 5, 6, 7, 8, 9]\n"
     ]
    }
   ],
   "source": [
    "a, *b = 1, 2, 3, 4, 5, 6, 7, 8, 9\n",
    "print(a, b)"
   ]
  },
  {
   "cell_type": "code",
   "execution_count": 47,
   "metadata": {},
   "outputs": [
    {
     "name": "stdout",
     "output_type": "stream",
     "text": [
      "[1, 2, 3, 4, 5, 6, 7, 8] 9\n"
     ]
    }
   ],
   "source": [
    "*a, b = 1, 2, 3, 4, 5, 6, 7, 8, 9\n",
    "print(a, b)"
   ]
  },
  {
   "cell_type": "code",
   "execution_count": 48,
   "metadata": {},
   "outputs": [
    {
     "name": "stdout",
     "output_type": "stream",
     "text": [
      "my name is Rahul, my marks is 9.20\n"
     ]
    }
   ],
   "source": [
    "print(\"my name is %s, my marks is %.2f\"%(\"Rahul\", 9.2))"
   ]
  },
  {
   "cell_type": "code",
   "execution_count": 49,
   "metadata": {},
   "outputs": [
    {
     "name": "stdout",
     "output_type": "stream",
     "text": [
      "my name is Rahul, my marks is 9.4\n"
     ]
    }
   ],
   "source": [
    "print(\"my name is {1}, my marks is {0}\".format(9.4, \"Rahul\", 2))     # check it"
   ]
  },
  {
   "cell_type": "code",
   "execution_count": 50,
   "metadata": {},
   "outputs": [
    {
     "name": "stdout",
     "output_type": "stream",
     "text": [
      "my name is Rahul, my marks is 2\n"
     ]
    }
   ],
   "source": [
    "print(\"my name is {}, my marks is {}\".format(\"Rahul\", 2, 9.5))"
   ]
  },
  {
   "cell_type": "code",
   "execution_count": 53,
   "metadata": {},
   "outputs": [
    {
     "name": "stdout",
     "output_type": "stream",
     "text": [
      "Enter a, b, c with space: 4 5 6\n",
      "4 5 6\n"
     ]
    }
   ],
   "source": [
    "a, b, c = [int(x) for x in input(\"Enter a, b, c with space: \").split(\" \")]\n",
    "print(a, b, c)"
   ]
  },
  {
   "cell_type": "code",
   "execution_count": null,
   "metadata": {},
   "outputs": [],
   "source": []
  },
  {
   "cell_type": "raw",
   "metadata": {},
   "source": [
    "# Operator precedence\n",
    "\n",
    "1.   **\n",
    "2.   ~; +; -\n",
    "3.   *; /; //; %\n",
    "4.   +; -\n",
    "5.   >>; <<\n",
    "6.   &;           bitwise and\n",
    "7.   ^;           bitwise exclusive or\n",
    "8.   |;           bitwise or\n",
    "9.   in; not; in; is; is not; <; <=; >; >=; !=; ==\n",
    "10.  not          boolean\n",
    "11.  and          boolean\n",
    "12.  or           boolean\n",
    "13.  =; %=; *=; /=; +=; -=; **=\n"
   ]
  },
  {
   "cell_type": "code",
   "execution_count": null,
   "metadata": {},
   "outputs": [],
   "source": []
  },
  {
   "cell_type": "code",
   "execution_count": null,
   "metadata": {},
   "outputs": [],
   "source": []
  },
  {
   "cell_type": "code",
   "execution_count": null,
   "metadata": {},
   "outputs": [],
   "source": []
  },
  {
   "cell_type": "code",
   "execution_count": 54,
   "metadata": {},
   "outputs": [
    {
     "ename": "AssertionError",
     "evalue": "Colder than absolute zero",
     "output_type": "error",
     "traceback": [
      "\u001b[0;31m---------------------------------------------------------------------------\u001b[0m",
      "\u001b[0;31mAssertionError\u001b[0m                            Traceback (most recent call last)",
      "\u001b[0;32m<ipython-input-54-2318c09c0861>\u001b[0m in \u001b[0;36m<module>\u001b[0;34m\u001b[0m\n\u001b[1;32m      1\u001b[0m \u001b[0;31m# Assertion  ------> expression false the only assertion error raise hoga\u001b[0m\u001b[0;34m\u001b[0m\u001b[0;34m\u001b[0m\u001b[0;34m\u001b[0m\u001b[0m\n\u001b[1;32m      2\u001b[0m \u001b[0mtemp\u001b[0m \u001b[0;34m=\u001b[0m \u001b[0;34m-\u001b[0m\u001b[0;36m10\u001b[0m\u001b[0;34m\u001b[0m\u001b[0;34m\u001b[0m\u001b[0m\n\u001b[0;32m----> 3\u001b[0;31m \u001b[0;32massert\u001b[0m \u001b[0;34m(\u001b[0m\u001b[0mtemp\u001b[0m \u001b[0;34m>=\u001b[0m \u001b[0;36m0\u001b[0m\u001b[0;34m)\u001b[0m\u001b[0;34m,\u001b[0m \u001b[0;34m\"Colder than absolute zero\"\u001b[0m\u001b[0;34m\u001b[0m\u001b[0;34m\u001b[0m\u001b[0m\n\u001b[0m",
      "\u001b[0;31mAssertionError\u001b[0m: Colder than absolute zero"
     ]
    }
   ],
   "source": [
    "# Assertion  ------> expression false the only assertion error raise hoga \n",
    "temp = -10\n",
    "assert (temp >= 0), \"Colder than absolute zero\""
   ]
  },
  {
   "cell_type": "code",
   "execution_count": 55,
   "metadata": {},
   "outputs": [
    {
     "name": "stdout",
     "output_type": "stream",
     "text": [
      "Enter any integer >=20: 20\n"
     ]
    }
   ],
   "source": [
    "# use of this\n",
    "a = int(input(\"Enter any integer >=20: \"))\n",
    "assert(a >= 20), \"Less than 20\""
   ]
  },
  {
   "cell_type": "code",
   "execution_count": null,
   "metadata": {},
   "outputs": [],
   "source": []
  },
  {
   "cell_type": "code",
   "execution_count": null,
   "metadata": {},
   "outputs": [],
   "source": []
  },
  {
   "cell_type": "code",
   "execution_count": null,
   "metadata": {},
   "outputs": [],
   "source": []
  },
  {
   "cell_type": "code",
   "execution_count": 56,
   "metadata": {},
   "outputs": [
    {
     "name": "stdout",
     "output_type": "stream",
     "text": [
      "/home/raushan/.local/lib/python3.8/site-packages/ipykernel_launcher.py\n",
      "-f\n",
      "/home/raushan/.local/share/jupyter/runtime/kernel-89defac4-cc86-432a-86d5-b5388579d9b2.json\n"
     ]
    }
   ],
   "source": [
    "# Command line Arguments\n",
    "import sys\n",
    "lst = sys.argv     # elements string\n",
    "for i in lst:\n",
    "    print(i)"
   ]
  },
  {
   "cell_type": "code",
   "execution_count": null,
   "metadata": {},
   "outputs": [],
   "source": []
  },
  {
   "cell_type": "code",
   "execution_count": null,
   "metadata": {},
   "outputs": [],
   "source": []
  },
  {
   "cell_type": "markdown",
   "metadata": {},
   "source": [
    "#### Functions:------->"
   ]
  },
  {
   "cell_type": "code",
   "execution_count": 57,
   "metadata": {},
   "outputs": [
    {
     "name": "stdout",
     "output_type": "stream",
     "text": [
      "123\n",
      "678\n"
     ]
    }
   ],
   "source": [
    "x = 123            # Global variable\n",
    "def display():\n",
    "    x = 678          # local variable\n",
    "    print(x)\n",
    "print(x)\n",
    "display()"
   ]
  },
  {
   "cell_type": "code",
   "execution_count": 68,
   "metadata": {
    "scrolled": true
   },
   "outputs": [
    {
     "name": "stdout",
     "output_type": "stream",
     "text": [
      "global variable:  123\n",
      "Local variable:  678\n",
      "accessing global variable from the fn:  123\n"
     ]
    }
   ],
   "source": [
    "# accessing global variable with the same name\n",
    "x = 123\n",
    "def display():\n",
    "    x = 678\n",
    "    print(\"Local variable: \", x)\n",
    "    print(\"accessing global variable from the fn: \", globals()['x'])\n",
    "print(\"global variable: \", x)\n",
    "display()"
   ]
  },
  {
   "cell_type": "code",
   "execution_count": 59,
   "metadata": {},
   "outputs": [
    {
     "name": "stdout",
     "output_type": "stream",
     "text": [
      "global variable:  123\n",
      "Local variable:  678\n",
      "accessing global variable from the fn:  123\n"
     ]
    }
   ],
   "source": [
    "# Assigning a function to a variable\n",
    "x = 123\n",
    "def display():\n",
    "    x = 678\n",
    "    print(\"Local variable: \", x)\n",
    "    print(\"accessing global variable from the fn: \", globals()['x'])\n",
    "print(\"global variable: \", x)\n",
    "z = display\n",
    "z()"
   ]
  },
  {
   "cell_type": "code",
   "execution_count": 60,
   "metadata": {},
   "outputs": [
    {
     "name": "stdout",
     "output_type": "stream",
     "text": [
      "Hello Bharat\n"
     ]
    }
   ],
   "source": [
    "# function inside another function\n",
    "def display(name):\n",
    "    def message():\n",
    "        return(\"Hello \")\n",
    "    result = message() + name\n",
    "    return result\n",
    "print(display(\"Bharat\"))\n",
    "# print(message())                name 'message' is not defined...only inside available"
   ]
  },
  {
   "cell_type": "code",
   "execution_count": 61,
   "metadata": {},
   "outputs": [
    {
     "name": "stdout",
     "output_type": "stream",
     "text": [
      "Hello Bharat\n"
     ]
    }
   ],
   "source": [
    "# function as parameter to an another function\n",
    "def display(fun):\n",
    "    return(\"Hello \" + fun)\n",
    "\n",
    "def name():\n",
    "    return(\"Bharat\")\n",
    "\n",
    "print(display(name()))"
   ]
  },
  {
   "cell_type": "code",
   "execution_count": 62,
   "metadata": {},
   "outputs": [
    {
     "name": "stdout",
     "output_type": "stream",
     "text": [
      "Hello \n"
     ]
    }
   ],
   "source": [
    "# returning the functions\n",
    "def display():\n",
    "    def message():\n",
    "        return(\"Hello \")\n",
    "    return message\n",
    "fun = display()\n",
    "print(fun())"
   ]
  },
  {
   "cell_type": "code",
   "execution_count": 69,
   "metadata": {},
   "outputs": [],
   "source": [
    "# Pass any types to a function\n",
    "def fun(lst):\n",
    "    for i in lst:\n",
    "        print(i)"
   ]
  },
  {
   "cell_type": "code",
   "execution_count": 70,
   "metadata": {},
   "outputs": [],
   "source": [
    "# recursion function"
   ]
  },
  {
   "cell_type": "code",
   "execution_count": 71,
   "metadata": {},
   "outputs": [
    {
     "name": "stdout",
     "output_type": "stream",
     "text": [
      "20 10\n",
      "15.0\n"
     ]
    }
   ],
   "source": [
    "# keyword arguments\n",
    "def avg(a,b):\n",
    "    print(a, b)\n",
    "    return (a+b)/2\n",
    "print(avg(b = 10, a = 20))"
   ]
  },
  {
   "cell_type": "code",
   "execution_count": 66,
   "metadata": {},
   "outputs": [
    {
     "name": "stdout",
     "output_type": "stream",
     "text": [
      "3.0\n"
     ]
    }
   ],
   "source": [
    "def avg(n, *lst):\n",
    "    print(sum(lst)/n)\n",
    "avg(5, 1, 2, 3, 4, 5)"
   ]
  },
  {
   "cell_type": "code",
   "execution_count": 67,
   "metadata": {},
   "outputs": [],
   "source": [
    "# dafault parameters"
   ]
  },
  {
   "cell_type": "code",
   "execution_count": null,
   "metadata": {},
   "outputs": [],
   "source": []
  },
  {
   "cell_type": "code",
   "execution_count": null,
   "metadata": {},
   "outputs": [],
   "source": []
  },
  {
   "cell_type": "code",
   "execution_count": null,
   "metadata": {},
   "outputs": [],
   "source": []
  },
  {
   "cell_type": "markdown",
   "metadata": {},
   "source": [
    "#### Lambdas:-------->"
   ]
  },
  {
   "cell_type": "markdown",
   "metadata": {},
   "source": [
    "anonymous functions (i.e) having no names"
   ]
  },
  {
   "cell_type": "code",
   "execution_count": 72,
   "metadata": {},
   "outputs": [
    {
     "name": "stdout",
     "output_type": "stream",
     "text": [
      "16\n",
      "36\n"
     ]
    }
   ],
   "source": [
    "# Example\n",
    "def square(x):\n",
    "    return(x*x)\n",
    "\n",
    "f = lambda x: x*x\n",
    "\n",
    "print(square(4))\n",
    "print(f(6))"
   ]
  },
  {
   "cell_type": "code",
   "execution_count": 73,
   "metadata": {},
   "outputs": [
    {
     "name": "stdout",
     "output_type": "stream",
     "text": [
      "YES\n",
      "NO\n"
     ]
    }
   ],
   "source": [
    "l = lambda x: \"YES\" if x % 2 == 0 else \"NO\"\n",
    "print(l(10))\n",
    "print(l(11))"
   ]
  },
  {
   "cell_type": "code",
   "execution_count": 74,
   "metadata": {},
   "outputs": [
    {
     "name": "stdout",
     "output_type": "stream",
     "text": [
      "22\n"
     ]
    }
   ],
   "source": [
    "# passing more than 1 parameter to lambda\n",
    "f = lambda a, b: a+b\n",
    "print(f(10, 12))"
   ]
  },
  {
   "cell_type": "raw",
   "metadata": {},
   "source": [
    "f = lambda arguments : expression"
   ]
  },
  {
   "cell_type": "code",
   "execution_count": 75,
   "metadata": {},
   "outputs": [
    {
     "name": "stdout",
     "output_type": "stream",
     "text": [
      "4\n"
     ]
    }
   ],
   "source": [
    "print((lambda x: x**2 + x*5 + 8)(-4))"
   ]
  },
  {
   "cell_type": "code",
   "execution_count": null,
   "metadata": {},
   "outputs": [],
   "source": []
  },
  {
   "cell_type": "code",
   "execution_count": 76,
   "metadata": {},
   "outputs": [
    {
     "name": "stdout",
     "output_type": "stream",
     "text": [
      "[2, 4, 6, 8]\n"
     ]
    }
   ],
   "source": [
    "# Using a filter ----> filter me function 0 ya 1 hi return kari.\n",
    "lst = [1, 2, 3, 4, 5, 6, 7, 8, 9]\n",
    "even_lst = list(filter(lambda x: x%2 == 0, lst))\n",
    "print(even_lst)"
   ]
  },
  {
   "cell_type": "code",
   "execution_count": 77,
   "metadata": {},
   "outputs": [
    {
     "name": "stdout",
     "output_type": "stream",
     "text": [
      "[2, 4, 6, 8, 10, 12, 14, 16, 18]\n"
     ]
    }
   ],
   "source": [
    "# Using a map function\n",
    "lst = [1, 2, 3, 4, 5, 6, 7, 8, 9]\n",
    "lst_double = list(map(lambda x: x*2, lst))\n",
    "print(lst_double)"
   ]
  },
  {
   "cell_type": "code",
   "execution_count": 5,
   "metadata": {},
   "outputs": [
    {
     "name": "stdout",
     "output_type": "stream",
     "text": [
      "45\n"
     ]
    }
   ],
   "source": [
    "# Using a reduce function\n",
    "from functools import reduce\n",
    "lst = [1, 2, 3, 4, 5, 6, 7, 8, 9]\n",
    "result = reduce(lambda x, y: x + y, lst)\n",
    "print(result)"
   ]
  },
  {
   "cell_type": "code",
   "execution_count": 6,
   "metadata": {},
   "outputs": [
    {
     "name": "stdout",
     "output_type": "stream",
     "text": [
      "10\n"
     ]
    }
   ],
   "source": [
    "# Decorators\n",
    "def decor(fun):\n",
    "    def inner():\n",
    "        result = fun()\n",
    "        return result*2\n",
    "    return inner\n",
    "\n",
    "def num():\n",
    "    return 5\n",
    "\n",
    "resultFun = decor(num)\n",
    "print(resultFun())"
   ]
  },
  {
   "cell_type": "code",
   "execution_count": 7,
   "metadata": {},
   "outputs": [
    {
     "name": "stdout",
     "output_type": "stream",
     "text": [
      "10\n"
     ]
    }
   ],
   "source": [
    "def decor(fun):\n",
    "    def inner():\n",
    "        result = fun()\n",
    "        return result*2\n",
    "    return inner\n",
    "\n",
    "@decor\n",
    "def num():\n",
    "    return 5\n",
    "\n",
    "print(num())"
   ]
  },
  {
   "cell_type": "code",
   "execution_count": 8,
   "metadata": {},
   "outputs": [
    {
     "name": "stdout",
     "output_type": "stream",
     "text": [
      "============\n",
      "Hello World!\n",
      "============\n"
     ]
    }
   ],
   "source": [
    "def decorfun(func):\n",
    "    def wrap():\n",
    "        print(\"============\")\n",
    "        func()\n",
    "        print(\"============\")\n",
    "    return(wrap)\n",
    "\n",
    "def print_text():\n",
    "    print(\"Hello World!\")\n",
    "    \n",
    "decorated = decorfun(print_text)\n",
    "decorated()"
   ]
  },
  {
   "cell_type": "code",
   "execution_count": 9,
   "metadata": {},
   "outputs": [
    {
     "name": "stdout",
     "output_type": "stream",
     "text": [
      "============\n",
      "Hello World!\n",
      "============\n"
     ]
    }
   ],
   "source": [
    "def decorfun(func):\n",
    "    def wrap():\n",
    "        print(\"============\")\n",
    "        func()\n",
    "        print(\"============\")\n",
    "    return(wrap)\n",
    "@decorfun\n",
    "def print_text():\n",
    "    print(\"Hello World!\")\n",
    "    \n",
    "print_text()"
   ]
  },
  {
   "cell_type": "code",
   "execution_count": 10,
   "metadata": {},
   "outputs": [
    {
     "name": "stdout",
     "output_type": "stream",
     "text": [
      "Hello Rahul How are you?\n"
     ]
    }
   ],
   "source": [
    "def decorFun(fun):\n",
    "    def inner(n):\n",
    "        result = fun(n)\n",
    "        result += \" How are you?\"\n",
    "        return result\n",
    "    return inner\n",
    "\n",
    "@decorFun\n",
    "def hello(name):\n",
    "    return \"Hello \" + name\n",
    "\n",
    "print(hello(\"Rahul\"))"
   ]
  },
  {
   "cell_type": "code",
   "execution_count": 12,
   "metadata": {},
   "outputs": [
    {
     "name": "stdout",
     "output_type": "stream",
     "text": [
      "10 11 12 13 14 15 16 17 "
     ]
    }
   ],
   "source": [
    "# Generators\n",
    "def custom_gen(x, y):\n",
    "    while(x < y):\n",
    "        yield(x)\n",
    "        x += 1\n",
    "        \n",
    "result = custom_gen(10, 18)\n",
    "\n",
    "for i in result:print(i, end = \" \")"
   ]
  },
  {
   "cell_type": "raw",
   "metadata": {},
   "source": [
    "* yield ke case me local variables destroyed nhi hote hai.\n",
    "* since generators yields one item at a time, hence it don't have memory restriction.\n",
    "* it can be infinite\n",
    "* it can be converted to list by using list function."
   ]
  },
  {
   "cell_type": "code",
   "execution_count": 13,
   "metadata": {},
   "outputs": [
    {
     "name": "stdout",
     "output_type": "stream",
     "text": [
      "5 4 3 2 1 "
     ]
    }
   ],
   "source": [
    "def count_down():\n",
    "    i = 5\n",
    "    while(i>0):\n",
    "        yield i\n",
    "        i -= 1\n",
    "for i in count_down():\n",
    "    print(i, end = \" \")"
   ]
  },
  {
   "cell_type": "code",
   "execution_count": null,
   "metadata": {},
   "outputs": [],
   "source": []
  },
  {
   "cell_type": "code",
   "execution_count": null,
   "metadata": {},
   "outputs": [],
   "source": []
  },
  {
   "cell_type": "code",
   "execution_count": 14,
   "metadata": {},
   "outputs": [],
   "source": [
    "# Creating a module"
   ]
  },
  {
   "cell_type": "code",
   "execution_count": null,
   "metadata": {},
   "outputs": [],
   "source": []
  },
  {
   "cell_type": "code",
   "execution_count": null,
   "metadata": {},
   "outputs": [],
   "source": []
  },
  {
   "cell_type": "code",
   "execution_count": null,
   "metadata": {},
   "outputs": [],
   "source": []
  },
  {
   "cell_type": "markdown",
   "metadata": {},
   "source": [
    "#### List Comprehension:-------->"
   ]
  },
  {
   "cell_type": "raw",
   "metadata": {},
   "source": [
    "l = [expression for item in iterable if condition]"
   ]
  },
  {
   "cell_type": "code",
   "execution_count": 15,
   "metadata": {},
   "outputs": [
    {
     "name": "stdout",
     "output_type": "stream",
     "text": [
      "[2, 4, 6, 8, 10, 12, 14, 16, 18, 20]\n"
     ]
    }
   ],
   "source": [
    "even = [x for x in range(2,21,2)]\n",
    "print(even)"
   ]
  },
  {
   "cell_type": "code",
   "execution_count": 16,
   "metadata": {},
   "outputs": [
    {
     "name": "stdout",
     "output_type": "stream",
     "text": [
      "[2, 4, 6, 8, 10, 12, 14, 16, 18, 20]\n"
     ]
    }
   ],
   "source": [
    "even = [x for x in range(1, 21) if x % 2 == 0]\n",
    "print(even)"
   ]
  },
  {
   "cell_type": "code",
   "execution_count": 17,
   "metadata": {},
   "outputs": [
    {
     "name": "stdout",
     "output_type": "stream",
     "text": [
      "[6, 14, 24, 36, 50]\n"
     ]
    }
   ],
   "source": [
    "# products of numbers in a list\n",
    "a = [1, 2, 3, 4, 5]\n",
    "b = [6, 7, 8, 9, 10]\n",
    "z = [x*y for x, y  in zip(a, b)]\n",
    "print(z)"
   ]
  },
  {
   "cell_type": "code",
   "execution_count": 18,
   "metadata": {},
   "outputs": [
    {
     "name": "stdout",
     "output_type": "stream",
     "text": [
      "[2, 4]\n"
     ]
    }
   ],
   "source": [
    "# common elements in a list\n",
    "a = [2,4,6,8]\n",
    "b = [1,2,3,4,5]\n",
    "result = [i for i in a if i in b]\n",
    "print(result)"
   ]
  },
  {
   "cell_type": "code",
   "execution_count": null,
   "metadata": {},
   "outputs": [],
   "source": []
  },
  {
   "cell_type": "code",
   "execution_count": null,
   "metadata": {},
   "outputs": [],
   "source": []
  },
  {
   "cell_type": "code",
   "execution_count": null,
   "metadata": {},
   "outputs": [],
   "source": []
  },
  {
   "cell_type": "code",
   "execution_count": 19,
   "metadata": {},
   "outputs": [
    {
     "data": {
      "text/plain": [
       "'spam=eggs=spam'"
      ]
     },
     "execution_count": 19,
     "metadata": {},
     "output_type": "execute_result"
    }
   ],
   "source": [
    "\"=\".join([\"spam\", \"eggs\", \"spam\"])"
   ]
  },
  {
   "cell_type": "code",
   "execution_count": 20,
   "metadata": {},
   "outputs": [
    {
     "data": {
      "text/plain": [
       "'Hello World!'"
      ]
     },
     "execution_count": 20,
     "metadata": {},
     "output_type": "execute_result"
    }
   ],
   "source": [
    "\"Hello me\".replace(\"me\", \"World!\")"
   ]
  },
  {
   "cell_type": "code",
   "execution_count": 21,
   "metadata": {},
   "outputs": [],
   "source": [
    "# startswith, endswith, upper, lower, split"
   ]
  },
  {
   "cell_type": "code",
   "execution_count": 22,
   "metadata": {},
   "outputs": [
    {
     "name": "stdout",
     "output_type": "stream",
     "text": [
      "All are larger than 5\n"
     ]
    }
   ],
   "source": [
    "# List functions (all, any)\n",
    "nums = [6,7,8,9,10]\n",
    "if(all([i>5 for i in nums])):\n",
    "    print(\"All are larger than 5\")"
   ]
  },
  {
   "cell_type": "code",
   "execution_count": 23,
   "metadata": {},
   "outputs": [
    {
     "name": "stdout",
     "output_type": "stream",
     "text": [
      "Something is greater than 5\n"
     ]
    }
   ],
   "source": [
    "nums = [1,2,3,4,5,6,7,8,9]\n",
    "if(any([i > 5 for i in nums])):\n",
    "    print(\"Something is greater than 5\")"
   ]
  },
  {
   "cell_type": "code",
   "execution_count": 24,
   "metadata": {},
   "outputs": [
    {
     "name": "stdout",
     "output_type": "stream",
     "text": [
      "(0, 'RK') (1, 'GK') (2, 'PK') "
     ]
    }
   ],
   "source": [
    "nums = [\"RK\", \"GK\", \"PK\"]\n",
    "for v in enumerate(nums):\n",
    "    print(v, end=\" \")"
   ]
  },
  {
   "cell_type": "code",
   "execution_count": null,
   "metadata": {},
   "outputs": [],
   "source": []
  },
  {
   "cell_type": "code",
   "execution_count": null,
   "metadata": {},
   "outputs": [],
   "source": []
  },
  {
   "cell_type": "code",
   "execution_count": null,
   "metadata": {},
   "outputs": [],
   "source": []
  },
  {
   "cell_type": "code",
   "execution_count": null,
   "metadata": {},
   "outputs": [],
   "source": []
  },
  {
   "cell_type": "markdown",
   "metadata": {},
   "source": [
    "#### Object Oriented programming:-------->"
   ]
  },
  {
   "cell_type": "markdown",
   "metadata": {},
   "source": [
    " four oop principles:-->\n",
    "* Encapsulation\n",
    "* Inheritance\n",
    "* Abstraction\n",
    "* Ploymorphism"
   ]
  },
  {
   "cell_type": "code",
   "execution_count": 1,
   "metadata": {},
   "outputs": [
    {
     "name": "stdout",
     "output_type": "stream",
     "text": [
      "Iphone Its Awesome 700\n"
     ]
    }
   ],
   "source": [
    "class Product:\n",
    "    def __init__(self):\n",
    "        self.name = \"Iphone\"\n",
    "        self.description = \"Its Awesome\"\n",
    "        self.price = 700\n",
    "        \n",
    "p1 = Product()\n",
    "print(p1.name, p1.description, p1.price)"
   ]
  },
  {
   "cell_type": "code",
   "execution_count": 2,
   "metadata": {},
   "outputs": [
    {
     "name": "stdout",
     "output_type": "stream",
     "text": [
      "Java Courses\n",
      "[1, 2, 3, 4, 5]\n",
      "Average Ratings for  Java Courses  is  3.0\n"
     ]
    }
   ],
   "source": [
    "class Courses:\n",
    "    def __init__(self, name, ratings):\n",
    "        self.name = name\n",
    "        self.ratings = ratings\n",
    "        \n",
    "    def average(self):\n",
    "        numberOfRatings = len(self.ratings)\n",
    "        average = sum(self.ratings)/numberOfRatings\n",
    "        print(\"Average Ratings for \", self.name, \" is \", average)\n",
    "        \n",
    "c1 = Courses(\"Java Courses\", [1,2,3,4,5])\n",
    "print(c1.name)\n",
    "print(c1.ratings)\n",
    "c1.average()"
   ]
  },
  {
   "cell_type": "code",
   "execution_count": 8,
   "metadata": {},
   "outputs": [
    {
     "name": "stdout",
     "output_type": "stream",
     "text": [
      "John\n",
      "10000\n"
     ]
    }
   ],
   "source": [
    "# Getters and Setters\n",
    "class Programmer:\n",
    "    \n",
    "    def setName(self, n):\n",
    "        self.name = n\n",
    "        \n",
    "    def getName(self):\n",
    "        return self.name\n",
    "    \n",
    "    def setSalary(self, sal):\n",
    "        self.salary = sal\n",
    "        \n",
    "    def getSalary(self):\n",
    "        return self.salary\n",
    "    \n",
    "p1 = Programmer()\n",
    "p1.setName(\"John\")\n",
    "p1.setSalary(10000)\n",
    "\n",
    "print(p1.getName())\n",
    "print(p1.getSalary())"
   ]
  },
  {
   "cell_type": "code",
   "execution_count": 9,
   "metadata": {},
   "outputs": [
    {
     "name": "stdout",
     "output_type": "stream",
     "text": [
      "Iphone Its Awesome 700\n"
     ]
    }
   ],
   "source": [
    "# Instance method\n",
    "class Product:\n",
    "    def __init__(self):\n",
    "        self.name = \"Iphone\"\n",
    "        self.description = \"Its Awesome\"\n",
    "        self.price = 700\n",
    "        \n",
    "    def display(self):\n",
    "        print(self.name, self.description, self.price)\n",
    "        \n",
    "p1 = Product()\n",
    "p1.display()"
   ]
  },
  {
   "cell_type": "code",
   "execution_count": 13,
   "metadata": {},
   "outputs": [
    {
     "name": "stdout",
     "output_type": "stream",
     "text": [
      "CSE***Raushan***139\n",
      "CSE***Rahul***138\n",
      "CSE\n"
     ]
    }
   ],
   "source": [
    "# Define static field\n",
    "class Student:\n",
    "    \n",
    "    major = \"CSE\"                         # static field\n",
    "    \n",
    "    def __init__(self, name, rollno):\n",
    "        self.name = name\n",
    "        self.rollno = rollno\n",
    "    \n",
    "s1 = Student(\"Raushan\", 139)\n",
    "s2 = Student(\"Rahul\", 138)\n",
    "print(s1.major, s1.name, s1.rollno, sep = \"***\")\n",
    "print(s2.major, s2.name, s2.rollno, sep = \"***\")\n",
    "print(Student.major)                 # we can access it without objects also."
   ]
  },
  {
   "cell_type": "markdown",
   "metadata": {},
   "source": [
    "static matlab wo pure class ke liye same hoga."
   ]
  },
  {
   "cell_type": "code",
   "execution_count": 2,
   "metadata": {},
   "outputs": [
    {
     "name": "stdout",
     "output_type": "stream",
     "text": [
      "3\n",
      "3\n"
     ]
    }
   ],
   "source": [
    "# Static field and static method\n",
    "# Counts the number of objects\n",
    "\n",
    "class ObjectCounter:\n",
    "    \n",
    "    no_of_objects = 0\n",
    "    \n",
    "    def __init__(self):\n",
    "        ObjectCounter.no_of_objects += 1\n",
    "        \n",
    "    @staticmethod\n",
    "    def displayCount():                         # no need of self\n",
    "        print(ObjectCounter.no_of_objects)\n",
    "        \n",
    "o1 = ObjectCounter()\n",
    "o2 = ObjectCounter()\n",
    "o3 = ObjectCounter()\n",
    "ObjectCounter.displayCount()\n",
    "print(o1.no_of_objects)"
   ]
  },
  {
   "cell_type": "code",
   "execution_count": 4,
   "metadata": {},
   "outputs": [
    {
     "name": "stdout",
     "output_type": "stream",
     "text": [
      "new square started\n",
      "init started\n",
      "gap\n",
      "25\n"
     ]
    }
   ],
   "source": [
    "# Class method\n",
    "\n",
    "class Rectangle:\n",
    "    def __init__(self, width, height):\n",
    "        print(\"init started\")\n",
    "        self.width = width\n",
    "        self.height = height\n",
    "        \n",
    "    def calculate_area(self):\n",
    "        return self.width*self.height\n",
    "    \n",
    "    @classmethod\n",
    "    def new_square(cls, side_length):\n",
    "        print(\"new square started\")\n",
    "        return cls(side_length, side_length)\n",
    "    \n",
    "    \n",
    "square = Rectangle.new_square(5)\n",
    "print(\"gap\")\n",
    "print(square.calculate_area())"
   ]
  },
  {
   "cell_type": "code",
   "execution_count": 11,
   "metadata": {},
   "outputs": [
    {
     "name": "stdout",
     "output_type": "stream",
     "text": [
      "New square creation starts:\n",
      "Init started.\n",
      "4 8\n",
      "New Rectangle creation starts:\n",
      "Init started.\n",
      "32 24\n"
     ]
    }
   ],
   "source": [
    "class Figure:\n",
    "    def __init__(self, length, breadth):\n",
    "        print(\"Init started.\")\n",
    "        self.length = length\n",
    "        self.breadth = breadth\n",
    "        \n",
    "    def cal_area(self):\n",
    "        return self.length*self.breadth\n",
    "    \n",
    "    def cal_peri(self):\n",
    "        return(2*(self.length+self.breadth))\n",
    "    \n",
    "    @classmethod\n",
    "    def square(cls, side):\n",
    "        print(\"New square creation starts:\")\n",
    "        return cls(side, side)\n",
    "    \n",
    "    @classmethod\n",
    "    def rectangle(cls, l, b):\n",
    "        print(\"New Rectangle creation starts:\")\n",
    "        return cls(l, b)\n",
    "    \n",
    "    \n",
    "s = Figure.square(2)\n",
    "print(s.cal_area(), s.cal_peri())\n",
    "r = Figure.rectangle(4, 8)\n",
    "print(r.cal_area(), r.cal_peri())"
   ]
  },
  {
   "cell_type": "code",
   "execution_count": null,
   "metadata": {},
   "outputs": [],
   "source": []
  },
  {
   "cell_type": "raw",
   "metadata": {},
   "source": [
    "# Class method vs Static Method\n",
    "\n",
    "* A class method takes cls as first parameter while a static method needs no specific parameters.\n",
    "\n",
    "* A class method can access or modify class state while a static method can’t access or modify it.\n",
    "\n",
    "* In general, static methods know nothing about class state. They are utility type methods that take some parameters and work upon those parameters. On the other hand class methods must have class as parameter.\n",
    "\n",
    "* We use @classmethod decorator in python to create a class method and we use @staticmethod decorator to create a static method in python."
   ]
  },
  {
   "cell_type": "code",
   "execution_count": 15,
   "metadata": {},
   "outputs": [
    {
     "name": "stdout",
     "output_type": "stream",
     "text": [
      "21\n",
      "12\n",
      "True\n"
     ]
    }
   ],
   "source": [
    "# Python program to demonstrate  \n",
    "# use of class method and static method. \n",
    "from datetime import date \n",
    "  \n",
    "class Person: \n",
    "    def __init__(self, name, age): \n",
    "        self.name = name \n",
    "        self.age = age \n",
    "      \n",
    "    # a class method to create a Person object by birth year. \n",
    "    @classmethod\n",
    "    def fromBirthYear(cls, name, year): \n",
    "        return cls(name, date.today().year - year) \n",
    "      \n",
    "    # a static method to check if a Person is adult or not. \n",
    "    @staticmethod\n",
    "    def isAdult(age): \n",
    "        return age > 18\n",
    "\n",
    "person1 = Person('mayank', 21) \n",
    "person2 = Person.fromBirthYear('mayank', 2008) \n",
    "  \n",
    "print (person1.age )\n",
    "print (person2.age )\n",
    "  \n",
    "# print the result \n",
    "print (Person.isAdult(22))"
   ]
  },
  {
   "cell_type": "code",
   "execution_count": null,
   "metadata": {},
   "outputs": [],
   "source": []
  },
  {
   "cell_type": "code",
   "execution_count": 23,
   "metadata": {},
   "outputs": [
    {
     "name": "stdout",
     "output_type": "stream",
     "text": [
      "Engine Started\n"
     ]
    }
   ],
   "source": [
    "# create a inner class\n",
    "\n",
    "class Car:\n",
    "    def __init__(self, make, year):\n",
    "        self.make = make\n",
    "        self.year = year\n",
    "    \n",
    "    class Engine:\n",
    "        def __init__(self, number):\n",
    "            self.number = number\n",
    "        def start(self):\n",
    "            print(\"Engine Started\")\n",
    "            \n",
    "c = Car(\"BMW\", 2017)\n",
    "e = c.Engine(1878)\n",
    "e.start()"
   ]
  },
  {
   "cell_type": "code",
   "execution_count": null,
   "metadata": {},
   "outputs": [],
   "source": []
  },
  {
   "cell_type": "code",
   "execution_count": 142,
   "metadata": {},
   "outputs": [
    {
     "name": "stdout",
     "output_type": "stream",
     "text": [
      "False\n"
     ]
    }
   ],
   "source": [
    "# properties:---> one common use of property is to make attribute read-only.\n",
    "\n",
    "class Pizza:\n",
    "    def __init__(self, toppings):\n",
    "        self.toppings = toppings\n",
    "        \n",
    "    @property\n",
    "    def pineapple_allowed(self):\n",
    "        return False\n",
    "    \n",
    "pizza = Pizza([\"cheese\", \"tomato\"])\n",
    "print(pizza.pineapple_allowed)\n",
    "#pizza.pineapple_allowed = True         can't set attribute"
   ]
  },
  {
   "cell_type": "code",
   "execution_count": 19,
   "metadata": {},
   "outputs": [
    {
     "name": "stdout",
     "output_type": "stream",
     "text": [
      "False\n",
      "Enter the password: Raushan\n",
      "True\n",
      "True\n"
     ]
    }
   ],
   "source": [
    "# properties can also be set by getters and setters\n",
    "\n",
    "class Pizza:\n",
    "    def __init__(self, toppings):\n",
    "        self.toppings = toppings\n",
    "        self._pineapple_allowed = False\n",
    "        \n",
    "    @property\n",
    "    def pineapple_allowed(self):\n",
    "        return self._pineapple_allowed\n",
    "    \n",
    "    @pineapple_allowed.setter\n",
    "    def pineapple_allowed(self, value):\n",
    "        if(value):\n",
    "            password = input(\"Enter the password: \")\n",
    "            if(password == \"Raushan\"):\n",
    "                self._pineapple_allowed = value\n",
    "            else:\n",
    "                raise ValueError(\"Alert! Intruder!\")\n",
    "    \n",
    "pizza = Pizza([\"cheese\", \"tomato\"])\n",
    "print(pizza.pineapple_allowed)\n",
    "pizza.pineapple_allowed = True\n",
    "print(pizza.pineapple_allowed)\n",
    "print(pizza._pineapple_allowed)"
   ]
  },
  {
   "cell_type": "code",
   "execution_count": null,
   "metadata": {},
   "outputs": [],
   "source": []
  },
  {
   "cell_type": "markdown",
   "metadata": {},
   "source": [
    "##### Encapsulation:----->"
   ]
  },
  {
   "cell_type": "raw",
   "metadata": {},
   "source": [
    "It is about protecting the properties and the functionality of an object from another objects"
   ]
  },
  {
   "cell_type": "code",
   "execution_count": 36,
   "metadata": {},
   "outputs": [
    {
     "name": "stdout",
     "output_type": "stream",
     "text": [
      "John 123\n",
      "John 123\n"
     ]
    }
   ],
   "source": [
    "# Private field and Name mangling:-->\n",
    "\n",
    "class Student:\n",
    "    def __init__(self):\n",
    "        self.__id = 123         # to make this private we have used __id\n",
    "        self.__name = \"John\"    # we cant access it from outside\n",
    "        \n",
    "    def display(self):\n",
    "        print(self.__name, self.__id)\n",
    "        \n",
    "        \n",
    "s = Student()\n",
    "#print(s.name, s.id)       'Student' object has no attribute 'name'\n",
    "#print(s.__name, s.__id)    'Student' object has no attribute '__name'\n",
    "\n",
    "s.display()\n",
    "\n",
    "# name mangling\n",
    "print(s._Student__name, s._Student__id)"
   ]
  },
  {
   "cell_type": "code",
   "execution_count": null,
   "metadata": {},
   "outputs": [],
   "source": []
  },
  {
   "cell_type": "code",
   "execution_count": 23,
   "metadata": {},
   "outputs": [
    {
     "name": "stdout",
     "output_type": "stream",
     "text": [
      "7\n",
      "7\n"
     ]
    },
    {
     "ename": "AttributeError",
     "evalue": "'Spam' object has no attribute '__egg'",
     "output_type": "error",
     "traceback": [
      "\u001b[0;31m---------------------------------------------------------------------------\u001b[0m",
      "\u001b[0;31mAttributeError\u001b[0m                            Traceback (most recent call last)",
      "\u001b[0;32m<ipython-input-23-904d99461e48>\u001b[0m in \u001b[0;36m<module>\u001b[0;34m\u001b[0m\n\u001b[1;32m      9\u001b[0m \u001b[0ms\u001b[0m\u001b[0;34m.\u001b[0m\u001b[0mprint_egg\u001b[0m\u001b[0;34m(\u001b[0m\u001b[0;34m)\u001b[0m\u001b[0;34m\u001b[0m\u001b[0;34m\u001b[0m\u001b[0m\n\u001b[1;32m     10\u001b[0m \u001b[0mprint\u001b[0m\u001b[0;34m(\u001b[0m\u001b[0ms\u001b[0m\u001b[0;34m.\u001b[0m\u001b[0m_Spam__egg\u001b[0m\u001b[0;34m)\u001b[0m\u001b[0;34m\u001b[0m\u001b[0;34m\u001b[0m\u001b[0m\n\u001b[0;32m---> 11\u001b[0;31m \u001b[0mprint\u001b[0m\u001b[0;34m(\u001b[0m\u001b[0ms\u001b[0m\u001b[0;34m.\u001b[0m\u001b[0m__egg\u001b[0m\u001b[0;34m)\u001b[0m\u001b[0;34m\u001b[0m\u001b[0;34m\u001b[0m\u001b[0m\n\u001b[0m",
      "\u001b[0;31mAttributeError\u001b[0m: 'Spam' object has no attribute '__egg'"
     ]
    }
   ],
   "source": [
    "# sololearn   data hiding\n",
    "\n",
    "class Spam:\n",
    "    __egg = 7                  # double underscore--->strongly private\n",
    "    def print_egg(self):\n",
    "        print(self.__egg)\n",
    "\n",
    "s = Spam()\n",
    "s.print_egg()\n",
    "print(s._Spam__egg)\n",
    "print(s.__egg)"
   ]
  },
  {
   "cell_type": "code",
   "execution_count": null,
   "metadata": {},
   "outputs": [],
   "source": []
  },
  {
   "cell_type": "raw",
   "metadata": {},
   "source": [
    "Name mangling:---->when we make variables or field private then they are not completly hidden they are stored as  objectName._ClassName__variableName. as shown above."
   ]
  },
  {
   "cell_type": "code",
   "execution_count": 39,
   "metadata": {},
   "outputs": [
    {
     "name": "stdout",
     "output_type": "stream",
     "text": [
      "John 123\n"
     ]
    }
   ],
   "source": [
    "# Implementing Encapsulation\n",
    "\n",
    "class Student:\n",
    "    \n",
    "    def setName(self, name):      # @ReservedAssignment\n",
    "        self.name = name\n",
    "    \n",
    "    def setId(self, id):      # @ReservedAssignment\n",
    "        self.id = id\n",
    "        \n",
    "    def getName(self):\n",
    "        return(self.name)\n",
    "    \n",
    "    def getId(self):\n",
    "        return(self.id)\n",
    "    \n",
    "s = Student()\n",
    "s.setName(\"John\")\n",
    "s.setId(123)\n",
    "print(s.getName(), s.getId())"
   ]
  },
  {
   "cell_type": "markdown",
   "metadata": {},
   "source": [
    "* strongly private------------> double underscore __name = \"Raushan\"\n",
    "\n",
    "        1. A private member variable or function cannot be accessed, or even viewed from outside the class. Only the class members can access private members. Practically, we make data private and related                 functions public so that they can be called from outside of the class\n",
    "        \n",
    "        2. syntx to access from outside----> objectName._ClassName__variableName\n",
    "        \n",
    "        \n",
    "* protected------------> single underscore _name = \"Raushan\"\n",
    "\n",
    "        1. A protected member is very similar to a private member but it provided         one additional benefit that they can be accessed in sub classes which           are called derived/child classes."
   ]
  },
  {
   "cell_type": "code",
   "execution_count": 27,
   "metadata": {},
   "outputs": [
    {
     "name": "stdout",
     "output_type": "stream",
     "text": [
      "Queue([1, 2, 3, 4])\n",
      "Queue([0, 1, 2, 3, 4])\n",
      "Queue([0, 1, 2, 3])\n",
      "[0, 1, 2, 3]\n"
     ]
    }
   ],
   "source": [
    "# Printing Objects\n",
    "# If no __repr__ method is defined then the default is used.\n",
    "\n",
    "class Queue:\n",
    "    def __init__(self, contents):\n",
    "        self._hiddenlist = list(contents)\n",
    "        \n",
    "    def push(self, value):\n",
    "        self._hiddenlist.insert(0, value)\n",
    "        \n",
    "    def pop(self):\n",
    "        return (self._hiddenlist.pop(-1))\n",
    "    \n",
    "    def __repr__(self):                                 # print(queue) ke liye\n",
    "        return (\"Queue({})\".format(self._hiddenlist))\n",
    "    \n",
    "queue = Queue([1, 2, 3, 4])\n",
    "print(queue)\n",
    "queue.push(0)\n",
    "print(queue)\n",
    "queue.pop()\n",
    "print(queue)\n",
    "print(queue._hiddenlist)"
   ]
  },
  {
   "cell_type": "code",
   "execution_count": 28,
   "metadata": {},
   "outputs": [
    {
     "name": "stdout",
     "output_type": "stream",
     "text": [
      "Queue([1, 2, 3, 4])\n",
      "Queue([0, 1, 2, 3, 4])\n",
      "Queue([0, 1, 2, 3])\n",
      "[0, 1, 2, 3]\n"
     ]
    }
   ],
   "source": [
    "# Printing Objects\n",
    "# If no __repr__ method is defined then the default is used.\n",
    "\n",
    "class Queue:\n",
    "    def __init__(self, contents):\n",
    "        self.__hiddenlist = list(contents)\n",
    "        \n",
    "    def push(self, value):\n",
    "        self.__hiddenlist.insert(0, value)\n",
    "        \n",
    "    def pop(self):\n",
    "        return (self.__hiddenlist.pop(-1))\n",
    "    \n",
    "    def __repr__(self):                                 # print(queue) ke liye\n",
    "        return (\"Queue({})\".format(self.__hiddenlist))\n",
    "    \n",
    "queue = Queue([1, 2, 3, 4])\n",
    "print(queue)\n",
    "queue.push(0)\n",
    "print(queue)\n",
    "queue.pop()\n",
    "print(queue)\n",
    "print(queue._Queue__hiddenlist)"
   ]
  },
  {
   "cell_type": "code",
   "execution_count": 30,
   "metadata": {},
   "outputs": [
    {
     "name": "stdout",
     "output_type": "stream",
     "text": [
      "From str method of Test: a is 1234, b is 5678\n",
      "[Test a:1234 b:5678]\n"
     ]
    }
   ],
   "source": [
    "class Test:\n",
    "    def __init__(self, a, b):\n",
    "        self.a = a\n",
    "        self.b = b\n",
    "\n",
    "    def __repr__(self):\n",
    "        return \"Test a:%s b:%s\" % (self.a, self.b)\n",
    "\n",
    "    def __str__(self):\n",
    "        return \"From str method of Test: a is %s, b is %s\" % (self.a, self.b)\n",
    "\n",
    "\n",
    "t = Test(1234, 5678)\n",
    "print(t)              # This calls __str__()\n",
    "print([t])            # This calls __repr__()"
   ]
  },
  {
   "cell_type": "code",
   "execution_count": null,
   "metadata": {},
   "outputs": [],
   "source": []
  },
  {
   "cell_type": "markdown",
   "metadata": {},
   "source": [
    "##### Inheritance:------>"
   ]
  },
  {
   "cell_type": "code",
   "execution_count": 34,
   "metadata": {},
   "outputs": [
    {
     "name": "stdout",
     "output_type": "stream",
     "text": [
      "True\n",
      "BMW\n",
      "328i\n",
      "2018\n"
     ]
    }
   ],
   "source": [
    "class BMW:\n",
    "    def __init__(self, make, model, year):\n",
    "        self.make = make\n",
    "        self.model = model\n",
    "        self.year = year\n",
    "        \n",
    "        \n",
    "class ThreeSeries(BMW):\n",
    "    def __init__(self, cruiseControlEnabled, make, model, year):\n",
    "        #BMW.__init__(self, make, model, year)       #indono me se koi bhi use kar skte hai.\n",
    "        super().__init__(make, model, year)          # but see  the difference\n",
    "        self.cruiseControlEnabled = cruiseControlEnabled\n",
    "      \n",
    "    \n",
    "class FiveSeries(BMW):\n",
    "    def __init__(self, parkingAssistEnabled, make, model, year):\n",
    "        BMW.__init__(self, make, model, year)\n",
    "        self.parkingAssistEnabled = parkingAssistEnabled\n",
    "        \n",
    "        \n",
    "threeSeries = ThreeSeries(True, \"BMW\", \"328i\", \"2018\")\n",
    "print(threeSeries.cruiseControlEnabled)\n",
    "print(threeSeries.make)\n",
    "print(threeSeries.model)\n",
    "print(threeSeries.year)"
   ]
  },
  {
   "cell_type": "markdown",
   "metadata": {},
   "source": [
    "* When you add the __init__() function, the child class will no longer inherit the parent's __init__() function.\n",
    "\n",
    "* Note: The child's __init__() function overrides the inheritance of the parent's __init__() function.\n",
    "\n",
    "* To keep the inheritance of the parent's __init__() function, add a call to the parent's __init__() function:"
   ]
  },
  {
   "cell_type": "code",
   "execution_count": 47,
   "metadata": {},
   "outputs": [
    {
     "name": "stdout",
     "output_type": "stream",
     "text": [
      "True\n",
      "BMW\n",
      "328i\n",
      "2018\n",
      "Starting the car\n",
      "Stopping the car\n",
      "Method in ThreeSeries class\n"
     ]
    }
   ],
   "source": [
    "# Inheritance Functionaity\n",
    "\n",
    "class BMW:\n",
    "    def __init__(self, make, model, year):\n",
    "        self.make = make\n",
    "        self.model = model\n",
    "        self.year = year\n",
    "        \n",
    "    def start(self):\n",
    "        print(\"Starting the car\")\n",
    "        \n",
    "    def stop(self):\n",
    "        print(\"Stopping the car\")\n",
    "        \n",
    "        \n",
    "class ThreeSeries(BMW):\n",
    "    def __init__(self, cruiseControlEnabled, make, model, year):\n",
    "        BMW.__init__(self, make, model, year)\n",
    "        self.cruiseControlEnabled = cruiseControlEnabled\n",
    "        \n",
    "    def display(self):\n",
    "        print(\"Method in ThreeSeries class\")\n",
    "      \n",
    "    \n",
    "class FiveSeries(BMW):\n",
    "    def __init__(self, parkingAssistEnabled, make, model, year):\n",
    "        BMW.__init__(self, make, model, year)\n",
    "        self.parkingAssistEnabled = parkingAssistEnabled\n",
    "        \n",
    "        \n",
    "threeSeries = ThreeSeries(True, \"BMW\", \"328i\", \"2018\")\n",
    "print(threeSeries.cruiseControlEnabled)\n",
    "print(threeSeries.make)\n",
    "print(threeSeries.model)\n",
    "print(threeSeries.year)\n",
    "\n",
    "threeSeries.start()\n",
    "threeSeries.stop()\n",
    "threeSeries.display()      # parent class cant accesss this method"
   ]
  },
  {
   "cell_type": "markdown",
   "metadata": {},
   "source": [
    "Inheritance:-------------------------------------------->\n",
    "    \n",
    "    1. single: 1-1\n",
    "    2. Multiple: 2-1\n",
    "    3. Multilevel: 1-1-1\n",
    "    4. Hierarchical: 1-2/3/...\n",
    "    5. Hybrid: Mixed"
   ]
  },
  {
   "cell_type": "code",
   "execution_count": null,
   "metadata": {},
   "outputs": [],
   "source": []
  },
  {
   "cell_type": "code",
   "execution_count": null,
   "metadata": {},
   "outputs": [],
   "source": []
  },
  {
   "cell_type": "raw",
   "metadata": {},
   "source": [
    "overriding:---> run time polymorphism"
   ]
  },
  {
   "cell_type": "code",
   "execution_count": 55,
   "metadata": {},
   "outputs": [
    {
     "name": "stdout",
     "output_type": "stream",
     "text": [
      "True\n",
      "BMW\n",
      "328i\n",
      "2018\n",
      "Button Start\n",
      "Stopping the car\n",
      "Method in ThreeSeries class\n"
     ]
    }
   ],
   "source": [
    "# Overriding\n",
    "\n",
    "class BMW:\n",
    "    def __init__(self, make, model, year):\n",
    "        self.make = make\n",
    "        self.model = model\n",
    "        self.year = year\n",
    "        \n",
    "    def start(self):\n",
    "        print(\"Starting the car\")\n",
    "        \n",
    "    def stop(self):\n",
    "        print(\"Stopping the car\")\n",
    "        \n",
    "        \n",
    "class ThreeSeries(BMW):\n",
    "    def __init__(self, cruiseControlEnabled, make, model, year):\n",
    "        BMW.__init__(self, make, model, year)\n",
    "        self.cruiseControlEnabled = cruiseControlEnabled\n",
    "        \n",
    "    def display(self):\n",
    "        print(\"Method in ThreeSeries class\")\n",
    "        \n",
    "    def start(self):\n",
    "        print(\"Button Start\")\n",
    "      \n",
    "    \n",
    "class FiveSeries(BMW):\n",
    "    def __init__(self, parkingAssistEnabled, make, model, year):\n",
    "        BMW.__init__(self, make, model, year)\n",
    "        self.parkingAssistEnabled = parkingAssistEnabled\n",
    "        \n",
    "        \n",
    "threeSeries = ThreeSeries(True, \"BMW\", \"328i\", \"2018\")\n",
    "print(threeSeries.cruiseControlEnabled)\n",
    "print(threeSeries.make)\n",
    "print(threeSeries.model)\n",
    "print(threeSeries.year)\n",
    "\n",
    "threeSeries.start()\n",
    "threeSeries.stop()\n",
    "threeSeries.display() "
   ]
  },
  {
   "cell_type": "code",
   "execution_count": 56,
   "metadata": {},
   "outputs": [
    {
     "name": "stdout",
     "output_type": "stream",
     "text": [
      "True***BMW***328i***2018\n",
      "Starting the car\n",
      "Button Start\n",
      "Stopping the car\n",
      "Method in ThreeSeries class\n"
     ]
    }
   ],
   "source": [
    "# Using super()--> accessing the parent class method using super().methodName()\n",
    "\n",
    "class BMW:\n",
    "    def __init__(self, make, model, year):\n",
    "        self.make = make\n",
    "        self.model = model\n",
    "        self.year = year\n",
    "        \n",
    "    def start(self):\n",
    "        print(\"Starting the car\")\n",
    "        \n",
    "    def stop(self):\n",
    "        print(\"Stopping the car\")\n",
    "        \n",
    "        \n",
    "class ThreeSeries(BMW):\n",
    "    def __init__(self, cruiseControlEnabled, make, model, year):\n",
    "        super().__init__(make, model, year)\n",
    "        self.cruiseControlEnabled = cruiseControlEnabled\n",
    "        \n",
    "    def display(self):\n",
    "        print(\"Method in ThreeSeries class\")\n",
    "        \n",
    "    def start(self):\n",
    "        super().start()\n",
    "        print(\"Button Start\")\n",
    "      \n",
    "    \n",
    "class FiveSeries(BMW):\n",
    "    def __init__(self, parkingAssistEnabled, make, model, year):\n",
    "        super().__init__(make, model, year)\n",
    "        self.parkingAssistEnabled = parkingAssistEnabled\n",
    "        \n",
    "        \n",
    "threeSeries = ThreeSeries(True, \"BMW\", \"328i\", \"2018\")\n",
    "print(threeSeries.cruiseControlEnabled, threeSeries.make, \n",
    "      threeSeries.model, threeSeries.year, sep = \"***\")\n",
    "\n",
    "threeSeries.start()\n",
    "threeSeries.stop()\n",
    "threeSeries.display()"
   ]
  },
  {
   "cell_type": "code",
   "execution_count": null,
   "metadata": {},
   "outputs": [],
   "source": []
  },
  {
   "cell_type": "markdown",
   "metadata": {},
   "source": [
    "##### Ploymorphism:----->"
   ]
  },
  {
   "cell_type": "code",
   "execution_count": 58,
   "metadata": {},
   "outputs": [
    {
     "name": "stdout",
     "output_type": "stream",
     "text": [
      "Quack Quack\n",
      "Hello\n"
     ]
    }
   ],
   "source": [
    "# DuckTyping:\n",
    "\n",
    "class Duck:\n",
    "    def talk(self):\n",
    "        print(\"Quack Quack\")\n",
    "        \n",
    "class Human:\n",
    "    def talk(self):\n",
    "        print(\"Hello\")\n",
    "        \n",
    "def callTalk(obj):\n",
    "    obj.talk()\n",
    "    \n",
    "d = Duck()\n",
    "callTalk(d)\n",
    "\n",
    "h = Human()\n",
    "callTalk(h)"
   ]
  },
  {
   "cell_type": "code",
   "execution_count": 61,
   "metadata": {},
   "outputs": [
    {
     "name": "stdout",
     "output_type": "stream",
     "text": [
      "Starting Airbus Engine\n",
      "Starting Boing Engine\n"
     ]
    }
   ],
   "source": [
    "# Dependency Injection:  (interface in java)\n",
    "\n",
    "class Flight:\n",
    "    def __init__(self, engine):\n",
    "        self.engine = engine\n",
    "        \n",
    "    def startEngine(self):\n",
    "        self.engine.start()\n",
    "        \n",
    "class AirbusEngine:\n",
    "    def start(self):\n",
    "        print(\"Starting Airbus Engine\")\n",
    "        \n",
    "class BoingEngine:\n",
    "    def start(self):\n",
    "        print(\"Starting Boing Engine\")\n",
    "        \n",
    "ae = AirbusEngine()\n",
    "f = Flight(ae)\n",
    "f.startEngine()\n",
    "\n",
    "be = BoingEngine()\n",
    "f1 = Flight(be)\n",
    "f1.startEngine()"
   ]
  },
  {
   "cell_type": "code",
   "execution_count": null,
   "metadata": {},
   "outputs": [],
   "source": [
    "# operator overloading"
   ]
  },
  {
   "cell_type": "code",
   "execution_count": 62,
   "metadata": {},
   "outputs": [],
   "source": [
    "# Runtime polymorphism"
   ]
  },
  {
   "cell_type": "code",
   "execution_count": null,
   "metadata": {},
   "outputs": [],
   "source": []
  },
  {
   "cell_type": "markdown",
   "metadata": {},
   "source": [
    "##### Abstraction:--->"
   ]
  },
  {
   "cell_type": "code",
   "execution_count": 35,
   "metadata": {},
   "outputs": [
    {
     "name": "stdout",
     "output_type": "stream",
     "text": [
      "True***BMW***328i***2018\n",
      "Starting the car\n",
      "Button Start\n",
      "Stopping the car\n",
      "Method in ThreeSeries class\n",
      "Three series is being driven\n"
     ]
    }
   ],
   "source": [
    "# Create an Abstract classes\n",
    "\n",
    "from abc import abstractmethod, ABC\n",
    " \n",
    "class BMW(ABC):                                          # abstract\n",
    "    def __init__(self, make, model, year):\n",
    "        self.make = make\n",
    "        self.model = model\n",
    "        self.year = year\n",
    "        \n",
    "    def start(self):\n",
    "        print(\"Starting the car\")\n",
    "        \n",
    "    def stop(self):\n",
    "        print(\"Stopping the car\")\n",
    "        \n",
    "    @abstractmethod       # abstract method decorator\n",
    "    def drive(self):                 #abstract method\n",
    "        pass\n",
    "        \n",
    "        \n",
    "class ThreeSeries(BMW):\n",
    "    def __init__(self, cruiseControlEnabled, make, model, year):\n",
    "        super().__init__(make, model, year)\n",
    "        self.cruiseControlEnabled = cruiseControlEnabled\n",
    "        \n",
    "    def display(self):\n",
    "        print(\"Method in ThreeSeries class\")\n",
    "        \n",
    "    def start(self):\n",
    "        super().start()\n",
    "        print(\"Button Start\")\n",
    "    \n",
    "    def drive(self):\n",
    "        print(\"Three series is being driven\")\n",
    "    \n",
    "class FiveSeries(BMW):\n",
    "    def __init__(self, parkingAssistEnabled, make, model, year):\n",
    "        super().__init__(make, model, year)\n",
    "        self.parkingAssistEnabled = parkingAssistEnabled\n",
    "        \n",
    "    def drive(self):\n",
    "        print(\"Five series is being driven\")\n",
    "        \n",
    "        \n",
    "threeSeries = ThreeSeries(True, \"BMW\", \"328i\", \"2018\")\n",
    "print(threeSeries.cruiseControlEnabled, threeSeries.make, \n",
    "      threeSeries.model, threeSeries.year, sep = \"***\")\n",
    "\n",
    "threeSeries.start()\n",
    "threeSeries.stop()\n",
    "threeSeries.display()\n",
    "threeSeries.drive()\n",
    "\n",
    "# b = BMW(\"BMW\", \"328i\", \"2018\")      \n",
    "#TypeError: Can't instantiate abstract class BMW with abstract methods drive"
   ]
  },
  {
   "cell_type": "raw",
   "metadata": {},
   "source": [
    "interfaces:--> these are the abstract classes where all the  methods are abstracts"
   ]
  },
  {
   "cell_type": "code",
   "execution_count": 78,
   "metadata": {},
   "outputs": [
    {
     "name": "stdout",
     "output_type": "stream",
     "text": [
      "True***BMW***328i***2018\n",
      "Button Start\n",
      "Button Stop\n",
      "Method in ThreeSeries class\n",
      "False***BMW***332i***2019\n",
      "Remote Start\n",
      "Remote Stop\n"
     ]
    }
   ],
   "source": [
    "# create an interface\n",
    "\n",
    "from abc import abstractmethod, ABC\n",
    " \n",
    "class BMW(ABC):                                          # abstract\n",
    "    def __init__(self, make, model, year):\n",
    "        self.make = make\n",
    "        self.model = model\n",
    "        self.year = year\n",
    "        \n",
    "    @abstractmethod   \n",
    "    def start(self):\n",
    "        pass\n",
    "\n",
    "    @abstractmethod\n",
    "    def stop(self):\n",
    "        pass\n",
    "        \n",
    "    @abstractmethod\n",
    "    def drive(self):    \n",
    "        pass\n",
    "        \n",
    "        \n",
    "class ThreeSeries(BMW):\n",
    "    def __init__(self, cruiseControlEnabled, make, model, year):\n",
    "        super().__init__(make, model, year)\n",
    "        self.cruiseControlEnabled = cruiseControlEnabled\n",
    "        \n",
    "    def display(self):\n",
    "        print(\"Method in ThreeSeries class\")\n",
    "        \n",
    "    def start(self):\n",
    "        super().start()\n",
    "        print(\"Button Start\")\n",
    "        \n",
    "    def stop(self):\n",
    "        super().stop()\n",
    "        print(\"Button Stop\")\n",
    "    \n",
    "    def drive(self):\n",
    "        print(\"Three series is being driven\")\n",
    "    \n",
    "class FiveSeries(BMW):\n",
    "    def __init__(self, parkingAssistEnabled, make, model, year):\n",
    "        super().__init__(make, model, year)\n",
    "        self.parkingAssistEnabled = parkingAssistEnabled\n",
    "        \n",
    "    def start(self):\n",
    "        super().start()\n",
    "        print(\"Remote Start\")\n",
    "        \n",
    "    def stop(self):\n",
    "        super().stop()\n",
    "        print(\"Remote Stop\")\n",
    "        \n",
    "    def drive(self):\n",
    "        print(\"Five series is being driven\")\n",
    "        \n",
    "        \n",
    "threeSeries = ThreeSeries(True, \"BMW\", \"328i\", \"2018\")\n",
    "print(threeSeries.cruiseControlEnabled, threeSeries.make, \n",
    "      threeSeries.model, threeSeries.year, sep = \"***\")\n",
    "\n",
    "threeSeries.start()\n",
    "threeSeries.stop()\n",
    "threeSeries.display()\n",
    "\n",
    "fiveSeries = FiveSeries(False, \"BMW\", \"332i\", \"2019\")\n",
    "print(fiveSeries.parkingAssistEnabled, fiveSeries.make, \n",
    "      fiveSeries.model, fiveSeries.year, sep = \"***\")\n",
    "\n",
    "fiveSeries.start()\n",
    "fiveSeries.stop()"
   ]
  },
  {
   "cell_type": "code",
   "execution_count": null,
   "metadata": {},
   "outputs": [],
   "source": []
  },
  {
   "cell_type": "raw",
   "metadata": {},
   "source": [
    "# sololearn\n",
    "# Magic Method :----> __methodName__\n",
    "  also known as dundors.\n",
    "  the methods like __init__\n",
    "  one common use of them is operator overloading.\n",
    "  example:---> \n",
    "            ( __add__  for +)-------> add two objects of the class together\n",
    "            ( __mul__  for *)------->\n",
    "            ( __truediv__  for /)------->\n",
    "            ( __floordiv__  for //)------->\n",
    "            ( __mod__  for %)------->\n",
    "            ( __pow__  for **)------->\n",
    "            ( __and__  for &)------->\n",
    "            ( __xor__  for ^)------->\n",
    "            ( __or__  for |)------->\n",
    "            \n",
    "* (x+y)  translated into (x.__add__(y))\n",
    "* and if x has not implemented __add__, and x and y are of different types,      then y.__radd__(x) is called.\n",
    "            \n",
    "# Magic Methods for comparison:--->\n",
    "       examples:---->\n",
    "            ( __lt__ for <)\n",
    "            ( __le__ for <=)\n",
    "            ( __eq__ for ==)\n",
    "            ( __ne__ for !=)\n",
    "            ( __gt__ for >)\n",
    "            ( __ge__ for >=)\n",
    "            \n",
    "* if __ne__ is not implemented, it returns the oppositive of __eq__.\n",
    "* there are no other relationships between the operators.\n",
    "            "
   ]
  },
  {
   "cell_type": "code",
   "execution_count": 3,
   "metadata": {},
   "outputs": [
    {
     "name": "stdout",
     "output_type": "stream",
     "text": [
      "8 16\n"
     ]
    }
   ],
   "source": [
    "# Magic method example\n",
    "\n",
    "class Vector2D:\n",
    "    def __init__(self, x, y):\n",
    "        self.x = x\n",
    "        self.y = y\n",
    "        \n",
    "    def __add__(self, other):\n",
    "        return Vector2D(self.x + other.x, self.y + other.y)\n",
    "    \n",
    "first = Vector2D(5, 7)\n",
    "second = Vector2D(3, 9)\n",
    "result = first + second\n",
    "print(result.x, result.y)"
   ]
  },
  {
   "cell_type": "code",
   "execution_count": 109,
   "metadata": {},
   "outputs": [
    {
     "name": "stdout",
     "output_type": "stream",
     "text": [
      "spam\n",
      "============\n",
      "Hello World!\n",
      "\n",
      "Hello World!\n",
      "====\n",
      "spam\n"
     ]
    }
   ],
   "source": [
    "class SpecialString:\n",
    "    def __init__(self, cont):\n",
    "        self.cont = cont\n",
    "        \n",
    "    def __truediv__(self, other):\n",
    "        line = \"=\" * len(other.cont)\n",
    "        return(\"\\n\".join([self.cont, line, other.cont]))\n",
    "    \n",
    "spam = SpecialString(\"spam\")\n",
    "hello = SpecialString(\"Hello World!\")\n",
    "print(spam/hello)\n",
    "print()\n",
    "print(hello/spam)"
   ]
  },
  {
   "cell_type": "raw",
   "metadata": {},
   "source": [
    "# Magic Methods:--->\n",
    "    there are several magic methods for making classes act like containers.\n",
    "        ( __len__ for len())\n",
    "        ( __getitem__ for indexing)\n",
    "        ( __setitem__ for assigning to indexed values)\n",
    "        ( __delitem__ for deleting indexed value)\n",
    "        ( __iter__ for iteration over objects)\n",
    "        ( __contains__ for in)\n",
    "        ( __call__ for calling objects as function)\n",
    "        ( __str__)\n",
    "        "
   ]
  },
  {
   "cell_type": "code",
   "execution_count": 112,
   "metadata": {},
   "outputs": [
    {
     "name": "stdout",
     "output_type": "stream",
     "text": [
      "8\n",
      "3\n",
      "D\n",
      "C\n"
     ]
    }
   ],
   "source": [
    "import random\n",
    "\n",
    "class VegueList:\n",
    "    def __init__(self, cont):\n",
    "        self.cont = cont\n",
    "        \n",
    "    def __getitem__(self, index):\n",
    "        return self.cont[index + random.randint(-1, 1)]\n",
    "    \n",
    "    def __len__(self):\n",
    "        return(random.randint(0, len(self.cont)*2))\n",
    "    \n",
    "vague_List = VegueList([\"A\", \"B\", \"C\", \"D\", \"E\"])\n",
    "print(len(vague_List))\n",
    "print(len(vague_List))\n",
    "print(vague_List[2])\n",
    "print(vague_List[2])"
   ]
  },
  {
   "cell_type": "code",
   "execution_count": null,
   "metadata": {},
   "outputs": [],
   "source": []
  },
  {
   "cell_type": "code",
   "execution_count": null,
   "metadata": {},
   "outputs": [],
   "source": []
  },
  {
   "cell_type": "code",
   "execution_count": null,
   "metadata": {},
   "outputs": [],
   "source": []
  },
  {
   "cell_type": "code",
   "execution_count": null,
   "metadata": {},
   "outputs": [],
   "source": []
  },
  {
   "cell_type": "code",
   "execution_count": null,
   "metadata": {},
   "outputs": [],
   "source": []
  },
  {
   "cell_type": "code",
   "execution_count": null,
   "metadata": {},
   "outputs": [],
   "source": []
  },
  {
   "cell_type": "code",
   "execution_count": null,
   "metadata": {},
   "outputs": [],
   "source": []
  },
  {
   "cell_type": "markdown",
   "metadata": {},
   "source": [
    "#### Exceptions:-------->"
   ]
  },
  {
   "cell_type": "code",
   "execution_count": 79,
   "metadata": {},
   "outputs": [],
   "source": [
    "try:\n",
    "    pass\n",
    "except:          # if exception is raised\n",
    "    pass\n",
    "else:            # else: jab koi exception nhi rhega\n",
    "    pass\n",
    "finally:         # always execute\n",
    "    pass"
   ]
  },
  {
   "cell_type": "raw",
   "metadata": {},
   "source": [
    "BaseException:\n",
    "    [Exception:\n",
    "         [StandardError:\n",
    "              [EOFError, ZeroDivisionError, IndentationError, ] \n",
    "          & Warning:\n",
    "              [DeprecatedWarning, ImportWarning, ]\n",
    "         ]\n",
    "    ]"
   ]
  },
  {
   "cell_type": "code",
   "execution_count": 81,
   "metadata": {},
   "outputs": [
    {
     "name": "stderr",
     "output_type": "stream",
     "text": [
      "ERROR:root:Error\n",
      "CRITICAL:root:Critical\n",
      "c:\\users\\raushan\\appdata\\local\\programs\\python\\python36\\lib\\site-packages\\ipykernel_launcher.py:7: DeprecationWarning: The 'warn' function is deprecated, use 'warning' instead\n",
      "  import sys\n",
      "WARNING:root:Warning\n"
     ]
    }
   ],
   "source": [
    "# Logging in action\n",
    "\n",
    "import logging\n",
    "\n",
    "logging.error(\"Error\")\n",
    "logging.critical(\"Critical\")\n",
    "logging.warn(\"Warning\")                      #--->\n",
    "logging.debug(\"Debug\")\n",
    "logging.info(\"Info\")"
   ]
  },
  {
   "cell_type": "code",
   "execution_count": 84,
   "metadata": {},
   "outputs": [
    {
     "name": "stderr",
     "output_type": "stream",
     "text": [
      "CRITICAL:root:Critical\n",
      "ERROR:root:Error\n",
      "c:\\users\\raushan\\appdata\\local\\programs\\python\\python36\\lib\\site-packages\\ipykernel_launcher.py:6: DeprecationWarning: The 'warn' function is deprecated, use 'warning' instead\n",
      "  \n",
      "WARNING:root:Warning\n"
     ]
    }
   ],
   "source": [
    "import logging\n",
    "\n",
    "logging.basicConfig(filename = \"mylog.log\", level = logging.ERROR)\n",
    "logging.critical(\"Critical\")\n",
    "logging.error(\"Error\")\n",
    "logging.warn(\"Warning\")\n",
    "logging.info(\"Info\")\n",
    "logging.debug(\"Debug\")"
   ]
  },
  {
   "cell_type": "code",
   "execution_count": 85,
   "metadata": {},
   "outputs": [
    {
     "name": "stderr",
     "output_type": "stream",
     "text": [
      "CRITICAL:root:Critical\n",
      "ERROR:root:Error\n",
      "c:\\users\\raushan\\appdata\\local\\programs\\python\\python36\\lib\\site-packages\\ipykernel_launcher.py:6: DeprecationWarning: The 'warn' function is deprecated, use 'warning' instead\n",
      "  \n",
      "WARNING:root:Warning\n"
     ]
    }
   ],
   "source": [
    "import logging\n",
    "\n",
    "logging.basicConfig(filename = \"mylog.log\", level = logging.DEBUG)\n",
    "logging.critical(\"Critical\")\n",
    "logging.error(\"Error\")\n",
    "logging.warn(\"Warning\")\n",
    "logging.info(\"Info\")\n",
    "logging.debug(\"Debug\")"
   ]
  },
  {
   "cell_type": "code",
   "execution_count": null,
   "metadata": {},
   "outputs": [],
   "source": []
  },
  {
   "cell_type": "code",
   "execution_count": 86,
   "metadata": {},
   "outputs": [
    {
     "name": "stdout",
     "output_type": "stream",
     "text": [
      "2 0\n"
     ]
    },
    {
     "name": "stderr",
     "output_type": "stream",
     "text": [
      "ERROR:root:Division by zero\n"
     ]
    },
    {
     "name": "stdout",
     "output_type": "stream",
     "text": [
      "Division by zero is not allowed\n",
      "Please enter a non zero number\n",
      "Finally run\n",
      "Code after the exception.\n"
     ]
    }
   ],
   "source": [
    "# Log exception\n",
    "\n",
    "import logging\n",
    "\n",
    "logging.basicConfig(filename = \"mylog.log\", level = logging.DEBUG)\n",
    "\n",
    "try:\n",
    "    a, b = map(int, input().split())\n",
    "    c = a / b\n",
    "except ZeroDivisionError:\n",
    "    print(\"Division by zero is not allowed\")\n",
    "    print(\"Please enter a non zero number\")\n",
    "    logging.error(\"Division by zero\")\n",
    "else:\n",
    "    print(\"U have entered a non zero number\")\n",
    "finally:\n",
    "    print(\"Finally run\")\n",
    "print(\"Code after the exception.\")"
   ]
  },
  {
   "cell_type": "code",
   "execution_count": null,
   "metadata": {},
   "outputs": [],
   "source": []
  },
  {
   "cell_type": "code",
   "execution_count": 90,
   "metadata": {},
   "outputs": [
    {
     "name": "stdout",
     "output_type": "stream",
     "text": [
      "Enter a even number: 1\n",
      "You have entered a invalid input or odd number\n",
      "After the assertion\n"
     ]
    }
   ],
   "source": [
    "# Assertion:--->\n",
    "try:\n",
    "    num = int(input(\"Enter a even number: \"))\n",
    "    assert num%2 == 0, \"You have entered a invalid input or odd number\"\n",
    "except AssertionError as obj:\n",
    "    print(obj)\n",
    "print(\"After the assertion\")"
   ]
  },
  {
   "cell_type": "code",
   "execution_count": 95,
   "metadata": {},
   "outputs": [
    {
     "ename": "ValueError",
     "evalue": "raised by user",
     "output_type": "error",
     "traceback": [
      "\u001b[1;31m---------------------------------------------------------------------------\u001b[0m",
      "\u001b[1;31mZeroDivisionError\u001b[0m                         Traceback (most recent call last)",
      "\u001b[1;32m<ipython-input-95-8ab0a7abf204>\u001b[0m in \u001b[0;36m<module>\u001b[1;34m\u001b[0m\n\u001b[0;32m      3\u001b[0m \u001b[1;32mtry\u001b[0m\u001b[1;33m:\u001b[0m\u001b[1;33m\u001b[0m\u001b[1;33m\u001b[0m\u001b[0m\n\u001b[1;32m----> 4\u001b[1;33m     \u001b[0mprint\u001b[0m\u001b[1;33m(\u001b[0m\u001b[1;36m1\u001b[0m\u001b[1;33m/\u001b[0m\u001b[1;36m0\u001b[0m\u001b[1;33m)\u001b[0m\u001b[1;33m\u001b[0m\u001b[1;33m\u001b[0m\u001b[0m\n\u001b[0m\u001b[0;32m      5\u001b[0m \u001b[1;32mexcept\u001b[0m \u001b[0mZeroDivisionError\u001b[0m\u001b[1;33m:\u001b[0m\u001b[1;33m\u001b[0m\u001b[1;33m\u001b[0m\u001b[0m\n",
      "\u001b[1;31mZeroDivisionError\u001b[0m: division by zero",
      "\nDuring handling of the above exception, another exception occurred:\n",
      "\u001b[1;31mValueError\u001b[0m                                Traceback (most recent call last)",
      "\u001b[1;32m<ipython-input-95-8ab0a7abf204>\u001b[0m in \u001b[0;36m<module>\u001b[1;34m\u001b[0m\n\u001b[0;32m      4\u001b[0m     \u001b[0mprint\u001b[0m\u001b[1;33m(\u001b[0m\u001b[1;36m1\u001b[0m\u001b[1;33m/\u001b[0m\u001b[1;36m0\u001b[0m\u001b[1;33m)\u001b[0m\u001b[1;33m\u001b[0m\u001b[1;33m\u001b[0m\u001b[0m\n\u001b[0;32m      5\u001b[0m \u001b[1;32mexcept\u001b[0m \u001b[0mZeroDivisionError\u001b[0m\u001b[1;33m:\u001b[0m\u001b[1;33m\u001b[0m\u001b[1;33m\u001b[0m\u001b[0m\n\u001b[1;32m----> 6\u001b[1;33m     \u001b[1;32mraise\u001b[0m \u001b[0mValueError\u001b[0m\u001b[1;33m(\u001b[0m\u001b[1;34m\"raised by user\"\u001b[0m\u001b[1;33m)\u001b[0m\u001b[1;33m\u001b[0m\u001b[1;33m\u001b[0m\u001b[0m\n\u001b[0m",
      "\u001b[1;31mValueError\u001b[0m: raised by user"
     ]
    }
   ],
   "source": [
    "# Raising an exception\n",
    "\n",
    "try:\n",
    "    print(1/0)\n",
    "except ZeroDivisionError:\n",
    "    raise ValueError(\"raised by user\")"
   ]
  },
  {
   "cell_type": "code",
   "execution_count": 92,
   "metadata": {},
   "outputs": [
    {
     "ename": "NameError",
     "evalue": "Invalid name!",
     "output_type": "error",
     "traceback": [
      "\u001b[1;31m---------------------------------------------------------------------------\u001b[0m",
      "\u001b[1;31mNameError\u001b[0m                                 Traceback (most recent call last)",
      "\u001b[1;32m<ipython-input-92-d5ceb78ca603>\u001b[0m in \u001b[0;36m<module>\u001b[1;34m\u001b[0m\n\u001b[0;32m      1\u001b[0m \u001b[0mname\u001b[0m \u001b[1;33m=\u001b[0m \u001b[1;34m\"123\"\u001b[0m\u001b[1;33m\u001b[0m\u001b[1;33m\u001b[0m\u001b[0m\n\u001b[1;32m----> 2\u001b[1;33m \u001b[1;32mraise\u001b[0m \u001b[0mNameError\u001b[0m\u001b[1;33m(\u001b[0m\u001b[1;34m\"Invalid name!\"\u001b[0m\u001b[1;33m)\u001b[0m\u001b[1;33m\u001b[0m\u001b[1;33m\u001b[0m\u001b[0m\n\u001b[0m",
      "\u001b[1;31mNameError\u001b[0m: Invalid name!"
     ]
    }
   ],
   "source": [
    "name = \"123\"\n",
    "raise NameError(\"Invalid name!\")"
   ]
  },
  {
   "cell_type": "code",
   "execution_count": null,
   "metadata": {},
   "outputs": [],
   "source": []
  },
  {
   "cell_type": "code",
   "execution_count": null,
   "metadata": {},
   "outputs": [],
   "source": []
  },
  {
   "cell_type": "code",
   "execution_count": null,
   "metadata": {},
   "outputs": [],
   "source": []
  },
  {
   "cell_type": "markdown",
   "metadata": {},
   "source": [
    "#### Files:------->"
   ]
  },
  {
   "cell_type": "code",
   "execution_count": 99,
   "metadata": {},
   "outputs": [
    {
     "name": "stdout",
     "output_type": "stream",
     "text": [
      "Enter text: Hello\n",
      "Hello\n"
     ]
    }
   ],
   "source": [
    "# write and read string to a file\n",
    "\n",
    "f = open(\"Data\\core_file_01.txt\", \"w\")\n",
    "s = input(\"Enter text: \")\n",
    "f.write(s)\n",
    "f.close()\n",
    "\n",
    "f = open(\"Data\\core_file_01.txt\", \"r\")\n",
    "s1 = f.read()\n",
    "print(s1)\n",
    "f.close()"
   ]
  },
  {
   "cell_type": "code",
   "execution_count": 101,
   "metadata": {},
   "outputs": [
    {
     "name": "stdout",
     "output_type": "stream",
     "text": [
      "Enter text (Type # when you are done)\n",
      "Raushan\n",
      "Rahul\n",
      "Ravi\n",
      "#\n",
      "Raushan\n",
      "Rahul\n",
      "Ravi\n",
      "#\n",
      "\n"
     ]
    }
   ],
   "source": [
    "# write multiple  Strings\n",
    "\n",
    "f = open(\"Data\\core_file_02.txt\", \"w\")\n",
    "print(\"Enter text (Type # when you are done)\")\n",
    "s = \"\"\n",
    "while(s != \"#\"):\n",
    "    s = input()\n",
    "    f.write(s + \"\\n\")\n",
    "f.close()\n",
    "\n",
    "f = open(\"Data\\core_file_02.txt\", \"r\")\n",
    "print(f.read())\n",
    "f.close()"
   ]
  },
  {
   "cell_type": "code",
   "execution_count": null,
   "metadata": {},
   "outputs": [],
   "source": []
  },
  {
   "cell_type": "code",
   "execution_count": 104,
   "metadata": {},
   "outputs": [
    {
     "name": "stdout",
     "output_type": "stream",
     "text": [
      "file not exist\n"
     ]
    },
    {
     "ename": "SystemExit",
     "evalue": "",
     "output_type": "error",
     "traceback": [
      "An exception has occurred, use %tb to see the full traceback.\n",
      "\u001b[1;31mSystemExit\u001b[0m\n"
     ]
    }
   ],
   "source": [
    "# check if the file exist\n",
    "\n",
    "import os, sys\n",
    "\n",
    "if(os.path.isfile(\"Data\\core_file_0123.txt\")):\n",
    "    f = open(\"Data\\core_file_01.txt\", \"r\")\n",
    "else:\n",
    "    print(\"file not exist\")\n",
    "    sys.exit()\n",
    "    \n",
    "print(f.read())\n",
    "f.close()"
   ]
  },
  {
   "cell_type": "code",
   "execution_count": 105,
   "metadata": {},
   "outputs": [],
   "source": [
    "# using Pickle and unpickle"
   ]
  },
  {
   "cell_type": "raw",
   "metadata": {},
   "source": [
    "###### Access mode:---->\n",
    "\n",
    "* r---->It opens the file to read-only. The file pointer exists at the beginning. The file is by default open in this mode if no access mode is passed.\n",
    "    \n",
    "* rb---->It opens the file to read only in binary format. The file pointer exists at the beginning of the file.\n",
    "\n",
    "* r+---->It opens the file to read and write both. The file pointer exists at the beginning of the file.\n",
    "\n",
    "* rb+---->It opens the file to read and write both in binary format. The file pointer exists at the beginning of the file.\n",
    "\n",
    "* w---->It opens the file to write only. It overwrites the file if previously exists or creates a new one if no file exists with the same name. The file pointer exists at the beginning of the file.\n",
    "\n",
    "* wb---->It opens the file to write only in binary format. It overwrites the file if it exists previously or creates a new one if no file exists with the same name. The file pointer exists at the beginning of the file.\n",
    "\n",
    "* w+---->It opens the file to write and read both. It is different from r+ in the sense that it overwrites the previous file if one exists whereas r+ doesn't overwrite the previously written file. It creates a new file if no file exists. The file pointer exists at the beginning of the file.\n",
    "\n",
    "* wb+---->It opens the file to write and read both in binary format. The file pointer exists at the beginning of the file.\n",
    "\n",
    "* a---->It opens the file in the append mode. The file pointer exists at the end of the previously written file if exists any. It creates a new file if no file exists with the same name.\n",
    "\n",
    "* ab---->It opens the file in the append mode in binary format. The pointer exists at the end of the previously written file. It creates a new file in binary format if no file exists with the same name.\n",
    "\n",
    "* a+---->It opens a file to append and read both. The file pointer remains at the end of the file if a file exists. It creates a new file if no file exists with the same name.\n",
    "\n",
    "* ab+---->It opens a file to append and read both in binary format. The file pointer remains at the end of the file.\n",
    "\n",
    "* x----> creates a new file if not exists but set error if file exists.\n",
    "\n",
    "* "
   ]
  },
  {
   "cell_type": "code",
   "execution_count": 4,
   "metadata": {},
   "outputs": [
    {
     "name": "stdout",
     "output_type": "stream",
     "text": [
      "My name is Rahul kumar.\n",
      "I am from pondicherry.\n",
      "\n",
      "I enjoy the life.\n",
      "I want to serve my country."
     ]
    }
   ],
   "source": [
    "f = open(\"Data\\core_file_03.txt\", \"r\")\n",
    "for i in f:\n",
    "    print(i, end=\"\")\n",
    "f.close()"
   ]
  },
  {
   "cell_type": "code",
   "execution_count": 5,
   "metadata": {},
   "outputs": [
    {
     "name": "stdout",
     "output_type": "stream",
     "text": [
      "My name is Rahul kumar.\n",
      "I am from pondicherry.\n",
      "\n",
      "I enjoy the life.\n",
      "I want to serve my country."
     ]
    }
   ],
   "source": [
    "# file.readlines()-----> list of string of line\n",
    "\n",
    "file = open(\"Data\\core_file_03.txt\", \"r\")\n",
    "for i in file.readlines():\n",
    "    print(i, end=\"\")\n",
    "file.close()"
   ]
  },
  {
   "cell_type": "code",
   "execution_count": 8,
   "metadata": {},
   "outputs": [
    {
     "name": "stdout",
     "output_type": "stream",
     "text": [
      "My name is Rahul kumar.\n",
      "I am from pondicherry.\n",
      "\n",
      "I enjoy the life.\n",
      "I want to serve my country.\n"
     ]
    }
   ],
   "source": [
    "\"\"\"file.readline()-----> The readline method reads one line from the file \n",
    "and returns it as a string. The string returned by readline will contain the \n",
    "newline character at the end. This method returns the empty string when it \n",
    "reaches the end of the file.\"\"\"\n",
    "\n",
    "file = open(\"Data\\core_file_03.txt\", \"r\")\n",
    "while(True):\n",
    "    line = file.readline()\n",
    "    if not line:\n",
    "        break\n",
    "    print(line.strip())\n",
    "file.close()"
   ]
  },
  {
   "cell_type": "code",
   "execution_count": 10,
   "metadata": {},
   "outputs": [
    {
     "name": "stdout",
     "output_type": "stream",
     "text": [
      "My name is Rahul kumar.\n",
      "I am from pondicherry.\n",
      "\n",
      "I enjoy the life.\n",
      "I want to serve my country.\n"
     ]
    }
   ],
   "source": [
    "with open (\"Data\\core_file_03.txt\", \"r\") as file:\n",
    "    for line in file:\n",
    "        print(line.strip())"
   ]
  },
  {
   "cell_type": "code",
   "execution_count": 33,
   "metadata": {},
   "outputs": [
    {
     "name": "stdout",
     "output_type": "stream",
     "text": [
      "The filepointer is at byte :  93\n",
      "The filepointer is at byte :  60\n",
      "life.\n",
      "I want to serve my country.\n",
      "The filepointer is at byte :  93\n"
     ]
    }
   ],
   "source": [
    "# tell() and seek(noOfbytes, offset) offset is 0, 1, 2--->\n",
    "# 0--->start se   1---> current position se,    2----> last se\n",
    "\n",
    "file = open(\"Data\\core_file_03.txt\", \"r\")\n",
    "content = file.read()\n",
    "#print(content)\n",
    "print(\"The filepointer is at byte : \", file.tell())\n",
    "file.seek(60, 0)\n",
    "print(\"The filepointer is at byte : \", file.tell())\n",
    "print(file.read())\n",
    "print(\"The filepointer is at byte : \", file.tell())\n",
    "file.close()"
   ]
  },
  {
   "cell_type": "raw",
   "metadata": {},
   "source": [
    "File.next()---->It returns the next line from the file.\n",
    "\n",
    "File.read([size])---->It reads the file for the specified size.\n",
    "\n",
    "File.readline([size])---->It reads one line from the file and places the file pointer to the beginning of the new line.\n",
    "\n",
    "File.readlines([sizehint])---->It returns a list containing all the lines of the file. It reads the file until the EOF occurs using readline() function.\n",
    "\n",
    "File.seek(offset[,from)---->It modifies the position of the file pointer to a specified offset with the specified reference.\n",
    "\n",
    "File.tell()---->It returns the current position of the file pointer within the file.\n",
    "\n",
    "File.truncate([size])---->It truncates the file to the optional specified size.\n",
    "\n",
    "File.write(str)----->It writes the specified string to a file\n",
    "\n",
    "File.writelines(seq)----->It writes a sequence of the strings to a file.\n",
    "\n",
    "file.close()---->It closes the opened file. The file once closed, it can't be read or write any more.\n",
    "\n",
    "File.fush()---->It flushes the internal buffer."
   ]
  },
  {
   "cell_type": "code",
   "execution_count": null,
   "metadata": {},
   "outputs": [],
   "source": []
  },
  {
   "cell_type": "code",
   "execution_count": null,
   "metadata": {},
   "outputs": [],
   "source": []
  },
  {
   "cell_type": "code",
   "execution_count": null,
   "metadata": {},
   "outputs": [],
   "source": []
  },
  {
   "cell_type": "markdown",
   "metadata": {},
   "source": [
    "#### Regular Expression:------>"
   ]
  },
  {
   "cell_type": "code",
   "execution_count": null,
   "metadata": {},
   "outputs": [],
   "source": [
    "# sequence characters\n",
    "\n",
    "* \\d----->digit(0-9)\n",
    "* \\D-----> non digit\n",
    "* \\s-----> whitespace\n",
    "* \\S-----> nonwhitespace\n",
    "* \\w-----> alphanumeric value\n",
    "* \\W-----> non alphanumeric value\n",
    "* \\b-----> space around word\n",
    "* \\A-----> a matches only at the start of the string\n",
    "* \\Z-----> end of the string"
   ]
  },
  {
   "cell_type": "code",
   "execution_count": 46,
   "metadata": {},
   "outputs": [
    {
     "name": "stdout",
     "output_type": "stream",
     "text": [
      "ide\n"
     ]
    }
   ],
   "source": [
    "# search()\n",
    "\n",
    "import re\n",
    "string = \"Take up one idea.one idea at a time\"\n",
    "# starts with i and followed by any two alpha numeric characters \n",
    "result = re.search(r'i\\w\\w' , string)\n",
    "print(result.group())"
   ]
  },
  {
   "cell_type": "code",
   "execution_count": null,
   "metadata": {},
   "outputs": [],
   "source": []
  },
  {
   "cell_type": "code",
   "execution_count": null,
   "metadata": {},
   "outputs": [],
   "source": []
  },
  {
   "cell_type": "code",
   "execution_count": 55,
   "metadata": {},
   "outputs": [
    {
     "name": "stdout",
     "output_type": "stream",
     "text": [
      "['idea', 'idea']\n",
      "Take\n"
     ]
    }
   ],
   "source": [
    "# findall() and match()\n",
    "\n",
    "import re\n",
    "string = \"Take up one idea.one idea at a time\"\n",
    "result = re.findall(r'i\\w\\w\\w' , string)\n",
    "print(result)\n",
    "\n",
    "\n",
    "result = re.match(r'T\\w\\w\\w' , string)     #beg of string\n",
    "print(result.group())"
   ]
  },
  {
   "cell_type": "code",
   "execution_count": 56,
   "metadata": {},
   "outputs": [
    {
     "name": "stdout",
     "output_type": "stream",
     "text": [
      "['Take ', ' up one ', ' idea.one idea ', ' at a time']\n"
     ]
    }
   ],
   "source": [
    "# split()\n",
    "\n",
    "import re\n",
    "string = \"Take 1 up one 23 idea.one idea 45 at a time\"\n",
    "result = re.split(r'\\d+' , string)      # digit+====> any nuber of digits\n",
    "print(result)"
   ]
  },
  {
   "cell_type": "code",
   "execution_count": 57,
   "metadata": {},
   "outputs": [
    {
     "name": "stdout",
     "output_type": "stream",
     "text": [
      "Take 1 up two 23 idea.two idea 45 at a time\n"
     ]
    }
   ],
   "source": [
    "# substitute()\n",
    "\n",
    "import re\n",
    "string = \"Take 1 up one 23 idea.one idea 45 at a time\"\n",
    "result = re.sub(r'one', 'two', string)    \n",
    "print(result)"
   ]
  },
  {
   "cell_type": "code",
   "execution_count": null,
   "metadata": {},
   "outputs": [],
   "source": [
    "# Quantifiers--->\n",
    "\n",
    "\"+\"----> one or more repitation\n",
    "\"*\"----> 0 or more repitation\n",
    "\"?\"----> 0 or 1\n",
    "\"{m}\"----> exactly m occurances\n",
    "\"{m,n}\"----> min and max no. of occurances\n",
    "\"\""
   ]
  },
  {
   "cell_type": "code",
   "execution_count": 86,
   "metadata": {},
   "outputs": [
    {
     "name": "stdout",
     "output_type": "stream",
     "text": [
      "['oree', 'one', 'one', 'oter']\n",
      "['o', 'or', 'on', 'on', 'ot']\n",
      "['o', 'oree', 'one', 'one', 'oter']\n",
      "['oree', 'oter']\n",
      "['ore', 'one', 'one', 'ote']\n"
     ]
    }
   ],
   "source": [
    "#using quantifiers:--->\n",
    "import re\n",
    "string = \"o Takoree 1 up one 23 idea.one idea 45 at a time and oter\"\n",
    "result = re.findall(r'o\\w+', string)    \n",
    "print(result)\n",
    "\n",
    "result = re.findall(r'o\\w?', string)    \n",
    "print(result)\n",
    "\n",
    "result = re.findall(r'o\\w*', string)    \n",
    "print(result)\n",
    "\n",
    "result = re.findall(r'o\\w{3}', string)    \n",
    "print(result)\n",
    "\n",
    "result = re.findall(r'o\\w{1,2}', string)    # o ke bad min 1 and max 2\n",
    "print(result)"
   ]
  },
  {
   "cell_type": "code",
   "execution_count": 85,
   "metadata": {},
   "outputs": [
    {
     "name": "stdout",
     "output_type": "stream",
     "text": [
      "['1-2-2018', '12-11-2020']\n"
     ]
    }
   ],
   "source": [
    "# Matching dates:--->\n",
    "\n",
    "import re\n",
    "string = \"o Take 1 up one 23 idea. 1-2-2018 45 at a time and oter12-11-2020\"\n",
    "result = re.findall(r'\\d{1,2}-\\d{1,2}-\\d{4}', string)\n",
    "print(result)"
   ]
  },
  {
   "cell_type": "raw",
   "metadata": {},
   "source": [
    "# special characters\n",
    "\n",
    "\"\\\"-----> backword slash\n",
    "\".\"-----> matches any characters except a new line\n",
    "\"^\"-----> beg of the string\n",
    "\"$\"-----> end of the string\n",
    "\"[...]\"-----> range\n",
    "\"[^...]\"-----> exceopt the range\n",
    "\"(...)\"----->\n",
    "\"(R | S)\"----> multiple re"
   ]
  },
  {
   "cell_type": "code",
   "execution_count": 89,
   "metadata": {},
   "outputs": [
    {
     "name": "stdout",
     "output_type": "stream",
     "text": [
      "o\n"
     ]
    }
   ],
   "source": [
    "import re\n",
    "string = \"o Take 1 up one 23 idea. 1-2-2018 45 at a time and oter12-11-2020\"\n",
    "result = re.search(r'^o', string)\n",
    "print(result.group())"
   ]
  },
  {
   "cell_type": "code",
   "execution_count": null,
   "metadata": {},
   "outputs": [],
   "source": []
  },
  {
   "cell_type": "code",
   "execution_count": null,
   "metadata": {},
   "outputs": [],
   "source": []
  },
  {
   "cell_type": "code",
   "execution_count": null,
   "metadata": {},
   "outputs": [],
   "source": []
  },
  {
   "cell_type": "code",
   "execution_count": null,
   "metadata": {},
   "outputs": [],
   "source": []
  },
  {
   "cell_type": "code",
   "execution_count": null,
   "metadata": {},
   "outputs": [],
   "source": []
  },
  {
   "cell_type": "code",
   "execution_count": null,
   "metadata": {},
   "outputs": [],
   "source": []
  },
  {
   "cell_type": "code",
   "execution_count": null,
   "metadata": {},
   "outputs": [],
   "source": []
  },
  {
   "cell_type": "code",
   "execution_count": null,
   "metadata": {},
   "outputs": [],
   "source": []
  },
  {
   "cell_type": "code",
   "execution_count": null,
   "metadata": {},
   "outputs": [],
   "source": []
  },
  {
   "cell_type": "code",
   "execution_count": null,
   "metadata": {},
   "outputs": [],
   "source": []
  },
  {
   "cell_type": "markdown",
   "metadata": {},
   "source": [
    "#### Date & Time:------->"
   ]
  },
  {
   "cell_type": "markdown",
   "metadata": {},
   "source": [
    "epoch---> 01-01-1970"
   ]
  },
  {
   "cell_type": "code",
   "execution_count": 94,
   "metadata": {},
   "outputs": [
    {
     "name": "stdout",
     "output_type": "stream",
     "text": [
      "1581737859.5977373\n",
      "Sat Feb 15 09:07:39 2020\n"
     ]
    }
   ],
   "source": [
    "import time\n",
    "epochseconds = time.time()\n",
    "print(epochseconds)\n",
    "\n",
    "t = time.ctime(epochseconds)\n",
    "print(t)"
   ]
  },
  {
   "cell_type": "code",
   "execution_count": 99,
   "metadata": {},
   "outputs": [
    {
     "name": "stdout",
     "output_type": "stream",
     "text": [
      "2020-02-15 09:09:58.133921\n",
      "15 2 2020 9 9 58\n"
     ]
    }
   ],
   "source": [
    "import time, datetime\n",
    "dt = datetime.datetime.today()\n",
    "print(dt)\n",
    "print(dt.day, dt.month, dt.year, dt.hour, dt.minute, dt.second)"
   ]
  },
  {
   "cell_type": "code",
   "execution_count": 103,
   "metadata": {},
   "outputs": [
    {
     "name": "stdout",
     "output_type": "stream",
     "text": [
      "2018-07-21 12:45:28\n"
     ]
    }
   ],
   "source": [
    "from datetime import *\n",
    "\n",
    "d = date(2018, 7, 21)\n",
    "t = time(12, 45, 28)\n",
    "dt = datetime.combine(d, t)\n",
    "print(dt)"
   ]
  },
  {
   "cell_type": "code",
   "execution_count": 110,
   "metadata": {},
   "outputs": [
    {
     "name": "stdout",
     "output_type": "stream",
     "text": [
      "[datetime.date(1988, 12, 25), datetime.date(2005, 8, 4), datetime.date(2016, 7, 31), datetime.date(2020, 2, 29)]\n",
      "1988-12-25\n",
      "2005-08-04\n",
      "2016-07-31\n",
      "2020-02-29\n"
     ]
    }
   ],
   "source": [
    "# sorting dates:--->\n",
    "\n",
    "from datetime import *\n",
    "ldates = []\n",
    "\n",
    "d1 = date(2016, 7, 31)\n",
    "d2 = date(2005, 8, 4)\n",
    "d3 = date(1988, 12, 25)\n",
    "d4 = date(2020, 2, 29)\n",
    "\n",
    "ldates += [d1, d2, d3, d4]\n",
    "print(ldate)\n",
    "\n",
    "ldates.sort()\n",
    "for i in ldates:\n",
    "    print(i)"
   ]
  },
  {
   "cell_type": "code",
   "execution_count": 114,
   "metadata": {},
   "outputs": [
    {
     "name": "stdout",
     "output_type": "stream",
     "text": [
      "0.11700299999999686\n"
     ]
    }
   ],
   "source": [
    "# knowing the execution of the program\n",
    "\n",
    "import time\n",
    "starttime = time.perf_counter()\n",
    "sum = 0\n",
    "for i in range(1000000):\n",
    "    sum += i\n",
    "\n",
    "endtime = time.perf_counter()\n",
    "executiontime = endtime-starttime\n",
    "print(executiontime)"
   ]
  },
  {
   "cell_type": "code",
   "execution_count": null,
   "metadata": {},
   "outputs": [],
   "source": []
  },
  {
   "cell_type": "code",
   "execution_count": null,
   "metadata": {},
   "outputs": [],
   "source": []
  },
  {
   "cell_type": "code",
   "execution_count": null,
   "metadata": {},
   "outputs": [],
   "source": []
  },
  {
   "cell_type": "markdown",
   "metadata": {},
   "source": [
    "## Data Structures:---------------------->"
   ]
  },
  {
   "cell_type": "markdown",
   "metadata": {},
   "source": [
    "#### Algorithm Analysis and Big O"
   ]
  },
  {
   "cell_type": "code",
   "execution_count": 8,
   "metadata": {},
   "outputs": [],
   "source": [
    "##### "
   ]
  },
  {
   "cell_type": "markdown",
   "metadata": {},
   "source": [
    "* *How do analyze algorithms and how can we compare algorithms against each other? **"
   ]
  },
  {
   "cell_type": "code",
   "execution_count": 2,
   "metadata": {},
   "outputs": [],
   "source": [
    "# First function \n",
    "def sum1(n):\n",
    "    '''\n",
    "    Take an input of n and return the sum of the numbers from 0 to n\n",
    "    '''\n",
    "    final_sum = 0\n",
    "    for x in range(n+1): \n",
    "        final_sum += x\n",
    "    \n",
    "    return final_sum"
   ]
  },
  {
   "cell_type": "code",
   "execution_count": 3,
   "metadata": {},
   "outputs": [
    {
     "data": {
      "text/plain": [
       "5050"
      ]
     },
     "execution_count": 3,
     "metadata": {},
     "output_type": "execute_result"
    }
   ],
   "source": [
    "sum1(100)"
   ]
  },
  {
   "cell_type": "code",
   "execution_count": 4,
   "metadata": {},
   "outputs": [],
   "source": [
    "def sum2(n):\n",
    "    \"\"\"\n",
    "    Take an input of n and return the sum of the numbers from 0 to n\n",
    "    \"\"\"\n",
    "    return (n*(n+1))/2"
   ]
  },
  {
   "cell_type": "code",
   "execution_count": 5,
   "metadata": {},
   "outputs": [
    {
     "data": {
      "text/plain": [
       "5050.0"
      ]
     },
     "execution_count": 5,
     "metadata": {},
     "output_type": "execute_result"
    }
   ],
   "source": [
    "sum2(100)"
   ]
  },
  {
   "cell_type": "markdown",
   "metadata": {},
   "source": [
    " We can use the built in %timeit magic function in jupyter to compare the time of the functions. The %timeit magic in Jupyter Notebooks will repeat the loop iteration a certain number of times and take the best result."
   ]
  },
  {
   "cell_type": "code",
   "execution_count": 6,
   "metadata": {},
   "outputs": [
    {
     "name": "stdout",
     "output_type": "stream",
     "text": [
      "10.9 ms ± 2.09 ms per loop (mean ± std. dev. of 7 runs, 100 loops each)\n"
     ]
    }
   ],
   "source": [
    "%timeit sum1(100000)"
   ]
  },
  {
   "cell_type": "code",
   "execution_count": 7,
   "metadata": {},
   "outputs": [
    {
     "name": "stdout",
     "output_type": "stream",
     "text": [
      "476 ns ± 105 ns per loop (mean ± std. dev. of 7 runs, 1000000 loops each)\n"
     ]
    }
   ],
   "source": [
    "%timeit sum2(100000)"
   ]
  },
  {
   "cell_type": "markdown",
   "metadata": {},
   "source": [
    "However, we can not use \"time to run\" as an objective measurement, because that will depend on the speed of the computer itself and hardware capabilities. So we will need to use another method, Big-O!"
   ]
  },
  {
   "cell_type": "markdown",
   "metadata": {},
   "source": [
    "##### Big O notation and Example:---->"
   ]
  },
  {
   "cell_type": "code",
   "execution_count": null,
   "metadata": {},
   "outputs": [],
   "source": []
  },
  {
   "cell_type": "code",
   "execution_count": null,
   "metadata": {},
   "outputs": [],
   "source": []
  },
  {
   "cell_type": "markdown",
   "metadata": {},
   "source": [
    "######  Runtime of comman big O functions:\n",
    "\n",
    "<table>\n",
    "<tr>\n",
    "    <th><strong>Big-O</strong></th>\n",
    "    <th><strong>Name</strong></th>\n",
    "</tr>\n",
    "<tr>\n",
    "    <td>1</td>\n",
    "    <td>Constant</td>\n",
    "</tr>\n",
    "<tr>\n",
    "    <td>log(n)</td>\n",
    "    <td>Logarithmic</td>\n",
    "</tr>\n",
    "    <tr><td>n</td>\n",
    "    <td>Linear</td>\n",
    "</tr>\n",
    "    <tr><td>nlog(n)</td>\n",
    "    <td>Log Linear</td>\n",
    "</tr>\n",
    "    <tr><td>n^2</td>\n",
    "    <td>Quadratic</td>\n",
    "</tr>\n",
    "    <tr><td>n^3</td>\n",
    "    <td>Cubic</td>\n",
    "</tr>\n",
    "    <tr><td>2^n</td>\n",
    "    <td>Exponential</td>\n",
    "</tr>\n",
    "</table>"
   ]
  },
  {
   "cell_type": "markdown",
   "metadata": {},
   "source": [
    "Now let's plot the runtime versus the Big-O to compare the runtimes. We'll use a simple [matplotlib](http://matplotlib.org/) for the plot below. (Don't be concerned with how to use matplotlib, that is irrelevant for this part)."
   ]
  },
  {
   "cell_type": "code",
   "execution_count": 9,
   "metadata": {},
   "outputs": [
    {
     "data": {
      "text/plain": [
       "Text(0.5, 0, 'n')"
      ]
     },
     "execution_count": 9,
     "metadata": {},
     "output_type": "execute_result"
    },
    {
     "data": {
      "image/png": "[encoded data removed]",
      "text/plain": [
       "<Figure size 864x720 with 1 Axes>"
      ]
     },
     "metadata": {
      "needs_background": "light"
     },
     "output_type": "display_data"
    }
   ],
   "source": [
    "from math import log\n",
    "import numpy as np\n",
    "import matplotlib.pyplot as plt\n",
    "%matplotlib inline\n",
    "plt.style.use('bmh')\n",
    "\n",
    "# Set up runtime comparisons\n",
    "n = np.linspace(1,10,1000)\n",
    "labels = ['Constant','Logarithmic','Linear','Log Linear','Quadratic','Cubic','Exponential']\n",
    "big_o = [np.ones(n.shape),np.log(n),n,n*np.log(n),n**2,n**3,2**n]\n",
    "\n",
    "# Plot setup\n",
    "plt.figure(figsize=(12,10))\n",
    "plt.ylim(0,50)\n",
    "\n",
    "for i in range(len(big_o)):\n",
    "    plt.plot(n,big_o[i],label = labels[i])\n",
    "\n",
    "\n",
    "plt.legend(loc=0)\n",
    "plt.ylabel('Relative Runtime')\n",
    "plt.xlabel('n')"
   ]
  },
  {
   "cell_type": "code",
   "execution_count": null,
   "metadata": {},
   "outputs": [],
   "source": []
  },
  {
   "cell_type": "markdown",
   "metadata": {},
   "source": [
    "###### O(1) constant:"
   ]
  },
  {
   "cell_type": "code",
   "execution_count": 11,
   "metadata": {},
   "outputs": [
    {
     "name": "stdout",
     "output_type": "stream",
     "text": [
      "1\n"
     ]
    }
   ],
   "source": [
    "def func_constant(values):\n",
    "    #Prints first item in a list of values.\n",
    "    print(values[0])\n",
    "    \n",
    "func_constant([1,2,3])"
   ]
  },
  {
   "cell_type": "markdown",
   "metadata": {},
   "source": [
    "###### O(n) linear:"
   ]
  },
  {
   "cell_type": "code",
   "execution_count": 14,
   "metadata": {},
   "outputs": [
    {
     "name": "stdout",
     "output_type": "stream",
     "text": [
      "1\n",
      "2\n",
      "3\n"
     ]
    }
   ],
   "source": [
    "def func_lin(lst):\n",
    "    #Takes in list and prints out all values\n",
    "    for val in lst:\n",
    "        print(val)\n",
    "        \n",
    "func_lin([1,2,3])"
   ]
  },
  {
   "cell_type": "markdown",
   "metadata": {},
   "source": [
    "###### O(n**2) Quadratic:"
   ]
  },
  {
   "cell_type": "code",
   "execution_count": 16,
   "metadata": {},
   "outputs": [
    {
     "name": "stdout",
     "output_type": "stream",
     "text": [
      "0 0\n",
      "0 1\n",
      "0 2\n",
      "0 3\n",
      "1 0\n",
      "1 1\n",
      "1 2\n",
      "1 3\n",
      "2 0\n",
      "2 1\n",
      "2 2\n",
      "2 3\n",
      "3 0\n",
      "3 1\n",
      "3 2\n",
      "3 3\n"
     ]
    }
   ],
   "source": [
    "def func_quad(lst):\n",
    "    #Prints pairs for every item in list.\n",
    "    for item_1 in lst:\n",
    "        for item_2 in lst:\n",
    "            print(item_1,item_2)\n",
    "            \n",
    "lst = [0, 1, 2, 3]\n",
    "\n",
    "func_quad(lst)"
   ]
  },
  {
   "cell_type": "code",
   "execution_count": null,
   "metadata": {},
   "outputs": [],
   "source": []
  },
  {
   "cell_type": "markdown",
   "metadata": {},
   "source": [
    "______\n",
    "###### Calculating Scale of Big-O\n",
    "\n",
    "In this section we will discuss how insignificant terms drop out of Big-O notation.\n",
    "\n",
    "When it comes to Big O notation we only care about the most significant terms, remember as the input grows larger only the fastest growing terms will matter. If you've taken a calculus class before, this will reminf you of taking limits towards infinity. Let's see an example of how to drop constants:"
   ]
  },
  {
   "cell_type": "code",
   "execution_count": 18,
   "metadata": {},
   "outputs": [],
   "source": [
    "# O(3n) -----> O(n)\n",
    "def print_3(lst): \n",
    "    '''\n",
    "    Prints all items three times\n",
    "    '''\n",
    "    for val in lst:\n",
    "        print (val)\n",
    "        \n",
    "    for val in lst:\n",
    "        print (val)\n",
    "        \n",
    "    for val in lst:\n",
    "        print (val)"
   ]
  },
  {
   "cell_type": "markdown",
   "metadata": {},
   "source": [
    "We can see that the first function will print O(n) items and the second will print O(3n) items. However for n going to inifinity the constant can be dropped, since it will not have a large effect, so both functions are O(n).\n",
    "\n",
    "Let's see a more complex example of this:"
   ]
  },
  {
   "cell_type": "code",
   "execution_count": 19,
   "metadata": {},
   "outputs": [],
   "source": [
    "def comp(lst):\n",
    "    '''\n",
    "    This function prints the first item O(1)\n",
    "    Then is prints the first 1/2 of the list O(n/2)\n",
    "    Then prints a string 10 times O(10)\n",
    "    '''\n",
    "    print (lst[0])\n",
    "    \n",
    "    midpoint = len(lst)//2\n",
    "    \n",
    "    for val in lst[:midpoint]:\n",
    "        print( val)\n",
    "        \n",
    "    for x in range(10):\n",
    "        print ('number')"
   ]
  },
  {
   "cell_type": "code",
   "execution_count": 20,
   "metadata": {},
   "outputs": [
    {
     "name": "stdout",
     "output_type": "stream",
     "text": [
      "1\n",
      "1\n",
      "2\n",
      "3\n",
      "4\n",
      "5\n",
      "number\n",
      "number\n",
      "number\n",
      "number\n",
      "number\n",
      "number\n",
      "number\n",
      "number\n",
      "number\n",
      "number\n"
     ]
    }
   ],
   "source": [
    "lst = [1,2,3,4,5,6,7,8,9,10]\n",
    "\n",
    "comp(lst)"
   ]
  },
  {
   "cell_type": "markdown",
   "metadata": {},
   "source": [
    "So let's break down the operations here. We can combine each operation to get the total Big-O of the function:\n",
    "\n",
    "$$O(1 + n/2 + 10)$$\n",
    "\n",
    "We can see that as n grows larger the 1 and 10 terms become insignificant and the 1/2 term multiplied against n will also not have much of an effect as n goes towards infinity. This means the function is simply O(n)!"
   ]
  },
  {
   "cell_type": "markdown",
   "metadata": {},
   "source": [
    "###### Worst Case vs Best Case\n",
    "\n",
    "Many times we are only concerned with the worst possible case of an algorithm, but in an interview setting its important to keep in mind that worst case and best case scenarios may be completely different Big-O times. For example, consider the following function:"
   ]
  },
  {
   "cell_type": "code",
   "execution_count": 22,
   "metadata": {},
   "outputs": [],
   "source": [
    "def matcher(lst,match):\n",
    "    '''\n",
    "    Given a list lst, return a boolean indicating if match item is in the list\n",
    "    '''\n",
    "    for item in lst:\n",
    "        if item == match:\n",
    "            return True\n",
    "    return False"
   ]
  },
  {
   "cell_type": "code",
   "execution_count": 23,
   "metadata": {},
   "outputs": [
    {
     "data": {
      "text/plain": [
       "[1, 2, 3, 4, 5, 6, 7, 8, 9, 10]"
      ]
     },
     "execution_count": 23,
     "metadata": {},
     "output_type": "execute_result"
    }
   ],
   "source": [
    "lst"
   ]
  },
  {
   "cell_type": "code",
   "execution_count": 24,
   "metadata": {},
   "outputs": [
    {
     "data": {
      "text/plain": [
       "True"
      ]
     },
     "execution_count": 24,
     "metadata": {},
     "output_type": "execute_result"
    }
   ],
   "source": [
    "matcher(lst,1)"
   ]
  },
  {
   "cell_type": "code",
   "execution_count": 25,
   "metadata": {},
   "outputs": [
    {
     "data": {
      "text/plain": [
       "False"
      ]
     },
     "execution_count": 25,
     "metadata": {},
     "output_type": "execute_result"
    }
   ],
   "source": [
    "matcher(lst,11)"
   ]
  },
  {
   "cell_type": "markdown",
   "metadata": {},
   "source": [
    "Note that in the first scenario, the best case was actually O(1), since the match was found at the first element. In the case where there is no match, every element must be checked, this results in a worst case time of O(n). Later on we will also discuss average case time.\n",
    "\n",
    "Finally let's introduce the concept of space complexity.\n",
    "\n",
    "###### Space Complexity\n",
    "\n",
    "Many times we are also concerned with how much memory/space an algorithm uses. The notation of space complexity is the same, but instead of checking the time of operations, we check the size of the allocation of memory.\n",
    "\n",
    "Let's see a few examples:"
   ]
  },
  {
   "cell_type": "code",
   "execution_count": 30,
   "metadata": {},
   "outputs": [
    {
     "name": "stdout",
     "output_type": "stream",
     "text": [
      "Hello World!\n",
      "Hello World!\n",
      "Hello World!\n",
      "Hello World!\n",
      "Hello World!\n"
     ]
    }
   ],
   "source": [
    "def printer(n=10):\n",
    "    '''\n",
    "    Prints \"hello world!\" n times\n",
    "    '''\n",
    "    for x in range(n):\n",
    "        print ('Hello World!')\n",
    "        \n",
    "printer(5)"
   ]
  },
  {
   "cell_type": "markdown",
   "metadata": {},
   "source": [
    "Note how we only assign the 'hello world!' variable once, not every time we print. So the algorithm has O(1) space complexity and an O(n) time complexity.\n",
    "\n",
    "Let's see an example of O(n) space complexity:"
   ]
  },
  {
   "cell_type": "code",
   "execution_count": 26,
   "metadata": {},
   "outputs": [],
   "source": [
    "def create_list(n):\n",
    "    new_list = []\n",
    "    \n",
    "    for num in range(n):\n",
    "        new_list.append('new')\n",
    "    \n",
    "    return new_list"
   ]
  },
  {
   "cell_type": "code",
   "execution_count": 28,
   "metadata": {},
   "outputs": [
    {
     "name": "stdout",
     "output_type": "stream",
     "text": [
      "['new', 'new', 'new', 'new', 'new']\n"
     ]
    }
   ],
   "source": [
    "print (create_list(5))"
   ]
  },
  {
   "cell_type": "markdown",
   "metadata": {},
   "source": [
    "Note how the size of the new_list object scales with the input **n**, this shows that it is an O(n) algorithm with regards to **space** complexity."
   ]
  },
  {
   "cell_type": "code",
   "execution_count": null,
   "metadata": {},
   "outputs": [],
   "source": []
  },
  {
   "cell_type": "markdown",
   "metadata": {},
   "source": [
    "###### Table of Big-O for common list operations\n",
    "\n",
    "** Please note, in order to see this table, you may need to download this .ipynb file and view it locally, sometimes GitHub or nbveiwer have trouble showing the HTML for it... **"
   ]
  },
  {
   "cell_type": "markdown",
   "metadata": {},
   "source": [
    "<table>\n",
    "<tr>\n",
    "    <th><strong>Operation </strong></th>\n",
    "    <th><strong>Big-O Efficiency</strong></th>\n",
    "</tr>\n",
    "<tr>\n",
    "    <td>index []</td>\n",
    "    <td>O(1)</td>\n",
    "</tr>\n",
    "<tr>\n",
    "    <td>index assignment</td>\n",
    "    <td>O(1)</td>\n",
    "</tr>\n",
    "<tr>\n",
    "    <td>append</td>\n",
    "    <td>O(1)</td>\n",
    "</tr>\n",
    "<tr>\n",
    "    <td>pop()</td>\n",
    "    <td>O(1)</td>\n",
    "</tr>\n",
    "<tr>\n",
    "    <td>pop(i)</td>\n",
    "        <td>O(n)</td>\n",
    "</tr>\n",
    "<tr>\n",
    "    <td>insert(i,item)</td>\n",
    "        <td>O(n)</td>\n",
    "</tr>\n",
    "<tr>\n",
    "    <td>del operator</td>\n",
    "        <td>O(n)</td>\n",
    "</tr>\n",
    "<tr>\n",
    "    <td>iteration</td>\n",
    "        <td>O(n)</td>\n",
    "</tr>\n",
    "<tr>\n",
    "    <td>contains (in)</td>\n",
    "        <td>O(n)</td>\n",
    "</tr>\n",
    "<tr>\n",
    "    <td>get slice [x:y]</td>\n",
    "        <td>O(k)</td>\n",
    "</tr>\n",
    "<tr>\n",
    "    <td>del slice</td>\n",
    "        <td>O(n)</td>\n",
    "</tr>\n",
    "<tr>\n",
    "    <td>set slice</td>\n",
    "        <td>O(n+k)</td>\n",
    "</tr>\n",
    "<tr>\n",
    "    <td>reverse</td>\n",
    "        <td>O(n)</td>\n",
    "</tr>\n",
    "<tr>\n",
    "    <td>concatenate</td>\n",
    "        <td>O(k)</td>\n",
    "</tr>\n",
    "<tr>\n",
    "    <td>sort</td>\n",
    "        <td>O(n log n)</td>\n",
    "</tr>\n",
    "<tr>\n",
    "    <td>multiply</td>\n",
    "        <td>O(nk)</td>\n",
    "</tr>\n",
    "</table>"
   ]
  },
  {
   "cell_type": "code",
   "execution_count": null,
   "metadata": {},
   "outputs": [],
   "source": []
  },
  {
   "cell_type": "markdown",
   "metadata": {},
   "source": [
    "###### Dictionaries:\n",
    "\n",
    "Something that is pretty amazing is that getting and setting items in a dictionary are O(1)! Hash tables are designed with efficiency in mind, and we will explore them in much more detail later on in the course as one of the most important data structures to undestand. In the meantime, refer to the table below for Big-O efficiencies of common dictionary operations:\n",
    "\n",
    "<table border=\"1\">\n",
    "<thead valign=\"bottom\">\n",
    "<tr class=\"row-odd\"><th class=\"head\">Operation</th>\n",
    "<th class=\"head\">Big-O Efficiency</th>\n",
    "</tr>\n",
    "</thead>\n",
    "<tbody valign=\"top\">\n",
    "<tr class=\"row-even\"><td>copy</td>\n",
    "<td>O(n)</td>\n",
    "</tr>\n",
    "<tr class=\"row-odd\"><td>get item</td>\n",
    "<td>O(1)</td>\n",
    "</tr>\n",
    "<tr class=\"row-even\"><td>set item</td>\n",
    "<td>O(1)</td>\n",
    "</tr>\n",
    "<tr class=\"row-odd\"><td>delete item</td>\n",
    "<td>O(1)</td>\n",
    "</tr>\n",
    "<tr class=\"row-even\"><td>contains (in)</td>\n",
    "<td>O(1)</td>\n",
    "</tr>\n",
    "<tr class=\"row-odd\"><td>iteration</td>\n",
    "<td>O(n)</td>\n",
    "</tr>\n",
    "</tbody>\n",
    "</table>"
   ]
  },
  {
   "cell_type": "markdown",
   "metadata": {},
   "source": [
    "### Array Sequences:---->"
   ]
  },
  {
   "cell_type": "code",
   "execution_count": 34,
   "metadata": {},
   "outputs": [
    {
     "name": "stdout",
     "output_type": "stream",
     "text": [
      "Length:   0; Size in bytes:   64 \n",
      "Length:   1; Size in bytes:   96 \n",
      "Length:   2; Size in bytes:   96 \n",
      "Length:   3; Size in bytes:   96 \n",
      "Length:   4; Size in bytes:   96 \n",
      "Length:   5; Size in bytes:  128 \n",
      "Length:   6; Size in bytes:  128 \n",
      "Length:   7; Size in bytes:  128 \n",
      "Length:   8; Size in bytes:  128 \n",
      "Length:   9; Size in bytes:  192 \n"
     ]
    }
   ],
   "source": [
    "# Dynamic Array:\n",
    "\n",
    "import sys\n",
    "\n",
    "n = 10\n",
    "data = []\n",
    "\n",
    "for i in range(n):\n",
    "    a = len(data)\n",
    "    b = sys.getsizeof(data)\n",
    "    print('Length: {0:3d}; Size in bytes: {1:4d} '.format(a, b))\n",
    "    \n",
    "    data.append(n)"
   ]
  },
  {
   "cell_type": "markdown",
   "metadata": {},
   "source": [
    "###### Dynamic array implementation:"
   ]
  },
  {
   "cell_type": "code",
   "execution_count": 76,
   "metadata": {},
   "outputs": [],
   "source": [
    "# Dynamic array implementation:\n",
    "\n",
    "import ctypes\n",
    "\n",
    "class DynamicArray(object):\n",
    "    '''\n",
    "    DYNAMIC ARRAY CLASS (Similar to Python List)\n",
    "    '''\n",
    "    \n",
    "    def __init__(self):\n",
    "        self.n = 0                   # Count actual elements (Default is 0)\n",
    "        self.capacity = 1                         # Default Capacity\n",
    "        self.A = self.make_array(self.capacity)\n",
    "        \n",
    "    def __len__(self):\n",
    "        \"\"\"\n",
    "        Return number of elements sorted in array\n",
    "        \"\"\"\n",
    "        return (self.n)\n",
    "    \n",
    "    def __getitem__(self,k):\n",
    "        \"\"\"\n",
    "        Return element at index k\n",
    "        \"\"\"\n",
    "        if not(0 <= k < self.n):       # Check it k index is in bounds of array\n",
    "            return (IndexError('K is out of bounds!')) \n",
    "        return self.A[k]                #Retrieve from array at index k\n",
    "        \n",
    "    def append(self, ele):\n",
    "        \"\"\"\n",
    "        Add element to end of the array\n",
    "        \"\"\"\n",
    "        if (self.n == self.capacity):\n",
    "            self._resize(2 * self.capacity) #Double capacity if not enough room\n",
    "        \n",
    "        self.A[self.n] = ele      #Set self.n index to element\n",
    "        self.n += 1\n",
    "        \n",
    "    def _resize(self,new_cap):\n",
    "        \"\"\"\n",
    "        Resize internal array to capacity new_cap\n",
    "        \"\"\"\n",
    "        \n",
    "        B = self.make_array(new_cap) # New bigger array\n",
    "        \n",
    "        for k in range(self.n): # Reference all existing values\n",
    "            B[k] = self.A[k]\n",
    "            \n",
    "        self.A = B # Call A the new bigger array\n",
    "        self.capacity = new_cap # Reset the capacity\n",
    "        \n",
    "    def make_array(self,new_cap):\n",
    "        \"\"\"\n",
    "        Returns a new array with new_cap capacity\n",
    "        \"\"\"\n",
    "        return (new_cap * ctypes.py_object)()"
   ]
  },
  {
   "cell_type": "code",
   "execution_count": 77,
   "metadata": {},
   "outputs": [],
   "source": [
    "# Instantiate\n",
    "arr = DynamicArray()"
   ]
  },
  {
   "cell_type": "code",
   "execution_count": 78,
   "metadata": {},
   "outputs": [],
   "source": [
    "# Append new element\n",
    "arr.append(1)"
   ]
  },
  {
   "cell_type": "code",
   "execution_count": 79,
   "metadata": {},
   "outputs": [
    {
     "data": {
      "text/plain": [
       "1"
      ]
     },
     "execution_count": 79,
     "metadata": {},
     "output_type": "execute_result"
    }
   ],
   "source": [
    "# Check length\n",
    "len(arr)"
   ]
  },
  {
   "cell_type": "code",
   "execution_count": 80,
   "metadata": {},
   "outputs": [],
   "source": [
    "# Append new element\n",
    "arr.append(2)"
   ]
  },
  {
   "cell_type": "code",
   "execution_count": 81,
   "metadata": {},
   "outputs": [
    {
     "data": {
      "text/plain": [
       "2"
      ]
     },
     "execution_count": 81,
     "metadata": {},
     "output_type": "execute_result"
    }
   ],
   "source": [
    "# Check length\n",
    "len(arr)"
   ]
  },
  {
   "cell_type": "code",
   "execution_count": 82,
   "metadata": {},
   "outputs": [
    {
     "data": {
      "text/plain": [
       "1"
      ]
     },
     "execution_count": 82,
     "metadata": {},
     "output_type": "execute_result"
    }
   ],
   "source": [
    "# Index\n",
    "arr[0]"
   ]
  },
  {
   "cell_type": "code",
   "execution_count": 83,
   "metadata": {},
   "outputs": [
    {
     "data": {
      "text/plain": [
       "2"
      ]
     },
     "execution_count": 83,
     "metadata": {},
     "output_type": "execute_result"
    }
   ],
   "source": [
    "arr[1]"
   ]
  },
  {
   "cell_type": "code",
   "execution_count": 84,
   "metadata": {},
   "outputs": [
    {
     "data": {
      "text/plain": [
       "IndexError('K is out of bounds!')"
      ]
     },
     "execution_count": 84,
     "metadata": {},
     "output_type": "execute_result"
    }
   ],
   "source": [
    "arr[2]"
   ]
  },
  {
   "cell_type": "code",
   "execution_count": null,
   "metadata": {},
   "outputs": [],
   "source": []
  },
  {
   "cell_type": "markdown",
   "metadata": {},
   "source": [
    "###### Amortization:---->"
   ]
  },
  {
   "cell_type": "code",
   "execution_count": null,
   "metadata": {},
   "outputs": [],
   "source": []
  },
  {
   "cell_type": "code",
   "execution_count": null,
   "metadata": {},
   "outputs": [],
   "source": []
  },
  {
   "cell_type": "markdown",
   "metadata": {},
   "source": [
    "###### Interview problem 1: Array pair sum problem:---->"
   ]
  },
  {
   "cell_type": "code",
   "execution_count": 5,
   "metadata": {},
   "outputs": [],
   "source": [
    "\"\"\"\n",
    "problem:---> Given an integer array, output all the unique pairs that sum up\n",
    "to  a specific value k.\n",
    "\n",
    "par_sum([ 1, 3, 2, 2 ], 4)----> (1,3), (2,2)\n",
    "\"\"\" \n",
    "\n",
    "# Solution:---->\n",
    "\n",
    "def pair_sum(arr, k):\n",
    "    \n",
    "    if(len(arr) < 2):\n",
    "        return\n",
    "    \n",
    "    # set for tracking\n",
    "    seen = set()\n",
    "    output = set()\n",
    "    \n",
    "    for num in arr:\n",
    "        target = k - num\n",
    "        if(target not in seen):\n",
    "            seen.add(num)\n",
    "        else:\n",
    "            output.add( (min(num, target) , max(num, target)) )\n",
    "        print(seen)\n",
    "        print(output)\n",
    "            \n",
    "    #return (len(output))\n",
    "    print ('\\n'.join(map(str, list(output))))"
   ]
  },
  {
   "cell_type": "code",
   "execution_count": 6,
   "metadata": {},
   "outputs": [
    {
     "name": "stdout",
     "output_type": "stream",
     "text": [
      "{1}\n",
      "set()\n",
      "{1, 2}\n",
      "set()\n",
      "{1, 2}\n",
      "{(2, 2)}\n",
      "{1, 2}\n",
      "{(1, 3), (2, 2)}\n",
      "(1, 3)\n",
      "(2, 2)\n"
     ]
    }
   ],
   "source": [
    "pair_sum([1,2,2,3], 4)"
   ]
  },
  {
   "cell_type": "code",
   "execution_count": 7,
   "metadata": {},
   "outputs": [
    {
     "name": "stdout",
     "output_type": "stream",
     "text": [
      "{0}\n",
      "set()\n",
      "{0, 1}\n",
      "set()\n",
      "{0, 1, 2}\n",
      "set()\n",
      "{0, 1, 2, 3}\n",
      "set()\n",
      "{0, 1, 2, 3}\n",
      "{(3, 4)}\n",
      "{0, 1, 2, 3}\n",
      "{(2, 5), (3, 4)}\n",
      "{0, 1, 2, 3}\n",
      "{(1, 6), (2, 5), (3, 4)}\n",
      "{0, 1, 2, 3}\n",
      "{(0, 7), (1, 6), (2, 5), (3, 4)}\n",
      "{0, 1, 2, 3, 8}\n",
      "{(0, 7), (1, 6), (2, 5), (3, 4)}\n",
      "{0, 1, 2, 3, 8, 9}\n",
      "{(0, 7), (1, 6), (2, 5), (3, 4)}\n",
      "(0, 7)\n",
      "(1, 6)\n",
      "(2, 5)\n",
      "(3, 4)\n"
     ]
    }
   ],
   "source": [
    "pair_sum([0,1,2,3,4,5,6,7,8,9], 7)"
   ]
  },
  {
   "cell_type": "markdown",
   "metadata": {},
   "source": [
    "###### Interview problem 2: Find the missing element:---->"
   ]
  },
  {
   "cell_type": "code",
   "execution_count": 112,
   "metadata": {},
   "outputs": [],
   "source": [
    "\"\"\"\n",
    "finder([1,2,3,4,5,6], [4,2,6,1,3])------>5\n",
    "\"\"\"\n",
    "\n",
    "import collections\n",
    "\n",
    "def finder(arr1, arr2):\n",
    "    \n",
    "    d = collections.defaultdict(int)\n",
    "    for num in arr2:\n",
    "        d[num] += 1\n",
    "        \n",
    "    for num in arr1:\n",
    "        if(d[num] == 0):\n",
    "            return(num)\n",
    "        else:\n",
    "            d[num] -= 1\n",
    "            "
   ]
  },
  {
   "cell_type": "code",
   "execution_count": 113,
   "metadata": {},
   "outputs": [
    {
     "data": {
      "text/plain": [
       "5"
      ]
     },
     "execution_count": 113,
     "metadata": {},
     "output_type": "execute_result"
    }
   ],
   "source": [
    "finder([1,2,3,4,5,6], [6,1,4,3,2])"
   ]
  },
  {
   "cell_type": "code",
   "execution_count": 115,
   "metadata": {},
   "outputs": [
    {
     "data": {
      "text/plain": [
       "{5}"
      ]
     },
     "execution_count": 115,
     "metadata": {},
     "output_type": "execute_result"
    }
   ],
   "source": [
    "#sol:3------>\n",
    "arr1 = [1,2,3,4,5,6]\n",
    "arr2 = [6,4,3,1,2]\n",
    "set(arr1)^set(arr2)"
   ]
  },
  {
   "cell_type": "markdown",
   "metadata": {},
   "source": [
    "###### Interview problem 3: Largest Continuous sum:"
   ]
  },
  {
   "cell_type": "code",
   "execution_count": 8,
   "metadata": {},
   "outputs": [],
   "source": [
    "\"\"\"\n",
    "largest_cont_sum([1,2,-1,3,4,10,10,-10,-1])-------> (1,2,-1,3,4,10,10) = 29\n",
    "\"\"\"\n",
    "\n",
    "def largest_cont_sum(arr):\n",
    "    if(len(arr) == 0):\n",
    "        return 0\n",
    "    \n",
    "    max_sum = current_sum = arr[0]\n",
    "    \n",
    "    for num in arr[1:]:\n",
    "        current_sum = max(current_sum + num, num)\n",
    "        print(\"cs:\" , current_sum)\n",
    "        max_sum = max(current_sum, max_sum)\n",
    "        print(\"ms:\", max_sum)\n",
    "        \n",
    "    return max_sum"
   ]
  },
  {
   "cell_type": "code",
   "execution_count": 9,
   "metadata": {},
   "outputs": [
    {
     "name": "stdout",
     "output_type": "stream",
     "text": [
      "cs: 3\n",
      "ms: 3\n",
      "cs: 2\n",
      "ms: 3\n",
      "cs: 5\n",
      "ms: 5\n",
      "cs: 9\n",
      "ms: 9\n",
      "cs: 19\n",
      "ms: 19\n",
      "cs: 29\n",
      "ms: 29\n",
      "cs: 19\n",
      "ms: 29\n",
      "cs: 18\n",
      "ms: 29\n"
     ]
    },
    {
     "data": {
      "text/plain": [
       "29"
      ]
     },
     "execution_count": 9,
     "metadata": {},
     "output_type": "execute_result"
    }
   ],
   "source": [
    "largest_cont_sum([1,2,-1,3,4,10,10,-10,-1])"
   ]
  },
  {
   "cell_type": "markdown",
   "metadata": {},
   "source": [
    "###### Interview problem 4: sentence reversal problem:"
   ]
  },
  {
   "cell_type": "code",
   "execution_count": 120,
   "metadata": {},
   "outputs": [
    {
     "name": "stdout",
     "output_type": "stream",
     "text": [
      "['Raushan', 'is', 'good']\n"
     ]
    }
   ],
   "source": [
    "print(\"Raushan is good\".split())"
   ]
  },
  {
   "cell_type": "code",
   "execution_count": 125,
   "metadata": {
    "scrolled": true
   },
   "outputs": [
    {
     "name": "stdout",
     "output_type": "stream",
     "text": [
      "good is Raushan\n",
      "boy good a am i\n"
     ]
    }
   ],
   "source": [
    "\"\"\"\n",
    "\n",
    "\"\"\"\n",
    "\n",
    "def rev_word(s):\n",
    "    s = s.split()\n",
    "    s = s[::-1]\n",
    "    print(\" \".join(s))\n",
    "    \n",
    "rev_word(\"Raushan is good\")        \n",
    "rev_word(\"  i am a good  boy   \")   \n",
    "    "
   ]
  },
  {
   "cell_type": "markdown",
   "metadata": {},
   "source": [
    "###### Interview Problem 5: String Compression:"
   ]
  },
  {
   "cell_type": "code",
   "execution_count": 133,
   "metadata": {},
   "outputs": [],
   "source": [
    "\"\"\"\n",
    "'AAAABBBBCCCCCDDEEEE'------>A4B4C5D2E4\n",
    "'AAAaaaaVgAAAARRRRR'------->A3a4V1g1A4R5\n",
    "\"\"\"\n",
    "\n",
    "def compress(s):\n",
    "    \n",
    "    r = \"\"\n",
    "    l = len(s)\n",
    "    cnt = 1\n",
    "    i = 1\n",
    "    \n",
    "    if(l == 0):\n",
    "        return \"\"\n",
    "    if(l == 1):\n",
    "        return(s + \"1\")\n",
    "    \n",
    "    while(i < l):\n",
    "        if(s[i] == s[i-1]):\n",
    "            cnt += 1\n",
    "        else:\n",
    "            r = r + s[i-1] + str(cnt)\n",
    "            cnt = 1\n",
    "    \n",
    "        i += 1\n",
    "        \n",
    "    r = r + s[i-1] + str(cnt)\n",
    "    return (r)"
   ]
  },
  {
   "cell_type": "code",
   "execution_count": 134,
   "metadata": {},
   "outputs": [
    {
     "data": {
      "text/plain": [
       "'A4B4C5D2E4'"
      ]
     },
     "execution_count": 134,
     "metadata": {},
     "output_type": "execute_result"
    }
   ],
   "source": [
    "compress(\"AAAABBBBCCCCCDDEEEE\")"
   ]
  },
  {
   "cell_type": "code",
   "execution_count": 135,
   "metadata": {},
   "outputs": [
    {
     "data": {
      "text/plain": [
       "''"
      ]
     },
     "execution_count": 135,
     "metadata": {},
     "output_type": "execute_result"
    }
   ],
   "source": [
    "compress(\"\")"
   ]
  },
  {
   "cell_type": "code",
   "execution_count": 137,
   "metadata": {},
   "outputs": [
    {
     "data": {
      "text/plain": [
       "'A1'"
      ]
     },
     "execution_count": 137,
     "metadata": {},
     "output_type": "execute_result"
    }
   ],
   "source": [
    "compress(\"A\")"
   ]
  },
  {
   "cell_type": "markdown",
   "metadata": {},
   "source": [
    "###### Interview Problem 5: Unique Characters in string:"
   ]
  },
  {
   "cell_type": "code",
   "execution_count": null,
   "metadata": {},
   "outputs": [],
   "source": []
  },
  {
   "cell_type": "markdown",
   "metadata": {},
   "source": [
    "### Stack, Queue and Dequeue:------------>"
   ]
  },
  {
   "cell_type": "markdown",
   "metadata": {},
   "source": [
    "###### Implementation Stack:----------------->"
   ]
  },
  {
   "cell_type": "markdown",
   "metadata": {},
   "source": [
    "####### Stack Attributes and Methods\n",
    "\n",
    "Before we implement our own Stack class, let's review the properties and methods of a Stack.\n",
    "\n",
    "The stack abstract data type is defined by the following structure and operations. A stack is structured, as described above, as an ordered collection of items where items are added to and removed from the end called the “top.” Stacks are ordered LIFO. The stack operations are given below.\n",
    "\n",
    "* Stack() creates a new stack that is empty. It needs no parameters and returns an empty stack.\n",
    "* push(item) adds a new item to the top of the stack. It needs the item and returns nothing.\n",
    "* pop() removes the top item from the stack. It needs no parameters and returns the item. The stack is modified.\n",
    "* peek() returns the top item from the stack but does not remove it. It needs no parameters. The stack is not modified.\n",
    "* isEmpty() tests to see whether the stack is empty. It needs no parameters and returns a boolean value.\n",
    "* size() returns the number of items on the stack. It needs no parameters and returns an integer."
   ]
  },
  {
   "cell_type": "code",
   "execution_count": 9,
   "metadata": {},
   "outputs": [
    {
     "name": "stdout",
     "output_type": "stream",
     "text": [
      "True\n",
      "two\n",
      "3\n",
      "True\n",
      "two\n",
      "4\n"
     ]
    }
   ],
   "source": [
    "class Stack:\n",
    "    \n",
    "    def __init__(self):\n",
    "        self.items = []\n",
    "\n",
    "    def isEmpty(self):\n",
    "        return self.items == []\n",
    "\n",
    "    def push(self, item):\n",
    "        self.items.append(item)\n",
    "\n",
    "    def pop(self):\n",
    "        return self.items.pop()\n",
    "\n",
    "    def peek(self):\n",
    "        return self.items[len(self.items)-1]\n",
    "\n",
    "    def size(self):\n",
    "        return len(self.items)\n",
    "    \n",
    "s = Stack()\n",
    "print(s.isEmpty())\n",
    "s.push(4)\n",
    "s.push('two')\n",
    "print(s.peek())\n",
    "s.push(True)\n",
    "print(s.size())\n",
    "print(s.pop())\n",
    "print(s.pop())\n",
    "print(s.peek())"
   ]
  },
  {
   "cell_type": "markdown",
   "metadata": {},
   "source": [
    "##### Implementation of queue:---->\n",
    "____\n",
    "####### Queue Methods and Attributes\n",
    "\n",
    "Before we begin implementing our own queue, let's review the attribute and methods it will have:\n",
    "\n",
    "* Queue() creates a new queue that is empty. It needs no parameters and returns an empty queue.\n",
    "* enqueue(item) adds a new item to the rear of the queue. It needs the item and returns nothing.\n",
    "* dequeue() removes the front item from the queue. It needs no parameters and returns the item. The queue is modified.\n",
    "* isEmpty() tests to see whether the queue is empty. It needs no parameters and returns a boolean value.\n",
    "* size() returns the number of items in the queue. It needs no parameters and returns an integer."
   ]
  },
  {
   "cell_type": "code",
   "execution_count": 14,
   "metadata": {},
   "outputs": [
    {
     "name": "stdout",
     "output_type": "stream",
     "text": [
      "0\n",
      "True\n",
      "2\n",
      "10\n",
      "[47, 5]\n"
     ]
    }
   ],
   "source": [
    "class Queue:\n",
    "    def __init__(self):\n",
    "        self.items = []\n",
    "\n",
    "    def isEmpty(self):\n",
    "        return self.items == []\n",
    "\n",
    "    def enqueue(self, item):\n",
    "        self.items.insert(0,item)\n",
    "\n",
    "    def dequeue(self):\n",
    "        return self.items.pop()\n",
    "\n",
    "    def size(self):\n",
    "        return len(self.items)\n",
    "    \n",
    "q = Queue()\n",
    "print(q.size())\n",
    "print(q.isEmpty())\n",
    "q.enqueue(10)\n",
    "q.enqueue(5)\n",
    "print(q.size())\n",
    "print(q.dequeue())\n",
    "q.enqueue(47)\n",
    "print(q.items)"
   ]
  },
  {
   "cell_type": "markdown",
   "metadata": {},
   "source": [
    "###### Implementation of Dequeue:------>\n",
    "____\n",
    "####### Methods and Attributes\n",
    "\n",
    "* Deque() creates a new deque that is empty. It needs no parameters and returns an empty deque.\n",
    "* addFront(item) adds a new item to the front of the deque. It needs the item and returns nothing.\n",
    "* addRear(item) adds a new item to the rear of the deque. It needs the item and returns nothing.\n",
    "* removeFront() removes the front item from the deque. It needs no parameters and returns the item. The deque is modified.\n",
    "* removeRear() removes the rear item from the deque. It needs no parameters and returns the item. The deque is modified.\n",
    "* isEmpty() tests to see whether the deque is empty. It needs no parameters and returns a boolean value.\n",
    "* size() returns the number of items in the deque. It needs no parameters and returns an integer."
   ]
  },
  {
   "cell_type": "code",
   "execution_count": 18,
   "metadata": {},
   "outputs": [
    {
     "name": "stdout",
     "output_type": "stream",
     "text": [
      "0\n",
      "2\n"
     ]
    }
   ],
   "source": [
    "class Deque:\n",
    "    def __init__(self):\n",
    "        self.items = []\n",
    "\n",
    "    def isEmpty(self):\n",
    "        return self.items == []\n",
    "\n",
    "    def addFront(self, item):\n",
    "        self.items.append(item)\n",
    "\n",
    "    def addRear(self, item):\n",
    "        self.items.insert(0,item)\n",
    "\n",
    "    def removeFront(self):\n",
    "        return self.items.pop()\n",
    "\n",
    "    def removeRear(self):\n",
    "        return self.items.pop(0)\n",
    "\n",
    "    def size(self):\n",
    "        return len(self.items)\n",
    "    \n",
    "d = Deque()\n",
    "print(d.size())\n",
    "d.addFront(\"hello\")\n",
    "d.addRear(\"World!\")\n",
    "print(d.size())"
   ]
  },
  {
   "cell_type": "markdown",
   "metadata": {},
   "source": [
    "###### Interview problem 1:-->Balanced Paranthese Check:--->"
   ]
  },
  {
   "cell_type": "code",
   "execution_count": 26,
   "metadata": {},
   "outputs": [
    {
     "name": "stdout",
     "output_type": "stream",
     "text": [
      "True\n",
      "False\n",
      "True\n"
     ]
    }
   ],
   "source": [
    "\"\"\"\n",
    "\n",
    "\"\"\"\n",
    "\n",
    "def balanced_check(s):\n",
    "    \n",
    "    \"\"\"if(len(s) % 2 != 0):\n",
    "        return False\"\"\"\n",
    "    \n",
    "    opening = set(\"([{\")\n",
    "    \n",
    "    matches = {('(', ')'), ('[', ']'), ('{', '}')}\n",
    "    \n",
    "    stack = []\n",
    "    \n",
    "    for paren in s:\n",
    "        if(paren in (\"(\", \")\", \"{\", \"}\", \"[\", \"]\")):\n",
    "            if(paren in opening):\n",
    "                stack.append(paren)\n",
    "            else:\n",
    "                if(len(stack) == 0):\n",
    "                    return False\n",
    "                last_open = stack.pop()\n",
    "                if(last_open, paren) not in matches:\n",
    "                    return False\n",
    "    return len(stack) == 0\n",
    "\n",
    "print(balanced_check(\"[({((({})))})]\"))\n",
    "print(balanced_check(\"{(([()}\"))\n",
    "print(balanced_check(\"2+3*(7*(4+3))\"))"
   ]
  },
  {
   "cell_type": "markdown",
   "metadata": {},
   "source": [
    "###### Interview Problem 02:--> Implementing a Queue - using two Stacks:"
   ]
  },
  {
   "cell_type": "code",
   "execution_count": 27,
   "metadata": {},
   "outputs": [],
   "source": [
    "class Queue2Stacks(object):\n",
    "    def __init__(self):\n",
    "        self.instack = []\n",
    "        self.outstack = []\n",
    "        \n",
    "        def enqueue(self, element):\n",
    "            self.instack.append(element)\n",
    "            \n",
    "        def dequeue(self):\n",
    "            if(not self.outstack):\n",
    "                while(self.instack):\n",
    "                    self.outstack.append(self.instack.pop())\n",
    "            return  (self.outstack.pop())"
   ]
  },
  {
   "cell_type": "code",
   "execution_count": null,
   "metadata": {},
   "outputs": [],
   "source": []
  },
  {
   "cell_type": "code",
   "execution_count": null,
   "metadata": {},
   "outputs": [],
   "source": []
  },
  {
   "cell_type": "code",
   "execution_count": null,
   "metadata": {},
   "outputs": [],
   "source": []
  },
  {
   "cell_type": "markdown",
   "metadata": {},
   "source": [
    "### Linked List:-------------------------->"
   ]
  },
  {
   "cell_type": "markdown",
   "metadata": {},
   "source": [
    "###### Implementation of Singly linked list:---->"
   ]
  },
  {
   "cell_type": "code",
   "execution_count": 36,
   "metadata": {},
   "outputs": [
    {
     "name": "stdout",
     "output_type": "stream",
     "text": [
      "Mon\n",
      "Tue\n",
      "Wed\n"
     ]
    }
   ],
   "source": [
    "# creation , traversing :-----> \n",
    "\n",
    "class Node:\n",
    "    def __init__(self, dataval=None):\n",
    "        self.dataval = dataval\n",
    "        self.nextval = None\n",
    "\n",
    "class SLinkedList:\n",
    "    def __init__(self):\n",
    "        self.headval = None\n",
    "\n",
    "    def listprint(self):\n",
    "        printval = self.headval\n",
    "        while printval is not None:\n",
    "            print (printval.dataval)\n",
    "            printval = printval.nextval\n",
    "\n",
    "list = SLinkedList()\n",
    "list.headval = Node(\"Mon\")\n",
    "e2 = Node(\"Tue\")\n",
    "e3 = Node(\"Wed\")\n",
    "\n",
    "# Link first Node to second node\n",
    "list.headval.nextval = e2\n",
    "\n",
    "# Link second Node to third node\n",
    "e2.nextval = e3\n",
    "\n",
    "list.listprint()"
   ]
  },
  {
   "cell_type": "code",
   "execution_count": 37,
   "metadata": {},
   "outputs": [
    {
     "name": "stdout",
     "output_type": "stream",
     "text": [
      "Sun\n",
      "Mon\n",
      "Tue\n",
      "Wed\n"
     ]
    }
   ],
   "source": [
    "# creation , traversing, insertion at beginning:-----> \n",
    "\n",
    "class Node:\n",
    "    def __init__(self, dataval=None):\n",
    "        self.dataval = dataval\n",
    "        self.nextval = None\n",
    "\n",
    "class SLinkedList:\n",
    "    def __init__(self):\n",
    "        self.headval = None\n",
    "\n",
    "        \n",
    "    # Print the linked list\n",
    "    def listprint(self):\n",
    "        printval = self.headval\n",
    "        while printval is not None:\n",
    "            print (printval.dataval)\n",
    "            printval = printval.nextval\n",
    "    \n",
    "    \n",
    "    def AtBegining(self,newdata):\n",
    "        NewNode = Node(newdata)\n",
    "        \n",
    "        # Update the new nodes next val to existing node\n",
    "        NewNode.nextval = self.headval\n",
    "        self.headval = NewNode\n",
    "\n",
    "list = SLinkedList()\n",
    "list.headval = Node(\"Mon\")\n",
    "e2 = Node(\"Tue\")\n",
    "e3 = Node(\"Wed\")\n",
    "\n",
    "list.headval.nextval = e2\n",
    "e2.nextval = e3\n",
    "\n",
    "list.AtBegining(\"Sun\")\n",
    "\n",
    "list.listprint()"
   ]
  },
  {
   "cell_type": "code",
   "execution_count": 38,
   "metadata": {},
   "outputs": [
    {
     "name": "stdout",
     "output_type": "stream",
     "text": [
      "Mon\n",
      "Tue\n",
      "Wed\n",
      "Thu\n"
     ]
    }
   ],
   "source": [
    "# creation , traversing, insertion at end:-----> \n",
    "\n",
    "class Node:\n",
    "    def __init__(self, dataval=None):\n",
    "        self.dataval = dataval\n",
    "        self.nextval = None\n",
    "\n",
    "class SLinkedList:\n",
    "    def __init__(self):\n",
    "        self.headval = None\n",
    "\n",
    "    # Function to add newnode\n",
    "    def AtEnd(self, newdata):\n",
    "        NewNode = Node(newdata)\n",
    "        if(self.headval is None):\n",
    "            self.headval = NewNode\n",
    "            return\n",
    "        laste = self.headval\n",
    "        while(laste.nextval):\n",
    "            laste = laste.nextval\n",
    "        laste.nextval=NewNode\n",
    "\n",
    "    # Print the linked list\n",
    "    def listprint(self):\n",
    "        printval = self.headval\n",
    "        while printval is not None:\n",
    "            print (printval.dataval)\n",
    "            printval = printval.nextval\n",
    "\n",
    "\n",
    "list = SLinkedList()\n",
    "list.headval = Node(\"Mon\")\n",
    "e2 = Node(\"Tue\")\n",
    "e3 = Node(\"Wed\")\n",
    "\n",
    "list.headval.nextval = e2\n",
    "e2.nextval = e3\n",
    "\n",
    "list.AtEnd(\"Thu\")\n",
    "\n",
    "list.listprint()"
   ]
  },
  {
   "cell_type": "code",
   "execution_count": 46,
   "metadata": {},
   "outputs": [
    {
     "name": "stdout",
     "output_type": "stream",
     "text": [
      "Mon\n",
      "Tue\n",
      "Fri\n",
      "Thu\n"
     ]
    }
   ],
   "source": [
    "# creation , traversing, insertion inbetween:-----> \n",
    "\n",
    "class Node:\n",
    "    def __init__(self, dataval=None):\n",
    "        self.dataval = dataval\n",
    "        self.nextval = None\n",
    "\n",
    "class SLinkedList:\n",
    "    def __init__(self):\n",
    "        self.headval = None\n",
    "\n",
    "    # Function to add node\n",
    "    def Inbetween(self,middle_node,newdata):\n",
    "        if middle_node is None:\n",
    "            print(\"The mentioned node is absent\")\n",
    "            return\n",
    "\n",
    "        NewNode = Node(newdata)\n",
    "        NewNode.nextval = middle_node.nextval\n",
    "        middle_node.nextval = NewNode\n",
    "\n",
    "    # Print the linked list\n",
    "    def listprint(self):\n",
    "        printval = self.headval\n",
    "        while printval is not None:\n",
    "            print (printval.dataval)\n",
    "            printval = printval.nextval\n",
    "\n",
    "\n",
    "list = SLinkedList()\n",
    "list.headval = Node(\"Mon\")\n",
    "e2 = Node(\"Tue\")\n",
    "e3 = Node(\"Thu\")\n",
    "\n",
    "list.headval.nextval = e2\n",
    "e2.nextval = e3\n",
    "\n",
    "list.Inbetween(list.headval.nextval,\"Fri\")\n",
    "\n",
    "list.listprint()"
   ]
  },
  {
   "cell_type": "code",
   "execution_count": 47,
   "metadata": {},
   "outputs": [
    {
     "name": "stdout",
     "output_type": "stream",
     "text": [
      "Thu\n",
      "Wed\n",
      "Mon\n"
     ]
    }
   ],
   "source": [
    "# Removing an Item form a Liked List:---> \n",
    "\n",
    "class Node:\n",
    "    def __init__(self, data=None):\n",
    "        self.data = data\n",
    "        self.next = None\n",
    "\n",
    "class SLinkedList:\n",
    "    def __init__(self):\n",
    "        self.head = None\n",
    "\n",
    "    def Atbegining(self, data_in):\n",
    "        NewNode = Node(data_in)\n",
    "        NewNode.next = self.head\n",
    "        self.head = NewNode\n",
    "\t\t\n",
    "# Function to remove node\n",
    "    def RemoveNode(self, Removekey):\n",
    "\n",
    "        HeadVal = self.head\n",
    "\n",
    "        if (HeadVal is not None):\n",
    "            if (HeadVal.data == Removekey):\n",
    "                self.head = HeadVal.next\n",
    "                HeadVal = None\n",
    "                return\n",
    "\n",
    "        while (HeadVal is not None):\n",
    "            if HeadVal.data == Removekey:\n",
    "                break\n",
    "            prev = HeadVal\n",
    "            HeadVal = HeadVal.next\n",
    "\n",
    "        if (HeadVal == None):\n",
    "            return\n",
    "\n",
    "        prev.next = HeadVal.next\n",
    "\n",
    "        HeadVal = None\n",
    "\n",
    "    def LListprint(self):\n",
    "        printval = self.head\n",
    "        while (printval):\n",
    "            print(printval.data),\n",
    "            printval = printval.next\n",
    "\n",
    "\n",
    "llist = SLinkedList()\n",
    "llist.Atbegining(\"Mon\")\n",
    "llist.Atbegining(\"Tue\")\n",
    "llist.Atbegining(\"Wed\")\n",
    "llist.Atbegining(\"Thu\")\n",
    "llist.RemoveNode(\"Tue\")\n",
    "llist.LListprint()"
   ]
  },
  {
   "cell_type": "code",
   "execution_count": null,
   "metadata": {},
   "outputs": [],
   "source": []
  },
  {
   "cell_type": "markdown",
   "metadata": {},
   "source": [
    "###### Doubly linked list:---------->"
   ]
  },
  {
   "cell_type": "code",
   "execution_count": 49,
   "metadata": {},
   "outputs": [
    {
     "name": "stdout",
     "output_type": "stream",
     "text": [
      "62\n",
      "8\n",
      "12\n"
     ]
    }
   ],
   "source": [
    "# creation:--->\n",
    "\n",
    "class Node:\n",
    "    def __init__(self, data):\n",
    "        self.data = data\n",
    "        self.next = None\n",
    "        self.prev = None\n",
    "\n",
    "class doubly_linked_list:\n",
    "    def __init__(self):\n",
    "        self.head = None\n",
    "\n",
    "    # Adding data elements\n",
    "    def push(self, NewVal):\n",
    "        NewNode = Node(NewVal)\n",
    "        NewNode.next = self.head\n",
    "        if self.head is not None:\n",
    "            self.head.prev = NewNode\n",
    "        self.head = NewNode\n",
    "\n",
    "    # Print the Doubly Linked list\n",
    "    def listprint(self, node):\n",
    "        while (node is not None):\n",
    "            print(node.data),\n",
    "            last = node\n",
    "            node = node.next\n",
    "\n",
    "dllist = doubly_linked_list()\n",
    "dllist.push(12)\n",
    "dllist.push(8)\n",
    "dllist.push(62)\n",
    "dllist.listprint(dllist.head)"
   ]
  },
  {
   "cell_type": "code",
   "execution_count": 52,
   "metadata": {},
   "outputs": [
    {
     "name": "stdout",
     "output_type": "stream",
     "text": [
      "62\n",
      "8\n",
      "13\n",
      "12\n"
     ]
    }
   ],
   "source": [
    "# Inserting into Doubly Linked List:---\n",
    "\n",
    "# Create the Node class\n",
    "class Node:\n",
    "    def __init__(self, data):\n",
    "        self.data = data\n",
    "        self.next = None\n",
    "        self.prev = None\n",
    "\n",
    "# Create the doubly linked list\n",
    "class doubly_linked_list:\n",
    "\n",
    "    def __init__(self):\n",
    "        self.head = None\n",
    "\n",
    "# Define the push method to add elements\t\t\n",
    "    def push(self, NewVal):\n",
    "\n",
    "        NewNode = Node(NewVal)\n",
    "        NewNode.next = self.head\n",
    "        if self.head is not None:\n",
    "            self.head.prev = NewNode\n",
    "        self.head = NewNode\n",
    "\n",
    "    # Define the insert method to insert the element\t\t\n",
    "    def insert(self, prev_node, NewVal):\n",
    "        if prev_node is None:\n",
    "            return\n",
    "        NewNode = Node(NewVal)\n",
    "        NewNode.next = prev_node.next\n",
    "        prev_node.next = NewNode\n",
    "        NewNode.prev = prev_node\n",
    "        if NewNode.next is not None:\n",
    "            NewNode.next.prev = NewNode\n",
    "\n",
    "    # Define the method to print the linked list \n",
    "    def listprint(self, node):\n",
    "        while (node is not None):\n",
    "            print(node.data)\n",
    "            last = node\n",
    "            node = node.next\n",
    "\n",
    "dllist = doubly_linked_list()\n",
    "dllist.push(12)\n",
    "dllist.push(8)\n",
    "dllist.push(62)\n",
    "dllist.insert(dllist.head.next, 13)\n",
    "dllist.listprint(dllist.head)"
   ]
  },
  {
   "cell_type": "code",
   "execution_count": 53,
   "metadata": {},
   "outputs": [
    {
     "name": "stdout",
     "output_type": "stream",
     "text": [
      "62\n",
      "8\n",
      "12\n",
      "9\n",
      "45\n"
     ]
    }
   ],
   "source": [
    "# Appending to a doubly linked list will add the element at the end.\n",
    "\n",
    "# Create the node class\n",
    "class Node:\n",
    "    def __init__(self, data):\n",
    "        self.data = data\n",
    "        self.next = None\n",
    "        self.prev = None\n",
    "        \n",
    "# Create the doubly linked list class\n",
    "class doubly_linked_list:\n",
    "\n",
    "    def __init__(self):\n",
    "        self.head = None\n",
    "\n",
    "# Define the push method to add elements at the begining\n",
    "    def push(self, NewVal):\n",
    "        NewNode = Node(NewVal)\n",
    "        NewNode.next = self.head\n",
    "        if self.head is not None:\n",
    "            self.head.prev = NewNode\n",
    "        self.head = NewNode\n",
    "\n",
    "# Define the append method to add elements at the end\n",
    "    def append(self, NewVal):\n",
    "\n",
    "        NewNode = Node(NewVal)\n",
    "        NewNode.next = None\n",
    "        if self.head is None:\n",
    "            NewNode.prev = None\n",
    "            self.head = NewNode\n",
    "            return\n",
    "        last = self.head\n",
    "        while (last.next is not None):\n",
    "            last = last.next\n",
    "        last.next = NewNode\n",
    "        NewNode.prev = last\n",
    "        return\n",
    "\n",
    "# Define the method to print\n",
    "    def listprint(self, node):\n",
    "        while (node is not None):\n",
    "            print(node.data),\n",
    "            last = node\n",
    "            node = node.next\n",
    "\n",
    "dllist = doubly_linked_list()\n",
    "dllist.push(12)\n",
    "dllist.append(9)\n",
    "dllist.push(8)\n",
    "dllist.push(62)\n",
    "dllist.append(45)\n",
    "dllist.listprint(dllist.head)"
   ]
  },
  {
   "cell_type": "code",
   "execution_count": null,
   "metadata": {},
   "outputs": [],
   "source": []
  },
  {
   "cell_type": "code",
   "execution_count": null,
   "metadata": {},
   "outputs": [],
   "source": []
  },
  {
   "cell_type": "code",
   "execution_count": null,
   "metadata": {},
   "outputs": [],
   "source": []
  },
  {
   "cell_type": "markdown",
   "metadata": {},
   "source": [
    "### Recursion:---------->"
   ]
  },
  {
   "cell_type": "code",
   "execution_count": 1,
   "metadata": {},
   "outputs": [
    {
     "data": {
      "text/plain": [
       "19"
      ]
     },
     "execution_count": 1,
     "metadata": {},
     "output_type": "execute_result"
    }
   ],
   "source": [
    "def sum_func(n):\n",
    "    # Base case\n",
    "    if len(str(n)) == 1:\n",
    "        return n\n",
    "    \n",
    "    # Recursion\n",
    "    else:\n",
    "        return n%10 + sum_func(n//10)\n",
    "\n",
    "sum_func(14527)"
   ]
  },
  {
   "cell_type": "code",
   "execution_count": 2,
   "metadata": {},
   "outputs": [],
   "source": [
    "def word_split(phrase,list_of_words, output = None):\n",
    "    '''\n",
    "    Note: This is a very \"python-y\" solution.\n",
    "    ''' \n",
    "    \n",
    "    # Checks to see if any output has been initiated.\n",
    "    # If you default output=[], it would be overwritten for every recursion!\n",
    "    if output is None:\n",
    "        output = []\n",
    "    \n",
    "    # For every word in list\n",
    "    for word in list_of_words:\n",
    "        \n",
    "        # If the current phrase begins with the word, we have a split point!\n",
    "        if phrase.startswith(word):\n",
    "            \n",
    "            # Add the word to the output\n",
    "            output.append(word)\n",
    "            \n",
    "            # Recursively call the split function on the remaining portion of the phrase--- phrase[len(word):]\n",
    "            # Remember to pass along the output and list of words\n",
    "            return word_split(phrase[len(word):],list_of_words,output)\n",
    "    \n",
    "    # Finally return output if no phrase.startswith(word) returns True\n",
    "    return output"
   ]
  },
  {
   "cell_type": "code",
   "execution_count": 3,
   "metadata": {},
   "outputs": [
    {
     "data": {
      "text/plain": [
       "['the', 'man', 'ran']"
      ]
     },
     "execution_count": 3,
     "metadata": {},
     "output_type": "execute_result"
    }
   ],
   "source": [
    "word_split('themanran',['the','ran','man'])"
   ]
  },
  {
   "cell_type": "code",
   "execution_count": 4,
   "metadata": {},
   "outputs": [
    {
     "data": {
      "text/plain": [
       "['i', 'love', 'dogs', 'John']"
      ]
     },
     "execution_count": 4,
     "metadata": {},
     "output_type": "execute_result"
    }
   ],
   "source": [
    "word_split('ilovedogsJohn',['i','am','a','dogs','lover','love','John'])"
   ]
  },
  {
   "cell_type": "code",
   "execution_count": 5,
   "metadata": {},
   "outputs": [
    {
     "data": {
      "text/plain": [
       "[]"
      ]
     },
     "execution_count": 5,
     "metadata": {},
     "output_type": "execute_result"
    }
   ],
   "source": [
    "word_split('themanran',['clown','ran','man'])"
   ]
  },
  {
   "cell_type": "code",
   "execution_count": null,
   "metadata": {},
   "outputs": [],
   "source": []
  },
  {
   "cell_type": "code",
   "execution_count": 10,
   "metadata": {},
   "outputs": [
    {
     "name": "stdout",
     "output_type": "stream",
     "text": [
      "24\n",
      "{2: 2, 3: 6, 4: 24}\n"
     ]
    }
   ],
   "source": [
    "# Create cache for known results\n",
    "factorial_memo = {}\n",
    "\n",
    "def factorial(k):\n",
    "    \n",
    "    if k < 2: \n",
    "        return 1\n",
    "    \n",
    "    if not(k in factorial_memo):\n",
    "        factorial_memo[k] = k * factorial(k-1)\n",
    "        \n",
    "    return factorial_memo[k]\n",
    "\n",
    "print(factorial(4))\n",
    "print(factorial_memo)"
   ]
  },
  {
   "cell_type": "code",
   "execution_count": 19,
   "metadata": {},
   "outputs": [
    {
     "name": "stdout",
     "output_type": "stream",
     "text": [
      "720\n",
      "{(1,): 1, (2,): 2, (3,): 6, (4,): 24, (5,): 120, (6,): 720}\n"
     ]
    }
   ],
   "source": [
    "# We can also encapsulate the memoization process into a class:\n",
    "\n",
    "class Memoize:\n",
    "    def __init__(self, f):\n",
    "        self.f = f\n",
    "        self.memo = {}\n",
    "    def __call__(self, *args):\n",
    "        if not args in self.memo:\n",
    "            self.memo[args] = self.f(*args)\n",
    "        return self.memo[args]\n",
    "    \n",
    "def factorial(k):\n",
    "    \n",
    "    if k < 2: \n",
    "        return 1\n",
    "    \n",
    "    return k * factorial(k - 1)\n",
    "\n",
    "factorial = Memoize(factorial)\n",
    "print(factorial(6))\n",
    "print(factorial.memo)"
   ]
  },
  {
   "cell_type": "code",
   "execution_count": null,
   "metadata": {},
   "outputs": [],
   "source": []
  },
  {
   "cell_type": "code",
   "execution_count": 22,
   "metadata": {},
   "outputs": [
    {
     "data": {
      "text/plain": [
       "['ABC', 'ACB', 'BAC', 'BCA', 'CAB', 'CBA']"
      ]
     },
     "execution_count": 22,
     "metadata": {},
     "output_type": "execute_result"
    }
   ],
   "source": [
    "###### Interview problem 02: Permutation of string:\n",
    "\n",
    "def permute(s):\n",
    "    out = []\n",
    "    \n",
    "    # Base Case\n",
    "    if len(s) == 1:\n",
    "        out = [s]\n",
    "        \n",
    "    else:\n",
    "        # For every letter in string\n",
    "        for i, let in enumerate(s):\n",
    "            \n",
    "            # For every permutation resulting from Step 2 and 3 described above\n",
    "            for perm in permute(s[:i] + s[i+1:]):\n",
    "                \n",
    "                # Add it to output\n",
    "                out += [let + perm]\n",
    "\n",
    "    return out\n",
    "\n",
    "permute(\"ABC\")"
   ]
  },
  {
   "cell_type": "code",
   "execution_count": 38,
   "metadata": {},
   "outputs": [
    {
     "name": "stdout",
     "output_type": "stream",
     "text": [
      "ABC ACB BAC BCA CAB CBA \n",
      "AB AC BC "
     ]
    }
   ],
   "source": [
    "from itertools import permutations\n",
    "from itertools import combinations\n",
    "\n",
    "s1 = permutations(\"ABC\")\n",
    "for i in s1:\n",
    "    print(\"\".join(i), end = \" \")\n",
    "    \n",
    "print()\n",
    "\n",
    "s2 = combinations(\"ABC\", 2)\n",
    "for i in s2:\n",
    "    print(\"\".join(i), end = \" \")"
   ]
  },
  {
   "cell_type": "code",
   "execution_count": 40,
   "metadata": {},
   "outputs": [
    {
     "name": "stdout",
     "output_type": "stream",
     "text": [
      "55\n"
     ]
    }
   ],
   "source": [
    "###### Fibonnaci series:\n",
    "# sol 1:--------------------> recursively\n",
    "\n",
    "def fib_rec(n):\n",
    "    \n",
    "    # Base Case\n",
    "    if n == 0 or n == 1:\n",
    "        return n\n",
    "    \n",
    "    # Recursion\n",
    "    else:\n",
    "        return fib_rec(n-1) + fib_rec(n-2)\n",
    "print(fib_rec(10))"
   ]
  },
  {
   "cell_type": "code",
   "execution_count": 44,
   "metadata": {},
   "outputs": [
    {
     "name": "stdout",
     "output_type": "stream",
     "text": [
      "0  1  1  2  3  5  8  13  21  34  55\n"
     ]
    }
   ],
   "source": [
    "###### Fibonnaci series:\n",
    "# sol 2:--------------------> looping\n",
    "\n",
    "a, b = 0, 1\n",
    "for i in range(10):\n",
    "    print(a, end = \"  \")\n",
    "    a, b = b, a+b\n",
    "print(a)"
   ]
  },
  {
   "cell_type": "code",
   "execution_count": 48,
   "metadata": {},
   "outputs": [
    {
     "name": "stdout",
     "output_type": "stream",
     "text": [
      "55\n",
      "[0, 1, 1, 2, 3, 5, 8, 13, 21, 34, 55]\n"
     ]
    }
   ],
   "source": [
    "###### Fibonnaci series:\n",
    "# sol 3:--------------------> Dynamically:---->\n",
    "\n",
    "# Instantiate Cache information\n",
    "n = 10\n",
    "cache = [None] * (n + 1)\n",
    "cache[0] = 0\n",
    "cache[1] = 1\n",
    "\n",
    "def fib_dyn(n):\n",
    "    \n",
    "    # Base Case\n",
    "    if n == 0 or n == 1:\n",
    "        return n\n",
    "    \n",
    "    # Check cache\n",
    "    if cache[n] != None:\n",
    "        return cache[n]\n",
    "    \n",
    "    # Keep setting cache\n",
    "    cache[n] = fib_dyn(n-1) + fib_dyn(n-2)\n",
    "    \n",
    "    return cache[n]\n",
    "\n",
    "print(fib_dyn(10))\n",
    "print(cache)"
   ]
  },
  {
   "cell_type": "code",
   "execution_count": null,
   "metadata": {},
   "outputs": [],
   "source": []
  },
  {
   "cell_type": "code",
   "execution_count": 50,
   "metadata": {},
   "outputs": [
    {
     "name": "stdout",
     "output_type": "stream",
     "text": [
      "8\n",
      "[0, 1, 0, 0, 0, 1, 2, 3, 4, 5, 1, 2, 3, 4, 5, 2, 3, 4, 5, 6, 2, 3, 4, 5, 6, 1, 2, 3, 4, 5, 2, 3, 4, 5, 6, 2, 3, 4, 5, 6, 3, 4, 5, 6, 7, 3, 4, 5, 6, 7, 2, 3, 4, 5, 6, 3, 4, 5, 6, 7, 3, 4, 5, 6, 7, 4, 5, 6, 7, 8, 4, 5, 6, 7, 8]\n"
     ]
    }
   ],
   "source": [
    "###### Interview problem 04:\n",
    "\n",
    "def rec_coin_dynam(target,coins,known_results):\n",
    "    '''\n",
    "    INPUT: This funciton takes in a target amount and a list of possible coins to use.\n",
    "    It also takes a third parameter, known_results, indicating previously calculated results.\n",
    "    The known_results parameter shoud be started with [0] * (target+1)\n",
    "    \n",
    "    OUTPUT: Minimum number of coins needed to make the target.\n",
    "    '''\n",
    "    \n",
    "    # Default output to target\n",
    "    min_coins = target\n",
    "    \n",
    "    # Base Case\n",
    "    if target in coins:\n",
    "        known_results[target] = 1\n",
    "        return 1\n",
    "    \n",
    "    # Return a known result if it happens to be greater than 1\n",
    "    elif known_results[target] > 0:\n",
    "        return known_results[target]\n",
    "    \n",
    "    else:\n",
    "        # for every coin value that is <= than target\n",
    "        for i in [c for c in coins if c <= target]:\n",
    "            \n",
    "            # Recursive call, note how we include the known results!\n",
    "            num_coins = 1 + rec_coin_dynam(target-i,coins,known_results)\n",
    "            \n",
    "            # Reset Minimum if we have a new minimum\n",
    "            if num_coins < min_coins:\n",
    "                min_coins = num_coins\n",
    "                \n",
    "                # Reset the known result\n",
    "                known_results[target] = min_coins\n",
    "                \n",
    "    return min_coins\n",
    "\n",
    "\n",
    "target = 74\n",
    "coins = [1,5,10,25]\n",
    "known_results = [0]*(target+1)\n",
    "\n",
    "print(rec_coin_dynam(target,coins,known_results))\n",
    "print(known_results)"
   ]
  },
  {
   "cell_type": "code",
   "execution_count": null,
   "metadata": {},
   "outputs": [],
   "source": []
  },
  {
   "cell_type": "code",
   "execution_count": null,
   "metadata": {},
   "outputs": [],
   "source": []
  },
  {
   "cell_type": "code",
   "execution_count": null,
   "metadata": {},
   "outputs": [],
   "source": []
  },
  {
   "cell_type": "code",
   "execution_count": null,
   "metadata": {},
   "outputs": [],
   "source": []
  },
  {
   "cell_type": "code",
   "execution_count": null,
   "metadata": {},
   "outputs": [],
   "source": []
  },
  {
   "cell_type": "code",
   "execution_count": null,
   "metadata": {},
   "outputs": [],
   "source": []
  },
  {
   "cell_type": "code",
   "execution_count": null,
   "metadata": {},
   "outputs": [],
   "source": []
  },
  {
   "cell_type": "code",
   "execution_count": null,
   "metadata": {},
   "outputs": [],
   "source": []
  },
  {
   "cell_type": "code",
   "execution_count": null,
   "metadata": {},
   "outputs": [],
   "source": []
  },
  {
   "cell_type": "code",
   "execution_count": null,
   "metadata": {},
   "outputs": [],
   "source": []
  },
  {
   "cell_type": "code",
   "execution_count": null,
   "metadata": {},
   "outputs": [],
   "source": []
  },
  {
   "cell_type": "code",
   "execution_count": null,
   "metadata": {},
   "outputs": [],
   "source": []
  },
  {
   "cell_type": "code",
   "execution_count": null,
   "metadata": {},
   "outputs": [],
   "source": []
  },
  {
   "cell_type": "code",
   "execution_count": null,
   "metadata": {},
   "outputs": [],
   "source": []
  },
  {
   "cell_type": "code",
   "execution_count": null,
   "metadata": {},
   "outputs": [],
   "source": []
  },
  {
   "cell_type": "code",
   "execution_count": null,
   "metadata": {},
   "outputs": [],
   "source": []
  },
  {
   "cell_type": "code",
   "execution_count": null,
   "metadata": {},
   "outputs": [],
   "source": []
  },
  {
   "cell_type": "code",
   "execution_count": null,
   "metadata": {},
   "outputs": [],
   "source": []
  },
  {
   "cell_type": "code",
   "execution_count": null,
   "metadata": {},
   "outputs": [],
   "source": []
  },
  {
   "cell_type": "code",
   "execution_count": null,
   "metadata": {},
   "outputs": [],
   "source": []
  },
  {
   "cell_type": "code",
   "execution_count": null,
   "metadata": {},
   "outputs": [],
   "source": []
  },
  {
   "cell_type": "code",
   "execution_count": null,
   "metadata": {},
   "outputs": [],
   "source": []
  },
  {
   "cell_type": "code",
   "execution_count": null,
   "metadata": {},
   "outputs": [],
   "source": []
  },
  {
   "cell_type": "code",
   "execution_count": null,
   "metadata": {},
   "outputs": [],
   "source": []
  },
  {
   "cell_type": "code",
   "execution_count": null,
   "metadata": {},
   "outputs": [],
   "source": []
  },
  {
   "cell_type": "code",
   "execution_count": null,
   "metadata": {},
   "outputs": [],
   "source": []
  },
  {
   "cell_type": "code",
   "execution_count": null,
   "metadata": {},
   "outputs": [],
   "source": []
  },
  {
   "cell_type": "markdown",
   "metadata": {},
   "source": [
    "### Infosys sample test:"
   ]
  },
  {
   "cell_type": "code",
   "execution_count": null,
   "metadata": {},
   "outputs": [],
   "source": [
    "#Que:1:"
   ]
  },
  {
   "cell_type": "code",
   "execution_count": null,
   "metadata": {},
   "outputs": [],
   "source": [
    "#Que:2:"
   ]
  },
  {
   "cell_type": "code",
   "execution_count": null,
   "metadata": {},
   "outputs": [],
   "source": []
  },
  {
   "cell_type": "code",
   "execution_count": null,
   "metadata": {},
   "outputs": [],
   "source": []
  },
  {
   "cell_type": "code",
   "execution_count": 14,
   "metadata": {},
   "outputs": [
    {
     "name": "stdout",
     "output_type": "stream",
     "text": [
      "302\n"
     ]
    }
   ],
   "source": [
    "#Que:3:\n",
    "        \n",
    "        \n",
    "class ClassA:\n",
    "    __param1 = 200\n",
    "    def __init__(self):\n",
    "        self.__param1 = 100\n",
    "        \n",
    "    def method1(self):\n",
    "        #ClassA.__param1 = (ClassA.__param1 + 1) + self.__param1 + 1\n",
    "        ClassA.__param1 = (ClassA.__param1 + 2) + self.__param1\n",
    "        \n",
    "        \n",
    "    @staticmethod\n",
    "    def method2():\n",
    "        print(ClassA.__param1)\n",
    "        \n",
    "obj1 = ClassA()\n",
    "obj1.method1()\n",
    "ClassA.method2()"
   ]
  },
  {
   "cell_type": "code",
   "execution_count": null,
   "metadata": {},
   "outputs": [],
   "source": [
    "#Que:4:\n",
    "\n",
    "\n"
   ]
  },
  {
   "cell_type": "code",
   "execution_count": null,
   "metadata": {},
   "outputs": [],
   "source": []
  },
  {
   "cell_type": "code",
   "execution_count": null,
   "metadata": {},
   "outputs": [],
   "source": []
  },
  {
   "cell_type": "code",
   "execution_count": null,
   "metadata": {},
   "outputs": [],
   "source": []
  },
  {
   "cell_type": "code",
   "execution_count": 9,
   "metadata": {},
   "outputs": [
    {
     "name": "stdout",
     "output_type": "stream",
     "text": [
      "I'm in init.\n",
      "Draw circle.\n"
     ]
    }
   ],
   "source": [
    "#Que:8:\n",
    "\n",
    "\n",
    "from abc import abstractmethod, ABC\n",
    "\n",
    "class Shape(ABC):\n",
    "    def __init__(self):\n",
    "        print(\"I'm in init.\")\n",
    "      \n",
    "    @abstractmethod\n",
    "    def draw_shape(self):\n",
    "        pass\n",
    "    \n",
    "\"\"\"@abstractmethod\n",
    "def set_color(self):\n",
    "    pass\"\"\"\n",
    "    \n",
    "class Circle(Shape):\n",
    "    def draw_shape(self):\n",
    "        print(\"Draw circle.\")\n",
    "        \n",
    "c = Circle()\n",
    "c.draw_shape()"
   ]
  },
  {
   "cell_type": "code",
   "execution_count": 12,
   "metadata": {},
   "outputs": [
    {
     "name": "stdout",
     "output_type": "stream",
     "text": [
      "I'm in init.\n",
      "Draw circle.\n",
      "The color is set.\n"
     ]
    }
   ],
   "source": [
    "#Que:8:\n",
    "\n",
    "\n",
    "from abc import abstractmethod, ABC\n",
    "\n",
    "class Shape(ABC):\n",
    "    def __init__(self):\n",
    "        print(\"I'm in init.\")\n",
    "      \n",
    "    @abstractmethod\n",
    "    def draw_shape(self):\n",
    "        pass\n",
    "    \n",
    "    @abstractmethod\n",
    "    def set_color(self):\n",
    "        pass\n",
    "    \n",
    "class Circle(Shape):\n",
    "    def draw_shape(self):\n",
    "        print(\"Draw circle.\")\n",
    "    def set_color(self):\n",
    "        print(\"The color is set.\")\n",
    "        \n",
    "c = Circle()\n",
    "c.draw_shape()\n",
    "c.set_color()"
   ]
  },
  {
   "cell_type": "code",
   "execution_count": null,
   "metadata": {},
   "outputs": [],
   "source": []
  },
  {
   "cell_type": "code",
   "execution_count": null,
   "metadata": {},
   "outputs": [],
   "source": []
  },
  {
   "cell_type": "code",
   "execution_count": null,
   "metadata": {},
   "outputs": [],
   "source": []
  },
  {
   "cell_type": "code",
   "execution_count": null,
   "metadata": {},
   "outputs": [],
   "source": []
  },
  {
   "cell_type": "code",
   "execution_count": null,
   "metadata": {},
   "outputs": [],
   "source": []
  },
  {
   "cell_type": "code",
   "execution_count": null,
   "metadata": {},
   "outputs": [],
   "source": []
  },
  {
   "cell_type": "code",
   "execution_count": null,
   "metadata": {},
   "outputs": [],
   "source": []
  },
  {
   "cell_type": "code",
   "execution_count": null,
   "metadata": {},
   "outputs": [],
   "source": []
  },
  {
   "cell_type": "code",
   "execution_count": null,
   "metadata": {},
   "outputs": [],
   "source": []
  },
  {
   "cell_type": "code",
   "execution_count": null,
   "metadata": {},
   "outputs": [],
   "source": []
  },
  {
   "cell_type": "code",
   "execution_count": null,
   "metadata": {},
   "outputs": [],
   "source": []
  },
  {
   "cell_type": "code",
   "execution_count": null,
   "metadata": {},
   "outputs": [],
   "source": []
  },
  {
   "cell_type": "code",
   "execution_count": null,
   "metadata": {},
   "outputs": [],
   "source": []
  },
  {
   "cell_type": "code",
   "execution_count": null,
   "metadata": {},
   "outputs": [],
   "source": []
  },
  {
   "cell_type": "code",
   "execution_count": null,
   "metadata": {},
   "outputs": [],
   "source": []
  },
  {
   "cell_type": "code",
   "execution_count": null,
   "metadata": {},
   "outputs": [],
   "source": []
  },
  {
   "cell_type": "code",
   "execution_count": null,
   "metadata": {},
   "outputs": [],
   "source": []
  },
  {
   "cell_type": "code",
   "execution_count": null,
   "metadata": {},
   "outputs": [],
   "source": []
  },
  {
   "cell_type": "code",
   "execution_count": null,
   "metadata": {},
   "outputs": [],
   "source": []
  },
  {
   "cell_type": "code",
   "execution_count": null,
   "metadata": {},
   "outputs": [],
   "source": []
  }
 ],
 "metadata": {
  "kernelspec": {
   "display_name": "Python 3",
   "language": "python",
   "name": "python3"
  },
  "language_info": {
   "codemirror_mode": {
    "name": "ipython",
    "version": 3
   },
   "file_extension": ".py",
   "mimetype": "text/x-python",
   "name": "python",
   "nbconvert_exporter": "python",
   "pygments_lexer": "ipython3",
   "version": "3.8.2"
  }
 },
 "nbformat": 4,
 "nbformat_minor": 2
}
