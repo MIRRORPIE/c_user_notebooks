{
 "cells": [
  {
   "cell_type": "code",
   "execution_count": null,
   "metadata": {},
   "outputs": [],
   "source": [
    "import speech_recognition as sr\n",
    "audio_file = (\"Spoken English Leaning Video Spoken English Tutorial English Conversation.wav\")\n",
    "r = sr.Recognizer()\n",
    "with sr.AudioFile(audio_file) as source:\n",
    "    audio = r.record(source)   \n",
    "try:\n",
    "    print(\"audio file contain\" + r.recognize_google(audio))\n",
    "except sr.UnknownValueError:\n",
    "    print(\"Google speech recognizer cant understand your audio\")\n",
    "except sr.RequestError:\n",
    "    print(\"Couldnt get the result from Google Speach Recognition\")"
   ]
  },
  {
   "cell_type": "code",
   "execution_count": 2,
   "metadata": {},
   "outputs": [],
   "source": []
  },
  {
   "cell_type": "code",
   "execution_count": 3,
   "metadata": {},
   "outputs": [
    {
     "name": "stdout",
     "output_type": "stream",
     "text": [
      "Say something! \n",
      "Google thinks yoy said:\n",
      "SpiceJet sunna Revenge hello\n"
     ]
    }
   ],
   "source": [
    "import speech_recognition as sr\n",
    "import pyaudio\n",
    "r=sr.Recognizer()\n",
    "with sr.Microphone() as source:\n",
    "    print(\"Say something! \")\n",
    "    audio=r.listen(source)\n",
    "try:\n",
    "    print(\"Google thinks yoy said:\\n\" + r.recognize_google(audio))\n",
    "except:  \n",
    "    pass"
   ]
  },
  {
   "cell_type": "code",
   "execution_count": 1,
   "metadata": {},
   "outputs": [
    {
     "name": "stdout",
     "output_type": "stream",
     "text": [
      "Say something! \n",
      "Done\n",
      "google thinks u said:\n",
      "best circuit and analysis book\n",
      "best circuit and analysis book opens in chrome\n"
     ]
    }
   ],
   "source": [
    "import speech_recognition as sr\n",
    "from selenium import webdriver\n",
    "\n",
    "r=sr.Recognizer()\n",
    "with sr.Microphone() as source:\n",
    "    print(\"Say something! \")\n",
    "    audio=r.listen(source)\n",
    "    print(\"Done\")\n",
    "try:\n",
    "    text=r.recognize_google(audio)\n",
    "    print(\"google thinks u said:\\n\"+ text)\n",
    "    browser = webdriver.Chrome(\"C:\\webdrivers\\chromedriver.exe\")\n",
    "    browser.get(\"https://www.google.com/search?q=\"+text)\n",
    "    print(text+\" opens in chrome\")\n",
    "except Exception as e:  \n",
    "    print(e)"
   ]
  },
  {
   "cell_type": "code",
   "execution_count": null,
   "metadata": {},
   "outputs": [],
   "source": []
  },
  {
   "cell_type": "code",
   "execution_count": null,
   "metadata": {},
   "outputs": [],
   "source": []
  },
  {
   "cell_type": "code",
   "execution_count": null,
   "metadata": {},
   "outputs": [],
   "source": []
  },
  {
   "cell_type": "code",
   "execution_count": 3,
   "metadata": {},
   "outputs": [
    {
     "name": "stdout",
     "output_type": "stream",
     "text": [
      "Say something! \n",
      "Done\n",
      "google thinks u said:circuit and network analysis best book\n",
      "AVbin is required to decode compressed media\n"
     ]
    }
   ],
   "source": [
    "import speech_recognition as sr\n",
    "from selenium import webdriver\n",
    "from gtts import gTTS\n",
    "import pyglet\n",
    "import time,os\n",
    "\n",
    "def speak(text1,lang1):\n",
    "    file=gTTS(text=text1,lang=lang1)\n",
    "    filename=\"audio_file/temp.mp3\"\n",
    "    file.save(filename)\n",
    "    \n",
    "    music=pyglet.media.load(filename,streaming=False)\n",
    "    music.play()\n",
    "    \n",
    "    time.sleep(music.duration)\n",
    "    os.remove(filename)\n",
    "    \n",
    "\n",
    "\n",
    "r=sr.Recognizer()\n",
    "with sr.Microphone() as source:\n",
    "    print(\"Say something! \")\n",
    "    audio=r.listen(source)\n",
    "    print(\"Done\")\n",
    "try:\n",
    "    text=r.recognize_google(audio)\n",
    "    print(\"google thinks u said:\"+ text)\n",
    "    lang=\"en\"\n",
    "    speak(text,lang)\n",
    "    browser = webdriver.Chrome(\"C:\\webdrivers\\chromedriver.exe\")\n",
    "    browser.get(\"https://www.google.com/search?q=\"+text)\n",
    "    print(text+\"opens in chrome\")\n",
    "except Exception as e:  \n",
    "    print(e)"
   ]
  },
  {
   "cell_type": "code",
   "execution_count": 6,
   "metadata": {},
   "outputs": [
    {
     "ename": "WAVEFormatException",
     "evalue": "AVbin is required to decode compressed media",
     "output_type": "error",
     "traceback": [
      "\u001b[1;31m---------------------------------------------------------------------------\u001b[0m",
      "\u001b[1;31mWAVEFormatException\u001b[0m                       Traceback (most recent call last)",
      "\u001b[1;32m<ipython-input-6-2c36eef5ff97>\u001b[0m in \u001b[0;36m<module>\u001b[1;34m\u001b[0m\n\u001b[0;32m      1\u001b[0m \u001b[1;32mimport\u001b[0m \u001b[0mpyglet\u001b[0m\u001b[1;33m\u001b[0m\u001b[1;33m\u001b[0m\u001b[0m\n\u001b[0;32m      2\u001b[0m \u001b[1;32mfrom\u001b[0m \u001b[0mpyglet\u001b[0m\u001b[1;33m.\u001b[0m\u001b[0mmedia\u001b[0m \u001b[1;32mimport\u001b[0m \u001b[1;33m*\u001b[0m\u001b[1;33m\u001b[0m\u001b[1;33m\u001b[0m\u001b[0m\n\u001b[1;32m----> 3\u001b[1;33m \u001b[0mm\u001b[0m\u001b[1;33m=\u001b[0m\u001b[0mpyglet\u001b[0m\u001b[1;33m.\u001b[0m\u001b[0mmedia\u001b[0m\u001b[1;33m.\u001b[0m\u001b[0mload\u001b[0m\u001b[1;33m(\u001b[0m\u001b[1;34m\"audio_file/temp.mp3\"\u001b[0m\u001b[1;33m,\u001b[0m\u001b[0mstreaming\u001b[0m\u001b[1;33m=\u001b[0m\u001b[1;32mFalse\u001b[0m\u001b[1;33m)\u001b[0m\u001b[1;33m\u001b[0m\u001b[1;33m\u001b[0m\u001b[0m\n\u001b[0m\u001b[0;32m      4\u001b[0m \u001b[0mm\u001b[0m\u001b[1;33m.\u001b[0m\u001b[0mplay\u001b[0m\u001b[1;33m(\u001b[0m\u001b[1;33m)\u001b[0m\u001b[1;33m\u001b[0m\u001b[1;33m\u001b[0m\u001b[0m\n\u001b[0;32m      5\u001b[0m \u001b[0mtime\u001b[0m\u001b[1;33m.\u001b[0m\u001b[0msleep\u001b[0m\u001b[1;33m(\u001b[0m\u001b[0mmusic\u001b[0m\u001b[1;33m.\u001b[0m\u001b[0mduration\u001b[0m\u001b[1;33m)\u001b[0m\u001b[1;33m\u001b[0m\u001b[1;33m\u001b[0m\u001b[0m\n",
      "\u001b[1;32mc:\\users\\raushan\\appdata\\local\\programs\\python\\python36\\lib\\site-packages\\pyglet\\media\\sources\\loader.py\u001b[0m in \u001b[0;36mload\u001b[1;34m(filename, file, streaming)\u001b[0m\n\u001b[0;32m     61\u001b[0m     \u001b[1;33m:\u001b[0m\u001b[0mrtype\u001b[0m\u001b[1;33m:\u001b[0m\u001b[0;31m \u001b[0m\u001b[0;31m`\u001b[0m\u001b[0mSource\u001b[0m\u001b[0;31m`\u001b[0m\u001b[1;33m\u001b[0m\u001b[1;33m\u001b[0m\u001b[0m\n\u001b[0;32m     62\u001b[0m     \"\"\"\n\u001b[1;32m---> 63\u001b[1;33m     \u001b[0msource\u001b[0m \u001b[1;33m=\u001b[0m \u001b[0mget_source_loader\u001b[0m\u001b[1;33m(\u001b[0m\u001b[1;33m)\u001b[0m\u001b[1;33m.\u001b[0m\u001b[0mload\u001b[0m\u001b[1;33m(\u001b[0m\u001b[0mfilename\u001b[0m\u001b[1;33m,\u001b[0m \u001b[0mfile\u001b[0m\u001b[1;33m)\u001b[0m\u001b[1;33m\u001b[0m\u001b[1;33m\u001b[0m\u001b[0m\n\u001b[0m\u001b[0;32m     64\u001b[0m     \u001b[1;32mif\u001b[0m \u001b[1;32mnot\u001b[0m \u001b[0mstreaming\u001b[0m\u001b[1;33m:\u001b[0m\u001b[1;33m\u001b[0m\u001b[1;33m\u001b[0m\u001b[0m\n\u001b[0;32m     65\u001b[0m         \u001b[0msource\u001b[0m \u001b[1;33m=\u001b[0m \u001b[0mStaticSource\u001b[0m\u001b[1;33m(\u001b[0m\u001b[0msource\u001b[0m\u001b[1;33m)\u001b[0m\u001b[1;33m\u001b[0m\u001b[1;33m\u001b[0m\u001b[0m\n",
      "\u001b[1;32mc:\\users\\raushan\\appdata\\local\\programs\\python\\python36\\lib\\site-packages\\pyglet\\media\\sources\\loader.py\u001b[0m in \u001b[0;36mload\u001b[1;34m(self, filename, file)\u001b[0m\n\u001b[0;32m     82\u001b[0m     \u001b[1;32mdef\u001b[0m \u001b[0mload\u001b[0m\u001b[1;33m(\u001b[0m\u001b[0mself\u001b[0m\u001b[1;33m,\u001b[0m \u001b[0mfilename\u001b[0m\u001b[1;33m,\u001b[0m \u001b[0mfile\u001b[0m\u001b[1;33m)\u001b[0m\u001b[1;33m:\u001b[0m\u001b[1;33m\u001b[0m\u001b[1;33m\u001b[0m\u001b[0m\n\u001b[0;32m     83\u001b[0m         \u001b[1;32mfrom\u001b[0m \u001b[1;33m.\u001b[0m\u001b[0mriff\u001b[0m \u001b[1;32mimport\u001b[0m \u001b[0mWaveSource\u001b[0m\u001b[1;33m\u001b[0m\u001b[1;33m\u001b[0m\u001b[0m\n\u001b[1;32m---> 84\u001b[1;33m         \u001b[1;32mreturn\u001b[0m \u001b[0mWaveSource\u001b[0m\u001b[1;33m(\u001b[0m\u001b[0mfilename\u001b[0m\u001b[1;33m,\u001b[0m \u001b[0mfile\u001b[0m\u001b[1;33m)\u001b[0m\u001b[1;33m\u001b[0m\u001b[1;33m\u001b[0m\u001b[0m\n\u001b[0m\u001b[0;32m     85\u001b[0m \u001b[1;33m\u001b[0m\u001b[0m\n\u001b[0;32m     86\u001b[0m \u001b[1;33m\u001b[0m\u001b[0m\n",
      "\u001b[1;32mc:\\users\\raushan\\appdata\\local\\programs\\python\\python36\\lib\\site-packages\\pyglet\\media\\sources\\riff.py\u001b[0m in \u001b[0;36m__init__\u001b[1;34m(self, filename, file)\u001b[0m\n\u001b[0;32m    198\u001b[0m             \u001b[1;32melse\u001b[0m\u001b[1;33m:\u001b[0m\u001b[1;33m\u001b[0m\u001b[1;33m\u001b[0m\u001b[0m\n\u001b[0;32m    199\u001b[0m                 raise WAVEFormatException(\n\u001b[1;32m--> 200\u001b[1;33m                     'AVbin is required to decode compressed media')\n\u001b[0m\u001b[0;32m    201\u001b[0m \u001b[1;33m\u001b[0m\u001b[0m\n\u001b[0;32m    202\u001b[0m         \u001b[1;32mif\u001b[0m \u001b[0mformat\u001b[0m\u001b[1;33m.\u001b[0m\u001b[0mwFormatTag\u001b[0m \u001b[1;33m!=\u001b[0m \u001b[0mWAVE_FORMAT_PCM\u001b[0m\u001b[1;33m:\u001b[0m\u001b[1;33m\u001b[0m\u001b[1;33m\u001b[0m\u001b[0m\n",
      "\u001b[1;31mWAVEFormatException\u001b[0m: AVbin is required to decode compressed media"
     ]
    }
   ],
   "source": [
    "import pyglet\n",
    "from pyglet.media import *\n",
    "m=pyglet.media.load(\"audio_file/temp.mp3\",streaming=False)\n",
    "m.play()\n",
    "time.sleep(music.duration)\n",
    "os.remove(filename)"
   ]
  },
  {
   "cell_type": "code",
   "execution_count": null,
   "metadata": {},
   "outputs": [
    {
     "name": "stdout",
     "output_type": "stream",
     "text": [
      "Say something! \n"
     ]
    }
   ],
   "source": [
    "import speech_recognition as sr\n",
    "import webbrowser\n",
    "import pyaudio\n",
    "r=sr.Recognizer()\n",
    "with sr.Microphone() as source:\n",
    "    print(\"Say something! \")\n",
    "    audio=r.listen(source)\n",
    "try:\n",
    "    print(\"Google thinks yoy said:\\n\" + r.recognize_google(audio))\n",
    "except:  \n",
    "    pass\n",
    "try:\n",
    "    text=r.recognize_google(audio)\n",
    "    print(\"google thinks u said:\\n\"+ text) \n",
    "    webbrowser.open(\"https://www.google.com/search?q=\"+text)\n",
    "    print(text+\"opens in chrome\")\n",
    "except Exception as e:  \n",
    "    print(e)"
   ]
  },
  {
   "cell_type": "code",
   "execution_count": null,
   "metadata": {},
   "outputs": [],
   "source": []
  },
  {
   "cell_type": "code",
   "execution_count": null,
   "metadata": {},
   "outputs": [],
   "source": []
  },
  {
   "cell_type": "code",
   "execution_count": null,
   "metadata": {},
   "outputs": [],
   "source": []
  },
  {
   "cell_type": "code",
   "execution_count": null,
   "metadata": {},
   "outputs": [],
   "source": []
  },
  {
   "cell_type": "code",
   "execution_count": null,
   "metadata": {},
   "outputs": [],
   "source": []
  },
  {
   "cell_type": "code",
   "execution_count": null,
   "metadata": {},
   "outputs": [],
   "source": []
  },
  {
   "cell_type": "code",
   "execution_count": null,
   "metadata": {},
   "outputs": [],
   "source": []
  },
  {
   "cell_type": "code",
   "execution_count": null,
   "metadata": {},
   "outputs": [],
   "source": []
  }
 ],
 "metadata": {
  "kernelspec": {
   "display_name": "Python 3",
   "language": "python",
   "name": "python3"
  },
  "language_info": {
   "codemirror_mode": {
    "name": "ipython",
    "version": 3
   },
   "file_extension": ".py",
   "mimetype": "text/x-python",
   "name": "python",
   "nbconvert_exporter": "python",
   "pygments_lexer": "ipython3",
   "version": "3.6.7"
  }
 },
 "nbformat": 4,
 "nbformat_minor": 2
}
