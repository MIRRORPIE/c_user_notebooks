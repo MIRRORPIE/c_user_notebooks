{
 "cells": [
  {
   "cell_type": "code",
   "execution_count": null,
   "metadata": {},
   "outputs": [],
   "source": []
  },
  {
   "cell_type": "markdown",
   "metadata": {},
   "source": [
    "## List Using Linked List:"
   ]
  },
  {
   "cell_type": "code",
   "execution_count": 6,
   "metadata": {},
   "outputs": [
    {
     "name": "stdout",
     "output_type": "stream",
     "text": [
      "Linkedlist data(Head to Tail): Goodday Bourbon Hide&Seek Nutrichoice\n",
      "Goodday\n",
      "Bourbon\n",
      "Hide&Seek\n",
      "Nutrichoice\n",
      "4\n"
     ]
    }
   ],
   "source": [
    "\n",
    "\n",
    "class Node:\n",
    "    def __init__(self,data):\n",
    "        self.__data=data\n",
    "        self.__next=None\n",
    "    \n",
    "    def get_data(self):\n",
    "        return self.__data\n",
    "    \n",
    "    def set_data(self,data):\n",
    "        self.__data=data\n",
    "    \n",
    "    def get_next(self):\n",
    "        return self.__next\n",
    "    \n",
    "    def set_next(self,next_node):\n",
    "        self.__next=next_node\n",
    "    \n",
    "class LinkedList:\n",
    "    def __init__(self):\n",
    "        self.__head=None\n",
    "        self.__tail=None\n",
    "    \n",
    "    def get_head(self):\n",
    "        return self.__head\n",
    "    \n",
    "    def get_tail(self):\n",
    "        return self.__tail\n",
    "    \n",
    "    def add(self,data):\n",
    "        new_node=Node(data)\n",
    "        if(self.__head is None):\n",
    "            self.__head=self.__tail=new_node\n",
    "        else:\n",
    "            self.__tail.set_next(new_node)\n",
    "            self.__tail=new_node\n",
    "    \n",
    "    def display(self):\n",
    "        temp=self.__head\n",
    "        while(temp is not None):\n",
    "            print(temp.get_data())\n",
    "            temp=temp.get_next()\n",
    "                                              \n",
    "    #You can use the below __str__() to print the elements of the DS object while debugging\n",
    "    def __str__(self):\n",
    "        temp=self.__head\n",
    "        msg=[]\n",
    "        while(temp is not None):\n",
    "           msg.append(str(temp.get_data()))\n",
    "           temp=temp.get_next()\n",
    "        msg=\" \".join(msg)\n",
    "        msg=\"Linkedlist data(Head to Tail): \"+ msg\n",
    "        return msg\n",
    "\n",
    "def count_nodes(biscuit_list):\n",
    "    count=0\n",
    "    # Write your logic here\n",
    "    temp = biscuit_list.get_head()\n",
    "    while(temp is not None):\n",
    "        count += 1\n",
    "        temp = temp.get_next()\n",
    "\n",
    "    return count\n",
    "\n",
    "biscuit_list=LinkedList()\n",
    "biscuit_list.add(\"Goodday\")\n",
    "biscuit_list.add(\"Bourbon\")\n",
    "biscuit_list.add(\"Hide&Seek\")\n",
    "biscuit_list.add(\"Nutrichoice\")\n",
    "\n",
    "print(biscuit_list)\n",
    "biscuit_list.display()\n",
    "\n",
    "print(count_nodes(biscuit_list))\n",
    "                                            "
   ]
  },
  {
   "cell_type": "markdown",
   "metadata": {},
   "source": [
    "#### Example:-1.a:--------"
   ]
  },
  {
   "cell_type": "code",
   "execution_count": 29,
   "metadata": {},
   "outputs": [
    {
     "name": "stdout",
     "output_type": "stream",
     "text": [
      "['WagonR', 'Beat', 'Ritz', 'Polo', 'Amaze', 'Toyato']\n",
      "['Ritz', 'Polo']\n",
      "['Beat', 'Polo', 'Amaze']\n",
      "['WagonR', 'Beat', 'Ritz', 'Polo', 'Amaze', 'Toyato']\n"
     ]
    }
   ],
   "source": [
    "#DSA-Assgn-2\n",
    "\n",
    "class Car:\n",
    "    def __init__(self,model,year,registration_number):\n",
    "        self.__model=model\n",
    "        self.__year=year\n",
    "        self.__registration_number=registration_number\n",
    "\n",
    "    def get_model(self):\n",
    "        return self.__model\n",
    "\n",
    "    def get_year(self):\n",
    "        return self.__year\n",
    "\n",
    "    def get_registration_number(self):\n",
    "        return self.__registration_number\n",
    "\n",
    "    def __str__(self):\n",
    "        return(self.__model+\" \"+self.__registration_number+\" \"+(str)(self.__year))\n",
    "\n",
    "#Implement Service class here\n",
    "\n",
    "class Services:\n",
    "    def __init__(self, car_list):\n",
    "        self.car_list = car_list\n",
    "        \n",
    "    def get_car_list(self):\n",
    "        return list(map(lambda x: x.get_model()  ,self.car_list))\n",
    "    \n",
    "    def find_cars_by_year(self, year):\n",
    "        car_by_year = list(filter(lambda x: x.get_year() == year, self.car_list))\n",
    "        car_by_year = list(map(lambda x: x.get_model(), car_by_year))\n",
    "        if(len(car_by_year) == 0):\n",
    "            return None\n",
    "        return car_by_year\n",
    "    \n",
    "    def add_cars(self, new_car_list):\n",
    "        self.car_list.append(new_car_list)\n",
    "        \n",
    "    def remove_cars_from_karnataka(self):\n",
    "        self.car_list = list(filter(lambda x: x.get_registration_number()[:2] != \"KA\", self.car_list))\n",
    "\n",
    "car1=Car(\"WagonR\",2010,\"KA09 3056\")\n",
    "car2=Car(\"Beat\", 2011, \"MH10 6776\")\n",
    "car3=Car(\"Ritz\", 2013,\"KA12 9098\")\n",
    "car4=Car(\"Polo\",2013,\"GJ01 7854\")\n",
    "car5=Car(\"Amaze\",2014,\"KL07 4332\")\n",
    "#Add different values to the list and test the program\n",
    "car_list=[car1, car2, car3, car4,car5]\n",
    "#Create object of Service class, invoke the methods and test your program\n",
    "s = Services(car_list)\n",
    "car6 = Car(\"Toyato\", 2020, \"KA45 7854\")\n",
    "s.add_cars(car6)\n",
    "\n",
    "print(s.get_car_list())\n",
    "print(s.find_cars_by_year(2013))\n",
    "s.remove_cars_from_karnataka()\n",
    "print(s.get_car_list())\n",
    "\n",
    "print(list(map(lambda x: x.get_model(), car_list)))"
   ]
  },
  {
   "cell_type": "markdown",
   "metadata": {},
   "source": [
    "#### Example:-1.b:------ "
   ]
  },
  {
   "cell_type": "code",
   "execution_count": 37,
   "metadata": {},
   "outputs": [
    {
     "name": "stdout",
     "output_type": "stream",
     "text": [
      "['WagonR', 'Beat', 'Ritz', 'Polo', 'Amaze', 'Toyato']\n",
      "['Ritz', 'Polo']\n",
      "['Beat', 'Polo', 'Amaze']\n",
      "['WagonR', 'Beat', 'Ritz', 'Polo', 'Amaze', 'Toyato']\n"
     ]
    }
   ],
   "source": [
    "#DSA-Assgn-2\n",
    "\n",
    "class Car:\n",
    "    def __init__(self,model,year,registration_number):\n",
    "        self.__model=model\n",
    "        self.__year=year\n",
    "        self.__registration_number=registration_number\n",
    "        car_list.append(self)\n",
    "\n",
    "    def get_model(self):\n",
    "        return self.__model\n",
    "\n",
    "    def get_year(self):\n",
    "        return self.__year\n",
    "\n",
    "    def get_registration_number(self):\n",
    "        return self.__registration_number\n",
    "\n",
    "    def __str__(self):\n",
    "        return(self.__model+\" \"+self.__registration_number+\" \"+(str)(self.__year))\n",
    "\n",
    "#Implement Service class here\n",
    "\n",
    "class Services:\n",
    "    def __init__(self, car_list):\n",
    "        self.car_list = car_list\n",
    "        \n",
    "    def get_car_list(self):\n",
    "        return list(map(lambda x: x.get_model()  ,self.car_list))\n",
    "    \n",
    "    def find_cars_by_year(self, year):\n",
    "        car_by_year = list(filter(lambda x: x.get_year() == year, self.car_list))\n",
    "        car_by_year = list(map(lambda x: x.get_model(), car_by_year))\n",
    "        if(len(car_by_year) == 0):\n",
    "            return None\n",
    "        return car_by_year\n",
    "        \n",
    "    def remove_cars_from_karnataka(self):\n",
    "        self.car_list = list(filter(lambda x: x.get_registration_number()[:2] != \"KA\", self.car_list))\n",
    "\n",
    "car_list = []\n",
    "car1=Car(\"WagonR\",2010,\"KA09 3056\")\n",
    "car2=Car(\"Beat\", 2011, \"MH10 6776\")\n",
    "car3=Car(\"Ritz\", 2013,\"KA12 9098\")\n",
    "car4=Car(\"Polo\",2013,\"GJ01 7854\")\n",
    "car5=Car(\"Amaze\",2014,\"KL07 4332\")\n",
    "#Add different values to the list and test the program\n",
    "#car_list=[car1, car2, car3, car4,car5]  no need of manually\n",
    "#Create object of Service class, invoke the methods and test your program\n",
    "s = Services(car_list)\n",
    "car6 = Car(\"Toyato\", 2020, \"KA45 7854\")\n",
    "\n",
    "print(s.get_car_list())\n",
    "print(s.find_cars_by_year(2013))\n",
    "s.remove_cars_from_karnataka()\n",
    "print(s.get_car_list())\n",
    "\n",
    "print(list(map(lambda x: x.get_model(), car_list)))"
   ]
  },
  {
   "cell_type": "markdown",
   "metadata": {},
   "source": [
    "#### Example:-1.c:-------"
   ]
  },
  {
   "cell_type": "code",
   "execution_count": 50,
   "metadata": {},
   "outputs": [
    {
     "name": "stdout",
     "output_type": "stream",
     "text": [
      "['Dhoni', 'Jadeja', 'Rohit', 'Raina', 'Virat', 'Ishant', 'Shikhar', 'Axar', 'Stuart', 'Ashwin', 'Bhuvneshwar']\n",
      "['Raina', 'Jadeja', 'Rohit', 'Dhoni', 'Virat', 'Ishant', 'Shikhar', 'Axar', 'Stuart', 'Ashwin', 'Bhuvneshwar']\n",
      "[('Raina', 11), ('Jadeja', 13), ('Rohit', 12), ('Dhoni', 15), ('Virat', 10), ('Ishant', 9), ('Shikhar', 8), ('Axar', 7.5), ('Stuart', 7), ('Ashwin', 6), ('Bhuvneshwar', 5)]\n"
     ]
    }
   ],
   "source": [
    "#DSA-Assgn-4\n",
    "\n",
    "class Player:\n",
    "    def __init__(self,name,experience):\n",
    "        self.__name=name\n",
    "        self.__experience=experience\n",
    "\n",
    "    def get_name(self):\n",
    "        return self.__name\n",
    "\n",
    "    def get_experience(self):\n",
    "        return self.__experience\n",
    "\n",
    "    def __str__(self):\n",
    "        return(self.__name+\" \"+(str)(self.__experience))\n",
    "\n",
    "#Implement Game class here\n",
    "class Game:\n",
    "    def __init__(self, players_list):\n",
    "        self.__players_list = players_list\n",
    "        \n",
    "    def sort_players_based_on_experience(self):\n",
    "        self.__players_list.sort(key = lambda x: x.get_experience(), reverse = True)\n",
    "    \n",
    "    def shift_player_to_new_position(self, old_index_position, new_index_position):\n",
    "        temp1 = self.__players_list[old_index_position]\n",
    "        temp2 = self.__players_list[new_index_position]\n",
    "        self.__players_list[old_index_position] = temp2\n",
    "        self.__players_list[new_index_position] = temp1\n",
    "        \n",
    "        \n",
    "    def display_player_details(self):\n",
    "        return list(map(lambda x: (x.get_name(), x.get_experience()), self.__players_list))\n",
    "\n",
    "player1=Player(\"Dhoni\",15)\n",
    "player2=Player(\"Virat\",10)\n",
    "player3=Player(\"Rohit\",12)\n",
    "player4=Player(\"Raina\",11)\n",
    "player5=Player(\"Jadeja\",13)\n",
    "player6=Player(\"Ishant\",9)\n",
    "player7=Player(\"Shikhar\",8)\n",
    "player8=Player(\"Axar\",7.5)\n",
    "player9=Player(\"Ashwin\",6)\n",
    "player10=Player(\"Stuart\",7)\n",
    "player11=Player(\"Bhuvneshwar\",5)\n",
    "#Add different values to the list and test the program\n",
    "players_list=[player1,player2,player3,player4,player5,player6,player7,player8,player9,player10,player11]\n",
    "#Create object of Game class, invoke the methods and test your program\n",
    "\n",
    "g = Game(players_list)\n",
    "g.sort_players_based_on_experience()\n",
    "print(list(map(lambda x: x.get_name(), players_list)))\n",
    "g.shift_player_to_new_position(0, 3)\n",
    "print(list(map(lambda x: x.get_name(), players_list)))\n",
    "print(g.display_player_details())"
   ]
  },
  {
   "cell_type": "code",
   "execution_count": null,
   "metadata": {},
   "outputs": [],
   "source": []
  },
  {
   "cell_type": "markdown",
   "metadata": {},
   "source": [
    "#### List using linked list: Search and Insert Operation:"
   ]
  },
  {
   "cell_type": "code",
   "execution_count": 63,
   "metadata": {},
   "outputs": [
    {
     "name": "stdout",
     "output_type": "stream",
     "text": [
      "Linkedlist data(Head to Tail): Sugar Milk Paneer Water Tealeaf\n",
      "Node found\n",
      "Linkedlist data(Head to Tail): NewItem\n"
     ]
    }
   ],
   "source": [
    "class Node:\n",
    "    def __init__(self,data):\n",
    "        self.__data=data\n",
    "        self.__next=None\n",
    "\n",
    "    def get_data(self):\n",
    "        return self.__data\n",
    "    \n",
    "    def set_data(self,data):\n",
    "        self.__data=data\n",
    "    \n",
    "    def get_next(self):\n",
    "        return self.__next\n",
    "    \n",
    "    def set_next(self,next_node):\n",
    "        self.__next=next_node\n",
    "    \n",
    "class LinkedList:\n",
    "    def __init__(self):\n",
    "        self.__head=None\n",
    "        self.__tail=None\n",
    "    \n",
    "    def get_head(self):\n",
    "        return self.__head\n",
    "    \n",
    "    def get_tail(self):\n",
    "        return self.__tail\n",
    "    \n",
    "    def add(self,data):\n",
    "        new_node = Node(data)\n",
    "        if(self.__head is None):\n",
    "            self.__head = self.__tail = new_node\n",
    "        else:\n",
    "            self.__tail.set_next(new_node)\n",
    "            self.__tail = new_node\n",
    "            \n",
    "    def display(self):\n",
    "        temp=self.__head\n",
    "        while(temp is not None):\n",
    "            print(temp.get_data())\n",
    "            temp = temp.get_next()\n",
    "    \n",
    "    def find_node(self,data):\n",
    "        temp = self.__head\n",
    "        while(temp is not None):\n",
    "            if(temp.get_data() == data):\n",
    "                return 1\n",
    "            temp = temp.get_next()\n",
    "        return None\n",
    "    \n",
    "    def insert(self,data,data_before):\n",
    "        new_node = Node(data)\n",
    "        if(data_before is None):\n",
    "            new_node.set_next = self.__head\n",
    "            self.__head = new_node\n",
    "        \n",
    "        \n",
    "    #You can use the below __str__() to print the elements of the DS object while debugging\n",
    "    def __str__(self):\n",
    "        temp=self.__head\n",
    "        msg=[]\n",
    "        while(temp is not None):\n",
    "           msg.append(str(temp.get_data()))\n",
    "           temp=temp.get_next()\n",
    "        msg=\" \".join(msg)\n",
    "        msg=\"Linkedlist data(Head to Tail): \"+ msg\n",
    "        return msg\n",
    "\n",
    "\n",
    "list1=LinkedList()\n",
    "#Add all the required element(s)\n",
    "list1.add(\"Sugar\")\n",
    "list1.add(\"Milk\")\n",
    "list1.add(\"Paneer\")\n",
    "list1.add(\"Water\")\n",
    "list1.add(\"Tealeaf\")\n",
    "print(list1)\n",
    "#Search for the required node\n",
    "node = list1.find_node(\"Sugar\")\n",
    "if(node != None):\n",
    "    print(\"Node found\")\n",
    "else:\n",
    "    print(\"Node not found\") \n",
    "list1.insert(\"NewItem\",None)\n",
    "print(list1)"
   ]
  },
  {
   "cell_type": "code",
   "execution_count": null,
   "metadata": {},
   "outputs": [],
   "source": []
  },
  {
   "cell_type": "code",
   "execution_count": null,
   "metadata": {},
   "outputs": [],
   "source": []
  },
  {
   "cell_type": "code",
   "execution_count": null,
   "metadata": {},
   "outputs": [],
   "source": []
  },
  {
   "cell_type": "code",
   "execution_count": null,
   "metadata": {},
   "outputs": [],
   "source": []
  },
  {
   "cell_type": "code",
   "execution_count": null,
   "metadata": {},
   "outputs": [],
   "source": []
  },
  {
   "cell_type": "code",
   "execution_count": null,
   "metadata": {},
   "outputs": [],
   "source": []
  },
  {
   "cell_type": "code",
   "execution_count": null,
   "metadata": {},
   "outputs": [],
   "source": []
  },
  {
   "cell_type": "code",
   "execution_count": null,
   "metadata": {},
   "outputs": [],
   "source": []
  },
  {
   "cell_type": "code",
   "execution_count": null,
   "metadata": {},
   "outputs": [],
   "source": []
  },
  {
   "cell_type": "code",
   "execution_count": null,
   "metadata": {},
   "outputs": [],
   "source": []
  },
  {
   "cell_type": "code",
   "execution_count": null,
   "metadata": {},
   "outputs": [],
   "source": []
  },
  {
   "cell_type": "code",
   "execution_count": null,
   "metadata": {},
   "outputs": [],
   "source": []
  },
  {
   "cell_type": "code",
   "execution_count": null,
   "metadata": {},
   "outputs": [],
   "source": []
  },
  {
   "cell_type": "code",
   "execution_count": null,
   "metadata": {},
   "outputs": [],
   "source": []
  },
  {
   "cell_type": "code",
   "execution_count": null,
   "metadata": {},
   "outputs": [],
   "source": []
  },
  {
   "cell_type": "code",
   "execution_count": null,
   "metadata": {},
   "outputs": [],
   "source": []
  },
  {
   "cell_type": "code",
   "execution_count": null,
   "metadata": {},
   "outputs": [],
   "source": []
  },
  {
   "cell_type": "code",
   "execution_count": null,
   "metadata": {},
   "outputs": [],
   "source": []
  },
  {
   "cell_type": "code",
   "execution_count": null,
   "metadata": {},
   "outputs": [],
   "source": []
  },
  {
   "cell_type": "code",
   "execution_count": null,
   "metadata": {},
   "outputs": [],
   "source": []
  },
  {
   "cell_type": "code",
   "execution_count": null,
   "metadata": {},
   "outputs": [],
   "source": []
  },
  {
   "cell_type": "code",
   "execution_count": null,
   "metadata": {},
   "outputs": [],
   "source": []
  },
  {
   "cell_type": "code",
   "execution_count": null,
   "metadata": {},
   "outputs": [],
   "source": []
  },
  {
   "cell_type": "code",
   "execution_count": null,
   "metadata": {},
   "outputs": [],
   "source": []
  },
  {
   "cell_type": "code",
   "execution_count": null,
   "metadata": {},
   "outputs": [],
   "source": []
  },
  {
   "cell_type": "code",
   "execution_count": null,
   "metadata": {},
   "outputs": [],
   "source": []
  },
  {
   "cell_type": "code",
   "execution_count": null,
   "metadata": {},
   "outputs": [],
   "source": []
  },
  {
   "cell_type": "code",
   "execution_count": null,
   "metadata": {},
   "outputs": [],
   "source": []
  },
  {
   "cell_type": "code",
   "execution_count": null,
   "metadata": {},
   "outputs": [],
   "source": []
  },
  {
   "cell_type": "code",
   "execution_count": null,
   "metadata": {},
   "outputs": [],
   "source": []
  },
  {
   "cell_type": "code",
   "execution_count": null,
   "metadata": {},
   "outputs": [],
   "source": []
  },
  {
   "cell_type": "code",
   "execution_count": null,
   "metadata": {},
   "outputs": [],
   "source": []
  },
  {
   "cell_type": "code",
   "execution_count": null,
   "metadata": {},
   "outputs": [],
   "source": []
  },
  {
   "cell_type": "code",
   "execution_count": null,
   "metadata": {},
   "outputs": [],
   "source": []
  },
  {
   "cell_type": "code",
   "execution_count": null,
   "metadata": {},
   "outputs": [],
   "source": []
  },
  {
   "cell_type": "code",
   "execution_count": null,
   "metadata": {},
   "outputs": [],
   "source": []
  },
  {
   "cell_type": "code",
   "execution_count": null,
   "metadata": {},
   "outputs": [],
   "source": []
  },
  {
   "cell_type": "code",
   "execution_count": null,
   "metadata": {},
   "outputs": [],
   "source": []
  },
  {
   "cell_type": "code",
   "execution_count": null,
   "metadata": {},
   "outputs": [],
   "source": []
  },
  {
   "cell_type": "code",
   "execution_count": null,
   "metadata": {},
   "outputs": [],
   "source": []
  },
  {
   "cell_type": "code",
   "execution_count": null,
   "metadata": {},
   "outputs": [],
   "source": []
  },
  {
   "cell_type": "code",
   "execution_count": null,
   "metadata": {},
   "outputs": [],
   "source": []
  },
  {
   "cell_type": "code",
   "execution_count": null,
   "metadata": {},
   "outputs": [],
   "source": []
  },
  {
   "cell_type": "code",
   "execution_count": null,
   "metadata": {},
   "outputs": [],
   "source": []
  },
  {
   "cell_type": "code",
   "execution_count": null,
   "metadata": {},
   "outputs": [],
   "source": []
  },
  {
   "cell_type": "code",
   "execution_count": null,
   "metadata": {},
   "outputs": [],
   "source": []
  },
  {
   "cell_type": "code",
   "execution_count": null,
   "metadata": {},
   "outputs": [],
   "source": []
  },
  {
   "cell_type": "code",
   "execution_count": null,
   "metadata": {},
   "outputs": [],
   "source": []
  },
  {
   "cell_type": "code",
   "execution_count": null,
   "metadata": {},
   "outputs": [],
   "source": []
  },
  {
   "cell_type": "code",
   "execution_count": null,
   "metadata": {},
   "outputs": [],
   "source": []
  },
  {
   "cell_type": "code",
   "execution_count": null,
   "metadata": {},
   "outputs": [],
   "source": []
  },
  {
   "cell_type": "code",
   "execution_count": null,
   "metadata": {},
   "outputs": [],
   "source": []
  },
  {
   "cell_type": "code",
   "execution_count": null,
   "metadata": {},
   "outputs": [],
   "source": []
  },
  {
   "cell_type": "code",
   "execution_count": null,
   "metadata": {},
   "outputs": [],
   "source": []
  },
  {
   "cell_type": "code",
   "execution_count": null,
   "metadata": {},
   "outputs": [],
   "source": []
  },
  {
   "cell_type": "code",
   "execution_count": null,
   "metadata": {},
   "outputs": [],
   "source": []
  },
  {
   "cell_type": "code",
   "execution_count": null,
   "metadata": {},
   "outputs": [],
   "source": []
  },
  {
   "cell_type": "code",
   "execution_count": null,
   "metadata": {},
   "outputs": [],
   "source": []
  },
  {
   "cell_type": "code",
   "execution_count": null,
   "metadata": {},
   "outputs": [],
   "source": []
  },
  {
   "cell_type": "code",
   "execution_count": null,
   "metadata": {},
   "outputs": [],
   "source": []
  },
  {
   "cell_type": "code",
   "execution_count": null,
   "metadata": {},
   "outputs": [],
   "source": []
  },
  {
   "cell_type": "code",
   "execution_count": null,
   "metadata": {},
   "outputs": [],
   "source": []
  },
  {
   "cell_type": "code",
   "execution_count": null,
   "metadata": {},
   "outputs": [],
   "source": []
  },
  {
   "cell_type": "code",
   "execution_count": null,
   "metadata": {},
   "outputs": [],
   "source": []
  },
  {
   "cell_type": "code",
   "execution_count": null,
   "metadata": {},
   "outputs": [],
   "source": []
  },
  {
   "cell_type": "code",
   "execution_count": null,
   "metadata": {},
   "outputs": [],
   "source": []
  },
  {
   "cell_type": "code",
   "execution_count": null,
   "metadata": {},
   "outputs": [],
   "source": []
  },
  {
   "cell_type": "code",
   "execution_count": null,
   "metadata": {},
   "outputs": [],
   "source": []
  },
  {
   "cell_type": "code",
   "execution_count": null,
   "metadata": {},
   "outputs": [],
   "source": []
  },
  {
   "cell_type": "code",
   "execution_count": null,
   "metadata": {},
   "outputs": [],
   "source": []
  },
  {
   "cell_type": "code",
   "execution_count": null,
   "metadata": {},
   "outputs": [],
   "source": []
  },
  {
   "cell_type": "code",
   "execution_count": null,
   "metadata": {},
   "outputs": [],
   "source": []
  },
  {
   "cell_type": "code",
   "execution_count": null,
   "metadata": {},
   "outputs": [],
   "source": []
  },
  {
   "cell_type": "code",
   "execution_count": null,
   "metadata": {},
   "outputs": [],
   "source": []
  },
  {
   "cell_type": "code",
   "execution_count": null,
   "metadata": {},
   "outputs": [],
   "source": []
  },
  {
   "cell_type": "code",
   "execution_count": null,
   "metadata": {},
   "outputs": [],
   "source": []
  }
 ],
 "metadata": {
  "kernelspec": {
   "display_name": "Python 3",
   "language": "python",
   "name": "python3"
  },
  "language_info": {
   "codemirror_mode": {
    "name": "ipython",
    "version": 3
   },
   "file_extension": ".py",
   "mimetype": "text/x-python",
   "name": "python",
   "nbconvert_exporter": "python",
   "pygments_lexer": "ipython3",
   "version": "3.8.2"
  }
 },
 "nbformat": 4,
 "nbformat_minor": 4
}
