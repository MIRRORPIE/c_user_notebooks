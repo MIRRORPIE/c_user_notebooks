{
 "cells": [
  {
   "cell_type": "code",
   "execution_count": null,
   "metadata": {},
   "outputs": [],
   "source": [
    "import speech_recognition as sr\n",
    "audio_file = (\"Spoken English Leaning Video Spoken English Tutorial English Conversation.wav\")\n",
    "r = sr.Recognizer()\n",
    "with sr.AudioFile(audio_file) as source:\n",
    "   audio = r.record(source)   \n",
    "try:\n",
    "   print(\"audio file contain\" + r.recognize_google(audio))\n",
    "except sr.UnknownValueError:\n",
    "   print(\"Google speech recognizer cant understand your audio\")\n",
    "except sr.RequestError:\n",
    "   print(\"Couldnt get the result from Google Speach Recognition\")"
   ]
  },
  {
   "cell_type": "code",
   "execution_count": 1,
   "metadata": {},
   "outputs": [],
   "source": [
    "import speech_recognition as sr"
   ]
  },
  {
   "cell_type": "code",
   "execution_count": 2,
   "metadata": {},
   "outputs": [],
   "source": [
    "import pyaudio"
   ]
  },
  {
   "cell_type": "code",
   "execution_count": 3,
   "metadata": {},
   "outputs": [],
   "source": [
    "import speech_recognition"
   ]
  },
  {
   "cell_type": "code",
   "execution_count": 5,
   "metadata": {},
   "outputs": [
    {
     "name": "stdout",
     "output_type": "stream",
     "text": [
      "Say something! \n",
      "Google thinks yoy said:\n",
      "hello there I am Roshan Kumar from Pondicherry Engineering College\n"
     ]
    }
   ],
   "source": [
    "import speech_recognition as sr\n",
    "r=sr.Recognizer()\n",
    "with sr.Microphone() as source:\n",
    "    print(\"Say something! \")\n",
    "    audio=r.listen(source)\n",
    "try:\n",
    "    print(\"Google thinks yoy said:\\n\" + r.recognize_google(audio))\n",
    "except:  \n",
    "    pass"
   ]
  },
  {
   "cell_type": "code",
   "execution_count": 8,
   "metadata": {},
   "outputs": [],
   "source": [
    "import webbrowser"
   ]
  },
  {
   "cell_type": "code",
   "execution_count": 11,
   "metadata": {},
   "outputs": [],
   "source": [
    "import selenium"
   ]
  },
  {
   "cell_type": "code",
   "execution_count": 6,
   "metadata": {},
   "outputs": [
    {
     "name": "stdout",
     "output_type": "stream",
     "text": [
      "Say something! \n",
      "Done\n",
      "google thinks u said:\n",
      "Bhag hai kya\n",
      "Bhag hai kyaopens in chrome\n"
     ]
    }
   ],
   "source": [
    "import speech_recognition as sr\n",
    "from selenium import webdriver\n",
    "\n",
    "r=sr.Recognizer()\n",
    "with sr.Microphone() as source:\n",
    "    print(\"Say something! \")\n",
    "    audio=r.listen(source)\n",
    "    print(\"Done\")\n",
    "try:\n",
    "    text=r.recognize_google(audio)\n",
    "    print(\"google thinks u said:\\n\"+ text)\n",
    "    browser = webdriver.Chrome(\"C:\\webdrivers\\chromedriver.exe\")\n",
    "    browser.get(\"https://www.google.com/search?q=\"+text)\n",
    "    print(text+\"opens in chrome\")\n",
    "except Exception as e:  \n",
    "    print(e)"
   ]
  },
  {
   "cell_type": "code",
   "execution_count": null,
   "metadata": {},
   "outputs": [],
   "source": []
  },
  {
   "cell_type": "code",
   "execution_count": null,
   "metadata": {},
   "outputs": [],
   "source": []
  },
  {
   "cell_type": "code",
   "execution_count": null,
   "metadata": {},
   "outputs": [],
   "source": []
  },
  {
   "cell_type": "code",
   "execution_count": 9,
   "metadata": {},
   "outputs": [
    {
     "ename": "ModuleNotFoundError",
     "evalue": "No module named 'gtts'",
     "output_type": "error",
     "traceback": [
      "\u001b[1;31m---------------------------------------------------------------------------\u001b[0m",
      "\u001b[1;31mModuleNotFoundError\u001b[0m                       Traceback (most recent call last)",
      "\u001b[1;32m<ipython-input-9-7a97332d4930>\u001b[0m in \u001b[0;36m<module>\u001b[1;34m()\u001b[0m\n\u001b[0;32m      1\u001b[0m \u001b[1;32mimport\u001b[0m \u001b[0mspeech_recognition\u001b[0m \u001b[1;32mas\u001b[0m \u001b[0msr\u001b[0m\u001b[1;33m\u001b[0m\u001b[0m\n\u001b[0;32m      2\u001b[0m \u001b[1;32mfrom\u001b[0m \u001b[0mselenium\u001b[0m \u001b[1;32mimport\u001b[0m \u001b[0mwebdriver\u001b[0m\u001b[1;33m\u001b[0m\u001b[0m\n\u001b[1;32m----> 3\u001b[1;33m \u001b[1;32mfrom\u001b[0m \u001b[0mgtts\u001b[0m \u001b[1;32mimport\u001b[0m \u001b[0mgTTS\u001b[0m\u001b[1;33m\u001b[0m\u001b[0m\n\u001b[0m\u001b[0;32m      4\u001b[0m \u001b[1;32mimport\u001b[0m \u001b[0mpyglet\u001b[0m\u001b[1;33m\u001b[0m\u001b[0m\n\u001b[0;32m      5\u001b[0m \u001b[1;32mimport\u001b[0m \u001b[0mtime\u001b[0m\u001b[1;33m,\u001b[0m\u001b[0mos\u001b[0m\u001b[1;33m\u001b[0m\u001b[0m\n",
      "\u001b[1;31mModuleNotFoundError\u001b[0m: No module named 'gtts'"
     ]
    }
   ],
   "source": [
    "import speech_recognition as sr\n",
    "from selenium import webdriver\n",
    "from gtts import gTTS\n",
    "import pyglet\n",
    "import time,os\n",
    "\n",
    "def speak(text1,lang1):\n",
    "    file=gTTS(text=text1,lang=lang1)\n",
    "    filename=\"audio_file/temp.mp3\"\n",
    "    file.save(filename)\n",
    "    \n",
    "    music=pyglet.media.load(filename,streaming=False)\n",
    "    music.play()\n",
    "    \n",
    "    time.sleep(music.duration)\n",
    "    os.remove(filename)\n",
    "    \n",
    "\n",
    "\n",
    "r=sr.Recognizer()\n",
    "with sr.Microphone() as source:\n",
    "    print(\"Say something! \")\n",
    "    audio=r.listen(source)\n",
    "    print(\"Done\")\n",
    "try:\n",
    "    text=r.recognize_google(audio)\n",
    "    print(\"google thinks u said:\\n\"+ text)\n",
    "    lang=\"en\"\n",
    "    speak(text,lang)\n",
    "    browser = webdriver.Chrome(\"C:\\webdrivers\\chromedriver.exe\")\n",
    "    browser.get(\"https://www.google.com/search?q=\"+text)\n",
    "    print(text+\"opens in chrome\")\n",
    "except Exception as e:  \n",
    "    print(e)"
   ]
  },
  {
   "cell_type": "code",
   "execution_count": null,
   "metadata": {},
   "outputs": [],
   "source": []
  },
  {
   "cell_type": "code",
   "execution_count": null,
   "metadata": {},
   "outputs": [],
   "source": []
  }
 ],
 "metadata": {
  "kernelspec": {
   "display_name": "Python 3",
   "language": "python",
   "name": "python3"
  },
  "language_info": {
   "codemirror_mode": {
    "name": "ipython",
    "version": 3
   },
   "file_extension": ".py",
   "mimetype": "text/x-python",
   "name": "python",
   "nbconvert_exporter": "python",
   "pygments_lexer": "ipython3",
   "version": "3.7.0"
  }
 },
 "nbformat": 4,
 "nbformat_minor": 2
}
