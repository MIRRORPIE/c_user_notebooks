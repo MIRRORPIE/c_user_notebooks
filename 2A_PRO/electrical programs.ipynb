{
 "cells": [
  {
   "cell_type": "markdown",
   "metadata": {},
   "source": [
    "## loop and nodal analysis using python"
   ]
  },
  {
   "cell_type": "code",
   "execution_count": null,
   "metadata": {},
   "outputs": [],
   "source": [
    "import numpy as np\n",
    "import math\n",
    "\n",
    "def transpose(ar):\n",
    "    ar1=[]\n",
    "    ar2=[]\n",
    "    r=len(ar)\n",
    "    c=len(ar[0])\n",
    "    for i in range(c):\n",
    "        for j in range(r):\n",
    "            ar1.append(ar[j][i])\n",
    "        ar2.append(ar1)\n",
    "        ar1=[]\n",
    "    return(ar2)\n",
    "\n",
    "def pol(x):\n",
    "    re=x.real\n",
    "    img=x.imag\n",
    "    m=((re**2+img**2)**0.5)\n",
    "    t=math.degrees(math.atan(img/re))\n",
    "    return [m,t]\n",
    "\n",
    "\n",
    "\n",
    "#main part\n",
    "L=[]\n",
    "n=int(input(\"enter no. of equations:\"))\n",
    "print(\"enter matrix type values:\")\n",
    "for i in range(n):\n",
    "    L.append(list(map(complex,input().split())))\n",
    "L1=list(map(complex,input(\"enter equalto values:\").split()))\n",
    "D=np.linalg.det(L)\n",
    "L2=[]\n",
    "for i in range(n):\n",
    "    L3=[]\n",
    "    L3.extend(L)\n",
    "    transpose(L3)\n",
    "    L3[i]=L1\n",
    "    transpose(L3)\n",
    "    D_=np.linalg.det(L3)/D\n",
    "    x=pol(D_)\n",
    "    L2.append(x)\n",
    "\n",
    "print(L2)"
   ]
  }
 ],
 "metadata": {
  "kernelspec": {
   "display_name": "Python 3",
   "language": "python",
   "name": "python3"
  },
  "language_info": {
   "codemirror_mode": {
    "name": "ipython",
    "version": 3
   },
   "file_extension": ".py",
   "mimetype": "text/x-python",
   "name": "python",
   "nbconvert_exporter": "python",
   "pygments_lexer": "ipython3",
   "version": "3.6.7"
  }
 },
 "nbformat": 4,
 "nbformat_minor": 2
}
