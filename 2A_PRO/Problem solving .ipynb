{
 "cells": [
  {
   "cell_type": "code",
   "execution_count": null,
   "metadata": {},
   "outputs": [],
   "source": [
    "def par(s):\n",
    "    t = []\n",
    "    n = len(s)\n",
    "    d = [[\"(\", \"{\", \"[\"], [\")\", \"}\", \"]\"]]\n",
    "    d1 = {\"(\":\")\", \"{\":\"}\", \"[\":\"]\"}\n",
    "    for i in range(n):\n",
    "        x = s[i]\n",
    "        if(x in d[0]):\n",
    "            t.append(x)\n",
    "        elif(x in d[1]):\n",
    "            try:\n",
    "                if(d1[t[-1]] == x):\n",
    "                   t.pop()\n",
    "                else:\n",
    "                    return(\"not balanced\")\n",
    "            except:\n",
    "                return(\"not balanced\")\n",
    "    if(len(t) == 0):\n",
    "        return(\"balanced\")\n",
    "    else:\n",
    "        return(\"not balanced\")\n",
    "t1 = int(input()) \n",
    "for _ in range(t1):\n",
    "    s = input()      \n",
    "    print(par(s))"
   ]
  },
  {
   "cell_type": "code",
   "execution_count": null,
   "metadata": {},
   "outputs": [],
   "source": []
  },
  {
   "cell_type": "code",
   "execution_count": null,
   "metadata": {},
   "outputs": [],
   "source": []
  },
  {
   "cell_type": "code",
   "execution_count": null,
   "metadata": {},
   "outputs": [],
   "source": []
  },
  {
   "cell_type": "code",
   "execution_count": null,
   "metadata": {},
   "outputs": [],
   "source": []
  },
  {
   "cell_type": "code",
   "execution_count": null,
   "metadata": {},
   "outputs": [],
   "source": []
  },
  {
   "cell_type": "code",
   "execution_count": 17,
   "metadata": {},
   "outputs": [
    {
     "name": "stdout",
     "output_type": "stream",
     "text": [
      "1\n",
      "35\n",
      "635 1032 632 941 1141 1509 1359 128 123 626 313 350 853 1551 54 123 357 1500 334 1315 131 1008 33 926 907 932 452 127 704 1854 1718 1924 1337 623 720\n",
      "1202 2100 2151 941 1751 1549 1411 949 1500 647 2105 1350 1552 2300 2022 1238 2013 1543 2300 1332 2125 1300 200 941 924 1030 800 2010 755 1857 1829 2335 1348 1700 1500\n",
      "18\n"
     ]
    }
   ],
   "source": [
    "def check(max_plt, needed_plt):\n",
    "    if(needed_plt < max_plt):\n",
    "        needed_plt += 1\n",
    "    return needed_plt\n",
    "\n",
    "t = int(input())\n",
    "\n",
    "for _ in range(t):\n",
    "    n = int(input())\n",
    "    a = list(map(int, input().split()))\n",
    "    d = list(map(int, input().split()))\n",
    "    \n",
    "    a.sort()\n",
    "    d.sort()\n",
    "    \n",
    "    max_plt = 1\n",
    "    needed_plt = 1\n",
    "\n",
    "    i = 1\n",
    "    j = 0\n",
    "\n",
    "    while(i < n and j < n):\n",
    "        var1 = a[i]\n",
    "        var2 = d[j]\n",
    "        if(var1 > var2):\n",
    "            j += 1\n",
    "            max_plt -= 1\n",
    "        else:\n",
    "            i += 1\n",
    "            max_plt += 1\n",
    "        needed_plt = check(max_plt, needed_plt)\n",
    "\n",
    "    print(needed_plt)\n",
    "        \n",
    "    "
   ]
  },
  {
   "cell_type": "code",
   "execution_count": null,
   "metadata": {},
   "outputs": [],
   "source": []
  },
  {
   "cell_type": "code",
   "execution_count": null,
   "metadata": {},
   "outputs": [],
   "source": []
  },
  {
   "cell_type": "code",
   "execution_count": null,
   "metadata": {},
   "outputs": [],
   "source": []
  },
  {
   "cell_type": "code",
   "execution_count": null,
   "metadata": {},
   "outputs": [],
   "source": []
  },
  {
   "cell_type": "code",
   "execution_count": null,
   "metadata": {},
   "outputs": [],
   "source": []
  },
  {
   "cell_type": "code",
   "execution_count": 20,
   "metadata": {},
   "outputs": [
    {
     "name": "stdout",
     "output_type": "stream",
     "text": [
      "1\n",
      "5\n",
      "100 58 56 51 53 52\n",
      "(3 4)\n"
     ]
    }
   ],
   "source": [
    "t = int(input())\n",
    "\n",
    "for _ in range(t):\n",
    "    n = int(input())\n",
    "    arr = list(map(int, input().split()))\n",
    "    mi_index = 0\n",
    "    ma_index = 0\n",
    "    flag = 1\n",
    "    main_arr = []\n",
    "    for i in range(n-1):\n",
    "        if(arr[i+1] < arr[i]):\n",
    "            if(mi_index != ma_index):\n",
    "                print(\"({} {})\".format(mi_index, ma_index), end = \" \")\n",
    "                flag = 0\n",
    "            mi_index = i+1\n",
    "            ma_index += 1\n",
    "        else:\n",
    "            ma_index += 1\n",
    "    if(mi_index != ma_index):\n",
    "        print(\"({} {})\".format(mi_index, ma_index))\n",
    "        flag = 0\n",
    "    elif(flag == 1):\n",
    "        print(\"No Profit\")"
   ]
  },
  {
   "cell_type": "code",
   "execution_count": null,
   "metadata": {},
   "outputs": [],
   "source": []
  },
  {
   "cell_type": "code",
   "execution_count": null,
   "metadata": {},
   "outputs": [],
   "source": []
  },
  {
   "cell_type": "code",
   "execution_count": null,
   "metadata": {},
   "outputs": [],
   "source": []
  },
  {
   "cell_type": "code",
   "execution_count": 46,
   "metadata": {},
   "outputs": [
    {
     "name": "stdout",
     "output_type": "stream",
     "text": [
      "1\n",
      "1\n",
      "32\n",
      "[None, None, None, None, None, None, None, None, None, None, None, None, None, None, None, None, None, None, None, None, None, None, None, None, None, None, None, None, None, None, None, None, 1]\n",
      "1\n"
     ]
    }
   ],
   "source": [
    "t = int(input())\n",
    "\n",
    "for _ in range(t):\n",
    "    n = int(input())\n",
    "    arr = list(map(int, input().split()))\n",
    "    m = max(arr)\n",
    "    arr1 = [None] * (m+1)\n",
    "    \n",
    "    for i in range(n):\n",
    "        arr1[arr[i] % (m+1)] = 1\n",
    "    arr1[0] = None\n",
    "    #print(arr1)\n",
    "    \n",
    "    m = 0\n",
    "    c = 0\n",
    "    for i in arr1:\n",
    "        if(i == 1):\n",
    "            c += 1\n",
    "        elif(m < c):\n",
    "            m = c\n",
    "            c = 0\n",
    "        else:\n",
    "            c = 0\n",
    "    if(m < c):\n",
    "        m = c\n",
    "        \n",
    "    print(m)\n",
    "    "
   ]
  },
  {
   "cell_type": "code",
   "execution_count": null,
   "metadata": {},
   "outputs": [],
   "source": []
  },
  {
   "cell_type": "code",
   "execution_count": null,
   "metadata": {},
   "outputs": [],
   "source": []
  },
  {
   "cell_type": "code",
   "execution_count": null,
   "metadata": {},
   "outputs": [],
   "source": []
  },
  {
   "cell_type": "markdown",
   "metadata": {},
   "source": [
    "### Heap implementation using inbuilt functions: "
   ]
  },
  {
   "cell_type": "code",
   "execution_count": 52,
   "metadata": {},
   "outputs": [
    {
     "name": "stdout",
     "output_type": "stream",
     "text": [
      "1\n",
      "7 3\n",
      "1 23 12 9 30 2 50\n",
      "50 30 23 \n"
     ]
    }
   ],
   "source": [
    "#User function Template for python3\n",
    "\n",
    "from heapq import heappop, heappush, heapify\n",
    "heap = [] \n",
    "heapify(heap)\n",
    "\n",
    "class Solution:\n",
    "\n",
    "    def kLargest(self,arr, n, k):\n",
    "        # code here\n",
    "        heap = [] \n",
    "        a = []\n",
    "        heapify(heap)\n",
    "        for i in arr:\n",
    "            heappush(heap, -1*i)          # -1 for maxheap.... and 1 for min heap\n",
    "\n",
    "        for i in range(k):\n",
    "            a.append(-1 * heappop(heap))\n",
    "\n",
    "        return(a)\n",
    "            \n",
    "            \n",
    "#{ \n",
    "#  Driver Code Starts\n",
    "#Initial Template for Python 3\n",
    "\n",
    "\n",
    "if __name__ == '__main__':\n",
    "    tc = int(input())\n",
    "    while tc > 0:\n",
    "        n, k = list(map(int, input().strip().split()))\n",
    "        arr = list(map(int, input().strip().split()))\n",
    "        ob = Solution()\n",
    "        ans = ob.kLargest(arr, n, k)\n",
    "        for x in ans:\n",
    "            print(x, end=\" \")\n",
    "        print()\n",
    "        tc -= 1\n",
    "\n",
    "# } Driver Code Ends"
   ]
  },
  {
   "cell_type": "code",
   "execution_count": null,
   "metadata": {},
   "outputs": [],
   "source": []
  },
  {
   "cell_type": "code",
   "execution_count": null,
   "metadata": {},
   "outputs": [],
   "source": []
  },
  {
   "cell_type": "code",
   "execution_count": null,
   "metadata": {},
   "outputs": [],
   "source": []
  },
  {
   "cell_type": "code",
   "execution_count": null,
   "metadata": {},
   "outputs": [],
   "source": []
  },
  {
   "cell_type": "code",
   "execution_count": null,
   "metadata": {},
   "outputs": [],
   "source": []
  },
  {
   "cell_type": "code",
   "execution_count": null,
   "metadata": {},
   "outputs": [],
   "source": []
  },
  {
   "cell_type": "markdown",
   "metadata": {},
   "source": [
    "### Word break geeksforgeeks problems:"
   ]
  },
  {
   "cell_type": "code",
   "execution_count": 1,
   "metadata": {},
   "outputs": [
    {
     "name": "stdout",
     "output_type": "stream",
     "text": [
      "1\n",
      "5\n",
      "sam samsung i like a\n",
      "samsunglike\n",
      "1\n"
     ]
    }
   ],
   "source": [
    "\n",
    "#time com: o(2**n) and space:  o(n)\n",
    "\n",
    "def wordbreak(s, arr):\n",
    "    if(len(s) == 0):\n",
    "        return 1\n",
    "    \n",
    "    for x in arr:\n",
    "        p = s[0:len(x)]\n",
    "        res = 0\n",
    "        if(p == x):\n",
    "            res = wordbreak(s[len(x):], arr)\n",
    "        if(res):\n",
    "            return 1\n",
    "            \n",
    "    return 0\n",
    "\n",
    "\n",
    "\n",
    "\n",
    "t = int(input())\n",
    "\n",
    "for _ in range(t):\n",
    "    n = int(input())\n",
    "    arr = set(input().split())\n",
    "    \n",
    "    s = input()\n",
    "    \n",
    "    print(wordbreak(s, arr))\n",
    "\n",
    "    "
   ]
  },
  {
   "cell_type": "code",
   "execution_count": 4,
   "metadata": {
    "scrolled": true
   },
   "outputs": [
    {
     "name": "stdout",
     "output_type": "stream",
     "text": [
      "1\n",
      "5\n",
      "sam samsung i like a\n",
      "samsungialike\n",
      "1\n"
     ]
    }
   ],
   "source": [
    "# recursion with memorization: (top down memorization): t: o(n**2) and mem: o(n)\n",
    "\n",
    "def helper(s, arr, memo):\n",
    "    if(len(s) == 0):\n",
    "        return 1\n",
    "    elif(s in memo):\n",
    "        return memo[s]\n",
    "    \n",
    "    for x in arr:\n",
    "        if(s[0:len(x)] == x and helper(s[len(x):], arr, memo)):\n",
    "            memo[s] = 1\n",
    "            return 1\n",
    "    memo[s] = 0      \n",
    "    return 0\n",
    "\n",
    "def wordbreak(s, arr):\n",
    "    memo = {}\n",
    "    return helper(s, arr, memo)\n",
    "    \n",
    "\n",
    "t = int(input())\n",
    "\n",
    "for _ in range(t):\n",
    "    n = int(input())\n",
    "    arr = set(input().split())\n",
    "    \n",
    "    s = input()\n",
    "    \n",
    "    print(wordbreak(s, arr))\n"
   ]
  },
  {
   "cell_type": "code",
   "execution_count": null,
   "metadata": {},
   "outputs": [],
   "source": []
  },
  {
   "cell_type": "code",
   "execution_count": 5,
   "metadata": {},
   "outputs": [
    {
     "name": "stdout",
     "output_type": "stream",
     "text": [
      "1\n",
      "5\n",
      "sam samsung i like a\n",
      "samsungialike\n",
      "1\n"
     ]
    }
   ],
   "source": [
    "# bottom top approach: time: o(n**2) and space : o(n)\n",
    "\n",
    "def wordbreak(s, arr):\n",
    "    dp = [0] * (len(s) + 1)\n",
    "    dp[0] = 1\n",
    "    \n",
    "    for i in range(1, len(s) + 1):\n",
    "        for j in range(i-1, -1, -1):\n",
    "            if(dp[j] and s[j:i] in arr):\n",
    "                dp[i] = 1\n",
    "                break\n",
    "                \n",
    "    return dp[-1]\n",
    "\n",
    "\n",
    "t = int(input())\n",
    "\n",
    "for _ in range(t):\n",
    "    n = int(input())\n",
    "    arr = set(input().split())\n",
    "    \n",
    "    s = input()\n",
    "    \n",
    "    print(wordbreak(s, arr))"
   ]
  },
  {
   "cell_type": "code",
   "execution_count": null,
   "metadata": {},
   "outputs": [],
   "source": []
  },
  {
   "cell_type": "markdown",
   "metadata": {},
   "source": [
    "### Minimum Difference Between Subsets:"
   ]
  },
  {
   "cell_type": "code",
   "execution_count": 9,
   "metadata": {},
   "outputs": [
    {
     "name": "stdout",
     "output_type": "stream",
     "text": [
      "5\n",
      "1 2 5 4 1\n",
      "0 0\n",
      "1 0\n",
      "3 0\n",
      "8 0\n",
      "12 0\n",
      "13 0\n",
      "12 1\n",
      "8 4\n",
      "9 4\n",
      "8 5\n",
      "3 5\n",
      "7 5\n",
      "8 5\n",
      "7 6\n",
      "3 9\n",
      "4 9\n",
      "3 10\n",
      "1 2\n",
      "6 2\n",
      "10 2\n",
      "11 2\n",
      "10 3\n",
      "6 6\n",
      "7 6\n",
      "6 7\n",
      "1 7\n",
      "5 7\n",
      "6 7\n",
      "5 8\n",
      "1 11\n",
      "2 11\n",
      "1 12\n",
      "0 1\n",
      "2 1\n",
      "7 1\n",
      "11 1\n",
      "12 1\n",
      "11 2\n",
      "7 5\n",
      "8 5\n",
      "7 6\n",
      "2 6\n",
      "6 6\n",
      "7 6\n",
      "6 7\n",
      "2 10\n",
      "3 10\n",
      "2 11\n",
      "0 3\n",
      "5 3\n",
      "9 3\n",
      "10 3\n",
      "9 4\n",
      "5 7\n",
      "6 7\n",
      "5 8\n",
      "0 8\n",
      "4 8\n",
      "5 8\n",
      "4 9\n",
      "0 12\n",
      "1 12\n",
      "0 13\n"
     ]
    },
    {
     "data": {
      "text/plain": [
       "1"
      ]
     },
     "execution_count": 9,
     "metadata": {},
     "output_type": "execute_result"
    }
   ],
   "source": [
    "# recursive solution\n",
    "# time : o(2**n)\n",
    "# space : o(n)\n",
    "\n",
    "def m_recursiveH(nums, i, sum1, sum2):\n",
    "    print(sum1, sum2)\n",
    "    if(i == len(nums)):\n",
    "        return abs(sum1-sum2)\n",
    "    \n",
    "    inc = m_recursiveH(nums, i+1, sum1+nums[i], sum2)\n",
    "    exc = m_recursiveH(nums, i+1, sum1, sum2+nums[i])\n",
    "    return(min(inc, exc))\n",
    "\n",
    "\n",
    "\n",
    "\n",
    "def m_recursive(nums):\n",
    "    return m_recursiveH(nums, 0, 0, 0)\n",
    "\n",
    "n = int(input())\n",
    "nums = list(map(int, input().split()))\n",
    "\n",
    "m_recursive(nums)"
   ]
  },
  {
   "cell_type": "code",
   "execution_count": null,
   "metadata": {},
   "outputs": [],
   "source": []
  },
  {
   "cell_type": "code",
   "execution_count": null,
   "metadata": {},
   "outputs": [],
   "source": [
    "def get_ans(n, m):\n",
    "    cache = [[0]*m for i in range(n)]\n",
    "    for i in range(n):\n",
    "        cache[i][-1] = 1\n",
    "    for i in range(m):\n",
    "        cache[-1][i] = 1\n",
    "        \n",
    "    for i in reversed(range(0, n-1)):\n",
    "        for j in reversed(range(0, m-1)):\n",
    "            cache[i][j] = (cache[i+1][j] + cache[i][j+1])%(pow(10,9)+7)\n",
    "            \n",
    "    return cache[0][0]\n",
    "    \n",
    "if __name__ == '__main__':\n",
    "    cases = int(input())\n",
    "    for _ in range(cases):\n",
    "        n, m = list(map(int, input().split()))\n",
    "        print(get_ans(n, m))"
   ]
  },
  {
   "cell_type": "code",
   "execution_count": null,
   "metadata": {},
   "outputs": [],
   "source": []
  },
  {
   "cell_type": "code",
   "execution_count": null,
   "metadata": {},
   "outputs": [],
   "source": []
  },
  {
   "cell_type": "code",
   "execution_count": null,
   "metadata": {},
   "outputs": [],
   "source": []
  },
  {
   "cell_type": "code",
   "execution_count": null,
   "metadata": {},
   "outputs": [],
   "source": []
  },
  {
   "cell_type": "code",
   "execution_count": null,
   "metadata": {},
   "outputs": [],
   "source": [
    "    br = 0\n",
    "    rb = 0\n",
    "    bb = 0\n",
    "    rr = 0\n",
    "    \n",
    "    #min from rb and br\n",
    "    min_diff = 0\n",
    "    \n",
    "    #max number of words\n",
    "    max_word_num = 0\n",
    "    \n",
    "    #multiplier\n",
    "    multpl = len(array[0])\n",
    "    \n",
    "    # looping through words to count occurances of words\n",
    "    # starting or ending with R or B\n",
    "    for element in array:\n",
    "        if element.startswith(\"B\") and element.endswith(\"B\"):\n",
    "            bb += 1\n",
    "            \n",
    "        if element.endswith(\"R\") and element.startswith(\"R\"):\n",
    "            rr += 1\n",
    "            \n",
    "        if element.endswith(\"B\") and element.startswith(\"R\"):\n",
    "            rb += 1\n",
    "            \n",
    "        if element.endswith(\"R\") and element.startswith(\"B\"):\n",
    "            br += 1\n",
    "            \n",
    "        if rb == 0 and br == 0 :\n",
    "            if rr + bb < 2 or (rr == 1 and bb == 1):\n",
    "                max_word_num = 0\n",
    "            else: \n",
    "                max_word_num = max(bb,rr)\n",
    "        elif rb == br:\n",
    "            max_word_num = rb + br + bb + rr\n",
    "        else: \n",
    "            min_diff = 2*min(br,rb)\n",
    "            if bb + rr >= 1 or min(br,rb) > 0:\n",
    "                min_diff += 1\n",
    "            max_word_num = min_diff + bb + rr\n",
    "            \n",
    "    print (max_word_num * multpl)  \n",
    "        \n",
    "\n",
    "def printMaxStr():\n",
    "    text = input()\n",
    "    \n",
    "    for i in range(0, int(text)):\n",
    "        first_line = list(map(int, input().split()))\n",
    "        sec_line = list(map(str, input().split()))\n",
    "        \n",
    "        calcCombinedStr(first_line, sec_line)\n",
    "        \n",
    "    return (first_line, sec_line)\n",
    "    \n",
    "printMaxStr()"
   ]
  },
  {
   "cell_type": "code",
   "execution_count": null,
   "metadata": {},
   "outputs": [],
   "source": []
  },
  {
   "cell_type": "code",
   "execution_count": null,
   "metadata": {},
   "outputs": [],
   "source": [
    "prime = [True for i in range(10**6+1)] \n",
    "counter = [[0]*10]*(10**6+1)\n",
    "def SieveOfEratosthenes(n): \n",
    "    p = 2\n",
    "    while (p * p <= n): \n",
    "        if (prime[p] == True): \n",
    "            for i in range(p * p, n+1, p): \n",
    "                prime[i] = False\n",
    "        p += 1\n",
    "SieveOfEratosthenes(10**6)\n",
    "for i in range(2,10**6+1):\n",
    "    counter[i] = counter[i-1].copy()\n",
    "    if prime[i]==True:\n",
    "        temp = i\n",
    "        while(temp):\n",
    "            counter[i][temp%10]+=1\n",
    "            temp = temp//10\n",
    "t = int(input())\n",
    "for i in range(t):\n",
    "    l,r = map(int,input().split())\n",
    "    count = [0]*10\n",
    "    ma = 0;ans = -1\n",
    "    for j in range(9,-1,-1):\n",
    "        count[j] = counter[r][j]-counter[l-1][j]\n",
    "        if count[j]>ma:\n",
    "            ma = count[j]\n",
    "            ans = j\n",
    "    print(ans)"
   ]
  },
  {
   "cell_type": "code",
   "execution_count": null,
   "metadata": {},
   "outputs": [],
   "source": []
  },
  {
   "cell_type": "code",
   "execution_count": null,
   "metadata": {},
   "outputs": [],
   "source": [
    "# Python program to \n",
    "# demonstrate stack implementation \n",
    "# using queue module \n",
    "\n",
    "\n",
    "from queue import LifoQueue \n",
    "\n",
    "# Initializing a stack \n",
    "stack = LifoQueue(maxsize = 3) \n",
    "\n",
    "# qsize() show the number of elements \n",
    "# in the stack \n",
    "print(stack.qsize()) \n",
    "\n",
    "# put() function to push \n",
    "# element in the stack \n",
    "stack.put('a') \n",
    "stack.put('b') \n",
    "stack.put('c') \n",
    "\n",
    "print(\"Full: \", stack.full()) \n",
    "print(\"Size: \", stack.qsize()) \n",
    "\n",
    "# get() fucntion to pop \n",
    "# element from stack in \n",
    "# LIFO order \n",
    "print('\\nElements poped from the stack') \n",
    "print(stack.get()) \n",
    "print(stack.get()) \n",
    "print(stack.get()) \n",
    "\n",
    "print(\"\\nEmpty: \", stack.empty()) \n"
   ]
  },
  {
   "cell_type": "code",
   "execution_count": null,
   "metadata": {},
   "outputs": [],
   "source": []
  },
  {
   "cell_type": "code",
   "execution_count": null,
   "metadata": {},
   "outputs": [],
   "source": []
  },
  {
   "cell_type": "code",
   "execution_count": null,
   "metadata": {},
   "outputs": [],
   "source": [
    "from queue import Queue \n",
    "  \n",
    "# Initializing a queue \n",
    "q = Queue(maxsize = 3) \n",
    "  \n",
    "# qsize() give the maxsize  \n",
    "# of the Queue  \n",
    "print(q.qsize())  \n",
    "  \n",
    "# Adding of element to queue \n",
    "q.put('a') \n",
    "q.put('b') \n",
    "q.put('c') \n",
    "  \n",
    "# Return Boolean for Full  \n",
    "# Queue  \n",
    "print(\"\\nFull: \", q.full())  \n",
    "  \n",
    "# Removing element from queue \n",
    "print(\"\\nElements dequeued from the queue\") \n",
    "print(q.get()) \n",
    "print(q.get()) \n",
    "print(q.get()) \n",
    "  \n",
    "# Return Boolean for Empty  \n",
    "# Queue  \n",
    "print(\"\\nEmpty: \", q.empty()) \n",
    "  \n",
    "q.put(1) \n",
    "print(\"\\nEmpty: \", q.empty())  \n",
    "print(\"Full: \", q.full()) \n",
    "  \n",
    "# This would result into Infinite  \n",
    "# Loop as the Queue is empty.  \n",
    "# print(q.get()) "
   ]
  },
  {
   "cell_type": "code",
   "execution_count": null,
   "metadata": {},
   "outputs": [],
   "source": []
  },
  {
   "cell_type": "code",
   "execution_count": null,
   "metadata": {},
   "outputs": [],
   "source": []
  },
  {
   "cell_type": "code",
   "execution_count": null,
   "metadata": {},
   "outputs": [],
   "source": [
    "# Python code to demonstrate working \n",
    "# of binary search in library \n",
    "from bisect import bisect_left \n",
    "\n",
    "def BinarySearch(a, x): \n",
    "\ti = bisect_left(a, x) \n",
    "\tif i != len(a) and a[i] == x: \n",
    "\t\treturn i \n",
    "\telse: \n",
    "\t\treturn -1\n",
    "\n",
    "a = [1, 2, 4, 4, 8] \n",
    "x = int(4) \n",
    "res = BinarySearch(a, x) \n",
    "if res == -1: \n",
    "\tprint(x, \"is absent\") \n",
    "else: \n",
    "\tprint(\"First occurrence of\", x, \"is present at\", res) \n"
   ]
  },
  {
   "cell_type": "code",
   "execution_count": null,
   "metadata": {},
   "outputs": [],
   "source": []
  },
  {
   "cell_type": "code",
   "execution_count": null,
   "metadata": {},
   "outputs": [],
   "source": []
  },
  {
   "cell_type": "code",
   "execution_count": null,
   "metadata": {},
   "outputs": [],
   "source": [
    "# Python code to demonstrate working \n",
    "# of binary search in library \n",
    "from bisect import bisect_right \n",
    "\n",
    "def BinarySearch(a, x): \n",
    "\ti = bisect_right(a, x) \n",
    "\tif i != len(a)+1 and a[i-1] == x: \n",
    "\t\treturn (i-1) \n",
    "\telse: \n",
    "\t\treturn -1\n",
    "\n",
    "a = [1, 2, 4, 4] \n",
    "x = int(4) \n",
    "res = BinarySearch(a, x) \n",
    "if res == -1: \n",
    "\tprint(x, \"is absent\") \n",
    "else: \n",
    "\tprint(\"Last occurrence of\", x, \"is present at\", res) \n"
   ]
  },
  {
   "cell_type": "code",
   "execution_count": null,
   "metadata": {},
   "outputs": [],
   "source": []
  },
  {
   "cell_type": "code",
   "execution_count": null,
   "metadata": {},
   "outputs": [],
   "source": [
    "\n",
    "# Python program to demonstrate insert operation in binary search tree \n",
    "\n",
    "# A utility class that represents an individual node in a BST \n",
    "class Node: \n",
    "\tdef __init__(self,key): \n",
    "\t\tself.left = None\n",
    "\t\tself.right = None\n",
    "\t\tself.val = key \n",
    "\n",
    "# A utility function to insert a new node with the given key \n",
    "def insert(root,key): \n",
    "\tif root is None: \n",
    "\t\treturn Node(key) \n",
    "\telse: \n",
    "\t\tif root.val == key: \n",
    "\t\t\treturn root \n",
    "\t\telif root.val < key: \n",
    "\t\t\troot.right = insert(root.right, key) \n",
    "\t\telse: \n",
    "\t\t\troot.left = insert(root.left, key) \n",
    "\treturn root \n",
    "\n",
    "# A utility function to do inorder tree traversal \n",
    "def inorder(root): \n",
    "\tif root: \n",
    "\t\tinorder(root.left) \n",
    "\t\tprint(root.val) \n",
    "\t\tinorder(root.right) \n",
    "\n",
    "\n",
    "# Driver program to test the above functions \n",
    "# Let us create the following BST \n",
    "# 50 \n",
    "# /\t \\ \n",
    "# 30\t 70 \n",
    "# / \\ / \\ \n",
    "# 20 40 60 80 \n",
    "\n",
    "r = Node(50) \n",
    "r = insert(r, 30) \n",
    "r = insert(r, 20) \n",
    "r = insert(r, 40) \n",
    "r = insert(r, 70) \n",
    "r = insert(r, 60) \n",
    "r = insert(r, 80) \n",
    "\n",
    "# Print inoder traversal of the BST \n",
    "inorder(r) \n"
   ]
  },
  {
   "cell_type": "code",
   "execution_count": null,
   "metadata": {},
   "outputs": [],
   "source": []
  },
  {
   "cell_type": "code",
   "execution_count": null,
   "metadata": {},
   "outputs": [],
   "source": [
    "import collections\n",
    "\n",
    "d = collections.OrderedDict(one=1, two=2, three=3)\n",
    "\n",
    "print(d)\n",
    "\n",
    "d[\"four\"] = 4\n",
    "print(d)\n",
    "\n",
    "print(d.keys())"
   ]
  },
  {
   "cell_type": "code",
   "execution_count": null,
   "metadata": {},
   "outputs": [],
   "source": []
  },
  {
   "cell_type": "code",
   "execution_count": null,
   "metadata": {},
   "outputs": [],
   "source": []
  },
  {
   "cell_type": "code",
   "execution_count": null,
   "metadata": {},
   "outputs": [],
   "source": [
    "from collections import defaultdict\n",
    "dd = defaultdict(list)\n",
    "\n",
    "# Accessing a missing key creates it and\n",
    "# initializes it using the default factory,\n",
    "# i.e. list() in this example:\n",
    "dd[\"dogs\"].append(\"Rufus\")\n",
    "dd[\"dogs\"].append(\"Kathrin\")\n",
    "dd[\"dogs\"].append(\"Mr Sniffles\")\n",
    "\n",
    "dd[\"dogs\"]"
   ]
  },
  {
   "cell_type": "code",
   "execution_count": null,
   "metadata": {},
   "outputs": [],
   "source": []
  },
  {
   "cell_type": "code",
   "execution_count": null,
   "metadata": {},
   "outputs": [],
   "source": []
  },
  {
   "cell_type": "code",
   "execution_count": 3,
   "metadata": {},
   "outputs": [
    {
     "name": "stdout",
     "output_type": "stream",
     "text": [
      "5 3\n",
      "4 4 1 2 0\n",
      "4\n"
     ]
    }
   ],
   "source": [
    "\n",
    "def minOpeartions(arr, n, x) : \n",
    "    k = x \n",
    "    i = 0\n",
    "    n = n-1\n",
    "    while (n>-1) : \n",
    "        if (arr[n] < x) : \n",
    "            k = k - 1\n",
    "\n",
    "        if (arr[n] == x) : \n",
    "            k = k + 1\n",
    "        n = n - 1\n",
    "    return k \n",
    "\n",
    "  \n",
    "\n",
    "# driver function \n",
    "n ,k = map(int, input().split())\n",
    "arr = list(map(int, input().split()))\n",
    "\n",
    "res = minOpeartions(arr, n, k)\n",
    "print(res + len(set(arr)))"
   ]
  },
  {
   "cell_type": "code",
   "execution_count": null,
   "metadata": {},
   "outputs": [],
   "source": []
  },
  {
   "cell_type": "markdown",
   "metadata": {},
   "source": [
    "### 23/09/2020"
   ]
  },
  {
   "cell_type": "code",
   "execution_count": 13,
   "metadata": {},
   "outputs": [
    {
     "name": "stdout",
     "output_type": "stream",
     "text": [
      "1\n",
      "5 3\n",
      "1 2 3 4 5\n",
      "3 2 1 5 4 "
     ]
    }
   ],
   "source": [
    "def pr(arr, n, g):\n",
    "    print(*arr[g-1::-1], end = \" \")\n",
    "    for i in range(0+g, n, g):\n",
    "        print(*arr[i+g-1:i-1:-1], end = \" \")\n",
    "\n",
    "t = int(input())\n",
    "    \n",
    "for _ in range(t):\n",
    "    n, g = map(int, input().split())\n",
    "    arr = list(map(int, input().split()))\n",
    "\n",
    "    pr(arr, n, g)"
   ]
  },
  {
   "cell_type": "code",
   "execution_count": null,
   "metadata": {},
   "outputs": [],
   "source": []
  },
  {
   "cell_type": "code",
   "execution_count": 4,
   "metadata": {},
   "outputs": [
    {
     "name": "stdout",
     "output_type": "stream",
     "text": [
      "1\n",
      "5 3\n",
      "1 2 3 4 5\n",
      "3 4\n",
      "6 4\n",
      "3 2 1 5 4\n"
     ]
    }
   ],
   "source": [
    "def pr(arr, n, g):\n",
    "    i = 0\n",
    "    k = 0\n",
    "    j = g-1\n",
    "    while(i < j and j < n):\n",
    "        arr[i], arr[j] = arr[j], arr[i]\n",
    "        i += 1\n",
    "        j -= 1\n",
    "        if(i >= j):\n",
    "            i = k + g\n",
    "            j = i + g -1\n",
    "            j = i + g -1 if j < n else n-1\n",
    "            print(i, j)\n",
    "            k += g\n",
    "            \n",
    "    print(*arr)\n",
    "\n",
    "\n",
    "\n",
    "t = int(input())\n",
    "    \n",
    "for _ in range(t):\n",
    "    n, g = map(int, input().split())\n",
    "    arr = list(map(int, input().split()))\n",
    "\n",
    "    pr(arr, n, g)\n"
   ]
  },
  {
   "cell_type": "code",
   "execution_count": null,
   "metadata": {},
   "outputs": [],
   "source": []
  },
  {
   "cell_type": "code",
   "execution_count": null,
   "metadata": {},
   "outputs": [],
   "source": [
    "#User function Template for python3\n",
    "class Solution:\n",
    "\n",
    "\tdef checkTriplet(self,arr, n):\n",
    "    \t# code here\n",
    "    \t\n",
    "\n",
    "\n",
    "\n",
    "#{ \n",
    "#  Driver Code Starts\n",
    "#Initial Template for Python 3\n",
    "\n",
    "\n",
    "\n",
    "if __name__ == '__main__':\n",
    "    tc = int(input())\n",
    "    while tc > 0:\n",
    "        n = int(input())\n",
    "        arr = list(map(int, input().strip().split()))\n",
    "        ob = Solution()\n",
    "        ans = ob.checkTriplet(arr, n)\n",
    "        if ans:\n",
    "            print(\"Yes\\n\")\n",
    "        else:\n",
    "            print(\"No\\n\")\n",
    "        tc -= 1\n",
    "#User function Template for python3\n",
    "class Solution:\n",
    "\n",
    "\tdef checkTriplet(self,arr, n):\n",
    "    \t# code here\n",
    "    \t\n",
    "\n",
    "\n",
    "\n",
    "#{ \n",
    "#  Driver Code Starts\n",
    "#Initial Template for Python 3\n",
    "\n",
    "\n",
    "\n",
    "if __name__ == '__main__':\n",
    "    tc = int(input())\n",
    "    while tc > 0:\n",
    "        n = int(input())\n",
    "        arr = list(map(int, input().strip().split()))\n",
    "        ob = Solution()\n",
    "        ans = ob.checkTriplet(arr, n)\n",
    "        if ans:\n",
    "            print(\"Yes\\n\")\n",
    "        else:\n",
    "            print(\"No\\n\")\n",
    "        tc -= 1\n"
   ]
  },
  {
   "cell_type": "code",
   "execution_count": null,
   "metadata": {},
   "outputs": [],
   "source": []
  },
  {
   "cell_type": "code",
   "execution_count": 3,
   "metadata": {},
   "outputs": [
    {
     "name": "stdout",
     "output_type": "stream",
     "text": [
      "1\n",
      "61\n",
      "42 12 54 69 48 45 63 58 38 60 24 42 30 79 17 36 91 43 89 7 41 43 65 49 47 6 91 30 71 51 7 2 94 49 30 24 85 55 57 41 67 77 32 9 45 40 27 24 38 39 19 83 30 42 34 16 40 59 5 31 78\n",
      "Yes\n",
      "\n"
     ]
    }
   ],
   "source": [
    "#User function Template for python3\n",
    "class Solution:\n",
    "\n",
    "    def checkTriplet(self,arr, n):\n",
    "        # code here\n",
    "        arr = list(set(arr))\n",
    "        arr = [i**2 for i in arr]\n",
    "        for i in arr:\n",
    "            for j in arr:\n",
    "                if(i + j in arr):\n",
    "                    return True\n",
    "        else:\n",
    "            return False\n",
    "                \n",
    "            \n",
    "            \n",
    "\n",
    "\n",
    "\n",
    "#{ \n",
    "#  Driver Code Starts\n",
    "#Initial Template for Python 3\n",
    "\n",
    "\n",
    "\n",
    "if __name__ == '__main__':\n",
    "    tc = int(input())\n",
    "    while tc > 0:\n",
    "        n = int(input())\n",
    "        arr = list(map(int, input().strip().split()))\n",
    "        ob = Solution()\n",
    "        ans = ob.checkTriplet(arr, n)\n",
    "        if ans:\n",
    "            print(\"Yes\\n\")\n",
    "        else:\n",
    "            print(\"No\\n\")\n",
    "        tc -= 1\n"
   ]
  },
  {
   "cell_type": "code",
   "execution_count": null,
   "metadata": {},
   "outputs": [],
   "source": []
  },
  {
   "cell_type": "code",
   "execution_count": null,
   "metadata": {},
   "outputs": [],
   "source": []
  },
  {
   "cell_type": "code",
   "execution_count": null,
   "metadata": {},
   "outputs": [],
   "source": []
  },
  {
   "cell_type": "code",
   "execution_count": null,
   "metadata": {},
   "outputs": [],
   "source": []
  },
  {
   "cell_type": "code",
   "execution_count": null,
   "metadata": {},
   "outputs": [],
   "source": []
  },
  {
   "cell_type": "code",
   "execution_count": null,
   "metadata": {},
   "outputs": [],
   "source": []
  },
  {
   "cell_type": "code",
   "execution_count": null,
   "metadata": {},
   "outputs": [],
   "source": []
  },
  {
   "cell_type": "code",
   "execution_count": null,
   "metadata": {},
   "outputs": [],
   "source": []
  },
  {
   "cell_type": "code",
   "execution_count": null,
   "metadata": {},
   "outputs": [],
   "source": []
  },
  {
   "cell_type": "code",
   "execution_count": null,
   "metadata": {},
   "outputs": [],
   "source": []
  },
  {
   "cell_type": "code",
   "execution_count": null,
   "metadata": {},
   "outputs": [],
   "source": []
  }
 ],
 "metadata": {
  "kernelspec": {
   "display_name": "Python 3",
   "language": "python",
   "name": "python3"
  },
  "language_info": {
   "codemirror_mode": {
    "name": "ipython",
    "version": 3
   },
   "file_extension": ".py",
   "mimetype": "text/x-python",
   "name": "python",
   "nbconvert_exporter": "python",
   "pygments_lexer": "ipython3",
   "version": "3.8.2"
  }
 },
 "nbformat": 4,
 "nbformat_minor": 4
}
