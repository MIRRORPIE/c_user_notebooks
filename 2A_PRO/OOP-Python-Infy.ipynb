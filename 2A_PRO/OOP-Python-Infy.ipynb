{
 "cells": [
  {
   "cell_type": "code",
   "execution_count": null,
   "metadata": {},
   "outputs": [],
   "source": []
  },
  {
   "cell_type": "code",
   "execution_count": null,
   "metadata": {},
   "outputs": [],
   "source": []
  },
  {
   "cell_type": "markdown",
   "metadata": {},
   "source": [
    "## Basics of class:"
   ]
  },
  {
   "cell_type": "code",
   "execution_count": 5,
   "metadata": {},
   "outputs": [
    {
     "name": "stdout",
     "output_type": "stream",
     "text": [
      "140661522614144 140661522615552\n",
      "False\n",
      "True\n"
     ]
    }
   ],
   "source": [
    "a = [1,2]\n",
    "b = [1,2]          #list objects\n",
    "print(id(a),id(b))\n",
    "print(a is b)\n",
    "print(a == b)"
   ]
  },
  {
   "cell_type": "code",
   "execution_count": 6,
   "metadata": {},
   "outputs": [
    {
     "name": "stdout",
     "output_type": "stream",
     "text": [
      "9752192 9752192\n",
      "True\n",
      "True\n"
     ]
    }
   ],
   "source": [
    "a = 2\n",
    "b = 2\n",
    "print(id(a),id(b))\n",
    "print(a is b)\n",
    "print(a == b)"
   ]
  },
  {
   "cell_type": "code",
   "execution_count": 7,
   "metadata": {},
   "outputs": [
    {
     "name": "stdout",
     "output_type": "stream",
     "text": [
      "Id for mobile 1 is : 140661522345648\n",
      "Id for mobile 2 is : 140661522345408\n"
     ]
    }
   ],
   "source": [
    "class Mobile:\n",
    "    pass\n",
    "\n",
    "mob1=Mobile()\n",
    "mob2=Mobile()\n",
    "\n",
    "print(\"Id for mobile 1 is :\", id(mob1))\n",
    "print(\"Id for mobile 2 is :\", id(mob2))"
   ]
  },
  {
   "cell_type": "code",
   "execution_count": null,
   "metadata": {},
   "outputs": [],
   "source": []
  },
  {
   "cell_type": "code",
   "execution_count": 8,
   "metadata": {},
   "outputs": [
    {
     "name": "stdout",
     "output_type": "stream",
     "text": [
      "Inside constructor\n",
      "Mobile 1 has brand Apple and price 20000\n",
      "Inside constructor\n",
      "Mobile 2 has brand Samsung and price 3000\n"
     ]
    }
   ],
   "source": [
    "class Mobile:\n",
    "    def __init__(self, brand, price):\n",
    "        print(\"Inside constructor\")\n",
    "        self.brand = brand\n",
    "        self.price = price\n",
    "\n",
    "mob1=Mobile(\"Apple\", 20000)\n",
    "print(\"Mobile 1 has brand\", mob1.brand, \"and price\", mob1.price)\n",
    "\n",
    "mob2=Mobile(\"Samsung\",3000)\n",
    "print(\"Mobile 2 has brand\", mob2.brand, \"and price\", mob2.price)\n",
    "                                                    "
   ]
  },
  {
   "cell_type": "raw",
   "metadata": {},
   "source": [
    "Function                     \n",
    "Is a block of code with a name\t         \n",
    "It can be invoked using the name of the function and passing parameters\n",
    "Example: len([1,2,3])\t\n",
    "Parameters are optional in a function\t"
   ]
  },
  {
   "cell_type": "raw",
   "metadata": {},
   "source": [
    "Method\n",
    "Is part of an object and represents the behavior of the object\n",
    "Can be invoked only on an object, using dot operator. Without an object we cannot invoke a method\n",
    "Example: [1,2,3].reverse()\n",
    "A method must have at least one parameter : self"
   ]
  },
  {
   "cell_type": "raw",
   "metadata": {},
   "source": [
    "This ability to use something without having to know the details of how it is working is called as abstraction."
   ]
  },
  {
   "cell_type": "code",
   "execution_count": null,
   "metadata": {},
   "outputs": [],
   "source": []
  },
  {
   "cell_type": "code",
   "execution_count": 12,
   "metadata": {},
   "outputs": [
    {
     "name": "stdout",
     "output_type": "stream",
     "text": [
      "10\n",
      "10\n"
     ]
    }
   ],
   "source": [
    "class Example:\n",
    "    def __init__(self,num):\n",
    "        self.num=num\n",
    "\n",
    "    def set_num(self,num):\n",
    "        num=num\n",
    "\n",
    "    def get_num(self):\n",
    "        return self.num\n",
    "obj=Example(10)\n",
    "print(obj.get_num())\n",
    "obj.set_num(15)\n",
    "print(obj.get_num())"
   ]
  },
  {
   "cell_type": "code",
   "execution_count": 13,
   "metadata": {},
   "outputs": [
    {
     "ename": "AttributeError",
     "evalue": "'Customer' object has no attribute 'cust_id'",
     "output_type": "error",
     "traceback": [
      "\u001b[0;31m---------------------------------------------------------------------------\u001b[0m",
      "\u001b[0;31mAttributeError\u001b[0m                            Traceback (most recent call last)",
      "\u001b[0;32m<ipython-input-13-8c518daca554>\u001b[0m in \u001b[0;36m<module>\u001b[0;34m\u001b[0m\n\u001b[1;32m      4\u001b[0m \u001b[0;34m\u001b[0m\u001b[0m\n\u001b[1;32m      5\u001b[0m \u001b[0mc1\u001b[0m\u001b[0;34m=\u001b[0m\u001b[0mCustomer\u001b[0m\u001b[0;34m(\u001b[0m\u001b[0;34m)\u001b[0m\u001b[0;34m\u001b[0m\u001b[0;34m\u001b[0m\u001b[0m\n\u001b[0;32m----> 6\u001b[0;31m \u001b[0mprint\u001b[0m\u001b[0;34m(\u001b[0m\u001b[0mc1\u001b[0m\u001b[0;34m.\u001b[0m\u001b[0mcust_id\u001b[0m\u001b[0;34m)\u001b[0m\u001b[0;34m\u001b[0m\u001b[0;34m\u001b[0m\u001b[0m\n\u001b[0m",
      "\u001b[0;31mAttributeError\u001b[0m: 'Customer' object has no attribute 'cust_id'"
     ]
    }
   ],
   "source": [
    "class Customer:\n",
    "    def __init__(self):\n",
    "        cust_id = 100\n",
    "\n",
    "c1=Customer()\n",
    "print(c1.cust_id)"
   ]
  },
  {
   "cell_type": "code",
   "execution_count": 14,
   "metadata": {},
   "outputs": [
    {
     "name": "stdout",
     "output_type": "stream",
     "text": [
      "Shoe with price: 1000 and material: Canvas\n"
     ]
    }
   ],
   "source": [
    "class Shoe:\n",
    "    def __init__(self, price, material):\n",
    "        self.price = price\n",
    "        self.material = material\n",
    "\n",
    "    def __str__(self):\n",
    "        return \"Shoe with price: \" + str(self.price) + \" and material: \" + self.material\n",
    "\n",
    "s1=Shoe(1000, \"Canvas\")\n",
    "print(s1)\n",
    "                                                    "
   ]
  },
  {
   "cell_type": "code",
   "execution_count": 15,
   "metadata": {},
   "outputs": [
    {
     "name": "stdout",
     "output_type": "stream",
     "text": [
      "Displaying details\n",
      "Calculating price\n"
     ]
    }
   ],
   "source": [
    "# invoke one method from another using self.\n",
    "\n",
    "class Mobile:\n",
    "    def display(self):\n",
    "        print(\"Displaying details\")\n",
    "\n",
    "    def purchase(self):\n",
    "        self.display()\n",
    "        print(\"Calculating price\")\n",
    "\n",
    "Mobile().purchase()\n",
    "                                                    "
   ]
  },
  {
   "cell_type": "code",
   "execution_count": 16,
   "metadata": {},
   "outputs": [
    {
     "name": "stdout",
     "output_type": "stream",
     "text": [
      "Inside the Mobile constructor\n",
      "Inside the Mobile constructor\n",
      "Inside the Shoe constructor\n",
      "Inside the Shoe constructor\n",
      "Total price of Apple mobile is 18000.0\n",
      "Total price of Samsung mobile is 9500.0\n",
      "Total price of leather shoe is 3150.0\n",
      "Total price of canvas shoe is 204.0\n",
      "Refund Amount for Samsung mobile is 9500.0\n",
      "Refund Amount for leather shoe is 3150.0\n"
     ]
    }
   ],
   "source": [
    "class Mobile:\n",
    "    def __init__(self, brand, price):\n",
    "        print(\"Inside the Mobile constructor\")\n",
    "        self.brand = brand\n",
    "        self.price = price\n",
    "        self.total_price = None\n",
    "\n",
    "    def purchase(self):\n",
    "        if self.brand == \"Apple\":\n",
    "            discount = 10\n",
    "        else:\n",
    "            discount = 5\n",
    "        self.total_price = self.price - self.price * discount / 100\n",
    "        print(\"Total price of\", self.brand, \"mobile is\", self.total_price)\n",
    "\n",
    "    def return_product(self):\n",
    "        print(\"Refund Amount for\", self.brand, \"mobile is\", self.total_price)\n",
    "\n",
    "class Shoe:\n",
    "    def __init__(self, material, price):\n",
    "        print(\"Inside the Shoe constructor\")\n",
    "        self.material = material\n",
    "        self.price = price\n",
    "        self.total_price = None\n",
    "\n",
    "    def purchase(self):\n",
    "        if self.material == \"leather\":\n",
    "            tax = 5\n",
    "        else:\n",
    "            tax = 2\n",
    "\n",
    "        self.total_price = self.price + self.price * tax / 100\n",
    "        print(\"Total price of\", self.material, \"shoe is\", self.total_price)\n",
    "\n",
    "    def return_product(self):\n",
    "        print(\"Refund Amount for\", self.material, \"shoe is\", self.total_price)\n",
    "\n",
    "mob1=Mobile(\"Apple\", 20000)\n",
    "mob2=Mobile(\"Samsung\", 10000)\n",
    "\n",
    "shoe1=Shoe(\"leather\",3000)\n",
    "shoe2=Shoe(\"canvas\",200)\n",
    "\n",
    "mob1.purchase()\n",
    "mob2.purchase()\n",
    "\n",
    "shoe1.purchase()\n",
    "shoe2.purchase()\n",
    "\n",
    "mob2.return_product()\n",
    "shoe1.return_product()\n"
   ]
  },
  {
   "cell_type": "code",
   "execution_count": null,
   "metadata": {},
   "outputs": [],
   "source": []
  },
  {
   "cell_type": "markdown",
   "metadata": {},
   "source": [
    "## Encapsulation:"
   ]
  },
  {
   "cell_type": "raw",
   "metadata": {},
   "source": [
    "Adding a double underscore makes the attribute a private attribute. Private attributes are those which are accessible only inside the class. This method of restricting access to our data is called encapsulation"
   ]
  },
  {
   "cell_type": "code",
   "execution_count": 1,
   "metadata": {},
   "outputs": [
    {
     "ename": "AttributeError",
     "evalue": "'Customer' object has no attribute '__wallet_balance'",
     "output_type": "error",
     "traceback": [
      "\u001b[0;31m---------------------------------------------------------------------------\u001b[0m",
      "\u001b[0;31mAttributeError\u001b[0m                            Traceback (most recent call last)",
      "\u001b[0;32m<ipython-input-1-e9efd40e0348>\u001b[0m in \u001b[0;36m<module>\u001b[0;34m\u001b[0m\n\u001b[1;32m     14\u001b[0m \u001b[0;34m\u001b[0m\u001b[0m\n\u001b[1;32m     15\u001b[0m \u001b[0mc1\u001b[0m\u001b[0;34m=\u001b[0m\u001b[0mCustomer\u001b[0m\u001b[0;34m(\u001b[0m\u001b[0;36m100\u001b[0m\u001b[0;34m,\u001b[0m \u001b[0;34m\"Gopal\"\u001b[0m\u001b[0;34m,\u001b[0m \u001b[0;36m24\u001b[0m\u001b[0;34m,\u001b[0m \u001b[0;36m1000\u001b[0m\u001b[0;34m)\u001b[0m\u001b[0;34m\u001b[0m\u001b[0;34m\u001b[0m\u001b[0m\n\u001b[0;32m---> 16\u001b[0;31m \u001b[0mprint\u001b[0m\u001b[0;34m(\u001b[0m\u001b[0mc1\u001b[0m\u001b[0;34m.\u001b[0m\u001b[0m__wallet_balance\u001b[0m\u001b[0;34m)\u001b[0m\u001b[0;34m\u001b[0m\u001b[0;34m\u001b[0m\u001b[0m\n\u001b[0m",
      "\u001b[0;31mAttributeError\u001b[0m: 'Customer' object has no attribute '__wallet_balance'"
     ]
    }
   ],
   "source": [
    "class Customer:\n",
    "    def __init__(self, cust_id, name, age, wallet_balance):\n",
    "        self.cust_id = cust_id\n",
    "        self.name = name\n",
    "        self.age = age\n",
    "        self.__wallet_balance = wallet_balance\n",
    "\n",
    "    def update_balance(self, amount):\n",
    "        if amount < 1000 and amount > 0:\n",
    "            self.__wallet_balance += amount\n",
    "\n",
    "    def show_balance(self):\n",
    "        print (\"The balance is \",self.__wallet_balance)\n",
    "\n",
    "c1=Customer(100, \"Gopal\", 24, 1000)\n",
    "print(c1.__wallet_balance)"
   ]
  },
  {
   "cell_type": "raw",
   "metadata": {},
   "source": [
    "When we put a double underscore in front of the attribute name, python will internally change its name to _Classname__attribute"
   ]
  },
  {
   "cell_type": "code",
   "execution_count": 2,
   "metadata": {},
   "outputs": [
    {
     "name": "stdout",
     "output_type": "stream",
     "text": [
      "The balance is  10000000000\n"
     ]
    }
   ],
   "source": [
    "class Customer:\n",
    "    def __init__(self, cust_id, name, age, wallet_balance):\n",
    "        self.cust_id = cust_id\n",
    "        self.name = name\n",
    "        self.age = age\n",
    "        self.__wallet_balance = wallet_balance\n",
    "\n",
    "    def update_balance(self, amount):\n",
    "        if amount < 1000 and amount > 0:\n",
    "            self.__wallet_balance += amount\n",
    "\n",
    "    def show_balance(self):\n",
    "        print (\"The balance is \",self.__wallet_balance)\n",
    "\n",
    "c1=Customer(100, \"Gopal\", 24, 1000)\n",
    "c1._Customer__wallet_balance = 10000000000\n",
    "c1.show_balance()"
   ]
  },
  {
   "cell_type": "raw",
   "metadata": {},
   "source": [
    "So, if private variable can be accessed outside the class and can be modified, then what is the advantage of making it private?\n",
    "\n",
    "Note: Languages like Java, C#, etc do not allow access of private variable outside the class"
   ]
  },
  {
   "cell_type": "markdown",
   "metadata": {},
   "source": [
    "#### Getters and Setters: \n",
    "To have a error free way of accessing and updating private variables, we create specific methods for this. Those methods which are meant to set a value to a private variable are called setter methods and methods meant to access private variable values are called getter methods"
   ]
  },
  {
   "cell_type": "code",
   "execution_count": 3,
   "metadata": {},
   "outputs": [
    {
     "name": "stdout",
     "output_type": "stream",
     "text": [
      "120\n"
     ]
    }
   ],
   "source": [
    "class Customer:\n",
    "    def __init__(self, id, name, age, wallet_balance):\n",
    "        self.id = id\n",
    "        self.name = name\n",
    "        self.age = age\n",
    "        self.__wallet_balance = wallet_balance\n",
    "\n",
    "    def set_wallet_balance(self, amount):\n",
    "        if amount < 1000 and amount>  0:\n",
    "            self.__wallet_balance = amount\n",
    "\n",
    "    def get_wallet_balance(self):\n",
    "        return self.__wallet_balance\n",
    "\n",
    "c1=Customer(100, \"Gopal\", 24, 1000)\n",
    "c1.set_wallet_balance(120)\n",
    "print(c1.get_wallet_balance())"
   ]
  },
  {
   "cell_type": "raw",
   "metadata": {},
   "source": [
    " We can create private methods by adding a double underscore in front of it, just like private variables"
   ]
  },
  {
   "cell_type": "code",
   "execution_count": null,
   "metadata": {},
   "outputs": [],
   "source": []
  },
  {
   "cell_type": "code",
   "execution_count": null,
   "metadata": {},
   "outputs": [],
   "source": []
  },
  {
   "cell_type": "code",
   "execution_count": null,
   "metadata": {},
   "outputs": [],
   "source": []
  },
  {
   "cell_type": "code",
   "execution_count": null,
   "metadata": {},
   "outputs": [],
   "source": []
  },
  {
   "cell_type": "code",
   "execution_count": null,
   "metadata": {},
   "outputs": [],
   "source": []
  },
  {
   "cell_type": "code",
   "execution_count": null,
   "metadata": {},
   "outputs": [],
   "source": []
  },
  {
   "cell_type": "code",
   "execution_count": null,
   "metadata": {},
   "outputs": [],
   "source": []
  },
  {
   "cell_type": "code",
   "execution_count": null,
   "metadata": {},
   "outputs": [],
   "source": []
  }
 ],
 "metadata": {
  "kernelspec": {
   "display_name": "Python 3",
   "language": "python",
   "name": "python3"
  },
  "language_info": {
   "codemirror_mode": {
    "name": "ipython",
    "version": 3
   },
   "file_extension": ".py",
   "mimetype": "text/x-python",
   "name": "python",
   "nbconvert_exporter": "python",
   "pygments_lexer": "ipython3",
   "version": "3.8.2"
  }
 },
 "nbformat": 4,
 "nbformat_minor": 4
}
