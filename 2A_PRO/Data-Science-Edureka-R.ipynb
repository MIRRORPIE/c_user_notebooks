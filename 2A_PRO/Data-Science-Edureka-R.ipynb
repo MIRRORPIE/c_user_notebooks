{
 "cells": [
  {
   "cell_type": "code",
   "execution_count": 19,
   "metadata": {},
   "outputs": [],
   "source": [
    "help(seed)"
   ]
  },
  {
   "cell_type": "code",
   "execution_count": 20,
   "metadata": {},
   "outputs": [],
   "source": [
    "help(runif)"
   ]
  },
  {
   "cell_type": "code",
   "execution_count": 22,
   "metadata": {},
   "outputs": [],
   "source": [
    "help(print)"
   ]
  },
  {
   "cell_type": "code",
   "execution_count": null,
   "metadata": {},
   "outputs": [],
   "source": []
  },
  {
   "cell_type": "code",
   "execution_count": 33,
   "metadata": {},
   "outputs": [
    {
     "name": "stdout",
     "output_type": "stream",
     "text": [
      "[1] \"double\"\n",
      " [1] 3.389578 4.349115 6.155680 9.173870 2.815137 9.085507 9.502077 6.947180\n",
      " [9] 6.662026 1.556076 2.853771 2.589011 7.183206 4.456933 7.928573 5.479293\n",
      "[17] 7.458567 9.927155 4.420317 7.997007\n",
      "[1] 5.996504\n",
      "[1] 6.408853\n",
      " [1] 3.389578 4.349115 6.155680 9.173870 2.815137 9.085507 9.502077 6.947180\n",
      " [9] 6.662026 1.556076 2.853771 2.589011 7.183206 4.456933 7.928573 5.479293\n",
      "[17] 7.458567 9.927155 4.420317 7.997007\n",
      "mode = {} 3.389578[1] 2.575061\n"
     ]
    },
    {
     "name": "stderr",
     "output_type": "stream",
     "text": [
      "Warning message in plot.window(xlim, ylim, \"\", ...):\n",
      "\"\"bins\" is not a graphical parameter\"Warning message in plot.window(xlim, ylim, \"\", ...):\n",
      "\"\"range\" is not a graphical parameter\"Warning message in plot.window(xlim, ylim, \"\", ...):\n",
      "\"\"edgecolor\" is not a graphical parameter\"Warning message in title(main = main, sub = sub, xlab = xlab, ylab = ylab, ...):\n",
      "\"\"bins\" is not a graphical parameter\"Warning message in title(main = main, sub = sub, xlab = xlab, ylab = ylab, ...):\n",
      "\"\"range\" is not a graphical parameter\"Warning message in title(main = main, sub = sub, xlab = xlab, ylab = ylab, ...):\n",
      "\"\"edgecolor\" is not a graphical parameter\"Warning message in axis(1, ...):\n",
      "\"\"bins\" is not a graphical parameter\"Warning message in axis(1, ...):\n",
      "\"\"range\" is not a graphical parameter\"Warning message in axis(1, ...):\n",
      "\"\"edgecolor\" is not a graphical parameter\"Warning message in axis(2, ...):\n",
      "\"\"bins\" is not a graphical parameter\"Warning message in axis(2, ...):\n",
      "\"\"range\" is not a graphical parameter\"Warning message in axis(2, ...):\n",
      "\"\"edgecolor\" is not a graphical parameter\""
     ]
    },
    {
     "data": {
      "image/png": "[encoded data removed]",
      "text/plain": [
       "Plot with title \"Histogram of data\""
      ]
     },
     "metadata": {},
     "output_type": "display_data"
    }
   ],
   "source": [
    "set.seed(1)\n",
    "#Generate random numbers and store it in a variable called data\n",
    "data = runif(20,1,10)\n",
    "print(typeof(data))\n",
    "print(data)\n",
    "\n",
    "#calculate Mean\n",
    "mean = mean(data)\n",
    "print(mean)\n",
    "\n",
    "#calculate median\n",
    "median = median(data)\n",
    "print(median)\n",
    "\n",
    "#create a function for calculating mode\n",
    "mode <- function(x) {\n",
    "    ux <- unique(x)\n",
    "    ux[which.max(tabulate(match(x, ux)))]\n",
    "}\n",
    "result <- mode(data)\n",
    "print(data)\n",
    "cat(\"mode = {}\",result)\n",
    "\n",
    "#calculate variance and std. deviation\n",
    "variance = var(data)\n",
    "standardDeviation = sqrt(var(data))\n",
    "print(standardDeviation)\n",
    "\n",
    "#plot Histogram\n",
    "hist(data, bins = 10, range = c(0,10), edgecolor = 'black')"
   ]
  },
  {
   "cell_type": "code",
   "execution_count": null,
   "metadata": {},
   "outputs": [],
   "source": []
  },
  {
   "cell_type": "code",
   "execution_count": null,
   "metadata": {},
   "outputs": [],
   "source": []
  },
  {
   "cell_type": "code",
   "execution_count": null,
   "metadata": {},
   "outputs": [],
   "source": []
  },
  {
   "cell_type": "code",
   "execution_count": null,
   "metadata": {},
   "outputs": [],
   "source": []
  },
  {
   "cell_type": "code",
   "execution_count": null,
   "metadata": {},
   "outputs": [],
   "source": []
  },
  {
   "cell_type": "code",
   "execution_count": null,
   "metadata": {},
   "outputs": [],
   "source": []
  },
  {
   "cell_type": "code",
   "execution_count": null,
   "metadata": {},
   "outputs": [],
   "source": []
  },
  {
   "cell_type": "code",
   "execution_count": null,
   "metadata": {},
   "outputs": [],
   "source": []
  },
  {
   "cell_type": "code",
   "execution_count": null,
   "metadata": {},
   "outputs": [],
   "source": []
  },
  {
   "cell_type": "code",
   "execution_count": null,
   "metadata": {},
   "outputs": [],
   "source": []
  },
  {
   "cell_type": "code",
   "execution_count": null,
   "metadata": {},
   "outputs": [],
   "source": []
  }
 ],
 "metadata": {
  "kernelspec": {
   "display_name": "R 3.5.1",
   "language": "R",
   "name": "ir3.5.1"
  },
  "language_info": {
   "codemirror_mode": "r",
   "file_extension": ".r",
   "mimetype": "text/x-r-source",
   "name": "R",
   "pygments_lexer": "r",
   "version": "3.5.1"
  }
 },
 "nbformat": 4,
 "nbformat_minor": 2
}
