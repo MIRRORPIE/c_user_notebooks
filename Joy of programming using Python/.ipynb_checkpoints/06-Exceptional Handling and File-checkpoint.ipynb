{
 "cells": [
  {
   "cell_type": "markdown",
   "metadata": {},
   "source": [
    "# 6. Exceptional & File handling\n",
    "\n",
    "\n",
    "# 6.1 Exceptional handling\n",
    "When an error occurs, or exception as we call it, Python will normally stop and generate an error message.\n",
    "\n",
    "These exceptions can be handled using the try statement:"
   ]
  },
  {
   "cell_type": "markdown",
   "metadata": {},
   "source": [
    " ## 6.1.1 Examples"
   ]
  },
  {
   "cell_type": "markdown",
   "metadata": {},
   "source": [
    "### Example (ZeroDivisionError) #1\n",
    "\n",
    "we have already seen exceptions in previous code. They occur when something goes wrong, due to incorrect code or input. When an exception occurs, the program immediately stops.\n",
    "The following code produces the ZeroDivisionError exception by trying to divide 9 by 0."
   ]
  },
  {
   "cell_type": "code",
   "execution_count": 24,
   "metadata": {},
   "outputs": [
    {
     "ename": "ZeroDivisionError",
     "evalue": "division by zero",
     "output_type": "error",
     "traceback": [
      "\u001b[0;31m---------------------------------------------------------------------------\u001b[0m",
      "\u001b[0;31mZeroDivisionError\u001b[0m                         Traceback (most recent call last)",
      "\u001b[0;32m<ipython-input-24-c8e450e91941>\u001b[0m in \u001b[0;36m<module>\u001b[0;34m\u001b[0m\n\u001b[1;32m      1\u001b[0m \u001b[0ma\u001b[0m \u001b[0;34m=\u001b[0m \u001b[0;36m9\u001b[0m\u001b[0;34m\u001b[0m\u001b[0;34m\u001b[0m\u001b[0m\n\u001b[1;32m      2\u001b[0m \u001b[0mb\u001b[0m \u001b[0;34m=\u001b[0m \u001b[0;36m0\u001b[0m\u001b[0;34m\u001b[0m\u001b[0;34m\u001b[0m\u001b[0m\n\u001b[0;32m----> 3\u001b[0;31m \u001b[0mprint\u001b[0m\u001b[0;34m(\u001b[0m\u001b[0ma\u001b[0m\u001b[0;34m/\u001b[0m\u001b[0mb\u001b[0m\u001b[0;34m)\u001b[0m\u001b[0;34m\u001b[0m\u001b[0;34m\u001b[0m\u001b[0m\n\u001b[0m",
      "\u001b[0;31mZeroDivisionError\u001b[0m: division by zero"
     ]
    }
   ],
   "source": [
    "a = 9\n",
    "b = 0\n",
    "print(a/b)"
   ]
  },
  {
   "cell_type": "markdown",
   "metadata": {},
   "source": [
    "\n",
    "#### Different exceptions are raised for different reasons.\n",
    "Common exceptions:\n",
    "* ImportError: an import fails;\n",
    "* ZeroDivisionError: division by zero\n",
    "* IndexError: a list is indexed with an out-of-range number;\n",
    "* NameError: an unknown variable is used;\n",
    "* SyntaxError: the code can't be parsed properly;\n",
    "* TypeError: a function is called on a value of an inappropriate type;\n",
    "* ValueError: a function is called on a value of the correct type, but with an inappropriate value.\n",
    "\n",
    "Python has several other built-in exceptions, such as ZeroDivisionError and OSError. Third-party libraries also often define their own exceptions.\n",
    "\n",
    "checkout various types of exceptions <a href=\"https://docs.python.org/3/library/exceptions.html\">here</a>\n",
    "\n",
    "### Example (TypeError) #2\n"
   ]
  },
  {
   "cell_type": "code",
   "execution_count": 25,
   "metadata": {},
   "outputs": [
    {
     "ename": "TypeError",
     "evalue": "can only concatenate str (not \"int\") to str",
     "output_type": "error",
     "traceback": [
      "\u001b[0;31m---------------------------------------------------------------------------\u001b[0m",
      "\u001b[0;31mTypeError\u001b[0m                                 Traceback (most recent call last)",
      "\u001b[0;32m<ipython-input-25-6adae7178d08>\u001b[0m in \u001b[0;36m<module>\u001b[0;34m\u001b[0m\n\u001b[1;32m      1\u001b[0m \u001b[0mn\u001b[0m \u001b[0;34m=\u001b[0m \u001b[0;34m\"2\"\u001b[0m\u001b[0;34m\u001b[0m\u001b[0;34m\u001b[0m\u001b[0m\n\u001b[0;32m----> 2\u001b[0;31m \u001b[0mprint\u001b[0m\u001b[0;34m(\u001b[0m\u001b[0mn\u001b[0m \u001b[0;34m+\u001b[0m \u001b[0;36m4\u001b[0m\u001b[0;34m)\u001b[0m\u001b[0;34m\u001b[0m\u001b[0;34m\u001b[0m\u001b[0m\n\u001b[0m",
      "\u001b[0;31mTypeError\u001b[0m: can only concatenate str (not \"int\") to str"
     ]
    }
   ],
   "source": [
    "n = \"2\"\n",
    "print(n + 4)"
   ]
  },
  {
   "cell_type": "markdown",
   "metadata": {},
   "source": [
    "### Example (NameError) #3\n",
    "\n",
    "if unknown vairable is used."
   ]
  },
  {
   "cell_type": "code",
   "execution_count": 32,
   "metadata": {},
   "outputs": [
    {
     "ename": "NameError",
     "evalue": "name 'z' is not defined",
     "output_type": "error",
     "traceback": [
      "\u001b[0;31m---------------------------------------------------------------------------\u001b[0m",
      "\u001b[0;31mNameError\u001b[0m                                 Traceback (most recent call last)",
      "\u001b[0;32m<ipython-input-32-c01ac3f50fdc>\u001b[0m in \u001b[0;36m<module>\u001b[0;34m\u001b[0m\n\u001b[0;32m----> 1\u001b[0;31m \u001b[0mprint\u001b[0m\u001b[0;34m(\u001b[0m\u001b[0mz\u001b[0m\u001b[0;34m)\u001b[0m\u001b[0;34m\u001b[0m\u001b[0;34m\u001b[0m\u001b[0m\n\u001b[0m",
      "\u001b[0;31mNameError\u001b[0m: name 'z' is not defined"
     ]
    }
   ],
   "source": [
    "print(z)"
   ]
  },
  {
   "cell_type": "markdown",
   "metadata": {},
   "source": [
    "## 6.1.2 Syntax  for exeption handling\n",
    "\n",
    "```python \n",
    "try:\n",
    "    #statements to handle\n",
    "    y = \"Hari\"\n",
    "    x = int(y)\n",
    "except ValueError:\n",
    "    #if specific error return\n",
    "    print(\"Oops!  y is not a valid number...\")\n",
    "except:\n",
    "    #if unknown error return\n",
    "    print(\"something went wrong\")\n",
    "else:\n",
    "    #if error dosn't return\n",
    "    print(\"Nothing went wrong\")\n",
    "finally:\n",
    "    #regardless of the result of the try- and except blocks \n",
    "    print(\"code execution completed\")\n",
    "```\n",
    "```python\n",
    "The try block lets you test a block of code for errors.\n",
    "The except block lets you handle the error.\n",
    "The else block return if code in try block dosen't return any error.\n",
    "The finally block lets you execute code, regardless of the result of the try and except blocks.```"
   ]
  },
  {
   "cell_type": "code",
   "execution_count": 33,
   "metadata": {},
   "outputs": [
    {
     "name": "stdout",
     "output_type": "stream",
     "text": [
      "Oops!  y is not a valid number. \n",
      "Error :  invalid literal for int() with base 10: 'Hari'\n",
      "code execution completed\n"
     ]
    }
   ],
   "source": [
    "# CASE 1\n",
    "\n",
    "try:\n",
    "    y = \"Hari\"\n",
    "    x = int(y)\n",
    "except ValueError as err:\n",
    "    print(\"Oops!  y is not a valid number. \")\n",
    "    print(\"Error : \", err)\n",
    "except:\n",
    "    print(\"something went wrong\")\n",
    "else:\n",
    "    print(\"Nothing went wrong\")\n",
    "finally:\n",
    "    print(\"code execution completed\")"
   ]
  },
  {
   "cell_type": "code",
   "execution_count": 36,
   "metadata": {},
   "outputs": [
    {
     "name": "stdout",
     "output_type": "stream",
     "text": [
      "something went wrong\n",
      "code execution completed\n"
     ]
    }
   ],
   "source": [
    "# CASE 2\n",
    "\n",
    "try:\n",
    "    y = 32\n",
    "    x = int(z)\n",
    "except ValueError:\n",
    "    print(\"Oops!  y is not a valid number...\")\n",
    "except:\n",
    "    print(\"something went wrong\")\n",
    "else:\n",
    "    print(\"Nothing went wrong\")\n",
    "finally:\n",
    "    print(\"code execution completed\")"
   ]
  },
  {
   "cell_type": "code",
   "execution_count": 29,
   "metadata": {},
   "outputs": [
    {
     "name": "stdout",
     "output_type": "stream",
     "text": [
      "Nothing went wrong\n",
      "code execution completed\n"
     ]
    }
   ],
   "source": [
    "# CASE 3\n",
    "\n",
    "try:\n",
    "    y = 32\n",
    "    x = int(y)\n",
    "except ValueError:\n",
    "    print(\"Oops!  y is not a valid number...\")\n",
    "except:\n",
    "    print(\"Something went wrong\")\n",
    "else:\n",
    "    print(\"Nothing went wrong\")\n",
    "finally:\n",
    "    print(\"code execution completed\")"
   ]
  },
  {
   "cell_type": "markdown",
   "metadata": {},
   "source": [
    "## 6.1.3 Raising error \n",
    "\n",
    "You can raise exceptions by using the raise statement."
   ]
  },
  {
   "cell_type": "code",
   "execution_count": 44,
   "metadata": {},
   "outputs": [
    {
     "ename": "NameError",
     "evalue": "",
     "output_type": "error",
     "traceback": [
      "\u001b[0;31m---------------------------------------------------------------------------\u001b[0m",
      "\u001b[0;31mNameError\u001b[0m                                 Traceback (most recent call last)",
      "\u001b[0;32m<ipython-input-44-5d5afab3374d>\u001b[0m in \u001b[0;36m<module>\u001b[0;34m\u001b[0m\n\u001b[1;32m      1\u001b[0m \u001b[0;31m#print(\"Ranjeet\")\u001b[0m\u001b[0;34m\u001b[0m\u001b[0;34m\u001b[0m\u001b[0;34m\u001b[0m\u001b[0m\n\u001b[0;32m----> 2\u001b[0;31m \u001b[0;32mraise\u001b[0m \u001b[0mNameError\u001b[0m\u001b[0;34m\u001b[0m\u001b[0;34m\u001b[0m\u001b[0m\n\u001b[0m",
      "\u001b[0;31mNameError\u001b[0m: "
     ]
    }
   ],
   "source": [
    "# raising without arguments\n",
    "\n",
    "print(\"Ranjeet\")\n",
    "raise NameError"
   ]
  },
  {
   "cell_type": "code",
   "execution_count": 43,
   "metadata": {},
   "outputs": [
    {
     "name": "stdout",
     "output_type": "stream",
     "text": [
      "Nikky\n"
     ]
    },
    {
     "ename": "NameError",
     "evalue": "Invalid value",
     "output_type": "error",
     "traceback": [
      "\u001b[0;31m---------------------------------------------------------------------------\u001b[0m",
      "\u001b[0;31mNameError\u001b[0m                                 Traceback (most recent call last)",
      "\u001b[0;32m<ipython-input-43-2326ca37f7dd>\u001b[0m in \u001b[0;36m<module>\u001b[0;34m\u001b[0m\n\u001b[1;32m      1\u001b[0m \u001b[0mprint\u001b[0m\u001b[0;34m(\u001b[0m\u001b[0;34m\"Nikky\"\u001b[0m\u001b[0;34m)\u001b[0m\u001b[0;34m\u001b[0m\u001b[0;34m\u001b[0m\u001b[0m\n\u001b[0;32m----> 2\u001b[0;31m \u001b[0;32mraise\u001b[0m \u001b[0mNameError\u001b[0m\u001b[0;34m(\u001b[0m\u001b[0;34m\"Invalid value\"\u001b[0m\u001b[0;34m)\u001b[0m\u001b[0;34m\u001b[0m\u001b[0;34m\u001b[0m\u001b[0m\n\u001b[0m",
      "\u001b[0;31mNameError\u001b[0m: Invalid value"
     ]
    }
   ],
   "source": [
    "# raising without arguments\n",
    "\n",
    "print(\"Nikky\")\n",
    "raise NameError(\"Invalid value\")"
   ]
  },
  {
   "cell_type": "markdown",
   "metadata": {},
   "source": [
    "<h5>In except blocks, the raise statement can be used without arguments to re-raise whatever exception occurred.\n",
    "<br><br>For example:</h5>"
   ]
  },
  {
   "cell_type": "code",
   "execution_count": 45,
   "metadata": {},
   "outputs": [
    {
     "name": "stdout",
     "output_type": "stream",
     "text": [
      "something went wrong\n",
      "code execution completed\n"
     ]
    },
    {
     "ename": "NameError",
     "evalue": "name 'z' is not defined",
     "output_type": "error",
     "traceback": [
      "\u001b[0;31m---------------------------------------------------------------------------\u001b[0m",
      "\u001b[0;31mNameError\u001b[0m                                 Traceback (most recent call last)",
      "\u001b[0;32m<ipython-input-45-199ba554d684>\u001b[0m in \u001b[0;36m<module>\u001b[0;34m\u001b[0m\n\u001b[1;32m      1\u001b[0m \u001b[0;32mtry\u001b[0m\u001b[0;34m:\u001b[0m\u001b[0;34m\u001b[0m\u001b[0;34m\u001b[0m\u001b[0m\n\u001b[1;32m      2\u001b[0m     \u001b[0my\u001b[0m \u001b[0;34m=\u001b[0m \u001b[0;36m32\u001b[0m\u001b[0;34m\u001b[0m\u001b[0;34m\u001b[0m\u001b[0m\n\u001b[0;32m----> 3\u001b[0;31m     \u001b[0mx\u001b[0m \u001b[0;34m=\u001b[0m \u001b[0mint\u001b[0m\u001b[0;34m(\u001b[0m\u001b[0mz\u001b[0m\u001b[0;34m)\u001b[0m\u001b[0;34m\u001b[0m\u001b[0;34m\u001b[0m\u001b[0m\n\u001b[0m\u001b[1;32m      4\u001b[0m \u001b[0;32mexcept\u001b[0m \u001b[0mValueError\u001b[0m\u001b[0;34m:\u001b[0m\u001b[0;34m\u001b[0m\u001b[0;34m\u001b[0m\u001b[0m\n\u001b[1;32m      5\u001b[0m     \u001b[0mprint\u001b[0m\u001b[0;34m(\u001b[0m\u001b[0;34m\"Oops!  y is not a valid number...\"\u001b[0m\u001b[0;34m)\u001b[0m\u001b[0;34m\u001b[0m\u001b[0;34m\u001b[0m\u001b[0m\n",
      "\u001b[0;31mNameError\u001b[0m: name 'z' is not defined"
     ]
    }
   ],
   "source": [
    "try:\n",
    "    y = 32\n",
    "    x = int(z)\n",
    "except ValueError:\n",
    "    print(\"Oops!  y is not a valid number...\")\n",
    "except:\n",
    "    print(\"something went wrong\")\n",
    "    raise\n",
    "finally:\n",
    "    print(\"code execution completed\")"
   ]
  },
  {
   "cell_type": "markdown",
   "metadata": {},
   "source": [
    "## 6.1.4 Assertions\n",
    "\n",
    "An assertion is a sanity-check that you can turn on or turn off when you have finished testing the program.\n",
    "An expression is tested, and if the result comes up false, an exception is raised.\n",
    "Assertions are carried out through use of the assert statement.<br>\n",
    "<img src=dsa.png>"
   ]
  },
  {
   "cell_type": "code",
   "execution_count": 46,
   "metadata": {},
   "outputs": [
    {
     "name": "stdout",
     "output_type": "stream",
     "text": [
      "1\n"
     ]
    },
    {
     "ename": "AssertionError",
     "evalue": "",
     "output_type": "error",
     "traceback": [
      "\u001b[0;31m---------------------------------------------------------------------------\u001b[0m",
      "\u001b[0;31mAssertionError\u001b[0m                            Traceback (most recent call last)",
      "\u001b[0;32m<ipython-input-46-4b4258c48303>\u001b[0m in \u001b[0;36m<module>\u001b[0;34m\u001b[0m\n\u001b[1;32m      1\u001b[0m \u001b[0mprint\u001b[0m\u001b[0;34m(\u001b[0m\u001b[0;36m1\u001b[0m\u001b[0;34m)\u001b[0m\u001b[0;34m\u001b[0m\u001b[0;34m\u001b[0m\u001b[0m\n\u001b[0;32m----> 2\u001b[0;31m \u001b[0;32massert\u001b[0m \u001b[0;36m8\u001b[0m \u001b[0;34m+\u001b[0m \u001b[0;36m4\u001b[0m \u001b[0;34m<\u001b[0m \u001b[0;36m4\u001b[0m\u001b[0;34m\u001b[0m\u001b[0;34m\u001b[0m\u001b[0m\n\u001b[0m\u001b[1;32m      3\u001b[0m \u001b[0mprint\u001b[0m\u001b[0;34m(\u001b[0m\u001b[0;36m2\u001b[0m\u001b[0;34m)\u001b[0m\u001b[0;34m\u001b[0m\u001b[0;34m\u001b[0m\u001b[0m\n",
      "\u001b[0;31mAssertionError\u001b[0m: "
     ]
    }
   ],
   "source": [
    "#case 1\n",
    "print(1)\n",
    "assert 8 + 4 < 4\n",
    "print(2)"
   ]
  },
  {
   "cell_type": "code",
   "execution_count": 47,
   "metadata": {
    "scrolled": false
   },
   "outputs": [
    {
     "name": "stdout",
     "output_type": "stream",
     "text": [
      "1\n",
      "2\n"
     ]
    }
   ],
   "source": [
    "#case 2\n",
    "print(1)\n",
    "assert 8 + 4 > 4\n",
    "print(2)"
   ]
  },
  {
   "cell_type": "markdown",
   "metadata": {},
   "source": [
    "The assert can take a second argument that is passed to the AssertionError raised if the assertion fails.<br>\n",
    "for example: "
   ]
  },
  {
   "cell_type": "code",
   "execution_count": 52,
   "metadata": {},
   "outputs": [
    {
     "name": "stdout",
     "output_type": "stream",
     "text": [
      "Enter a positive number : -7\n"
     ]
    },
    {
     "ename": "AssertionError",
     "evalue": "Number you entered is not positive",
     "output_type": "error",
     "traceback": [
      "\u001b[0;31m---------------------------------------------------------------------------\u001b[0m",
      "\u001b[0;31mAssertionError\u001b[0m                            Traceback (most recent call last)",
      "\u001b[0;32m<ipython-input-52-1493bedf9b6e>\u001b[0m in \u001b[0;36m<module>\u001b[0;34m\u001b[0m\n\u001b[1;32m      1\u001b[0m \u001b[0mpos_int\u001b[0m \u001b[0;34m=\u001b[0m \u001b[0mint\u001b[0m\u001b[0;34m(\u001b[0m\u001b[0minput\u001b[0m\u001b[0;34m(\u001b[0m\u001b[0;34m\"Enter a positive number : \"\u001b[0m\u001b[0;34m)\u001b[0m\u001b[0;34m)\u001b[0m\u001b[0;34m\u001b[0m\u001b[0;34m\u001b[0m\u001b[0m\n\u001b[0;32m----> 2\u001b[0;31m \u001b[0;32massert\u001b[0m \u001b[0;34m(\u001b[0m\u001b[0mpos_int\u001b[0m \u001b[0;34m>=\u001b[0m \u001b[0;36m0\u001b[0m\u001b[0;34m)\u001b[0m\u001b[0;34m,\u001b[0m \u001b[0;34m\"Number you entered is not positive\"\u001b[0m\u001b[0;34m\u001b[0m\u001b[0;34m\u001b[0m\u001b[0m\n\u001b[0m\u001b[1;32m      3\u001b[0m \u001b[0mprint\u001b[0m\u001b[0;34m(\u001b[0m\u001b[0;34m\"Number\"\u001b[0m\u001b[0;34m,\u001b[0m\u001b[0mpos_int\u001b[0m\u001b[0;34m,\u001b[0m\u001b[0;34m\"is positive\"\u001b[0m\u001b[0;34m)\u001b[0m\u001b[0;34m\u001b[0m\u001b[0;34m\u001b[0m\u001b[0m\n",
      "\u001b[0;31mAssertionError\u001b[0m: Number you entered is not positive"
     ]
    }
   ],
   "source": [
    "pos_int = int(input(\"Enter a positive number : \"))\n",
    "assert (pos_int >= 0), \"Number you entered is not positive\"\n",
    "print(\"Number\",pos_int,\"is positive\")"
   ]
  },
  {
   "cell_type": "markdown",
   "metadata": {},
   "source": [
    "# 6.2 File Handling "
   ]
  },
  {
   "cell_type": "markdown",
   "metadata": {},
   "source": [
    "We can use Python to read and write the contents of files.<br>\n",
    "Python has several functions for creating, reading, updating, and deleting files.\n",
    "\n",
    "\n",
    "The key function for working with files in Python is the `open()` function.\n",
    "\n",
    "The `open()` function takes `two` parameters; `filename and mode`.\n",
    "\n",
    "There are four different methods (modes) for opening a file:\n",
    "\n",
    " * **\"r\"** - Read - Default value. Opens a file for **reading**, error if the file does not exist\n",
    "\n",
    " * **\"a\"** - Append - Opens a file for **appending**, creates the file if it does not exist\n",
    "\n",
    " * **\"w\"** - Write - Opens a file for **writing**, creates the file if it does not exist\n",
    "\n",
    " * **\"x\"** - Create - Creates the specified file, **returns an error if the file exists**\n",
    " \n",
    " \n",
    " \n",
    " In addition you can specify if the file should be handled as `binary` or `text` mode\n",
    "\n",
    " * \"t\" - `Text` - Default value. Text mode\n",
    "\n",
    " * \"b\" - `Binary` - Binary mode (e.g. images)\n",
    "\n"
   ]
  },
  {
   "cell_type": "markdown",
   "metadata": {},
   "source": [
    "### 6.2.1 Opening Files\n",
    "\n",
    "```python\n",
    "file = open('sample.txt') \n",
    "```\n",
    "\n",
    "*The argument of the open function is the path to the file. If the file is in the current working directory of the program, you can specify only its name.*\n",
    "\n",
    "\n",
    "#### Here are some examples of different modes to opening a file.\n",
    "```python\n",
    "# write mode\n",
    "file = open(\"sample.txt\", \"w\")\n",
    "\n",
    "# read mode\n",
    "file = open(\"sample.txt\", \"r\")\n",
    "file=open(\"sample.txt\")\n",
    "\n",
    "# binary write mode\n",
    "file = open(\"sample.txt\", \"wb\")\n",
    "```\n",
    "\n",
    "Once a file has been opened and used, you should close it.\n",
    "This is done with the `close()` method of the file object.\n",
    "\n",
    "```php\n",
    "file.close()\n",
    "```"
   ]
  },
  {
   "cell_type": "markdown",
   "metadata": {},
   "source": [
    "### 6.2.2 Reading Files\n",
    " Reading whole file at once with `read()` method of the file object"
   ]
  },
  {
   "cell_type": "code",
   "execution_count": 63,
   "metadata": {},
   "outputs": [
    {
     "name": "stdout",
     "output_type": "stream",
     "text": [
      "This is the first line of the file\n",
      "This is the second line of the file\n",
      "This is the third line of the file\n",
      "This is the forth line of the file\n",
      "This is the fifth line of the file\n",
      "This is the sixth line of the file\n"
     ]
    }
   ],
   "source": [
    "file = open(\"sample.txt\", \"r\")\n",
    "content = file.read()\n",
    "print(content)\n",
    "file.close()"
   ]
  },
  {
   "cell_type": "markdown",
   "metadata": {},
   "source": [
    "#### To read only a certain amount of a file, you can provide a number as an argument to the read function. This determines the number of bytes that should be read.\n",
    "\n",
    "#### We can make more calls to read on the same file object to read more of the file byte by byte. With no argument, read returns the rest of the file."
   ]
  },
  {
   "cell_type": "code",
   "execution_count": 74,
   "metadata": {},
   "outputs": [
    {
     "name": "stdout",
     "output_type": "stream",
     "text": [
      "This is the firs\n",
      "t li\n",
      "ne of\n",
      " the file\n",
      "This is the second line of the file\n",
      "This is the third line of the file\n",
      "This is the forth line of the file\n",
      "This is the fifth line of the file\n",
      "This is the sixth line of the file\n"
     ]
    }
   ],
   "source": [
    "file = open(\"sample.txt\", \"r\")\n",
    "print(file.read(16))\n",
    "print(file.read(4))\n",
    "print(file.read(5))\n",
    "print(file.read())\n",
    "file.close()"
   ]
  },
  {
   "cell_type": "markdown",
   "metadata": {},
   "source": [
    "#### *After all contents in a file have been read, any attempts to read further from that file will return an `empty` string, because you are trying to read from the end of the file.*"
   ]
  },
  {
   "cell_type": "code",
   "execution_count": 78,
   "metadata": {},
   "outputs": [
    {
     "name": "stdout",
     "output_type": "stream",
     "text": [
      "reading for first time :  This is the first line of the file\n",
      "This is the second line of the file\n",
      "This is the third line of the file\n",
      "This is the forth line of the file\n",
      "This is the fifth line of the file\n",
      "This is the sixth line of the file\n",
      "re-reading :  \n"
     ]
    }
   ],
   "source": [
    "file = open(\"sample.txt\", \"r\")\n",
    "print(\"reading for first time : \",file.read())\n",
    "print(\"re-reading : \",file.read())\n",
    "file.close()"
   ]
  },
  {
   "cell_type": "markdown",
   "metadata": {},
   "source": [
    "#### We can read file line by line by using the `readline()` method:"
   ]
  },
  {
   "cell_type": "code",
   "execution_count": 79,
   "metadata": {},
   "outputs": [
    {
     "name": "stdout",
     "output_type": "stream",
     "text": [
      "This is the first line of the file\n",
      "\n",
      "This is the second line of the file\n",
      "\n",
      "This is the third line of the file\n",
      "\n"
     ]
    }
   ],
   "source": [
    "file = open(\"sample.txt\", \"r\")\n",
    "print(file.readline())\n",
    "print(file.readline())\n",
    "print(file.readline())\n",
    "file.close()"
   ]
  },
  {
   "cell_type": "markdown",
   "metadata": {},
   "source": [
    "#### By looping through the lines of the file, we can read the whole file, line by line:"
   ]
  },
  {
   "cell_type": "code",
   "execution_count": 80,
   "metadata": {},
   "outputs": [
    {
     "name": "stdout",
     "output_type": "stream",
     "text": [
      "This is the first line of the file\n",
      "\n",
      "This is the second line of the file\n",
      "\n",
      "This is the third line of the file\n",
      "\n",
      "This is the forth line of the file\n",
      "\n",
      "This is the fifth line of the file\n",
      "\n",
      "This is the sixth line of the file\n"
     ]
    }
   ],
   "source": [
    "file = open(\"sample.txt\", \"r\")\n",
    "for line in file:\n",
    "    print(line)\n",
    "file.close()"
   ]
  },
  {
   "cell_type": "markdown",
   "metadata": {},
   "source": [
    "#### Another way to open a file is using `with`"
   ]
  },
  {
   "cell_type": "code",
   "execution_count": 84,
   "metadata": {},
   "outputs": [
    {
     "name": "stdout",
     "output_type": "stream",
     "text": [
      "This is the first line of the file\n",
      "This is the second line of the file\n",
      "This is the third line of the file\n",
      "This is the forth line of the file\n",
      "This is the fifth line of the file\n",
      "This is the sixth line of the file\n"
     ]
    }
   ],
   "source": [
    "with open(\"sample.txt\",'r') as f:\n",
    "   print(f.read())\n",
    "#The file is automatically closed at the end of the with statement, even if exceptions occur within it."
   ]
  },
  {
   "cell_type": "markdown",
   "metadata": {},
   "source": [
    "### 6.2.3 Writing Files\n"
   ]
  },
  {
   "cell_type": "markdown",
   "metadata": {},
   "source": [
    "#### To write to files you use the `write` method, which writes a string to the file.\n",
    "\n",
    "To write to an existing file, you must add a parameter to the `open()` function:\n",
    "\n",
    "* \"w\" - Write - will overwrite any existing content\n",
    "\n",
    "* \"a\" - Append - will append to the end of the file\n",
    "\n",
    "* **\"x\"** - Create - Creates the specified file, **returns an error if the file exists**"
   ]
  },
  {
   "cell_type": "code",
   "execution_count": 94,
   "metadata": {},
   "outputs": [
    {
     "name": "stdout",
     "output_type": "stream",
     "text": [
      "Some text\n"
     ]
    }
   ],
   "source": [
    "# using 'w'(write) mode \n",
    "file = open(\"newfile.txt\", \"w\")\n",
    "file.write(\"Some text\")\n",
    "file.close()\n",
    "\n",
    "file = open(\"newfile.txt\", \"r\")\n",
    "print(file.read())\n",
    "file.close()"
   ]
  },
  {
   "cell_type": "code",
   "execution_count": 95,
   "metadata": {},
   "outputs": [
    {
     "name": "stdout",
     "output_type": "stream",
     "text": [
      "Some text\n",
      "Some another text\n"
     ]
    }
   ],
   "source": [
    "# using 'a'(append) mode \n",
    "file = open(\"newfile.txt\", \"a\")\n",
    "file.write(\"\\nSome another text\")\n",
    "file.close()\n",
    "\n",
    "file = open(\"newfile.txt\", \"r\")\n",
    "print(file.read())\n",
    "file.close()"
   ]
  },
  {
   "cell_type": "code",
   "execution_count": 96,
   "metadata": {},
   "outputs": [
    {
     "ename": "FileExistsError",
     "evalue": "[Errno 17] File exists: 'newfile.txt'",
     "output_type": "error",
     "traceback": [
      "\u001b[0;31m---------------------------------------------------------------------------\u001b[0m",
      "\u001b[0;31mFileExistsError\u001b[0m                           Traceback (most recent call last)",
      "\u001b[0;32m<ipython-input-96-e09368baaac3>\u001b[0m in \u001b[0;36m<module>\u001b[0;34m\u001b[0m\n\u001b[1;32m      1\u001b[0m \u001b[0;31m# using 'x'(create) mode\u001b[0m\u001b[0;34m\u001b[0m\u001b[0;34m\u001b[0m\u001b[0;34m\u001b[0m\u001b[0m\n\u001b[0;32m----> 2\u001b[0;31m \u001b[0mfile\u001b[0m \u001b[0;34m=\u001b[0m \u001b[0mopen\u001b[0m\u001b[0;34m(\u001b[0m\u001b[0;34m\"newfile.txt\"\u001b[0m\u001b[0;34m,\u001b[0m \u001b[0;34m\"x\"\u001b[0m\u001b[0;34m)\u001b[0m\u001b[0;34m\u001b[0m\u001b[0;34m\u001b[0m\u001b[0m\n\u001b[0m\u001b[1;32m      3\u001b[0m \u001b[0mfile\u001b[0m\u001b[0;34m.\u001b[0m\u001b[0mwrite\u001b[0m\u001b[0;34m(\u001b[0m\u001b[0;34m\"\\nSome text\"\u001b[0m\u001b[0;34m)\u001b[0m\u001b[0;34m\u001b[0m\u001b[0;34m\u001b[0m\u001b[0m\n\u001b[1;32m      4\u001b[0m \u001b[0mfile\u001b[0m\u001b[0;34m.\u001b[0m\u001b[0mclose\u001b[0m\u001b[0;34m(\u001b[0m\u001b[0;34m)\u001b[0m\u001b[0;34m\u001b[0m\u001b[0;34m\u001b[0m\u001b[0m\n\u001b[1;32m      5\u001b[0m \u001b[0;34m\u001b[0m\u001b[0m\n",
      "\u001b[0;31mFileExistsError\u001b[0m: [Errno 17] File exists: 'newfile.txt'"
     ]
    }
   ],
   "source": [
    "# using 'x'(create) mode \n",
    "#case 1\n",
    "file = open(\"newfile.txt\", \"x\")\n",
    "file.write(\"\\nSome text\")\n",
    "file.close()\n",
    "\n",
    "file = open(\"newfile.txt\", \"r\")\n",
    "print(file.read())\n",
    "file.close()"
   ]
  },
  {
   "cell_type": "code",
   "execution_count": 136,
   "metadata": {},
   "outputs": [
    {
     "name": "stdout",
     "output_type": "stream",
     "text": [
      "Some text\n"
     ]
    }
   ],
   "source": [
    "# using 'x'(create) mode \n",
    "#case 2\n",
    "file = open(\"newfile1.txt\", \"x\")\n",
    "file.write(\"Some text\")\n",
    "file.close()\n",
    "\n",
    "file = open(\"newfile1.txt\", \"r\")\n",
    "print(file.read())\n",
    "file.close()"
   ]
  },
  {
   "cell_type": "markdown",
   "metadata": {},
   "source": [
    "### 6.2.3 Deleting Files\n",
    "\n",
    "To delete a file, you must import the `OS` module, and run its `os.remove()` function:"
   ]
  },
  {
   "cell_type": "code",
   "execution_count": 107,
   "metadata": {},
   "outputs": [],
   "source": [
    "import os\n",
    "os.remove('newfile1.txt')"
   ]
  },
  {
   "cell_type": "markdown",
   "metadata": {},
   "source": [
    "### 6.2.4 Checking if file exists \n",
    "To check existance of a file, you must import the `OS` module, and run its `os.path.exists()` function:"
   ]
  },
  {
   "cell_type": "code",
   "execution_count": 108,
   "metadata": {},
   "outputs": [
    {
     "name": "stdout",
     "output_type": "stream",
     "text": [
      "file does not exits.\n"
     ]
    }
   ],
   "source": [
    "import os\n",
    "if os.path.exists('newfile1.txt'):\n",
    "    print('file exists')\n",
    "else:\n",
    "    print('file does not exits.')"
   ]
  },
  {
   "cell_type": "markdown",
   "metadata": {},
   "source": [
    "### 6.2.5 Creating folder\n",
    "\n",
    "To create a folder, you must import the `OS` module, and run its `os.mkdir()` function:"
   ]
  },
  {
   "cell_type": "code",
   "execution_count": 125,
   "metadata": {},
   "outputs": [
    {
     "name": "stdout",
     "output_type": "stream",
     "text": [
      "folder created successfully\n"
     ]
    }
   ],
   "source": [
    "import os \n",
    "os.mkdir('test')\n",
    "print('folder created successfully')"
   ]
  },
  {
   "cell_type": "markdown",
   "metadata": {},
   "source": [
    "#### in order to create nested folders ,  we can use `makedirs()` function"
   ]
  },
  {
   "cell_type": "code",
   "execution_count": 133,
   "metadata": {},
   "outputs": [
    {
     "name": "stdout",
     "output_type": "stream",
     "text": [
      "nested folders created successfully\n"
     ]
    }
   ],
   "source": [
    "import os \n",
    "os.makedirs('test/folder1/folder2/')\n",
    "print('nested folders created successfully')"
   ]
  },
  {
   "cell_type": "markdown",
   "metadata": {},
   "source": [
    "### 6.2.6 Deleting folders\n",
    "in order to delete empty folder,  we can use `rmdir()` function"
   ]
  },
  {
   "cell_type": "code",
   "execution_count": 126,
   "metadata": {},
   "outputs": [
    {
     "name": "stdout",
     "output_type": "stream",
     "text": [
      "folder deleted successfully\n"
     ]
    }
   ],
   "source": [
    "import os \n",
    "os.rmdir('test')\n",
    "print('folder deleted successfully')"
   ]
  },
  {
   "cell_type": "markdown",
   "metadata": {},
   "source": [
    "in order to delete `non-empty` folder,  you must import the `shutil` module, and run its `shutil.rmtree()` function"
   ]
  },
  {
   "cell_type": "code",
   "execution_count": 134,
   "metadata": {},
   "outputs": [
    {
     "name": "stdout",
     "output_type": "stream",
     "text": [
      "non-empty folder deteled successfully\n"
     ]
    }
   ],
   "source": [
    "import shutil\n",
    "\n",
    "shutil.rmtree('test')\n",
    "print('non-empty folder deteled successfully')"
   ]
  },
  {
   "cell_type": "markdown",
   "metadata": {},
   "source": [
    "By design, rmtree fails on folder trees containing read-only files. If you want the folder to be deleted regardless of whether it contains read-only files, then use\n",
    "```python\n",
    "shutil.rmtree('/folder_name', ignore_errors=True)```"
   ]
  },
  {
   "cell_type": "markdown",
   "metadata": {},
   "source": [
    "### 6.2.7 Renaming file or directory\n",
    "To rename a folder or file, you must import the `OS` module, and run its `os.rename()` function:\n",
    "\n",
    "```python\n",
    "os.rename(src, dst)\n",
    "```\n",
    "src: Source is the name of the file or directory. It should must already exist.\n",
    "\n",
    "dst: Destination is the new name of the file or directory you want to change.\n",
    "\n"
   ]
  },
  {
   "cell_type": "code",
   "execution_count": 139,
   "metadata": {},
   "outputs": [
    {
     "name": "stdout",
     "output_type": "stream",
     "text": [
      "file renamed successfully!\n"
     ]
    }
   ],
   "source": [
    "import os\n",
    "\n",
    "os.rename('newfile1.txt','newname.txt')\n",
    "print('file renamed successfully!')\n",
    "\n",
    "#will work same with folders"
   ]
  },
  {
   "cell_type": "markdown",
   "metadata": {},
   "source": [
    "### 6.2.8 geting list of files in a directory"
   ]
  },
  {
   "cell_type": "markdown",
   "metadata": {},
   "source": [
    "In order to get all filenames in a directory, we need to import `glob` module"
   ]
  },
  {
   "cell_type": "code",
   "execution_count": 144,
   "metadata": {},
   "outputs": [
    {
     "name": "stdout",
     "output_type": "stream",
     "text": [
      "04-More on Sequences.ipynb\n",
      "newname.txt\n",
      "PyContent.txt\n",
      "Untitled.ipynb\n",
      "05-Exceptional handling.ipynb\n",
      "03-Functions and Modules.ipynb\n",
      "newfile.txt\n",
      "dsa.png\n",
      "01-Basics of Python.ipynb\n",
      "operator_precedence.jpg\n",
      "02-Flow control.ipynb\n",
      "sample.txt\n"
     ]
    }
   ],
   "source": [
    "from glob import glob\n",
    "\n",
    "filelist=glob('*')\n",
    "for filename in filelist:\n",
    "    print(filename)"
   ]
  },
  {
   "cell_type": "code",
   "execution_count": 145,
   "metadata": {},
   "outputs": [
    {
     "name": "stdout",
     "output_type": "stream",
     "text": [
      "newname.txt\n",
      "PyContent.txt\n",
      "newfile.txt\n",
      "sample.txt\n"
     ]
    }
   ],
   "source": [
    "#geting specific file type\n",
    "from glob import glob\n",
    "\n",
    "filelist=glob('*.txt')\n",
    "for filename in filelist:\n",
    "    print(filename)"
   ]
  },
  {
   "cell_type": "code",
   "execution_count": null,
   "metadata": {},
   "outputs": [],
   "source": []
  }
 ],
 "metadata": {
  "kernelspec": {
   "display_name": "Python 3",
   "language": "python",
   "name": "python3"
  },
  "language_info": {
   "codemirror_mode": {
    "name": "ipython",
    "version": 3
   },
   "file_extension": ".py",
   "mimetype": "text/x-python",
   "name": "python",
   "nbconvert_exporter": "python",
   "pygments_lexer": "ipython3",
   "version": "3.6.8"
  }
 },
 "nbformat": 4,
 "nbformat_minor": 4
}
