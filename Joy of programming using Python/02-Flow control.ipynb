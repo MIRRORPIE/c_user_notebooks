{
 "cells": [
  {
   "cell_type": "markdown",
   "metadata": {},
   "source": [
    "## 2. Flow Control statements:--------->"
   ]
  },
  {
   "cell_type": "markdown",
   "metadata": {},
   "source": [
    "* Flow control determines the order in which the statements are executed at runtime.\n",
    "\n",
    "* They are categorized into conditional statements(if), iterating or looping statements(while and for) and finally transfer statements(break, continue, pass, return)."
   ]
  },
  {
   "cell_type": "markdown",
   "metadata": {},
   "source": [
    "<img src=\"02-images/flow-overview.png\">"
   ]
  },
  {
   "cell_type": "markdown",
   "metadata": {},
   "source": [
    "### 2.1. Conditional statements:(if)\n",
    "\n",
    "* You can use if statements to run code if a certain condition holds.\n",
    "* If an expression evaluates to True, some statements are carried out. Otherwise, they aren't carried out.\n",
    "<br>\n",
    "* An if statement looks like this:\n",
    "<br>\n",
    "if expression: <br>\n",
    ">    statements\n",
    "<br>\n",
    "* Python uses indentation (white space at the beginning of a line) to delimit blocks of code. Other languages, such as C, use curly braces to accomplish this, but in Python indentation is mandatory; programs won't work without it. As you can see, the statements in the if should be indented."
   ]
  },
  {
   "cell_type": "markdown",
   "metadata": {},
   "source": [
    "<img src=\"02-images/if-else-01.png\">"
   ]
  },
  {
   "cell_type": "markdown",
   "metadata": {},
   "source": [
    "<img src=\"02-images/syntax-if-01.png\">"
   ]
  },
  {
   "cell_type": "code",
   "execution_count": 1,
   "metadata": {},
   "outputs": [
    {
     "name": "stdout",
     "output_type": "stream",
     "text": [
      "10 is greater than 5.\n",
      "Program ended.\n"
     ]
    }
   ],
   "source": [
    "# Example:\n",
    "\n",
    "if(10 > 5):\n",
    "    print(\"10 is greater than 5.\")\n",
    "print(\"Program ended.\")"
   ]
  },
  {
   "cell_type": "markdown",
   "metadata": {},
   "source": [
    "<p>\n",
    "    The expression determines whether 10 is greater than five. \n",
    "Since it is, the indented statement runs, and \"10 greater than 5\" is output. \n",
    "Then, the unindented statement, which is not part of the if statement, \n",
    "is run, and \"Program ended\" is displayed. \n",
    "</p>\n",
    "\n",
    "<p>\n",
    "    Notice the colon at the end of the expression in the if statement.\n",
    "</p>"
   ]
  },
  {
   "cell_type": "markdown",
   "metadata": {},
   "source": [
    "<h6>Else</h6>\n",
    "<p>\n",
    "    An else statement follows an if statement, and contains code that is called when the if statement evaluates to False.\n",
    "</p>\n",
    "<p>\n",
    "    As with if statements, the code inside the block should be indented.\n",
    "</p>"
   ]
  },
  {
   "cell_type": "markdown",
   "metadata": {},
   "source": [
    "<img src=\"02-images/syntax-if-else-02.png\">"
   ]
  },
  {
   "cell_type": "code",
   "execution_count": 2,
   "metadata": {},
   "outputs": [
    {
     "name": "stdout",
     "output_type": "stream",
     "text": [
      "No\n"
     ]
    }
   ],
   "source": [
    "# Example:\n",
    "x = 4\n",
    "if x == 5:\n",
    "    print(\"Yes\")\n",
    "else:\n",
    "    print(\"No\")"
   ]
  },
  {
   "cell_type": "code",
   "execution_count": 3,
   "metadata": {},
   "outputs": [
    {
     "name": "stdout",
     "output_type": "stream",
     "text": [
      "Enter a nuimber to check even or odd: 15\n",
      "15 is Odd no.\n"
     ]
    }
   ],
   "source": [
    "\"\"\"\n",
    "Question:\n",
    "Write a program to find that the number is even or odd.\n",
    "\"\"\"\n",
    "\n",
    "n = int(input(\"Enter a nuimber to check even or odd: \"))\n",
    "if(n % 2 == 0):\n",
    "    print(n, \"is Even no.\")\n",
    "else:\n",
    "    print(n, \"is Odd no.\")"
   ]
  },
  {
   "cell_type": "code",
   "execution_count": 4,
   "metadata": {},
   "outputs": [
    {
     "name": "stdout",
     "output_type": "stream",
     "text": [
      "Enter the marks: 87\n",
      "Grade is B\n"
     ]
    }
   ],
   "source": [
    "\"\"\"\n",
    "Question: \n",
    "WAP to get the grades according to the marks.\n",
    "91-100--->A\n",
    "81-90---->B\n",
    "71-80---->C\n",
    "61-70---->D\n",
    "51-60---->E\n",
    "00-50---->Fail\n",
    "\"\"\"\n",
    "# solution 1: ( using only if statement )\n",
    "\n",
    "marks = int(input(\"Enter the marks: \"))\n",
    "if(marks >= 91 and marks <= 100):\n",
    "    print(\"Grade is A\")\n",
    "if(marks >= 81 and marks <= 90):\n",
    "    print(\"Grade is B\")\n",
    "if(marks >= 71 and marks <= 80):\n",
    "    print(\"Grade is C\")\n",
    "if(marks >= 61 and marks <= 70):\n",
    "    print(\"Grade is D\")\n",
    "if(marks >= 51 and marks <= 60):\n",
    "    print(\"Grade is E\")\n",
    "if(marks >= 0 and marks <= 50):\n",
    "    print(\"You are Fail\")"
   ]
  },
  {
   "cell_type": "markdown",
   "metadata": {},
   "source": [
    "<img src=\"02-images/syntax-if-else-ladder-03.png\">"
   ]
  },
  {
   "cell_type": "code",
   "execution_count": 5,
   "metadata": {},
   "outputs": [
    {
     "name": "stdout",
     "output_type": "stream",
     "text": [
      "Enter the marks: 77\n",
      "Grade is C\n"
     ]
    }
   ],
   "source": [
    "# solution 2: ( using if else statements)   -----> if else ladder\n",
    "\n",
    "marks = int(input(\"Enter the marks: \"))\n",
    "if(marks >= 91 and marks <= 100):\n",
    "    print(\"Grade is A\")\n",
    "else:\n",
    "    if(marks >= 81 and marks <= 90):\n",
    "        print(\"Grade is B\")\n",
    "    else:\n",
    "        if(marks >= 71 and marks <= 80):\n",
    "            print(\"Grade is C\")\n",
    "        else:\n",
    "            if(marks >= 61 and marks <= 70):\n",
    "                print(\"Grade is D\")\n",
    "            else:\n",
    "                if(marks >= 51 and marks <= 60):\n",
    "                    print(\"Grade is E\")\n",
    "                else:\n",
    "                    if(marks >= 0 and marks <= 50):\n",
    "                        print(\"You are Fail\")\n",
    "                    else:\n",
    "                        print(\"Marks is invalid\")"
   ]
  },
  {
   "cell_type": "markdown",
   "metadata": {},
   "source": [
    "<img src=\"02-images/syntax-if-elif-else-ladder-04.png\">"
   ]
  },
  {
   "cell_type": "code",
   "execution_count": 6,
   "metadata": {},
   "outputs": [
    {
     "name": "stdout",
     "output_type": "stream",
     "text": [
      "Enter the marks: 67\n",
      "Grade is D\n"
     ]
    }
   ],
   "source": [
    "# solution 3: ( using if, elif and else statements)    ------> (if elif  else ladder)\n",
    "\n",
    "marks = int(input(\"Enter the marks: \"))\n",
    "if(marks >= 91 and marks <= 100):\n",
    "    print(\"Grade is A\")\n",
    "elif(marks >= 81 and marks <= 90):\n",
    "    print(\"Grade is B\")\n",
    "elif(marks >= 71 and marks <= 80):\n",
    "    print(\"Grade is C\")\n",
    "elif(marks >= 61 and marks <= 70):\n",
    "    print(\"Grade is D\")\n",
    "elif(marks >= 51 and marks <= 60):\n",
    "    print(\"Grade is E\")\n",
    "elif(marks >= 0 and marks <= 50):\n",
    "    print(\"You are Fail\")\n",
    "else:\n",
    "    print(\"Marks is invalid.\")"
   ]
  },
  {
   "cell_type": "code",
   "execution_count": 7,
   "metadata": {},
   "outputs": [
    {
     "name": "stdout",
     "output_type": "stream",
     "text": [
      "Enter the three numbers seperated by space: 12 14 18\n",
      "18 is maximum.\n"
     ]
    }
   ],
   "source": [
    "\"\"\"\n",
    "Question: \n",
    "WAP to find the maximum of three numbers.\n",
    "\"\"\"\n",
    "\n",
    "a, b, c = map(int, input(\"Enter the three numbers seperated by space: \").split())\n",
    "if(a > b):\n",
    "    if(a > c):\n",
    "        print(a, \"is maximum.\")\n",
    "    else:\n",
    "        print(c, \"is maximum.\")\n",
    "else:\n",
    "    if(b > c):\n",
    "        print(b, \"is maximum.\")\n",
    "    else:\n",
    "        print(c, \"is maximum.\")"
   ]
  },
  {
   "cell_type": "code",
   "execution_count": null,
   "metadata": {},
   "outputs": [],
   "source": []
  },
  {
   "cell_type": "markdown",
   "metadata": {},
   "source": [
    "### 2.2. Iterating or looping statements:\n",
    "\n",
    "#### 2.2.1. While loop: (conditional looping)\n",
    "\n",
    "* An if statement is run once if its condition evaluates to True, and never if it evaluates to False.\n",
    "* A while statement is similar, except that it can be run more than once. The statements inside it are repeatedly executed, as long as the condition holds. Once it evaluates to False, the next section of code is executed.\n",
    "* Below is a while loop containing a variable that counts up from 1 to 5, at which point the loop terminates."
   ]
  },
  {
   "cell_type": "markdown",
   "metadata": {},
   "source": [
    "<img src=\"02-images/while-loop-02.png\" >\n",
    "<img src=\"02-images/syntax-while-loop-05.png\">"
   ]
  },
  {
   "cell_type": "code",
   "execution_count": 8,
   "metadata": {},
   "outputs": [
    {
     "name": "stdout",
     "output_type": "stream",
     "text": [
      "1\n",
      "2\n",
      "3\n",
      "4\n",
      "5\n",
      "Finished!\n"
     ]
    }
   ],
   "source": [
    "i = 1\n",
    "while(i <= 5):\n",
    "    print(i)\n",
    "    i = i + 1\n",
    "\n",
    "print(\"Finished!\")"
   ]
  },
  {
   "cell_type": "markdown",
   "metadata": {},
   "source": [
    "* The code in the body of a while loop is executed repeatedly. This is called iteration."
   ]
  },
  {
   "cell_type": "code",
   "execution_count": 9,
   "metadata": {},
   "outputs": [
    {
     "name": "stdout",
     "output_type": "stream",
     "text": [
      "1\n",
      "2\n",
      "3\n",
      "4\n",
      "5\n",
      "6\n",
      "7\n",
      "8\n",
      "9\n",
      "10\n",
      "11\n",
      "12\n",
      "13\n",
      "14\n",
      "15\n",
      "16\n",
      "17\n",
      "18\n",
      "19\n",
      "20\n"
     ]
    }
   ],
   "source": [
    "\"\"\"\n",
    "Question:\n",
    "WAP to print the counting number up to 20. (1 to 20)\n",
    "\"\"\"\n",
    "\n",
    "i = 1\n",
    "while(i < 21):\n",
    "    print(i)\n",
    "    i += 1  "
   ]
  },
  {
   "cell_type": "markdown",
   "metadata": {},
   "source": [
    "* The <b>infinite loop</b> is a special kind of while loop; it never stops running. Its condition always remains True.\n",
    "* An example of an infinite loop:"
   ]
  },
  {
   "cell_type": "code",
   "execution_count": 10,
   "metadata": {
    "scrolled": true
   },
   "outputs": [],
   "source": [
    "# This program would indefinitely print \"In the loop\".\n",
    "while(1 == 1):\n",
    "    # print(\"In the loop\")\n",
    "    # infinite loop\n",
    "    break"
   ]
  },
  {
   "cell_type": "markdown",
   "metadata": {},
   "source": [
    "* You can stop the program's execution by using the Ctrl-C shortcut or by closing the program."
   ]
  },
  {
   "cell_type": "code",
   "execution_count": 11,
   "metadata": {},
   "outputs": [
    {
     "name": "stdout",
     "output_type": "stream",
     "text": [
      "Enter the min. number: 12\n",
      "Enter the max. number: 32\n",
      "13\n",
      "15\n",
      "17\n",
      "19\n",
      "21\n",
      "23\n",
      "25\n",
      "27\n",
      "29\n",
      "31\n"
     ]
    }
   ],
   "source": [
    "\"\"\"\n",
    "Question:\n",
    "WAP to print odd numbers between x and y.\n",
    "\"\"\"\n",
    "\n",
    "x = int(input(\"Enter the min. number: \"))\n",
    "y = int(input(\"Enter the max. number: \"))\n",
    "i = x\n",
    "if(i % 2 == 0):\n",
    "    i = i + 1\n",
    "while(i < y):\n",
    "    print(i)\n",
    "    i += 2"
   ]
  },
  {
   "cell_type": "code",
   "execution_count": 12,
   "metadata": {},
   "outputs": [
    {
     "data": {
      "text/plain": [
       "'\\nQuestion:\\nWAP to print\\n'"
      ]
     },
     "execution_count": 12,
     "metadata": {},
     "output_type": "execute_result"
    }
   ],
   "source": [
    "\"\"\"\n",
    "Question:\n",
    "WAP to print\n",
    "\"\"\""
   ]
  },
  {
   "cell_type": "code",
   "execution_count": null,
   "metadata": {},
   "outputs": [],
   "source": []
  },
  {
   "cell_type": "markdown",
   "metadata": {},
   "source": [
    "#### 2.2.2. for loop: (Counting looping)\n",
    "\n",
    "* Sometimes, you need to perform code on each item in a sequence. This is called iteration, and it can be accomplished with a while loop and a counter variable."
   ]
  },
  {
   "cell_type": "markdown",
   "metadata": {},
   "source": [
    "<img src=\"02-images/for-loop-03.png\" >\n",
    "<img src=\"02-images/syntax-for-loop-06.png\">"
   ]
  },
  {
   "cell_type": "code",
   "execution_count": 13,
   "metadata": {},
   "outputs": [
    {
     "name": "stdout",
     "output_type": "stream",
     "text": [
      "hello!\n",
      "world!\n",
      "spam!\n",
      "eggs!\n"
     ]
    }
   ],
   "source": [
    "# Example:\n",
    "\n",
    "words = [\"hello\", \"world\", \"spam\", \"eggs\"]\n",
    "counter = 0\n",
    "max_index = len(words) - 1\n",
    "\n",
    "while counter <= max_index:\n",
    "    word = words[counter]\n",
    "    print(word + \"!\")\n",
    "    counter = counter + 1 "
   ]
  },
  {
   "cell_type": "markdown",
   "metadata": {},
   "source": [
    "* The example above iterates through all items in the list, accesses them using their indices, and prints them with exclamation marks.\n",
    "\n",
    "<br>\n",
    "\n",
    "* Iterating through a list using a while loop requires quite a lot of code, so Python provides the for loop as a shortcut that accomplishes the same thing.\n",
    "* The same code from the previous example can be written with a for loop, as follows:\n",
    "\n"
   ]
  },
  {
   "cell_type": "markdown",
   "metadata": {},
   "source": [
    "* iterate over the elements of the sequences like list, tuple, string, set, range etc"
   ]
  },
  {
   "cell_type": "code",
   "execution_count": 14,
   "metadata": {},
   "outputs": [
    {
     "name": "stdout",
     "output_type": "stream",
     "text": [
      "hello!\n",
      "world!\n",
      "spam!\n",
      "eggs!\n"
     ]
    }
   ],
   "source": [
    "words = [\"hello\", \"world\", \"spam\", \"eggs\"]\n",
    "for word in words:\n",
    "    print(word + \"!\")"
   ]
  },
  {
   "cell_type": "markdown",
   "metadata": {},
   "source": [
    "* The for loop in Python is like the foreach loop in other languages."
   ]
  },
  {
   "cell_type": "markdown",
   "metadata": {},
   "source": [
    "* The for loop is commonly used to repeat some code a certain number of times. This is done by combining for loops with range objects."
   ]
  },
  {
   "cell_type": "code",
   "execution_count": 15,
   "metadata": {},
   "outputs": [
    {
     "name": "stdout",
     "output_type": "stream",
     "text": [
      "Hello!\n",
      "Hello!\n",
      "Hello!\n",
      "Hello!\n",
      "Hello!\n"
     ]
    }
   ],
   "source": [
    "for i in range(5):\n",
    "    print(\"Hello!\")"
   ]
  },
  {
   "cell_type": "code",
   "execution_count": 16,
   "metadata": {},
   "outputs": [
    {
     "name": "stdout",
     "output_type": "stream",
     "text": [
      "0\n",
      "2\n",
      "4\n",
      "6\n",
      "8\n",
      "10\n",
      "12\n",
      "14\n",
      "16\n",
      "18\n"
     ]
    }
   ],
   "source": [
    "for i in range(0, 20, 2):\n",
    "    print(i)"
   ]
  },
  {
   "cell_type": "code",
   "execution_count": 17,
   "metadata": {},
   "outputs": [
    {
     "name": "stdout",
     "output_type": "stream",
     "text": [
      "50\n",
      "51\n",
      "52\n",
      "53\n",
      "54\n",
      "55\n",
      "56\n",
      "57\n",
      "58\n",
      "59\n",
      "60\n",
      "61\n",
      "62\n",
      "63\n",
      "64\n",
      "65\n",
      "66\n",
      "67\n",
      "68\n",
      "69\n",
      "70\n"
     ]
    }
   ],
   "source": [
    "\"\"\"\n",
    "Question:\n",
    "WAP to print the counting number from 50 to 70.\n",
    "\"\"\"\n",
    "\n",
    "for i in range(50, 71, 1):\n",
    "    print(i)"
   ]
  },
  {
   "cell_type": "code",
   "execution_count": 18,
   "metadata": {},
   "outputs": [
    {
     "name": "stdout",
     "output_type": "stream",
     "text": [
      "Enter the numbers in the list seperated by space: 1 2 3 4 5\n",
      "120\n"
     ]
    }
   ],
   "source": [
    "\"\"\"\n",
    "Question:\n",
    "WAP to get the product of the numbers in the list.\n",
    "\"\"\"\n",
    "\n",
    "l = list(map(int, input(\"Enter the numbers in the list seperated by space: \").split()))\n",
    "product = 1\n",
    "for x in l:\n",
    "    product *= x\n",
    "print(product)"
   ]
  },
  {
   "cell_type": "code",
   "execution_count": 19,
   "metadata": {},
   "outputs": [
    {
     "name": "stdout",
     "output_type": "stream",
     "text": [
      "Enter the number: 5\n",
      "5\n",
      "10\n",
      "15\n",
      "20\n",
      "25\n",
      "30\n",
      "35\n",
      "40\n",
      "45\n",
      "50\n"
     ]
    }
   ],
   "source": [
    "\"\"\"\n",
    "Question:\n",
    "WAP to print the multiplication table of a given number.\n",
    "\"\"\"\n",
    "\n",
    "n = int(input(\"Enter the number: \"))\n",
    "for j in range(1, 11):\n",
    "    print(j * n)"
   ]
  },
  {
   "cell_type": "code",
   "execution_count": null,
   "metadata": {},
   "outputs": [],
   "source": []
  },
  {
   "cell_type": "markdown",
   "metadata": {},
   "source": [
    "### 2.3. break, continue, pass and return: (Transfer statements)"
   ]
  },
  {
   "cell_type": "code",
   "execution_count": null,
   "metadata": {},
   "outputs": [],
   "source": []
  },
  {
   "cell_type": "markdown",
   "metadata": {},
   "source": [
    "#### 2.3.1. break:\n",
    "\n",
    "* To end a while loop prematurely, the break statement can be used.\n",
    "* When encountered inside a loop, the break statement causes the loop to finish immediately."
   ]
  },
  {
   "cell_type": "markdown",
   "metadata": {},
   "source": [
    "<img src=\"02-images/break-04.png\">"
   ]
  },
  {
   "cell_type": "code",
   "execution_count": 20,
   "metadata": {},
   "outputs": [
    {
     "name": "stdout",
     "output_type": "stream",
     "text": [
      "3\n",
      "6\n",
      "9\n",
      "Finished\n"
     ]
    }
   ],
   "source": [
    "lst = [3, 6, 9, 5, 12]\n",
    "\n",
    "for i in lst:\n",
    "    if(i == 5):\n",
    "        break\n",
    "    print(i)\n",
    "print(\"Finished\")"
   ]
  },
  {
   "cell_type": "markdown",
   "metadata": {},
   "source": [
    "* Using the break statement outside of a loop causes an error."
   ]
  },
  {
   "cell_type": "code",
   "execution_count": null,
   "metadata": {},
   "outputs": [],
   "source": []
  },
  {
   "cell_type": "markdown",
   "metadata": {},
   "source": [
    "#### 2.3.2. continue:\n",
    "\n",
    "* Another statement that can be used within loops is continue.\n",
    "* Unlike break, continue jumps back to the top of the loop, rather than stopping it."
   ]
  },
  {
   "cell_type": "markdown",
   "metadata": {},
   "source": [
    "<img src=\"02-images/continue-05.png\">"
   ]
  },
  {
   "cell_type": "code",
   "execution_count": 21,
   "metadata": {},
   "outputs": [
    {
     "name": "stdout",
     "output_type": "stream",
     "text": [
      "1\n",
      "Skipping 2\n",
      "3\n",
      "4\n",
      "Breaking\n",
      "Finished\n"
     ]
    }
   ],
   "source": [
    "i = 0\n",
    "while True:\n",
    "    i += 1\n",
    "    if(i == 2):\n",
    "        print(\"Skipping 2\")\n",
    "        continue\n",
    "    if(i == 5):\n",
    "        print(\"Breaking\")\n",
    "        break\n",
    "    print(i)\n",
    "\n",
    "print(\"Finished\")"
   ]
  },
  {
   "cell_type": "markdown",
   "metadata": {},
   "source": [
    "* Basically, the continue statement stops the current iteration and continues with the next one.\n",
    "* Using the continue statement outside of a loop causes an error."
   ]
  },
  {
   "cell_type": "code",
   "execution_count": 22,
   "metadata": {},
   "outputs": [
    {
     "name": "stdout",
     "output_type": "stream",
     "text": [
      "1  2  4  5  7  8  10  11  13  14  16  17  19  20  "
     ]
    }
   ],
   "source": [
    "\"\"\"\n",
    "Question:\n",
    "WAP to print from 1 to 20 and skip the multiples of 3.\n",
    "\"\"\"\n",
    "\n",
    "x = 0\n",
    "while(x < 20):\n",
    "    x += 1\n",
    "    if(x % 3 == 0):\n",
    "        continue\n",
    "    print(x, end = \"  \")"
   ]
  },
  {
   "cell_type": "code",
   "execution_count": null,
   "metadata": {},
   "outputs": [],
   "source": []
  },
  {
   "cell_type": "markdown",
   "metadata": {},
   "source": [
    "#### 2.3.3. pass:\n",
    "\n",
    "* Pass statement is used to do nothing. It can be used inside a loop or if statement to represent no operation. Pass is useful when we need statements syntactically correct but we do not want to do any operation.\n"
   ]
  },
  {
   "cell_type": "markdown",
   "metadata": {},
   "source": [
    "<img src=\"02-images/pass-06.png\">"
   ]
  },
  {
   "cell_type": "code",
   "execution_count": 23,
   "metadata": {},
   "outputs": [],
   "source": [
    "# we can cover this part(assertion) in exceptional handling."
   ]
  },
  {
   "cell_type": "markdown",
   "metadata": {},
   "source": [
    "#### 2.3.4. assert:"
   ]
  },
  {
   "cell_type": "markdown",
   "metadata": {},
   "source": [
    "* An assertion is a sanity-check that you can turn on or turn off when you have finished testing the program.\n",
    "* An expression is tested, and if the result comes up false, an exception is raised.\n",
    "* Assertions are carried out through use of the assert statement."
   ]
  },
  {
   "cell_type": "code",
   "execution_count": 24,
   "metadata": {},
   "outputs": [
    {
     "name": "stdout",
     "output_type": "stream",
     "text": [
      "1\n",
      "2\n"
     ]
    },
    {
     "ename": "AssertionError",
     "evalue": "",
     "output_type": "error",
     "traceback": [
      "\u001b[1;31m---------------------------------------------------------------------------\u001b[0m",
      "\u001b[1;31mAssertionError\u001b[0m                            Traceback (most recent call last)",
      "\u001b[1;32m<ipython-input-24-98aeb3b8a49e>\u001b[0m in \u001b[0;36m<module>\u001b[1;34m\u001b[0m\n\u001b[0;32m      2\u001b[0m \u001b[1;32massert\u001b[0m \u001b[1;36m2\u001b[0m \u001b[1;33m+\u001b[0m \u001b[1;36m2\u001b[0m \u001b[1;33m==\u001b[0m \u001b[1;36m4\u001b[0m\u001b[1;33m\u001b[0m\u001b[1;33m\u001b[0m\u001b[0m\n\u001b[0;32m      3\u001b[0m \u001b[0mprint\u001b[0m\u001b[1;33m(\u001b[0m\u001b[1;36m2\u001b[0m\u001b[1;33m)\u001b[0m\u001b[1;33m\u001b[0m\u001b[1;33m\u001b[0m\u001b[0m\n\u001b[1;32m----> 4\u001b[1;33m \u001b[1;32massert\u001b[0m \u001b[1;36m1\u001b[0m \u001b[1;33m+\u001b[0m \u001b[1;36m1\u001b[0m \u001b[1;33m==\u001b[0m \u001b[1;36m3\u001b[0m\u001b[1;33m\u001b[0m\u001b[1;33m\u001b[0m\u001b[0m\n\u001b[0m\u001b[0;32m      5\u001b[0m \u001b[0mprint\u001b[0m\u001b[1;33m(\u001b[0m\u001b[1;36m3\u001b[0m\u001b[1;33m)\u001b[0m\u001b[1;33m\u001b[0m\u001b[1;33m\u001b[0m\u001b[0m\n",
      "\u001b[1;31mAssertionError\u001b[0m: "
     ]
    }
   ],
   "source": [
    "print(1)\n",
    "assert 2 + 2 == 4\n",
    "print(2)\n",
    "assert 1 + 1 == 3\n",
    "print(3)"
   ]
  },
  {
   "cell_type": "markdown",
   "metadata": {},
   "source": [
    "* Programmers often place assertions at the start of a function to check for valid input, and after a function call to check for valid output."
   ]
  },
  {
   "cell_type": "markdown",
   "metadata": {},
   "source": [
    "* The assert can take a second argument that is passed to the AssertionError raised if the assertion fails."
   ]
  },
  {
   "cell_type": "code",
   "execution_count": 25,
   "metadata": {},
   "outputs": [
    {
     "ename": "AssertionError",
     "evalue": "Colder than absolute zero!",
     "output_type": "error",
     "traceback": [
      "\u001b[1;31m---------------------------------------------------------------------------\u001b[0m",
      "\u001b[1;31mAssertionError\u001b[0m                            Traceback (most recent call last)",
      "\u001b[1;32m<ipython-input-25-b5d283b4e7fd>\u001b[0m in \u001b[0;36m<module>\u001b[1;34m\u001b[0m\n\u001b[0;32m      1\u001b[0m \u001b[0mtemp\u001b[0m \u001b[1;33m=\u001b[0m \u001b[1;33m-\u001b[0m\u001b[1;36m10\u001b[0m\u001b[1;33m\u001b[0m\u001b[1;33m\u001b[0m\u001b[0m\n\u001b[1;32m----> 2\u001b[1;33m \u001b[1;32massert\u001b[0m \u001b[1;33m(\u001b[0m\u001b[0mtemp\u001b[0m \u001b[1;33m>=\u001b[0m \u001b[1;36m0\u001b[0m\u001b[1;33m)\u001b[0m\u001b[1;33m,\u001b[0m \u001b[1;34m\"Colder than absolute zero!\"\u001b[0m\u001b[1;33m\u001b[0m\u001b[1;33m\u001b[0m\u001b[0m\n\u001b[0m",
      "\u001b[1;31mAssertionError\u001b[0m: Colder than absolute zero!"
     ]
    }
   ],
   "source": [
    "temp = -10\n",
    "assert (temp >= 0), \"Colder than absolute zero!\""
   ]
  },
  {
   "cell_type": "code",
   "execution_count": 26,
   "metadata": {},
   "outputs": [
    {
     "name": "stdout",
     "output_type": "stream",
     "text": [
      "Enter a number greater than 10: 5\n"
     ]
    },
    {
     "ename": "AssertionError",
     "evalue": "Wrong number entered",
     "output_type": "error",
     "traceback": [
      "\u001b[1;31m---------------------------------------------------------------------------\u001b[0m",
      "\u001b[1;31mAssertionError\u001b[0m                            Traceback (most recent call last)",
      "\u001b[1;32m<ipython-input-26-50d366c10450>\u001b[0m in \u001b[0;36m<module>\u001b[1;34m\u001b[0m\n\u001b[0;32m      1\u001b[0m \u001b[0mx\u001b[0m \u001b[1;33m=\u001b[0m \u001b[0mint\u001b[0m\u001b[1;33m(\u001b[0m\u001b[0minput\u001b[0m\u001b[1;33m(\u001b[0m\u001b[1;34m\"Enter a number greater than 10: \"\u001b[0m\u001b[1;33m)\u001b[0m\u001b[1;33m)\u001b[0m\u001b[1;33m\u001b[0m\u001b[1;33m\u001b[0m\u001b[0m\n\u001b[1;32m----> 2\u001b[1;33m \u001b[1;32massert\u001b[0m \u001b[0mx\u001b[0m \u001b[1;33m>\u001b[0m \u001b[1;36m10\u001b[0m\u001b[1;33m,\u001b[0m \u001b[1;34m\"Wrong number entered\"\u001b[0m\u001b[1;33m\u001b[0m\u001b[1;33m\u001b[0m\u001b[0m\n\u001b[0m\u001b[0;32m      3\u001b[0m \u001b[0mprint\u001b[0m\u001b[1;33m(\u001b[0m\u001b[1;34m\"You Entered \"\u001b[0m\u001b[1;33m,\u001b[0m \u001b[0mx\u001b[0m\u001b[1;33m)\u001b[0m\u001b[1;33m\u001b[0m\u001b[1;33m\u001b[0m\u001b[0m\n",
      "\u001b[1;31mAssertionError\u001b[0m: Wrong number entered"
     ]
    }
   ],
   "source": [
    "x = int(input(\"Enter a number greater than 10: \"))\n",
    "assert x > 10, \"Wrong number entered\"\n",
    "print(\"You Entered \", x)"
   ]
  },
  {
   "cell_type": "markdown",
   "metadata": {},
   "source": [
    "* AssertionError exceptions can be caught and handled like any other exception using the try-except statement, but if not handled, this type of exception will terminate the program."
   ]
  },
  {
   "cell_type": "code",
   "execution_count": null,
   "metadata": {},
   "outputs": [],
   "source": []
  },
  {
   "cell_type": "code",
   "execution_count": 19,
   "metadata": {},
   "outputs": [],
   "source": [
    "# we will study return in upcoming modules."
   ]
  }
 ],
 "metadata": {
  "kernelspec": {
   "display_name": "Python 3",
   "language": "python",
   "name": "python3"
  },
  "language_info": {
   "codemirror_mode": {
    "name": "ipython",
    "version": 3
   },
   "file_extension": ".py",
   "mimetype": "text/x-python",
   "name": "python",
   "nbconvert_exporter": "python",
   "pygments_lexer": "ipython3",
   "version": "3.6.8"
  }
 },
 "nbformat": 4,
 "nbformat_minor": 2
}
